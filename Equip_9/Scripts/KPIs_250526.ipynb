{
 "cells": [
  {
   "cell_type": "markdown",
   "id": "444622ba",
   "metadata": {},
   "source": [
    "# **KPI's de negoci**"
   ]
  },
  {
   "cell_type": "markdown",
   "id": "d0f40c61",
   "metadata": {},
   "source": [
    "### Libreries"
   ]
  },
  {
   "cell_type": "code",
   "execution_count": 1,
   "id": "0b3895e0",
   "metadata": {},
   "outputs": [
    {
     "ename": "ModuleNotFoundError",
     "evalue": "No module named 'plotly'",
     "output_type": "error",
     "traceback": [
      "\u001b[1;31m---------------------------------------------------------------------------\u001b[0m",
      "\u001b[1;31mModuleNotFoundError\u001b[0m                       Traceback (most recent call last)",
      "Cell \u001b[1;32mIn[1], line 11\u001b[0m\n\u001b[0;32m      9\u001b[0m \u001b[38;5;28;01mimport\u001b[39;00m \u001b[38;5;21;01mmatplotlib\u001b[39;00m\u001b[38;5;21;01m.\u001b[39;00m\u001b[38;5;21;01mpyplot\u001b[39;00m \u001b[38;5;28;01mas\u001b[39;00m \u001b[38;5;21;01mplt\u001b[39;00m     \u001b[38;5;66;03m# Gráficos básicos en 2D\u001b[39;00m\n\u001b[0;32m     10\u001b[0m \u001b[38;5;28;01mimport\u001b[39;00m \u001b[38;5;21;01mseaborn\u001b[39;00m \u001b[38;5;28;01mas\u001b[39;00m \u001b[38;5;21;01msns\u001b[39;00m               \u001b[38;5;66;03m# Gráficos estadísticos mejorados\u001b[39;00m\n\u001b[1;32m---> 11\u001b[0m \u001b[38;5;28;01mimport\u001b[39;00m \u001b[38;5;21;01mplotly\u001b[39;00m\u001b[38;5;21;01m.\u001b[39;00m\u001b[38;5;21;01mexpress\u001b[39;00m \u001b[38;5;28;01mas\u001b[39;00m \u001b[38;5;21;01mpx\u001b[39;00m         \u001b[38;5;66;03m# Gráficos interactivos simplificados\u001b[39;00m\n\u001b[0;32m     12\u001b[0m \u001b[38;5;28;01mimport\u001b[39;00m \u001b[38;5;21;01mplotly\u001b[39;00m\u001b[38;5;21;01m.\u001b[39;00m\u001b[38;5;21;01mgraph_objects\u001b[39;00m \u001b[38;5;28;01mas\u001b[39;00m \u001b[38;5;21;01mgo\u001b[39;00m   \u001b[38;5;66;03m# Control avanzado de gráficos en Plotly\u001b[39;00m\n\u001b[0;32m     13\u001b[0m \u001b[38;5;28;01mimport\u001b[39;00m \u001b[38;5;21;01mplotly\u001b[39;00m\u001b[38;5;21;01m.\u001b[39;00m\u001b[38;5;21;01mio\u001b[39;00m \u001b[38;5;28;01mas\u001b[39;00m \u001b[38;5;21;01mpio\u001b[39;00m             \u001b[38;5;66;03m# Interfaz de entrada/salida de Plotly\u001b[39;00m\n",
      "\u001b[1;31mModuleNotFoundError\u001b[0m: No module named 'plotly'"
     ]
    }
   ],
   "source": [
    "\"\"\"Libreries que poden ser necessàries\"\"\"\n",
    "\n",
    "# Manejo de datos\n",
    "import pandas as pd                 # Análisis y manipulación de datos en tablas\n",
    "import numpy as np                  # Cálculos numéricos y matrices\n",
    "import os                           # Gestión de rutas de archivos\n",
    "\n",
    "# Visualización de datos\n",
    "import matplotlib.pyplot as plt     # Gráficos básicos en 2D\n",
    "import seaborn as sns               # Gráficos estadísticos mejorados\n",
    "import plotly.express as px         # Gráficos interactivos simplificados\n",
    "import plotly.graph_objects as go   # Control avanzado de gráficos en Plotly\n",
    "import plotly.io as pio             # Interfaz de entrada/salida de Plotly\n",
    "# import squarify                   # Visualización de diagramas de \"treemap\" "
   ]
  },
  {
   "cell_type": "markdown",
   "id": "3e4c072e",
   "metadata": {},
   "source": [
    "### Càrrega de dades"
   ]
  },
  {
   "cell_type": "code",
   "execution_count": 3,
   "id": "52369438",
   "metadata": {},
   "outputs": [],
   "source": [
    "df = pd.read_csv(\"../Data/df_250526.csv\")"
   ]
  },
  {
   "cell_type": "markdown",
   "id": "9feeadca",
   "metadata": {},
   "source": [
    "### Variables"
   ]
  },
  {
   "cell_type": "code",
   "execution_count": 10,
   "id": "b388de5d",
   "metadata": {},
   "outputs": [
    {
     "name": "stdout",
     "output_type": "stream",
     "text": [
      "El número total de clientes contactados es: 26180\n",
      "El número de suscriptores es: 12499\n",
      "La duración total de las llamadas a suscriptores es: 6763175\n",
      "El número de llamadas realizadas a teléfono fijo es:  5399\n",
      "El número de llamadas realizadas a móvil es:  45476\n",
      "El número total de llamadas realizadas es:  65801\n",
      "El número total de contactos previos de los suscriptores es: 14668\n",
      "La conversión por mes es:  month\n",
      "Apr    0.630156\n",
      "Aug    0.456259\n",
      "Dec    0.902344\n",
      "Feb    0.576944\n",
      "Jan    0.409548\n",
      "Jul    0.413754\n",
      "Jun    0.446554\n",
      "Mar    0.903374\n",
      "May    0.334334\n",
      "Nov    0.426036\n",
      "Oct    0.838816\n",
      "Sep    0.844941\n",
      "Name: deposit, dtype: float64\n",
      "La conversión por día de la semana es:  weekday\n",
      "Friday       0.694000\n",
      "Monday       0.460220\n",
      "Saturday     0.657333\n",
      "Sunday       0.489366\n",
      "Thursday     0.328107\n",
      "Tuesday      0.469968\n",
      "Wednesday    0.407554\n",
      "Name: deposit, dtype: float64\n",
      "La conversión por día del mes es:  day\n",
      "1     0.757143\n",
      "2     0.558426\n",
      "3     0.570621\n",
      "4     0.563599\n",
      "5     0.438675\n",
      "6     0.419173\n",
      "7     0.388701\n",
      "8     0.496000\n",
      "9     0.493961\n",
      "10    0.761155\n",
      "11    0.481523\n",
      "12    0.559606\n",
      "13    0.530189\n",
      "14    0.459509\n",
      "15    0.510942\n",
      "16    0.524260\n",
      "17    0.439516\n",
      "18    0.413505\n",
      "19    0.313501\n",
      "20    0.362472\n",
      "21    0.459738\n",
      "22    0.578025\n",
      "23    0.516187\n",
      "24    0.522968\n",
      "25    0.591985\n",
      "26    0.467446\n",
      "27    0.522124\n",
      "28    0.356566\n",
      "29    0.337079\n",
      "30    0.562724\n",
      "31    0.323529\n",
      "Name: deposit, dtype: float64\n",
      "El número de suscrpiptores previos que volvieron a contratar es : 14668\n",
      "La tasa de conversión de suscriptores previos es:  56.02750190985485\n"
     ]
    }
   ],
   "source": [
    "\n",
    "# Variables \n",
    "contactados   = df.nunique().id                                     # Número total de clientes contactados\n",
    "suscribieron  = df[df['deposit'] == True].nunique().id             # Número de clientes que suscribieron \n",
    "duracion_llam = df[df['deposit'] == True].duration.sum()           # Duración de llamadas a suscriptores\n",
    "llam_telf = df[df['contact'] == 'telephone']['campaign'].sum()      # Número de llamadas realizadas por teléfono\n",
    "llam_cell = df[df['contact'] == 'cellular']['campaign'].sum()       # Número de llamadas realizadas por movil\n",
    "llam = df['campaign'].sum()                                         # Número total de llamadas\n",
    "contatos_previos_sus = df[df['deposit'] == True]['previous'].sum() # Número de contactos previos a suscriptores\n",
    "suscribieron_por_mes = df[df['deposit'] == True].groupby('month').count()['deposit']  # Suscriptores en el mes\n",
    "contactos_por_mes = df.groupby('month').count()['deposit']          # clientes contactados en el mes      \n",
    "conversion_por_mes = suscribieron_por_mes / contactos_por_mes       # conversión por mes\n",
    "contatos_previos_sus = df[df['deposit'] == True]['previous'].sum() \n",
    "tasa_previos_sus = (contatos_previos_sus) /(contactados)*100\n",
    "df['weekday'] = pd.to_datetime(df['date']).dt.day_name()\n",
    "df['day'] = pd.to_datetime(df['date']).dt.day\n",
    "\n",
    "weekday_conversion = df.groupby(\"weekday\")[\"deposit\"].mean()\n",
    "day_conversion = df.groupby(\"day\")[\"deposit\"].mean()\n",
    "\n",
    "\n",
    "# Prints\n",
    "print(\"El número total de clientes contactados es:\",contactados)\n",
    "print(\"El número de suscriptores es:\",suscribieron)\n",
    "print(\"La duración total de las llamadas a suscriptores es:\",duracion_llam)\n",
    "print(\"El número de llamadas realizadas a teléfono fijo es: \", llam_telf)\n",
    "print(\"El número de llamadas realizadas a móvil es: \", llam_cell)\n",
    "print(\"El número total de llamadas realizadas es: \", llam)\n",
    "print(\"El número total de contactos previos de los suscriptores es:\", contatos_previos_sus)\n",
    "print(\"La conversión por mes es: \", conversion_por_mes)\n",
    "print(\"La conversión por día de la semana es: \", weekday_conversion)\n",
    "print(\"La conversión por día del mes es: \", day_conversion)\n",
    "print(\"El número de suscrpiptores previos que volvieron a contratar es :\", contatos_previos_sus)\n",
    "print(\"La tasa de conversión de suscriptores previos es: \", tasa_previos_sus)\n",
    "\n"
   ]
  },
  {
   "cell_type": "markdown",
   "id": "fe166662",
   "metadata": {},
   "source": [
    "## KPIs"
   ]
  },
  {
   "cell_type": "code",
   "execution_count": null,
   "id": "ba09bad8",
   "metadata": {},
   "outputs": [
    {
     "name": "stdout",
     "output_type": "stream",
     "text": [
      "KPI 1: El porcentaje de conversión a depósito es  47.74255156608098 %\n",
      "KPI 2: La duración media de las llamadas a suscriptores 541.0972877830227\n",
      "KPI 3: El porcentaje de llamadas realizadas por teléfono es  8.205042476558107 %\n",
      "KPI 4: El porcentaje de llamadas realizadas por móvil es  8.205042476558107 %\n",
      "KPI 5: El porcentaje de contactos previos a suscriptores es  0.6911141168067355\n",
      "KPI 6: El mes con mejor conversión ha sido  Mar on una tasa de conversión de 0.9033742331288344\n",
      "KPI 7: El dia del mes con mejor conversión ha sido 10 con una tasa de conversión de 0.7611548556430446\n",
      "KPI 8: El dia de la semana con mejor conversión ha sido Friday con una tasa de conversión de 0.694\n"
     ]
    }
   ],
   "source": [
    "#KPIs\n",
    "kpi1 = suscribieron/contactados          # porcentaje de conversión a depósito\n",
    "kpi2 = duracion_llam/suscribieron        # promedio de duración de llamadas a suscriptores\n",
    "kpi3 = llam_telf/llam                # porcentaje de llamadas a teléfono\n",
    "kpi4 = llam_cell/llam               # porcentaje de llamadas a móvil\n",
    "kpi5 = contatos_previos_sus/suscribieron # promedio de contactos previos a suscriptores\n",
    "kpi6 = conversion_por_mes.idxmax()       # mes con mayor tasa de conversión\n",
    "kpi6_tasa = conversion_por_mes.max()     # tasa de conversión del mes con mayor tasa de conversión\n",
    "kpi7_dia_mes = day_conversion.idxmax()\n",
    "kpi7_tasa = day_conversion.max()\n",
    "kpi8_dia_semana = weekday_conversion.idxmax()\n",
    "kpi8_tasa = weekday_conversion.max()\n",
    "\n",
    "\n",
    "\n",
    "\n",
    "\n",
    "\n",
    "# Prints\n",
    "print(\"KPI 1: El porcentaje de conversión a depósito es \",kpi1*100,\"%\")\n",
    "print(\"KPI 2: La duración media de las llamadas a suscriptores\",kpi2)\n",
    "print(\"KPI 3: El porcentaje de llamadas realizadas por teléfono es \",kpi3*100,\"%\")\n",
    "print(\"KPI 4: El porcentaje de llamadas realizadas por móvil es \",kpi3*100,\"%\")\n",
    "print(\"KPI 5: El porcentaje de contactos previos a suscriptores es \",kpi4)\n",
    "print(\"KPI 6: El mes con mejor conversión ha sido \", kpi6, \"on una tasa de conversión de\", kpi6_tasa)\n",
    "print(\"KPI 7: El dia del mes con mejor conversión ha sido\", kpi7_dia_mes, \"con una tasa de conversión de\", kpi7_tasa)\n",
    "print(\"KPI 8: El dia de la semana con mejor conversión ha sido\", kpi8_dia_semana, \"con una tasa de conversión de\", kpi8_tasa)"
   ]
  }
 ],
 "metadata": {
  "kernelspec": {
   "display_name": "myenv",
   "language": "python",
   "name": "python3"
  },
  "language_info": {
   "codemirror_mode": {
    "name": "ipython",
    "version": 3
   },
   "file_extension": ".py",
   "mimetype": "text/x-python",
   "name": "python",
   "nbconvert_exporter": "python",
   "pygments_lexer": "ipython3",
   "version": "3.12.7"
  }
 },
 "nbformat": 4,
 "nbformat_minor": 5
}
