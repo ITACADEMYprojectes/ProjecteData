{
 "cells": [
  {
   "cell_type": "markdown",
   "id": "508d4d6a",
   "metadata": {},
   "source": [
    "# TABLA 2074"
   ]
  },
  {
   "cell_type": "markdown",
   "id": "51da7457",
   "metadata": {},
   "source": [
    "## Librerias"
   ]
  },
  {
   "cell_type": "code",
   "execution_count": 2,
   "id": "c62351ee",
   "metadata": {},
   "outputs": [],
   "source": [
    "import pandas as pd\n",
    "import os\n",
    "import matplotlib.pyplot as plt\n",
    "import seaborn as sns\n",
    "\n",
    "from pprint import pprint\n"
   ]
  },
  {
   "cell_type": "markdown",
   "id": "84b3197c",
   "metadata": {},
   "source": [
    "## Carregar el fitxer"
   ]
  },
  {
   "cell_type": "code",
   "execution_count": 14,
   "id": "82a12ab2",
   "metadata": {},
   "outputs": [
    {
     "name": "stdout",
     "output_type": "stream",
     "text": [
      "Fitxer 2074.csv carregat correctament com a df_2074.\n",
      "Fitxer 2065.csv carregat correctament com a df_2065.\n",
      "Fitxer 2038.csv carregat correctament com a df_2038.\n",
      "\n",
      "Primeres files de df_2074:\n",
      "  Totales Territoriales Comunidades y Ciudades Autónomas Provincias  \\\n",
      "0        Total Nacional                              NaN        NaN   \n",
      "1        Total Nacional                              NaN        NaN   \n",
      "2        Total Nacional                              NaN        NaN   \n",
      "3        Total Nacional                              NaN        NaN   \n",
      "4        Total Nacional                              NaN        NaN   \n",
      "\n",
      "  Viajeros y pernoctaciones Residencia: Nivel 1 Residencia: Nivel 2  Periodo  \\\n",
      "0                   Viajero               Total                 NaN  2025M03   \n",
      "1                   Viajero               Total                 NaN  2025M02   \n",
      "2                   Viajero               Total                 NaN  2025M01   \n",
      "3                   Viajero               Total                 NaN  2024M12   \n",
      "4                   Viajero               Total                 NaN  2024M11   \n",
      "\n",
      "       Total  \n",
      "0  7.680.722  \n",
      "1  6.539.960  \n",
      "2  5.776.075  \n",
      "3  6.553.489  \n",
      "4  7.171.221  \n",
      "\n",
      "Primeres files de df_2065:\n",
      "  Totales Territoriales Comunidades y Ciudades Autónomas Provincias  Periodo  \\\n",
      "0        Total Nacional                              NaN        NaN  2025M03   \n",
      "1        Total Nacional                              NaN        NaN  2025M02   \n",
      "2        Total Nacional                              NaN        NaN  2025M01   \n",
      "3        Total Nacional                              NaN        NaN  2024M12   \n",
      "4        Total Nacional                              NaN        NaN  2024M11   \n",
      "\n",
      "  Total  \n",
      "0  2,91  \n",
      "1  2,82  \n",
      "2  2,93  \n",
      "3  2,75  \n",
      "4   2,8  \n",
      "\n",
      "Primeres files de df_2038:\n",
      "  RESIDENCIA/ORIGEN Países Viajeros y pernoctaciones  Periodo      Total\n",
      "0             Total    NaN                   Viajero  2025M03  7.680.722\n",
      "1             Total    NaN                   Viajero  2025M02  6.539.960\n",
      "2             Total    NaN                   Viajero  2025M01  5.776.075\n",
      "3             Total    NaN                   Viajero  2024M12  6.553.489\n",
      "4             Total    NaN                   Viajero  2024M11  7.171.221\n"
     ]
    }
   ],
   "source": [
    "# Obtener la ruta actual del notebook o del entorno interactivo\n",
    "script_dir = os.getcwd()  # Esto es el directorio donde está abierto el notebook\n",
    "\n",
    "# Ruta relativa desde Script/ a Data/\n",
    "carpeta_ine = os.path.normpath(os.path.join(script_dir, '..', 'Data'))\n",
    "# Diccionari per guardar els DataFrames carregats\n",
    "df_ine = {}\n",
    "\n",
    "# Llista d'arxius CSV amb els seus noms específics\n",
    "arxius_csv_ine = {\n",
    "    'df_2074': '2074.csv',\n",
    "    'df_2065': '2065.csv',\n",
    "    'df_2038': '2038.csv'\n",
    "}\n",
    "\n",
    "# Iterem sobre els arxius i carreguem cadascun\n",
    "for nom_df, arxiu in arxius_csv_ine.items():\n",
    "    ruta_csv = os.path.join(carpeta_ine, arxiu)\n",
    "    \n",
    "    try:\n",
    "        # Carreguem el fitxer amb l'encoding utf-8-sig per eliminar el BOM\n",
    "        df_ine[nom_df] = pd.read_csv(\n",
    "            ruta_csv,\n",
    "            sep='\\t',              # Separador CSV tabuladores\n",
    "            encoding='utf-8-sig', # Codificació per evitar problemes amb BOM\n",
    "            low_memory=False      # Evitem warnings de tipus de dades\n",
    "        )\n",
    "        print(f\"Fitxer {arxiu} carregat correctament com a {nom_df}.\")\n",
    "    except Exception as e:\n",
    "        print(f\"Error carregant el fitxer {arxiu}: {e}\")\n",
    "\n",
    "# Mostrem les primeres files dels arxius carregats\n",
    "for nom_df, df in df_ine.items():\n",
    "    print(f\"\\nPrimeres files de {nom_df}:\")\n",
    "    print(df.head())"
   ]
  },
  {
   "cell_type": "markdown",
   "id": "26aa6322",
   "metadata": {},
   "source": [
    "# Netejar dade"
   ]
  },
  {
   "cell_type": "code",
   "execution_count": 8,
   "id": "269017e5",
   "metadata": {},
   "outputs": [
    {
     "name": "stdout",
     "output_type": "stream",
     "text": [
      "Neteja aplicada a la columna 'Total' de df_2074\n",
      "Neteja aplicada a la columna 'Total' de df_2065\n",
      "Neteja aplicada a la columna 'Total' de df_2038\n"
     ]
    }
   ],
   "source": [
    "# Recorrem tots els DataFrames carregats al diccionari df_ine\n",
    "for nom_df, df in df_ine.items():\n",
    "    if 'Total' in df.columns:\n",
    "        df_ine[nom_df]['Total'] = (\n",
    "            df['Total']\n",
    "            .astype(str)\n",
    "            .str.replace('.', '', regex=False)  # Elimina punts dels milers\n",
    "            .str.replace(',', '.', regex=False)  # Converteix coma a punt decimal\n",
    "        )\n",
    "        # Convertim a numèric\n",
    "        df_ine[nom_df]['Total'] = pd.to_numeric(df_ine[nom_df]['Total'], errors='coerce')\n",
    "        print(f\"Neteja aplicada a la columna 'Total' de {nom_df}\")\n",
    "    else:\n",
    "        print(f\"El DataFrame {nom_df} no té una columna 'Total'.\")\n"
   ]
  },
  {
   "cell_type": "markdown",
   "id": "06dda2cd",
   "metadata": {},
   "source": [
    "# Assignar dataframe"
   ]
  },
  {
   "cell_type": "code",
   "execution_count": 18,
   "id": "60957ed9",
   "metadata": {},
   "outputs": [],
   "source": [
    "# Assignar els DataFrames\n",
    "df_2074 = df_ine['df_2074']\n",
    "df_2065 = df_ine['df_2065']\n",
    "df_2038 = df_ine['df_2038']"
   ]
  },
  {
   "cell_type": "markdown",
   "id": "b8235d1a",
   "metadata": {},
   "source": [
    "# Exploració df_2074"
   ]
  },
  {
   "cell_type": "code",
   "execution_count": 19,
   "id": "d6803a28",
   "metadata": {},
   "outputs": [
    {
     "name": "stdout",
     "output_type": "stream",
     "text": [
      "<class 'pandas.core.frame.DataFrame'>\n",
      "RangeIndex: 132300 entries, 0 to 132299\n",
      "Data columns (total 8 columns):\n",
      " #   Column                            Non-Null Count   Dtype \n",
      "---  ------                            --------------   ----- \n",
      " 0   Totales Territoriales             132300 non-null  object\n",
      " 1   Comunidades y Ciudades Autónomas  130410 non-null  object\n",
      " 2   Provincias                        94500 non-null   object\n",
      " 3   Viajeros y pernoctaciones         132300 non-null  object\n",
      " 4   Residencia: Nivel 1               132300 non-null  object\n",
      " 5   Residencia: Nivel 2               88200 non-null   object\n",
      " 6   Periodo                           132300 non-null  object\n",
      " 7   Total                             132290 non-null  object\n",
      "dtypes: object(8)\n",
      "memory usage: 8.1+ MB\n"
     ]
    }
   ],
   "source": [
    "df_2074.info()\n"
   ]
  },
  {
   "cell_type": "code",
   "execution_count": 20,
   "id": "0e557159",
   "metadata": {},
   "outputs": [
    {
     "data": {
      "text/plain": [
       "<bound method NDFrame.describe of        Totales Territoriales Comunidades y Ciudades Autónomas Provincias  \\\n",
       "0             Total Nacional                              NaN        NaN   \n",
       "1             Total Nacional                              NaN        NaN   \n",
       "2             Total Nacional                              NaN        NaN   \n",
       "3             Total Nacional                              NaN        NaN   \n",
       "4             Total Nacional                              NaN        NaN   \n",
       "...                      ...                              ...        ...   \n",
       "132295        Total Nacional                       19 Melilla        NaN   \n",
       "132296        Total Nacional                       19 Melilla        NaN   \n",
       "132297        Total Nacional                       19 Melilla        NaN   \n",
       "132298        Total Nacional                       19 Melilla        NaN   \n",
       "132299        Total Nacional                       19 Melilla        NaN   \n",
       "\n",
       "       Viajeros y pernoctaciones Residencia: Nivel 1  \\\n",
       "0                        Viajero               Total   \n",
       "1                        Viajero               Total   \n",
       "2                        Viajero               Total   \n",
       "3                        Viajero               Total   \n",
       "4                        Viajero               Total   \n",
       "...                          ...                 ...   \n",
       "132295            Pernoctaciones               Total   \n",
       "132296            Pernoctaciones               Total   \n",
       "132297            Pernoctaciones               Total   \n",
       "132298            Pernoctaciones               Total   \n",
       "132299            Pernoctaciones               Total   \n",
       "\n",
       "                Residencia: Nivel 2  Periodo      Total  \n",
       "0                               NaN  2025M03  7.680.722  \n",
       "1                               NaN  2025M02  6.539.960  \n",
       "2                               NaN  2025M01  5.776.075  \n",
       "3                               NaN  2024M12  6.553.489  \n",
       "4                               NaN  2024M11  7.171.221  \n",
       "...                             ...      ...        ...  \n",
       "132295  Residentes en el Extranjero  1999M05      1.305  \n",
       "132296  Residentes en el Extranjero  1999M04      1.668  \n",
       "132297  Residentes en el Extranjero  1999M03      1.673  \n",
       "132298  Residentes en el Extranjero  1999M02      1.487  \n",
       "132299  Residentes en el Extranjero  1999M01      1.148  \n",
       "\n",
       "[132300 rows x 8 columns]>"
      ]
     },
     "execution_count": 20,
     "metadata": {},
     "output_type": "execute_result"
    }
   ],
   "source": [
    "df_2074.describe"
   ]
  },
  {
   "cell_type": "code",
   "execution_count": 23,
   "id": "94a18c4e",
   "metadata": {},
   "outputs": [
    {
     "data": {
      "text/plain": [
       "Index(['Totales Territoriales', 'Comunidades y Ciudades Autónomas',\n",
       "       'Provincias', 'Viajeros y pernoctaciones', 'Residencia: Nivel 1',\n",
       "       'Residencia: Nivel 2', 'Periodo', 'Total'],\n",
       "      dtype='object')"
      ]
     },
     "execution_count": 23,
     "metadata": {},
     "output_type": "execute_result"
    }
   ],
   "source": [
    "df_2074.columns"
   ]
  },
  {
   "cell_type": "markdown",
   "id": "669f834e",
   "metadata": {},
   "source": [
    "## Ver datos únicos por columnas"
   ]
  },
  {
   "cell_type": "code",
   "execution_count": 26,
   "id": "a1102bbb",
   "metadata": {},
   "outputs": [
    {
     "data": {
      "text/plain": [
       "array(['Total Nacional'], dtype=object)"
      ]
     },
     "execution_count": 26,
     "metadata": {},
     "output_type": "execute_result"
    }
   ],
   "source": [
    "df_2074['Totales Territoriales'].unique()"
   ]
  },
  {
   "cell_type": "code",
   "execution_count": 21,
   "id": "30aa4e98",
   "metadata": {},
   "outputs": [
    {
     "data": {
      "text/plain": [
       "array([nan, '01 Andalucía', '02 Aragón', '03 Asturias, Principado de',\n",
       "       '04 Balears, Illes', '05 Canarias', '06 Cantabria',\n",
       "       '07 Castilla y León', '08 Castilla - La Mancha', '09 Cataluña',\n",
       "       '10 Comunitat Valenciana', '11 Extremadura', '12 Galicia',\n",
       "       '13 Madrid, Comunidad de', '14 Murcia, Región de',\n",
       "       '15 Navarra, Comunidad Foral de', '16 País Vasco', '17 Rioja, La',\n",
       "       '18 Ceuta', '19 Melilla'], dtype=object)"
      ]
     },
     "execution_count": 21,
     "metadata": {},
     "output_type": "execute_result"
    }
   ],
   "source": [
    "df_2074['Comunidades y Ciudades Autónomas'].unique()"
   ]
  },
  {
   "cell_type": "code",
   "execution_count": 25,
   "id": "83ebf9b3",
   "metadata": {},
   "outputs": [
    {
     "data": {
      "text/plain": [
       "array([nan, '04 Almería', '11 Cádiz', '14 Córdoba', '18 Granada',\n",
       "       '21 Huelva', '23 Jaén', '29 Málaga', '41 Sevilla', '22 Huesca',\n",
       "       '44 Teruel', '50 Zaragoza', '33 Asturias', '07 Balears, Illes',\n",
       "       '35 Palmas, Las', '38 Santa Cruz de Tenerife', '39 Cantabria',\n",
       "       '05 Ávila', '09 Burgos', '24 León', '34 Palencia', '37 Salamanca',\n",
       "       '40 Segovia', '42 Soria', '47 Valladolid', '49 Zamora',\n",
       "       '02 Albacete', '13 Ciudad Real', '16 Cuenca', '19 Guadalajara',\n",
       "       '45 Toledo', '08 Barcelona', '17 Girona', '25 Lleida',\n",
       "       '43 Tarragona', '03 Alicante/Alacant', '12 Castellón/Castelló',\n",
       "       '46 Valencia/València', '06 Badajoz', '10 Cáceres', '15 Coruña, A',\n",
       "       '27 Lugo', '32 Ourense', '36 Pontevedra', '28 Madrid', '30 Murcia',\n",
       "       '31 Navarra', '01 Araba/Álava', '48 Bizkaia', '20 Gipuzkoa',\n",
       "       '26 Rioja, La'], dtype=object)"
      ]
     },
     "execution_count": 25,
     "metadata": {},
     "output_type": "execute_result"
    }
   ],
   "source": [
    "df_2074['Provincias'].unique()"
   ]
  },
  {
   "cell_type": "code",
   "execution_count": 27,
   "id": "974f84d3",
   "metadata": {},
   "outputs": [
    {
     "data": {
      "text/plain": [
       "array(['Viajero', 'Pernoctaciones'], dtype=object)"
      ]
     },
     "execution_count": 27,
     "metadata": {},
     "output_type": "execute_result"
    }
   ],
   "source": [
    "df_2074['Viajeros y pernoctaciones'].unique()"
   ]
  },
  {
   "cell_type": "code",
   "execution_count": null,
   "id": "240dcac9",
   "metadata": {},
   "outputs": [
    {
     "data": {
      "text/plain": [
       "array(['Total'], dtype=object)"
      ]
     },
     "execution_count": 28,
     "metadata": {},
     "output_type": "execute_result"
    }
   ],
   "source": [
    "df_2074['Residencia: Nivel 1'].unique()"
   ]
  },
  {
   "cell_type": "code",
   "execution_count": 29,
   "id": "cbdd9ec0",
   "metadata": {},
   "outputs": [
    {
     "data": {
      "text/plain": [
       "array([nan, 'Residentes en España', 'Residentes en el Extranjero'],\n",
       "      dtype=object)"
      ]
     },
     "execution_count": 29,
     "metadata": {},
     "output_type": "execute_result"
    }
   ],
   "source": [
    "df_2074['Residencia: Nivel 2'].unique()"
   ]
  },
  {
   "cell_type": "code",
   "execution_count": 30,
   "id": "2eb05208",
   "metadata": {},
   "outputs": [
    {
     "data": {
      "text/plain": [
       "array(['2025M03', '2025M02', '2025M01', '2024M12', '2024M11', '2024M10',\n",
       "       '2024M09', '2024M08', '2024M07', '2024M06', '2024M05', '2024M04',\n",
       "       '2024M03', '2024M02', '2024M01', '2023M12', '2023M11', '2023M10',\n",
       "       '2023M09', '2023M08', '2023M07', '2023M06', '2023M05', '2023M04',\n",
       "       '2023M03', '2023M02', '2023M01', '2022M12', '2022M11', '2022M10',\n",
       "       '2022M09', '2022M08', '2022M07', '2022M06', '2022M05', '2022M04',\n",
       "       '2022M03', '2022M02', '2022M01', '2021M12', '2021M11', '2021M10',\n",
       "       '2021M09', '2021M08', '2021M07', '2021M06', '2021M05', '2021M04',\n",
       "       '2021M03', '2021M02', '2021M01', '2020M12', '2020M11', '2020M10',\n",
       "       '2020M09', '2020M08', '2020M07', '2020M06', '2020M05', '2020M04',\n",
       "       '2020M03', '2020M02', '2020M01', '2019M12', '2019M11', '2019M10',\n",
       "       '2019M09', '2019M08', '2019M07', '2019M06', '2019M05', '2019M04',\n",
       "       '2019M03', '2019M02', '2019M01', '2018M12', '2018M11', '2018M10',\n",
       "       '2018M09', '2018M08', '2018M07', '2018M06', '2018M05', '2018M04',\n",
       "       '2018M03', '2018M02', '2018M01', '2017M12', '2017M11', '2017M10',\n",
       "       '2017M09', '2017M08', '2017M07', '2017M06', '2017M05', '2017M04',\n",
       "       '2017M03', '2017M02', '2017M01', '2016M12', '2016M11', '2016M10',\n",
       "       '2016M09', '2016M08', '2016M07', '2016M06', '2016M05', '2016M04',\n",
       "       '2016M03', '2016M02', '2016M01', '2015M12', '2015M11', '2015M10',\n",
       "       '2015M09', '2015M08', '2015M07', '2015M06', '2015M05', '2015M04',\n",
       "       '2015M03', '2015M02', '2015M01', '2014M12', '2014M11', '2014M10',\n",
       "       '2014M09', '2014M08', '2014M07', '2014M06', '2014M05', '2014M04',\n",
       "       '2014M03', '2014M02', '2014M01', '2013M12', '2013M11', '2013M10',\n",
       "       '2013M09', '2013M08', '2013M07', '2013M06', '2013M05', '2013M04',\n",
       "       '2013M03', '2013M02', '2013M01', '2012M12', '2012M11', '2012M10',\n",
       "       '2012M09', '2012M08', '2012M07', '2012M06', '2012M05', '2012M04',\n",
       "       '2012M03', '2012M02', '2012M01', '2011M12', '2011M11', '2011M10',\n",
       "       '2011M09', '2011M08', '2011M07', '2011M06', '2011M05', '2011M04',\n",
       "       '2011M03', '2011M02', '2011M01', '2010M12', '2010M11', '2010M10',\n",
       "       '2010M09', '2010M08', '2010M07', '2010M06', '2010M05', '2010M04',\n",
       "       '2010M03', '2010M02', '2010M01', '2009M12', '2009M11', '2009M10',\n",
       "       '2009M09', '2009M08', '2009M07', '2009M06', '2009M05', '2009M04',\n",
       "       '2009M03', '2009M02', '2009M01', '2008M12', '2008M11', '2008M10',\n",
       "       '2008M09', '2008M08', '2008M07', '2008M06', '2008M05', '2008M04',\n",
       "       '2008M03', '2008M02', '2008M01', '2007M12', '2007M11', '2007M10',\n",
       "       '2007M09', '2007M08', '2007M07', '2007M06', '2007M05', '2007M04',\n",
       "       '2007M03', '2007M02', '2007M01', '2006M12', '2006M11', '2006M10',\n",
       "       '2006M09', '2006M08', '2006M07', '2006M06', '2006M05', '2006M04',\n",
       "       '2006M03', '2006M02', '2006M01', '2005M12', '2005M11', '2005M10',\n",
       "       '2005M09', '2005M08', '2005M07', '2005M06', '2005M05', '2005M04',\n",
       "       '2005M03', '2005M02', '2005M01', '2004M12', '2004M11', '2004M10',\n",
       "       '2004M09', '2004M08', '2004M07', '2004M06', '2004M05', '2004M04',\n",
       "       '2004M03', '2004M02', '2004M01', '2003M12', '2003M11', '2003M10',\n",
       "       '2003M09', '2003M08', '2003M07', '2003M06', '2003M05', '2003M04',\n",
       "       '2003M03', '2003M02', '2003M01', '2002M12', '2002M11', '2002M10',\n",
       "       '2002M09', '2002M08', '2002M07', '2002M06', '2002M05', '2002M04',\n",
       "       '2002M03', '2002M02', '2002M01', '2001M12', '2001M11', '2001M10',\n",
       "       '2001M09', '2001M08', '2001M07', '2001M06', '2001M05', '2001M04',\n",
       "       '2001M03', '2001M02', '2001M01', '2000M12', '2000M11', '2000M10',\n",
       "       '2000M09', '2000M08', '2000M07', '2000M06', '2000M05', '2000M04',\n",
       "       '2000M03', '2000M02', '2000M01', '1999M12', '1999M11', '1999M10',\n",
       "       '1999M09', '1999M08', '1999M07', '1999M06', '1999M05', '1999M04',\n",
       "       '1999M03', '1999M02', '1999M01'], dtype=object)"
      ]
     },
     "execution_count": 30,
     "metadata": {},
     "output_type": "execute_result"
    }
   ],
   "source": [
    "df_2074['Periodo'].unique()"
   ]
  },
  {
   "cell_type": "markdown",
   "id": "36bfc4d7",
   "metadata": {},
   "source": [
    "# Afegir columna \"Año\" i \"Mes\""
   ]
  },
  {
   "cell_type": "code",
   "execution_count": 54,
   "id": "887a7b68",
   "metadata": {},
   "outputs": [
    {
     "name": "stdout",
     "output_type": "stream",
     "text": [
      "Columnas de df_2074: Index(['Totales Territoriales', 'Comunidades y Ciudades Autónomas',\n",
      "       'Provincias', 'Viajeros y pernoctaciones', 'Residencia: Nivel 1',\n",
      "       'Residencia: Nivel 2', 'Periodo', 'Total', 'Año', 'Mes'],\n",
      "      dtype='object')\n",
      "Primeros registros de df_2074:\n",
      "   Periodo   Año  Mes\n",
      "0  2025M03  2025    3\n",
      "1  2025M02  2025    2\n",
      "2  2025M01  2025    1\n",
      "3  2024M12  2024   12\n",
      "4  2024M11  2024   11\n",
      "Columnas de df_2065: Index(['Totales Territoriales', 'Comunidades y Ciudades Autónomas',\n",
      "       'Provincias', 'Periodo', 'Total', 'Año', 'Mes'],\n",
      "      dtype='object')\n",
      "Primeros registros de df_2065:\n",
      "   Periodo   Año  Mes\n",
      "0  2025M03  2025    3\n",
      "1  2025M02  2025    2\n",
      "2  2025M01  2025    1\n",
      "3  2024M12  2024   12\n",
      "4  2024M11  2024   11\n",
      "Columnas de df_2038: Index(['RESIDENCIA/ORIGEN', 'Países', 'Viajeros y pernoctaciones', 'Periodo',\n",
      "       'Total', 'Año', 'Mes'],\n",
      "      dtype='object')\n",
      "Primeros registros de df_2038:\n",
      "   Periodo   Año  Mes\n",
      "0  2025M03  2025    3\n",
      "1  2025M02  2025    2\n",
      "2  2025M01  2025    1\n",
      "3  2024M12  2024   12\n",
      "4  2024M11  2024   11\n"
     ]
    }
   ],
   "source": [
    "# Asegurarse de que el código para añadir las columnas se aplica a cada DataFrame\n",
    "for nom_df, df in df_ine.items():\n",
    "    # Asegurarse de que 'Periodo' es una cadena de texto sin espacios extras\n",
    "    df['Periodo'] = df['Periodo'].astype(str).str.strip()\n",
    "\n",
    "    # Filtrar filas con un formato válido de 'Periodo' (ej. '2024M09')\n",
    "    df = df[df['Periodo'].str.match(r'^\\d{4}M\\d{2}$')]\n",
    "\n",
    "    # Verificar si las columnas 'Año' y 'Mes' ya existen, si no, agregarlas\n",
    "    if 'Año' not in df.columns:\n",
    "        df['Año'] = df['Periodo'].str[:4].astype(int)\n",
    "    if 'Mes' not in df.columns:\n",
    "        df['Mes'] = df['Periodo'].str[5:].astype(int)\n",
    "\n",
    "    # Verificar que las columnas se añaden correctamente\n",
    "    print(f\"Columnas de {nom_df}: {df.columns}\")  # Muestra las columnas del DataFrame\n",
    "    \n",
    "    # Verificar los primeros registros para asegurar que los valores de Año y Mes se añadieron correctamente\n",
    "    print(f\"Primeros registros de {nom_df}:\")\n",
    "    print(df[['Periodo', 'Año', 'Mes']].head())  # Muestra las primeras filas de las columnas Periodo, Año y Mes\n",
    "\n",
    "    # Guardar los cambios de nuevo en el diccionario\n",
    "    df_ine[nom_df] = df\n"
   ]
  },
  {
   "cell_type": "code",
   "execution_count": 55,
   "id": "1fbeee76",
   "metadata": {},
   "outputs": [
    {
     "name": "stdout",
     "output_type": "stream",
     "text": [
      "[2025 2024 2023 2022 2021 2020 2019 2018 2017 2016 2015 2014 2013 2012\n",
      " 2011 2010 2009 2008 2007 2006 2005 2004 2003 2002 2001 2000 1999]\n"
     ]
    }
   ],
   "source": [
    "if 'Año' in df_2074.columns:\n",
    "    print(df_2074['Año'].unique())\n",
    "else:\n",
    "    print(\"La columna 'Año' no existe.\")"
   ]
  },
  {
   "cell_type": "code",
   "execution_count": 56,
   "id": "af4d4cec",
   "metadata": {},
   "outputs": [
    {
     "name": "stdout",
     "output_type": "stream",
     "text": [
      "[ 3  2  1 12 11 10  9  8  7  6  5  4]\n"
     ]
    }
   ],
   "source": [
    "if 'Mes' in df_2074.columns:\n",
    "    print(df_2074['Mes'].unique())\n",
    "else:\n",
    "    print(\"La columna 'Mes' no existe.\")"
   ]
  },
  {
   "cell_type": "code",
   "execution_count": 53,
   "id": "00461a94",
   "metadata": {},
   "outputs": [
    {
     "data": {
      "text/plain": [
       "array([2025, 2024, 2023, 2022, 2021, 2020, 2019, 2018, 2017, 2016, 2015,\n",
       "       2014, 2013, 2012, 2011, 2010, 2009, 2008, 2007, 2006, 2005, 2004,\n",
       "       2003, 2002, 2001, 2000, 1999])"
      ]
     },
     "execution_count": 53,
     "metadata": {},
     "output_type": "execute_result"
    }
   ],
   "source": [
    "df_2074['Año'].unique()"
   ]
  },
  {
   "cell_type": "code",
   "execution_count": 60,
   "id": "fb12b013",
   "metadata": {},
   "outputs": [
    {
     "data": {
      "text/plain": [
       "array([ 3,  2,  1, 12, 11, 10,  9,  8,  7,  6,  5,  4])"
      ]
     },
     "execution_count": 60,
     "metadata": {},
     "output_type": "execute_result"
    }
   ],
   "source": [
    "df_2074['Mes'].unique()"
   ]
  },
  {
   "cell_type": "markdown",
   "id": "c19845e9",
   "metadata": {},
   "source": [
    "# Exportar csv df_2074"
   ]
  },
  {
   "cell_type": "code",
   "execution_count": 65,
   "id": "13c2f976",
   "metadata": {},
   "outputs": [],
   "source": [
    "df_2074.to_csv('df_2074_exportado.csv', index=False, encoding='utf-8-sig', sep=';')\n"
   ]
  }
 ],
 "metadata": {
  "kernelspec": {
   "display_name": "Python 3",
   "language": "python",
   "name": "python3"
  },
  "language_info": {
   "codemirror_mode": {
    "name": "ipython",
    "version": 3
   },
   "file_extension": ".py",
   "mimetype": "text/x-python",
   "name": "python",
   "nbconvert_exporter": "python",
   "pygments_lexer": "ipython3",
   "version": "3.8.10"
  }
 },
 "nbformat": 4,
 "nbformat_minor": 5
}
