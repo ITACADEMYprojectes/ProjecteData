{
 "cells": [
  {
   "cell_type": "markdown",
   "id": "7d0c122e",
   "metadata": {},
   "source": [
    "# Lectura de csv Per treballar amb dades netes"
   ]
  },
  {
   "cell_type": "code",
<<<<<<< HEAD
   "execution_count": 3,
=======
   "execution_count": 2,
>>>>>>> 6a4e0a88fde36f2b1bd955555b5d39df72e326cd
   "id": "630576d3",
   "metadata": {},
   "outputs": [],
   "source": [
    "import pandas as pd"
   ]
  },
  {
   "cell_type": "code",
   "execution_count": 4,
   "id": "bfa5fdca",
   "metadata": {},
   "outputs": [
    {
     "ename": "FileNotFoundError",
     "evalue": "[Errno 2] No such file or directory: 'df_tourist_python.csv'",
     "output_type": "error",
     "traceback": [
      "\u001b[1;31m---------------------------------------------------------------------------\u001b[0m",
      "\u001b[1;31mFileNotFoundError\u001b[0m                         Traceback (most recent call last)",
      "Cell \u001b[1;32mIn[4], line 2\u001b[0m\n\u001b[0;32m      1\u001b[0m \u001b[38;5;66;03m# Llegim el CSV amb totes les dades correctes, llestes per treballar.\u001b[39;00m\n\u001b[1;32m----> 2\u001b[0m df \u001b[38;5;241m=\u001b[39m \u001b[43mpd\u001b[49m\u001b[38;5;241;43m.\u001b[39;49m\u001b[43mread_csv\u001b[49m\u001b[43m(\u001b[49m\u001b[38;5;124;43m\"\u001b[39;49m\u001b[38;5;124;43mdf_tourist_python.csv\u001b[39;49m\u001b[38;5;124;43m\"\u001b[39;49m\u001b[43m,\u001b[49m\u001b[43m \u001b[49m\u001b[43msep\u001b[49m\u001b[38;5;241;43m=\u001b[39;49m\u001b[43m \u001b[49m\u001b[38;5;124;43m\"\u001b[39;49m\u001b[38;5;124;43m;\u001b[39;49m\u001b[38;5;124;43m\"\u001b[39;49m\u001b[43m)\u001b[49m\n",
      "File \u001b[1;32mc:\\Users\\giuia\\anaconda3\\envs\\myenv\\lib\\site-packages\\pandas\\io\\parsers\\readers.py:1026\u001b[0m, in \u001b[0;36mread_csv\u001b[1;34m(filepath_or_buffer, sep, delimiter, header, names, index_col, usecols, dtype, engine, converters, true_values, false_values, skipinitialspace, skiprows, skipfooter, nrows, na_values, keep_default_na, na_filter, verbose, skip_blank_lines, parse_dates, infer_datetime_format, keep_date_col, date_parser, date_format, dayfirst, cache_dates, iterator, chunksize, compression, thousands, decimal, lineterminator, quotechar, quoting, doublequote, escapechar, comment, encoding, encoding_errors, dialect, on_bad_lines, delim_whitespace, low_memory, memory_map, float_precision, storage_options, dtype_backend)\u001b[0m\n\u001b[0;32m   1013\u001b[0m kwds_defaults \u001b[38;5;241m=\u001b[39m _refine_defaults_read(\n\u001b[0;32m   1014\u001b[0m     dialect,\n\u001b[0;32m   1015\u001b[0m     delimiter,\n\u001b[1;32m   (...)\u001b[0m\n\u001b[0;32m   1022\u001b[0m     dtype_backend\u001b[38;5;241m=\u001b[39mdtype_backend,\n\u001b[0;32m   1023\u001b[0m )\n\u001b[0;32m   1024\u001b[0m kwds\u001b[38;5;241m.\u001b[39mupdate(kwds_defaults)\n\u001b[1;32m-> 1026\u001b[0m \u001b[38;5;28;01mreturn\u001b[39;00m \u001b[43m_read\u001b[49m\u001b[43m(\u001b[49m\u001b[43mfilepath_or_buffer\u001b[49m\u001b[43m,\u001b[49m\u001b[43m \u001b[49m\u001b[43mkwds\u001b[49m\u001b[43m)\u001b[49m\n",
      "File \u001b[1;32mc:\\Users\\giuia\\anaconda3\\envs\\myenv\\lib\\site-packages\\pandas\\io\\parsers\\readers.py:620\u001b[0m, in \u001b[0;36m_read\u001b[1;34m(filepath_or_buffer, kwds)\u001b[0m\n\u001b[0;32m    617\u001b[0m _validate_names(kwds\u001b[38;5;241m.\u001b[39mget(\u001b[38;5;124m\"\u001b[39m\u001b[38;5;124mnames\u001b[39m\u001b[38;5;124m\"\u001b[39m, \u001b[38;5;28;01mNone\u001b[39;00m))\n\u001b[0;32m    619\u001b[0m \u001b[38;5;66;03m# Create the parser.\u001b[39;00m\n\u001b[1;32m--> 620\u001b[0m parser \u001b[38;5;241m=\u001b[39m TextFileReader(filepath_or_buffer, \u001b[38;5;241m*\u001b[39m\u001b[38;5;241m*\u001b[39mkwds)\n\u001b[0;32m    622\u001b[0m \u001b[38;5;28;01mif\u001b[39;00m chunksize \u001b[38;5;129;01mor\u001b[39;00m iterator:\n\u001b[0;32m    623\u001b[0m     \u001b[38;5;28;01mreturn\u001b[39;00m parser\n",
      "File \u001b[1;32mc:\\Users\\giuia\\anaconda3\\envs\\myenv\\lib\\site-packages\\pandas\\io\\parsers\\readers.py:1620\u001b[0m, in \u001b[0;36mTextFileReader.__init__\u001b[1;34m(self, f, engine, **kwds)\u001b[0m\n\u001b[0;32m   1617\u001b[0m     \u001b[38;5;28mself\u001b[39m\u001b[38;5;241m.\u001b[39moptions[\u001b[38;5;124m\"\u001b[39m\u001b[38;5;124mhas_index_names\u001b[39m\u001b[38;5;124m\"\u001b[39m] \u001b[38;5;241m=\u001b[39m kwds[\u001b[38;5;124m\"\u001b[39m\u001b[38;5;124mhas_index_names\u001b[39m\u001b[38;5;124m\"\u001b[39m]\n\u001b[0;32m   1619\u001b[0m \u001b[38;5;28mself\u001b[39m\u001b[38;5;241m.\u001b[39mhandles: IOHandles \u001b[38;5;241m|\u001b[39m \u001b[38;5;28;01mNone\u001b[39;00m \u001b[38;5;241m=\u001b[39m \u001b[38;5;28;01mNone\u001b[39;00m\n\u001b[1;32m-> 1620\u001b[0m \u001b[38;5;28mself\u001b[39m\u001b[38;5;241m.\u001b[39m_engine \u001b[38;5;241m=\u001b[39m \u001b[38;5;28;43mself\u001b[39;49m\u001b[38;5;241;43m.\u001b[39;49m\u001b[43m_make_engine\u001b[49m\u001b[43m(\u001b[49m\u001b[43mf\u001b[49m\u001b[43m,\u001b[49m\u001b[43m \u001b[49m\u001b[38;5;28;43mself\u001b[39;49m\u001b[38;5;241;43m.\u001b[39;49m\u001b[43mengine\u001b[49m\u001b[43m)\u001b[49m\n",
      "File \u001b[1;32mc:\\Users\\giuia\\anaconda3\\envs\\myenv\\lib\\site-packages\\pandas\\io\\parsers\\readers.py:1880\u001b[0m, in \u001b[0;36mTextFileReader._make_engine\u001b[1;34m(self, f, engine)\u001b[0m\n\u001b[0;32m   1878\u001b[0m     \u001b[38;5;28;01mif\u001b[39;00m \u001b[38;5;124m\"\u001b[39m\u001b[38;5;124mb\u001b[39m\u001b[38;5;124m\"\u001b[39m \u001b[38;5;129;01mnot\u001b[39;00m \u001b[38;5;129;01min\u001b[39;00m mode:\n\u001b[0;32m   1879\u001b[0m         mode \u001b[38;5;241m+\u001b[39m\u001b[38;5;241m=\u001b[39m \u001b[38;5;124m\"\u001b[39m\u001b[38;5;124mb\u001b[39m\u001b[38;5;124m\"\u001b[39m\n\u001b[1;32m-> 1880\u001b[0m \u001b[38;5;28mself\u001b[39m\u001b[38;5;241m.\u001b[39mhandles \u001b[38;5;241m=\u001b[39m \u001b[43mget_handle\u001b[49m\u001b[43m(\u001b[49m\n\u001b[0;32m   1881\u001b[0m \u001b[43m    \u001b[49m\u001b[43mf\u001b[49m\u001b[43m,\u001b[49m\n\u001b[0;32m   1882\u001b[0m \u001b[43m    \u001b[49m\u001b[43mmode\u001b[49m\u001b[43m,\u001b[49m\n\u001b[0;32m   1883\u001b[0m \u001b[43m    \u001b[49m\u001b[43mencoding\u001b[49m\u001b[38;5;241;43m=\u001b[39;49m\u001b[38;5;28;43mself\u001b[39;49m\u001b[38;5;241;43m.\u001b[39;49m\u001b[43moptions\u001b[49m\u001b[38;5;241;43m.\u001b[39;49m\u001b[43mget\u001b[49m\u001b[43m(\u001b[49m\u001b[38;5;124;43m\"\u001b[39;49m\u001b[38;5;124;43mencoding\u001b[39;49m\u001b[38;5;124;43m\"\u001b[39;49m\u001b[43m,\u001b[49m\u001b[43m \u001b[49m\u001b[38;5;28;43;01mNone\u001b[39;49;00m\u001b[43m)\u001b[49m\u001b[43m,\u001b[49m\n\u001b[0;32m   1884\u001b[0m \u001b[43m    \u001b[49m\u001b[43mcompression\u001b[49m\u001b[38;5;241;43m=\u001b[39;49m\u001b[38;5;28;43mself\u001b[39;49m\u001b[38;5;241;43m.\u001b[39;49m\u001b[43moptions\u001b[49m\u001b[38;5;241;43m.\u001b[39;49m\u001b[43mget\u001b[49m\u001b[43m(\u001b[49m\u001b[38;5;124;43m\"\u001b[39;49m\u001b[38;5;124;43mcompression\u001b[39;49m\u001b[38;5;124;43m\"\u001b[39;49m\u001b[43m,\u001b[49m\u001b[43m \u001b[49m\u001b[38;5;28;43;01mNone\u001b[39;49;00m\u001b[43m)\u001b[49m\u001b[43m,\u001b[49m\n\u001b[0;32m   1885\u001b[0m \u001b[43m    \u001b[49m\u001b[43mmemory_map\u001b[49m\u001b[38;5;241;43m=\u001b[39;49m\u001b[38;5;28;43mself\u001b[39;49m\u001b[38;5;241;43m.\u001b[39;49m\u001b[43moptions\u001b[49m\u001b[38;5;241;43m.\u001b[39;49m\u001b[43mget\u001b[49m\u001b[43m(\u001b[49m\u001b[38;5;124;43m\"\u001b[39;49m\u001b[38;5;124;43mmemory_map\u001b[39;49m\u001b[38;5;124;43m\"\u001b[39;49m\u001b[43m,\u001b[49m\u001b[43m \u001b[49m\u001b[38;5;28;43;01mFalse\u001b[39;49;00m\u001b[43m)\u001b[49m\u001b[43m,\u001b[49m\n\u001b[0;32m   1886\u001b[0m \u001b[43m    \u001b[49m\u001b[43mis_text\u001b[49m\u001b[38;5;241;43m=\u001b[39;49m\u001b[43mis_text\u001b[49m\u001b[43m,\u001b[49m\n\u001b[0;32m   1887\u001b[0m \u001b[43m    \u001b[49m\u001b[43merrors\u001b[49m\u001b[38;5;241;43m=\u001b[39;49m\u001b[38;5;28;43mself\u001b[39;49m\u001b[38;5;241;43m.\u001b[39;49m\u001b[43moptions\u001b[49m\u001b[38;5;241;43m.\u001b[39;49m\u001b[43mget\u001b[49m\u001b[43m(\u001b[49m\u001b[38;5;124;43m\"\u001b[39;49m\u001b[38;5;124;43mencoding_errors\u001b[39;49m\u001b[38;5;124;43m\"\u001b[39;49m\u001b[43m,\u001b[49m\u001b[43m \u001b[49m\u001b[38;5;124;43m\"\u001b[39;49m\u001b[38;5;124;43mstrict\u001b[39;49m\u001b[38;5;124;43m\"\u001b[39;49m\u001b[43m)\u001b[49m\u001b[43m,\u001b[49m\n\u001b[0;32m   1888\u001b[0m \u001b[43m    \u001b[49m\u001b[43mstorage_options\u001b[49m\u001b[38;5;241;43m=\u001b[39;49m\u001b[38;5;28;43mself\u001b[39;49m\u001b[38;5;241;43m.\u001b[39;49m\u001b[43moptions\u001b[49m\u001b[38;5;241;43m.\u001b[39;49m\u001b[43mget\u001b[49m\u001b[43m(\u001b[49m\u001b[38;5;124;43m\"\u001b[39;49m\u001b[38;5;124;43mstorage_options\u001b[39;49m\u001b[38;5;124;43m\"\u001b[39;49m\u001b[43m,\u001b[49m\u001b[43m \u001b[49m\u001b[38;5;28;43;01mNone\u001b[39;49;00m\u001b[43m)\u001b[49m\u001b[43m,\u001b[49m\n\u001b[0;32m   1889\u001b[0m \u001b[43m\u001b[49m\u001b[43m)\u001b[49m\n\u001b[0;32m   1890\u001b[0m \u001b[38;5;28;01massert\u001b[39;00m \u001b[38;5;28mself\u001b[39m\u001b[38;5;241m.\u001b[39mhandles \u001b[38;5;129;01mis\u001b[39;00m \u001b[38;5;129;01mnot\u001b[39;00m \u001b[38;5;28;01mNone\u001b[39;00m\n\u001b[0;32m   1891\u001b[0m f \u001b[38;5;241m=\u001b[39m \u001b[38;5;28mself\u001b[39m\u001b[38;5;241m.\u001b[39mhandles\u001b[38;5;241m.\u001b[39mhandle\n",
      "File \u001b[1;32mc:\\Users\\giuia\\anaconda3\\envs\\myenv\\lib\\site-packages\\pandas\\io\\common.py:873\u001b[0m, in \u001b[0;36mget_handle\u001b[1;34m(path_or_buf, mode, encoding, compression, memory_map, is_text, errors, storage_options)\u001b[0m\n\u001b[0;32m    868\u001b[0m \u001b[38;5;28;01melif\u001b[39;00m \u001b[38;5;28misinstance\u001b[39m(handle, \u001b[38;5;28mstr\u001b[39m):\n\u001b[0;32m    869\u001b[0m     \u001b[38;5;66;03m# Check whether the filename is to be opened in binary mode.\u001b[39;00m\n\u001b[0;32m    870\u001b[0m     \u001b[38;5;66;03m# Binary mode does not support 'encoding' and 'newline'.\u001b[39;00m\n\u001b[0;32m    871\u001b[0m     \u001b[38;5;28;01mif\u001b[39;00m ioargs\u001b[38;5;241m.\u001b[39mencoding \u001b[38;5;129;01mand\u001b[39;00m \u001b[38;5;124m\"\u001b[39m\u001b[38;5;124mb\u001b[39m\u001b[38;5;124m\"\u001b[39m \u001b[38;5;129;01mnot\u001b[39;00m \u001b[38;5;129;01min\u001b[39;00m ioargs\u001b[38;5;241m.\u001b[39mmode:\n\u001b[0;32m    872\u001b[0m         \u001b[38;5;66;03m# Encoding\u001b[39;00m\n\u001b[1;32m--> 873\u001b[0m         handle \u001b[38;5;241m=\u001b[39m \u001b[38;5;28;43mopen\u001b[39;49m\u001b[43m(\u001b[49m\n\u001b[0;32m    874\u001b[0m \u001b[43m            \u001b[49m\u001b[43mhandle\u001b[49m\u001b[43m,\u001b[49m\n\u001b[0;32m    875\u001b[0m \u001b[43m            \u001b[49m\u001b[43mioargs\u001b[49m\u001b[38;5;241;43m.\u001b[39;49m\u001b[43mmode\u001b[49m\u001b[43m,\u001b[49m\n\u001b[0;32m    876\u001b[0m \u001b[43m            \u001b[49m\u001b[43mencoding\u001b[49m\u001b[38;5;241;43m=\u001b[39;49m\u001b[43mioargs\u001b[49m\u001b[38;5;241;43m.\u001b[39;49m\u001b[43mencoding\u001b[49m\u001b[43m,\u001b[49m\n\u001b[0;32m    877\u001b[0m \u001b[43m            \u001b[49m\u001b[43merrors\u001b[49m\u001b[38;5;241;43m=\u001b[39;49m\u001b[43merrors\u001b[49m\u001b[43m,\u001b[49m\n\u001b[0;32m    878\u001b[0m \u001b[43m            \u001b[49m\u001b[43mnewline\u001b[49m\u001b[38;5;241;43m=\u001b[39;49m\u001b[38;5;124;43m\"\u001b[39;49m\u001b[38;5;124;43m\"\u001b[39;49m\u001b[43m,\u001b[49m\n\u001b[0;32m    879\u001b[0m \u001b[43m        \u001b[49m\u001b[43m)\u001b[49m\n\u001b[0;32m    880\u001b[0m     \u001b[38;5;28;01melse\u001b[39;00m:\n\u001b[0;32m    881\u001b[0m         \u001b[38;5;66;03m# Binary mode\u001b[39;00m\n\u001b[0;32m    882\u001b[0m         handle \u001b[38;5;241m=\u001b[39m \u001b[38;5;28mopen\u001b[39m(handle, ioargs\u001b[38;5;241m.\u001b[39mmode)\n",
      "\u001b[1;31mFileNotFoundError\u001b[0m: [Errno 2] No such file or directory: 'df_tourist_python.csv'"
     ]
    }
   ],
   "source": [
    "# Llegim el CSV amb totes les dades correctes, llestes per treballar.\n",
    "df = pd.read_csv(\"df_tourist_python.csv\", sep= \";\")"
   ]
  },
  {
   "cell_type": "code",
   "execution_count": 5,
   "id": "a99e5b48",
   "metadata": {},
   "outputs": [
    {
     "name": "stdout",
     "output_type": "stream",
     "text": [
      "<class 'pandas.core.frame.DataFrame'>\n",
      "RangeIndex: 6733 entries, 0 to 6732\n",
      "Data columns (total 35 columns):\n",
      " #   Column                       Non-Null Count  Dtype  \n",
      "---  ------                       --------------  -----  \n",
      " 0   apartment_id                 6733 non-null   int64  \n",
      " 1   name                         6730 non-null   object \n",
      " 2   description                  6706 non-null   object \n",
      " 3   host_id                      6733 non-null   int64  \n",
      " 4   neighbourhood_name           6733 non-null   object \n",
      " 5   neighbourhood_district       4075 non-null   object \n",
      " 6   room_type                    6733 non-null   object \n",
      " 7   accommodates                 6733 non-null   int64  \n",
      " 8   bathrooms                    6733 non-null   float64\n",
      " 9   bedrooms                     6733 non-null   float64\n",
      " 10  beds                         6733 non-null   float64\n",
      " 11  amenities_list               6717 non-null   object \n",
      " 12  price                        6733 non-null   float64\n",
      " 13  minimum_nights               6733 non-null   int64  \n",
      " 14  maximum_nights               6733 non-null   int64  \n",
      " 15  has_availability             6733 non-null   bool   \n",
      " 16  availability_30              6733 non-null   int64  \n",
      " 17  availability_60              6733 non-null   int64  \n",
      " 18  availability_90              6733 non-null   int64  \n",
      " 19  availability_365             6733 non-null   int64  \n",
      " 20  number_of_reviews            6733 non-null   int64  \n",
      " 21  first_review_date            5530 non-null   object \n",
      " 22  last_review_date             5529 non-null   object \n",
      " 23  review_scores_rating         6733 non-null   float64\n",
      " 24  review_scores_accuracy       6733 non-null   float64\n",
      " 25  review_scores_cleanliness    6733 non-null   float64\n",
      " 26  review_scores_checkin        6733 non-null   float64\n",
      " 27  review_scores_communication  6733 non-null   float64\n",
      " 28  review_scores_location       6733 non-null   float64\n",
      " 29  review_scores_value          6733 non-null   float64\n",
      " 30  is_instant_bookable          6733 non-null   object \n",
      " 31  reviews_per_month            6733 non-null   float64\n",
      " 32  country                      6733 non-null   object \n",
      " 33  city                         6733 non-null   object \n",
      " 34  insert_date                  6733 non-null   object \n",
      "dtypes: bool(1), float64(12), int64(10), object(12)\n",
      "memory usage: 1.8+ MB\n"
     ]
    }
   ],
   "source": [
    "# Verifiquem que les dades tenen el format que ens permetra fer tots els analisis.\n",
    "df.info()"
   ]
  },
  {
   "cell_type": "markdown",
   "id": "bf4b586a",
   "metadata": {},
   "source": [
    "# Sprint 1:"
   ]
  },
  {
   "cell_type": "markdown",
   "id": "294545b3",
   "metadata": {},
   "source": [
    "## KPI"
   ]
  },
  {
   "cell_type": "code",
<<<<<<< HEAD
   "execution_count": 6,
=======
   "execution_count": 5,
>>>>>>> 6a4e0a88fde36f2b1bd955555b5d39df72e326cd
   "id": "573fe8ce",
   "metadata": {},
   "outputs": [
    {
     "name": "stdout",
     "output_type": "stream",
     "text": [
      "Tasa de Ocupación: 59.03%\n"
     ]
    }
   ],
   "source": [
    "import pandas as pd\n",
    "\n",
    "#TASA OCUPACIÓN\n",
    "\n",
    "total_disponibilidad = df['availability_30'].sum() #Sumamos la disponibilidad total\n",
    "total_filas = len(df) #Número total de filas\n",
    "dias_totales = 30 * total_filas #Días totales disponibles\n",
    "\n",
    "tasa_ocupacion = (dias_totales - total_disponibilidad) / dias_totales\n",
    "\n",
    "print(f\"Tasa de Ocupación: {tasa_ocupacion:.2%}\") #Resultado con 2 decimales y en porcentaje"
   ]
  },
  {
   "cell_type": "code",
<<<<<<< HEAD
   "execution_count": 7,
=======
   "execution_count": 12,
>>>>>>> 6a4e0a88fde36f2b1bd955555b5d39df72e326cd
   "id": "08d15be5-c3fb-4472-88ba-f34342b7503d",
   "metadata": {},
   "outputs": [
    {
     "name": "stdout",
     "output_type": "stream",
     "text": [
      "madrid - 65.3%\n"
     ]
    }
   ],
   "source": [
    "#CIUDAD CON MAYOR OCUPACIÓN\n",
    "\n",
    "import pandas as pd\n",
    "\n",
    "#Agrupación por ciudad\n",
    "tasa_por_ciudad = df.groupby(\"city\").agg(\n",
    "    total_disponibilidad=(\"availability_30\", \"sum\"),\n",
    "    total_filas=(\"availability_30\", \"count\")\n",
    ")\n",
    "\n",
    "# Calcular la disponibilidad y la ocupación\n",
    "tasa_por_ciudad[\"dias_totales\"] = 30 * tasa_por_ciudad[\"total_filas\"]\n",
    "tasa_por_ciudad[\"tasa_ocupacion\"] = (\n",
    "    (tasa_por_ciudad[\"dias_totales\"] - tasa_por_ciudad[\"total_disponibilidad\"]) /\n",
    "    tasa_por_ciudad[\"dias_totales\"]\n",
    ") * 100\n",
    "\n",
    "# Quedarnos con la ciudad con mayor ocupación\n",
    "top_city_row = tasa_por_ciudad[\"tasa_ocupacion\"].idxmax()\n",
    "tasa_max = tasa_por_ciudad.loc[top_city_row, \"tasa_ocupacion\"]\n",
    "\n",
    "ciudad_porcen = f\"{top_city_row} - {tasa_max:.1f}%\"\n",
    "\n",
    "print(ciudad_porcen)"
   ]
  },
  {
   "cell_type": "code",
<<<<<<< HEAD
   "execution_count": 8,
=======
   "execution_count": 7,
>>>>>>> 6a4e0a88fde36f2b1bd955555b5d39df72e326cd
   "id": "6f9f313f-c480-438c-934e-518496ce2c13",
   "metadata": {},
   "outputs": [
    {
     "name": "stdout",
     "output_type": "stream",
     "text": [
      "Índice de Satisfacción: 92.4\n"
     ]
    }
   ],
   "source": [
    "#ÍNDICE OCUPACIÓN\n",
    "\n",
    "#Media de review scores rating\n",
    "indice_satisfaccion = round(df['review_scores_rating'].mean(), 2)\n",
    "\n",
    "print(f\"Índice de Satisfacción: {indice_satisfaccion}\")"
   ]
  },
  {
   "cell_type": "code",
<<<<<<< HEAD
   "execution_count": 9,
=======
   "execution_count": 13,
>>>>>>> 6a4e0a88fde36f2b1bd955555b5d39df72e326cd
   "id": "c2903de8-2c2d-4dc1-a20c-8a3aebe56891",
   "metadata": {},
   "outputs": [
    {
     "name": "stdout",
     "output_type": "stream",
     "text": [
      "A ROOM WITH A VIEW - 100.0\n"
     ]
    }
   ],
   "source": [
    "#ALOJAMIENTO CON MAYOR PUNTUACIÓN\n",
    "\n",
    "# Se crea una columan con la media de las 5 diferentes puntuaciones de cada apartamento\n",
    "df[\"satisfaccion\"] = df[[\n",
    "    \"review_scores_accuracy\",\n",
    "    \"review_scores_cleanliness\",\n",
    "    \"review_scores_communication\",\n",
    "    \"review_scores_location\",\n",
    "    \"review_scores_checkin\"\n",
    "]].mean(axis=1)\n",
    "\n",
    "# Nos quedamos con el valor más alto\n",
    "top_row = df.loc[df[\"satisfaccion\"].idxmax()]\n",
    "\n",
    "nombre_score = f\"{top_row['name']} - {top_row['satisfaccion']:.1f}\"\n",
    "\n",
    "print(nombre_score)"
   ]
  },
  {
   "cell_type": "markdown",
   "id": "d4738146",
   "metadata": {},
   "source": [
    "## Análisis orientado (Marketing)"
   ]
  },
  {
   "cell_type": "code",
<<<<<<< HEAD
   "execution_count": 10,
=======
   "execution_count": 5,
>>>>>>> 6a4e0a88fde36f2b1bd955555b5d39df72e326cd
   "id": "00b8827f",
   "metadata": {},
   "outputs": [
    {
     "data": {
      "text/plain": [
       "city       room_type      \n",
       "barcelona  Entire home/apt    1293.36\n",
       "           Hotel room         1444.29\n",
       "           Private room        454.53\n",
       "           Shared room         369.44\n",
       "girona     Entire home/apt    1222.18\n",
       "           Hotel room          625.00\n",
       "           Private room        602.12\n",
       "madrid     Entire home/apt     938.10\n",
       "           Hotel room          857.00\n",
       "           Private room        372.88\n",
       "           Shared room         313.33\n",
       "malaga     Entire home/apt     815.00\n",
       "           Hotel room          703.33\n",
       "           Private room        356.73\n",
       "           Shared room         143.33\n",
       "mallorca   Entire home/apt    1693.77\n",
       "           Hotel room         1410.00\n",
       "           Private room        697.75\n",
       "           Shared room         493.33\n",
       "menorca    Entire home/apt    1649.61\n",
       "           Private room        610.00\n",
       "sevilla    Entire home/apt    1032.67\n",
       "           Hotel room          918.57\n",
       "           Private room        602.39\n",
       "           Shared room         120.00\n",
       "valencia   Entire home/apt     793.60\n",
       "           Hotel room          955.00\n",
       "           Private room        339.39\n",
       "           Shared room         203.33\n",
       "Name: price, dtype: float64"
      ]
     },
     "execution_count": 10,
     "metadata": {},
     "output_type": "execute_result"
    }
   ],
   "source": [
    "# Responen a la pregunta\n",
    "# Quin es el preu mitja per tipus d'allotjament a cada ciutat?\n",
    "# Escollom les columnes amb informacio, per graficar amb Power BI\n",
    "\n",
    "df.groupby([\"city\",\"room_type\"])[\"price\"].mean().round(2)"
   ]
  },
  {
   "cell_type": "markdown",
   "id": "580f4a85",
   "metadata": {},
   "source": [
    "## Análisis orientado a experiencia usuario (Usuario)"
   ]
  },
  {
   "cell_type": "code",
   "execution_count": null,
   "id": "d2bf9449",
   "metadata": {},
   "outputs": [],
   "source": []
  },
  {
   "cell_type": "markdown",
   "id": "c74b117d",
   "metadata": {},
   "source": [
    "## Análisis orientado a negocio (Operaciones)"
   ]
  },
  {
   "cell_type": "markdown",
   "id": "b743209b",
   "metadata": {},
   "source": [
    "Crear df operaciones"
   ]
  },
  {
   "cell_type": "code",
   "execution_count": null,
   "id": "1915d431",
   "metadata": {},
   "outputs": [],
   "source": [
    "df_op = df[['apartment_id','host_id','country','city','neighbourhood_name','neighbourhood_district','accommodates','room_type','description','amenities_list','beds','bedrooms','bathrooms','minimum_nights','maximum_nights','is_instant_bookable','availability_30','availability_60','availability_90','availability_365','price','insert_date']]\n",
    "\n",
    "df_op"
   ]
  },
  {
   "cell_type": "markdown",
   "id": "32aaa549",
   "metadata": {},
   "source": [
    "Media disponibilidad global"
   ]
  },
  {
   "cell_type": "code",
   "execution_count": null,
   "id": "ad3b7091",
   "metadata": {},
   "outputs": [],
   "source": [
    "media_disp_glob= df_op[['availability_30', 'availability_60','availability_90','availability_365']].mean().reset_index(name= 'Media_disp_glob').round(2)\n",
    "media_disp_glob"
   ]
  },
  {
   "cell_type": "markdown",
   "id": "6ea32461",
   "metadata": {},
   "source": [
    "Quina és la disponibilitat mitjana dels allotjaments turístics en els diferents terminis (30, 60, 90 i 365 dies) a cada ciutat?"
   ]
  },
  {
   "cell_type": "code",
   "execution_count": null,
   "id": "8c230015",
   "metadata": {},
   "outputs": [],
   "source": [
    "media_disp_ciudad= df_op.groupby('city')[['availability_30', 'availability_60','availability_90','availability_365']].mean().reset_index().round(2)\n",
    "media_disp_ciudad"
   ]
  }
 ],
 "metadata": {
  "kernelspec": {
   "display_name": "myenv",
   "language": "python",
   "name": "python3"
  },
  "language_info": {
   "codemirror_mode": {
    "name": "ipython",
    "version": 3
   },
   "file_extension": ".py",
   "mimetype": "text/x-python",
   "name": "python",
   "nbconvert_exporter": "python",
   "pygments_lexer": "ipython3",
   "version": "3.10.13"
  }
 },
 "nbformat": 4,
 "nbformat_minor": 5
}
