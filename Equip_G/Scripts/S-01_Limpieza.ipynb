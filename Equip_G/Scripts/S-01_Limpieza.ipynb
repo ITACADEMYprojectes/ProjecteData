{
 "cells": [
  {
   "cell_type": "markdown",
   "id": "552206a9",
   "metadata": {},
   "source": [
    "### Librerias necesarias"
   ]
  },
  {
   "cell_type": "code",
   "execution_count": 1,
   "id": "cb90316f",
   "metadata": {},
   "outputs": [],
   "source": [
    "import mysql.connector\n",
    "import pandas as pd\n",
    "import numpy as np\n",
    "from datetime import datetime\n",
    "from mysql.connector import errorcode\n"
   ]
  },
  {
   "cell_type": "code",
   "execution_count": 2,
   "id": "4be575a6",
   "metadata": {},
   "outputs": [],
   "source": [
    "#Importamos la librería para leer las credenciales desde el fichero de entorno .env:\n",
    "import os\n",
    "from dotenv import load_dotenv"
   ]
  },
  {
   "cell_type": "code",
   "execution_count": 3,
   "id": "a53a18a8",
   "metadata": {},
   "outputs": [
    {
     "data": {
      "text/plain": [
       "'c:\\\\Users\\\\alope\\\\ProjecteData\\\\Equip_G\\\\Scripts'"
      ]
     },
     "execution_count": 3,
     "metadata": {},
     "output_type": "execute_result"
    }
   ],
   "source": [
    "#Nos aseguramos del directo actual en que se ejecuta el script\n",
    "diractual = os.getcwd()\n",
    "diractual"
   ]
  },
  {
   "cell_type": "code",
   "execution_count": 4,
   "id": "922cccf1",
   "metadata": {},
   "outputs": [],
   "source": [
    "#Cargamos las variables del fichero de entorno\n",
    "load_dotenv()\n",
    "#Accedemos a las variables\n",
    "usuario = os.getenv(\"usuario\")\n",
    "clave = os.getenv(\"clave\")\n",
    "host = os.getenv(\"host\")\n",
    "db = os.getenv(\"db\")\n"
   ]
  },
  {
   "cell_type": "markdown",
   "id": "78272689",
   "metadata": {},
   "source": [
    "### Conexion a MySQL para extraer tabla"
   ]
  },
  {
   "cell_type": "code",
   "execution_count": 5,
   "id": "d64497ce",
   "metadata": {},
   "outputs": [
    {
     "name": "stdout",
     "output_type": "stream",
     "text": [
      "   apartment_id                                               name  \\\n",
      "0         11964                                 A ROOM WITH A VIEW   \n",
      "1         21853                               Bright and airy room   \n",
      "2         32347  Explore Cultural Sights from a Family-Friendly...   \n",
      "3         35379                  Double 02 CasanovaRooms Barcelona   \n",
      "4         35801                  Can Torras Farmhouse Studio Suite   \n",
      "\n",
      "                                         description  host_id  \\\n",
      "0  Private bedroom in our attic apartment. Right ...    45553   \n",
      "1  We have a quiet and sunny room with a good vie...    83531   \n",
      "2  Open French doors and step onto a plant-filled...   139939   \n",
      "3  Room at a my apartment. Kitchen and 2 bathroom...   152232   \n",
      "4  Lay in bed & watch sunlight change the mood of...   153805   \n",
      "\n",
      "                neighbourhood_name neighbourhood_district        room_type  \\\n",
      "0                           Centro                   None     Private room   \n",
      "1                         C�rmenes                 Latina     Private room   \n",
      "2                      San Vicente          Casco Antiguo  Entire home/apt   \n",
      "3  l'Antiga Esquerra de l'Eixample               Eixample     Private room   \n",
      "4                            Quart                   None     Private room   \n",
      "\n",
      "   accommodates bathrooms bedrooms  ...  review_scores_cleanliness  \\\n",
      "0             2         2        1  ...                      100.0   \n",
      "1             1         1        1  ...                       90.0   \n",
      "2             4         1        2  ...                      100.0   \n",
      "3             2         2        1  ...                       90.0   \n",
      "4             5         1        2  ...                      100.0   \n",
      "\n",
      "  review_scores_checkin  review_scores_communication  review_scores_location  \\\n",
      "0                 100.0                        100.0                   100.0   \n",
      "1                 100.0                        100.0                    80.0   \n",
      "2                 100.0                        100.0                   100.0   \n",
      "3                 100.0                        100.0                   100.0   \n",
      "4                 100.0                        100.0                   100.0   \n",
      "\n",
      "   review_scores_value is_instant_bookable  reviews_per_month  country  \\\n",
      "0                100.0               FALSO               75.0    spain   \n",
      "1                 90.0               FALSO               52.0    spain   \n",
      "2                100.0           VERDADERO              142.0    spain   \n",
      "3                 90.0           VERDADERO              306.0    spain   \n",
      "4                100.0               FALSO               39.0    spain   \n",
      "\n",
      "        city  insert_date  \n",
      "0     malaga   31/07/2018  \n",
      "1     madrid   10/01/2020  \n",
      "2    sevilla   29/07/2019  \n",
      "3  barcelona   10/01/2020  \n",
      "4     girona   19/02/2019  \n",
      "\n",
      "[5 rows x 35 columns]\n"
     ]
    }
   ],
   "source": [
    "try:\n",
    "    # Intentar conectar a la base de datos\n",
    "    cnx = mysql.connector.connect(\n",
    "        user=usuario,\n",
    "        password=clave,\n",
    "        database=db,\n",
    "        host=host,\n",
    "        charset='utf8mb4'\n",
    "    )\n",
    "    mycursor = cnx.cursor()  # Crear cursor\n",
    "\n",
    "    # Nombre de la tabla a extraer\n",
    "    tabla = \"Tourist_Accommodation\"\n",
    "\n",
    "    # Ejecutar consulta para obtener los datos\n",
    "    mycursor.execute(f\"SELECT * FROM {tabla}\")\n",
    "    columnas = [desc[0] for desc in mycursor.description]  # Obtener nombres de columnas\n",
    "    datos = mycursor.fetchall()  # Obtener datos\n",
    "\n",
    "    # Crear DataFrame\n",
    "    df = pd.DataFrame(datos, columns=columnas)\n",
    "\n",
    "    # Imprimir los primeros registros\n",
    "    print(df.head())\n",
    "\n",
    "except mysql.connector.Error as err:\n",
    "    # Manejo de errores específicos\n",
    "    if err.errno == errorcode.ER_ACCESS_DENIED_ERROR:\n",
    "        print(\"Usuario o contraseña incorrectos\")\n",
    "    elif err.errno == errorcode.ER_BAD_DB_ERROR:\n",
    "        print(\"La base de datos especificada no existe\")\n",
    "    else:\n",
    "        print(f\"Error inesperado: {err}\")\n",
    "\n",
    "finally:\n",
    "    # Cerrar conexión\n",
    "    try:\n",
    "        if 'mycursor' in locals() and mycursor:\n",
    "            mycursor.close()\n",
    "        if 'cnx' in locals() and cnx.is_connected():\n",
    "            cnx.close()\n",
    "    except Exception as e:\n",
    "        print(f\"Error al cerrar la conexión: {e}\")"
   ]
  },
  {
   "cell_type": "markdown",
   "id": "4e31931a",
   "metadata": {},
   "source": [
    "## Trabajo en Pandas"
   ]
  },
  {
   "cell_type": "markdown",
   "id": "40f80db8",
   "metadata": {},
   "source": [
    "### Comprobar dataset"
   ]
  },
  {
   "cell_type": "code",
   "execution_count": 6,
   "id": "b217f3d5",
   "metadata": {},
   "outputs": [
    {
     "name": "stdout",
     "output_type": "stream",
     "text": [
      "<class 'pandas.core.frame.DataFrame'>\n",
      "RangeIndex: 7001 entries, 0 to 7000\n",
      "Data columns (total 35 columns):\n",
      " #   Column                       Non-Null Count  Dtype  \n",
      "---  ------                       --------------  -----  \n",
      " 0   apartment_id                 7001 non-null   int64  \n",
      " 1   name                         6998 non-null   object \n",
      " 2   description                  6972 non-null   object \n",
      " 3   host_id                      7001 non-null   int64  \n",
      " 4   neighbourhood_name           7001 non-null   object \n",
      " 5   neighbourhood_district       4241 non-null   object \n",
      " 6   room_type                    7001 non-null   object \n",
      " 7   accommodates                 7001 non-null   int64  \n",
      " 8   bathrooms                    6969 non-null   object \n",
      " 9   bedrooms                     6972 non-null   object \n",
      " 10  beds                         6998 non-null   float64\n",
      " 11  amenities_list               6984 non-null   object \n",
      " 12  price                        6870 non-null   float64\n",
      " 13  minimum_nights               7001 non-null   int64  \n",
      " 14  maximum_nights               7001 non-null   int64  \n",
      " 15  has_availability             6451 non-null   object \n",
      " 16  availability_30              7001 non-null   int64  \n",
      " 17  availability_60              7001 non-null   int64  \n",
      " 18  availability_90              7001 non-null   int64  \n",
      " 19  availability_365             7001 non-null   int64  \n",
      " 20  number_of_reviews            7001 non-null   int64  \n",
      " 21  first_review_date            5747 non-null   object \n",
      " 22  last_review_date             5746 non-null   object \n",
      " 23  review_scores_rating         5674 non-null   float64\n",
      " 24  review_scores_accuracy       5665 non-null   float64\n",
      " 25  review_scores_cleanliness    5671 non-null   float64\n",
      " 26  review_scores_checkin        5660 non-null   float64\n",
      " 27  review_scores_communication  5669 non-null   float64\n",
      " 28  review_scores_location       5659 non-null   float64\n",
      " 29  review_scores_value          5659 non-null   float64\n",
      " 30  is_instant_bookable          7001 non-null   object \n",
      " 31  reviews_per_month            5747 non-null   float64\n",
      " 32  country                      7001 non-null   object \n",
      " 33  city                         7001 non-null   object \n",
      " 34  insert_date                  7001 non-null   object \n",
      "dtypes: float64(10), int64(10), object(15)\n",
      "memory usage: 1.9+ MB\n"
     ]
    }
   ],
   "source": [
    "df.info()"
   ]
  },
  {
   "cell_type": "markdown",
   "id": "9ba29200",
   "metadata": {},
   "source": [
    "### Cambio de tipo de datos de fechas"
   ]
  },
  {
   "cell_type": "code",
   "execution_count": 7,
   "id": "6ae61855",
   "metadata": {},
   "outputs": [],
   "source": [
    "df['first_review_date'] = pd.to_datetime(df['first_review_date'], format='%d/%m/%Y')\n",
    "df['insert_date'] = pd.to_datetime(df['insert_date'], format='%d/%m/%Y')\n",
    "df['last_review_date'] = pd.to_datetime(df['last_review_date'], format='%d/%m/%Y')"
   ]
  },
  {
   "cell_type": "markdown",
   "id": "616962a8",
   "metadata": {},
   "source": [
    "### Funcion para borrar duplicados basados en la fecha mas reciente"
   ]
  },
  {
   "cell_type": "code",
   "execution_count": 8,
   "id": "ffa3c07b",
   "metadata": {},
   "outputs": [],
   "source": [
    "def mantener_fecha_mas_reciente(df, columna_id, columna_fecha):\n",
    "    \"\"\"\n",
    "    Elimina duplicados basados en un ID, manteniendo la fila con la fecha más reciente.\n",
    "    \n",
    "    Parámetros:\n",
    "    df (DataFrame): El DataFrame que contiene los datos.\n",
    "    columna_id (str): El nombre de la columna que identifica los duplicados.\n",
    "    columna_fecha (str): El nombre de la columna que contiene las fechas.\n",
    "\n",
    "    Retorna:\n",
    "    DataFrame: Un nuevo DataFrame con los IDs únicos y sus fechas más recientes.\n",
    "    \"\"\"\n",
    "\n",
    "    # Ordenar por fecha descendente\n",
    "    df = df.sort_values(by=columna_fecha, ascending=False)\n",
    "\n",
    "    # Eliminar duplicados manteniendo el más reciente\n",
    "    df = df.drop_duplicates(subset=columna_id, keep='last')\n",
    "\n",
    "    return df\n",
    "\n"
   ]
  },
  {
   "cell_type": "markdown",
   "id": "cd9b4300",
   "metadata": {},
   "source": [
    "#### Numero de registros duplicados"
   ]
  },
  {
   "cell_type": "code",
   "execution_count": 9,
   "id": "ba997638",
   "metadata": {},
   "outputs": [
    {
     "name": "stdout",
     "output_type": "stream",
     "text": [
      "Registros duplicados: 268\n",
      "Registros que deberían quedar: 6733\n"
     ]
    }
   ],
   "source": [
    "total_registros = len(df)\n",
    "valores_unicos = df['apartment_id'].nunique()\n",
    "duplicados = total_registros - valores_unicos\n",
    "print(f\"Registros duplicados: {duplicados}\")\n",
    "print(f\"Registros que deberían quedar: {valores_unicos}\")"
   ]
  },
  {
   "cell_type": "markdown",
   "id": "70d83732",
   "metadata": {},
   "source": [
    "### Ejecutar funcion al dataset con el ID del apartamento y la fecha de insersion "
   ]
  },
  {
   "cell_type": "code",
   "execution_count": 10,
   "id": "56e08fd1",
   "metadata": {},
   "outputs": [
    {
     "data": {
      "application/vnd.microsoft.datawrangler.viewer.v0+json": {
       "columns": [
        {
         "name": "index",
         "rawType": "int64",
         "type": "integer"
        },
        {
         "name": "apartment_id",
         "rawType": "int64",
         "type": "integer"
        },
        {
         "name": "name",
         "rawType": "object",
         "type": "string"
        },
        {
         "name": "description",
         "rawType": "object",
         "type": "string"
        },
        {
         "name": "host_id",
         "rawType": "int64",
         "type": "integer"
        },
        {
         "name": "neighbourhood_name",
         "rawType": "object",
         "type": "string"
        },
        {
         "name": "neighbourhood_district",
         "rawType": "object",
         "type": "unknown"
        },
        {
         "name": "room_type",
         "rawType": "object",
         "type": "string"
        },
        {
         "name": "accommodates",
         "rawType": "int64",
         "type": "integer"
        },
        {
         "name": "bathrooms",
         "rawType": "object",
         "type": "string"
        },
        {
         "name": "bedrooms",
         "rawType": "object",
         "type": "string"
        },
        {
         "name": "beds",
         "rawType": "float64",
         "type": "float"
        },
        {
         "name": "amenities_list",
         "rawType": "object",
         "type": "string"
        },
        {
         "name": "price",
         "rawType": "float64",
         "type": "float"
        },
        {
         "name": "minimum_nights",
         "rawType": "int64",
         "type": "integer"
        },
        {
         "name": "maximum_nights",
         "rawType": "int64",
         "type": "integer"
        },
        {
         "name": "has_availability",
         "rawType": "object",
         "type": "string"
        },
        {
         "name": "availability_30",
         "rawType": "int64",
         "type": "integer"
        },
        {
         "name": "availability_60",
         "rawType": "int64",
         "type": "integer"
        },
        {
         "name": "availability_90",
         "rawType": "int64",
         "type": "integer"
        },
        {
         "name": "availability_365",
         "rawType": "int64",
         "type": "integer"
        },
        {
         "name": "number_of_reviews",
         "rawType": "int64",
         "type": "integer"
        },
        {
         "name": "first_review_date",
         "rawType": "datetime64[ns]",
         "type": "datetime"
        },
        {
         "name": "last_review_date",
         "rawType": "datetime64[ns]",
         "type": "datetime"
        },
        {
         "name": "review_scores_rating",
         "rawType": "float64",
         "type": "float"
        },
        {
         "name": "review_scores_accuracy",
         "rawType": "float64",
         "type": "float"
        },
        {
         "name": "review_scores_cleanliness",
         "rawType": "float64",
         "type": "float"
        },
        {
         "name": "review_scores_checkin",
         "rawType": "float64",
         "type": "float"
        },
        {
         "name": "review_scores_communication",
         "rawType": "float64",
         "type": "float"
        },
        {
         "name": "review_scores_location",
         "rawType": "float64",
         "type": "float"
        },
        {
         "name": "review_scores_value",
         "rawType": "float64",
         "type": "float"
        },
        {
         "name": "is_instant_bookable",
         "rawType": "object",
         "type": "string"
        },
        {
         "name": "reviews_per_month",
         "rawType": "float64",
         "type": "float"
        },
        {
         "name": "country",
         "rawType": "object",
         "type": "string"
        },
        {
         "name": "city",
         "rawType": "object",
         "type": "string"
        },
        {
         "name": "insert_date",
         "rawType": "datetime64[ns]",
         "type": "datetime"
        }
       ],
       "conversionMethod": "pd.DataFrame",
       "ref": "7ffe603d-abd6-4bd1-a3a9-47fa06f6eef8",
       "rows": [
        [
         "4067",
         "18263766",
         "Apartamento 1a linea mar con parquing",
         "Apartamento de 90 m2, primera l�nea de mar, en una zona tranquila, a 5 minutos del centro. Dispone de comedor con terraza, 3 habitaciones dobles, 2 terrazas, 2 ba�os y cocina. Es un apartamento muy luminoso, con amplios ventanales. En la terraza podr�s comer, disfrutando de la vista del paseo mar�timo oyendo las olas del mar.<br /><br /><b>The space</b><br />*No se admiten fiestas, ni eventos.<br />*Estancia m�nima 2 noches<br /><br /><b>Guest access</b><br />Tienen acceso a todo el apartamento.<br />Cocina totalmente equipada.<br />Dispone de toallas.<br /><br /><b>Other things to note</b><br />Horario de llegada: A partir de las 14h. hasta 21h.<br />No se aceptan animales de compa��a.<br /><br /><b>License number</b><br />HUTG-026832",
         "126077779",
         "Castell-Platja d'Aro",
         null,
         "Entire home/apt",
         "6",
         "2",
         "3",
         "7.0",
         "Cooking basics, Hair dryer, Heating, TV, Bed linens, Private entrance, Iron, Extra pillows and blankets, Wifi, Hot water, Stove, Patio or balcony, Essentials, Oven, Refrigerator, Dishes and silverware, Elevator, Dedicated workspace, Microwave, Childrenu2019s dinnerware, Washer, Luggage dropoff allowed, Kitchen, Coffee maker, Dishwasher, Beachfront, Long term stays allowed, Hangers, Childrenu2019s books and toys, Building staff, Free parking on premises]",
         "1050.0",
         "2",
         "1125",
         "VERDADERO",
         "29",
         "59",
         "89",
         "144",
         "47",
         "2017-05-01 00:00:00",
         "2020-09-13 00:00:00",
         "940.0",
         "100.0",
         "90.0",
         "100.0",
         "100.0",
         "100.0",
         "90.0",
         "FALSO",
         "101.0",
         "spain",
         "girona",
         "2021-02-27 00:00:00"
        ],
        [
         "5294",
         "21577762",
         "Rustic Chic Studio Downtown (C80)",
         "Welcome to our brand new apartment in the center of town!<br /><br />It has the perfect combination between a rustic and chic decoration with everything you need to make a wonderful vacation.<br /><br />The apartment has a double bed, Tv, A/C bathroom and a fully equipped kitchen. To complete, there is a balcony with a table for outside breakfasts or just to enjoy the view of the city!<br /><br />It also has a very cool shared Terrace on the rooftop . <br /><br />Located in the heart of the city, withing walking distance to all the sights that the city center has to offer, restaurants, shops, bars...<br /><br /><br />La Recepcion Team will give you all the help you might need to make your stay in Malaga so much better and how to spend your time . <br /><br />Ask us about the sights, good restaurants, bars, markets, nice beaches, public or private transport and even private parking spaces in the center of the city  .<br /><br />We will be very happy to help you .<br /><br /> Size: 35 m2",
         "5890675",
         "Centro",
         null,
         "Entire home/apt",
         "2",
         "1",
         "1",
         "1.0",
         "Essentials, Kitchen, Hair dryer, Bed linens, Toaster, Heating, Air conditioning, Wifi, Coffee maker, Cooking basics, Microwave, TV, Electric stove, Long term stays allowed, Smart lock, Washer, Patio or balcony, Childrenu2019s books and toys]",
         "550.0",
         "1",
         "1125",
         "VERDADERO",
         "0",
         "0",
         "0",
         "242",
         "98",
         "2017-11-17 00:00:00",
         "2020-07-18 00:00:00",
         "920.0",
         "100.0",
         "100.0",
         "100.0",
         "100.0",
         "100.0",
         "100.0",
         "VERDADERO",
         "245.0",
         "spain",
         "malaga",
         "2021-02-27 00:00:00"
        ],
        [
         "461",
         "1584877",
         "Sea view penthouse in Calan Porter",
         "Lovely and cozy sea view penthouse in the residential area of Siesta Mar placed in the village of Calan Porter, Menorca. Your stay will be unforgettable for the relaxing breakfasts and romantic dinners in our terrace.<br /><br /><b>The space</b><br />Two double bedrooms and a spacious living room makes it a remarkable place for your holidays. A large sea view terrace also with Monte Toro clearly spotted on the east.<br /><br /><b>Other things to note</b><br />Extra cleaning service available at a low cost.",
         "8443770",
         "Alaior",
         null,
         "Entire home/apt",
         "4",
         "1",
         "2",
         "4.0",
         "Waterfront, Pack u2019n Play/travel crib, Patio or balcony, Oven, Wifi, Essentials, Coffee maker, Free parking on premises, Shampoo, Extra pillows and blankets, Iron, Dishes and silverware, Refrigerator, Bed linens, Luggage dropoff allowed, Kitchen, Bathtub, Outlet covers, Indoor fireplace, Long term stays allowed, High chair, Pool, Lockbox, Microwave, TV, Stove, Hangers, Hot water, Washer, Free street parking, Hair dryer, Cooking basics]",
         "740.0",
         "3",
         "1125",
         "VERDADERO",
         "30",
         "60",
         "90",
         "352",
         "38",
         "2015-06-20 00:00:00",
         "2020-08-26 00:00:00",
         "880.0",
         "90.0",
         "90.0",
         "90.0",
         "100.0",
         "90.0",
         "90.0",
         "VERDADERO",
         "55.0",
         "spain",
         "menorca",
         "2021-02-27 00:00:00"
        ],
        [
         "5637",
         "22626728",
         "Atic Colera",
         "Atico con mucha mucha luz, con 2 terrazas exteriores de 30 m2 cada una y vistas al mar y piscina en una terraza y a la montanya en la otra. Muy tranquilo<br /><br /><b>Guest access</b><br />El atico dispone de una piscina comunitaria<br /><br /><b>License number</b><br />HUTG-036786",
         "166569559",
         "Colera",
         null,
         "Entire home/apt",
         "6",
         "2",
         "3",
         "5.0",
         "Bathtub, Free parking on premises, Free street parking, Shampoo, Refrigerator, Long term stays allowed, Essentials, Bed linens, Childrenu2019s books and toys, Microwave, Host greets you, Dishwasher, Beachfront, Pool, Room-darkening shades, Heating, Luggage dropoff allowed, Dedicated workspace, Hangers, Cooking basics, Smoke alarm, Coffee maker, Washer, TV, High chair, Air conditioning, Extra pillows and blankets, Private entrance, Iron, Dishes and silverware, Waterfront, Kitchen, Elevator, Hot water, Childrenu2019s dinnerware, Patio or balcony, Hair dryer, Oven, Stove]",
         "1150.0",
         "2",
         "1125",
         "VERDADERO",
         "28",
         "58",
         "88",
         "339",
         "10",
         "2018-06-24 00:00:00",
         "2019-09-11 00:00:00",
         "980.0",
         "100.0",
         "90.0",
         "100.0",
         "100.0",
         "100.0",
         "100.0",
         "FALSO",
         "31.0",
         "spain",
         "girona",
         "2021-02-27 00:00:00"
        ],
        [
         "5078",
         "20854917",
         "Estudio para 2 personas zona Arenal",
         "Este estudio de 25 m2 presenta una decoraci�n moderna y dispone de aire acondicionado. Adem�s, ofrece 1 dormitorio doble y TV de pantalla plana v�a sat�lite, ba�o privado con secador de pelo y toallas, y cocina equipada. Hay WiFi gratuita en todas las habitaciones y el alojamiento tiene acceso a una terraza compartida con zona de sol�rium y al sal�n executive. <br />Este estudio goza de una ventana con vistas a un patio interior.<br /><br /><b>Guest access</b><br />Lobby y Terraza Solarium<br /><br /><b>License number</b><br />RTA A/SE/00218",
         "137959507",
         "Arenal",
         "Casco Antiguo",
         "Hotel room",
         "2",
         "1",
         "1",
         "1.0",
         "Lockbox, Air conditioning, Carbon monoxide alarm, Fire extinguisher, Luggage dropoff allowed, Heating, Elevator, Washer, First aid kit, Kitchen, Iron, Dryer, Paid parking on premises, Hair dryer, Hangers, Essentials, Long term stays allowed, Crib, Shampoo, Smoke alarm, TV, High chair, Dedicated workspace, Wifi, Hot water]",
         "700.0",
         "1",
         "30",
         "VERDADERO",
         "25",
         "39",
         "59",
         "255",
         "1",
         "2018-11-12 00:00:00",
         "2018-11-12 00:00:00",
         "800.0",
         "60.0",
         "100.0",
         "100.0",
         "100.0",
         "100.0",
         "100.0",
         "VERDADERO",
         "4.0",
         "spain",
         "sevilla",
         "2021-02-27 00:00:00"
        ]
       ],
       "shape": {
        "columns": 35,
        "rows": 5
       }
      },
      "text/html": [
       "<div>\n",
       "<style scoped>\n",
       "    .dataframe tbody tr th:only-of-type {\n",
       "        vertical-align: middle;\n",
       "    }\n",
       "\n",
       "    .dataframe tbody tr th {\n",
       "        vertical-align: top;\n",
       "    }\n",
       "\n",
       "    .dataframe thead th {\n",
       "        text-align: right;\n",
       "    }\n",
       "</style>\n",
       "<table border=\"1\" class=\"dataframe\">\n",
       "  <thead>\n",
       "    <tr style=\"text-align: right;\">\n",
       "      <th></th>\n",
       "      <th>apartment_id</th>\n",
       "      <th>name</th>\n",
       "      <th>description</th>\n",
       "      <th>host_id</th>\n",
       "      <th>neighbourhood_name</th>\n",
       "      <th>neighbourhood_district</th>\n",
       "      <th>room_type</th>\n",
       "      <th>accommodates</th>\n",
       "      <th>bathrooms</th>\n",
       "      <th>bedrooms</th>\n",
       "      <th>...</th>\n",
       "      <th>review_scores_cleanliness</th>\n",
       "      <th>review_scores_checkin</th>\n",
       "      <th>review_scores_communication</th>\n",
       "      <th>review_scores_location</th>\n",
       "      <th>review_scores_value</th>\n",
       "      <th>is_instant_bookable</th>\n",
       "      <th>reviews_per_month</th>\n",
       "      <th>country</th>\n",
       "      <th>city</th>\n",
       "      <th>insert_date</th>\n",
       "    </tr>\n",
       "  </thead>\n",
       "  <tbody>\n",
       "    <tr>\n",
       "      <th>4067</th>\n",
       "      <td>18263766</td>\n",
       "      <td>Apartamento 1a linea mar con parquing</td>\n",
       "      <td>Apartamento de 90 m2, primera l�nea de mar, en...</td>\n",
       "      <td>126077779</td>\n",
       "      <td>Castell-Platja d'Aro</td>\n",
       "      <td>None</td>\n",
       "      <td>Entire home/apt</td>\n",
       "      <td>6</td>\n",
       "      <td>2</td>\n",
       "      <td>3</td>\n",
       "      <td>...</td>\n",
       "      <td>90.0</td>\n",
       "      <td>100.0</td>\n",
       "      <td>100.0</td>\n",
       "      <td>100.0</td>\n",
       "      <td>90.0</td>\n",
       "      <td>FALSO</td>\n",
       "      <td>101.0</td>\n",
       "      <td>spain</td>\n",
       "      <td>girona</td>\n",
       "      <td>2021-02-27</td>\n",
       "    </tr>\n",
       "    <tr>\n",
       "      <th>5294</th>\n",
       "      <td>21577762</td>\n",
       "      <td>Rustic Chic Studio Downtown (C80)</td>\n",
       "      <td>Welcome to our brand new apartment in the cent...</td>\n",
       "      <td>5890675</td>\n",
       "      <td>Centro</td>\n",
       "      <td>None</td>\n",
       "      <td>Entire home/apt</td>\n",
       "      <td>2</td>\n",
       "      <td>1</td>\n",
       "      <td>1</td>\n",
       "      <td>...</td>\n",
       "      <td>100.0</td>\n",
       "      <td>100.0</td>\n",
       "      <td>100.0</td>\n",
       "      <td>100.0</td>\n",
       "      <td>100.0</td>\n",
       "      <td>VERDADERO</td>\n",
       "      <td>245.0</td>\n",
       "      <td>spain</td>\n",
       "      <td>malaga</td>\n",
       "      <td>2021-02-27</td>\n",
       "    </tr>\n",
       "    <tr>\n",
       "      <th>461</th>\n",
       "      <td>1584877</td>\n",
       "      <td>Sea view penthouse in Calan Porter</td>\n",
       "      <td>Lovely and cozy sea view penthouse in the resi...</td>\n",
       "      <td>8443770</td>\n",
       "      <td>Alaior</td>\n",
       "      <td>None</td>\n",
       "      <td>Entire home/apt</td>\n",
       "      <td>4</td>\n",
       "      <td>1</td>\n",
       "      <td>2</td>\n",
       "      <td>...</td>\n",
       "      <td>90.0</td>\n",
       "      <td>90.0</td>\n",
       "      <td>100.0</td>\n",
       "      <td>90.0</td>\n",
       "      <td>90.0</td>\n",
       "      <td>VERDADERO</td>\n",
       "      <td>55.0</td>\n",
       "      <td>spain</td>\n",
       "      <td>menorca</td>\n",
       "      <td>2021-02-27</td>\n",
       "    </tr>\n",
       "    <tr>\n",
       "      <th>5637</th>\n",
       "      <td>22626728</td>\n",
       "      <td>Atic Colera</td>\n",
       "      <td>Atico con mucha mucha luz, con 2 terrazas exte...</td>\n",
       "      <td>166569559</td>\n",
       "      <td>Colera</td>\n",
       "      <td>None</td>\n",
       "      <td>Entire home/apt</td>\n",
       "      <td>6</td>\n",
       "      <td>2</td>\n",
       "      <td>3</td>\n",
       "      <td>...</td>\n",
       "      <td>90.0</td>\n",
       "      <td>100.0</td>\n",
       "      <td>100.0</td>\n",
       "      <td>100.0</td>\n",
       "      <td>100.0</td>\n",
       "      <td>FALSO</td>\n",
       "      <td>31.0</td>\n",
       "      <td>spain</td>\n",
       "      <td>girona</td>\n",
       "      <td>2021-02-27</td>\n",
       "    </tr>\n",
       "    <tr>\n",
       "      <th>5078</th>\n",
       "      <td>20854917</td>\n",
       "      <td>Estudio para 2 personas zona Arenal</td>\n",
       "      <td>Este estudio de 25 m2 presenta una decoraci�n ...</td>\n",
       "      <td>137959507</td>\n",
       "      <td>Arenal</td>\n",
       "      <td>Casco Antiguo</td>\n",
       "      <td>Hotel room</td>\n",
       "      <td>2</td>\n",
       "      <td>1</td>\n",
       "      <td>1</td>\n",
       "      <td>...</td>\n",
       "      <td>100.0</td>\n",
       "      <td>100.0</td>\n",
       "      <td>100.0</td>\n",
       "      <td>100.0</td>\n",
       "      <td>100.0</td>\n",
       "      <td>VERDADERO</td>\n",
       "      <td>4.0</td>\n",
       "      <td>spain</td>\n",
       "      <td>sevilla</td>\n",
       "      <td>2021-02-27</td>\n",
       "    </tr>\n",
       "  </tbody>\n",
       "</table>\n",
       "<p>5 rows × 35 columns</p>\n",
       "</div>"
      ],
      "text/plain": [
       "      apartment_id                                   name  \\\n",
       "4067      18263766  Apartamento 1a linea mar con parquing   \n",
       "5294      21577762      Rustic Chic Studio Downtown (C80)   \n",
       "461        1584877     Sea view penthouse in Calan Porter   \n",
       "5637      22626728                            Atic Colera   \n",
       "5078      20854917    Estudio para 2 personas zona Arenal   \n",
       "\n",
       "                                            description    host_id  \\\n",
       "4067  Apartamento de 90 m2, primera l�nea de mar, en...  126077779   \n",
       "5294  Welcome to our brand new apartment in the cent...    5890675   \n",
       "461   Lovely and cozy sea view penthouse in the resi...    8443770   \n",
       "5637  Atico con mucha mucha luz, con 2 terrazas exte...  166569559   \n",
       "5078  Este estudio de 25 m2 presenta una decoraci�n ...  137959507   \n",
       "\n",
       "        neighbourhood_name neighbourhood_district        room_type  \\\n",
       "4067  Castell-Platja d'Aro                   None  Entire home/apt   \n",
       "5294                Centro                   None  Entire home/apt   \n",
       "461                 Alaior                   None  Entire home/apt   \n",
       "5637                Colera                   None  Entire home/apt   \n",
       "5078                Arenal          Casco Antiguo       Hotel room   \n",
       "\n",
       "      accommodates bathrooms bedrooms  ...  review_scores_cleanliness  \\\n",
       "4067             6         2        3  ...                       90.0   \n",
       "5294             2         1        1  ...                      100.0   \n",
       "461              4         1        2  ...                       90.0   \n",
       "5637             6         2        3  ...                       90.0   \n",
       "5078             2         1        1  ...                      100.0   \n",
       "\n",
       "     review_scores_checkin  review_scores_communication  \\\n",
       "4067                 100.0                        100.0   \n",
       "5294                 100.0                        100.0   \n",
       "461                   90.0                        100.0   \n",
       "5637                 100.0                        100.0   \n",
       "5078                 100.0                        100.0   \n",
       "\n",
       "      review_scores_location  review_scores_value is_instant_bookable  \\\n",
       "4067                   100.0                 90.0               FALSO   \n",
       "5294                   100.0                100.0           VERDADERO   \n",
       "461                     90.0                 90.0           VERDADERO   \n",
       "5637                   100.0                100.0               FALSO   \n",
       "5078                   100.0                100.0           VERDADERO   \n",
       "\n",
       "      reviews_per_month  country     city  insert_date  \n",
       "4067              101.0    spain   girona   2021-02-27  \n",
       "5294              245.0    spain   malaga   2021-02-27  \n",
       "461                55.0    spain  menorca   2021-02-27  \n",
       "5637               31.0    spain   girona   2021-02-27  \n",
       "5078                4.0    spain  sevilla   2021-02-27  \n",
       "\n",
       "[5 rows x 35 columns]"
      ]
     },
     "execution_count": 10,
     "metadata": {},
     "output_type": "execute_result"
    }
   ],
   "source": [
    "df_limpio = mantener_fecha_mas_reciente(df, columna_id='apartment_id', columna_fecha='insert_date')\n",
    "df_limpio.head()"
   ]
  },
  {
   "cell_type": "markdown",
   "id": "b627bf34",
   "metadata": {},
   "source": [
    "### Normalizacion de \"Amenities\""
   ]
  },
  {
   "cell_type": "markdown",
   "id": "8e2d2608",
   "metadata": {},
   "source": [
    "#### Diccionario de equivalencias "
   ]
  },
  {
   "cell_type": "code",
   "execution_count": 11,
   "id": "79b071bc",
   "metadata": {},
   "outputs": [],
   "source": [
    "equivalencias = {\n",
    "    # Categoría: Conectividad\n",
    "    \"wifi\": [\"wifi\", \"wi-fi\", \"wireless connection\", \"wireless internet\", \"wifi – 100 mbps\", \"pocket wifi\"],\n",
    "    \n",
    "    # Categoría: Entretenimiento\n",
    "    \"tv\": [\"tv\", \"television\", \"cable tv\", \"smart tv\", \"netflix\", \"43 hdtv with netflix\", \"dvd player\"],\n",
    "    \n",
    "    # Categoría: Climatización\n",
    "    \"air conditioning\": [\"air conditioning\", \"ac\", \"central air conditioning\", \"ceiling fan\"],\n",
    "    \"heating\": [\"heating\", \"central heating\"],\n",
    "\n",
    "    # Categoría: Cocina\n",
    "    \"nespresso machine\": [\"nespresso machine\", \"espresso machine\", \"coffee maker\", \"pour-over coffee\", \"pour over coffee\"],\n",
    "    \"oven\": [\"oven\", \"convection oven\", \"stainless steel oven\", \"double oven\"],\n",
    "    \"stove\": [\"stove\", \"electric stove\", \"gas oven\", \"stainless steel stove\"],\n",
    "    \"toaster\": [\"toaster\", \"bread maker\"],\n",
    "    \"baking sheet\": [\"baking sheet\"],\n",
    "    \"dishwasher\": [\"dishwasher\"],\n",
    "    \"kitchen\": [\"kitchen\", \"full kitchen\", \"chef's kitchen\", \"kitchenette\", \"cooking basics\"],\n",
    "    \"microwave\": [\"microwave\", \"microwave oven\"],\n",
    "\n",
    "    # Categoría: Habitaciones y camas\n",
    "    \"bed linens\": [\"bed linens\", \"extra pillows and blankets\", \"memory foam mattress\", \"pillow-top mattress\", \"firm mattress\"],\n",
    "    \"crib\": [\"crib\", \"pack u2019n play/travel crib\", \"pack 'n play/travel crib\"],\n",
    "\n",
    "    # Categoría: Baños\n",
    "    \"bathtub\": [\"bathtub\", \"soaking tub\", \"hot tub\"],\n",
    "    \"shower\": [\"roll-in shower\", \"rain shower\", \"shower chair\", \"step-free shower\", \"handheld shower head\"],\n",
    "    \"bathroom essentials\": [\"toilet paper\", \"conditioner\", \"shampoo\", \"body soap\", \"bathroom essentials\"],\n",
    "    \"hot water\": [\"hot water\", \"hot water kettle\"],\n",
    "\n",
    "    # Categoría: Accesibilidad\n",
    "    \"wheelchair accessible\": [\"wheelchair accessible\", \"flat path to guest entrance\", \"no stairs or steps to enter\", \"step-free access\"],\n",
    "    \"wide clearance\": [\"wide clearance to shower & toilet\", \"wide clearance to bed\", \"wide doorway\", \"wide hallways\"],\n",
    "    \"accessible-height bed\": [\"accessible-height bed\", \"accessible-height toilet\"],\n",
    "\n",
    "    # Categoría: Exterior\n",
    "    \"balcony\": [\"balcony\", \"patio or balcony\"],\n",
    "    \"garden or backyard\": [\"garden or backyard\", \"shared garden or backyard\"],\n",
    "    \"outdoor seating\": [\"outdoor seating\", \"terrace\", \"bbq grill\"],\n",
    "    \"beachfront\": [\"beachfront\", \"beach essentials\", \"waterfront\"],\n",
    "\n",
    "    # Categoría: Niños y familia\n",
    "    \"children's amenities\": [\"children s books and toys\", \"children s dinnerware\", \"baby bath\", \"changing table\", \"stair gates\", \"table corner guards\"],\n",
    "    \"high chair\": [\"high chair\"],\n",
    "\n",
    "    # Categoría: Seguridad\n",
    "    \"fire safety\": [\"fire extinguisher\", \"smoke alarm\", \"carbon monoxide alarm\", \"carbon monoxide detector\", \"fireplace guards\"],\n",
    "    \"security system\": [\"security system\"],\n",
    "\n",
    "    # Categoría: Gimnasio y lujo\n",
    "    \"gym\": [\"gym\", \"exercise equipment\"],\n",
    "    \"bluetooth sound system\": [\"bluetooth sound system\", \"sound system\"],\n",
    "    \"heated towel rack\": [\"heated towel rack\"],\n",
    "    \"wine glasses\": [\"wine glasses\"],\n",
    "\n",
    "    # Categoría: Estacionamiento\n",
    "    \"free parking\": [\"free parking on premises\", \"free parking on street\", \"free street parking\"],\n",
    "    \"paid parking\": [\"paid parking on premises\", \"paid parking off premises\", \"paid parking garage\"],\n",
    "\n",
    "    # Categoría: Otros\n",
    "    \"iron\": [\"iron\", \"ironing board\"],\n",
    "    \"workspace\": [\"dedicated workspace\", \"laptop-friendly workspace\", \"office\", \"printer\"],\n",
    "    \"lockbox\": [\"lockbox\"],\n",
    "    \"hangers\": [\"hangers\"]\n",
    "}\n",
    "# Se puede actualizar el diccionario, segun se ingresen mas caracteristicas \n",
    "\n"
   ]
  },
  {
   "cell_type": "markdown",
   "id": "906daeb6",
   "metadata": {},
   "source": [
    "#### Funcion que normaliza las amenities\n"
   ]
  },
  {
   "cell_type": "code",
   "execution_count": 12,
   "id": "fd693895",
   "metadata": {},
   "outputs": [],
   "source": [
    "def normalizar_amenities(amenities, equivalencias):\n",
    "    if not amenities:  # Si 'amenities' es None o está vacío\n",
    "        return ''  # Retornamos un string vacío\n",
    "    normalized = set()  # Usamos un conjunto para evitar duplicados\n",
    "    for amenity in amenities.split(','):  # Dividimos por comas las amenidades\n",
    "        matched = False\n",
    "        for key, synonyms in equivalencias.items():\n",
    "            for synonym in synonyms:\n",
    "                if synonym.lower() in amenity.lower().strip():\n",
    "                    normalized.add(key)\n",
    "                    matched = True\n",
    "                    break\n",
    "        if not matched:  # Si no coincide con ninguna clave del diccionario\n",
    "            normalized.add(amenity.lower().strip())  # Agregamos la amenidad como está\n",
    "    return ', '.join(normalized)  # Retornamos las amenidades normalizadas"
   ]
  },
  {
   "cell_type": "markdown",
   "id": "514c70c6",
   "metadata": {},
   "source": [
    "#### Normalizamos las amenities y creamos una nueva columna con las amenities normalizadas "
   ]
  },
  {
   "cell_type": "code",
   "execution_count": 13,
   "id": "58f61e6b",
   "metadata": {},
   "outputs": [
    {
     "data": {
      "application/vnd.microsoft.datawrangler.viewer.v0+json": {
       "columns": [
        {
         "name": "index",
         "rawType": "int64",
         "type": "integer"
        },
        {
         "name": "normalized_amenities",
         "rawType": "object",
         "type": "string"
        },
        {
         "name": "amenities_list",
         "rawType": "object",
         "type": "string"
        }
       ],
       "conversionMethod": "pd.DataFrame",
       "ref": "02584a2e-98f0-44c3-b466-303737d9ca54",
       "rows": [
        [
         "4067",
         "refrigerator, balcony, dishes and silverware, stove, heating, iron, elevator, nespresso machine, oven, beachfront, essentials, long term stays allowed, bed linens, childrenu2019s books and toys, air conditioning, tv, hangers, childrenu2019s dinnerware, private entrance, wifi, hair dryer, washer, kitchen, microwave, luggage dropoff allowed, hot water, workspace, building staff, dishwasher, free parking",
         "Cooking basics, Hair dryer, Heating, TV, Bed linens, Private entrance, Iron, Extra pillows and blankets, Wifi, Hot water, Stove, Patio or balcony, Essentials, Oven, Refrigerator, Dishes and silverware, Elevator, Dedicated workspace, Microwave, Childrenu2019s dinnerware, Washer, Luggage dropoff allowed, Kitchen, Coffee maker, Dishwasher, Beachfront, Long term stays allowed, Hangers, Childrenu2019s books and toys, Building staff, Free parking on premises]"
        ],
        [
         "5294",
         "essentials, hair dryer, washer, long term stays allowed, toaster, kitchen, microwave, bed linens, balcony, stove, heating, childrenu2019s books and toys], smart lock, wifi, air conditioning, tv, nespresso machine",
         "Essentials, Kitchen, Hair dryer, Bed linens, Toaster, Heating, Air conditioning, Wifi, Coffee maker, Cooking basics, Microwave, TV, Electric stove, Long term stays allowed, Smart lock, Washer, Patio or balcony, Childrenu2019s books and toys]"
        ],
        [
         "461",
         "refrigerator, balcony, dishes and silverware, bathroom essentials, stove, iron, bathtub, crib, beachfront, nespresso machine, oven, essentials, long term stays allowed, bed linens, air conditioning, tv, hangers, pool, free parking, wifi, lockbox, hair dryer, washer, kitchen, microwave, luggage dropoff allowed, hot water, high chair, outlet covers",
         "Waterfront, Pack u2019n Play/travel crib, Patio or balcony, Oven, Wifi, Essentials, Coffee maker, Free parking on premises, Shampoo, Extra pillows and blankets, Iron, Dishes and silverware, Refrigerator, Bed linens, Luggage dropoff allowed, Kitchen, Bathtub, Outlet covers, Indoor fireplace, Long term stays allowed, High chair, Pool, Lockbox, Microwave, TV, Stove, Hangers, Hot water, Washer, Free street parking, Hair dryer, Cooking basics]"
        ],
        [
         "5637",
         "refrigerator, balcony, dishes and silverware, bathroom essentials, heating, iron, stove, bathtub, beachfront, host greets you, nespresso machine, elevator, oven, essentials, long term stays allowed, bed linens, childrenu2019s books and toys, room-darkening shades, air conditioning, tv, hangers, childrenu2019s dinnerware, private entrance, pool, hair dryer, washer, kitchen, microwave, fire safety, luggage dropoff allowed, hot water, workspace, dishwasher, high chair, free parking",
         "Bathtub, Free parking on premises, Free street parking, Shampoo, Refrigerator, Long term stays allowed, Essentials, Bed linens, Childrenu2019s books and toys, Microwave, Host greets you, Dishwasher, Beachfront, Pool, Room-darkening shades, Heating, Luggage dropoff allowed, Dedicated workspace, Hangers, Cooking basics, Smoke alarm, Coffee maker, Washer, TV, High chair, Air conditioning, Extra pillows and blankets, Private entrance, Iron, Dishes and silverware, Waterfront, Kitchen, Elevator, Hot water, Childrenu2019s dinnerware, Patio or balcony, Hair dryer, Oven, Stove]"
        ],
        [
         "5078",
         "bathroom essentials, heating, iron, crib, elevator, essentials, long term stays allowed, air conditioning, tv, dryer, hangers, first aid kit, paid parking, wifi, lockbox, hair dryer, washer, kitchen, fire safety, luggage dropoff allowed, hot water, workspace, high chair",
         "Lockbox, Air conditioning, Carbon monoxide alarm, Fire extinguisher, Luggage dropoff allowed, Heating, Elevator, Washer, First aid kit, Kitchen, Iron, Dryer, Paid parking on premises, Hair dryer, Hangers, Essentials, Long term stays allowed, Crib, Shampoo, Smoke alarm, TV, High chair, Dedicated workspace, Wifi, Hot water]"
        ]
       ],
       "shape": {
        "columns": 2,
        "rows": 5
       }
      },
      "text/html": [
       "<div>\n",
       "<style scoped>\n",
       "    .dataframe tbody tr th:only-of-type {\n",
       "        vertical-align: middle;\n",
       "    }\n",
       "\n",
       "    .dataframe tbody tr th {\n",
       "        vertical-align: top;\n",
       "    }\n",
       "\n",
       "    .dataframe thead th {\n",
       "        text-align: right;\n",
       "    }\n",
       "</style>\n",
       "<table border=\"1\" class=\"dataframe\">\n",
       "  <thead>\n",
       "    <tr style=\"text-align: right;\">\n",
       "      <th></th>\n",
       "      <th>normalized_amenities</th>\n",
       "      <th>amenities_list</th>\n",
       "    </tr>\n",
       "  </thead>\n",
       "  <tbody>\n",
       "    <tr>\n",
       "      <th>4067</th>\n",
       "      <td>refrigerator, balcony, dishes and silverware, ...</td>\n",
       "      <td>Cooking basics, Hair dryer, Heating, TV, Bed l...</td>\n",
       "    </tr>\n",
       "    <tr>\n",
       "      <th>5294</th>\n",
       "      <td>essentials, hair dryer, washer, long term stay...</td>\n",
       "      <td>Essentials, Kitchen, Hair dryer, Bed linens, T...</td>\n",
       "    </tr>\n",
       "    <tr>\n",
       "      <th>461</th>\n",
       "      <td>refrigerator, balcony, dishes and silverware, ...</td>\n",
       "      <td>Waterfront, Pack u2019n Play/travel crib, Pati...</td>\n",
       "    </tr>\n",
       "    <tr>\n",
       "      <th>5637</th>\n",
       "      <td>refrigerator, balcony, dishes and silverware, ...</td>\n",
       "      <td>Bathtub, Free parking on premises, Free street...</td>\n",
       "    </tr>\n",
       "    <tr>\n",
       "      <th>5078</th>\n",
       "      <td>bathroom essentials, heating, iron, crib, elev...</td>\n",
       "      <td>Lockbox, Air conditioning, Carbon monoxide ala...</td>\n",
       "    </tr>\n",
       "  </tbody>\n",
       "</table>\n",
       "</div>"
      ],
      "text/plain": [
       "                                   normalized_amenities  \\\n",
       "4067  refrigerator, balcony, dishes and silverware, ...   \n",
       "5294  essentials, hair dryer, washer, long term stay...   \n",
       "461   refrigerator, balcony, dishes and silverware, ...   \n",
       "5637  refrigerator, balcony, dishes and silverware, ...   \n",
       "5078  bathroom essentials, heating, iron, crib, elev...   \n",
       "\n",
       "                                         amenities_list  \n",
       "4067  Cooking basics, Hair dryer, Heating, TV, Bed l...  \n",
       "5294  Essentials, Kitchen, Hair dryer, Bed linens, T...  \n",
       "461   Waterfront, Pack u2019n Play/travel crib, Pati...  \n",
       "5637  Bathtub, Free parking on premises, Free street...  \n",
       "5078  Lockbox, Air conditioning, Carbon monoxide ala...  "
      ]
     },
     "execution_count": 13,
     "metadata": {},
     "output_type": "execute_result"
    }
   ],
   "source": [
    "# Aplicamos la función a la columna 'amenities'\n",
    "df_limpio['normalized_amenities'] = df_limpio['amenities_list'].apply(lambda x: normalizar_amenities(x, equivalencias))\n",
    "\n",
    "# Mostramos el resultado\n",
    "df_limpio[['normalized_amenities', 'amenities_list']].head()"
   ]
  },
  {
   "cell_type": "markdown",
   "id": "133a3bf5",
   "metadata": {},
   "source": [
    "#### Mostrar la diferencia entre amenities unicas con y sin normalizar"
   ]
  },
  {
   "cell_type": "code",
   "execution_count": 14,
   "id": "f05b5536",
   "metadata": {},
   "outputs": [
    {
     "name": "stdout",
     "output_type": "stream",
     "text": [
      "Amenidades originales únicas: 308\n",
      "Amenidades normalizadas únicas: 180\n"
     ]
    }
   ],
   "source": [
    "# Extraer las amenidades originales únicas\n",
    "amenidades_originales = set()\n",
    "df_limpio['amenities_list'].dropna().apply(lambda x: [amenidades_originales.add(i.strip().lower()) for i in x.split(',')])\n",
    "\n",
    "# Extraer las amenidades normalizadas únicas\n",
    "amenidades_normalizadas = set()\n",
    "df_limpio['normalized_amenities'].dropna().apply(lambda x: [amenidades_normalizadas.add(i.strip().lower()) for i in x.split(',')])\n",
    "\n",
    "# Mostrar las amenidades únicas\n",
    "print(\"Amenidades originales únicas:\", len(amenidades_originales))\n",
    "print(\"Amenidades normalizadas únicas:\", len(amenidades_normalizadas))"
   ]
  }
 ],
 "metadata": {
  "kernelspec": {
   "display_name": "Python 3",
   "language": "python",
   "name": "python3"
  },
  "language_info": {
   "codemirror_mode": {
    "name": "ipython",
    "version": 3
   },
   "file_extension": ".py",
   "mimetype": "text/x-python",
   "name": "python",
   "nbconvert_exporter": "python",
   "pygments_lexer": "ipython3",
   "version": "3.12.5"
  }
 },
 "nbformat": 4,
 "nbformat_minor": 5
}
