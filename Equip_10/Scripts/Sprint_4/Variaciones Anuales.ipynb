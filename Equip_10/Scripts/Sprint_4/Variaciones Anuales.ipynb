{
 "cells": [
  {
   "cell_type": "code",
   "execution_count": 2,
   "id": "26cdd853",
   "metadata": {},
   "outputs": [],
   "source": [
    "import pandas as pd\n",
    "import numpy as np\n",
    "import matplotlib.pyplot as plt\n",
    "import plotly.express as px\n"
   ]
  },
  {
   "cell_type": "code",
   "execution_count": 3,
   "id": "90bd11d7",
   "metadata": {},
   "outputs": [],
   "source": [
    "df = pd.read_csv(\"df_resid_limpio.csv\")"
   ]
  },
  {
   "cell_type": "code",
   "execution_count": 4,
   "id": "b7a34204",
   "metadata": {},
   "outputs": [
    {
     "data": {
      "application/vnd.microsoft.datawrangler.viewer.v0+json": {
       "columns": [
        {
         "name": "index",
         "rawType": "int64",
         "type": "integer"
        },
        {
         "name": "RESIDENCIA/ORIGEN",
         "rawType": "object",
         "type": "string"
        },
        {
         "name": "Países",
         "rawType": "object",
         "type": "unknown"
        },
        {
         "name": "Viajeros y pernoctaciones",
         "rawType": "object",
         "type": "string"
        },
        {
         "name": "Total",
         "rawType": "float64",
         "type": "float"
        },
        {
         "name": "Año",
         "rawType": "int64",
         "type": "integer"
        },
        {
         "name": "mes",
         "rawType": "int64",
         "type": "integer"
        },
        {
         "name": "Nom_mes",
         "rawType": "object",
         "type": "string"
        }
       ],
       "ref": "698ec790-86f5-4f41-b8ea-d82893bcc6e5",
       "rows": [
        [
         "0",
         "Total",
         null,
         "Viajero",
         "10018537.0",
         "2025",
         "4",
         "Abril"
        ],
        [
         "1",
         "Total",
         null,
         "Viajero",
         "7680722.0",
         "2025",
         "3",
         "Marzo"
        ],
        [
         "2",
         "Total",
         null,
         "Viajero",
         "6539960.0",
         "2025",
         "2",
         "Febrero"
        ],
        [
         "3",
         "Total",
         null,
         "Viajero",
         "5776075.0",
         "2025",
         "1",
         "Enero"
        ],
        [
         "4",
         "Total",
         null,
         "Viajero",
         "6553489.0",
         "2024",
         "12",
         "Diciembre"
        ],
        [
         "5",
         "Total",
         null,
         "Viajero",
         "7171221.0",
         "2024",
         "11",
         "Noviembre"
        ],
        [
         "6",
         "Total",
         null,
         "Viajero",
         "10774309.0",
         "2024",
         "10",
         "Octubre"
        ],
        [
         "7",
         "Total",
         null,
         "Viajero",
         "11821379.0",
         "2024",
         "9",
         "Septiembre"
        ],
        [
         "8",
         "Total",
         null,
         "Viajero",
         "13586095.0",
         "2024",
         "8",
         "Agosto"
        ],
        [
         "9",
         "Total",
         null,
         "Viajero",
         "12703213.0",
         "2024",
         "7",
         "Julio"
        ],
        [
         "10",
         "Total",
         null,
         "Viajero",
         "11905082.0",
         "2024",
         "6",
         "Junio"
        ],
        [
         "11",
         "Total",
         null,
         "Viajero",
         "11776729.0",
         "2024",
         "5",
         "Mayo"
        ],
        [
         "12",
         "Total",
         null,
         "Viajero",
         "9386103.0",
         "2024",
         "4",
         "Abril"
        ],
        [
         "13",
         "Total",
         null,
         "Viajero",
         "8433226.0",
         "2024",
         "3",
         "Marzo"
        ],
        [
         "14",
         "Total",
         null,
         "Viajero",
         "6512168.0",
         "2024",
         "2",
         "Febrero"
        ],
        [
         "15",
         "Total",
         null,
         "Viajero",
         "5660859.0",
         "2024",
         "1",
         "Enero"
        ],
        [
         "16",
         "Total",
         null,
         "Viajero",
         "6586138.0",
         "2023",
         "12",
         "Diciembre"
        ],
        [
         "17",
         "Total",
         null,
         "Viajero",
         "6798815.0",
         "2023",
         "11",
         "Noviembre"
        ],
        [
         "18",
         "Total",
         null,
         "Viajero",
         "10390441.0",
         "2023",
         "10",
         "Octubre"
        ],
        [
         "19",
         "Total",
         null,
         "Viajero",
         "11627872.0",
         "2023",
         "9",
         "Septiembre"
        ],
        [
         "20",
         "Total",
         null,
         "Viajero",
         "13266497.0",
         "2023",
         "8",
         "Agosto"
        ],
        [
         "21",
         "Total",
         null,
         "Viajero",
         "12680483.0",
         "2023",
         "7",
         "Julio"
        ],
        [
         "22",
         "Total",
         null,
         "Viajero",
         "11535550.0",
         "2023",
         "6",
         "Junio"
        ],
        [
         "23",
         "Total",
         null,
         "Viajero",
         "10580202.0",
         "2023",
         "5",
         "Mayo"
        ],
        [
         "24",
         "Total",
         null,
         "Viajero",
         "9829384.0",
         "2023",
         "4",
         "Abril"
        ],
        [
         "25",
         "Total",
         null,
         "Viajero",
         "7361364.0",
         "2023",
         "3",
         "Marzo"
        ],
        [
         "26",
         "Total",
         null,
         "Viajero",
         "5967064.0",
         "2023",
         "2",
         "Febrero"
        ],
        [
         "27",
         "Total",
         null,
         "Viajero",
         "5367962.0",
         "2023",
         "1",
         "Enero"
        ],
        [
         "28",
         "Total",
         null,
         "Viajero",
         "6054556.0",
         "2022",
         "12",
         "Diciembre"
        ],
        [
         "29",
         "Total",
         null,
         "Viajero",
         "6284698.0",
         "2022",
         "11",
         "Noviembre"
        ],
        [
         "30",
         "Total",
         null,
         "Viajero",
         "9743259.0",
         "2022",
         "10",
         "Octubre"
        ],
        [
         "31",
         "Total",
         null,
         "Viajero",
         "11050305.0",
         "2022",
         "9",
         "Septiembre"
        ],
        [
         "32",
         "Total",
         null,
         "Viajero",
         "12889916.0",
         "2022",
         "8",
         "Agosto"
        ],
        [
         "33",
         "Total",
         null,
         "Viajero",
         "12292936.0",
         "2022",
         "7",
         "Julio"
        ],
        [
         "34",
         "Total",
         null,
         "Viajero",
         "10990468.0",
         "2022",
         "6",
         "Junio"
        ],
        [
         "35",
         "Total",
         null,
         "Viajero",
         "9920671.0",
         "2022",
         "5",
         "Mayo"
        ],
        [
         "36",
         "Total",
         null,
         "Viajero",
         "8689822.0",
         "2022",
         "4",
         "Abril"
        ],
        [
         "37",
         "Total",
         null,
         "Viajero",
         "6061398.0",
         "2022",
         "3",
         "Marzo"
        ],
        [
         "38",
         "Total",
         null,
         "Viajero",
         "5133961.0",
         "2022",
         "2",
         "Febrero"
        ],
        [
         "39",
         "Total",
         null,
         "Viajero",
         "3770578.0",
         "2022",
         "1",
         "Enero"
        ],
        [
         "40",
         "Total",
         null,
         "Viajero",
         "4881952.0",
         "2021",
         "12",
         "Diciembre"
        ],
        [
         "41",
         "Total",
         null,
         "Viajero",
         "5391958.0",
         "2021",
         "11",
         "Noviembre"
        ],
        [
         "42",
         "Total",
         null,
         "Viajero",
         "8131666.0",
         "2021",
         "10",
         "Octubre"
        ],
        [
         "43",
         "Total",
         null,
         "Viajero",
         "8256057.0",
         "2021",
         "9",
         "Septiembre"
        ],
        [
         "44",
         "Total",
         null,
         "Viajero",
         "10408035.0",
         "2021",
         "8",
         "Agosto"
        ],
        [
         "45",
         "Total",
         null,
         "Viajero",
         "8544001.0",
         "2021",
         "7",
         "Julio"
        ],
        [
         "46",
         "Total",
         null,
         "Viajero",
         "5676067.0",
         "2021",
         "6",
         "Junio"
        ],
        [
         "47",
         "Total",
         null,
         "Viajero",
         "3404118.0",
         "2021",
         "5",
         "Mayo"
        ],
        [
         "48",
         "Total",
         null,
         "Viajero",
         "1955719.0",
         "2021",
         "4",
         "Abril"
        ],
        [
         "49",
         "Total",
         null,
         "Viajero",
         "1770722.0",
         "2021",
         "3",
         "Marzo"
        ]
       ],
       "shape": {
        "columns": 7,
        "rows": 20224
       }
      },
      "text/html": [
       "<div>\n",
       "<style scoped>\n",
       "    .dataframe tbody tr th:only-of-type {\n",
       "        vertical-align: middle;\n",
       "    }\n",
       "\n",
       "    .dataframe tbody tr th {\n",
       "        vertical-align: top;\n",
       "    }\n",
       "\n",
       "    .dataframe thead th {\n",
       "        text-align: right;\n",
       "    }\n",
       "</style>\n",
       "<table border=\"1\" class=\"dataframe\">\n",
       "  <thead>\n",
       "    <tr style=\"text-align: right;\">\n",
       "      <th></th>\n",
       "      <th>RESIDENCIA/ORIGEN</th>\n",
       "      <th>Países</th>\n",
       "      <th>Viajeros y pernoctaciones</th>\n",
       "      <th>Total</th>\n",
       "      <th>Año</th>\n",
       "      <th>mes</th>\n",
       "      <th>Nom_mes</th>\n",
       "    </tr>\n",
       "  </thead>\n",
       "  <tbody>\n",
       "    <tr>\n",
       "      <th>0</th>\n",
       "      <td>Total</td>\n",
       "      <td>NaN</td>\n",
       "      <td>Viajero</td>\n",
       "      <td>10018537.0</td>\n",
       "      <td>2025</td>\n",
       "      <td>4</td>\n",
       "      <td>Abril</td>\n",
       "    </tr>\n",
       "    <tr>\n",
       "      <th>1</th>\n",
       "      <td>Total</td>\n",
       "      <td>NaN</td>\n",
       "      <td>Viajero</td>\n",
       "      <td>7680722.0</td>\n",
       "      <td>2025</td>\n",
       "      <td>3</td>\n",
       "      <td>Marzo</td>\n",
       "    </tr>\n",
       "    <tr>\n",
       "      <th>2</th>\n",
       "      <td>Total</td>\n",
       "      <td>NaN</td>\n",
       "      <td>Viajero</td>\n",
       "      <td>6539960.0</td>\n",
       "      <td>2025</td>\n",
       "      <td>2</td>\n",
       "      <td>Febrero</td>\n",
       "    </tr>\n",
       "    <tr>\n",
       "      <th>3</th>\n",
       "      <td>Total</td>\n",
       "      <td>NaN</td>\n",
       "      <td>Viajero</td>\n",
       "      <td>5776075.0</td>\n",
       "      <td>2025</td>\n",
       "      <td>1</td>\n",
       "      <td>Enero</td>\n",
       "    </tr>\n",
       "    <tr>\n",
       "      <th>4</th>\n",
       "      <td>Total</td>\n",
       "      <td>NaN</td>\n",
       "      <td>Viajero</td>\n",
       "      <td>6553489.0</td>\n",
       "      <td>2024</td>\n",
       "      <td>12</td>\n",
       "      <td>Diciembre</td>\n",
       "    </tr>\n",
       "    <tr>\n",
       "      <th>...</th>\n",
       "      <td>...</td>\n",
       "      <td>...</td>\n",
       "      <td>...</td>\n",
       "      <td>...</td>\n",
       "      <td>...</td>\n",
       "      <td>...</td>\n",
       "      <td>...</td>\n",
       "    </tr>\n",
       "    <tr>\n",
       "      <th>20219</th>\n",
       "      <td>Asia (sin Japón)</td>\n",
       "      <td>NaN</td>\n",
       "      <td>Pernoctaciones</td>\n",
       "      <td>25427.0</td>\n",
       "      <td>1999</td>\n",
       "      <td>5</td>\n",
       "      <td>Mayo</td>\n",
       "    </tr>\n",
       "    <tr>\n",
       "      <th>20220</th>\n",
       "      <td>Asia (sin Japón)</td>\n",
       "      <td>NaN</td>\n",
       "      <td>Pernoctaciones</td>\n",
       "      <td>26878.0</td>\n",
       "      <td>1999</td>\n",
       "      <td>4</td>\n",
       "      <td>Abril</td>\n",
       "    </tr>\n",
       "    <tr>\n",
       "      <th>20221</th>\n",
       "      <td>Asia (sin Japón)</td>\n",
       "      <td>NaN</td>\n",
       "      <td>Pernoctaciones</td>\n",
       "      <td>24271.0</td>\n",
       "      <td>1999</td>\n",
       "      <td>3</td>\n",
       "      <td>Marzo</td>\n",
       "    </tr>\n",
       "    <tr>\n",
       "      <th>20222</th>\n",
       "      <td>Asia (sin Japón)</td>\n",
       "      <td>NaN</td>\n",
       "      <td>Pernoctaciones</td>\n",
       "      <td>18530.0</td>\n",
       "      <td>1999</td>\n",
       "      <td>2</td>\n",
       "      <td>Febrero</td>\n",
       "    </tr>\n",
       "    <tr>\n",
       "      <th>20223</th>\n",
       "      <td>Asia (sin Japón)</td>\n",
       "      <td>NaN</td>\n",
       "      <td>Pernoctaciones</td>\n",
       "      <td>13377.0</td>\n",
       "      <td>1999</td>\n",
       "      <td>1</td>\n",
       "      <td>Enero</td>\n",
       "    </tr>\n",
       "  </tbody>\n",
       "</table>\n",
       "<p>20224 rows × 7 columns</p>\n",
       "</div>"
      ],
      "text/plain": [
       "      RESIDENCIA/ORIGEN Países Viajeros y pernoctaciones       Total   Año  \\\n",
       "0                 Total    NaN                   Viajero  10018537.0  2025   \n",
       "1                 Total    NaN                   Viajero   7680722.0  2025   \n",
       "2                 Total    NaN                   Viajero   6539960.0  2025   \n",
       "3                 Total    NaN                   Viajero   5776075.0  2025   \n",
       "4                 Total    NaN                   Viajero   6553489.0  2024   \n",
       "...                 ...    ...                       ...         ...   ...   \n",
       "20219  Asia (sin Japón)    NaN            Pernoctaciones     25427.0  1999   \n",
       "20220  Asia (sin Japón)    NaN            Pernoctaciones     26878.0  1999   \n",
       "20221  Asia (sin Japón)    NaN            Pernoctaciones     24271.0  1999   \n",
       "20222  Asia (sin Japón)    NaN            Pernoctaciones     18530.0  1999   \n",
       "20223  Asia (sin Japón)    NaN            Pernoctaciones     13377.0  1999   \n",
       "\n",
       "       mes    Nom_mes  \n",
       "0        4      Abril  \n",
       "1        3      Marzo  \n",
       "2        2    Febrero  \n",
       "3        1      Enero  \n",
       "4       12  Diciembre  \n",
       "...    ...        ...  \n",
       "20219    5       Mayo  \n",
       "20220    4      Abril  \n",
       "20221    3      Marzo  \n",
       "20222    2    Febrero  \n",
       "20223    1      Enero  \n",
       "\n",
       "[20224 rows x 7 columns]"
      ]
     },
     "execution_count": 4,
     "metadata": {},
     "output_type": "execute_result"
    }
   ],
   "source": [
    "df"
   ]
  },
  {
   "cell_type": "code",
   "execution_count": 5,
   "id": "02060db4",
   "metadata": {},
   "outputs": [
    {
     "name": "stdout",
     "output_type": "stream",
     "text": [
      "<class 'pandas.core.frame.DataFrame'>\n",
      "RangeIndex: 20224 entries, 0 to 20223\n",
      "Data columns (total 7 columns):\n",
      " #   Column                     Non-Null Count  Dtype  \n",
      "---  ------                     --------------  -----  \n",
      " 0   RESIDENCIA/ORIGEN          20224 non-null  object \n",
      " 1   Países                     17064 non-null  object \n",
      " 2   Viajeros y pernoctaciones  20224 non-null  object \n",
      " 3   Total                      18860 non-null  float64\n",
      " 4   Año                        20224 non-null  int64  \n",
      " 5   mes                        20224 non-null  int64  \n",
      " 6   Nom_mes                    20224 non-null  object \n",
      "dtypes: float64(1), int64(2), object(4)\n",
      "memory usage: 1.1+ MB\n"
     ]
    }
   ],
   "source": [
    "df.info()"
   ]
  },
  {
   "cell_type": "code",
   "execution_count": 6,
   "id": "c92e4ccd",
   "metadata": {},
   "outputs": [
    {
     "data": {
      "application/vnd.microsoft.datawrangler.viewer.v0+json": {
       "columns": [
        {
         "name": "index",
         "rawType": "int64",
         "type": "integer"
        },
        {
         "name": "RESIDENCIA/ORIGEN",
         "rawType": "object",
         "type": "string"
        },
        {
         "name": "Países",
         "rawType": "object",
         "type": "unknown"
        },
        {
         "name": "Viajeros y pernoctaciones",
         "rawType": "object",
         "type": "string"
        },
        {
         "name": "Total",
         "rawType": "float64",
         "type": "float"
        },
        {
         "name": "Año",
         "rawType": "int64",
         "type": "integer"
        },
        {
         "name": "mes",
         "rawType": "int64",
         "type": "integer"
        },
        {
         "name": "Nom_mes",
         "rawType": "object",
         "type": "string"
        }
       ],
       "ref": "6269765e-a2a1-4956-8905-d20fcfb36b24",
       "rows": [
        [
         "0",
         "Total",
         null,
         "Viajero",
         "10018537.0",
         "2025",
         "4",
         "Abril"
        ],
        [
         "1",
         "Total",
         null,
         "Viajero",
         "7680722.0",
         "2025",
         "3",
         "Marzo"
        ],
        [
         "2",
         "Total",
         null,
         "Viajero",
         "6539960.0",
         "2025",
         "2",
         "Febrero"
        ],
        [
         "3",
         "Total",
         null,
         "Viajero",
         "5776075.0",
         "2025",
         "1",
         "Enero"
        ],
        [
         "4",
         "Total",
         null,
         "Viajero",
         "6553489.0",
         "2024",
         "12",
         "Diciembre"
        ],
        [
         "5",
         "Total",
         null,
         "Viajero",
         "7171221.0",
         "2024",
         "11",
         "Noviembre"
        ],
        [
         "6",
         "Total",
         null,
         "Viajero",
         "10774309.0",
         "2024",
         "10",
         "Octubre"
        ],
        [
         "7",
         "Total",
         null,
         "Viajero",
         "11821379.0",
         "2024",
         "9",
         "Septiembre"
        ],
        [
         "8",
         "Total",
         null,
         "Viajero",
         "13586095.0",
         "2024",
         "8",
         "Agosto"
        ],
        [
         "9",
         "Total",
         null,
         "Viajero",
         "12703213.0",
         "2024",
         "7",
         "Julio"
        ],
        [
         "10",
         "Total",
         null,
         "Viajero",
         "11905082.0",
         "2024",
         "6",
         "Junio"
        ],
        [
         "11",
         "Total",
         null,
         "Viajero",
         "11776729.0",
         "2024",
         "5",
         "Mayo"
        ],
        [
         "12",
         "Total",
         null,
         "Viajero",
         "9386103.0",
         "2024",
         "4",
         "Abril"
        ],
        [
         "13",
         "Total",
         null,
         "Viajero",
         "8433226.0",
         "2024",
         "3",
         "Marzo"
        ],
        [
         "14",
         "Total",
         null,
         "Viajero",
         "6512168.0",
         "2024",
         "2",
         "Febrero"
        ],
        [
         "15",
         "Total",
         null,
         "Viajero",
         "5660859.0",
         "2024",
         "1",
         "Enero"
        ],
        [
         "16",
         "Total",
         null,
         "Viajero",
         "6586138.0",
         "2023",
         "12",
         "Diciembre"
        ],
        [
         "17",
         "Total",
         null,
         "Viajero",
         "6798815.0",
         "2023",
         "11",
         "Noviembre"
        ],
        [
         "18",
         "Total",
         null,
         "Viajero",
         "10390441.0",
         "2023",
         "10",
         "Octubre"
        ],
        [
         "19",
         "Total",
         null,
         "Viajero",
         "11627872.0",
         "2023",
         "9",
         "Septiembre"
        ],
        [
         "20",
         "Total",
         null,
         "Viajero",
         "13266497.0",
         "2023",
         "8",
         "Agosto"
        ],
        [
         "21",
         "Total",
         null,
         "Viajero",
         "12680483.0",
         "2023",
         "7",
         "Julio"
        ],
        [
         "22",
         "Total",
         null,
         "Viajero",
         "11535550.0",
         "2023",
         "6",
         "Junio"
        ],
        [
         "23",
         "Total",
         null,
         "Viajero",
         "10580202.0",
         "2023",
         "5",
         "Mayo"
        ],
        [
         "24",
         "Total",
         null,
         "Viajero",
         "9829384.0",
         "2023",
         "4",
         "Abril"
        ],
        [
         "25",
         "Total",
         null,
         "Viajero",
         "7361364.0",
         "2023",
         "3",
         "Marzo"
        ],
        [
         "26",
         "Total",
         null,
         "Viajero",
         "5967064.0",
         "2023",
         "2",
         "Febrero"
        ],
        [
         "27",
         "Total",
         null,
         "Viajero",
         "5367962.0",
         "2023",
         "1",
         "Enero"
        ],
        [
         "28",
         "Total",
         null,
         "Viajero",
         "6054556.0",
         "2022",
         "12",
         "Diciembre"
        ],
        [
         "29",
         "Total",
         null,
         "Viajero",
         "6284698.0",
         "2022",
         "11",
         "Noviembre"
        ],
        [
         "30",
         "Total",
         null,
         "Viajero",
         "9743259.0",
         "2022",
         "10",
         "Octubre"
        ],
        [
         "31",
         "Total",
         null,
         "Viajero",
         "11050305.0",
         "2022",
         "9",
         "Septiembre"
        ],
        [
         "32",
         "Total",
         null,
         "Viajero",
         "12889916.0",
         "2022",
         "8",
         "Agosto"
        ],
        [
         "33",
         "Total",
         null,
         "Viajero",
         "12292936.0",
         "2022",
         "7",
         "Julio"
        ],
        [
         "34",
         "Total",
         null,
         "Viajero",
         "10990468.0",
         "2022",
         "6",
         "Junio"
        ],
        [
         "35",
         "Total",
         null,
         "Viajero",
         "9920671.0",
         "2022",
         "5",
         "Mayo"
        ],
        [
         "36",
         "Total",
         null,
         "Viajero",
         "8689822.0",
         "2022",
         "4",
         "Abril"
        ],
        [
         "37",
         "Total",
         null,
         "Viajero",
         "6061398.0",
         "2022",
         "3",
         "Marzo"
        ],
        [
         "38",
         "Total",
         null,
         "Viajero",
         "5133961.0",
         "2022",
         "2",
         "Febrero"
        ],
        [
         "39",
         "Total",
         null,
         "Viajero",
         "3770578.0",
         "2022",
         "1",
         "Enero"
        ],
        [
         "40",
         "Total",
         null,
         "Viajero",
         "4881952.0",
         "2021",
         "12",
         "Diciembre"
        ],
        [
         "41",
         "Total",
         null,
         "Viajero",
         "5391958.0",
         "2021",
         "11",
         "Noviembre"
        ],
        [
         "42",
         "Total",
         null,
         "Viajero",
         "8131666.0",
         "2021",
         "10",
         "Octubre"
        ],
        [
         "43",
         "Total",
         null,
         "Viajero",
         "8256057.0",
         "2021",
         "9",
         "Septiembre"
        ],
        [
         "44",
         "Total",
         null,
         "Viajero",
         "10408035.0",
         "2021",
         "8",
         "Agosto"
        ],
        [
         "45",
         "Total",
         null,
         "Viajero",
         "8544001.0",
         "2021",
         "7",
         "Julio"
        ],
        [
         "46",
         "Total",
         null,
         "Viajero",
         "5676067.0",
         "2021",
         "6",
         "Junio"
        ],
        [
         "47",
         "Total",
         null,
         "Viajero",
         "3404118.0",
         "2021",
         "5",
         "Mayo"
        ],
        [
         "48",
         "Total",
         null,
         "Viajero",
         "1955719.0",
         "2021",
         "4",
         "Abril"
        ],
        [
         "49",
         "Total",
         null,
         "Viajero",
         "1770722.0",
         "2021",
         "3",
         "Marzo"
        ]
       ],
       "shape": {
        "columns": 7,
        "rows": 20224
       }
      },
      "text/html": [
       "<div>\n",
       "<style scoped>\n",
       "    .dataframe tbody tr th:only-of-type {\n",
       "        vertical-align: middle;\n",
       "    }\n",
       "\n",
       "    .dataframe tbody tr th {\n",
       "        vertical-align: top;\n",
       "    }\n",
       "\n",
       "    .dataframe thead th {\n",
       "        text-align: right;\n",
       "    }\n",
       "</style>\n",
       "<table border=\"1\" class=\"dataframe\">\n",
       "  <thead>\n",
       "    <tr style=\"text-align: right;\">\n",
       "      <th></th>\n",
       "      <th>RESIDENCIA/ORIGEN</th>\n",
       "      <th>Países</th>\n",
       "      <th>Viajeros y pernoctaciones</th>\n",
       "      <th>Total</th>\n",
       "      <th>Año</th>\n",
       "      <th>mes</th>\n",
       "      <th>Nom_mes</th>\n",
       "    </tr>\n",
       "  </thead>\n",
       "  <tbody>\n",
       "    <tr>\n",
       "      <th>0</th>\n",
       "      <td>Total</td>\n",
       "      <td>NaN</td>\n",
       "      <td>Viajero</td>\n",
       "      <td>10018537.0</td>\n",
       "      <td>2025</td>\n",
       "      <td>4</td>\n",
       "      <td>Abril</td>\n",
       "    </tr>\n",
       "    <tr>\n",
       "      <th>1</th>\n",
       "      <td>Total</td>\n",
       "      <td>NaN</td>\n",
       "      <td>Viajero</td>\n",
       "      <td>7680722.0</td>\n",
       "      <td>2025</td>\n",
       "      <td>3</td>\n",
       "      <td>Marzo</td>\n",
       "    </tr>\n",
       "    <tr>\n",
       "      <th>2</th>\n",
       "      <td>Total</td>\n",
       "      <td>NaN</td>\n",
       "      <td>Viajero</td>\n",
       "      <td>6539960.0</td>\n",
       "      <td>2025</td>\n",
       "      <td>2</td>\n",
       "      <td>Febrero</td>\n",
       "    </tr>\n",
       "    <tr>\n",
       "      <th>3</th>\n",
       "      <td>Total</td>\n",
       "      <td>NaN</td>\n",
       "      <td>Viajero</td>\n",
       "      <td>5776075.0</td>\n",
       "      <td>2025</td>\n",
       "      <td>1</td>\n",
       "      <td>Enero</td>\n",
       "    </tr>\n",
       "    <tr>\n",
       "      <th>4</th>\n",
       "      <td>Total</td>\n",
       "      <td>NaN</td>\n",
       "      <td>Viajero</td>\n",
       "      <td>6553489.0</td>\n",
       "      <td>2024</td>\n",
       "      <td>12</td>\n",
       "      <td>Diciembre</td>\n",
       "    </tr>\n",
       "    <tr>\n",
       "      <th>...</th>\n",
       "      <td>...</td>\n",
       "      <td>...</td>\n",
       "      <td>...</td>\n",
       "      <td>...</td>\n",
       "      <td>...</td>\n",
       "      <td>...</td>\n",
       "      <td>...</td>\n",
       "    </tr>\n",
       "    <tr>\n",
       "      <th>20219</th>\n",
       "      <td>Asia (sin Japón)</td>\n",
       "      <td>NaN</td>\n",
       "      <td>Pernoctaciones</td>\n",
       "      <td>25427.0</td>\n",
       "      <td>1999</td>\n",
       "      <td>5</td>\n",
       "      <td>Mayo</td>\n",
       "    </tr>\n",
       "    <tr>\n",
       "      <th>20220</th>\n",
       "      <td>Asia (sin Japón)</td>\n",
       "      <td>NaN</td>\n",
       "      <td>Pernoctaciones</td>\n",
       "      <td>26878.0</td>\n",
       "      <td>1999</td>\n",
       "      <td>4</td>\n",
       "      <td>Abril</td>\n",
       "    </tr>\n",
       "    <tr>\n",
       "      <th>20221</th>\n",
       "      <td>Asia (sin Japón)</td>\n",
       "      <td>NaN</td>\n",
       "      <td>Pernoctaciones</td>\n",
       "      <td>24271.0</td>\n",
       "      <td>1999</td>\n",
       "      <td>3</td>\n",
       "      <td>Marzo</td>\n",
       "    </tr>\n",
       "    <tr>\n",
       "      <th>20222</th>\n",
       "      <td>Asia (sin Japón)</td>\n",
       "      <td>NaN</td>\n",
       "      <td>Pernoctaciones</td>\n",
       "      <td>18530.0</td>\n",
       "      <td>1999</td>\n",
       "      <td>2</td>\n",
       "      <td>Febrero</td>\n",
       "    </tr>\n",
       "    <tr>\n",
       "      <th>20223</th>\n",
       "      <td>Asia (sin Japón)</td>\n",
       "      <td>NaN</td>\n",
       "      <td>Pernoctaciones</td>\n",
       "      <td>13377.0</td>\n",
       "      <td>1999</td>\n",
       "      <td>1</td>\n",
       "      <td>Enero</td>\n",
       "    </tr>\n",
       "  </tbody>\n",
       "</table>\n",
       "<p>20224 rows × 7 columns</p>\n",
       "</div>"
      ],
      "text/plain": [
       "      RESIDENCIA/ORIGEN Países Viajeros y pernoctaciones       Total   Año  \\\n",
       "0                 Total    NaN                   Viajero  10018537.0  2025   \n",
       "1                 Total    NaN                   Viajero   7680722.0  2025   \n",
       "2                 Total    NaN                   Viajero   6539960.0  2025   \n",
       "3                 Total    NaN                   Viajero   5776075.0  2025   \n",
       "4                 Total    NaN                   Viajero   6553489.0  2024   \n",
       "...                 ...    ...                       ...         ...   ...   \n",
       "20219  Asia (sin Japón)    NaN            Pernoctaciones     25427.0  1999   \n",
       "20220  Asia (sin Japón)    NaN            Pernoctaciones     26878.0  1999   \n",
       "20221  Asia (sin Japón)    NaN            Pernoctaciones     24271.0  1999   \n",
       "20222  Asia (sin Japón)    NaN            Pernoctaciones     18530.0  1999   \n",
       "20223  Asia (sin Japón)    NaN            Pernoctaciones     13377.0  1999   \n",
       "\n",
       "       mes    Nom_mes  \n",
       "0        4      Abril  \n",
       "1        3      Marzo  \n",
       "2        2    Febrero  \n",
       "3        1      Enero  \n",
       "4       12  Diciembre  \n",
       "...    ...        ...  \n",
       "20219    5       Mayo  \n",
       "20220    4      Abril  \n",
       "20221    3      Marzo  \n",
       "20222    2    Febrero  \n",
       "20223    1      Enero  \n",
       "\n",
       "[20224 rows x 7 columns]"
      ]
     },
     "execution_count": 6,
     "metadata": {},
     "output_type": "execute_result"
    }
   ],
   "source": [
    "df"
   ]
  },
  {
   "cell_type": "code",
   "execution_count": 7,
   "id": "77738f8b",
   "metadata": {},
   "outputs": [],
   "source": [
    "pernoctaciones = df[df[\"Viajeros y pernoctaciones\"].str.contains(\"Pernoctaciones\",na=False)]"
   ]
  },
  {
   "cell_type": "code",
   "execution_count": 8,
   "id": "2617314a",
   "metadata": {},
   "outputs": [
    {
     "data": {
      "application/vnd.microsoft.datawrangler.viewer.v0+json": {
       "columns": [
        {
         "name": "index",
         "rawType": "int64",
         "type": "integer"
        },
        {
         "name": "RESIDENCIA/ORIGEN",
         "rawType": "object",
         "type": "string"
        },
        {
         "name": "Países",
         "rawType": "object",
         "type": "unknown"
        },
        {
         "name": "Viajeros y pernoctaciones",
         "rawType": "object",
         "type": "string"
        },
        {
         "name": "Total",
         "rawType": "float64",
         "type": "float"
        },
        {
         "name": "Año",
         "rawType": "int64",
         "type": "integer"
        },
        {
         "name": "mes",
         "rawType": "int64",
         "type": "integer"
        }
       ],
       "ref": "41c7d71e-ffd4-47ee-8b08-6be7eae65e17",
       "rows": [
        [
         "316",
         "Total",
         null,
         "Pernoctaciones",
         "29070077.0",
         "2025",
         "4"
        ],
        [
         "317",
         "Total",
         null,
         "Pernoctaciones",
         "22344694.0",
         "2025",
         "3"
        ],
        [
         "318",
         "Total",
         null,
         "Pernoctaciones",
         "18412444.0",
         "2025",
         "2"
        ],
        [
         "319",
         "Total",
         null,
         "Pernoctaciones",
         "16910798.0",
         "2025",
         "1"
        ],
        [
         "320",
         "Total",
         null,
         "Pernoctaciones",
         "18033188.0",
         "2024",
         "12"
        ],
        [
         "321",
         "Total",
         null,
         "Pernoctaciones",
         "20055197.0",
         "2024",
         "11"
        ],
        [
         "322",
         "Total",
         null,
         "Pernoctaciones",
         "33942709.0",
         "2024",
         "10"
        ],
        [
         "323",
         "Total",
         null,
         "Pernoctaciones",
         "39040928.0",
         "2024",
         "9"
        ],
        [
         "324",
         "Total",
         null,
         "Pernoctaciones",
         "47895779.0",
         "2024",
         "8"
        ],
        [
         "325",
         "Total",
         null,
         "Pernoctaciones",
         "44038012.0",
         "2024",
         "7"
        ],
        [
         "326",
         "Total",
         null,
         "Pernoctaciones",
         "38226012.0",
         "2024",
         "6"
        ],
        [
         "327",
         "Total",
         null,
         "Pernoctaciones",
         "35744250.0",
         "2024",
         "5"
        ],
        [
         "328",
         "Total",
         null,
         "Pernoctaciones",
         "27099375.0",
         "2024",
         "4"
        ],
        [
         "329",
         "Total",
         null,
         "Pernoctaciones",
         "24520234.0",
         "2024",
         "3"
        ],
        [
         "330",
         "Total",
         null,
         "Pernoctaciones",
         "18581766.0",
         "2024",
         "2"
        ],
        [
         "331",
         "Total",
         null,
         "Pernoctaciones",
         "16491597.0",
         "2024",
         "1"
        ],
        [
         "332",
         "Total",
         null,
         "Pernoctaciones",
         "17913857.0",
         "2023",
         "12"
        ],
        [
         "333",
         "Total",
         null,
         "Pernoctaciones",
         "19023828.0",
         "2023",
         "11"
        ],
        [
         "334",
         "Total",
         null,
         "Pernoctaciones",
         "32415687.0",
         "2023",
         "10"
        ],
        [
         "335",
         "Total",
         null,
         "Pernoctaciones",
         "37980229.0",
         "2023",
         "9"
        ],
        [
         "336",
         "Total",
         null,
         "Pernoctaciones",
         "46695607.0",
         "2023",
         "8"
        ],
        [
         "337",
         "Total",
         null,
         "Pernoctaciones",
         "43109417.0",
         "2023",
         "7"
        ],
        [
         "338",
         "Total",
         null,
         "Pernoctaciones",
         "36255025.0",
         "2023",
         "6"
        ],
        [
         "339",
         "Total",
         null,
         "Pernoctaciones",
         "32187667.0",
         "2023",
         "5"
        ],
        [
         "340",
         "Total",
         null,
         "Pernoctaciones",
         "28046754.0",
         "2023",
         "4"
        ],
        [
         "341",
         "Total",
         null,
         "Pernoctaciones",
         "20597741.0",
         "2023",
         "3"
        ],
        [
         "342",
         "Total",
         null,
         "Pernoctaciones",
         "16816547.0",
         "2023",
         "2"
        ],
        [
         "343",
         "Total",
         null,
         "Pernoctaciones",
         "15472477.0",
         "2023",
         "1"
        ],
        [
         "344",
         "Total",
         null,
         "Pernoctaciones",
         "16627833.0",
         "2022",
         "12"
        ],
        [
         "345",
         "Total",
         null,
         "Pernoctaciones",
         "17661676.0",
         "2022",
         "11"
        ],
        [
         "346",
         "Total",
         null,
         "Pernoctaciones",
         "29865924.0",
         "2022",
         "10"
        ],
        [
         "347",
         "Total",
         null,
         "Pernoctaciones",
         "35999861.0",
         "2022",
         "9"
        ],
        [
         "348",
         "Total",
         null,
         "Pernoctaciones",
         "46140100.0",
         "2022",
         "8"
        ],
        [
         "349",
         "Total",
         null,
         "Pernoctaciones",
         "42121775.0",
         "2022",
         "7"
        ],
        [
         "350",
         "Total",
         null,
         "Pernoctaciones",
         "35111326.0",
         "2022",
         "6"
        ],
        [
         "351",
         "Total",
         null,
         "Pernoctaciones",
         "29785395.0",
         "2022",
         "5"
        ],
        [
         "352",
         "Total",
         null,
         "Pernoctaciones",
         "25197638.0",
         "2022",
         "4"
        ],
        [
         "353",
         "Total",
         null,
         "Pernoctaciones",
         "17632648.0",
         "2022",
         "3"
        ],
        [
         "354",
         "Total",
         null,
         "Pernoctaciones",
         "13623546.0",
         "2022",
         "2"
        ],
        [
         "355",
         "Total",
         null,
         "Pernoctaciones",
         "10598385.0",
         "2022",
         "1"
        ],
        [
         "356",
         "Total",
         null,
         "Pernoctaciones",
         "13220155.0",
         "2021",
         "12"
        ],
        [
         "357",
         "Total",
         null,
         "Pernoctaciones",
         "14930647.0",
         "2021",
         "11"
        ],
        [
         "358",
         "Total",
         null,
         "Pernoctaciones",
         "23935219.0",
         "2021",
         "10"
        ],
        [
         "359",
         "Total",
         null,
         "Pernoctaciones",
         "25679512.0",
         "2021",
         "9"
        ],
        [
         "360",
         "Total",
         null,
         "Pernoctaciones",
         "34460041.0",
         "2021",
         "8"
        ],
        [
         "361",
         "Total",
         null,
         "Pernoctaciones",
         "26351353.0",
         "2021",
         "7"
        ],
        [
         "362",
         "Total",
         null,
         "Pernoctaciones",
         "14259621.0",
         "2021",
         "6"
        ],
        [
         "363",
         "Total",
         null,
         "Pernoctaciones",
         "7342738.0",
         "2021",
         "5"
        ],
        [
         "364",
         "Total",
         null,
         "Pernoctaciones",
         "4142415.0",
         "2021",
         "4"
        ],
        [
         "365",
         "Total",
         null,
         "Pernoctaciones",
         "3588559.0",
         "2021",
         "3"
        ]
       ],
       "shape": {
        "columns": 6,
        "rows": 10112
       }
      },
      "text/html": [
       "<div>\n",
       "<style scoped>\n",
       "    .dataframe tbody tr th:only-of-type {\n",
       "        vertical-align: middle;\n",
       "    }\n",
       "\n",
       "    .dataframe tbody tr th {\n",
       "        vertical-align: top;\n",
       "    }\n",
       "\n",
       "    .dataframe thead th {\n",
       "        text-align: right;\n",
       "    }\n",
       "</style>\n",
       "<table border=\"1\" class=\"dataframe\">\n",
       "  <thead>\n",
       "    <tr style=\"text-align: right;\">\n",
       "      <th></th>\n",
       "      <th>RESIDENCIA/ORIGEN</th>\n",
       "      <th>Países</th>\n",
       "      <th>Viajeros y pernoctaciones</th>\n",
       "      <th>Total</th>\n",
       "      <th>Año</th>\n",
       "      <th>mes</th>\n",
       "    </tr>\n",
       "  </thead>\n",
       "  <tbody>\n",
       "    <tr>\n",
       "      <th>316</th>\n",
       "      <td>Total</td>\n",
       "      <td>NaN</td>\n",
       "      <td>Pernoctaciones</td>\n",
       "      <td>29070077.0</td>\n",
       "      <td>2025</td>\n",
       "      <td>4</td>\n",
       "    </tr>\n",
       "    <tr>\n",
       "      <th>317</th>\n",
       "      <td>Total</td>\n",
       "      <td>NaN</td>\n",
       "      <td>Pernoctaciones</td>\n",
       "      <td>22344694.0</td>\n",
       "      <td>2025</td>\n",
       "      <td>3</td>\n",
       "    </tr>\n",
       "    <tr>\n",
       "      <th>318</th>\n",
       "      <td>Total</td>\n",
       "      <td>NaN</td>\n",
       "      <td>Pernoctaciones</td>\n",
       "      <td>18412444.0</td>\n",
       "      <td>2025</td>\n",
       "      <td>2</td>\n",
       "    </tr>\n",
       "    <tr>\n",
       "      <th>319</th>\n",
       "      <td>Total</td>\n",
       "      <td>NaN</td>\n",
       "      <td>Pernoctaciones</td>\n",
       "      <td>16910798.0</td>\n",
       "      <td>2025</td>\n",
       "      <td>1</td>\n",
       "    </tr>\n",
       "    <tr>\n",
       "      <th>320</th>\n",
       "      <td>Total</td>\n",
       "      <td>NaN</td>\n",
       "      <td>Pernoctaciones</td>\n",
       "      <td>18033188.0</td>\n",
       "      <td>2024</td>\n",
       "      <td>12</td>\n",
       "    </tr>\n",
       "    <tr>\n",
       "      <th>...</th>\n",
       "      <td>...</td>\n",
       "      <td>...</td>\n",
       "      <td>...</td>\n",
       "      <td>...</td>\n",
       "      <td>...</td>\n",
       "      <td>...</td>\n",
       "    </tr>\n",
       "    <tr>\n",
       "      <th>20219</th>\n",
       "      <td>Asia (sin Japón)</td>\n",
       "      <td>NaN</td>\n",
       "      <td>Pernoctaciones</td>\n",
       "      <td>25427.0</td>\n",
       "      <td>1999</td>\n",
       "      <td>5</td>\n",
       "    </tr>\n",
       "    <tr>\n",
       "      <th>20220</th>\n",
       "      <td>Asia (sin Japón)</td>\n",
       "      <td>NaN</td>\n",
       "      <td>Pernoctaciones</td>\n",
       "      <td>26878.0</td>\n",
       "      <td>1999</td>\n",
       "      <td>4</td>\n",
       "    </tr>\n",
       "    <tr>\n",
       "      <th>20221</th>\n",
       "      <td>Asia (sin Japón)</td>\n",
       "      <td>NaN</td>\n",
       "      <td>Pernoctaciones</td>\n",
       "      <td>24271.0</td>\n",
       "      <td>1999</td>\n",
       "      <td>3</td>\n",
       "    </tr>\n",
       "    <tr>\n",
       "      <th>20222</th>\n",
       "      <td>Asia (sin Japón)</td>\n",
       "      <td>NaN</td>\n",
       "      <td>Pernoctaciones</td>\n",
       "      <td>18530.0</td>\n",
       "      <td>1999</td>\n",
       "      <td>2</td>\n",
       "    </tr>\n",
       "    <tr>\n",
       "      <th>20223</th>\n",
       "      <td>Asia (sin Japón)</td>\n",
       "      <td>NaN</td>\n",
       "      <td>Pernoctaciones</td>\n",
       "      <td>13377.0</td>\n",
       "      <td>1999</td>\n",
       "      <td>1</td>\n",
       "    </tr>\n",
       "  </tbody>\n",
       "</table>\n",
       "<p>10112 rows × 6 columns</p>\n",
       "</div>"
      ],
      "text/plain": [
       "      RESIDENCIA/ORIGEN Países Viajeros y pernoctaciones       Total   Año  \\\n",
       "316               Total    NaN            Pernoctaciones  29070077.0  2025   \n",
       "317               Total    NaN            Pernoctaciones  22344694.0  2025   \n",
       "318               Total    NaN            Pernoctaciones  18412444.0  2025   \n",
       "319               Total    NaN            Pernoctaciones  16910798.0  2025   \n",
       "320               Total    NaN            Pernoctaciones  18033188.0  2024   \n",
       "...                 ...    ...                       ...         ...   ...   \n",
       "20219  Asia (sin Japón)    NaN            Pernoctaciones     25427.0  1999   \n",
       "20220  Asia (sin Japón)    NaN            Pernoctaciones     26878.0  1999   \n",
       "20221  Asia (sin Japón)    NaN            Pernoctaciones     24271.0  1999   \n",
       "20222  Asia (sin Japón)    NaN            Pernoctaciones     18530.0  1999   \n",
       "20223  Asia (sin Japón)    NaN            Pernoctaciones     13377.0  1999   \n",
       "\n",
       "       mes  \n",
       "316      4  \n",
       "317      3  \n",
       "318      2  \n",
       "319      1  \n",
       "320     12  \n",
       "...    ...  \n",
       "20219    5  \n",
       "20220    4  \n",
       "20221    3  \n",
       "20222    2  \n",
       "20223    1  \n",
       "\n",
       "[10112 rows x 6 columns]"
      ]
     },
     "execution_count": 8,
     "metadata": {},
     "output_type": "execute_result"
    }
   ],
   "source": [
    "pernoctaciones[[\"RESIDENCIA/ORIGEN\",\"Países\",\"Viajeros y pernoctaciones\",\"Total\",\"Año\",\"mes\"]]"
   ]
  },
  {
   "cell_type": "code",
   "execution_count": 12,
   "id": "b0dde4e6",
   "metadata": {},
   "outputs": [
    {
     "data": {
      "application/vnd.plotly.v1+json": {
       "config": {
        "plotlyServerURL": "https://plot.ly"
       },
       "data": [
        {
         "hovertemplate": "<b>%{hovertext}</b><br><br>Países/Conjunto=Alemania<br>Total de Pernoctaciones=%{y}<extra></extra>",
         "hovertext": [
          "Alemania",
          "Alemania",
          "Alemania",
          "Alemania",
          "Alemania",
          "Alemania",
          "Alemania",
          "Alemania",
          "Alemania",
          "Alemania",
          "Alemania",
          "Alemania",
          "Alemania",
          "Alemania",
          "Alemania",
          "Alemania",
          "Alemania",
          "Alemania",
          "Alemania",
          "Alemania",
          "Alemania",
          "Alemania",
          "Alemania",
          "Alemania",
          "Alemania",
          "Alemania",
          "Alemania",
          "Alemania"
         ],
         "legendgroup": "Alemania",
         "line": {
          "color": "#004d00",
          "dash": "solid"
         },
         "marker": {
          "symbol": "circle"
         },
         "mode": "lines",
         "name": "Alemania",
         "orientation": "v",
         "showlegend": true,
         "type": "scatter",
         "x": [
          "2023-01-01T00:00:00.000000000",
          "2023-02-01T00:00:00.000000000",
          "2023-03-01T00:00:00.000000000",
          "2023-04-01T00:00:00.000000000",
          "2023-05-01T00:00:00.000000000",
          "2023-06-01T00:00:00.000000000",
          "2023-07-01T00:00:00.000000000",
          "2023-08-01T00:00:00.000000000",
          "2023-09-01T00:00:00.000000000",
          "2023-10-01T00:00:00.000000000",
          "2023-11-01T00:00:00.000000000",
          "2023-12-01T00:00:00.000000000",
          "2024-01-01T00:00:00.000000000",
          "2024-02-01T00:00:00.000000000",
          "2024-03-01T00:00:00.000000000",
          "2024-04-01T00:00:00.000000000",
          "2024-05-01T00:00:00.000000000",
          "2024-06-01T00:00:00.000000000",
          "2024-07-01T00:00:00.000000000",
          "2024-08-01T00:00:00.000000000",
          "2024-09-01T00:00:00.000000000",
          "2024-10-01T00:00:00.000000000",
          "2024-11-01T00:00:00.000000000",
          "2024-12-01T00:00:00.000000000",
          "2025-01-01T00:00:00.000000000",
          "2025-02-01T00:00:00.000000000",
          "2025-03-01T00:00:00.000000000",
          "2025-04-01T00:00:00.000000000"
         ],
         "xaxis": "x",
         "y": {
          "bdata": "AAAAACRNN0EAAAAA4zw5QQAAAIBbS0FBAAAAAG/8R0EAAAAAFGNPQQAAAECx+lBBAAAAgKcEUUEAAACAVl5RQQAAAIBWSFNBAAAAACBVUUEAAAAAwpY+QQAAAADW7zhBAAAAAGW3OEEAAAAAfaY8QQAAAICUzEZBAAAAgBM3SEEAAAAAAzVSQQAAAEDvxVFBAAAAgBXPUUEAAADAJ5FSQQAAAAAvZFNBAAAAwK8mU0EAAAAAgHE/QQAAAACa/TpBAAAAAJAiOkEAAAAAUu87QQAAAAC0wUNBAAAAgKwCSkE=",
          "dtype": "f8"
         },
         "yaxis": "y"
        },
        {
         "hovertemplate": "<b>%{hovertext}</b><br><br>Países/Conjunto=África<br>Total de Pernoctaciones=%{y}<extra></extra>",
         "hovertext": [
          "África",
          "África",
          "África",
          "África",
          "África",
          "África",
          "África",
          "África",
          "África",
          "África",
          "África",
          "África",
          "África",
          "África",
          "África",
          "África",
          "África",
          "África",
          "África",
          "África",
          "África",
          "África",
          "África",
          "África",
          "África",
          "África",
          "África",
          "África"
         ],
         "legendgroup": "África",
         "line": {
          "color": "#237a23",
          "dash": "solid"
         },
         "marker": {
          "symbol": "circle"
         },
         "mode": "lines",
         "name": "África",
         "orientation": "v",
         "showlegend": true,
         "type": "scatter",
         "x": [
          "2023-01-01T00:00:00.000000000",
          "2023-02-01T00:00:00.000000000",
          "2023-03-01T00:00:00.000000000",
          "2023-04-01T00:00:00.000000000",
          "2023-05-01T00:00:00.000000000",
          "2023-06-01T00:00:00.000000000",
          "2023-07-01T00:00:00.000000000",
          "2023-08-01T00:00:00.000000000",
          "2023-09-01T00:00:00.000000000",
          "2023-10-01T00:00:00.000000000",
          "2023-11-01T00:00:00.000000000",
          "2023-12-01T00:00:00.000000000",
          "2024-01-01T00:00:00.000000000",
          "2024-02-01T00:00:00.000000000",
          "2024-03-01T00:00:00.000000000",
          "2024-04-01T00:00:00.000000000",
          "2024-05-01T00:00:00.000000000",
          "2024-06-01T00:00:00.000000000",
          "2024-07-01T00:00:00.000000000",
          "2024-08-01T00:00:00.000000000",
          "2024-09-01T00:00:00.000000000",
          "2024-10-01T00:00:00.000000000",
          "2024-11-01T00:00:00.000000000",
          "2024-12-01T00:00:00.000000000",
          "2025-01-01T00:00:00.000000000",
          "2025-02-01T00:00:00.000000000",
          "2025-03-01T00:00:00.000000000",
          "2025-04-01T00:00:00.000000000"
         ],
         "xaxis": "x",
         "y": {
          "bdata": "AAAAAFC1AEEAAAAAQBv9QAAAAACAov9AAAAAAADb+kAAAAAACKgCQQAAAAAIlwJBAAAAAPC4DkEAAAAAQJwTQQAAAAAo2gZBAAAAAFALB0EAAAAAuC4BQQAAAACQsQFBAAAAABgYA0EAAAAA+B4BQQAAAACwO/tAAAAAAJCSAkEAAAAAGIoFQQAAAAC4QwZBAAAAACziEUEAAAAAoKsYQQAAAAB4LQtBAAAAAGj7BkEAAAAAUEwDQQAAAAC48wVBAAAAAPgnBEEAAAAAsPYCQQAAAACgJ/1AAAAAAHCBBUE=",
          "dtype": "f8"
         },
         "yaxis": "y"
        },
        {
         "hovertemplate": "<b>%{hovertext}</b><br><br>Países/Conjunto=UE28 sin España<br>Total de Pernoctaciones=%{y}<extra></extra>",
         "hovertext": [
          "UE28 sin España",
          "UE28 sin España",
          "UE28 sin España",
          "UE28 sin España",
          "UE28 sin España",
          "UE28 sin España",
          "UE28 sin España",
          "UE28 sin España",
          "UE28 sin España",
          "UE28 sin España",
          "UE28 sin España",
          "UE28 sin España",
          "UE28 sin España",
          "UE28 sin España",
          "UE28 sin España",
          "UE28 sin España",
          "UE28 sin España",
          "UE28 sin España",
          "UE28 sin España",
          "UE28 sin España",
          "UE28 sin España",
          "UE28 sin España",
          "UE28 sin España",
          "UE28 sin España",
          "UE28 sin España",
          "UE28 sin España",
          "UE28 sin España",
          "UE28 sin España"
         ],
         "legendgroup": "UE28 sin España",
         "line": {
          "color": "#4ca64c",
          "dash": "solid"
         },
         "marker": {
          "symbol": "circle"
         },
         "mode": "lines",
         "name": "UE28 sin España",
         "orientation": "v",
         "showlegend": true,
         "type": "scatter",
         "x": [
          "2023-01-01T00:00:00.000000000",
          "2023-02-01T00:00:00.000000000",
          "2023-03-01T00:00:00.000000000",
          "2023-04-01T00:00:00.000000000",
          "2023-05-01T00:00:00.000000000",
          "2023-06-01T00:00:00.000000000",
          "2023-07-01T00:00:00.000000000",
          "2023-08-01T00:00:00.000000000",
          "2023-09-01T00:00:00.000000000",
          "2023-10-01T00:00:00.000000000",
          "2023-11-01T00:00:00.000000000",
          "2023-12-01T00:00:00.000000000",
          "2024-01-01T00:00:00.000000000",
          "2024-02-01T00:00:00.000000000",
          "2024-03-01T00:00:00.000000000",
          "2024-04-01T00:00:00.000000000",
          "2024-05-01T00:00:00.000000000",
          "2024-06-01T00:00:00.000000000",
          "2024-07-01T00:00:00.000000000",
          "2024-08-01T00:00:00.000000000",
          "2024-09-01T00:00:00.000000000",
          "2024-10-01T00:00:00.000000000",
          "2024-11-01T00:00:00.000000000",
          "2024-12-01T00:00:00.000000000",
          "2025-01-01T00:00:00.000000000",
          "2025-02-01T00:00:00.000000000",
          "2025-03-01T00:00:00.000000000",
          "2025-04-01T00:00:00.000000000"
         ],
         "xaxis": "x",
         "y": {
          "bdata": "AAAAwPZOXEEAAAAA5dReQQAAACDec2JBAAAAwOkYakEAAAAgYVxxQQAAADCol3JBAAAA8DNMdUEAAADAkGl3QQAAAFBAdXRBAAAAQOtGcUEAAACgh3hhQQAAAABLrF5BAAAAQHJdX0EAAACAQFVhQQAAAMCaVWZBAAAAoGFOa0EAAAAQ+GNzQQAAAECIBnRBAAAAoCNMdkEAAABgtHJ4QQAAAMC0C3VBAAAAkIBdckEAAABgOa5hQQAAAIBgPl9BAAAAgI0mYEEAAABgS4xhQQAAAKC0F2VBAAAAoBpIbEE=",
          "dtype": "f8"
         },
         "yaxis": "y"
        },
        {
         "hovertemplate": "<b>%{hovertext}</b><br><br>Países/Conjunto=UE27_2020 sin España<br>Total de Pernoctaciones=%{y}<extra></extra>",
         "hovertext": [
          "UE27_2020 sin España",
          "UE27_2020 sin España",
          "UE27_2020 sin España",
          "UE27_2020 sin España",
          "UE27_2020 sin España",
          "UE27_2020 sin España",
          "UE27_2020 sin España",
          "UE27_2020 sin España",
          "UE27_2020 sin España",
          "UE27_2020 sin España",
          "UE27_2020 sin España",
          "UE27_2020 sin España",
          "UE27_2020 sin España",
          "UE27_2020 sin España",
          "UE27_2020 sin España",
          "UE27_2020 sin España",
          "UE27_2020 sin España",
          "UE27_2020 sin España",
          "UE27_2020 sin España",
          "UE27_2020 sin España",
          "UE27_2020 sin España",
          "UE27_2020 sin España",
          "UE27_2020 sin España",
          "UE27_2020 sin España",
          "UE27_2020 sin España",
          "UE27_2020 sin España",
          "UE27_2020 sin España",
          "UE27_2020 sin España"
         ],
         "legendgroup": "UE27_2020 sin España",
         "line": {
          "color": "#80c080",
          "dash": "solid"
         },
         "marker": {
          "symbol": "circle"
         },
         "mode": "lines",
         "name": "UE27_2020 sin España",
         "orientation": "v",
         "showlegend": true,
         "type": "scatter",
         "x": [
          "2023-01-01T00:00:00.000000000",
          "2023-02-01T00:00:00.000000000",
          "2023-03-01T00:00:00.000000000",
          "2023-04-01T00:00:00.000000000",
          "2023-05-01T00:00:00.000000000",
          "2023-06-01T00:00:00.000000000",
          "2023-07-01T00:00:00.000000000",
          "2023-08-01T00:00:00.000000000",
          "2023-09-01T00:00:00.000000000",
          "2023-10-01T00:00:00.000000000",
          "2023-11-01T00:00:00.000000000",
          "2023-12-01T00:00:00.000000000",
          "2024-01-01T00:00:00.000000000",
          "2024-02-01T00:00:00.000000000",
          "2024-03-01T00:00:00.000000000",
          "2024-04-01T00:00:00.000000000",
          "2024-05-01T00:00:00.000000000",
          "2024-06-01T00:00:00.000000000",
          "2024-07-01T00:00:00.000000000",
          "2024-08-01T00:00:00.000000000",
          "2024-09-01T00:00:00.000000000",
          "2024-10-01T00:00:00.000000000",
          "2024-11-01T00:00:00.000000000",
          "2024-12-01T00:00:00.000000000",
          "2025-01-01T00:00:00.000000000",
          "2025-02-01T00:00:00.000000000",
          "2025-03-01T00:00:00.000000000",
          "2025-04-01T00:00:00.000000000"
         ],
         "xaxis": "x",
         "y": {
          "bdata": "AAAAAPE3VEEAAABA69VVQQAAAEAAn1lBAAAAQD7RYkEAAADANbtmQQAAAMBGpWdBAAAAAEXHbEEAAABgakVwQQAAAOBxHGtBAAAAAIQaZ0EAAADA8HNYQQAAAIBqOlVBAAAAwE4BVkEAAAAA7ntYQQAAAADjlV9BAAAAIK9IY0EAAAAgNkVqQQAAACDB2WlBAAAAQHe8bkEAAACwqy1xQQAAAOBTMWxBAAAAgMwTaUEAAADAeZ9YQQAAAIBfxFVBAAAAQHJmVkEAAADAxYdYQQAAAIDIdF1BAAAAIMTjY0E=",
          "dtype": "f8"
         },
         "yaxis": "y"
        },
        {
         "hovertemplate": "<b>%{hovertext}</b><br><br>Países/Conjunto=Suiza<br>Total de Pernoctaciones=%{y}<extra></extra>",
         "hovertext": [
          "Suiza",
          "Suiza",
          "Suiza",
          "Suiza",
          "Suiza",
          "Suiza",
          "Suiza",
          "Suiza",
          "Suiza",
          "Suiza",
          "Suiza",
          "Suiza",
          "Suiza",
          "Suiza",
          "Suiza",
          "Suiza",
          "Suiza",
          "Suiza",
          "Suiza",
          "Suiza",
          "Suiza",
          "Suiza",
          "Suiza",
          "Suiza",
          "Suiza",
          "Suiza",
          "Suiza",
          "Suiza"
         ],
         "legendgroup": "Suiza",
         "line": {
          "color": "#b3d9b3",
          "dash": "solid"
         },
         "marker": {
          "symbol": "circle"
         },
         "mode": "lines",
         "name": "Suiza",
         "orientation": "v",
         "showlegend": true,
         "type": "scatter",
         "x": [
          "2023-01-01T00:00:00.000000000",
          "2023-02-01T00:00:00.000000000",
          "2023-03-01T00:00:00.000000000",
          "2023-04-01T00:00:00.000000000",
          "2023-05-01T00:00:00.000000000",
          "2023-06-01T00:00:00.000000000",
          "2023-07-01T00:00:00.000000000",
          "2023-08-01T00:00:00.000000000",
          "2023-09-01T00:00:00.000000000",
          "2023-10-01T00:00:00.000000000",
          "2023-11-01T00:00:00.000000000",
          "2023-12-01T00:00:00.000000000",
          "2024-01-01T00:00:00.000000000",
          "2024-02-01T00:00:00.000000000",
          "2024-03-01T00:00:00.000000000",
          "2024-04-01T00:00:00.000000000",
          "2024-05-01T00:00:00.000000000",
          "2024-06-01T00:00:00.000000000",
          "2024-07-01T00:00:00.000000000",
          "2024-08-01T00:00:00.000000000",
          "2024-09-01T00:00:00.000000000",
          "2024-10-01T00:00:00.000000000",
          "2024-11-01T00:00:00.000000000",
          "2024-12-01T00:00:00.000000000",
          "2025-01-01T00:00:00.000000000",
          "2025-02-01T00:00:00.000000000",
          "2025-03-01T00:00:00.000000000",
          "2025-04-01T00:00:00.000000000"
         ],
         "xaxis": "x",
         "y": {
          "bdata": "AAAAANhHAEEAAAAAAHoEQQAAAADoFgdBAAAAAKwQF0EAAAAA5I4ZQQAAAADQnRhBAAAAAKqqJEEAAAAAyHEcQQAAAADkbh5BAAAAAHL/IEEAAAAASCgIQQAAAABoywJBAAAAABCfAEEAAAAA6DoFQQAAAACY0AxBAAAAAJwNF0EAAAAA3JcaQQAAAAAAxBlBAAAAAEKlJUEAAAAAZGcbQQAAAAD2ziBBAAAAAAi5IUEAAAAAUDMHQQAAAACQhgNBAAAAALheAEEAAAAA8M8EQQAAAACYlAlBAAAAABS2GkE=",
          "dtype": "f8"
         },
         "yaxis": "y"
        },
        {
         "hovertemplate": "<b>%{hovertext}</b><br><br>Países/Conjunto=Suecia<br>Total de Pernoctaciones=%{y}<extra></extra>",
         "hovertext": [
          "Suecia",
          "Suecia",
          "Suecia",
          "Suecia",
          "Suecia",
          "Suecia",
          "Suecia",
          "Suecia",
          "Suecia",
          "Suecia",
          "Suecia",
          "Suecia",
          "Suecia",
          "Suecia",
          "Suecia",
          "Suecia",
          "Suecia",
          "Suecia",
          "Suecia",
          "Suecia",
          "Suecia",
          "Suecia",
          "Suecia",
          "Suecia",
          "Suecia",
          "Suecia",
          "Suecia",
          "Suecia"
         ],
         "legendgroup": "Suecia",
         "line": {
          "color": "#99cc99",
          "dash": "solid"
         },
         "marker": {
          "symbol": "circle"
         },
         "mode": "lines",
         "name": "Suecia",
         "orientation": "v",
         "showlegend": true,
         "type": "scatter",
         "x": [
          "2023-01-01T00:00:00.000000000",
          "2023-02-01T00:00:00.000000000",
          "2023-03-01T00:00:00.000000000",
          "2023-04-01T00:00:00.000000000",
          "2023-05-01T00:00:00.000000000",
          "2023-06-01T00:00:00.000000000",
          "2023-07-01T00:00:00.000000000",
          "2023-08-01T00:00:00.000000000",
          "2023-09-01T00:00:00.000000000",
          "2023-10-01T00:00:00.000000000",
          "2023-11-01T00:00:00.000000000",
          "2023-12-01T00:00:00.000000000",
          "2024-01-01T00:00:00.000000000",
          "2024-02-01T00:00:00.000000000",
          "2024-03-01T00:00:00.000000000",
          "2024-04-01T00:00:00.000000000",
          "2024-05-01T00:00:00.000000000",
          "2024-06-01T00:00:00.000000000",
          "2024-07-01T00:00:00.000000000",
          "2024-08-01T00:00:00.000000000",
          "2024-09-01T00:00:00.000000000",
          "2024-10-01T00:00:00.000000000",
          "2024-11-01T00:00:00.000000000",
          "2024-12-01T00:00:00.000000000",
          "2025-01-01T00:00:00.000000000",
          "2025-02-01T00:00:00.000000000",
          "2025-03-01T00:00:00.000000000",
          "2025-04-01T00:00:00.000000000"
         ],
         "xaxis": "x",
         "y": {
          "bdata": "AAAAAKi8FUEAAAAAUAUTQQAAAAAQsxZBAAAAAEC4E0EAAAAAMF4SQQAAAACoShJBAAAAAEBjFkEAAAAAFK0RQQAAAADcQhNBAAAAAPgbF0EAAAAAxAgaQQAAAACMwRNBAAAAAHBLFUEAAAAAMDcUQQAAAADEnRdBAAAAAAx7E0EAAAAAIHUTQQAAAACgOhRBAAAAAPghGEEAAAAAFD0SQQAAAADAgxFBAAAAAHxQGUEAAAAAhOoXQQAAAABsBBRBAAAAAAgrEkEAAAAAeFYTQQAAAADo2RRBAAAAAAztEkE=",
          "dtype": "f8"
         },
         "yaxis": "y"
        },
        {
         "hovertemplate": "<b>%{hovertext}</b><br><br>Países/Conjunto=Rusia<br>Total de Pernoctaciones=%{y}<extra></extra>",
         "hovertext": [
          "Rusia",
          "Rusia",
          "Rusia",
          "Rusia",
          "Rusia",
          "Rusia",
          "Rusia",
          "Rusia",
          "Rusia",
          "Rusia",
          "Rusia",
          "Rusia",
          "Rusia",
          "Rusia",
          "Rusia",
          "Rusia",
          "Rusia",
          "Rusia",
          "Rusia",
          "Rusia",
          "Rusia",
          "Rusia",
          "Rusia",
          "Rusia",
          "Rusia",
          "Rusia",
          "Rusia",
          "Rusia"
         ],
         "legendgroup": "Rusia",
         "line": {
          "color": "#66b366",
          "dash": "solid"
         },
         "marker": {
          "symbol": "circle"
         },
         "mode": "lines",
         "name": "Rusia",
         "orientation": "v",
         "showlegend": true,
         "type": "scatter",
         "x": [
          "2023-01-01T00:00:00.000000000",
          "2023-02-01T00:00:00.000000000",
          "2023-03-01T00:00:00.000000000",
          "2023-04-01T00:00:00.000000000",
          "2023-05-01T00:00:00.000000000",
          "2023-06-01T00:00:00.000000000",
          "2023-07-01T00:00:00.000000000",
          "2023-08-01T00:00:00.000000000",
          "2023-09-01T00:00:00.000000000",
          "2023-10-01T00:00:00.000000000",
          "2023-11-01T00:00:00.000000000",
          "2023-12-01T00:00:00.000000000",
          "2024-01-01T00:00:00.000000000",
          "2024-02-01T00:00:00.000000000",
          "2024-03-01T00:00:00.000000000",
          "2024-04-01T00:00:00.000000000",
          "2024-05-01T00:00:00.000000000",
          "2024-06-01T00:00:00.000000000",
          "2024-07-01T00:00:00.000000000",
          "2024-08-01T00:00:00.000000000",
          "2024-09-01T00:00:00.000000000",
          "2024-10-01T00:00:00.000000000",
          "2024-11-01T00:00:00.000000000",
          "2024-12-01T00:00:00.000000000",
          "2025-01-01T00:00:00.000000000",
          "2025-02-01T00:00:00.000000000",
          "2025-03-01T00:00:00.000000000",
          "2025-04-01T00:00:00.000000000"
         ],
         "xaxis": "x",
         "y": {
          "bdata": "AAAAAAAAAAAAAAAAAAAAAAAAAAAAAAAAAAAAAAAAAAAAAAAAAAAAAAAAAAAAAAAAAAAAAAAAAAAAAAAAAAAAAAAAAAAAAAAAAAAAAAAAAAAAAAAAAAAAAAAAAAAAAAAAAAAAAAAAAAAAAAAAAAAAAAAAAAAAAAAAAAAAAAAAAAAAAAAAAAAAAAAAAAAAAAAAAAAAAAAAAAAAAAAAAAAAAAAAAAAAAAAAAAAAAAAAAAAAAAAAAAAAAAAAAAAAAAAAAAAAAAAAAAAAAAAAAAAAAAAAAAAAAAAAAAAAAAAAAAA=",
          "dtype": "f8"
         },
         "yaxis": "y"
        },
        {
         "hovertemplate": "<b>%{hovertext}</b><br><br>Países/Conjunto=Resto del Mundo<br>Total de Pernoctaciones=%{y}<extra></extra>",
         "hovertext": [
          "Resto del Mundo",
          "Resto del Mundo",
          "Resto del Mundo",
          "Resto del Mundo",
          "Resto del Mundo",
          "Resto del Mundo",
          "Resto del Mundo",
          "Resto del Mundo",
          "Resto del Mundo",
          "Resto del Mundo",
          "Resto del Mundo",
          "Resto del Mundo",
          "Resto del Mundo",
          "Resto del Mundo",
          "Resto del Mundo",
          "Resto del Mundo",
          "Resto del Mundo",
          "Resto del Mundo",
          "Resto del Mundo",
          "Resto del Mundo",
          "Resto del Mundo",
          "Resto del Mundo",
          "Resto del Mundo",
          "Resto del Mundo",
          "Resto del Mundo",
          "Resto del Mundo",
          "Resto del Mundo",
          "Resto del Mundo"
         ],
         "legendgroup": "Resto del Mundo",
         "line": {
          "color": "#339933",
          "dash": "solid"
         },
         "marker": {
          "symbol": "circle"
         },
         "mode": "lines",
         "name": "Resto del Mundo",
         "orientation": "v",
         "showlegend": true,
         "type": "scatter",
         "x": [
          "2023-01-01T00:00:00.000000000",
          "2023-02-01T00:00:00.000000000",
          "2023-03-01T00:00:00.000000000",
          "2023-04-01T00:00:00.000000000",
          "2023-05-01T00:00:00.000000000",
          "2023-06-01T00:00:00.000000000",
          "2023-07-01T00:00:00.000000000",
          "2023-08-01T00:00:00.000000000",
          "2023-09-01T00:00:00.000000000",
          "2023-10-01T00:00:00.000000000",
          "2023-11-01T00:00:00.000000000",
          "2023-12-01T00:00:00.000000000",
          "2024-01-01T00:00:00.000000000",
          "2024-02-01T00:00:00.000000000",
          "2024-03-01T00:00:00.000000000",
          "2024-04-01T00:00:00.000000000",
          "2024-05-01T00:00:00.000000000",
          "2024-06-01T00:00:00.000000000",
          "2024-07-01T00:00:00.000000000",
          "2024-08-01T00:00:00.000000000",
          "2024-09-01T00:00:00.000000000",
          "2024-10-01T00:00:00.000000000",
          "2024-11-01T00:00:00.000000000",
          "2024-12-01T00:00:00.000000000",
          "2025-01-01T00:00:00.000000000",
          "2025-02-01T00:00:00.000000000",
          "2025-03-01T00:00:00.000000000",
          "2025-04-01T00:00:00.000000000"
         ],
         "xaxis": "x",
         "y": {
          "bdata": "AAAAABjWGEEAAAAAbEAYQQAAAABs3xxBAAAAAKbJIkEAAAAA/P4lQQAAAABEzSdBAAAAAK4jLUEAAAAAzEYqQQAAAAAuFilBAAAAAAIIJkEAAAAAMKscQQAAAAAsHhxBAAAAAAy0HEEAAAAA2MccQQAAAAAo1x1BAAAAAGB7I0EAAAAA2LMnQQAAAABsyCdBAAAAAKLUK0EAAAAAtOIpQQAAAADa8yhBAAAAAMSyJkEAAAAAQNUgQQAAAACgcx1BAAAAAKzXH0EAAAAAfPIbQQAAAAAQQx9BAAAAAAw5JEE=",
          "dtype": "f8"
         },
         "yaxis": "y"
        },
        {
         "hovertemplate": "<b>%{hovertext}</b><br><br>Países/Conjunto=Residentes en el Extranjero<br>Total de Pernoctaciones=%{y}<extra></extra>",
         "hovertext": [
          "Residentes en el Extranjero",
          "Residentes en el Extranjero",
          "Residentes en el Extranjero",
          "Residentes en el Extranjero",
          "Residentes en el Extranjero",
          "Residentes en el Extranjero",
          "Residentes en el Extranjero",
          "Residentes en el Extranjero",
          "Residentes en el Extranjero",
          "Residentes en el Extranjero",
          "Residentes en el Extranjero",
          "Residentes en el Extranjero",
          "Residentes en el Extranjero",
          "Residentes en el Extranjero",
          "Residentes en el Extranjero",
          "Residentes en el Extranjero",
          "Residentes en el Extranjero",
          "Residentes en el Extranjero",
          "Residentes en el Extranjero",
          "Residentes en el Extranjero",
          "Residentes en el Extranjero",
          "Residentes en el Extranjero",
          "Residentes en el Extranjero",
          "Residentes en el Extranjero",
          "Residentes en el Extranjero",
          "Residentes en el Extranjero",
          "Residentes en el Extranjero",
          "Residentes en el Extranjero"
         ],
         "legendgroup": "Residentes en el Extranjero",
         "line": {
          "color": "#1a801a",
          "dash": "solid"
         },
         "marker": {
          "symbol": "circle"
         },
         "mode": "lines",
         "name": "Residentes en el Extranjero",
         "orientation": "v",
         "showlegend": true,
         "type": "scatter",
         "x": [
          "2023-01-01T00:00:00.000000000",
          "2023-02-01T00:00:00.000000000",
          "2023-03-01T00:00:00.000000000",
          "2023-04-01T00:00:00.000000000",
          "2023-05-01T00:00:00.000000000",
          "2023-06-01T00:00:00.000000000",
          "2023-07-01T00:00:00.000000000",
          "2023-08-01T00:00:00.000000000",
          "2023-09-01T00:00:00.000000000",
          "2023-10-01T00:00:00.000000000",
          "2023-11-01T00:00:00.000000000",
          "2023-12-01T00:00:00.000000000",
          "2024-01-01T00:00:00.000000000",
          "2024-02-01T00:00:00.000000000",
          "2024-03-01T00:00:00.000000000",
          "2024-04-01T00:00:00.000000000",
          "2024-05-01T00:00:00.000000000",
          "2024-06-01T00:00:00.000000000",
          "2024-07-01T00:00:00.000000000",
          "2024-08-01T00:00:00.000000000",
          "2024-09-01T00:00:00.000000000",
          "2024-10-01T00:00:00.000000000",
          "2024-11-01T00:00:00.000000000",
          "2024-12-01T00:00:00.000000000",
          "2025-01-01T00:00:00.000000000",
          "2025-02-01T00:00:00.000000000",
          "2025-03-01T00:00:00.000000000",
          "2025-04-01T00:00:00.000000000"
         ],
         "xaxis": "x",
         "y": {
          "bdata": "AAAAIJxtYkEAAADATqljQQAAAKDY9GdBAAAAMP1+cEEAAADwoF11QQAAALDi7HZBAAAAQHuEekEAAACQAMx7QQAAAGDF+3hBAAAAkA6zdUEAAAAgxgNnQQAAAGCPH2RBAAAAoPl2ZEEAAAAgJ4VmQQAAAOBbzGxBAAAA8ABfcUEAAADgef93QQAAAGAUxHhBAAAAUGnke0EAAAAgcid9QQAAAFC9EnpBAAAAUDsmd0EAAADAmK1nQQAAAKDGo2RBAAAAoKVQZUEAAAAAwJdmQQAAAEBIVGtBAAAAsIglckE=",
          "dtype": "f8"
         },
         "yaxis": "y"
        },
        {
         "hovertemplate": "<b>%{hovertext}</b><br><br>Países/Conjunto=Residentes en España<br>Total de Pernoctaciones=%{y}<extra></extra>",
         "hovertext": [
          "Residentes en España",
          "Residentes en España",
          "Residentes en España",
          "Residentes en España",
          "Residentes en España",
          "Residentes en España",
          "Residentes en España",
          "Residentes en España",
          "Residentes en España",
          "Residentes en España",
          "Residentes en España",
          "Residentes en España",
          "Residentes en España",
          "Residentes en España",
          "Residentes en España",
          "Residentes en España",
          "Residentes en España",
          "Residentes en España",
          "Residentes en España",
          "Residentes en España",
          "Residentes en España",
          "Residentes en España",
          "Residentes en España",
          "Residentes en España",
          "Residentes en España",
          "Residentes en España",
          "Residentes en España",
          "Residentes en España"
         ],
         "legendgroup": "Residentes en España",
         "line": {
          "color": "#004d00",
          "dash": "solid"
         },
         "marker": {
          "symbol": "circle"
         },
         "mode": "lines",
         "name": "Residentes en España",
         "orientation": "v",
         "showlegend": true,
         "type": "scatter",
         "x": [
          "2023-01-01T00:00:00.000000000",
          "2023-02-01T00:00:00.000000000",
          "2023-03-01T00:00:00.000000000",
          "2023-04-01T00:00:00.000000000",
          "2023-05-01T00:00:00.000000000",
          "2023-06-01T00:00:00.000000000",
          "2023-07-01T00:00:00.000000000",
          "2023-08-01T00:00:00.000000000",
          "2023-09-01T00:00:00.000000000",
          "2023-10-01T00:00:00.000000000",
          "2023-11-01T00:00:00.000000000",
          "2023-12-01T00:00:00.000000000",
          "2024-01-01T00:00:00.000000000",
          "2024-02-01T00:00:00.000000000",
          "2024-03-01T00:00:00.000000000",
          "2024-04-01T00:00:00.000000000",
          "2024-05-01T00:00:00.000000000",
          "2024-06-01T00:00:00.000000000",
          "2024-07-01T00:00:00.000000000",
          "2024-08-01T00:00:00.000000000",
          "2024-09-01T00:00:00.000000000",
          "2024-10-01T00:00:00.000000000",
          "2024-11-01T00:00:00.000000000",
          "2024-12-01T00:00:00.000000000",
          "2025-01-01T00:00:00.000000000",
          "2025-02-01T00:00:00.000000000",
          "2025-03-01T00:00:00.000000000",
          "2025-04-01T00:00:00.000000000"
         ],
         "xaxis": "x",
         "y": {
          "bdata": "AAAAAJ8qVkEAAAAAy9NYQQAAAMBJqV5BAAAAwLmAZEEAAACgYKliQQAAAMDgTGdBAAAAoI4wbUEAAADgSrxwQQAAAOB9eWZBAAAAwNttYkEAAADAaIpaQQAAAMDhFlxBAAAAACD7VUEAAAAA89dZQQAAAIBp+GFBAAAAABzyYEEAAACASy5kQQAAAMDiYGdBAAAA4Bw2bEEAAAAA3IVwQQAAAGB5UWZBAAAAICBxYkEAAADA9SVdQQAAAMD7gltBAAAAQCjhVUEAAADAZg1ZQQAAAEBtlF5BAAAAQE4nY0E=",
          "dtype": "f8"
         },
         "yaxis": "y"
        },
        {
         "hovertemplate": "<b>%{hovertext}</b><br><br>Países/Conjunto=República Checa<br>Total de Pernoctaciones=%{y}<extra></extra>",
         "hovertext": [
          "República Checa",
          "República Checa",
          "República Checa",
          "República Checa",
          "República Checa",
          "República Checa",
          "República Checa",
          "República Checa",
          "República Checa",
          "República Checa",
          "República Checa",
          "República Checa",
          "República Checa",
          "República Checa",
          "República Checa",
          "República Checa",
          "República Checa",
          "República Checa",
          "República Checa",
          "República Checa",
          "República Checa",
          "República Checa",
          "República Checa",
          "República Checa",
          "República Checa",
          "República Checa",
          "República Checa",
          "República Checa"
         ],
         "legendgroup": "República Checa",
         "line": {
          "color": "#237a23",
          "dash": "solid"
         },
         "marker": {
          "symbol": "circle"
         },
         "mode": "lines",
         "name": "República Checa",
         "orientation": "v",
         "showlegend": true,
         "type": "scatter",
         "x": [
          "2023-01-01T00:00:00.000000000",
          "2023-02-01T00:00:00.000000000",
          "2023-03-01T00:00:00.000000000",
          "2023-04-01T00:00:00.000000000",
          "2023-05-01T00:00:00.000000000",
          "2023-06-01T00:00:00.000000000",
          "2023-07-01T00:00:00.000000000",
          "2023-08-01T00:00:00.000000000",
          "2023-09-01T00:00:00.000000000",
          "2023-10-01T00:00:00.000000000",
          "2023-11-01T00:00:00.000000000",
          "2023-12-01T00:00:00.000000000",
          "2024-01-01T00:00:00.000000000",
          "2024-02-01T00:00:00.000000000",
          "2024-03-01T00:00:00.000000000",
          "2024-04-01T00:00:00.000000000",
          "2024-05-01T00:00:00.000000000",
          "2024-06-01T00:00:00.000000000",
          "2024-07-01T00:00:00.000000000",
          "2024-08-01T00:00:00.000000000",
          "2024-09-01T00:00:00.000000000",
          "2024-10-01T00:00:00.000000000",
          "2024-11-01T00:00:00.000000000",
          "2024-12-01T00:00:00.000000000",
          "2025-01-01T00:00:00.000000000",
          "2025-02-01T00:00:00.000000000",
          "2025-03-01T00:00:00.000000000",
          "2025-04-01T00:00:00.000000000"
         ],
         "xaxis": "x",
         "y": {
          "bdata": "AAAAAIAh5EAAAAAAAFvtQAAAAAAQI/NAAAAAAEA2/EAAAAAAkPkCQQAAAABQqAlBAAAAAERxEUEAAAAAWIkMQQAAAADAnwxBAAAAALAmAkEAAAAAsE/yQAAAAAAgTuhAAAAAAOD55UAAAAAAwKfzQAAAAAAwc/ZAAAAAAHAq+UAAAAAAeH8BQQAAAABAvQ9BAAAAANAeEkEAAAAAWGwLQQAAAAAAig9BAAAAAIDeBEEAAAAA4FTwQAAAAAAAfOhAAAAAAAAf6EAAAAAAILjyQAAAAACgV/hAAAAAACBk9UA=",
          "dtype": "f8"
         },
         "yaxis": "y"
        },
        {
         "hovertemplate": "<b>%{hovertext}</b><br><br>Países/Conjunto=Reino Unido<br>Total de Pernoctaciones=%{y}<extra></extra>",
         "hovertext": [
          "Reino Unido",
          "Reino Unido",
          "Reino Unido",
          "Reino Unido",
          "Reino Unido",
          "Reino Unido",
          "Reino Unido",
          "Reino Unido",
          "Reino Unido",
          "Reino Unido",
          "Reino Unido",
          "Reino Unido",
          "Reino Unido",
          "Reino Unido",
          "Reino Unido",
          "Reino Unido",
          "Reino Unido",
          "Reino Unido",
          "Reino Unido",
          "Reino Unido",
          "Reino Unido",
          "Reino Unido",
          "Reino Unido",
          "Reino Unido",
          "Reino Unido",
          "Reino Unido",
          "Reino Unido",
          "Reino Unido"
         ],
         "legendgroup": "Reino Unido",
         "line": {
          "color": "#4ca64c",
          "dash": "solid"
         },
         "marker": {
          "symbol": "circle"
         },
         "mode": "lines",
         "name": "Reino Unido",
         "orientation": "v",
         "showlegend": true,
         "type": "scatter",
         "x": [
          "2023-01-01T00:00:00.000000000",
          "2023-02-01T00:00:00.000000000",
          "2023-03-01T00:00:00.000000000",
          "2023-04-01T00:00:00.000000000",
          "2023-05-01T00:00:00.000000000",
          "2023-06-01T00:00:00.000000000",
          "2023-07-01T00:00:00.000000000",
          "2023-08-01T00:00:00.000000000",
          "2023-09-01T00:00:00.000000000",
          "2023-10-01T00:00:00.000000000",
          "2023-11-01T00:00:00.000000000",
          "2023-12-01T00:00:00.000000000",
          "2024-01-01T00:00:00.000000000",
          "2024-02-01T00:00:00.000000000",
          "2024-03-01T00:00:00.000000000",
          "2024-04-01T00:00:00.000000000",
          "2024-05-01T00:00:00.000000000",
          "2024-06-01T00:00:00.000000000",
          "2024-07-01T00:00:00.000000000",
          "2024-08-01T00:00:00.000000000",
          "2024-09-01T00:00:00.000000000",
          "2024-10-01T00:00:00.000000000",
          "2024-11-01T00:00:00.000000000",
          "2024-12-01T00:00:00.000000000",
          "2025-01-01T00:00:00.000000000",
          "2025-02-01T00:00:00.000000000",
          "2025-03-01T00:00:00.000000000",
          "2025-04-01T00:00:00.000000000"
         ],
         "xaxis": "x",
         "y": {
          "bdata": "AAAAgAsuQEEAAACA8/1BQQAAAAB4kUZBAAAAgK0eTUEAAAAAGftXQQAAAEATFFtBAAAAwEWiW0EAAACAmZBcQQAAAIAdnFtBAAAAAKXmVkEAAAAAPfpEQQAAAADB40JBAAAAAEe4QkEAAAAAJl1EQQAAAAClKkpBAAAAwGQLUEEAAAAAdAVZQQAAAICeZlxBAAAAQKC3W0EAAADAIhRdQQAAAEArzFtBAAAAQGlOV0EAAAAA8nlFQQAAAAAC9EJBAAAAgFHNQ0EAAAAAoiFFQQAAAABBdUlBAAAAwKzIUEE=",
          "dtype": "f8"
         },
         "yaxis": "y"
        },
        {
         "hovertemplate": "<b>%{hovertext}</b><br><br>Países/Conjunto=Portugal<br>Total de Pernoctaciones=%{y}<extra></extra>",
         "hovertext": [
          "Portugal",
          "Portugal",
          "Portugal",
          "Portugal",
          "Portugal",
          "Portugal",
          "Portugal",
          "Portugal",
          "Portugal",
          "Portugal",
          "Portugal",
          "Portugal",
          "Portugal",
          "Portugal",
          "Portugal",
          "Portugal",
          "Portugal",
          "Portugal",
          "Portugal",
          "Portugal",
          "Portugal",
          "Portugal",
          "Portugal",
          "Portugal",
          "Portugal",
          "Portugal",
          "Portugal",
          "Portugal"
         ],
         "legendgroup": "Portugal",
         "line": {
          "color": "#80c080",
          "dash": "solid"
         },
         "marker": {
          "symbol": "circle"
         },
         "mode": "lines",
         "name": "Portugal",
         "orientation": "v",
         "showlegend": true,
         "type": "scatter",
         "x": [
          "2023-01-01T00:00:00.000000000",
          "2023-02-01T00:00:00.000000000",
          "2023-03-01T00:00:00.000000000",
          "2023-04-01T00:00:00.000000000",
          "2023-05-01T00:00:00.000000000",
          "2023-06-01T00:00:00.000000000",
          "2023-07-01T00:00:00.000000000",
          "2023-08-01T00:00:00.000000000",
          "2023-09-01T00:00:00.000000000",
          "2023-10-01T00:00:00.000000000",
          "2023-11-01T00:00:00.000000000",
          "2023-12-01T00:00:00.000000000",
          "2024-01-01T00:00:00.000000000",
          "2024-02-01T00:00:00.000000000",
          "2024-03-01T00:00:00.000000000",
          "2024-04-01T00:00:00.000000000",
          "2024-05-01T00:00:00.000000000",
          "2024-06-01T00:00:00.000000000",
          "2024-07-01T00:00:00.000000000",
          "2024-08-01T00:00:00.000000000",
          "2024-09-01T00:00:00.000000000",
          "2024-10-01T00:00:00.000000000",
          "2024-11-01T00:00:00.000000000",
          "2024-12-01T00:00:00.000000000",
          "2025-01-01T00:00:00.000000000",
          "2025-02-01T00:00:00.000000000",
          "2025-03-01T00:00:00.000000000",
          "2025-04-01T00:00:00.000000000"
         ],
         "xaxis": "x",
         "y": {
          "bdata": "AAAAAFD+A0EAAAAAEAwMQQAAAACweglBAAAAAAw8HEEAAAAAqOcTQQAAAAB6aCFBAAAAAF6qJ0EAAAAAg7syQQAAAAA+tydBAAAAADwAFUEAAAAAMK0HQQAAAACg7w5BAAAAANgvBUEAAAAAiIkLQQAAAAAAyQ5BAAAAALBFGUEAAAAAwPYVQQAAAACsiCRBAAAAACZNKkEAAAAAJqQ0QQAAAAC6hyhBAAAAAHh0FUEAAAAAwK8KQQAAAABY0QtBAAAAAIjbBkEAAAAAYMYFQQAAAABUABBBAAAAALRCHUE=",
          "dtype": "f8"
         },
         "yaxis": "y"
        },
        {
         "hovertemplate": "<b>%{hovertext}</b><br><br>Países/Conjunto=Resto de la U.E.<br>Total de Pernoctaciones=%{y}<extra></extra>",
         "hovertext": [
          "Resto de la U.E.",
          "Resto de la U.E.",
          "Resto de la U.E.",
          "Resto de la U.E.",
          "Resto de la U.E.",
          "Resto de la U.E.",
          "Resto de la U.E.",
          "Resto de la U.E.",
          "Resto de la U.E.",
          "Resto de la U.E.",
          "Resto de la U.E.",
          "Resto de la U.E.",
          "Resto de la U.E.",
          "Resto de la U.E.",
          "Resto de la U.E.",
          "Resto de la U.E.",
          "Resto de la U.E.",
          "Resto de la U.E.",
          "Resto de la U.E.",
          "Resto de la U.E.",
          "Resto de la U.E.",
          "Resto de la U.E.",
          "Resto de la U.E.",
          "Resto de la U.E.",
          "Resto de la U.E.",
          "Resto de la U.E.",
          "Resto de la U.E.",
          "Resto de la U.E."
         ],
         "legendgroup": "Resto de la U.E.",
         "line": {
          "color": "#b3d9b3",
          "dash": "solid"
         },
         "marker": {
          "symbol": "circle"
         },
         "mode": "lines",
         "name": "Resto de la U.E.",
         "orientation": "v",
         "showlegend": true,
         "type": "scatter",
         "x": [
          "2023-01-01T00:00:00.000000000",
          "2023-02-01T00:00:00.000000000",
          "2023-03-01T00:00:00.000000000",
          "2023-04-01T00:00:00.000000000",
          "2023-05-01T00:00:00.000000000",
          "2023-06-01T00:00:00.000000000",
          "2023-07-01T00:00:00.000000000",
          "2023-08-01T00:00:00.000000000",
          "2023-09-01T00:00:00.000000000",
          "2023-10-01T00:00:00.000000000",
          "2023-11-01T00:00:00.000000000",
          "2023-12-01T00:00:00.000000000",
          "2024-01-01T00:00:00.000000000",
          "2024-02-01T00:00:00.000000000",
          "2024-03-01T00:00:00.000000000",
          "2024-04-01T00:00:00.000000000",
          "2024-05-01T00:00:00.000000000",
          "2024-06-01T00:00:00.000000000",
          "2024-07-01T00:00:00.000000000",
          "2024-08-01T00:00:00.000000000",
          "2024-09-01T00:00:00.000000000",
          "2024-10-01T00:00:00.000000000",
          "2024-11-01T00:00:00.000000000",
          "2024-12-01T00:00:00.000000000",
          "2025-01-01T00:00:00.000000000",
          "2025-02-01T00:00:00.000000000",
          "2025-03-01T00:00:00.000000000",
          "2025-04-01T00:00:00.000000000"
         ],
         "xaxis": "x",
         "y": {
          "bdata": "AAAAAHCQEEEAAAAAMI8RQQAAAAA8qxRBAAAAAEQ7HUEAAAAAyG4eQQAAAADK9CJBAAAAABA/J0EAAAAA/g0nQQAAAADw+CNBAAAAAEZWIEEAAAAAiGYUQQAAAABwVBFBAAAAAPBuEUEAAAAA/BYTQQAAAACoGxlBAAAAADRcHkEAAAAAqFoiQQAAAACGayVBAAAAAOQ9KUEAAAAAolYoQQAAAACCdCZBAAAAAHAWIkEAAAAAxHkTQQAAAACwVhBBAAAAAGRkEkEAAAAAJHYTQQAAAADEMRdBAAAAAJD0HUE=",
          "dtype": "f8"
         },
         "yaxis": "y"
        },
        {
         "hovertemplate": "<b>%{hovertext}</b><br><br>Países/Conjunto=Países Bajos<br>Total de Pernoctaciones=%{y}<extra></extra>",
         "hovertext": [
          "Países Bajos",
          "Países Bajos",
          "Países Bajos",
          "Países Bajos",
          "Países Bajos",
          "Países Bajos",
          "Países Bajos",
          "Países Bajos",
          "Países Bajos",
          "Países Bajos",
          "Países Bajos",
          "Países Bajos",
          "Países Bajos",
          "Países Bajos",
          "Países Bajos",
          "Países Bajos",
          "Países Bajos",
          "Países Bajos",
          "Países Bajos",
          "Países Bajos",
          "Países Bajos",
          "Países Bajos",
          "Países Bajos",
          "Países Bajos",
          "Países Bajos",
          "Países Bajos",
          "Países Bajos",
          "Países Bajos"
         ],
         "legendgroup": "Países Bajos",
         "line": {
          "color": "#99cc99",
          "dash": "solid"
         },
         "marker": {
          "symbol": "circle"
         },
         "mode": "lines",
         "name": "Países Bajos",
         "orientation": "v",
         "showlegend": true,
         "type": "scatter",
         "x": [
          "2023-01-01T00:00:00.000000000",
          "2023-02-01T00:00:00.000000000",
          "2023-03-01T00:00:00.000000000",
          "2023-04-01T00:00:00.000000000",
          "2023-05-01T00:00:00.000000000",
          "2023-06-01T00:00:00.000000000",
          "2023-07-01T00:00:00.000000000",
          "2023-08-01T00:00:00.000000000",
          "2023-09-01T00:00:00.000000000",
          "2023-10-01T00:00:00.000000000",
          "2023-11-01T00:00:00.000000000",
          "2023-12-01T00:00:00.000000000",
          "2024-01-01T00:00:00.000000000",
          "2024-02-01T00:00:00.000000000",
          "2024-03-01T00:00:00.000000000",
          "2024-04-01T00:00:00.000000000",
          "2024-05-01T00:00:00.000000000",
          "2024-06-01T00:00:00.000000000",
          "2024-07-01T00:00:00.000000000",
          "2024-08-01T00:00:00.000000000",
          "2024-09-01T00:00:00.000000000",
          "2024-10-01T00:00:00.000000000",
          "2024-11-01T00:00:00.000000000",
          "2024-12-01T00:00:00.000000000",
          "2025-01-01T00:00:00.000000000",
          "2025-02-01T00:00:00.000000000",
          "2025-03-01T00:00:00.000000000",
          "2025-04-01T00:00:00.000000000"
         ],
         "xaxis": "x",
         "y": {
          "bdata": "AAAAABRpGkEAAAAAKO8ZQQAAAADwpx5BAAAAAGhQKUEAAAAAWMYvQQAAAACkHDBBAAAAAHVKNEEAAAAAfLk4QQAAAABIUzNBAAAAADbwLkEAAAAAaK8bQQAAAAA8SxhBAAAAAJTuHUEAAAAAnlkgQQAAAACywCBBAAAAAEZtKEEAAAAAq7I0QQAAAACwpTJBAAAAAC1sOEEAAAAAlq44QQAAAAAffzRBAAAAAJO4MEEAAAAAaHgfQQAAAAC87hlBAAAAAGBOHUEAAAAAGEkgQQAAAABASSJBAAAAAE6vKEE=",
          "dtype": "f8"
         },
         "yaxis": "y"
        },
        {
         "hovertemplate": "<b>%{hovertext}</b><br><br>Países/Conjunto=Polonia<br>Total de Pernoctaciones=%{y}<extra></extra>",
         "hovertext": [
          "Polonia",
          "Polonia",
          "Polonia",
          "Polonia",
          "Polonia",
          "Polonia",
          "Polonia",
          "Polonia",
          "Polonia",
          "Polonia",
          "Polonia",
          "Polonia",
          "Polonia",
          "Polonia",
          "Polonia",
          "Polonia",
          "Polonia",
          "Polonia",
          "Polonia",
          "Polonia",
          "Polonia",
          "Polonia",
          "Polonia",
          "Polonia",
          "Polonia",
          "Polonia",
          "Polonia",
          "Polonia"
         ],
         "legendgroup": "Polonia",
         "line": {
          "color": "#66b366",
          "dash": "solid"
         },
         "marker": {
          "symbol": "circle"
         },
         "mode": "lines",
         "name": "Polonia",
         "orientation": "v",
         "showlegend": true,
         "type": "scatter",
         "x": [
          "2023-01-01T00:00:00.000000000",
          "2023-02-01T00:00:00.000000000",
          "2023-03-01T00:00:00.000000000",
          "2023-04-01T00:00:00.000000000",
          "2023-05-01T00:00:00.000000000",
          "2023-06-01T00:00:00.000000000",
          "2023-07-01T00:00:00.000000000",
          "2023-08-01T00:00:00.000000000",
          "2023-09-01T00:00:00.000000000",
          "2023-10-01T00:00:00.000000000",
          "2023-11-01T00:00:00.000000000",
          "2023-12-01T00:00:00.000000000",
          "2024-01-01T00:00:00.000000000",
          "2024-02-01T00:00:00.000000000",
          "2024-03-01T00:00:00.000000000",
          "2024-04-01T00:00:00.000000000",
          "2024-05-01T00:00:00.000000000",
          "2024-06-01T00:00:00.000000000",
          "2024-07-01T00:00:00.000000000",
          "2024-08-01T00:00:00.000000000",
          "2024-09-01T00:00:00.000000000",
          "2024-10-01T00:00:00.000000000",
          "2024-11-01T00:00:00.000000000",
          "2024-12-01T00:00:00.000000000",
          "2025-01-01T00:00:00.000000000",
          "2025-02-01T00:00:00.000000000",
          "2025-03-01T00:00:00.000000000",
          "2025-04-01T00:00:00.000000000"
         ],
         "xaxis": "x",
         "y": {
          "bdata": "AAAAAEg+DUEAAAAAjHQQQQAAAAB4Dw9BAAAAAHCXFUEAAAAARO8eQQAAAAA0cyNBAAAAAKDiJ0EAAAAAHH8lQQAAAABA8CVBAAAAACxrHkEAAAAAfIsQQQAAAAA44QxBAAAAAMzJE0EAAAAALBMVQQAAAADMoBRBAAAAAJBUGUEAAAAADmsjQQAAAAAktChBAAAAAKSXKkEAAAAAZpQpQQAAAABkzShBAAAAAFD+H0EAAAAAkDgRQQAAAABQEQ5BAAAAAPCYFEEAAAAASG8aQQAAAAA0hRdBAAAAANS2GkE=",
          "dtype": "f8"
         },
         "yaxis": "y"
        },
        {
         "hovertemplate": "<b>%{hovertext}</b><br><br>Países/Conjunto=Bélgica<br>Total de Pernoctaciones=%{y}<extra></extra>",
         "hovertext": [
          "Bélgica",
          "Bélgica",
          "Bélgica",
          "Bélgica",
          "Bélgica",
          "Bélgica",
          "Bélgica",
          "Bélgica",
          "Bélgica",
          "Bélgica",
          "Bélgica",
          "Bélgica",
          "Bélgica",
          "Bélgica",
          "Bélgica",
          "Bélgica",
          "Bélgica",
          "Bélgica",
          "Bélgica",
          "Bélgica",
          "Bélgica",
          "Bélgica",
          "Bélgica",
          "Bélgica",
          "Bélgica",
          "Bélgica",
          "Bélgica",
          "Bélgica"
         ],
         "legendgroup": "Bélgica",
         "line": {
          "color": "#339933",
          "dash": "solid"
         },
         "marker": {
          "symbol": "circle"
         },
         "mode": "lines",
         "name": "Bélgica",
         "orientation": "v",
         "showlegend": true,
         "type": "scatter",
         "x": [
          "2023-01-01T00:00:00.000000000",
          "2023-02-01T00:00:00.000000000",
          "2023-03-01T00:00:00.000000000",
          "2023-04-01T00:00:00.000000000",
          "2023-05-01T00:00:00.000000000",
          "2023-06-01T00:00:00.000000000",
          "2023-07-01T00:00:00.000000000",
          "2023-08-01T00:00:00.000000000",
          "2023-09-01T00:00:00.000000000",
          "2023-10-01T00:00:00.000000000",
          "2023-11-01T00:00:00.000000000",
          "2023-12-01T00:00:00.000000000",
          "2024-01-01T00:00:00.000000000",
          "2024-02-01T00:00:00.000000000",
          "2024-03-01T00:00:00.000000000",
          "2024-04-01T00:00:00.000000000",
          "2024-05-01T00:00:00.000000000",
          "2024-06-01T00:00:00.000000000",
          "2024-07-01T00:00:00.000000000",
          "2024-08-01T00:00:00.000000000",
          "2024-09-01T00:00:00.000000000",
          "2024-10-01T00:00:00.000000000",
          "2024-11-01T00:00:00.000000000",
          "2024-12-01T00:00:00.000000000",
          "2025-01-01T00:00:00.000000000",
          "2025-02-01T00:00:00.000000000",
          "2025-03-01T00:00:00.000000000",
          "2025-04-01T00:00:00.000000000"
         ],
         "xaxis": "x",
         "y": {
          "bdata": "AAAAAMzqEUEAAAAAKAcTQQAAAAB4gRRBAAAAAOACHUEAAAAAiJckQQAAAAAk6R9BAAAAAP70LUEAAAAAlhwmQQAAAABENCZBAAAAAArKIUEAAAAAfNUVQQAAAAAI3hNBAAAAALxNEkEAAAAAJJYUQQAAAACcSRhBAAAAADZUIUEAAAAA3qwkQQAAAABiEiJBAAAAACw4L0EAAAAAzi0oQQAAAADsqydBAAAAADy7JEEAAAAAcMYVQQAAAACMixVBAAAAAMDNEUEAAAAAcKwUQQAAAACIrBpBAAAAANbLIEE=",
          "dtype": "f8"
         },
         "yaxis": "y"
        },
        {
         "hovertemplate": "<b>%{hovertext}</b><br><br>Países/Conjunto=Dinamarca<br>Total de Pernoctaciones=%{y}<extra></extra>",
         "hovertext": [
          "Dinamarca",
          "Dinamarca",
          "Dinamarca",
          "Dinamarca",
          "Dinamarca",
          "Dinamarca",
          "Dinamarca",
          "Dinamarca",
          "Dinamarca",
          "Dinamarca",
          "Dinamarca",
          "Dinamarca",
          "Dinamarca",
          "Dinamarca",
          "Dinamarca",
          "Dinamarca",
          "Dinamarca",
          "Dinamarca",
          "Dinamarca",
          "Dinamarca",
          "Dinamarca",
          "Dinamarca",
          "Dinamarca",
          "Dinamarca",
          "Dinamarca",
          "Dinamarca",
          "Dinamarca",
          "Dinamarca"
         ],
         "legendgroup": "Dinamarca",
         "line": {
          "color": "#1a801a",
          "dash": "solid"
         },
         "marker": {
          "symbol": "circle"
         },
         "mode": "lines",
         "name": "Dinamarca",
         "orientation": "v",
         "showlegend": true,
         "type": "scatter",
         "x": [
          "2023-01-01T00:00:00.000000000",
          "2023-02-01T00:00:00.000000000",
          "2023-03-01T00:00:00.000000000",
          "2023-04-01T00:00:00.000000000",
          "2023-05-01T00:00:00.000000000",
          "2023-06-01T00:00:00.000000000",
          "2023-07-01T00:00:00.000000000",
          "2023-08-01T00:00:00.000000000",
          "2023-09-01T00:00:00.000000000",
          "2023-10-01T00:00:00.000000000",
          "2023-11-01T00:00:00.000000000",
          "2023-12-01T00:00:00.000000000",
          "2024-01-01T00:00:00.000000000",
          "2024-02-01T00:00:00.000000000",
          "2024-03-01T00:00:00.000000000",
          "2024-04-01T00:00:00.000000000",
          "2024-05-01T00:00:00.000000000",
          "2024-06-01T00:00:00.000000000",
          "2024-07-01T00:00:00.000000000",
          "2024-08-01T00:00:00.000000000",
          "2024-09-01T00:00:00.000000000",
          "2024-10-01T00:00:00.000000000",
          "2024-11-01T00:00:00.000000000",
          "2024-12-01T00:00:00.000000000",
          "2025-01-01T00:00:00.000000000",
          "2025-02-01T00:00:00.000000000",
          "2025-03-01T00:00:00.000000000",
          "2025-04-01T00:00:00.000000000"
         ],
         "xaxis": "x",
         "y": {
          "bdata": "AAAAAEhoCUEAAAAASK0NQQAAAABomw9BAAAAAKiHDkEAAAAAEDEJQQAAAABo0wdBAAAAAEQkGUEAAAAAsOwPQQAAAADYrQxBAAAAAHC9E0EAAAAAEBEKQQAAAAAgtwVBAAAAACD+CUEAAAAA8O8OQQAAAADMCxNBAAAAAIDgCUEAAAAAOLUKQQAAAADY+wVBAAAAAPTNGUEAAAAAgM8NQQAAAADoxQ9BAAAAAJipE0EAAAAAwIIJQQAAAACYsQRBAAAAANCgCEEAAAAAYG0OQQAAAAB80xBBAAAAAMArDUE=",
          "dtype": "f8"
         },
         "yaxis": "y"
        },
        {
         "hovertemplate": "<b>%{hovertext}</b><br><br>Países/Conjunto=Finlandia<br>Total de Pernoctaciones=%{y}<extra></extra>",
         "hovertext": [
          "Finlandia",
          "Finlandia",
          "Finlandia",
          "Finlandia",
          "Finlandia",
          "Finlandia",
          "Finlandia",
          "Finlandia",
          "Finlandia",
          "Finlandia",
          "Finlandia",
          "Finlandia",
          "Finlandia",
          "Finlandia",
          "Finlandia",
          "Finlandia",
          "Finlandia",
          "Finlandia",
          "Finlandia",
          "Finlandia",
          "Finlandia",
          "Finlandia",
          "Finlandia",
          "Finlandia",
          "Finlandia",
          "Finlandia",
          "Finlandia",
          "Finlandia"
         ],
         "legendgroup": "Finlandia",
         "line": {
          "color": "#004d00",
          "dash": "solid"
         },
         "marker": {
          "symbol": "circle"
         },
         "mode": "lines",
         "name": "Finlandia",
         "orientation": "v",
         "showlegend": true,
         "type": "scatter",
         "x": [
          "2023-01-01T00:00:00.000000000",
          "2023-02-01T00:00:00.000000000",
          "2023-03-01T00:00:00.000000000",
          "2023-04-01T00:00:00.000000000",
          "2023-05-01T00:00:00.000000000",
          "2023-06-01T00:00:00.000000000",
          "2023-07-01T00:00:00.000000000",
          "2023-08-01T00:00:00.000000000",
          "2023-09-01T00:00:00.000000000",
          "2023-10-01T00:00:00.000000000",
          "2023-11-01T00:00:00.000000000",
          "2023-12-01T00:00:00.000000000",
          "2024-01-01T00:00:00.000000000",
          "2024-02-01T00:00:00.000000000",
          "2024-03-01T00:00:00.000000000",
          "2024-04-01T00:00:00.000000000",
          "2024-05-01T00:00:00.000000000",
          "2024-06-01T00:00:00.000000000",
          "2024-07-01T00:00:00.000000000",
          "2024-08-01T00:00:00.000000000",
          "2024-09-01T00:00:00.000000000",
          "2024-10-01T00:00:00.000000000",
          "2024-11-01T00:00:00.000000000",
          "2024-12-01T00:00:00.000000000",
          "2025-01-01T00:00:00.000000000",
          "2025-02-01T00:00:00.000000000",
          "2025-03-01T00:00:00.000000000",
          "2025-04-01T00:00:00.000000000"
         ],
         "xaxis": "x",
         "y": {
          "bdata": "AAAAAMhjBUEAAAAAQOoFQQAAAAAQ9AdBAAAAACAFAUEAAAAA8Mr0QAAAAABQkfRAAAAAAPBR9UAAAAAAwA7rQAAAAAAADfdAAAAAAADACkEAAAAAiMIQQQAAAAD4ZwtBAAAAAPCbC0EAAAAAaNALQQAAAAAYsg9BAAAAACi4AkEAAAAAsKP9QAAAAADgFPdAAAAAAPAG9UAAAAAAoHDnQAAAAABg5PhAAAAAAHDHC0EAAAAAcCQMQQAAAACAxwlBAAAAAKCvBUEAAAAA8KwHQQAAAACIZQpBAAAAAODtAUE=",
          "dtype": "f8"
         },
         "yaxis": "y"
        },
        {
         "hovertemplate": "<b>%{hovertext}</b><br><br>Países/Conjunto=Francia<br>Total de Pernoctaciones=%{y}<extra></extra>",
         "hovertext": [
          "Francia",
          "Francia",
          "Francia",
          "Francia",
          "Francia",
          "Francia",
          "Francia",
          "Francia",
          "Francia",
          "Francia",
          "Francia",
          "Francia",
          "Francia",
          "Francia",
          "Francia",
          "Francia",
          "Francia",
          "Francia",
          "Francia",
          "Francia",
          "Francia",
          "Francia",
          "Francia",
          "Francia",
          "Francia",
          "Francia",
          "Francia",
          "Francia"
         ],
         "legendgroup": "Francia",
         "line": {
          "color": "#237a23",
          "dash": "solid"
         },
         "marker": {
          "symbol": "circle"
         },
         "mode": "lines",
         "name": "Francia",
         "orientation": "v",
         "showlegend": true,
         "type": "scatter",
         "x": [
          "2023-01-01T00:00:00.000000000",
          "2023-02-01T00:00:00.000000000",
          "2023-03-01T00:00:00.000000000",
          "2023-04-01T00:00:00.000000000",
          "2023-05-01T00:00:00.000000000",
          "2023-06-01T00:00:00.000000000",
          "2023-07-01T00:00:00.000000000",
          "2023-08-01T00:00:00.000000000",
          "2023-09-01T00:00:00.000000000",
          "2023-10-01T00:00:00.000000000",
          "2023-11-01T00:00:00.000000000",
          "2023-12-01T00:00:00.000000000",
          "2024-01-01T00:00:00.000000000",
          "2024-02-01T00:00:00.000000000",
          "2024-03-01T00:00:00.000000000",
          "2024-04-01T00:00:00.000000000",
          "2024-05-01T00:00:00.000000000",
          "2024-06-01T00:00:00.000000000",
          "2024-07-01T00:00:00.000000000",
          "2024-08-01T00:00:00.000000000",
          "2024-09-01T00:00:00.000000000",
          "2024-10-01T00:00:00.000000000",
          "2024-11-01T00:00:00.000000000",
          "2024-12-01T00:00:00.000000000",
          "2025-01-01T00:00:00.000000000",
          "2025-02-01T00:00:00.000000000",
          "2025-03-01T00:00:00.000000000",
          "2025-04-01T00:00:00.000000000"
         ],
         "xaxis": "x",
         "y": {
          "bdata": "AAAAAFhdI0EAAAAAXlUpQQAAAABkqSlBAAAAAMCDOkEAAAAAeORAQQAAAADgaDlBAAAAgNklQkEAAACAcO9KQQAAAABc9D1BAAAAAM4vPEEAAAAAjKQmQQAAAAAceSVBAAAAAPCHJEEAAAAAFhkpQQAAAABk7SxBAAAAAI+gO0EAAAAArMVCQQAAAAAyVjtBAAAAAF6rQkEAAACA/RBMQQAAAAC/HD9BAAAAAAADPkEAAAAAHIsmQQAAAACQYCVBAAAAAES8JUEAAAAAfFsqQQAAAAA0zypBAAAAAFA2OkE=",
          "dtype": "f8"
         },
         "yaxis": "y"
        },
        {
         "hovertemplate": "<b>%{hovertext}</b><br><br>Países/Conjunto=Grecia<br>Total de Pernoctaciones=%{y}<extra></extra>",
         "hovertext": [
          "Grecia",
          "Grecia",
          "Grecia",
          "Grecia",
          "Grecia",
          "Grecia",
          "Grecia",
          "Grecia",
          "Grecia",
          "Grecia",
          "Grecia",
          "Grecia",
          "Grecia",
          "Grecia",
          "Grecia",
          "Grecia",
          "Grecia",
          "Grecia",
          "Grecia",
          "Grecia",
          "Grecia",
          "Grecia",
          "Grecia",
          "Grecia",
          "Grecia",
          "Grecia",
          "Grecia",
          "Grecia"
         ],
         "legendgroup": "Grecia",
         "line": {
          "color": "#4ca64c",
          "dash": "solid"
         },
         "marker": {
          "symbol": "circle"
         },
         "mode": "lines",
         "name": "Grecia",
         "orientation": "v",
         "showlegend": true,
         "type": "scatter",
         "x": [
          "2023-01-01T00:00:00.000000000",
          "2023-02-01T00:00:00.000000000",
          "2023-03-01T00:00:00.000000000",
          "2023-04-01T00:00:00.000000000",
          "2023-05-01T00:00:00.000000000",
          "2023-06-01T00:00:00.000000000",
          "2023-07-01T00:00:00.000000000",
          "2023-08-01T00:00:00.000000000",
          "2023-09-01T00:00:00.000000000",
          "2023-10-01T00:00:00.000000000",
          "2023-11-01T00:00:00.000000000",
          "2023-12-01T00:00:00.000000000",
          "2024-01-01T00:00:00.000000000",
          "2024-02-01T00:00:00.000000000",
          "2024-03-01T00:00:00.000000000",
          "2024-04-01T00:00:00.000000000",
          "2024-05-01T00:00:00.000000000",
          "2024-06-01T00:00:00.000000000",
          "2024-07-01T00:00:00.000000000",
          "2024-08-01T00:00:00.000000000",
          "2024-09-01T00:00:00.000000000",
          "2024-10-01T00:00:00.000000000",
          "2024-11-01T00:00:00.000000000",
          "2024-12-01T00:00:00.000000000",
          "2025-01-01T00:00:00.000000000",
          "2025-02-01T00:00:00.000000000",
          "2025-03-01T00:00:00.000000000",
          "2025-04-01T00:00:00.000000000"
         ],
         "xaxis": "x",
         "y": {
          "bdata": "AAAAAAAP2kAAAAAAwBzhQAAAAADAO+NAAAAAAKBa6UAAAAAAgJHhQAAAAACgnuJAAAAAAGC85UAAAAAAQIjoQAAAAADAYOJAAAAAACBZ5EAAAAAAQLbiQAAAAABA6eJAAAAAAADI3EAAAAAAoBvlQAAAAADAX+dAAAAAAIB040AAAAAAoDDmQAAAAAAAp+VAAAAAAKB25kAAAAAAYAXnQAAAAACARuNAAAAAAEC340AAAAAAICfiQAAAAABgVOFAAAAAAADN30AAAAAAIFrkQAAAAADg+ORAAAAAAMBS40A=",
          "dtype": "f8"
         },
         "yaxis": "y"
        },
        {
         "hovertemplate": "<b>%{hovertext}</b><br><br>Países/Conjunto=Austria<br>Total de Pernoctaciones=%{y}<extra></extra>",
         "hovertext": [
          "Austria",
          "Austria",
          "Austria",
          "Austria",
          "Austria",
          "Austria",
          "Austria",
          "Austria",
          "Austria",
          "Austria",
          "Austria",
          "Austria",
          "Austria",
          "Austria",
          "Austria",
          "Austria",
          "Austria",
          "Austria",
          "Austria",
          "Austria",
          "Austria",
          "Austria",
          "Austria",
          "Austria",
          "Austria",
          "Austria",
          "Austria",
          "Austria"
         ],
         "legendgroup": "Austria",
         "line": {
          "color": "#80c080",
          "dash": "solid"
         },
         "marker": {
          "symbol": "circle"
         },
         "mode": "lines",
         "name": "Austria",
         "orientation": "v",
         "showlegend": true,
         "type": "scatter",
         "x": [
          "2023-01-01T00:00:00.000000000",
          "2023-02-01T00:00:00.000000000",
          "2023-03-01T00:00:00.000000000",
          "2023-04-01T00:00:00.000000000",
          "2023-05-01T00:00:00.000000000",
          "2023-06-01T00:00:00.000000000",
          "2023-07-01T00:00:00.000000000",
          "2023-08-01T00:00:00.000000000",
          "2023-09-01T00:00:00.000000000",
          "2023-10-01T00:00:00.000000000",
          "2023-11-01T00:00:00.000000000",
          "2023-12-01T00:00:00.000000000",
          "2024-01-01T00:00:00.000000000",
          "2024-02-01T00:00:00.000000000",
          "2024-03-01T00:00:00.000000000",
          "2024-04-01T00:00:00.000000000",
          "2024-05-01T00:00:00.000000000",
          "2024-06-01T00:00:00.000000000",
          "2024-07-01T00:00:00.000000000",
          "2024-08-01T00:00:00.000000000",
          "2024-09-01T00:00:00.000000000",
          "2024-10-01T00:00:00.000000000",
          "2024-11-01T00:00:00.000000000",
          "2024-12-01T00:00:00.000000000",
          "2025-01-01T00:00:00.000000000",
          "2025-02-01T00:00:00.000000000",
          "2025-03-01T00:00:00.000000000",
          "2025-04-01T00:00:00.000000000"
         ],
         "xaxis": "x",
         "y": {
          "bdata": "AAAAADA890AAAAAA4KT6QAAAAAAwYPtAAAAAALDNB0EAAAAAKNoPQQAAAADIKQxBAAAAAOSuEUEAAAAA1E0SQQAAAAAIzw9BAAAAAKDrCUEAAAAAYLP9QAAAAABgI/VAAAAAAFCe9kAAAAAA8If9QAAAAACYXQVBAAAAAHAFBkEAAAAA5PgRQQAAAACQnA1BAAAAAIy4EUEAAAAAVJERQQAAAABgMQ9BAAAAALg3DEEAAAAAoKD9QAAAAABASvdAAAAAAOCa+UAAAAAAiCcAQQAAAADo2wBBAAAAACjtC0E=",
          "dtype": "f8"
         },
         "yaxis": "y"
        },
        {
         "hovertemplate": "<b>%{hovertext}</b><br><br>Países/Conjunto=Italia<br>Total de Pernoctaciones=%{y}<extra></extra>",
         "hovertext": [
          "Italia",
          "Italia",
          "Italia",
          "Italia",
          "Italia",
          "Italia",
          "Italia",
          "Italia",
          "Italia",
          "Italia",
          "Italia",
          "Italia",
          "Italia",
          "Italia",
          "Italia",
          "Italia",
          "Italia",
          "Italia",
          "Italia",
          "Italia",
          "Italia",
          "Italia",
          "Italia",
          "Italia",
          "Italia",
          "Italia",
          "Italia",
          "Italia"
         ],
         "legendgroup": "Italia",
         "line": {
          "color": "#b3d9b3",
          "dash": "solid"
         },
         "marker": {
          "symbol": "circle"
         },
         "mode": "lines",
         "name": "Italia",
         "orientation": "v",
         "showlegend": true,
         "type": "scatter",
         "x": [
          "2023-01-01T00:00:00.000000000",
          "2023-02-01T00:00:00.000000000",
          "2023-03-01T00:00:00.000000000",
          "2023-04-01T00:00:00.000000000",
          "2023-05-01T00:00:00.000000000",
          "2023-06-01T00:00:00.000000000",
          "2023-07-01T00:00:00.000000000",
          "2023-08-01T00:00:00.000000000",
          "2023-09-01T00:00:00.000000000",
          "2023-10-01T00:00:00.000000000",
          "2023-11-01T00:00:00.000000000",
          "2023-12-01T00:00:00.000000000",
          "2024-01-01T00:00:00.000000000",
          "2024-02-01T00:00:00.000000000",
          "2024-03-01T00:00:00.000000000",
          "2024-04-01T00:00:00.000000000",
          "2024-05-01T00:00:00.000000000",
          "2024-06-01T00:00:00.000000000",
          "2024-07-01T00:00:00.000000000",
          "2024-08-01T00:00:00.000000000",
          "2024-09-01T00:00:00.000000000",
          "2024-10-01T00:00:00.000000000",
          "2024-11-01T00:00:00.000000000",
          "2024-12-01T00:00:00.000000000",
          "2025-01-01T00:00:00.000000000",
          "2025-02-01T00:00:00.000000000",
          "2025-03-01T00:00:00.000000000",
          "2025-04-01T00:00:00.000000000"
         ],
         "xaxis": "x",
         "y": {
          "bdata": "AAAAAG6JIEEAAAAAUGodQQAAAABqkyFBAAAAABaUJkEAAAAALpwnQQAAAAD+fC1BAAAAACDvMkEAAAAARAs9QQAAAAAm7C5BAAAAAHbQJUEAAAAAqpcgQQAAAACQRCBBAAAAAB60IUEAAAAA0rQgQQAAAACICyVBAAAAACDjKEEAAAAAMv0qQQAAAADSCi9BAAAAAMYfNEEAAAAAl7w+QQAAAADkly9BAAAAADKoJkEAAAAA5tAgQQAAAADGMSBBAAAAANBbIkEAAAAAzOcgQQAAAAC28iNBAAAAAHB7KUE=",
          "dtype": "f8"
         },
         "yaxis": "y"
        },
        {
         "hovertemplate": "<b>%{hovertext}</b><br><br>Países/Conjunto=Luxemburgo<br>Total de Pernoctaciones=%{y}<extra></extra>",
         "hovertext": [
          "Luxemburgo",
          "Luxemburgo",
          "Luxemburgo",
          "Luxemburgo",
          "Luxemburgo",
          "Luxemburgo",
          "Luxemburgo",
          "Luxemburgo",
          "Luxemburgo",
          "Luxemburgo",
          "Luxemburgo",
          "Luxemburgo",
          "Luxemburgo",
          "Luxemburgo",
          "Luxemburgo",
          "Luxemburgo",
          "Luxemburgo",
          "Luxemburgo",
          "Luxemburgo",
          "Luxemburgo",
          "Luxemburgo",
          "Luxemburgo",
          "Luxemburgo",
          "Luxemburgo",
          "Luxemburgo",
          "Luxemburgo",
          "Luxemburgo",
          "Luxemburgo"
         ],
         "legendgroup": "Luxemburgo",
         "line": {
          "color": "#99cc99",
          "dash": "solid"
         },
         "marker": {
          "symbol": "circle"
         },
         "mode": "lines",
         "name": "Luxemburgo",
         "orientation": "v",
         "showlegend": true,
         "type": "scatter",
         "x": [
          "2023-01-01T00:00:00.000000000",
          "2023-02-01T00:00:00.000000000",
          "2023-03-01T00:00:00.000000000",
          "2023-04-01T00:00:00.000000000",
          "2023-05-01T00:00:00.000000000",
          "2023-06-01T00:00:00.000000000",
          "2023-07-01T00:00:00.000000000",
          "2023-08-01T00:00:00.000000000",
          "2023-09-01T00:00:00.000000000",
          "2023-10-01T00:00:00.000000000",
          "2023-11-01T00:00:00.000000000",
          "2023-12-01T00:00:00.000000000",
          "2024-01-01T00:00:00.000000000",
          "2024-02-01T00:00:00.000000000",
          "2024-03-01T00:00:00.000000000",
          "2024-04-01T00:00:00.000000000",
          "2024-05-01T00:00:00.000000000",
          "2024-06-01T00:00:00.000000000",
          "2024-07-01T00:00:00.000000000",
          "2024-08-01T00:00:00.000000000",
          "2024-09-01T00:00:00.000000000",
          "2024-10-01T00:00:00.000000000",
          "2024-11-01T00:00:00.000000000",
          "2024-12-01T00:00:00.000000000",
          "2025-01-01T00:00:00.000000000",
          "2025-02-01T00:00:00.000000000",
          "2025-03-01T00:00:00.000000000",
          "2025-04-01T00:00:00.000000000"
         ],
         "xaxis": "x",
         "y": {
          "bdata": "AAAAAIBU2UAAAAAAAGPYQAAAAAAAv9lAAAAAAEAH5UAAAAAAYGPkQAAAAABAFeVAAAAAAECy5kAAAAAAIA7xQAAAAADgDe9AAAAAAOAt5EAAAAAAANPYQAAAAABAetpAAAAAAAAd2EAAAAAAgHvYQAAAAADAOtxAAAAAAMBH6UAAAAAAYErqQAAAAABA9uNAAAAAAGBE5EAAAAAAQK7xQAAAAACA4e9AAAAAAMCY5EAAAAAAwLLbQAAAAAAALttAAAAAAECn10AAAAAAwEXaQAAAAADAv9lAAAAAAODE6UA=",
          "dtype": "f8"
         },
         "yaxis": "y"
        },
        {
         "hovertemplate": "<b>%{hovertext}</b><br><br>Países/Conjunto=Noruega<br>Total de Pernoctaciones=%{y}<extra></extra>",
         "hovertext": [
          "Noruega",
          "Noruega",
          "Noruega",
          "Noruega",
          "Noruega",
          "Noruega",
          "Noruega",
          "Noruega",
          "Noruega",
          "Noruega",
          "Noruega",
          "Noruega",
          "Noruega",
          "Noruega",
          "Noruega",
          "Noruega",
          "Noruega",
          "Noruega",
          "Noruega",
          "Noruega",
          "Noruega",
          "Noruega",
          "Noruega",
          "Noruega",
          "Noruega",
          "Noruega",
          "Noruega",
          "Noruega"
         ],
         "legendgroup": "Noruega",
         "line": {
          "color": "#66b366",
          "dash": "solid"
         },
         "marker": {
          "symbol": "circle"
         },
         "mode": "lines",
         "name": "Noruega",
         "orientation": "v",
         "showlegend": true,
         "type": "scatter",
         "x": [
          "2023-01-01T00:00:00.000000000",
          "2023-02-01T00:00:00.000000000",
          "2023-03-01T00:00:00.000000000",
          "2023-04-01T00:00:00.000000000",
          "2023-05-01T00:00:00.000000000",
          "2023-06-01T00:00:00.000000000",
          "2023-07-01T00:00:00.000000000",
          "2023-08-01T00:00:00.000000000",
          "2023-09-01T00:00:00.000000000",
          "2023-10-01T00:00:00.000000000",
          "2023-11-01T00:00:00.000000000",
          "2023-12-01T00:00:00.000000000",
          "2024-01-01T00:00:00.000000000",
          "2024-02-01T00:00:00.000000000",
          "2024-03-01T00:00:00.000000000",
          "2024-04-01T00:00:00.000000000",
          "2024-05-01T00:00:00.000000000",
          "2024-06-01T00:00:00.000000000",
          "2024-07-01T00:00:00.000000000",
          "2024-08-01T00:00:00.000000000",
          "2024-09-01T00:00:00.000000000",
          "2024-10-01T00:00:00.000000000",
          "2024-11-01T00:00:00.000000000",
          "2024-12-01T00:00:00.000000000",
          "2025-01-01T00:00:00.000000000",
          "2025-02-01T00:00:00.000000000",
          "2025-03-01T00:00:00.000000000",
          "2025-04-01T00:00:00.000000000"
         ],
         "xaxis": "x",
         "y": {
          "bdata": "AAAAAOh6CkEAAAAAeG4PQQAAAAAMFxJBAAAAAPj4DEEAAAAAaB8IQQAAAAAw+gxBAAAAAMTEF0EAAAAAmPIHQQAAAABYyApBAAAAABDAE0EAAAAAQPwQQQAAAACIjwdBAAAAAFiCDEEAAAAADAYSQQAAAAAMmBNBAAAAALg5CUEAAAAAUN8HQQAAAABYnApBAAAAABTmFkEAAAAAoJgEQQAAAADIxApBAAAAAEiHFEEAAAAADJYQQQAAAABwGghBAAAAAAjUC0EAAAAAZLUSQQAAAADkJhFBAAAAAEhBC0E=",
          "dtype": "f8"
         },
         "yaxis": "y"
        },
        {
         "hovertemplate": "<b>%{hovertext}</b><br><br>Países/Conjunto=Otros Países Europeos<br>Total de Pernoctaciones=%{y}<extra></extra>",
         "hovertext": [
          "Otros Países Europeos",
          "Otros Países Europeos",
          "Otros Países Europeos",
          "Otros Países Europeos",
          "Otros Países Europeos",
          "Otros Países Europeos",
          "Otros Países Europeos",
          "Otros Países Europeos",
          "Otros Países Europeos",
          "Otros Países Europeos",
          "Otros Países Europeos",
          "Otros Países Europeos",
          "Otros Países Europeos",
          "Otros Países Europeos",
          "Otros Países Europeos",
          "Otros Países Europeos",
          "Otros Países Europeos",
          "Otros Países Europeos",
          "Otros Países Europeos",
          "Otros Países Europeos",
          "Otros Países Europeos",
          "Otros Países Europeos",
          "Otros Países Europeos",
          "Otros Países Europeos",
          "Otros Países Europeos",
          "Otros Países Europeos",
          "Otros Países Europeos",
          "Otros Países Europeos"
         ],
         "legendgroup": "Otros Países Europeos",
         "line": {
          "color": "#339933",
          "dash": "solid"
         },
         "marker": {
          "symbol": "circle"
         },
         "mode": "lines",
         "name": "Otros Países Europeos",
         "orientation": "v",
         "showlegend": true,
         "type": "scatter",
         "x": [
          "2023-01-01T00:00:00.000000000",
          "2023-02-01T00:00:00.000000000",
          "2023-03-01T00:00:00.000000000",
          "2023-04-01T00:00:00.000000000",
          "2023-05-01T00:00:00.000000000",
          "2023-06-01T00:00:00.000000000",
          "2023-07-01T00:00:00.000000000",
          "2023-08-01T00:00:00.000000000",
          "2023-09-01T00:00:00.000000000",
          "2023-10-01T00:00:00.000000000",
          "2023-11-01T00:00:00.000000000",
          "2023-12-01T00:00:00.000000000",
          "2024-01-01T00:00:00.000000000",
          "2024-02-01T00:00:00.000000000",
          "2024-03-01T00:00:00.000000000",
          "2024-04-01T00:00:00.000000000",
          "2024-05-01T00:00:00.000000000",
          "2024-06-01T00:00:00.000000000",
          "2024-07-01T00:00:00.000000000",
          "2024-08-01T00:00:00.000000000",
          "2024-09-01T00:00:00.000000000",
          "2024-10-01T00:00:00.000000000",
          "2024-11-01T00:00:00.000000000",
          "2024-12-01T00:00:00.000000000",
          "2025-01-01T00:00:00.000000000",
          "2025-02-01T00:00:00.000000000",
          "2025-03-01T00:00:00.000000000",
          "2025-04-01T00:00:00.000000000"
         ],
         "xaxis": "x",
         "y": {
          "bdata": "AAAAABjlFUEAAAAATAMTQQAAAACMdRZBAAAAAOgCHEEAAAAAVMYbQQAAAABk6CJBAAAAAF6IJ0EAAAAA3rckQQAAAAD+zSFBAAAAAARnHUEAAAAANMgTQQAAAABwyhJBAAAAAJxkE0EAAAAAPKAVQQAAAAA8gxlBAAAAACSpG0EAAAAA/GMhQQAAAACMiSRBAAAAAFpqKkEAAAAAphInQQAAAACWyidBAAAAADj2IUEAAAAAmIkUQQAAAAC0ohJBAAAAAMScFUEAAAAADCcUQQAAAADokRZBAAAAAJzHG0E=",
          "dtype": "f8"
         },
         "yaxis": "y"
        },
        {
         "hovertemplate": "<b>%{hovertext}</b><br><br>Países/Conjunto=Irlanda<br>Total de Pernoctaciones=%{y}<extra></extra>",
         "hovertext": [
          "Irlanda",
          "Irlanda",
          "Irlanda",
          "Irlanda",
          "Irlanda",
          "Irlanda",
          "Irlanda",
          "Irlanda",
          "Irlanda",
          "Irlanda",
          "Irlanda",
          "Irlanda",
          "Irlanda",
          "Irlanda",
          "Irlanda",
          "Irlanda",
          "Irlanda",
          "Irlanda",
          "Irlanda",
          "Irlanda",
          "Irlanda",
          "Irlanda",
          "Irlanda",
          "Irlanda",
          "Irlanda",
          "Irlanda",
          "Irlanda",
          "Irlanda"
         ],
         "legendgroup": "Irlanda",
         "line": {
          "color": "#1a801a",
          "dash": "solid"
         },
         "marker": {
          "symbol": "circle"
         },
         "mode": "lines",
         "name": "Irlanda",
         "orientation": "v",
         "showlegend": true,
         "type": "scatter",
         "x": [
          "2023-01-01T00:00:00.000000000",
          "2023-02-01T00:00:00.000000000",
          "2023-03-01T00:00:00.000000000",
          "2023-04-01T00:00:00.000000000",
          "2023-05-01T00:00:00.000000000",
          "2023-06-01T00:00:00.000000000",
          "2023-07-01T00:00:00.000000000",
          "2023-08-01T00:00:00.000000000",
          "2023-09-01T00:00:00.000000000",
          "2023-10-01T00:00:00.000000000",
          "2023-11-01T00:00:00.000000000",
          "2023-12-01T00:00:00.000000000",
          "2024-01-01T00:00:00.000000000",
          "2024-02-01T00:00:00.000000000",
          "2024-03-01T00:00:00.000000000",
          "2024-04-01T00:00:00.000000000",
          "2024-05-01T00:00:00.000000000",
          "2024-06-01T00:00:00.000000000",
          "2024-07-01T00:00:00.000000000",
          "2024-08-01T00:00:00.000000000",
          "2024-09-01T00:00:00.000000000",
          "2024-10-01T00:00:00.000000000",
          "2024-11-01T00:00:00.000000000",
          "2024-12-01T00:00:00.000000000",
          "2025-01-01T00:00:00.000000000",
          "2025-02-01T00:00:00.000000000",
          "2025-03-01T00:00:00.000000000",
          "2025-04-01T00:00:00.000000000"
         ],
         "xaxis": "x",
         "y": {
          "bdata": "AAAAADBOEEEAAAAAlIYQQQAAAADQ4hJBAAAAALYNIEEAAAAATM8kQQAAAAC2lShBAAAAAHi+KUEAAAAAdtwnQQAAAAAoUyhBAAAAAD5fJEEAAAAAjGUUQQAAAABYXRBBAAAAAKzkFEEAAAAAWEIUQQAAAADknRhBAAAAAJL3IEEAAAAAykMpQQAAAAAkQCtBAAAAAF7+K0EAAAAAdF0pQQAAAABe/SpBAAAAAG4jJkEAAAAAAPUTQQAAAAAsaBBBAAAAAGzwFUEAAAAAQNwUQQAAAACoJRhBAAAAABwhIkE=",
          "dtype": "f8"
         },
         "yaxis": "y"
        }
       ],
       "layout": {
        "hovermode": "x unified",
        "legend": {
         "title": {
          "text": "Países/Conjunto"
         },
         "tracegroupgap": 0
        },
        "template": {
         "data": {
          "bar": [
           {
            "error_x": {
             "color": "#2a3f5f"
            },
            "error_y": {
             "color": "#2a3f5f"
            },
            "marker": {
             "line": {
              "color": "#E5ECF6",
              "width": 0.5
             },
             "pattern": {
              "fillmode": "overlay",
              "size": 10,
              "solidity": 0.2
             }
            },
            "type": "bar"
           }
          ],
          "barpolar": [
           {
            "marker": {
             "line": {
              "color": "#E5ECF6",
              "width": 0.5
             },
             "pattern": {
              "fillmode": "overlay",
              "size": 10,
              "solidity": 0.2
             }
            },
            "type": "barpolar"
           }
          ],
          "carpet": [
           {
            "aaxis": {
             "endlinecolor": "#2a3f5f",
             "gridcolor": "white",
             "linecolor": "white",
             "minorgridcolor": "white",
             "startlinecolor": "#2a3f5f"
            },
            "baxis": {
             "endlinecolor": "#2a3f5f",
             "gridcolor": "white",
             "linecolor": "white",
             "minorgridcolor": "white",
             "startlinecolor": "#2a3f5f"
            },
            "type": "carpet"
           }
          ],
          "choropleth": [
           {
            "colorbar": {
             "outlinewidth": 0,
             "ticks": ""
            },
            "type": "choropleth"
           }
          ],
          "contour": [
           {
            "colorbar": {
             "outlinewidth": 0,
             "ticks": ""
            },
            "colorscale": [
             [
              0,
              "#0d0887"
             ],
             [
              0.1111111111111111,
              "#46039f"
             ],
             [
              0.2222222222222222,
              "#7201a8"
             ],
             [
              0.3333333333333333,
              "#9c179e"
             ],
             [
              0.4444444444444444,
              "#bd3786"
             ],
             [
              0.5555555555555556,
              "#d8576b"
             ],
             [
              0.6666666666666666,
              "#ed7953"
             ],
             [
              0.7777777777777778,
              "#fb9f3a"
             ],
             [
              0.8888888888888888,
              "#fdca26"
             ],
             [
              1,
              "#f0f921"
             ]
            ],
            "type": "contour"
           }
          ],
          "contourcarpet": [
           {
            "colorbar": {
             "outlinewidth": 0,
             "ticks": ""
            },
            "type": "contourcarpet"
           }
          ],
          "heatmap": [
           {
            "colorbar": {
             "outlinewidth": 0,
             "ticks": ""
            },
            "colorscale": [
             [
              0,
              "#0d0887"
             ],
             [
              0.1111111111111111,
              "#46039f"
             ],
             [
              0.2222222222222222,
              "#7201a8"
             ],
             [
              0.3333333333333333,
              "#9c179e"
             ],
             [
              0.4444444444444444,
              "#bd3786"
             ],
             [
              0.5555555555555556,
              "#d8576b"
             ],
             [
              0.6666666666666666,
              "#ed7953"
             ],
             [
              0.7777777777777778,
              "#fb9f3a"
             ],
             [
              0.8888888888888888,
              "#fdca26"
             ],
             [
              1,
              "#f0f921"
             ]
            ],
            "type": "heatmap"
           }
          ],
          "histogram": [
           {
            "marker": {
             "pattern": {
              "fillmode": "overlay",
              "size": 10,
              "solidity": 0.2
             }
            },
            "type": "histogram"
           }
          ],
          "histogram2d": [
           {
            "colorbar": {
             "outlinewidth": 0,
             "ticks": ""
            },
            "colorscale": [
             [
              0,
              "#0d0887"
             ],
             [
              0.1111111111111111,
              "#46039f"
             ],
             [
              0.2222222222222222,
              "#7201a8"
             ],
             [
              0.3333333333333333,
              "#9c179e"
             ],
             [
              0.4444444444444444,
              "#bd3786"
             ],
             [
              0.5555555555555556,
              "#d8576b"
             ],
             [
              0.6666666666666666,
              "#ed7953"
             ],
             [
              0.7777777777777778,
              "#fb9f3a"
             ],
             [
              0.8888888888888888,
              "#fdca26"
             ],
             [
              1,
              "#f0f921"
             ]
            ],
            "type": "histogram2d"
           }
          ],
          "histogram2dcontour": [
           {
            "colorbar": {
             "outlinewidth": 0,
             "ticks": ""
            },
            "colorscale": [
             [
              0,
              "#0d0887"
             ],
             [
              0.1111111111111111,
              "#46039f"
             ],
             [
              0.2222222222222222,
              "#7201a8"
             ],
             [
              0.3333333333333333,
              "#9c179e"
             ],
             [
              0.4444444444444444,
              "#bd3786"
             ],
             [
              0.5555555555555556,
              "#d8576b"
             ],
             [
              0.6666666666666666,
              "#ed7953"
             ],
             [
              0.7777777777777778,
              "#fb9f3a"
             ],
             [
              0.8888888888888888,
              "#fdca26"
             ],
             [
              1,
              "#f0f921"
             ]
            ],
            "type": "histogram2dcontour"
           }
          ],
          "mesh3d": [
           {
            "colorbar": {
             "outlinewidth": 0,
             "ticks": ""
            },
            "type": "mesh3d"
           }
          ],
          "parcoords": [
           {
            "line": {
             "colorbar": {
              "outlinewidth": 0,
              "ticks": ""
             }
            },
            "type": "parcoords"
           }
          ],
          "pie": [
           {
            "automargin": true,
            "type": "pie"
           }
          ],
          "scatter": [
           {
            "fillpattern": {
             "fillmode": "overlay",
             "size": 10,
             "solidity": 0.2
            },
            "type": "scatter"
           }
          ],
          "scatter3d": [
           {
            "line": {
             "colorbar": {
              "outlinewidth": 0,
              "ticks": ""
             }
            },
            "marker": {
             "colorbar": {
              "outlinewidth": 0,
              "ticks": ""
             }
            },
            "type": "scatter3d"
           }
          ],
          "scattercarpet": [
           {
            "marker": {
             "colorbar": {
              "outlinewidth": 0,
              "ticks": ""
             }
            },
            "type": "scattercarpet"
           }
          ],
          "scattergeo": [
           {
            "marker": {
             "colorbar": {
              "outlinewidth": 0,
              "ticks": ""
             }
            },
            "type": "scattergeo"
           }
          ],
          "scattergl": [
           {
            "marker": {
             "colorbar": {
              "outlinewidth": 0,
              "ticks": ""
             }
            },
            "type": "scattergl"
           }
          ],
          "scattermap": [
           {
            "marker": {
             "colorbar": {
              "outlinewidth": 0,
              "ticks": ""
             }
            },
            "type": "scattermap"
           }
          ],
          "scattermapbox": [
           {
            "marker": {
             "colorbar": {
              "outlinewidth": 0,
              "ticks": ""
             }
            },
            "type": "scattermapbox"
           }
          ],
          "scatterpolar": [
           {
            "marker": {
             "colorbar": {
              "outlinewidth": 0,
              "ticks": ""
             }
            },
            "type": "scatterpolar"
           }
          ],
          "scatterpolargl": [
           {
            "marker": {
             "colorbar": {
              "outlinewidth": 0,
              "ticks": ""
             }
            },
            "type": "scatterpolargl"
           }
          ],
          "scatterternary": [
           {
            "marker": {
             "colorbar": {
              "outlinewidth": 0,
              "ticks": ""
             }
            },
            "type": "scatterternary"
           }
          ],
          "surface": [
           {
            "colorbar": {
             "outlinewidth": 0,
             "ticks": ""
            },
            "colorscale": [
             [
              0,
              "#0d0887"
             ],
             [
              0.1111111111111111,
              "#46039f"
             ],
             [
              0.2222222222222222,
              "#7201a8"
             ],
             [
              0.3333333333333333,
              "#9c179e"
             ],
             [
              0.4444444444444444,
              "#bd3786"
             ],
             [
              0.5555555555555556,
              "#d8576b"
             ],
             [
              0.6666666666666666,
              "#ed7953"
             ],
             [
              0.7777777777777778,
              "#fb9f3a"
             ],
             [
              0.8888888888888888,
              "#fdca26"
             ],
             [
              1,
              "#f0f921"
             ]
            ],
            "type": "surface"
           }
          ],
          "table": [
           {
            "cells": {
             "fill": {
              "color": "#EBF0F8"
             },
             "line": {
              "color": "white"
             }
            },
            "header": {
             "fill": {
              "color": "#C8D4E3"
             },
             "line": {
              "color": "white"
             }
            },
            "type": "table"
           }
          ]
         },
         "layout": {
          "annotationdefaults": {
           "arrowcolor": "#2a3f5f",
           "arrowhead": 0,
           "arrowwidth": 1
          },
          "autotypenumbers": "strict",
          "coloraxis": {
           "colorbar": {
            "outlinewidth": 0,
            "ticks": ""
           }
          },
          "colorscale": {
           "diverging": [
            [
             0,
             "#8e0152"
            ],
            [
             0.1,
             "#c51b7d"
            ],
            [
             0.2,
             "#de77ae"
            ],
            [
             0.3,
             "#f1b6da"
            ],
            [
             0.4,
             "#fde0ef"
            ],
            [
             0.5,
             "#f7f7f7"
            ],
            [
             0.6,
             "#e6f5d0"
            ],
            [
             0.7,
             "#b8e186"
            ],
            [
             0.8,
             "#7fbc41"
            ],
            [
             0.9,
             "#4d9221"
            ],
            [
             1,
             "#276419"
            ]
           ],
           "sequential": [
            [
             0,
             "#0d0887"
            ],
            [
             0.1111111111111111,
             "#46039f"
            ],
            [
             0.2222222222222222,
             "#7201a8"
            ],
            [
             0.3333333333333333,
             "#9c179e"
            ],
            [
             0.4444444444444444,
             "#bd3786"
            ],
            [
             0.5555555555555556,
             "#d8576b"
            ],
            [
             0.6666666666666666,
             "#ed7953"
            ],
            [
             0.7777777777777778,
             "#fb9f3a"
            ],
            [
             0.8888888888888888,
             "#fdca26"
            ],
            [
             1,
             "#f0f921"
            ]
           ],
           "sequentialminus": [
            [
             0,
             "#0d0887"
            ],
            [
             0.1111111111111111,
             "#46039f"
            ],
            [
             0.2222222222222222,
             "#7201a8"
            ],
            [
             0.3333333333333333,
             "#9c179e"
            ],
            [
             0.4444444444444444,
             "#bd3786"
            ],
            [
             0.5555555555555556,
             "#d8576b"
            ],
            [
             0.6666666666666666,
             "#ed7953"
            ],
            [
             0.7777777777777778,
             "#fb9f3a"
            ],
            [
             0.8888888888888888,
             "#fdca26"
            ],
            [
             1,
             "#f0f921"
            ]
           ]
          },
          "colorway": [
           "#636efa",
           "#EF553B",
           "#00cc96",
           "#ab63fa",
           "#FFA15A",
           "#19d3f3",
           "#FF6692",
           "#B6E880",
           "#FF97FF",
           "#FECB52"
          ],
          "font": {
           "color": "#2a3f5f"
          },
          "geo": {
           "bgcolor": "white",
           "lakecolor": "white",
           "landcolor": "#E5ECF6",
           "showlakes": true,
           "showland": true,
           "subunitcolor": "white"
          },
          "hoverlabel": {
           "align": "left"
          },
          "hovermode": "closest",
          "mapbox": {
           "style": "light"
          },
          "paper_bgcolor": "white",
          "plot_bgcolor": "#E5ECF6",
          "polar": {
           "angularaxis": {
            "gridcolor": "white",
            "linecolor": "white",
            "ticks": ""
           },
           "bgcolor": "#E5ECF6",
           "radialaxis": {
            "gridcolor": "white",
            "linecolor": "white",
            "ticks": ""
           }
          },
          "scene": {
           "xaxis": {
            "backgroundcolor": "#E5ECF6",
            "gridcolor": "white",
            "gridwidth": 2,
            "linecolor": "white",
            "showbackground": true,
            "ticks": "",
            "zerolinecolor": "white"
           },
           "yaxis": {
            "backgroundcolor": "#E5ECF6",
            "gridcolor": "white",
            "gridwidth": 2,
            "linecolor": "white",
            "showbackground": true,
            "ticks": "",
            "zerolinecolor": "white"
           },
           "zaxis": {
            "backgroundcolor": "#E5ECF6",
            "gridcolor": "white",
            "gridwidth": 2,
            "linecolor": "white",
            "showbackground": true,
            "ticks": "",
            "zerolinecolor": "white"
           }
          },
          "shapedefaults": {
           "line": {
            "color": "#2a3f5f"
           }
          },
          "ternary": {
           "aaxis": {
            "gridcolor": "white",
            "linecolor": "white",
            "ticks": ""
           },
           "baxis": {
            "gridcolor": "white",
            "linecolor": "white",
            "ticks": ""
           },
           "bgcolor": "#E5ECF6",
           "caxis": {
            "gridcolor": "white",
            "linecolor": "white",
            "ticks": ""
           }
          },
          "title": {
           "x": 0.05
          },
          "xaxis": {
           "automargin": true,
           "gridcolor": "white",
           "linecolor": "white",
           "ticks": "",
           "title": {
            "standoff": 15
           },
           "zerolinecolor": "white",
           "zerolinewidth": 2
          },
          "yaxis": {
           "automargin": true,
           "gridcolor": "white",
           "linecolor": "white",
           "ticks": "",
           "title": {
            "standoff": 15
           },
           "zerolinecolor": "white",
           "zerolinewidth": 2
          }
         }
        },
        "title": {
         "text": "Total de Pernoctaciones por País (Agrupado) a lo Largo del Tiempo (Año > 2022)"
        },
        "xaxis": {
         "anchor": "y",
         "domain": [
          0,
          1
         ],
         "title": {
          "text": "Fecha"
         }
        },
        "yaxis": {
         "anchor": "x",
         "domain": [
          0,
          1
         ],
         "title": {
          "text": "Total de Pernoctaciones"
         }
        }
       }
      }
     },
     "metadata": {},
     "output_type": "display_data"
    },
    {
     "data": {
      "text/plain": [
       "'\\n# Create the line plot\\nfig = px.line(\\n    pernoctaciones,\\n    x=\"Fecha\",                  # X-axis: Time (Año and mes combined)\\n    y=\"Total\",                  # Y-axis: Total pernoctaciones\\n    color=\"Países\",             # Different lines for each \\'Países\\'\\n    line_group=\"Países\",        # Ensures lines are drawn correctly for each group\\n    hover_name=\"Países\",        # Display \\'Países\\' on hover\\n    hover_data={                # Additional data to show on hover\\n        \"RESIDENCIA/ORIGEN\": True,\\n        \"Total\": True,\\n        \"Año\": True,\\n        \"mes\": True,\\n        \"Fecha\": False          # Hide the combined \\'Fecha\\' from hover\\n    },\\n    title=\"Total de Pernoctaciones por País a lo Largo del Tiempo\", # Plot title\\n    color_discrete_sequence=green_colors, # Apply the custom green colors\\n    labels={                    # Axis labels\\n        \"Fecha\": \"Fecha\",\\n        \"Total\": \"Total de Pernoctaciones\",\\n        \"Países\": \"Países\"\\n    }\\n)\\n\\n# Customize the plot layout for better readability\\nfig.update_layout(\\n    xaxis_title=\"Fecha\",\\n    yaxis_title=\"Total de Pernoctaciones\",\\n    legend_title=\"Países\",\\n    hovermode=\"x unified\" # Unify hover information across all lines at a given x-value\\n)\\n\\n# Show the plot\\nfig.show()\\n'"
      ]
     },
     "execution_count": 12,
     "metadata": {},
     "output_type": "execute_result"
    }
   ],
   "source": [
    "# Ensure 'Total' is numeric\n",
    "pernoctaciones[\"Total\"] = pd.to_numeric(pernoctaciones[\"Total\"], errors='coerce')\n",
    "\n",
    "# Filter for years greater than 2022\n",
    "pernoctaciones= pernoctaciones[pernoctaciones[\"Año\"]>2022]\n",
    "\n",
    "\n",
    "\n",
    "# Identify countries that never reach 2,000,000 pernoctaciones in any month\n",
    "# First, find the maximum 'Total' for each 'Países'\n",
    "max_pernoctaciones_per_pais = pernoctaciones.groupby(\"Países\")[\"Total\"].max()\n",
    "\n",
    "# Get the list of countries where max pernoctaciones is less than 2,000,000\n",
    "countries_to_group = max_pernoctaciones_per_pais[max_pernoctaciones_per_pais < 1000].index.tolist()\n",
    "\n",
    "# Replace the 'Países' name for these identified countries with \"conjunto\"\n",
    "pernoctaciones[\"Países_Agrupado\"] = pernoctaciones[\"Países\"].apply(\n",
    "    lambda x: \"conjunto\" if x in countries_to_group else x\n",
    ")\n",
    "\n",
    "\n",
    "\n",
    "# Combine 'Año' and 'mes' into a single date-like column for better time series plotting\n",
    "# Assuming 'mes' is a month number (1-12)\n",
    "pernoctaciones[\"Fecha\"] = pd.to_datetime(pernoctaciones[\"Año\"].astype(str) + \"-\" + pernoctaciones[\"mes\"].astype(str) + \"-01\")\n",
    "\n",
    "\n",
    "# Aggregate the data by 'Fecha' and the new 'Países_Agrupado' column\n",
    "# This is crucial to sum the 'Total' for the \"conjunto\" group\n",
    "pernoctaciones_grouped = pernoctaciones.groupby([\"Fecha\", \"Países_Agrupado\"])[\"Total\"].sum().reset_index()\n",
    "\n",
    "# Sort by date for correct line plot order\n",
    "pernoctaciones_grouped = pernoctaciones_grouped.sort_values(by=\"Fecha\")\n",
    "\n",
    "\n",
    "\n",
    "\n",
    "'''\n",
    "# Sort by date for correct line plot order\n",
    "pernoctaciones = pernoctaciones.sort_values(by=\"Fecha\")\n",
    "'''\n",
    "# Define the custom green color palette\n",
    "green_colors = [\n",
    "    \"#004d00\",  # dark green\n",
    "    \"#237a23\",\n",
    "    \"#4ca64c\",\n",
    "    \"#80c080\",\n",
    "    \"#b3d9b3\",\n",
    "    \"#99cc99\",\n",
    "    \"#66b366\",\n",
    "    \"#339933\",\n",
    "    \"#1a801a\"\n",
    "]\n",
    "\n",
    "\n",
    "# Create the line plot using the grouped DataFrame\n",
    "fig = px.line(\n",
    "    pernoctaciones_grouped,\n",
    "    x=\"Fecha\",                  # X-axis: Time (Año and mes combined)\n",
    "    y=\"Total\",                  # Y-axis: Total pernoctaciones\n",
    "    color=\"Países_Agrupado\",    # Different lines for each 'Países_Agrupado'\n",
    "    line_group=\"Países_Agrupado\", # Ensures lines are drawn correctly for each group\n",
    "    hover_name=\"Países_Agrupado\", # Display 'Países_Agrupado' on hover\n",
    "    hover_data={                # Additional data to show on hover\n",
    "        \"Total\": True,\n",
    "        \"Fecha\": False          # Hide the combined 'Fecha' from hover\n",
    "    },\n",
    "    title=\"Total de Pernoctaciones por País (Agrupado) a lo Largo del Tiempo (Año > 2022)\", # Plot title\n",
    "    color_discrete_sequence=green_colors, # Apply the custom green colors\n",
    "    labels={                    # Axis labels\n",
    "        \"Fecha\": \"Fecha\",\n",
    "        \"Total\": \"Total de Pernoctaciones\",\n",
    "        \"Países_Agrupado\": \"Países/Conjunto\"\n",
    "    }\n",
    ")\n",
    "\n",
    "# Customize the plot layout for better readability\n",
    "fig.update_layout(\n",
    "    xaxis_title=\"Fecha\",\n",
    "    yaxis_title=\"Total de Pernoctaciones\",\n",
    "    legend_title=\"Países/Conjunto\",\n",
    "    hovermode=\"x unified\" # Unify hover information across all lines at a given x-value\n",
    ")\n",
    "\n",
    "# Show the plot\n",
    "fig.show()\n",
    "\n",
    "'''# Export the plot to an HTML file\n",
    "fig.write_html(\"pernoctaciones_grafico.html\")\n",
    "print(\"El gráfico se ha exportado a 'pernoctaciones_grafico.html'\")\n",
    "'''\n",
    "\n",
    "\n",
    "'''\n",
    "# Create the line plot\n",
    "fig = px.line(\n",
    "    pernoctaciones,\n",
    "    x=\"Fecha\",                  # X-axis: Time (Año and mes combined)\n",
    "    y=\"Total\",                  # Y-axis: Total pernoctaciones\n",
    "    color=\"Países\",             # Different lines for each 'Países'\n",
    "    line_group=\"Países\",        # Ensures lines are drawn correctly for each group\n",
    "    hover_name=\"Países\",        # Display 'Países' on hover\n",
    "    hover_data={                # Additional data to show on hover\n",
    "        \"RESIDENCIA/ORIGEN\": True,\n",
    "        \"Total\": True,\n",
    "        \"Año\": True,\n",
    "        \"mes\": True,\n",
    "        \"Fecha\": False          # Hide the combined 'Fecha' from hover\n",
    "    },\n",
    "    title=\"Total de Pernoctaciones por País a lo Largo del Tiempo\", # Plot title\n",
    "    color_discrete_sequence=green_colors, # Apply the custom green colors\n",
    "    labels={                    # Axis labels\n",
    "        \"Fecha\": \"Fecha\",\n",
    "        \"Total\": \"Total de Pernoctaciones\",\n",
    "        \"Países\": \"Países\"\n",
    "    }\n",
    ")\n",
    "\n",
    "# Customize the plot layout for better readability\n",
    "fig.update_layout(\n",
    "    xaxis_title=\"Fecha\",\n",
    "    yaxis_title=\"Total de Pernoctaciones\",\n",
    "    legend_title=\"Países\",\n",
    "    hovermode=\"x unified\" # Unify hover information across all lines at a given x-value\n",
    ")\n",
    "\n",
    "# Show the plot\n",
    "fig.show()\n",
    "'''"
   ]
  }
 ],
 "metadata": {
  "kernelspec": {
   "display_name": "Python 3",
   "language": "python",
   "name": "python3"
  },
  "language_info": {
   "codemirror_mode": {
    "name": "ipython",
    "version": 3
   },
   "file_extension": ".py",
   "mimetype": "text/x-python",
   "name": "python",
   "nbconvert_exporter": "python",
   "pygments_lexer": "ipython3",
   "version": "3.12.6"
  }
 },
 "nbformat": 4,
 "nbformat_minor": 5
}
