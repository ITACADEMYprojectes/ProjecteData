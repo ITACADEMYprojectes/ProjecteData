{
 "cells": [
  {
   "cell_type": "markdown",
   "metadata": {},
   "source": [
    "### DESCARGA Y EXPLORACIÓN INICIAL DEL DATASET"
   ]
  },
  {
   "cell_type": "code",
   "execution_count": 4,
   "metadata": {},
   "outputs": [],
   "source": [
    "import pandas as pd\n",
    "import numpy as np\n",
    "import matplotlib.pyplot as plt\n",
    "import seaborn as sns\n"
   ]
  },
  {
   "cell_type": "code",
   "execution_count": null,
   "metadata": {},
   "outputs": [
    {
     "name": "stdout",
     "output_type": "stream",
     "text": [
      "<mysql.connector.connection.MySQLConnection object at 0x000002514BC3DD00>\n"
     ]
    },
    {
     "name": "stderr",
     "output_type": "stream",
     "text": [
      "C:\\Users\\sguti\\AppData\\Local\\Temp\\ipykernel_23936\\1846061012.py:11: UserWarning: pandas only supports SQLAlchemy connectable (engine/connection) or database string URI or sqlite3 DBAPI2 connection. Other DBAPI2 objects are not tested. Please consider using SQLAlchemy.\n",
      "  Tourist_Accommodation = pd.read_sql(\"SELECT * FROM Tourist_Accommodation\", conexion)\n"
     ]
    }
   ],
   "source": [
    "\n",
    "import mysql.connector\n",
    "\n",
    "conexion = mysql.connector.connect (user='EquipoE', password ='E1q2u3i4p5oE',\n",
    "                                    host='212.227.90.6',\n",
    "                                    database='Equip_E',\n",
    "                                    port='3306')\n",
    "print(conexion)\n",
    "\n",
    "#Traemos la base de datos\n",
    "Tourist_Accommodation = pd.read_sql(\"SELECT * FROM Tourist_Accommodation\", conexion)"
   ]
  },
  {
   "cell_type": "code",
   "execution_count": 7,
   "metadata": {},
   "outputs": [
    {
     "name": "stdout",
     "output_type": "stream",
     "text": [
      "<class 'pandas.core.frame.DataFrame'>\n",
      "RangeIndex: 10000 entries, 0 to 9999\n",
      "Data columns (total 35 columns):\n",
      " #   Column                       Non-Null Count  Dtype  \n",
      "---  ------                       --------------  -----  \n",
      " 0   apartment_id                 10000 non-null  int64  \n",
      " 1   name                         9997 non-null   object \n",
      " 2   description                  9862 non-null   object \n",
      " 3   host_id                      10000 non-null  int64  \n",
      " 4   neighbourhood_name           10000 non-null  object \n",
      " 5   neighbourhood_district       6079 non-null   object \n",
      " 6   room_type                    10000 non-null  object \n",
      " 7   accommodates                 10000 non-null  int64  \n",
      " 8   bathrooms                    9926 non-null   object \n",
      " 9   bedrooms                     9930 non-null   object \n",
      " 10  beds                         9955 non-null   float64\n",
      " 11  amenities_list               9983 non-null   object \n",
      " 12  price                        9746 non-null   float64\n",
      " 13  minimum_nights               10000 non-null  int64  \n",
      " 14  maximum_nights               10000 non-null  int64  \n",
      " 15  has_availability             9450 non-null   object \n",
      " 16  availability_30              10000 non-null  int64  \n",
      " 17  availability_60              10000 non-null  int64  \n",
      " 18  availability_90              10000 non-null  int64  \n",
      " 19  availability_365             10000 non-null  int64  \n",
      " 20  number_of_reviews            10000 non-null  int64  \n",
      " 21  first_review_date            7396 non-null   object \n",
      " 22  last_review_date             7395 non-null   object \n",
      " 23  review_scores_rating         7291 non-null   float64\n",
      " 24  review_scores_accuracy       7282 non-null   float64\n",
      " 25  review_scores_cleanliness    7288 non-null   float64\n",
      " 26  review_scores_checkin        7277 non-null   float64\n",
      " 27  review_scores_communication  7286 non-null   float64\n",
      " 28  review_scores_location       7276 non-null   float64\n",
      " 29  review_scores_value          7276 non-null   float64\n",
      " 30  is_instant_bookable          10000 non-null  object \n",
      " 31  reviews_per_month            7396 non-null   float64\n",
      " 32  country                      10000 non-null  object \n",
      " 33  city                         10000 non-null  object \n",
      " 34  insert_date                  10000 non-null  object \n",
      "dtypes: float64(10), int64(10), object(15)\n",
      "memory usage: 2.7+ MB\n",
      "None\n"
     ]
    },
    {
     "data": {
      "text/html": [
       "<div>\n",
       "<style scoped>\n",
       "    .dataframe tbody tr th:only-of-type {\n",
       "        vertical-align: middle;\n",
       "    }\n",
       "\n",
       "    .dataframe tbody tr th {\n",
       "        vertical-align: top;\n",
       "    }\n",
       "\n",
       "    .dataframe thead th {\n",
       "        text-align: right;\n",
       "    }\n",
       "</style>\n",
       "<table border=\"1\" class=\"dataframe\">\n",
       "  <thead>\n",
       "    <tr style=\"text-align: right;\">\n",
       "      <th></th>\n",
       "      <th>apartment_id</th>\n",
       "      <th>name</th>\n",
       "      <th>description</th>\n",
       "      <th>host_id</th>\n",
       "      <th>neighbourhood_name</th>\n",
       "      <th>neighbourhood_district</th>\n",
       "      <th>room_type</th>\n",
       "      <th>accommodates</th>\n",
       "      <th>bathrooms</th>\n",
       "      <th>bedrooms</th>\n",
       "      <th>...</th>\n",
       "      <th>review_scores_cleanliness</th>\n",
       "      <th>review_scores_checkin</th>\n",
       "      <th>review_scores_communication</th>\n",
       "      <th>review_scores_location</th>\n",
       "      <th>review_scores_value</th>\n",
       "      <th>is_instant_bookable</th>\n",
       "      <th>reviews_per_month</th>\n",
       "      <th>country</th>\n",
       "      <th>city</th>\n",
       "      <th>insert_date</th>\n",
       "    </tr>\n",
       "  </thead>\n",
       "  <tbody>\n",
       "    <tr>\n",
       "      <th>0</th>\n",
       "      <td>11964</td>\n",
       "      <td>A ROOM WITH A VIEW</td>\n",
       "      <td>Private bedroom in our attic apartment. Right ...</td>\n",
       "      <td>45553</td>\n",
       "      <td>Centro</td>\n",
       "      <td>None</td>\n",
       "      <td>Private room</td>\n",
       "      <td>2</td>\n",
       "      <td>2</td>\n",
       "      <td>1</td>\n",
       "      <td>...</td>\n",
       "      <td>100.0</td>\n",
       "      <td>100.0</td>\n",
       "      <td>100.0</td>\n",
       "      <td>100.0</td>\n",
       "      <td>100.0</td>\n",
       "      <td>FALSO</td>\n",
       "      <td>75.0</td>\n",
       "      <td>spain</td>\n",
       "      <td>malaga</td>\n",
       "      <td>31/07/2018</td>\n",
       "    </tr>\n",
       "    <tr>\n",
       "      <th>1</th>\n",
       "      <td>21853</td>\n",
       "      <td>Bright and airy room</td>\n",
       "      <td>We have a quiet and sunny room with a good vie...</td>\n",
       "      <td>83531</td>\n",
       "      <td>C�rmenes</td>\n",
       "      <td>Latina</td>\n",
       "      <td>Private room</td>\n",
       "      <td>1</td>\n",
       "      <td>1</td>\n",
       "      <td>1</td>\n",
       "      <td>...</td>\n",
       "      <td>90.0</td>\n",
       "      <td>100.0</td>\n",
       "      <td>100.0</td>\n",
       "      <td>80.0</td>\n",
       "      <td>90.0</td>\n",
       "      <td>FALSO</td>\n",
       "      <td>52.0</td>\n",
       "      <td>spain</td>\n",
       "      <td>madrid</td>\n",
       "      <td>10/01/2020</td>\n",
       "    </tr>\n",
       "    <tr>\n",
       "      <th>2</th>\n",
       "      <td>32347</td>\n",
       "      <td>Explore Cultural Sights from a Family-Friendly...</td>\n",
       "      <td>Open French doors and step onto a plant-filled...</td>\n",
       "      <td>139939</td>\n",
       "      <td>San Vicente</td>\n",
       "      <td>Casco Antiguo</td>\n",
       "      <td>Entire home/apt</td>\n",
       "      <td>4</td>\n",
       "      <td>1</td>\n",
       "      <td>2</td>\n",
       "      <td>...</td>\n",
       "      <td>100.0</td>\n",
       "      <td>100.0</td>\n",
       "      <td>100.0</td>\n",
       "      <td>100.0</td>\n",
       "      <td>100.0</td>\n",
       "      <td>VERDADERO</td>\n",
       "      <td>142.0</td>\n",
       "      <td>spain</td>\n",
       "      <td>sevilla</td>\n",
       "      <td>29/07/2019</td>\n",
       "    </tr>\n",
       "    <tr>\n",
       "      <th>3</th>\n",
       "      <td>35379</td>\n",
       "      <td>Double 02 CasanovaRooms Barcelona</td>\n",
       "      <td>Room at a my apartment. Kitchen and 2 bathroom...</td>\n",
       "      <td>152232</td>\n",
       "      <td>l'Antiga Esquerra de l'Eixample</td>\n",
       "      <td>Eixample</td>\n",
       "      <td>Private room</td>\n",
       "      <td>2</td>\n",
       "      <td>2</td>\n",
       "      <td>1</td>\n",
       "      <td>...</td>\n",
       "      <td>90.0</td>\n",
       "      <td>100.0</td>\n",
       "      <td>100.0</td>\n",
       "      <td>100.0</td>\n",
       "      <td>90.0</td>\n",
       "      <td>VERDADERO</td>\n",
       "      <td>306.0</td>\n",
       "      <td>spain</td>\n",
       "      <td>barcelona</td>\n",
       "      <td>10/01/2020</td>\n",
       "    </tr>\n",
       "    <tr>\n",
       "      <th>4</th>\n",
       "      <td>35801</td>\n",
       "      <td>Can Torras Farmhouse Studio Suite</td>\n",
       "      <td>Lay in bed &amp; watch sunlight change the mood of...</td>\n",
       "      <td>153805</td>\n",
       "      <td>Quart</td>\n",
       "      <td>None</td>\n",
       "      <td>Private room</td>\n",
       "      <td>5</td>\n",
       "      <td>1</td>\n",
       "      <td>2</td>\n",
       "      <td>...</td>\n",
       "      <td>100.0</td>\n",
       "      <td>100.0</td>\n",
       "      <td>100.0</td>\n",
       "      <td>100.0</td>\n",
       "      <td>100.0</td>\n",
       "      <td>FALSO</td>\n",
       "      <td>39.0</td>\n",
       "      <td>spain</td>\n",
       "      <td>girona</td>\n",
       "      <td>19/02/2019</td>\n",
       "    </tr>\n",
       "    <tr>\n",
       "      <th>5</th>\n",
       "      <td>48764</td>\n",
       "      <td>18th C Stone House near Costa Brava</td>\n",
       "      <td>Casa Fluvia is a charming stone village house ...</td>\n",
       "      <td>220145</td>\n",
       "      <td>Torroella de Fluvi�</td>\n",
       "      <td>None</td>\n",
       "      <td>Entire home/apt</td>\n",
       "      <td>8</td>\n",
       "      <td>2</td>\n",
       "      <td>4</td>\n",
       "      <td>...</td>\n",
       "      <td>100.0</td>\n",
       "      <td>100.0</td>\n",
       "      <td>100.0</td>\n",
       "      <td>90.0</td>\n",
       "      <td>100.0</td>\n",
       "      <td>FALSO</td>\n",
       "      <td>27.0</td>\n",
       "      <td>spain</td>\n",
       "      <td>girona</td>\n",
       "      <td>19/02/2019</td>\n",
       "    </tr>\n",
       "    <tr>\n",
       "      <th>6</th>\n",
       "      <td>58512</td>\n",
       "      <td>Stylish &amp; cozy 3BR near Sagrada Familia</td>\n",
       "      <td>Welcome to my home!&lt;br /&gt;&lt;br /&gt;My lovely 3 bed...</td>\n",
       "      <td>280070</td>\n",
       "      <td>el Camp de l'Arpa del Clot</td>\n",
       "      <td>Sant Mart�</td>\n",
       "      <td>Entire home/apt</td>\n",
       "      <td>6</td>\n",
       "      <td>2</td>\n",
       "      <td>3</td>\n",
       "      <td>...</td>\n",
       "      <td>90.0</td>\n",
       "      <td>90.0</td>\n",
       "      <td>90.0</td>\n",
       "      <td>90.0</td>\n",
       "      <td>90.0</td>\n",
       "      <td>VERDADERO</td>\n",
       "      <td>329.0</td>\n",
       "      <td>spain</td>\n",
       "      <td>barcelona</td>\n",
       "      <td>12/10/2020</td>\n",
       "    </tr>\n",
       "    <tr>\n",
       "      <th>7</th>\n",
       "      <td>71603</td>\n",
       "      <td>PENTHOUSE1 BEST PRICE 15/21.07 PROMO LAST MINUTE!</td>\n",
       "      <td>The apartment you are about to book has everyt...</td>\n",
       "      <td>366654</td>\n",
       "      <td>la Dreta de l'Eixample</td>\n",
       "      <td>Eixample</td>\n",
       "      <td>Entire home/apt</td>\n",
       "      <td>3</td>\n",
       "      <td>2</td>\n",
       "      <td>1</td>\n",
       "      <td>...</td>\n",
       "      <td>100.0</td>\n",
       "      <td>100.0</td>\n",
       "      <td>90.0</td>\n",
       "      <td>100.0</td>\n",
       "      <td>90.0</td>\n",
       "      <td>FALSO</td>\n",
       "      <td>42.0</td>\n",
       "      <td>spain</td>\n",
       "      <td>barcelona</td>\n",
       "      <td>06/07/2017</td>\n",
       "    </tr>\n",
       "    <tr>\n",
       "      <th>8</th>\n",
       "      <td>72150</td>\n",
       "      <td>Sunny attic duplex flat with terrace next to Sol</td>\n",
       "      <td>The apartment is a quiet, secluded idyll in th...</td>\n",
       "      <td>364585</td>\n",
       "      <td>Embajadores</td>\n",
       "      <td>Centro</td>\n",
       "      <td>Entire home/apt</td>\n",
       "      <td>5</td>\n",
       "      <td>2</td>\n",
       "      <td>3</td>\n",
       "      <td>...</td>\n",
       "      <td>90.0</td>\n",
       "      <td>100.0</td>\n",
       "      <td>100.0</td>\n",
       "      <td>100.0</td>\n",
       "      <td>90.0</td>\n",
       "      <td>FALSO</td>\n",
       "      <td>91.0</td>\n",
       "      <td>spain</td>\n",
       "      <td>madrid</td>\n",
       "      <td>06/11/2020</td>\n",
       "    </tr>\n",
       "    <tr>\n",
       "      <th>9</th>\n",
       "      <td>73683</td>\n",
       "      <td>Sagrada Familia area for 12 people</td>\n",
       "      <td>An ideal location for a big group, two apartme...</td>\n",
       "      <td>135703</td>\n",
       "      <td>el Camp d'en Grassot i Gr�cia Nova</td>\n",
       "      <td>Gr�cia</td>\n",
       "      <td>Entire home/apt</td>\n",
       "      <td>12</td>\n",
       "      <td>2</td>\n",
       "      <td>4</td>\n",
       "      <td>...</td>\n",
       "      <td>90.0</td>\n",
       "      <td>100.0</td>\n",
       "      <td>100.0</td>\n",
       "      <td>90.0</td>\n",
       "      <td>90.0</td>\n",
       "      <td>VERDADERO</td>\n",
       "      <td>14.0</td>\n",
       "      <td>spain</td>\n",
       "      <td>barcelona</td>\n",
       "      <td>09/06/2018</td>\n",
       "    </tr>\n",
       "  </tbody>\n",
       "</table>\n",
       "<p>10 rows × 35 columns</p>\n",
       "</div>"
      ],
      "text/plain": [
       "   apartment_id                                               name  \\\n",
       "0         11964                                 A ROOM WITH A VIEW   \n",
       "1         21853                               Bright and airy room   \n",
       "2         32347  Explore Cultural Sights from a Family-Friendly...   \n",
       "3         35379                  Double 02 CasanovaRooms Barcelona   \n",
       "4         35801                  Can Torras Farmhouse Studio Suite   \n",
       "5         48764                18th C Stone House near Costa Brava   \n",
       "6         58512            Stylish & cozy 3BR near Sagrada Familia   \n",
       "7         71603  PENTHOUSE1 BEST PRICE 15/21.07 PROMO LAST MINUTE!   \n",
       "8         72150   Sunny attic duplex flat with terrace next to Sol   \n",
       "9         73683                 Sagrada Familia area for 12 people   \n",
       "\n",
       "                                         description  host_id  \\\n",
       "0  Private bedroom in our attic apartment. Right ...    45553   \n",
       "1  We have a quiet and sunny room with a good vie...    83531   \n",
       "2  Open French doors and step onto a plant-filled...   139939   \n",
       "3  Room at a my apartment. Kitchen and 2 bathroom...   152232   \n",
       "4  Lay in bed & watch sunlight change the mood of...   153805   \n",
       "5  Casa Fluvia is a charming stone village house ...   220145   \n",
       "6  Welcome to my home!<br /><br />My lovely 3 bed...   280070   \n",
       "7  The apartment you are about to book has everyt...   366654   \n",
       "8  The apartment is a quiet, secluded idyll in th...   364585   \n",
       "9  An ideal location for a big group, two apartme...   135703   \n",
       "\n",
       "                   neighbourhood_name neighbourhood_district        room_type  \\\n",
       "0                              Centro                   None     Private room   \n",
       "1                            C�rmenes                 Latina     Private room   \n",
       "2                         San Vicente          Casco Antiguo  Entire home/apt   \n",
       "3     l'Antiga Esquerra de l'Eixample               Eixample     Private room   \n",
       "4                               Quart                   None     Private room   \n",
       "5                 Torroella de Fluvi�                   None  Entire home/apt   \n",
       "6          el Camp de l'Arpa del Clot             Sant Mart�  Entire home/apt   \n",
       "7              la Dreta de l'Eixample               Eixample  Entire home/apt   \n",
       "8                         Embajadores                 Centro  Entire home/apt   \n",
       "9  el Camp d'en Grassot i Gr�cia Nova                 Gr�cia  Entire home/apt   \n",
       "\n",
       "   accommodates bathrooms bedrooms  ...  review_scores_cleanliness  \\\n",
       "0             2         2        1  ...                      100.0   \n",
       "1             1         1        1  ...                       90.0   \n",
       "2             4         1        2  ...                      100.0   \n",
       "3             2         2        1  ...                       90.0   \n",
       "4             5         1        2  ...                      100.0   \n",
       "5             8         2        4  ...                      100.0   \n",
       "6             6         2        3  ...                       90.0   \n",
       "7             3         2        1  ...                      100.0   \n",
       "8             5         2        3  ...                       90.0   \n",
       "9            12         2        4  ...                       90.0   \n",
       "\n",
       "  review_scores_checkin  review_scores_communication  review_scores_location  \\\n",
       "0                 100.0                        100.0                   100.0   \n",
       "1                 100.0                        100.0                    80.0   \n",
       "2                 100.0                        100.0                   100.0   \n",
       "3                 100.0                        100.0                   100.0   \n",
       "4                 100.0                        100.0                   100.0   \n",
       "5                 100.0                        100.0                    90.0   \n",
       "6                  90.0                         90.0                    90.0   \n",
       "7                 100.0                         90.0                   100.0   \n",
       "8                 100.0                        100.0                   100.0   \n",
       "9                 100.0                        100.0                    90.0   \n",
       "\n",
       "   review_scores_value is_instant_bookable  reviews_per_month  country  \\\n",
       "0                100.0               FALSO               75.0    spain   \n",
       "1                 90.0               FALSO               52.0    spain   \n",
       "2                100.0           VERDADERO              142.0    spain   \n",
       "3                 90.0           VERDADERO              306.0    spain   \n",
       "4                100.0               FALSO               39.0    spain   \n",
       "5                100.0               FALSO               27.0    spain   \n",
       "6                 90.0           VERDADERO              329.0    spain   \n",
       "7                 90.0               FALSO               42.0    spain   \n",
       "8                 90.0               FALSO               91.0    spain   \n",
       "9                 90.0           VERDADERO               14.0    spain   \n",
       "\n",
       "        city  insert_date  \n",
       "0     malaga   31/07/2018  \n",
       "1     madrid   10/01/2020  \n",
       "2    sevilla   29/07/2019  \n",
       "3  barcelona   10/01/2020  \n",
       "4     girona   19/02/2019  \n",
       "5     girona   19/02/2019  \n",
       "6  barcelona   12/10/2020  \n",
       "7  barcelona   06/07/2017  \n",
       "8     madrid   06/11/2020  \n",
       "9  barcelona   09/06/2018  \n",
       "\n",
       "[10 rows x 35 columns]"
      ]
     },
     "execution_count": 7,
     "metadata": {},
     "output_type": "execute_result"
    }
   ],
   "source": [
    "print(Tourist_Accommodation.info())\n",
    "Tourist_Accommodation.head(10)"
   ]
  },
  {
   "cell_type": "code",
   "execution_count": 8,
   "metadata": {},
   "outputs": [
    {
     "data": {
      "text/plain": [
       "(10000, 35)"
      ]
     },
     "execution_count": 8,
     "metadata": {},
     "output_type": "execute_result"
    }
   ],
   "source": [
    "Tourist_Accommodation.shape"
   ]
  },
  {
   "cell_type": "code",
   "execution_count": 9,
   "metadata": {},
   "outputs": [
    {
     "data": {
      "text/plain": [
       "['apartment_id',\n",
       " 'name',\n",
       " 'description',\n",
       " 'host_id',\n",
       " 'neighbourhood_name',\n",
       " 'neighbourhood_district',\n",
       " 'room_type',\n",
       " 'accommodates',\n",
       " 'bathrooms',\n",
       " 'bedrooms',\n",
       " 'beds',\n",
       " 'amenities_list',\n",
       " 'price',\n",
       " 'minimum_nights',\n",
       " 'maximum_nights',\n",
       " 'has_availability',\n",
       " 'availability_30',\n",
       " 'availability_60',\n",
       " 'availability_90',\n",
       " 'availability_365',\n",
       " 'number_of_reviews',\n",
       " 'first_review_date',\n",
       " 'last_review_date',\n",
       " 'review_scores_rating',\n",
       " 'review_scores_accuracy',\n",
       " 'review_scores_cleanliness',\n",
       " 'review_scores_checkin',\n",
       " 'review_scores_communication',\n",
       " 'review_scores_location',\n",
       " 'review_scores_value',\n",
       " 'is_instant_bookable',\n",
       " 'reviews_per_month',\n",
       " 'country',\n",
       " 'city',\n",
       " 'insert_date']"
      ]
     },
     "execution_count": 9,
     "metadata": {},
     "output_type": "execute_result"
    }
   ],
   "source": [
    "Tourist_Accommodation.columns.tolist()"
   ]
  },
  {
   "cell_type": "markdown",
   "metadata": {},
   "source": [
    "# EXPLORACIÓN DE DUPLICADOS:"
   ]
  },
  {
   "cell_type": "code",
   "execution_count": 10,
   "metadata": {},
   "outputs": [
    {
     "name": "stdout",
     "output_type": "stream",
     "text": [
      "El número de apartment_id duplicados es: 350\n"
     ]
    }
   ],
   "source": [
    "# Verificar los apartment_id duplicados\n",
    "duplicados = Tourist_Accommodation['apartment_id'].duplicated().sum()\n",
    "\n",
    "print(f\"El número de apartment_id duplicados es: {duplicados}\")\n"
   ]
  },
  {
   "cell_type": "code",
   "execution_count": 11,
   "metadata": {},
   "outputs": [
    {
     "name": "stdout",
     "output_type": "stream",
     "text": [
      "      apartment_id                                               name  \\\n",
      "22          144471        BEST ZONEPL.CATALU�A ROOM X 2BATHROOM +WIFI   \n",
      "23          144471        BEST ZONEPL.CATALU�A ROOM X 2BATHROOM +WIFI   \n",
      "24          157327                     House in Llofriu (Costa Brava)   \n",
      "25          157327                     House in Llofriu (Costa Brava)   \n",
      "50          343864                    3 BD APT IN THE HEART OF GRACIA   \n",
      "...            ...                                                ...   \n",
      "9759      42922000  Hostal Bruselas Hab. #7 con ba�o privado y balc�n   \n",
      "9788      43193627                                       Recoletos IX   \n",
      "9789      43193627                                       Recoletos IX   \n",
      "9852      43897607                          Finca rural Els Ametllers   \n",
      "9853      43897607                          Finca rural Els Ametllers   \n",
      "\n",
      "                                            description    host_id  \\\n",
      "22    HELLO PEOPLE :=)  are you on vacation? or busi...     700165   \n",
      "23    HELLO PEOPLE :=)  are you on vacation? or busi...     700165   \n",
      "24    New rebuilt and furnished house pool bbq If yo...     755634   \n",
      "25    New rebuilt and furnished house pool bbq If yo...     755634   \n",
      "50    A spacious and comfortable 3 bedrooms apartmen...    1744516   \n",
      "...                                                 ...        ...   \n",
      "9759  Hostal Bruselas se encuentra en el Centro de M...  335917627   \n",
      "9788  Consta de dos dormitorios, dos ba�os, un aseo ...  247570318   \n",
      "9789  Consta de dos dormitorios, dos ba�os, un aseo ...  247570318   \n",
      "9852  Hermosa Villa rural en Finca de almendros y ol...  351241882   \n",
      "9853  Hermosa Villa rural en Finca de almendros y ol...  351241882   \n",
      "\n",
      "     neighbourhood_name neighbourhood_district        room_type  accommodates  \\\n",
      "22          Sant Antoni               Eixample     Private room             2   \n",
      "23          Sant Antoni               Eixample     Private room             2   \n",
      "24             Forallac                   None  Entire home/apt             8   \n",
      "25             Forallac                   None  Entire home/apt             8   \n",
      "50    la Vila de Gr�cia                 Gr�cia  Entire home/apt             6   \n",
      "...                 ...                    ...              ...           ...   \n",
      "9759             Centro                   None     Private room             2   \n",
      "9788          Recoletos              Salamanca  Entire home/apt             4   \n",
      "9789          Recoletos              Salamanca  Entire home/apt             4   \n",
      "9852               Inca                   None  Entire home/apt             8   \n",
      "9853               Inca                   None  Entire home/apt             8   \n",
      "\n",
      "     bathrooms bedrooms  ...  review_scores_cleanliness review_scores_checkin  \\\n",
      "22           1        1  ...                       90.0                  90.0   \n",
      "23           1        1  ...                       90.0                  90.0   \n",
      "24           5        4  ...                      100.0                 100.0   \n",
      "25           5        4  ...                      100.0                 100.0   \n",
      "50           2        3  ...                      100.0                 100.0   \n",
      "...        ...      ...  ...                        ...                   ...   \n",
      "9759         1        1  ...                        NaN                   NaN   \n",
      "9788         3        2  ...                        NaN                   NaN   \n",
      "9789         3        2  ...                        NaN                   NaN   \n",
      "9852         2        3  ...                        NaN                   NaN   \n",
      "9853         2        3  ...                        NaN                   NaN   \n",
      "\n",
      "      review_scores_communication  review_scores_location  \\\n",
      "22                           90.0                    90.0   \n",
      "23                           90.0                    90.0   \n",
      "24                          100.0                    80.0   \n",
      "25                          100.0                    80.0   \n",
      "50                           90.0                   100.0   \n",
      "...                           ...                     ...   \n",
      "9759                          NaN                     NaN   \n",
      "9788                          NaN                     NaN   \n",
      "9789                          NaN                     NaN   \n",
      "9852                          NaN                     NaN   \n",
      "9853                          NaN                     NaN   \n",
      "\n",
      "      review_scores_value is_instant_bookable  reviews_per_month  country  \\\n",
      "22                   80.0               FALSO               42.0    spain   \n",
      "23                   80.0               FALSO               38.0    spain   \n",
      "24                   80.0               FALSO                2.0    spain   \n",
      "25                   80.0               FALSO                3.0    spain   \n",
      "50                   90.0               FALSO               11.0    spain   \n",
      "...                   ...                 ...                ...      ...   \n",
      "9759                  NaN           VERDADERO                NaN    spain   \n",
      "9788                  NaN               FALSO                NaN    spain   \n",
      "9789                  NaN               FALSO                NaN    spain   \n",
      "9852                  NaN           VERDADERO                NaN    spain   \n",
      "9853                  NaN           VERDADERO                NaN    spain   \n",
      "\n",
      "           city  insert_date  \n",
      "22    barcelona   12/09/2017  \n",
      "23    barcelona   10/10/2018  \n",
      "24       girona   30/04/2020  \n",
      "25       girona   30/08/2018  \n",
      "50    barcelona   05/06/2017  \n",
      "...         ...          ...  \n",
      "9759     malaga   30/11/2020  \n",
      "9788     madrid   17/04/2020  \n",
      "9789     madrid   06/11/2020  \n",
      "9852   mallorca   19/09/2020  \n",
      "9853   mallorca   21/10/2020  \n",
      "\n",
      "[692 rows x 35 columns]\n"
     ]
    }
   ],
   "source": [
    "# Filtrar las filas con apartment_id duplicados\n",
    "duplicados_filas = Tourist_Accommodation[Tourist_Accommodation['apartment_id'].duplicated(keep=False)]\n",
    "\n",
    "# Mostrar las filas duplicadas\n",
    "print(duplicados_filas)\n"
   ]
  },
  {
   "cell_type": "markdown",
   "metadata": {},
   "source": [
    "### ANÁLISIS DE LOS DUPLICADOS ENCONTRADOS EN EL ID DE LOS APARTAMENTOS:"
   ]
  },
  {
   "cell_type": "markdown",
   "metadata": {},
   "source": [
    "TRAS REVISAR INFORMACIÓN EN EXCEL, HEMOS DETECTADO QUE MUCHAS PROPIEDADES ESTÁN DUPLICADAS, REPITIENDO EL MISMO ID PERO CON DIFERENTES FECHAS DE CREACIÓN. ESTO SUCEDE PORQUE ALGUNOS PROPIETARIOS GENERAN NUEVOS ANUNCIOS PARA LA MISMA PROPIEDAD, YA SEA PARA INTENTAR EVITAR RESEÑAS NEGATIVAS O PARA INTENTAR EVADIR DEUDAS PENDIENTES, TAMBIÉN PUEDE TRATARSE DE UN ERROR AL SUBIR LA PROPIEDAD DE NUEVO POR FALTA DE COMUNICIACIÓN ENTRE EL EQUIPO ADMINISTRADOR DE LA PROPIEDAD. PARA MANTENER LA COHERENCIA EN EL ANÁLISIS, HEMOS DECIDIDO CONSERVAR ÚNICAMENTE LA VERSIÓN ORIGINAL, ES DECIR, LA QUE FUE CREADA PRIMERO, Y ANULAR LAS POSTERIORES. "
   ]
  },
  {
   "cell_type": "code",
   "execution_count": 12,
   "metadata": {},
   "outputs": [],
   "source": [
    "# Exportar las filas duplicadas a un archivo Excel\n",
    "duplicados_filas.to_excel('duplicados_apartment_id.xlsx', index=False)"
   ]
  },
  {
   "cell_type": "markdown",
   "metadata": {},
   "source": [
    "## EXPLORACIÓN Y ANÁLISIS DE NULOS DE NÚMERO DE HABITACIONES, BAÑOS Y CAMAS:"
   ]
  },
  {
   "cell_type": "code",
   "execution_count": 16,
   "metadata": {},
   "outputs": [
    {
     "name": "stdout",
     "output_type": "stream",
     "text": [
      "['Private room' 'Entire home/apt' 'Hotel room' 'Shared room']\n"
     ]
    }
   ],
   "source": [
    "#Miramos cuantos tipos de habitaciones hay:\n",
    "print(Tourist_Accommodation['room_type'].unique())\n"
   ]
  },
  {
   "cell_type": "code",
   "execution_count": 17,
   "metadata": {},
   "outputs": [
    {
     "name": "stdout",
     "output_type": "stream",
     "text": [
      "room_type\n",
      "Entire home/apt    6930\n",
      "Private room       2913\n",
      "Hotel room           83\n",
      "Shared room          74\n",
      "Name: count, dtype: int64\n"
     ]
    }
   ],
   "source": [
    "#Que valores se repiten más:\n",
    "print(Tourist_Accommodation['room_type'].value_counts())\n"
   ]
  },
  {
   "cell_type": "code",
   "execution_count": 18,
   "metadata": {},
   "outputs": [
    {
     "name": "stdout",
     "output_type": "stream",
     "text": [
      "['1' '2' '4' '3' '5' '0' '6' '8' None '9' '14' '7' '10' '12' '16' '50']\n"
     ]
    }
   ],
   "source": [
    "print(Tourist_Accommodation['bedrooms'].unique())"
   ]
  },
  {
   "cell_type": "code",
   "execution_count": 19,
   "metadata": {},
   "outputs": [
    {
     "name": "stdout",
     "output_type": "stream",
     "text": [
      "bedrooms\n",
      "1     4577\n",
      "2     2287\n",
      "3     1611\n",
      "4      767\n",
      "0      313\n",
      "5      234\n",
      "6       93\n",
      "7       17\n",
      "8       16\n",
      "9        4\n",
      "12       4\n",
      "10       3\n",
      "14       2\n",
      "16       1\n",
      "50       1\n",
      "Name: count, dtype: int64\n"
     ]
    }
   ],
   "source": [
    "print(Tourist_Accommodation['bedrooms'].value_counts())"
   ]
  },
  {
   "cell_type": "code",
   "execution_count": 20,
   "metadata": {},
   "outputs": [
    {
     "name": "stdout",
     "output_type": "stream",
     "text": [
      "          room_type bedrooms  count\n",
      "0   Entire home/apt        2   2135\n",
      "1   Entire home/apt        1   1786\n",
      "2   Entire home/apt        3   1573\n",
      "3   Entire home/apt        4    757\n",
      "4   Entire home/apt        0    262\n",
      "5   Entire home/apt        5    228\n",
      "6   Entire home/apt        6     91\n",
      "7   Entire home/apt      NaN     53\n",
      "8   Entire home/apt        7     17\n",
      "9   Entire home/apt        8     14\n",
      "10  Entire home/apt        9      4\n",
      "11  Entire home/apt       10      3\n",
      "12  Entire home/apt       12      3\n",
      "13  Entire home/apt       14      2\n",
      "14  Entire home/apt       16      1\n",
      "15  Entire home/apt       50      1\n",
      "16       Hotel room        1     66\n",
      "17       Hotel room        2     12\n",
      "18       Hotel room        3      3\n",
      "19       Hotel room        0      1\n",
      "20       Hotel room        5      1\n",
      "21     Private room        1   2651\n",
      "22     Private room        2    140\n",
      "23     Private room        0     50\n",
      "24     Private room        3     35\n",
      "25     Private room      NaN     17\n",
      "26     Private room        4     10\n",
      "27     Private room        5      5\n",
      "28     Private room        6      2\n",
      "29     Private room        8      2\n",
      "30     Private room       12      1\n",
      "31      Shared room        1     74\n"
     ]
    }
   ],
   "source": [
    "#Relación entre tipo de habitación y número de habitaciones:\n",
    "result = Tourist_Accommodation.groupby('room_type')['bedrooms'].value_counts(dropna=False).reset_index(name='count')\n",
    "print(result)\n"
   ]
  },
  {
   "cell_type": "markdown",
   "metadata": {},
   "source": [
    "### ANÁLISIS:"
   ]
  },
  {
   "attachments": {
    "image.png": {
     "image/png": "[encoded data removed]"
    }
   },
   "cell_type": "markdown",
   "metadata": {},
   "source": [
    "SOLAMENTE TIENEN NULOS LA \"PRIVATE ROOM\" Y LA \"ENTIRE HOME/APT\", PARA MI SE DA POR SUPUESTO QUE ES 1. INCLUSO PODRÍAMOS SUBSTITUIS LOS VALORES 0 POR 1, DADO QUE YA SE SUPONE QUE HAY UNA HABITACIÓN \n",
    "\n",
    "\n",
    "\n",
    "![image.png](attachment:image.png)"
   ]
  },
  {
   "cell_type": "code",
   "execution_count": 21,
   "metadata": {},
   "outputs": [
    {
     "name": "stdout",
     "output_type": "stream",
     "text": [
      "          room_type bathrooms  count\n",
      "0   Entire home/apt         1   3718\n",
      "1   Entire home/apt         2   2121\n",
      "2   Entire home/apt         3    617\n",
      "3   Entire home/apt         4    257\n",
      "4   Entire home/apt         5     96\n",
      "5   Entire home/apt         6     43\n",
      "6   Entire home/apt       NaN     33\n",
      "7   Entire home/apt         7     16\n",
      "8   Entire home/apt         0      9\n",
      "9   Entire home/apt         8      9\n",
      "10  Entire home/apt         9      5\n",
      "11  Entire home/apt        12      3\n",
      "12  Entire home/apt        11      2\n",
      "13  Entire home/apt        10      1\n",
      "14       Hotel room         1     68\n",
      "15       Hotel room         2     10\n",
      "16       Hotel room         3      2\n",
      "17       Hotel room         5      2\n",
      "18       Hotel room       NaN      1\n",
      "19     Private room         1   2138\n",
      "20     Private room         2    636\n",
      "21     Private room         3     58\n",
      "22     Private room       NaN     40\n",
      "23     Private room         0     12\n",
      "24     Private room         4     12\n",
      "25     Private room         5      9\n",
      "26     Private room         8      4\n",
      "27     Private room         7      2\n",
      "28     Private room        13      1\n",
      "29     Private room         6      1\n",
      "30      Shared room         1     47\n",
      "31      Shared room         2     20\n",
      "32      Shared room         4      4\n",
      "33      Shared room         5      1\n",
      "34      Shared room         6      1\n",
      "35      Shared room         7      1\n"
     ]
    }
   ],
   "source": [
    "#Relación entre tipo de habitación y número de baños:\n",
    "result = Tourist_Accommodation.groupby('room_type')['bathrooms'].value_counts(dropna=False).reset_index(name='count')\n",
    "print(result)"
   ]
  },
  {
   "cell_type": "markdown",
   "metadata": {},
   "source": [
    "### ANÁLSIS:"
   ]
  },
  {
   "cell_type": "markdown",
   "metadata": {},
   "source": [
    "EN ESTE CASO, NO HAY NINGÚN NULO EN \"SHARED ROOM\", ALGO QUE PODRÍA SER NORMAL PORQUE NORMALMENTE EN ESTE TIPO DE HABITACIÓN EL BAÑO SUELE ESTAR FUERA. EN \"ENTIRE HOME/APARTMENT\" HAY 33 NULOS. NO PUEDE ALQUILARSE UN APARTAMENTO SIN BAÑO, POR LO TANTO AHÍ LOS NULOS LOS PODEMOS SUBSTITUIR POR 1. EN \"HOTEL RROM\" SOLO HAY UN NULO, QUE PODEMOS PONER 1 TAMBIÉN Y POR ÚLTIMO NOS QUEDA EL \"PRIVATE ROOM\" QUE HAY 40, AHÍ SI QUE ES ALGO MÁS COMPLICADO PORQUE PUEDEN SER HOSTELS Y PUEDE HABER MÁS DE UNO. YO IGUALMENTE PONDRÍA 1 TAMBIÉN PORQUE ES LO QUE TIENE LA MAYORÍA (AL USUARIO LO ÚNICO QUE LE IMPORTA EN ESE CASO ES SI ESTÁ FUERA O DENTRO DE LA HABITACIÓN, NO LA CANTIDAD DE BAÑOS)"
   ]
  },
  {
   "cell_type": "code",
   "execution_count": 13,
   "metadata": {},
   "outputs": [
    {
     "name": "stdout",
     "output_type": "stream",
     "text": [
      "          room_type  beds  count\n",
      "0   Entire home/apt   3.0   1466\n",
      "1   Entire home/apt   2.0   1408\n",
      "2   Entire home/apt   4.0   1113\n",
      "3   Entire home/apt   1.0    979\n",
      "4   Entire home/apt   5.0    788\n",
      "5   Entire home/apt   6.0    496\n",
      "6   Entire home/apt   7.0    225\n",
      "7   Entire home/apt   8.0    170\n",
      "8   Entire home/apt   9.0     72\n",
      "9   Entire home/apt   0.0     70\n",
      "10  Entire home/apt  10.0     60\n",
      "11  Entire home/apt  12.0     27\n",
      "12  Entire home/apt  16.0     12\n",
      "13  Entire home/apt  11.0      9\n",
      "14  Entire home/apt  14.0      7\n",
      "15  Entire home/apt   NaN      6\n",
      "16  Entire home/apt  13.0      5\n",
      "17  Entire home/apt  15.0      5\n",
      "18  Entire home/apt  18.0      3\n",
      "19  Entire home/apt  22.0      3\n",
      "20  Entire home/apt  20.0      2\n",
      "21  Entire home/apt  17.0      1\n",
      "22  Entire home/apt  21.0      1\n",
      "23  Entire home/apt  28.0      1\n",
      "24  Entire home/apt  30.0      1\n",
      "25       Hotel room   1.0     36\n",
      "26       Hotel room   2.0     22\n",
      "27       Hotel room   3.0     10\n",
      "28       Hotel room   4.0      7\n",
      "29       Hotel room   5.0      3\n",
      "30       Hotel room   0.0      2\n",
      "31       Hotel room   6.0      2\n",
      "32       Hotel room   NaN      1\n",
      "33     Private room   1.0   2152\n",
      "34     Private room   2.0    485\n",
      "35     Private room   3.0    106\n",
      "36     Private room   0.0     53\n",
      "37     Private room   4.0     48\n",
      "38     Private room   NaN     37\n",
      "39     Private room   6.0     13\n",
      "40     Private room   5.0      8\n",
      "41     Private room   7.0      4\n",
      "42     Private room  10.0      2\n",
      "43     Private room  14.0      2\n",
      "44     Private room  16.0      2\n",
      "45     Private room  28.0      1\n",
      "46      Shared room   1.0     33\n",
      "47      Shared room   2.0     11\n",
      "48      Shared room   3.0      9\n",
      "49      Shared room   4.0      6\n",
      "50      Shared room   6.0      4\n",
      "51      Shared room   8.0      4\n",
      "52      Shared room  10.0      3\n",
      "53      Shared room   0.0      2\n",
      "54      Shared room   7.0      1\n",
      "55      Shared room   NaN      1\n"
     ]
    }
   ],
   "source": [
    "#Relación entre tipo de habitación y número de camas:\n",
    "result = Tourist_Accommodation.groupby('room_type')['beds'].value_counts(dropna=False).reset_index(name='count')\n",
    "print(result)"
   ]
  },
  {
   "cell_type": "markdown",
   "metadata": {},
   "source": [
    "### ANÁLISIS:"
   ]
  },
  {
   "cell_type": "markdown",
   "metadata": {},
   "source": [
    "SUSTITUIREMOS POR DEFECTO LOS NULOS POR 1, ENTENDEMOS QUE HAY UNA CAMA EN ESTOS DOS TIPOS DE HABITACIÓN, PERO QUE POR ERROR NO LA PUSIERON."
   ]
  },
  {
   "cell_type": "markdown",
   "metadata": {},
   "source": [
    "## EXPLORACIÓN Y ANÁLISIS DE LOS NULOS DE LOS PRECIOS:"
   ]
  },
  {
   "cell_type": "code",
   "execution_count": 14,
   "metadata": {},
   "outputs": [
    {
     "name": "stdout",
     "output_type": "stream",
     "text": [
      "         room_type  null_count\n",
      "0  Entire home/apt          53\n",
      "1       Hotel room           0\n",
      "2     Private room          17\n",
      "3      Shared room           0\n"
     ]
    }
   ],
   "source": [
    "#Cuantos nulos hay por cada tipo de habitación:\n",
    "\n",
    "null_counts = Tourist_Accommodation.groupby('room_type')['bedrooms'].apply(lambda x: x.isna().sum()).reset_index(name='null_count')\n",
    "print(null_counts)\n"
   ]
  },
  {
   "cell_type": "markdown",
   "metadata": {},
   "source": [
    "VEMOS QUE NO HAY MUCHOS, ASÍ QUE SUSTITUIRÍAMOS LOS NULOS POR LA MEDIA DE ESTE TIPO DE HABITACIÓN.  \n"
   ]
  },
  {
   "cell_type": "code",
   "execution_count": 16,
   "metadata": {},
   "outputs": [
    {
     "name": "stdout",
     "output_type": "stream",
     "text": [
      "         room_type        price\n",
      "0  Entire home/apt  1250.480666\n",
      "1       Hotel room  1046.527778\n",
      "2     Private room   498.626606\n",
      "3      Shared room   494.507042\n"
     ]
    }
   ],
   "source": [
    "#Averiguamos la media por cada tipo de habitación:\n",
    "\n",
    "price_avg = Tourist_Accommodation.groupby('room_type')['price'].mean().reset_index()\n",
    "print(price_avg)\n"
   ]
  },
  {
   "cell_type": "markdown",
   "metadata": {},
   "source": [
    "# CONCLUSIONES:"
   ]
  },
  {
   "cell_type": "markdown",
   "metadata": {},
   "source": [
    "1. PRIMERO ANULAMOS LOS DUPLICADOS SIGUIENDO LOS CRITERIOS DESCRITOS EN LA PRIMERA PARTE.\n",
    "2. SUBSTITUIMOS LOS NULOS CON LOS ID´S RESTANTES SIGUIENDO LOS CRITERIOS DESCRITOS"
   ]
  }
 ],
 "metadata": {
  "kernelspec": {
   "display_name": "Python 3",
   "language": "python",
   "name": "python3"
  },
  "language_info": {
   "codemirror_mode": {
    "name": "ipython",
    "version": 3
   },
   "file_extension": ".py",
   "mimetype": "text/x-python",
   "name": "python",
   "nbconvert_exporter": "python",
   "pygments_lexer": "ipython3",
   "version": "3.12.9"
  }
 },
 "nbformat": 4,
 "nbformat_minor": 2
}
