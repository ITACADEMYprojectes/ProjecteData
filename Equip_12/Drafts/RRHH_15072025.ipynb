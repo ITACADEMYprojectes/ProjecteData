{
 "cells": [
  {
   "cell_type": "markdown",
   "id": "0caa2c52",
   "metadata": {},
   "source": [
    "### IMPORTACION DATOS Y CREACION DATAFRAME"
   ]
  },
  {
   "cell_type": "code",
   "execution_count": 16,
   "id": "01805bb0",
   "metadata": {},
   "outputs": [],
   "source": [
    "# LIBRERIAS\n",
    "\n",
    "import pandas as pd\n",
    "import matplotlib.pyplot as plt\n",
    "import seaborn as sns\n"
   ]
  },
  {
   "cell_type": "code",
   "execution_count": 17,
   "id": "405f2c4e",
   "metadata": {},
   "outputs": [
    {
     "name": "stdout",
     "output_type": "stream",
     "text": [
      "<class 'pandas.core.frame.DataFrame'>\n",
      "RangeIndex: 1110 entries, 0 to 1109\n",
      "Data columns (total 21 columns):\n",
      " #   Column                   Non-Null Count  Dtype \n",
      "---  ------                   --------------  ----- \n",
      " 0   ID                       1110 non-null   int64 \n",
      " 1   Reason_absence           1110 non-null   int64 \n",
      " 2   Month_absence            1110 non-null   int64 \n",
      " 3   Day_week                 1110 non-null   int64 \n",
      " 4   Seasons                  1110 non-null   int64 \n",
      " 5   Transportation_expense   1110 non-null   int64 \n",
      " 6   Distance_Residence_Work  1110 non-null   int64 \n",
      " 7   Service_time             1110 non-null   int64 \n",
      " 8   Age                      1110 non-null   int64 \n",
      " 9   Work_load_Average_day    1110 non-null   object\n",
      " 10  Hit_target               1110 non-null   int64 \n",
      " 11  Disciplinary_failure     1110 non-null   int64 \n",
      " 12  Education                1110 non-null   int64 \n",
      " 13  Son                      1110 non-null   int64 \n",
      " 14  Social_drinker           1110 non-null   int64 \n",
      " 15  Social_smoker            1110 non-null   int64 \n",
      " 16  Pet                      1110 non-null   int64 \n",
      " 17  Weight                   1110 non-null   int64 \n",
      " 18  Height                   1110 non-null   int64 \n",
      " 19  Body_mass_index          1110 non-null   int64 \n",
      " 20  Absenteeism_hours        1110 non-null   int64 \n",
      "dtypes: int64(20), object(1)\n",
      "memory usage: 182.2+ KB\n"
     ]
    }
   ],
   "source": [
    "# IMPORTACION CSV RRHH_15072025\n",
    "\n",
    "RRHH_15072025 = pd.read_csv(r\"C:\\Users\\MAITE\\Desktop\\JOSE\\GIT_RRHH\\ProjecteData\\Equip_12\\Drafts\\RRHH_15072025_original.csv\")\n",
    "\n",
    "RRHH_15072025.info()"
   ]
  },
  {
   "cell_type": "code",
   "execution_count": 18,
   "id": "c07cc354",
   "metadata": {},
   "outputs": [
    {
     "name": "stdout",
     "output_type": "stream",
     "text": [
      "<class 'pandas.core.frame.DataFrame'>\n",
      "RangeIndex: 1110 entries, 0 to 1109\n",
      "Data columns (total 21 columns):\n",
      " #   Column                   Non-Null Count  Dtype \n",
      "---  ------                   --------------  ----- \n",
      " 0   ID                       1110 non-null   int64 \n",
      " 1   Reason_absence           1110 non-null   int64 \n",
      " 2   Month_absence            1110 non-null   int64 \n",
      " 3   Day_week                 1110 non-null   int64 \n",
      " 4   Seasons                  1110 non-null   int64 \n",
      " 5   Transportation_expense   1110 non-null   int64 \n",
      " 6   Distance_Residence_Work  1110 non-null   int64 \n",
      " 7   Service_time             1110 non-null   int64 \n",
      " 8   Age                      1110 non-null   int64 \n",
      " 9   Work_load_Average_day    1110 non-null   object\n",
      " 10  Hit_target               1110 non-null   int64 \n",
      " 11  Disciplinary_failure     1110 non-null   int64 \n",
      " 12  Education                1110 non-null   int64 \n",
      " 13  Son                      1110 non-null   int64 \n",
      " 14  Social_drinker           1110 non-null   int64 \n",
      " 15  Social_smoker            1110 non-null   int64 \n",
      " 16  Pet                      1110 non-null   int64 \n",
      " 17  Weight                   1110 non-null   int64 \n",
      " 18  Height                   1110 non-null   int64 \n",
      " 19  Body_mass_index          1110 non-null   int64 \n",
      " 20  Absenteeism_hours        1110 non-null   int64 \n",
      "dtypes: int64(20), object(1)\n",
      "memory usage: 182.2+ KB\n"
     ]
    }
   ],
   "source": [
    "# CREACION DATAFRAME df_rrhh_15072025\n",
    "\n",
    "df_rrhh_15072025 = RRHH_15072025.copy()\n",
    "df_rrhh_15072025.info()"
   ]
  },
  {
   "cell_type": "markdown",
   "id": "df55a2a6",
   "metadata": {},
   "source": [
    "### DUPLICADOS"
   ]
  },
  {
   "cell_type": "code",
   "execution_count": 19,
   "id": "b36ef51d",
   "metadata": {},
   "outputs": [],
   "source": [
    "# ELIMINACION DE DUPLICADOS\n",
    "\n",
    "df_rrhh_15072025_v1 = df_rrhh_15072025.copy()\n",
    "\n",
    "df_rrhh_15072025 = df_rrhh_15072025_v1.drop_duplicates(inplace=False)\n"
   ]
  },
  {
   "cell_type": "markdown",
   "id": "53999969",
   "metadata": {},
   "source": [
    "### Nan"
   ]
  },
  {
   "cell_type": "code",
   "execution_count": 20,
   "id": "dca76ac5",
   "metadata": {},
   "outputs": [
    {
     "data": {
      "text/html": [
       "<div>\n",
       "<style scoped>\n",
       "    .dataframe tbody tr th:only-of-type {\n",
       "        vertical-align: middle;\n",
       "    }\n",
       "\n",
       "    .dataframe tbody tr th {\n",
       "        vertical-align: top;\n",
       "    }\n",
       "\n",
       "    .dataframe thead th {\n",
       "        text-align: right;\n",
       "    }\n",
       "</style>\n",
       "<table border=\"1\" class=\"dataframe\">\n",
       "  <thead>\n",
       "    <tr style=\"text-align: right;\">\n",
       "      <th></th>\n",
       "      <th>ID</th>\n",
       "      <th>Reason_absence</th>\n",
       "      <th>Month_absence</th>\n",
       "      <th>Day_week</th>\n",
       "      <th>Seasons</th>\n",
       "      <th>Transportation_expense</th>\n",
       "      <th>Distance_Residence_Work</th>\n",
       "      <th>Service_time</th>\n",
       "      <th>Age</th>\n",
       "      <th>Work_load_Average_day</th>\n",
       "      <th>...</th>\n",
       "      <th>Disciplinary_failure</th>\n",
       "      <th>Education</th>\n",
       "      <th>Son</th>\n",
       "      <th>Social_drinker</th>\n",
       "      <th>Social_smoker</th>\n",
       "      <th>Pet</th>\n",
       "      <th>Weight</th>\n",
       "      <th>Height</th>\n",
       "      <th>Body_mass_index</th>\n",
       "      <th>Absenteeism_hours</th>\n",
       "    </tr>\n",
       "  </thead>\n",
       "  <tbody>\n",
       "  </tbody>\n",
       "</table>\n",
       "<p>0 rows × 21 columns</p>\n",
       "</div>"
      ],
      "text/plain": [
       "Empty DataFrame\n",
       "Columns: [ID, Reason_absence, Month_absence, Day_week, Seasons, Transportation_expense, Distance_Residence_Work, Service_time, Age, Work_load_Average_day, Hit_target, Disciplinary_failure, Education, Son, Social_drinker, Social_smoker, Pet, Weight, Height, Body_mass_index, Absenteeism_hours]\n",
       "Index: []\n",
       "\n",
       "[0 rows x 21 columns]"
      ]
     },
     "execution_count": 20,
     "metadata": {},
     "output_type": "execute_result"
    }
   ],
   "source": [
    "# Comprobación de NAN\n",
    "\n",
    "df_rrhh_15072025[df_rrhh_15072025.isnull().any(axis=1)] "
   ]
  },
  {
   "cell_type": "markdown",
   "id": "5eeb01a6",
   "metadata": {},
   "source": [
    "### COMPROBACION ID DE EMPLEADO"
   ]
  },
  {
   "cell_type": "code",
   "execution_count": 21,
   "id": "1ddf8b78",
   "metadata": {},
   "outputs": [],
   "source": [
    "# Comprobacion de numero de IDs de empleados\n",
    "df_empleado_id = df_rrhh_15072025[['ID','Age','Education','Son','Pet','Weight','Height','Body_mass_index','Social_drinker','Social_smoker']].drop_duplicates()\n",
    "\n",
    "id_duplicados = df_empleado_id['ID'].value_counts().reset_index()\n",
    "id_duplicados = id_duplicados[id_duplicados['count']>1]\n",
    "\n",
    "empleado_id_29 = df_empleado_id[df_empleado_id['ID']==29]\n",
    "#empleado_id_29\n",
    "#id_duplicados"
   ]
  },
  {
   "cell_type": "code",
   "execution_count": 22,
   "id": "95a0e2fc",
   "metadata": {},
   "outputs": [],
   "source": [
    "# Modificacion del id 29 a id 137 donde Age = 28\n",
    "\n",
    "df_rrhh_15072025.loc[(df_rrhh_15072025['ID'] == 29) & (df_rrhh_15072025['Age'] == 28), 'ID'] = 387\n"
   ]
  },
  {
   "cell_type": "code",
   "execution_count": 28,
   "id": "e72ca694",
   "metadata": {},
   "outputs": [
    {
     "data": {
      "text/plain": [
       "387"
      ]
     },
     "execution_count": 28,
     "metadata": {},
     "output_type": "execute_result"
    }
   ],
   "source": [
    "# CALCULO DEL NUM DE IDs UNICOS / despues modificacion id \n",
    "num_ids_unicos_2 = df_rrhh_15072025['ID'].nunique()\n",
    "num_ids_unicos_2"
   ]
  },
  {
   "cell_type": "markdown",
   "id": "a44ba7c8",
   "metadata": {},
   "source": [
    "### MODIFICACION TIPO DE DATOS"
   ]
  },
  {
   "cell_type": "code",
   "execution_count": 24,
   "id": "a5927dff",
   "metadata": {},
   "outputs": [],
   "source": [
    "# MODIFICACION TIPO DE DATOS DATAFRAME df_rrhh_15072025\n",
    "\n",
    "df_rrhh_15072025 = df_rrhh_15072025.copy()\n",
    "columnas_a_convertir_1 = ['ID','Reason_absence','Month_absence','Day_week','Seasons','Disciplinary_failure','Education','Social_drinker','Social_smoker']\n",
    "df_rrhh_15072025[columnas_a_convertir_1] = df_rrhh_15072025[columnas_a_convertir_1].apply(lambda col: col.astype('category'))\n",
    "\n",
    "columnas_a_convertir_2 = ['Son','Pet']\n",
    "df_rrhh_15072025[columnas_a_convertir_2] = df_rrhh_15072025[columnas_a_convertir_2].apply(lambda col: col.astype('int64'))\n",
    "\n",
    "\n",
    "df_rrhh_15072025['Work_load_Average_day'] = pd.to_numeric(\n",
    "    df_rrhh_15072025['Work_load_Average_day'].apply(lambda x: str(x).replace(',', '.') if isinstance(x, str) else x),\n",
    "    errors='coerce').astype('float')\n",
    "\n",
    "#df_rrhh_15072025.info()"
   ]
  },
  {
   "cell_type": "code",
   "execution_count": 25,
   "id": "40c53c45",
   "metadata": {},
   "outputs": [
    {
     "name": "stdout",
     "output_type": "stream",
     "text": [
      "<class 'pandas.core.frame.DataFrame'>\n",
      "Index: 1056 entries, 0 to 1094\n",
      "Data columns (total 25 columns):\n",
      " #   Column                   Non-Null Count  Dtype   \n",
      "---  ------                   --------------  -----   \n",
      " 0   ID                       1056 non-null   category\n",
      " 1   Reason_absence           1056 non-null   category\n",
      " 2   Month_absence            1056 non-null   category\n",
      " 3   Day_week                 1056 non-null   category\n",
      " 4   Seasons                  1056 non-null   category\n",
      " 5   Transportation_expense   1056 non-null   int64   \n",
      " 6   Distance_Residence_Work  1056 non-null   int64   \n",
      " 7   Service_time             1056 non-null   int64   \n",
      " 8   Age                      1056 non-null   int64   \n",
      " 9   Work_load_Average_day    1056 non-null   float64 \n",
      " 10  Hit_target               1056 non-null   int64   \n",
      " 11  Disciplinary_failure     1056 non-null   category\n",
      " 12  Education                1056 non-null   category\n",
      " 13  Son                      1056 non-null   int64   \n",
      " 14  Social_drinker           1056 non-null   category\n",
      " 15  Social_smoker            1056 non-null   category\n",
      " 16  Pet                      1056 non-null   int64   \n",
      " 17  Weight                   1056 non-null   int64   \n",
      " 18  Height                   1056 non-null   int64   \n",
      " 19  Body_mass_index          1056 non-null   int64   \n",
      " 20  Absenteeism_hours        1056 non-null   int64   \n",
      " 21  Seasons_name             1056 non-null   category\n",
      " 22  Month_absence_name       1056 non-null   category\n",
      " 23  Day_week_name            1056 non-null   category\n",
      " 24  Education_name           1056 non-null   category\n",
      "dtypes: category(13), float64(1), int64(11)\n",
      "memory usage: 136.9 KB\n"
     ]
    }
   ],
   "source": [
    "# CREACION COLUMNAS NOMBRES DE CODIGOS TEMPORALES\n",
    "\n",
    "# creacion columnas nombre estaciones\n",
    "mapa = {1: 'summer', 2: 'autum', 3: 'winter',4:'spring'}\n",
    "df_rrhh_15072025['Seasons_name'] = df_rrhh_15072025['Seasons'].map(mapa)\n",
    "\n",
    "# creacion columnas nombre meses\n",
    "mapa2 = {0:'Unknown', 1:'January', 2:'February', 3:'March', 4:'April', 5:'May', 6:'June', 7:'July', 8:'August', 9:'September', 10:'October', 11:'November', 12:'December'}\n",
    "df_rrhh_15072025['Month_absence_name'] = df_rrhh_15072025['Month_absence'].map(mapa2)\n",
    "\n",
    "# creacion columnas nombre dias de semana\n",
    "mapa3 = {2: 'Monday', 3: 'Tuesday',4:'Wednesday',5: 'Thursday', 6: 'Friday'}\n",
    "df_rrhh_15072025['Day_week_name'] = df_rrhh_15072025['Day_week'].map(mapa3)\n",
    "\n",
    "# creacion columnas nombre educacion\n",
    "mapa4 = {1: 'Secundaria', 2: 'Graduado',3:'Postgraduado',4: 'Master_y_Doctor'}\n",
    "df_rrhh_15072025['Education_name'] = df_rrhh_15072025['Education'].map(mapa4)\n",
    "\n",
    "# cambio del tipo de datos\n",
    "columnas_a_convertir = ['Seasons_name','Month_absence_name','Day_week_name','Education_name']\n",
    "df_rrhh_15072025[columnas_a_convertir] = df_rrhh_15072025[columnas_a_convertir].astype('category')\n",
    "df_rrhh_15072025.info()\n"
   ]
  },
  {
   "cell_type": "code",
   "execution_count": 26,
   "id": "f21af70f",
   "metadata": {},
   "outputs": [],
   "source": [
    "# CREACION COLUMNAS rango edad - antiguedad \n",
    "\n",
    "bins = [0, 5, 10, 15, 20, 25, 30]\n",
    "labels = ['0-5', '6-10', '11-15', '16-20','21-25','26-30']\n",
    "df_rrhh_15072025['rango_antiguedad'] = pd.cut(df_rrhh_15072025['Service_time'],bins=bins,labels=labels)\n",
    "\n",
    "bins_2 = [20,30, 40, 50, 60]\n",
    "labels = ['20-30', '31-40', '41-50', '51-60']\n",
    "df_rrhh_15072025['rango_edad'] = pd.cut(df_rrhh_15072025['Age'],bins=bins_2,labels=labels)\n"
   ]
  },
  {
   "cell_type": "code",
   "execution_count": 27,
   "id": "41cfff96",
   "metadata": {},
   "outputs": [
    {
     "name": "stdout",
     "output_type": "stream",
     "text": [
      "<class 'pandas.core.frame.DataFrame'>\n",
      "Index: 1056 entries, 0 to 1094\n",
      "Data columns (total 27 columns):\n",
      " #   Column                   Non-Null Count  Dtype   \n",
      "---  ------                   --------------  -----   \n",
      " 0   ID                       1056 non-null   category\n",
      " 1   Reason_absence           1056 non-null   category\n",
      " 2   Month_absence            1056 non-null   category\n",
      " 3   Day_week                 1056 non-null   category\n",
      " 4   Seasons                  1056 non-null   category\n",
      " 5   Transportation_expense   1056 non-null   int64   \n",
      " 6   Distance_Residence_Work  1056 non-null   int64   \n",
      " 7   Service_time             1056 non-null   int64   \n",
      " 8   Age                      1056 non-null   int64   \n",
      " 9   Work_load_Average_day    1056 non-null   float64 \n",
      " 10  Hit_target               1056 non-null   int64   \n",
      " 11  Disciplinary_failure     1056 non-null   category\n",
      " 12  Education                1056 non-null   category\n",
      " 13  Son                      1056 non-null   int64   \n",
      " 14  Social_drinker           1056 non-null   category\n",
      " 15  Social_smoker            1056 non-null   category\n",
      " 16  Pet                      1056 non-null   int64   \n",
      " 17  Weight                   1056 non-null   int64   \n",
      " 18  Height                   1056 non-null   int64   \n",
      " 19  Body_mass_index          1056 non-null   int64   \n",
      " 20  Absenteeism_hours        1056 non-null   int64   \n",
      " 21  Seasons_name             1056 non-null   category\n",
      " 22  Month_absence_name       1056 non-null   category\n",
      " 23  Day_week_name            1056 non-null   category\n",
      " 24  Education_name           1056 non-null   category\n",
      " 25  rango_antiguedad         1056 non-null   category\n",
      " 26  rango_edad               1056 non-null   category\n",
      "dtypes: category(15), float64(1), int64(11)\n",
      "memory usage: 139.4 KB\n"
     ]
    }
   ],
   "source": [
    "# DATAFRAME df_rrhh_15072025 final\n",
    "\n",
    "df_rrhh_15072025.info()"
   ]
  }
 ],
 "metadata": {
  "kernelspec": {
   "display_name": "myenv2",
   "language": "python",
   "name": "python3"
  },
  "language_info": {
   "codemirror_mode": {
    "name": "ipython",
    "version": 3
   },
   "file_extension": ".py",
   "mimetype": "text/x-python",
   "name": "python",
   "nbconvert_exporter": "python",
   "pygments_lexer": "ipython3",
   "version": "3.13.5"
  }
 },
 "nbformat": 4,
 "nbformat_minor": 5
}
