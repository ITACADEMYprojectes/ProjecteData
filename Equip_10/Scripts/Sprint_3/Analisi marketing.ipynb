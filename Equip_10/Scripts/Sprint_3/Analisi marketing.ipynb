{
 "cells": [
  {
   "cell_type": "code",
   "execution_count": 5,
   "id": "cb0882a7",
   "metadata": {},
   "outputs": [],
   "source": [
    "# Importamos librerias\n",
    "\n",
    "import pandas as pd\n",
    "import matplotlib.pyplot as plt\n",
    "import seaborn as sns\n",
    "import plotly.express as px\n",
    "\n"
   ]
  },
  {
   "cell_type": "code",
   "execution_count": 6,
   "id": "a9a7ebc2",
   "metadata": {},
   "outputs": [],
   "source": [
    "# Carga del Dataframe\n",
    "#df = pd.read_csv(r\"C:\\Users\\Griselda\\ProjecteData\\Equip_10\\Scripts\\Sprint_3\\df_tourist_python.csv\", sep= ';')\n",
    "\n",
    "#df = pd.read_csv(r\"C:\\Users\\Griselda\\ProjecteData\\ProjecteData\\Equip_10\\Scripts\\Sprint_3\\df_tourist_python.csv\", sep= ';')\n",
    "\n",
    "df = pd.read_csv(\"df_tourist_python.csv\", sep= ';')\n"
   ]
  },
  {
   "cell_type": "markdown",
   "id": "8cd1efc1",
   "metadata": {},
   "source": [
    "Filtre de Numero de Reviews \n",
    "\n",
    "Minim 10"
   ]
  },
  {
   "cell_type": "code",
   "execution_count": 7,
   "id": "4b484e7d",
   "metadata": {},
   "outputs": [],
   "source": [
    "df_tru =df[df[\"number_of_reviews\"]>=10]"
   ]
  },
  {
   "cell_type": "markdown",
   "id": "0526a143",
   "metadata": {},
   "source": [
    "Filtre numero d'allotjaments per barri\n",
    "\n",
    "Minim 5"
   ]
  },
  {
   "cell_type": "code",
   "execution_count": 8,
   "id": "8cf431cb",
   "metadata": {
    "collapsed": true,
    "jupyter": {
     "outputs_hidden": true
    }
   },
   "outputs": [
    {
     "data": {
      "application/vnd.microsoft.datawrangler.viewer.v0+json": {
       "columns": [
        {
         "name": "index",
         "rawType": "int64",
         "type": "integer"
        },
        {
         "name": "city",
         "rawType": "object",
         "type": "string"
        },
        {
         "name": "neighbourhood_name",
         "rawType": "object",
         "type": "string"
        },
        {
         "name": "minimum_nights",
         "rawType": "int64",
         "type": "integer"
        },
        {
         "name": "maximum_nights",
         "rawType": "int64",
         "type": "integer"
        },
        {
         "name": "Recompte",
         "rawType": "int64",
         "type": "integer"
        }
       ],
       "ref": "850c7884-2f68-4814-a5d8-78400458a3f2",
       "rows": [
        [
         "0",
         "malaga",
         "Centro",
         "1",
         "1125",
         "41"
        ],
        [
         "1",
         "madrid",
         "Embajadores",
         "2",
         "1125",
         "37"
        ],
        [
         "2",
         "malaga",
         "Centro",
         "2",
         "1125",
         "36"
        ],
        [
         "3",
         "madrid",
         "Embajadores",
         "1",
         "1125",
         "28"
        ],
        [
         "4",
         "madrid",
         "Sol",
         "1",
         "1125",
         "26"
        ],
        [
         "5",
         "madrid",
         "Universidad",
         "1",
         "1125",
         "24"
        ],
        [
         "6",
         "madrid",
         "Universidad",
         "2",
         "1125",
         "24"
        ],
        [
         "7",
         "barcelona",
         "Sant Antoni",
         "2",
         "1125",
         "20"
        ],
        [
         "8",
         "barcelona",
         "el Barri G�tic",
         "2",
         "1125",
         "20"
        ],
        [
         "9",
         "madrid",
         "Justicia",
         "1",
         "1125",
         "20"
        ],
        [
         "10",
         "madrid",
         "Sol",
         "2",
         "1125",
         "19"
        ],
        [
         "11",
         "barcelona",
         "la Dreta de l'Eixample",
         "1",
         "1125",
         "19"
        ],
        [
         "12",
         "barcelona",
         "la Sagrada Fam�lia",
         "1",
         "1125",
         "18"
        ],
        [
         "13",
         "barcelona",
         "el Raval",
         "2",
         "1125",
         "18"
        ],
        [
         "14",
         "barcelona",
         "la Dreta de l'Eixample",
         "2",
         "1125",
         "18"
        ],
        [
         "15",
         "mallorca",
         "Palma de Mallorca",
         "3",
         "1125",
         "17"
        ],
        [
         "16",
         "mallorca",
         "Palma de Mallorca",
         "1",
         "1125",
         "17"
        ],
        [
         "17",
         "malaga",
         "Centro",
         "3",
         "1125",
         "16"
        ],
        [
         "18",
         "madrid",
         "Palacio",
         "2",
         "1125",
         "16"
        ],
        [
         "19",
         "madrid",
         "Justicia",
         "2",
         "1125",
         "16"
        ],
        [
         "20",
         "barcelona",
         "l'Antiga Esquerra de l'Eixample",
         "2",
         "1125",
         "16"
        ],
        [
         "21",
         "madrid",
         "Cortes",
         "2",
         "1125",
         "15"
        ],
        [
         "22",
         "barcelona",
         "la Dreta de l'Eixample",
         "3",
         "1125",
         "15"
        ],
        [
         "23",
         "barcelona",
         "la Nova Esquerra de l'Eixample",
         "2",
         "1125",
         "15"
        ],
        [
         "24",
         "barcelona",
         "el Raval",
         "3",
         "1125",
         "15"
        ],
        [
         "25",
         "barcelona",
         "l'Antiga Esquerra de l'Eixample",
         "3",
         "1125",
         "14"
        ],
        [
         "26",
         "barcelona",
         "Sant Pere, Santa Caterina i la Ribera",
         "2",
         "1125",
         "13"
        ],
        [
         "27",
         "mallorca",
         "Palma de Mallorca",
         "2",
         "1125",
         "13"
        ],
        [
         "28",
         "barcelona",
         "Sant Antoni",
         "1",
         "1125",
         "13"
        ],
        [
         "29",
         "madrid",
         "Palacio",
         "1",
         "1125",
         "12"
        ],
        [
         "30",
         "sevilla",
         "San Bartolom�",
         "2",
         "1125",
         "12"
        ],
        [
         "31",
         "madrid",
         "Embajadores",
         "3",
         "1125",
         "12"
        ],
        [
         "32",
         "barcelona",
         "Sant Pere, Santa Caterina i la Ribera",
         "1",
         "1125",
         "12"
        ],
        [
         "33",
         "barcelona",
         "la Sagrada Fam�lia",
         "2",
         "1125",
         "11"
        ],
        [
         "34",
         "sevilla",
         "Triana Casco Antiguo",
         "2",
         "1125",
         "11"
        ],
        [
         "35",
         "barcelona",
         "el Poble Sec",
         "3",
         "1125",
         "11"
        ],
        [
         "36",
         "madrid",
         "Universidad",
         "3",
         "1125",
         "10"
        ],
        [
         "37",
         "barcelona",
         "Sant Pere, Santa Caterina i la Ribera",
         "3",
         "1125",
         "10"
        ],
        [
         "38",
         "barcelona",
         "el Barri G�tic",
         "3",
         "1125",
         "10"
        ],
        [
         "39",
         "barcelona",
         "el Poble Sec",
         "2",
         "1125",
         "10"
        ],
        [
         "40",
         "barcelona",
         "el Raval",
         "1",
         "1125",
         "10"
        ],
        [
         "41",
         "sevilla",
         "Alfalfa",
         "2",
         "1125",
         "10"
        ],
        [
         "42",
         "barcelona",
         "el Barri G�tic",
         "1",
         "1125",
         "10"
        ],
        [
         "43",
         "valencia",
         "CABANYAL-CANYAMELAR",
         "2",
         "1125",
         "10"
        ],
        [
         "44",
         "barcelona",
         "l'Antiga Esquerra de l'Eixample",
         "1",
         "1125",
         "9"
        ],
        [
         "45",
         "madrid",
         "Palacio",
         "3",
         "1125",
         "9"
        ],
        [
         "46",
         "madrid",
         "Cortes",
         "1",
         "1125",
         "9"
        ],
        [
         "47",
         "girona",
         "Girona",
         "2",
         "1125",
         "9"
        ],
        [
         "48",
         "barcelona",
         "el Poble Sec",
         "1",
         "1125",
         "9"
        ],
        [
         "49",
         "barcelona",
         "la Nova Esquerra de l'Eixample",
         "3",
         "1125",
         "8"
        ]
       ],
       "shape": {
        "columns": 5,
        "rows": 73
       }
      },
      "text/html": [
       "<div>\n",
       "<style scoped>\n",
       "    .dataframe tbody tr th:only-of-type {\n",
       "        vertical-align: middle;\n",
       "    }\n",
       "\n",
       "    .dataframe tbody tr th {\n",
       "        vertical-align: top;\n",
       "    }\n",
       "\n",
       "    .dataframe thead th {\n",
       "        text-align: right;\n",
       "    }\n",
       "</style>\n",
       "<table border=\"1\" class=\"dataframe\">\n",
       "  <thead>\n",
       "    <tr style=\"text-align: right;\">\n",
       "      <th></th>\n",
       "      <th>city</th>\n",
       "      <th>neighbourhood_name</th>\n",
       "      <th>minimum_nights</th>\n",
       "      <th>maximum_nights</th>\n",
       "      <th>Recompte</th>\n",
       "    </tr>\n",
       "  </thead>\n",
       "  <tbody>\n",
       "    <tr>\n",
       "      <th>0</th>\n",
       "      <td>malaga</td>\n",
       "      <td>Centro</td>\n",
       "      <td>1</td>\n",
       "      <td>1125</td>\n",
       "      <td>41</td>\n",
       "    </tr>\n",
       "    <tr>\n",
       "      <th>1</th>\n",
       "      <td>madrid</td>\n",
       "      <td>Embajadores</td>\n",
       "      <td>2</td>\n",
       "      <td>1125</td>\n",
       "      <td>37</td>\n",
       "    </tr>\n",
       "    <tr>\n",
       "      <th>2</th>\n",
       "      <td>malaga</td>\n",
       "      <td>Centro</td>\n",
       "      <td>2</td>\n",
       "      <td>1125</td>\n",
       "      <td>36</td>\n",
       "    </tr>\n",
       "    <tr>\n",
       "      <th>3</th>\n",
       "      <td>madrid</td>\n",
       "      <td>Embajadores</td>\n",
       "      <td>1</td>\n",
       "      <td>1125</td>\n",
       "      <td>28</td>\n",
       "    </tr>\n",
       "    <tr>\n",
       "      <th>4</th>\n",
       "      <td>madrid</td>\n",
       "      <td>Sol</td>\n",
       "      <td>1</td>\n",
       "      <td>1125</td>\n",
       "      <td>26</td>\n",
       "    </tr>\n",
       "    <tr>\n",
       "      <th>...</th>\n",
       "      <td>...</td>\n",
       "      <td>...</td>\n",
       "      <td>...</td>\n",
       "      <td>...</td>\n",
       "      <td>...</td>\n",
       "    </tr>\n",
       "    <tr>\n",
       "      <th>68</th>\n",
       "      <td>malaga</td>\n",
       "      <td>Este</td>\n",
       "      <td>1</td>\n",
       "      <td>1125</td>\n",
       "      <td>6</td>\n",
       "    </tr>\n",
       "    <tr>\n",
       "      <th>69</th>\n",
       "      <td>mallorca</td>\n",
       "      <td>Calvi�</td>\n",
       "      <td>4</td>\n",
       "      <td>1125</td>\n",
       "      <td>6</td>\n",
       "    </tr>\n",
       "    <tr>\n",
       "      <th>70</th>\n",
       "      <td>valencia</td>\n",
       "      <td>SANT FRANCESC</td>\n",
       "      <td>1</td>\n",
       "      <td>1125</td>\n",
       "      <td>6</td>\n",
       "    </tr>\n",
       "    <tr>\n",
       "      <th>71</th>\n",
       "      <td>madrid</td>\n",
       "      <td>Embajadores</td>\n",
       "      <td>4</td>\n",
       "      <td>1125</td>\n",
       "      <td>6</td>\n",
       "    </tr>\n",
       "    <tr>\n",
       "      <th>72</th>\n",
       "      <td>sevilla</td>\n",
       "      <td>San Gil</td>\n",
       "      <td>2</td>\n",
       "      <td>1125</td>\n",
       "      <td>6</td>\n",
       "    </tr>\n",
       "  </tbody>\n",
       "</table>\n",
       "<p>73 rows × 5 columns</p>\n",
       "</div>"
      ],
      "text/plain": [
       "        city neighbourhood_name  minimum_nights  maximum_nights  Recompte\n",
       "0     malaga             Centro               1            1125        41\n",
       "1     madrid        Embajadores               2            1125        37\n",
       "2     malaga             Centro               2            1125        36\n",
       "3     madrid        Embajadores               1            1125        28\n",
       "4     madrid                Sol               1            1125        26\n",
       "..       ...                ...             ...             ...       ...\n",
       "68    malaga               Este               1            1125         6\n",
       "69  mallorca             Calvi�               4            1125         6\n",
       "70  valencia      SANT FRANCESC               1            1125         6\n",
       "71    madrid        Embajadores               4            1125         6\n",
       "72   sevilla            San Gil               2            1125         6\n",
       "\n",
       "[73 rows x 5 columns]"
      ]
     },
     "execution_count": 8,
     "metadata": {},
     "output_type": "execute_result"
    }
   ],
   "source": [
    "recompte =df_tru.value_counts([\"city\",\"neighbourhood_name\", \"minimum_nights\", \"maximum_nights\"]).reset_index(name = \"Recompte\")\n",
    "\n",
    "recompte[recompte[\"Recompte\"]>5]"
   ]
  },
  {
   "cell_type": "code",
   "execution_count": 9,
   "id": "e1ce29c0-626f-4be4-a16b-333dbc4e7a8a",
   "metadata": {},
   "outputs": [
    {
     "data": {
      "application/vnd.microsoft.datawrangler.viewer.v0+json": {
       "columns": [
        {
         "name": "index",
         "rawType": "int64",
         "type": "integer"
        },
        {
         "name": "city",
         "rawType": "object",
         "type": "string"
        },
        {
         "name": "neighbourhood_name",
         "rawType": "object",
         "type": "string"
        },
        {
         "name": "num_apartaments",
         "rawType": "int64",
         "type": "integer"
        },
        {
         "name": "minimum_nights",
         "rawType": "float64",
         "type": "float"
        },
        {
         "name": "maximum_nights",
         "rawType": "float64",
         "type": "float"
        },
        {
         "name": "mitjana_rating",
         "rawType": "float64",
         "type": "float"
        },
        {
         "name": "number_of_reviews",
         "rawType": "float64",
         "type": "float"
        }
       ],
       "ref": "ee634b73-7c32-4029-a9d2-8cc7907e5763",
       "rows": [
        [
         "3",
         "barcelona",
         "Hostafrancs",
         "12",
         "2.17",
         "525.83",
         "85.58",
         "36.75"
        ],
        [
         "9",
         "barcelona",
         "Sant Antoni",
         "37",
         "1.84",
         "733.11",
         "87.22",
         "63.89"
        ],
        [
         "14",
         "barcelona",
         "Sant Pere, Santa Caterina i la Ribera",
         "34",
         "3.79",
         "555.68",
         "86.03",
         "61.06"
        ],
        [
         "15",
         "barcelona",
         "Sants",
         "9",
         "2.22",
         "650.0",
         "86.56",
         "51.56"
        ],
        [
         "22",
         "barcelona",
         "el Barri G�tic",
         "42",
         "2.67",
         "822.71",
         "87.31",
         "75.26"
        ],
        [
         "23",
         "barcelona",
         "el Bes�s i el Maresme",
         "13",
         "4.54",
         "869.15",
         "86.92",
         "49.15"
        ],
        [
         "24",
         "barcelona",
         "el Camp d'en Grassot i Gr�cia Nova",
         "10",
         "1.6",
         "688.0",
         "87.9",
         "100.4"
        ],
        [
         "25",
         "barcelona",
         "el Camp de l'Arpa del Clot",
         "12",
         "4.42",
         "580.92",
         "85.25",
         "67.58"
        ],
        [
         "26",
         "barcelona",
         "el Carmel",
         "10",
         "2.0",
         "853.7",
         "83.5",
         "30.9"
        ],
        [
         "27",
         "barcelona",
         "el Clot",
         "6",
         "1.83",
         "569.17",
         "87.17",
         "24.67"
        ],
        [
         "29",
         "barcelona",
         "el Fort Pienc",
         "28",
         "2.46",
         "505.14",
         "87.36",
         "47.93"
        ],
        [
         "30",
         "barcelona",
         "el Guinard�",
         "6",
         "2.0",
         "940.0",
         "87.83",
         "33.67"
        ],
        [
         "31",
         "barcelona",
         "el Parc i la Llacuna del Poblenou",
         "12",
         "1.92",
         "852.08",
         "87.92",
         "92.92"
        ],
        [
         "32",
         "barcelona",
         "el Poble Sec",
         "31",
         "4.55",
         "710.06",
         "87.61",
         "49.81"
        ],
        [
         "33",
         "barcelona",
         "el Poblenou",
         "15",
         "4.33",
         "723.8",
         "86.8",
         "61.2"
        ],
        [
         "35",
         "barcelona",
         "el Raval",
         "54",
         "4.07",
         "621.7",
         "87.46",
         "56.31"
        ],
        [
         "36",
         "barcelona",
         "l'Antiga Esquerra de l'Eixample",
         "44",
         "2.98",
         "714.66",
         "88.41",
         "53.84"
        ],
        [
         "37",
         "barcelona",
         "la Barceloneta",
         "11",
         "7.09",
         "924.45",
         "89.36",
         "30.73"
        ],
        [
         "39",
         "barcelona",
         "la Dreta de l'Eixample",
         "58",
         "3.67",
         "679.14",
         "87.9",
         "49.83"
        ],
        [
         "40",
         "barcelona",
         "la Font de la Guatlla",
         "6",
         "2.33",
         "942.5",
         "87.67",
         "91.83"
        ],
        [
         "45",
         "barcelona",
         "la Nova Esquerra de l'Eixample",
         "34",
         "3.24",
         "879.62",
         "84.91",
         "48.56"
        ],
        [
         "47",
         "barcelona",
         "la Sagrada Fam�lia",
         "31",
         "4.45",
         "941.77",
         "87.42",
         "57.65"
        ],
        [
         "53",
         "barcelona",
         "la Vila de Gr�cia",
         "26",
         "2.31",
         "589.27",
         "85.77",
         "69.69"
        ],
        [
         "62",
         "girona",
         "Cadaqu�s",
         "7",
         "2.43",
         "820.43",
         "86.57",
         "39.43"
        ],
        [
         "65",
         "girona",
         "Castell� d'Emp�ries",
         "7",
         "2.29",
         "669.57",
         "89.86",
         "25.14"
        ],
        [
         "70",
         "girona",
         "Girona",
         "12",
         "1.5",
         "969.58",
         "87.83",
         "44.92"
        ],
        [
         "75",
         "girona",
         "Lloret de Mar",
         "7",
         "1.43",
         "965.29",
         "87.86",
         "28.57"
        ],
        [
         "85",
         "girona",
         "Roses",
         "14",
         "2.14",
         "521.64",
         "85.29",
         "29.71"
        ],
        [
         "96",
         "girona",
         "Tossa de Mar",
         "9",
         "2.33",
         "769.89",
         "88.89",
         "25.44"
        ],
        [
         "118",
         "madrid",
         "Cortes",
         "24",
         "1.88",
         "909.96",
         "88.12",
         "90.42"
        ],
        [
         "121",
         "madrid",
         "Delicias",
         "7",
         "2.0",
         "842.43",
         "87.29",
         "46.29"
        ],
        [
         "122",
         "madrid",
         "Embajadores",
         "55",
         "2.58",
         "816.33",
         "88.31",
         "79.2"
        ],
        [
         "127",
         "madrid",
         "Guindalera",
         "6",
         "1.5",
         "629.17",
         "87.83",
         "30.33"
        ],
        [
         "132",
         "madrid",
         "Justicia",
         "21",
         "2.1",
         "788.62",
         "89.24",
         "82.86"
        ],
        [
         "141",
         "madrid",
         "Palacio",
         "29",
         "3.1",
         "795.59",
         "88.52",
         "56.93"
        ],
        [
         "144",
         "madrid",
         "Palos de Moguer",
         "12",
         "2.0",
         "850.0",
         "87.67",
         "94.92"
        ],
        [
         "156",
         "madrid",
         "San Diego",
         "10",
         "1.5",
         "794.8",
         "85.2",
         "71.7"
        ],
        [
         "159",
         "madrid",
         "Sol",
         "38",
         "4.26",
         "787.08",
         "86.63",
         "81.0"
        ],
        [
         "161",
         "madrid",
         "Universidad",
         "40",
         "3.02",
         "658.42",
         "86.35",
         "102.22"
        ],
        [
         "169",
         "malaga",
         "Carretera de Cadiz",
         "10",
         "4.9",
         "610.5",
         "88.3",
         "129.9"
        ],
        [
         "170",
         "malaga",
         "Centro",
         "64",
         "1.67",
         "831.5",
         "88.47",
         "66.89"
        ],
        [
         "173",
         "malaga",
         "Este",
         "7",
         "1.86",
         "977.14",
         "89.43",
         "34.86"
        ],
        [
         "176",
         "mallorca",
         "Alc�dia",
         "10",
         "3.7",
         "439.4",
         "89.7",
         "28.3"
        ],
        [
         "189",
         "mallorca",
         "Palma de Mallorca",
         "47",
         "2.55",
         "799.79",
         "87.62",
         "54.45"
        ],
        [
         "200",
         "menorca",
         "Ciutadella de Menorca",
         "14",
         "3.93",
         "669.57",
         "88.0",
         "25.5"
        ],
        [
         "205",
         "sevilla",
         "Alfalfa",
         "9",
         "1.67",
         "1000.33",
         "89.22",
         "49.78"
        ],
        [
         "210",
         "sevilla",
         "Encarnaci�n, Regina",
         "11",
         "1.73",
         "819.09",
         "89.36",
         "150.27"
        ],
        [
         "211",
         "sevilla",
         "Feria",
         "8",
         "2.12",
         "687.25",
         "87.75",
         "44.12"
        ],
        [
         "219",
         "sevilla",
         "San Bartolom�",
         "7",
         "2.0",
         "993.86",
         "89.0",
         "69.0"
        ],
        [
         "238",
         "valencia",
         "CABANYAL-CANYAMELAR",
         "8",
         "6.12",
         "983.75",
         "90.0",
         "60.38"
        ]
       ],
       "shape": {
        "columns": 7,
        "rows": 54
       }
      },
      "text/html": [
       "<div>\n",
       "<style scoped>\n",
       "    .dataframe tbody tr th:only-of-type {\n",
       "        vertical-align: middle;\n",
       "    }\n",
       "\n",
       "    .dataframe tbody tr th {\n",
       "        vertical-align: top;\n",
       "    }\n",
       "\n",
       "    .dataframe thead th {\n",
       "        text-align: right;\n",
       "    }\n",
       "</style>\n",
       "<table border=\"1\" class=\"dataframe\">\n",
       "  <thead>\n",
       "    <tr style=\"text-align: right;\">\n",
       "      <th></th>\n",
       "      <th>city</th>\n",
       "      <th>neighbourhood_name</th>\n",
       "      <th>num_apartaments</th>\n",
       "      <th>minimum_nights</th>\n",
       "      <th>maximum_nights</th>\n",
       "      <th>mitjana_rating</th>\n",
       "      <th>number_of_reviews</th>\n",
       "    </tr>\n",
       "  </thead>\n",
       "  <tbody>\n",
       "    <tr>\n",
       "      <th>3</th>\n",
       "      <td>barcelona</td>\n",
       "      <td>Hostafrancs</td>\n",
       "      <td>12</td>\n",
       "      <td>2.17</td>\n",
       "      <td>525.83</td>\n",
       "      <td>85.58</td>\n",
       "      <td>36.75</td>\n",
       "    </tr>\n",
       "    <tr>\n",
       "      <th>9</th>\n",
       "      <td>barcelona</td>\n",
       "      <td>Sant Antoni</td>\n",
       "      <td>37</td>\n",
       "      <td>1.84</td>\n",
       "      <td>733.11</td>\n",
       "      <td>87.22</td>\n",
       "      <td>63.89</td>\n",
       "    </tr>\n",
       "    <tr>\n",
       "      <th>14</th>\n",
       "      <td>barcelona</td>\n",
       "      <td>Sant Pere, Santa Caterina i la Ribera</td>\n",
       "      <td>34</td>\n",
       "      <td>3.79</td>\n",
       "      <td>555.68</td>\n",
       "      <td>86.03</td>\n",
       "      <td>61.06</td>\n",
       "    </tr>\n",
       "    <tr>\n",
       "      <th>15</th>\n",
       "      <td>barcelona</td>\n",
       "      <td>Sants</td>\n",
       "      <td>9</td>\n",
       "      <td>2.22</td>\n",
       "      <td>650.00</td>\n",
       "      <td>86.56</td>\n",
       "      <td>51.56</td>\n",
       "    </tr>\n",
       "    <tr>\n",
       "      <th>22</th>\n",
       "      <td>barcelona</td>\n",
       "      <td>el Barri G�tic</td>\n",
       "      <td>42</td>\n",
       "      <td>2.67</td>\n",
       "      <td>822.71</td>\n",
       "      <td>87.31</td>\n",
       "      <td>75.26</td>\n",
       "    </tr>\n",
       "    <tr>\n",
       "      <th>23</th>\n",
       "      <td>barcelona</td>\n",
       "      <td>el Bes�s i el Maresme</td>\n",
       "      <td>13</td>\n",
       "      <td>4.54</td>\n",
       "      <td>869.15</td>\n",
       "      <td>86.92</td>\n",
       "      <td>49.15</td>\n",
       "    </tr>\n",
       "    <tr>\n",
       "      <th>24</th>\n",
       "      <td>barcelona</td>\n",
       "      <td>el Camp d'en Grassot i Gr�cia Nova</td>\n",
       "      <td>10</td>\n",
       "      <td>1.60</td>\n",
       "      <td>688.00</td>\n",
       "      <td>87.90</td>\n",
       "      <td>100.40</td>\n",
       "    </tr>\n",
       "    <tr>\n",
       "      <th>25</th>\n",
       "      <td>barcelona</td>\n",
       "      <td>el Camp de l'Arpa del Clot</td>\n",
       "      <td>12</td>\n",
       "      <td>4.42</td>\n",
       "      <td>580.92</td>\n",
       "      <td>85.25</td>\n",
       "      <td>67.58</td>\n",
       "    </tr>\n",
       "    <tr>\n",
       "      <th>26</th>\n",
       "      <td>barcelona</td>\n",
       "      <td>el Carmel</td>\n",
       "      <td>10</td>\n",
       "      <td>2.00</td>\n",
       "      <td>853.70</td>\n",
       "      <td>83.50</td>\n",
       "      <td>30.90</td>\n",
       "    </tr>\n",
       "    <tr>\n",
       "      <th>27</th>\n",
       "      <td>barcelona</td>\n",
       "      <td>el Clot</td>\n",
       "      <td>6</td>\n",
       "      <td>1.83</td>\n",
       "      <td>569.17</td>\n",
       "      <td>87.17</td>\n",
       "      <td>24.67</td>\n",
       "    </tr>\n",
       "    <tr>\n",
       "      <th>29</th>\n",
       "      <td>barcelona</td>\n",
       "      <td>el Fort Pienc</td>\n",
       "      <td>28</td>\n",
       "      <td>2.46</td>\n",
       "      <td>505.14</td>\n",
       "      <td>87.36</td>\n",
       "      <td>47.93</td>\n",
       "    </tr>\n",
       "    <tr>\n",
       "      <th>30</th>\n",
       "      <td>barcelona</td>\n",
       "      <td>el Guinard�</td>\n",
       "      <td>6</td>\n",
       "      <td>2.00</td>\n",
       "      <td>940.00</td>\n",
       "      <td>87.83</td>\n",
       "      <td>33.67</td>\n",
       "    </tr>\n",
       "    <tr>\n",
       "      <th>31</th>\n",
       "      <td>barcelona</td>\n",
       "      <td>el Parc i la Llacuna del Poblenou</td>\n",
       "      <td>12</td>\n",
       "      <td>1.92</td>\n",
       "      <td>852.08</td>\n",
       "      <td>87.92</td>\n",
       "      <td>92.92</td>\n",
       "    </tr>\n",
       "    <tr>\n",
       "      <th>32</th>\n",
       "      <td>barcelona</td>\n",
       "      <td>el Poble Sec</td>\n",
       "      <td>31</td>\n",
       "      <td>4.55</td>\n",
       "      <td>710.06</td>\n",
       "      <td>87.61</td>\n",
       "      <td>49.81</td>\n",
       "    </tr>\n",
       "    <tr>\n",
       "      <th>33</th>\n",
       "      <td>barcelona</td>\n",
       "      <td>el Poblenou</td>\n",
       "      <td>15</td>\n",
       "      <td>4.33</td>\n",
       "      <td>723.80</td>\n",
       "      <td>86.80</td>\n",
       "      <td>61.20</td>\n",
       "    </tr>\n",
       "    <tr>\n",
       "      <th>35</th>\n",
       "      <td>barcelona</td>\n",
       "      <td>el Raval</td>\n",
       "      <td>54</td>\n",
       "      <td>4.07</td>\n",
       "      <td>621.70</td>\n",
       "      <td>87.46</td>\n",
       "      <td>56.31</td>\n",
       "    </tr>\n",
       "    <tr>\n",
       "      <th>36</th>\n",
       "      <td>barcelona</td>\n",
       "      <td>l'Antiga Esquerra de l'Eixample</td>\n",
       "      <td>44</td>\n",
       "      <td>2.98</td>\n",
       "      <td>714.66</td>\n",
       "      <td>88.41</td>\n",
       "      <td>53.84</td>\n",
       "    </tr>\n",
       "    <tr>\n",
       "      <th>37</th>\n",
       "      <td>barcelona</td>\n",
       "      <td>la Barceloneta</td>\n",
       "      <td>11</td>\n",
       "      <td>7.09</td>\n",
       "      <td>924.45</td>\n",
       "      <td>89.36</td>\n",
       "      <td>30.73</td>\n",
       "    </tr>\n",
       "    <tr>\n",
       "      <th>39</th>\n",
       "      <td>barcelona</td>\n",
       "      <td>la Dreta de l'Eixample</td>\n",
       "      <td>58</td>\n",
       "      <td>3.67</td>\n",
       "      <td>679.14</td>\n",
       "      <td>87.90</td>\n",
       "      <td>49.83</td>\n",
       "    </tr>\n",
       "    <tr>\n",
       "      <th>40</th>\n",
       "      <td>barcelona</td>\n",
       "      <td>la Font de la Guatlla</td>\n",
       "      <td>6</td>\n",
       "      <td>2.33</td>\n",
       "      <td>942.50</td>\n",
       "      <td>87.67</td>\n",
       "      <td>91.83</td>\n",
       "    </tr>\n",
       "    <tr>\n",
       "      <th>45</th>\n",
       "      <td>barcelona</td>\n",
       "      <td>la Nova Esquerra de l'Eixample</td>\n",
       "      <td>34</td>\n",
       "      <td>3.24</td>\n",
       "      <td>879.62</td>\n",
       "      <td>84.91</td>\n",
       "      <td>48.56</td>\n",
       "    </tr>\n",
       "    <tr>\n",
       "      <th>47</th>\n",
       "      <td>barcelona</td>\n",
       "      <td>la Sagrada Fam�lia</td>\n",
       "      <td>31</td>\n",
       "      <td>4.45</td>\n",
       "      <td>941.77</td>\n",
       "      <td>87.42</td>\n",
       "      <td>57.65</td>\n",
       "    </tr>\n",
       "    <tr>\n",
       "      <th>53</th>\n",
       "      <td>barcelona</td>\n",
       "      <td>la Vila de Gr�cia</td>\n",
       "      <td>26</td>\n",
       "      <td>2.31</td>\n",
       "      <td>589.27</td>\n",
       "      <td>85.77</td>\n",
       "      <td>69.69</td>\n",
       "    </tr>\n",
       "    <tr>\n",
       "      <th>62</th>\n",
       "      <td>girona</td>\n",
       "      <td>Cadaqu�s</td>\n",
       "      <td>7</td>\n",
       "      <td>2.43</td>\n",
       "      <td>820.43</td>\n",
       "      <td>86.57</td>\n",
       "      <td>39.43</td>\n",
       "    </tr>\n",
       "    <tr>\n",
       "      <th>65</th>\n",
       "      <td>girona</td>\n",
       "      <td>Castell� d'Emp�ries</td>\n",
       "      <td>7</td>\n",
       "      <td>2.29</td>\n",
       "      <td>669.57</td>\n",
       "      <td>89.86</td>\n",
       "      <td>25.14</td>\n",
       "    </tr>\n",
       "    <tr>\n",
       "      <th>70</th>\n",
       "      <td>girona</td>\n",
       "      <td>Girona</td>\n",
       "      <td>12</td>\n",
       "      <td>1.50</td>\n",
       "      <td>969.58</td>\n",
       "      <td>87.83</td>\n",
       "      <td>44.92</td>\n",
       "    </tr>\n",
       "    <tr>\n",
       "      <th>75</th>\n",
       "      <td>girona</td>\n",
       "      <td>Lloret de Mar</td>\n",
       "      <td>7</td>\n",
       "      <td>1.43</td>\n",
       "      <td>965.29</td>\n",
       "      <td>87.86</td>\n",
       "      <td>28.57</td>\n",
       "    </tr>\n",
       "    <tr>\n",
       "      <th>85</th>\n",
       "      <td>girona</td>\n",
       "      <td>Roses</td>\n",
       "      <td>14</td>\n",
       "      <td>2.14</td>\n",
       "      <td>521.64</td>\n",
       "      <td>85.29</td>\n",
       "      <td>29.71</td>\n",
       "    </tr>\n",
       "    <tr>\n",
       "      <th>96</th>\n",
       "      <td>girona</td>\n",
       "      <td>Tossa de Mar</td>\n",
       "      <td>9</td>\n",
       "      <td>2.33</td>\n",
       "      <td>769.89</td>\n",
       "      <td>88.89</td>\n",
       "      <td>25.44</td>\n",
       "    </tr>\n",
       "    <tr>\n",
       "      <th>118</th>\n",
       "      <td>madrid</td>\n",
       "      <td>Cortes</td>\n",
       "      <td>24</td>\n",
       "      <td>1.88</td>\n",
       "      <td>909.96</td>\n",
       "      <td>88.12</td>\n",
       "      <td>90.42</td>\n",
       "    </tr>\n",
       "    <tr>\n",
       "      <th>121</th>\n",
       "      <td>madrid</td>\n",
       "      <td>Delicias</td>\n",
       "      <td>7</td>\n",
       "      <td>2.00</td>\n",
       "      <td>842.43</td>\n",
       "      <td>87.29</td>\n",
       "      <td>46.29</td>\n",
       "    </tr>\n",
       "    <tr>\n",
       "      <th>122</th>\n",
       "      <td>madrid</td>\n",
       "      <td>Embajadores</td>\n",
       "      <td>55</td>\n",
       "      <td>2.58</td>\n",
       "      <td>816.33</td>\n",
       "      <td>88.31</td>\n",
       "      <td>79.20</td>\n",
       "    </tr>\n",
       "    <tr>\n",
       "      <th>127</th>\n",
       "      <td>madrid</td>\n",
       "      <td>Guindalera</td>\n",
       "      <td>6</td>\n",
       "      <td>1.50</td>\n",
       "      <td>629.17</td>\n",
       "      <td>87.83</td>\n",
       "      <td>30.33</td>\n",
       "    </tr>\n",
       "    <tr>\n",
       "      <th>132</th>\n",
       "      <td>madrid</td>\n",
       "      <td>Justicia</td>\n",
       "      <td>21</td>\n",
       "      <td>2.10</td>\n",
       "      <td>788.62</td>\n",
       "      <td>89.24</td>\n",
       "      <td>82.86</td>\n",
       "    </tr>\n",
       "    <tr>\n",
       "      <th>141</th>\n",
       "      <td>madrid</td>\n",
       "      <td>Palacio</td>\n",
       "      <td>29</td>\n",
       "      <td>3.10</td>\n",
       "      <td>795.59</td>\n",
       "      <td>88.52</td>\n",
       "      <td>56.93</td>\n",
       "    </tr>\n",
       "    <tr>\n",
       "      <th>144</th>\n",
       "      <td>madrid</td>\n",
       "      <td>Palos de Moguer</td>\n",
       "      <td>12</td>\n",
       "      <td>2.00</td>\n",
       "      <td>850.00</td>\n",
       "      <td>87.67</td>\n",
       "      <td>94.92</td>\n",
       "    </tr>\n",
       "    <tr>\n",
       "      <th>156</th>\n",
       "      <td>madrid</td>\n",
       "      <td>San Diego</td>\n",
       "      <td>10</td>\n",
       "      <td>1.50</td>\n",
       "      <td>794.80</td>\n",
       "      <td>85.20</td>\n",
       "      <td>71.70</td>\n",
       "    </tr>\n",
       "    <tr>\n",
       "      <th>159</th>\n",
       "      <td>madrid</td>\n",
       "      <td>Sol</td>\n",
       "      <td>38</td>\n",
       "      <td>4.26</td>\n",
       "      <td>787.08</td>\n",
       "      <td>86.63</td>\n",
       "      <td>81.00</td>\n",
       "    </tr>\n",
       "    <tr>\n",
       "      <th>161</th>\n",
       "      <td>madrid</td>\n",
       "      <td>Universidad</td>\n",
       "      <td>40</td>\n",
       "      <td>3.02</td>\n",
       "      <td>658.42</td>\n",
       "      <td>86.35</td>\n",
       "      <td>102.22</td>\n",
       "    </tr>\n",
       "    <tr>\n",
       "      <th>169</th>\n",
       "      <td>malaga</td>\n",
       "      <td>Carretera de Cadiz</td>\n",
       "      <td>10</td>\n",
       "      <td>4.90</td>\n",
       "      <td>610.50</td>\n",
       "      <td>88.30</td>\n",
       "      <td>129.90</td>\n",
       "    </tr>\n",
       "    <tr>\n",
       "      <th>170</th>\n",
       "      <td>malaga</td>\n",
       "      <td>Centro</td>\n",
       "      <td>64</td>\n",
       "      <td>1.67</td>\n",
       "      <td>831.50</td>\n",
       "      <td>88.47</td>\n",
       "      <td>66.89</td>\n",
       "    </tr>\n",
       "    <tr>\n",
       "      <th>173</th>\n",
       "      <td>malaga</td>\n",
       "      <td>Este</td>\n",
       "      <td>7</td>\n",
       "      <td>1.86</td>\n",
       "      <td>977.14</td>\n",
       "      <td>89.43</td>\n",
       "      <td>34.86</td>\n",
       "    </tr>\n",
       "    <tr>\n",
       "      <th>176</th>\n",
       "      <td>mallorca</td>\n",
       "      <td>Alc�dia</td>\n",
       "      <td>10</td>\n",
       "      <td>3.70</td>\n",
       "      <td>439.40</td>\n",
       "      <td>89.70</td>\n",
       "      <td>28.30</td>\n",
       "    </tr>\n",
       "    <tr>\n",
       "      <th>189</th>\n",
       "      <td>mallorca</td>\n",
       "      <td>Palma de Mallorca</td>\n",
       "      <td>47</td>\n",
       "      <td>2.55</td>\n",
       "      <td>799.79</td>\n",
       "      <td>87.62</td>\n",
       "      <td>54.45</td>\n",
       "    </tr>\n",
       "    <tr>\n",
       "      <th>200</th>\n",
       "      <td>menorca</td>\n",
       "      <td>Ciutadella de Menorca</td>\n",
       "      <td>14</td>\n",
       "      <td>3.93</td>\n",
       "      <td>669.57</td>\n",
       "      <td>88.00</td>\n",
       "      <td>25.50</td>\n",
       "    </tr>\n",
       "    <tr>\n",
       "      <th>205</th>\n",
       "      <td>sevilla</td>\n",
       "      <td>Alfalfa</td>\n",
       "      <td>9</td>\n",
       "      <td>1.67</td>\n",
       "      <td>1000.33</td>\n",
       "      <td>89.22</td>\n",
       "      <td>49.78</td>\n",
       "    </tr>\n",
       "    <tr>\n",
       "      <th>210</th>\n",
       "      <td>sevilla</td>\n",
       "      <td>Encarnaci�n, Regina</td>\n",
       "      <td>11</td>\n",
       "      <td>1.73</td>\n",
       "      <td>819.09</td>\n",
       "      <td>89.36</td>\n",
       "      <td>150.27</td>\n",
       "    </tr>\n",
       "    <tr>\n",
       "      <th>211</th>\n",
       "      <td>sevilla</td>\n",
       "      <td>Feria</td>\n",
       "      <td>8</td>\n",
       "      <td>2.12</td>\n",
       "      <td>687.25</td>\n",
       "      <td>87.75</td>\n",
       "      <td>44.12</td>\n",
       "    </tr>\n",
       "    <tr>\n",
       "      <th>219</th>\n",
       "      <td>sevilla</td>\n",
       "      <td>San Bartolom�</td>\n",
       "      <td>7</td>\n",
       "      <td>2.00</td>\n",
       "      <td>993.86</td>\n",
       "      <td>89.00</td>\n",
       "      <td>69.00</td>\n",
       "    </tr>\n",
       "    <tr>\n",
       "      <th>238</th>\n",
       "      <td>valencia</td>\n",
       "      <td>CABANYAL-CANYAMELAR</td>\n",
       "      <td>8</td>\n",
       "      <td>6.12</td>\n",
       "      <td>983.75</td>\n",
       "      <td>90.00</td>\n",
       "      <td>60.38</td>\n",
       "    </tr>\n",
       "    <tr>\n",
       "      <th>247</th>\n",
       "      <td>valencia</td>\n",
       "      <td>EL MERCAT</td>\n",
       "      <td>9</td>\n",
       "      <td>10.78</td>\n",
       "      <td>886.56</td>\n",
       "      <td>86.11</td>\n",
       "      <td>45.00</td>\n",
       "    </tr>\n",
       "    <tr>\n",
       "      <th>255</th>\n",
       "      <td>valencia</td>\n",
       "      <td>LA MALVA-ROSA</td>\n",
       "      <td>8</td>\n",
       "      <td>1.75</td>\n",
       "      <td>724.50</td>\n",
       "      <td>88.88</td>\n",
       "      <td>49.00</td>\n",
       "    </tr>\n",
       "    <tr>\n",
       "      <th>266</th>\n",
       "      <td>valencia</td>\n",
       "      <td>RUSSAFA</td>\n",
       "      <td>8</td>\n",
       "      <td>2.12</td>\n",
       "      <td>850.88</td>\n",
       "      <td>88.12</td>\n",
       "      <td>36.88</td>\n",
       "    </tr>\n",
       "    <tr>\n",
       "      <th>267</th>\n",
       "      <td>valencia</td>\n",
       "      <td>SANT FRANCESC</td>\n",
       "      <td>8</td>\n",
       "      <td>1.50</td>\n",
       "      <td>848.25</td>\n",
       "      <td>88.88</td>\n",
       "      <td>87.50</td>\n",
       "    </tr>\n",
       "  </tbody>\n",
       "</table>\n",
       "</div>"
      ],
      "text/plain": [
       "          city                     neighbourhood_name  num_apartaments  \\\n",
       "3    barcelona                            Hostafrancs               12   \n",
       "9    barcelona                            Sant Antoni               37   \n",
       "14   barcelona  Sant Pere, Santa Caterina i la Ribera               34   \n",
       "15   barcelona                                  Sants                9   \n",
       "22   barcelona                         el Barri G�tic               42   \n",
       "23   barcelona                  el Bes�s i el Maresme               13   \n",
       "24   barcelona     el Camp d'en Grassot i Gr�cia Nova               10   \n",
       "25   barcelona             el Camp de l'Arpa del Clot               12   \n",
       "26   barcelona                              el Carmel               10   \n",
       "27   barcelona                                el Clot                6   \n",
       "29   barcelona                          el Fort Pienc               28   \n",
       "30   barcelona                            el Guinard�                6   \n",
       "31   barcelona      el Parc i la Llacuna del Poblenou               12   \n",
       "32   barcelona                           el Poble Sec               31   \n",
       "33   barcelona                            el Poblenou               15   \n",
       "35   barcelona                               el Raval               54   \n",
       "36   barcelona        l'Antiga Esquerra de l'Eixample               44   \n",
       "37   barcelona                         la Barceloneta               11   \n",
       "39   barcelona                 la Dreta de l'Eixample               58   \n",
       "40   barcelona                  la Font de la Guatlla                6   \n",
       "45   barcelona         la Nova Esquerra de l'Eixample               34   \n",
       "47   barcelona                     la Sagrada Fam�lia               31   \n",
       "53   barcelona                      la Vila de Gr�cia               26   \n",
       "62      girona                               Cadaqu�s                7   \n",
       "65      girona                    Castell� d'Emp�ries                7   \n",
       "70      girona                                 Girona               12   \n",
       "75      girona                          Lloret de Mar                7   \n",
       "85      girona                                  Roses               14   \n",
       "96      girona                           Tossa de Mar                9   \n",
       "118     madrid                                 Cortes               24   \n",
       "121     madrid                               Delicias                7   \n",
       "122     madrid                            Embajadores               55   \n",
       "127     madrid                             Guindalera                6   \n",
       "132     madrid                               Justicia               21   \n",
       "141     madrid                                Palacio               29   \n",
       "144     madrid                        Palos de Moguer               12   \n",
       "156     madrid                              San Diego               10   \n",
       "159     madrid                                    Sol               38   \n",
       "161     madrid                            Universidad               40   \n",
       "169     malaga                     Carretera de Cadiz               10   \n",
       "170     malaga                                 Centro               64   \n",
       "173     malaga                                   Este                7   \n",
       "176   mallorca                                Alc�dia               10   \n",
       "189   mallorca                      Palma de Mallorca               47   \n",
       "200    menorca                  Ciutadella de Menorca               14   \n",
       "205    sevilla                                Alfalfa                9   \n",
       "210    sevilla                    Encarnaci�n, Regina               11   \n",
       "211    sevilla                                  Feria                8   \n",
       "219    sevilla                          San Bartolom�                7   \n",
       "238   valencia                    CABANYAL-CANYAMELAR                8   \n",
       "247   valencia                              EL MERCAT                9   \n",
       "255   valencia                          LA MALVA-ROSA                8   \n",
       "266   valencia                                RUSSAFA                8   \n",
       "267   valencia                          SANT FRANCESC                8   \n",
       "\n",
       "     minimum_nights  maximum_nights  mitjana_rating  number_of_reviews  \n",
       "3              2.17          525.83           85.58              36.75  \n",
       "9              1.84          733.11           87.22              63.89  \n",
       "14             3.79          555.68           86.03              61.06  \n",
       "15             2.22          650.00           86.56              51.56  \n",
       "22             2.67          822.71           87.31              75.26  \n",
       "23             4.54          869.15           86.92              49.15  \n",
       "24             1.60          688.00           87.90             100.40  \n",
       "25             4.42          580.92           85.25              67.58  \n",
       "26             2.00          853.70           83.50              30.90  \n",
       "27             1.83          569.17           87.17              24.67  \n",
       "29             2.46          505.14           87.36              47.93  \n",
       "30             2.00          940.00           87.83              33.67  \n",
       "31             1.92          852.08           87.92              92.92  \n",
       "32             4.55          710.06           87.61              49.81  \n",
       "33             4.33          723.80           86.80              61.20  \n",
       "35             4.07          621.70           87.46              56.31  \n",
       "36             2.98          714.66           88.41              53.84  \n",
       "37             7.09          924.45           89.36              30.73  \n",
       "39             3.67          679.14           87.90              49.83  \n",
       "40             2.33          942.50           87.67              91.83  \n",
       "45             3.24          879.62           84.91              48.56  \n",
       "47             4.45          941.77           87.42              57.65  \n",
       "53             2.31          589.27           85.77              69.69  \n",
       "62             2.43          820.43           86.57              39.43  \n",
       "65             2.29          669.57           89.86              25.14  \n",
       "70             1.50          969.58           87.83              44.92  \n",
       "75             1.43          965.29           87.86              28.57  \n",
       "85             2.14          521.64           85.29              29.71  \n",
       "96             2.33          769.89           88.89              25.44  \n",
       "118            1.88          909.96           88.12              90.42  \n",
       "121            2.00          842.43           87.29              46.29  \n",
       "122            2.58          816.33           88.31              79.20  \n",
       "127            1.50          629.17           87.83              30.33  \n",
       "132            2.10          788.62           89.24              82.86  \n",
       "141            3.10          795.59           88.52              56.93  \n",
       "144            2.00          850.00           87.67              94.92  \n",
       "156            1.50          794.80           85.20              71.70  \n",
       "159            4.26          787.08           86.63              81.00  \n",
       "161            3.02          658.42           86.35             102.22  \n",
       "169            4.90          610.50           88.30             129.90  \n",
       "170            1.67          831.50           88.47              66.89  \n",
       "173            1.86          977.14           89.43              34.86  \n",
       "176            3.70          439.40           89.70              28.30  \n",
       "189            2.55          799.79           87.62              54.45  \n",
       "200            3.93          669.57           88.00              25.50  \n",
       "205            1.67         1000.33           89.22              49.78  \n",
       "210            1.73          819.09           89.36             150.27  \n",
       "211            2.12          687.25           87.75              44.12  \n",
       "219            2.00          993.86           89.00              69.00  \n",
       "238            6.12          983.75           90.00              60.38  \n",
       "247           10.78          886.56           86.11              45.00  \n",
       "255            1.75          724.50           88.88              49.00  \n",
       "266            2.12          850.88           88.12              36.88  \n",
       "267            1.50          848.25           88.88              87.50  "
      ]
     },
     "execution_count": 9,
     "metadata": {},
     "output_type": "execute_result"
    }
   ],
   "source": [
    "# Filtrar només els apartaments amb 10 o més ressenyes\n",
    "df_tru = df[df[\"number_of_reviews\"] >= 10]\n",
    "\n",
    "# Calcular la mitjana global de la puntuació\n",
    "mitjana_global = df[\"review_scores_rating\"].mean()\n",
    "\n",
    "# Filtrar els registres amb puntuació inferior a la mitjana\n",
    "df_tru = df_tru[df_tru[\"review_scores_rating\"] < mitjana_global]\n",
    "\n",
    "# Crear taula amb les columnes desitjades\n",
    "recompte = df_tru.groupby([\"city\", \"neighbourhood_name\"]).agg({\n",
    "    \"neighbourhood_name\": \"count\",\n",
    "    \"minimum_nights\": \"mean\",\n",
    "    \"maximum_nights\": \"mean\",\n",
    "    \"review_scores_rating\": \"mean\",\n",
    "    \"number_of_reviews\" : \"mean\"\n",
    "}).rename(columns={\n",
    "    \"neighbourhood_name\": \"num_apartaments\",\n",
    "    \"review_scores_rating\": \"mitjana_rating\"\n",
    "}).reset_index()\n",
    "\n",
    "# Arrodonir mitjanes\n",
    "recompte[[\"minimum_nights\", \"maximum_nights\", \"mitjana_rating\", \"number_of_reviews\"]] = recompte[[\"minimum_nights\", \"maximum_nights\", \"mitjana_rating\", \"number_of_reviews\"]].round(2)\n",
    "\n",
    "# Filtrar només els grups amb més de 5 registres i mínim de nits de més de 2.5\n",
    "recompte = recompte[recompte[\"num_apartaments\"] > 5]\n",
    "# recompte = recompte[recompte[\"minimum_nights\"] > 2.5]\n",
    "\n",
    "recompte"
   ]
  },
  {
   "cell_type": "code",
   "execution_count": 10,
   "id": "db7286bb",
   "metadata": {},
   "outputs": [],
   "source": [
    "recompte[\"potencial_optimizacion\"] = (\n",
    "    (1 - recompte[\"mitjana_rating\"] / 100) *  # cuanto más bajo el rating, más potencial\n",
    "    recompte[\"number_of_reviews\"]             # pero que tenga suficiente actividad\n",
    ")\n"
   ]
  },
  {
   "cell_type": "markdown",
   "id": "0c788b07",
   "metadata": {},
   "source": [
    "Estoy probando de jugar con las ponderaciones, creo que le da demasiado peso los miles de reseñas. tene las minimas ya son mas que suficientes"
   ]
  },
  {
   "cell_type": "code",
   "execution_count": 11,
   "id": "f4ade98d",
   "metadata": {},
   "outputs": [
    {
     "data": {
      "application/vnd.microsoft.datawrangler.viewer.v0+json": {
       "columns": [
        {
         "name": "index",
         "rawType": "int64",
         "type": "integer"
        },
        {
         "name": "city",
         "rawType": "object",
         "type": "string"
        },
        {
         "name": "neighbourhood_name",
         "rawType": "object",
         "type": "string"
        },
        {
         "name": "num_apartaments",
         "rawType": "int64",
         "type": "integer"
        },
        {
         "name": "minimum_nights",
         "rawType": "float64",
         "type": "float"
        },
        {
         "name": "maximum_nights",
         "rawType": "float64",
         "type": "float"
        },
        {
         "name": "mitjana_rating",
         "rawType": "float64",
         "type": "float"
        },
        {
         "name": "number_of_reviews",
         "rawType": "float64",
         "type": "float"
        },
        {
         "name": "potencial_optimizacion",
         "rawType": "float64",
         "type": "float"
        }
       ],
       "ref": "ea6190dd-3653-48ec-ad5f-1bf6579b932d",
       "rows": [
        [
         "3",
         "barcelona",
         "Hostafrancs",
         "12",
         "2.17",
         "525.83",
         "85.58",
         "36.75",
         "0.3109805430280047"
        ],
        [
         "9",
         "barcelona",
         "Sant Antoni",
         "37",
         "1.84",
         "733.11",
         "87.22",
         "63.89",
         "0.1748002970375726"
        ],
        [
         "14",
         "barcelona",
         "Sant Pere, Santa Caterina i la Ribera",
         "34",
         "3.79",
         "555.68",
         "86.03",
         "61.06",
         "0.23355295256155967"
        ],
        [
         "15",
         "barcelona",
         "Sants",
         "9",
         "2.22",
         "650.0",
         "86.56",
         "51.56",
         "0.2235490436209835"
        ],
        [
         "22",
         "barcelona",
         "el Barri G�tic",
         "42",
         "2.67",
         "822.71",
         "87.31",
         "75.26",
         "0.17000448613539584"
        ],
        [
         "23",
         "barcelona",
         "el Bes�s i el Maresme",
         "13",
         "4.54",
         "869.15",
         "86.92",
         "49.15",
         "0.27348720586502284"
        ],
        [
         "24",
         "barcelona",
         "el Camp d'en Grassot i Gr�cia Nova",
         "10",
         "1.6",
         "688.0",
         "87.9",
         "100.4",
         "0.11567570987309735"
        ],
        [
         "25",
         "barcelona",
         "el Camp de l'Arpa del Clot",
         "12",
         "4.42",
         "580.92",
         "85.25",
         "67.58",
         "0.23912594233162887"
        ],
        [
         "26",
         "barcelona",
         "el Carmel",
         "10",
         "2.0",
         "853.7",
         "83.5",
         "30.9",
         "0.4021859656342415"
        ],
        [
         "27",
         "barcelona",
         "el Clot",
         "6",
         "1.83",
         "569.17",
         "87.17",
         "24.67",
         "0.3866390403591997"
        ],
        [
         "29",
         "barcelona",
         "el Fort Pienc",
         "28",
         "2.46",
         "505.14",
         "87.36",
         "47.93",
         "0.23022733058923403"
        ],
        [
         "30",
         "barcelona",
         "el Guinard�",
         "6",
         "2.0",
         "940.0",
         "87.83",
         "33.67",
         "0.28582302792964914"
        ],
        [
         "31",
         "barcelona",
         "el Parc i la Llacuna del Poblenou",
         "12",
         "1.92",
         "852.08",
         "87.92",
         "92.92",
         "0.12855129385062597"
        ],
        [
         "32",
         "barcelona",
         "el Poble Sec",
         "31",
         "4.55",
         "710.06",
         "87.61",
         "49.81",
         "0.26183538023706"
        ],
        [
         "33",
         "barcelona",
         "el Poblenou",
         "15",
         "4.33",
         "723.8",
         "86.8",
         "61.2",
         "0.2352910237573022"
        ],
        [
         "35",
         "barcelona",
         "el Raval",
         "54",
         "4.07",
         "621.7",
         "87.46",
         "56.31",
         "0.23472757753908674"
        ],
        [
         "36",
         "barcelona",
         "l'Antiga Esquerra de l'Eixample",
         "44",
         "2.98",
         "714.66",
         "88.41",
         "53.84",
         "0.20767919140524765"
        ],
        [
         "37",
         "barcelona",
         "la Barceloneta",
         "11",
         "7.09",
         "924.45",
         "89.36",
         "30.73",
         "0.37663859446270354"
        ],
        [
         "39",
         "barcelona",
         "la Dreta de l'Eixample",
         "58",
         "3.67",
         "679.14",
         "87.9",
         "49.83",
         "0.24018090618426502"
        ],
        [
         "40",
         "barcelona",
         "la Font de la Guatlla",
         "6",
         "2.33",
         "942.5",
         "87.67",
         "91.83",
         "0.1396823968299176"
        ],
        [
         "45",
         "barcelona",
         "la Nova Esquerra de l'Eixample",
         "34",
         "3.24",
         "879.62",
         "84.91",
         "48.56",
         "0.2780491495783595"
        ],
        [
         "47",
         "barcelona",
         "la Sagrada Fam�lia",
         "31",
         "4.45",
         "941.77",
         "87.42",
         "57.65",
         "0.23925099794576973"
        ],
        [
         "53",
         "barcelona",
         "la Vila de Gr�cia",
         "26",
         "2.31",
         "589.27",
         "85.77",
         "69.69",
         "0.18728043394322866"
        ],
        [
         "118",
         "madrid",
         "Cortes",
         "24",
         "1.88",
         "909.96",
         "88.12",
         "90.42",
         "0.12867455225196348"
        ],
        [
         "121",
         "madrid",
         "Delicias",
         "7",
         "2.0",
         "842.43",
         "87.29",
         "46.29",
         "0.22825559034038986"
        ],
        [
         "122",
         "madrid",
         "Embajadores",
         "55",
         "2.58",
         "816.33",
         "88.31",
         "79.2",
         "0.15375476855437048"
        ],
        [
         "127",
         "madrid",
         "Guindalera",
         "6",
         "1.5",
         "629.17",
         "87.83",
         "30.33",
         "0.3020705928602014"
        ],
        [
         "132",
         "madrid",
         "Justicia",
         "21",
         "2.1",
         "788.62",
         "89.24",
         "82.86",
         "0.13194300379646282"
        ],
        [
         "141",
         "madrid",
         "Palacio",
         "29",
         "3.1",
         "795.59",
         "88.52",
         "56.93",
         "0.2008446788875698"
        ],
        [
         "144",
         "madrid",
         "Palos de Moguer",
         "12",
         "2.0",
         "850.0",
         "87.67",
         "94.92",
         "0.13009874317512926"
        ],
        [
         "156",
         "madrid",
         "San Diego",
         "10",
         "1.5",
         "794.8",
         "85.2",
         "71.7",
         "0.17262909850304187"
        ],
        [
         "159",
         "madrid",
         "Sol",
         "38",
         "4.26",
         "787.08",
         "86.63",
         "81.0",
         "0.19946103701246132"
        ],
        [
         "161",
         "madrid",
         "Universidad",
         "40",
         "3.02",
         "658.42",
         "86.35",
         "102.22",
         "0.1531209179397176"
        ]
       ],
       "shape": {
        "columns": 8,
        "rows": 33
       }
      },
      "text/html": [
       "<div>\n",
       "<style scoped>\n",
       "    .dataframe tbody tr th:only-of-type {\n",
       "        vertical-align: middle;\n",
       "    }\n",
       "\n",
       "    .dataframe tbody tr th {\n",
       "        vertical-align: top;\n",
       "    }\n",
       "\n",
       "    .dataframe thead th {\n",
       "        text-align: right;\n",
       "    }\n",
       "</style>\n",
       "<table border=\"1\" class=\"dataframe\">\n",
       "  <thead>\n",
       "    <tr style=\"text-align: right;\">\n",
       "      <th></th>\n",
       "      <th>city</th>\n",
       "      <th>neighbourhood_name</th>\n",
       "      <th>num_apartaments</th>\n",
       "      <th>minimum_nights</th>\n",
       "      <th>maximum_nights</th>\n",
       "      <th>mitjana_rating</th>\n",
       "      <th>number_of_reviews</th>\n",
       "      <th>potencial_optimizacion</th>\n",
       "    </tr>\n",
       "  </thead>\n",
       "  <tbody>\n",
       "    <tr>\n",
       "      <th>3</th>\n",
       "      <td>barcelona</td>\n",
       "      <td>Hostafrancs</td>\n",
       "      <td>12</td>\n",
       "      <td>2.17</td>\n",
       "      <td>525.83</td>\n",
       "      <td>85.58</td>\n",
       "      <td>36.75</td>\n",
       "      <td>0.310981</td>\n",
       "    </tr>\n",
       "    <tr>\n",
       "      <th>9</th>\n",
       "      <td>barcelona</td>\n",
       "      <td>Sant Antoni</td>\n",
       "      <td>37</td>\n",
       "      <td>1.84</td>\n",
       "      <td>733.11</td>\n",
       "      <td>87.22</td>\n",
       "      <td>63.89</td>\n",
       "      <td>0.174800</td>\n",
       "    </tr>\n",
       "    <tr>\n",
       "      <th>14</th>\n",
       "      <td>barcelona</td>\n",
       "      <td>Sant Pere, Santa Caterina i la Ribera</td>\n",
       "      <td>34</td>\n",
       "      <td>3.79</td>\n",
       "      <td>555.68</td>\n",
       "      <td>86.03</td>\n",
       "      <td>61.06</td>\n",
       "      <td>0.233553</td>\n",
       "    </tr>\n",
       "    <tr>\n",
       "      <th>15</th>\n",
       "      <td>barcelona</td>\n",
       "      <td>Sants</td>\n",
       "      <td>9</td>\n",
       "      <td>2.22</td>\n",
       "      <td>650.00</td>\n",
       "      <td>86.56</td>\n",
       "      <td>51.56</td>\n",
       "      <td>0.223549</td>\n",
       "    </tr>\n",
       "    <tr>\n",
       "      <th>22</th>\n",
       "      <td>barcelona</td>\n",
       "      <td>el Barri G�tic</td>\n",
       "      <td>42</td>\n",
       "      <td>2.67</td>\n",
       "      <td>822.71</td>\n",
       "      <td>87.31</td>\n",
       "      <td>75.26</td>\n",
       "      <td>0.170004</td>\n",
       "    </tr>\n",
       "    <tr>\n",
       "      <th>23</th>\n",
       "      <td>barcelona</td>\n",
       "      <td>el Bes�s i el Maresme</td>\n",
       "      <td>13</td>\n",
       "      <td>4.54</td>\n",
       "      <td>869.15</td>\n",
       "      <td>86.92</td>\n",
       "      <td>49.15</td>\n",
       "      <td>0.273487</td>\n",
       "    </tr>\n",
       "    <tr>\n",
       "      <th>24</th>\n",
       "      <td>barcelona</td>\n",
       "      <td>el Camp d'en Grassot i Gr�cia Nova</td>\n",
       "      <td>10</td>\n",
       "      <td>1.60</td>\n",
       "      <td>688.00</td>\n",
       "      <td>87.90</td>\n",
       "      <td>100.40</td>\n",
       "      <td>0.115676</td>\n",
       "    </tr>\n",
       "    <tr>\n",
       "      <th>25</th>\n",
       "      <td>barcelona</td>\n",
       "      <td>el Camp de l'Arpa del Clot</td>\n",
       "      <td>12</td>\n",
       "      <td>4.42</td>\n",
       "      <td>580.92</td>\n",
       "      <td>85.25</td>\n",
       "      <td>67.58</td>\n",
       "      <td>0.239126</td>\n",
       "    </tr>\n",
       "    <tr>\n",
       "      <th>26</th>\n",
       "      <td>barcelona</td>\n",
       "      <td>el Carmel</td>\n",
       "      <td>10</td>\n",
       "      <td>2.00</td>\n",
       "      <td>853.70</td>\n",
       "      <td>83.50</td>\n",
       "      <td>30.90</td>\n",
       "      <td>0.402186</td>\n",
       "    </tr>\n",
       "    <tr>\n",
       "      <th>27</th>\n",
       "      <td>barcelona</td>\n",
       "      <td>el Clot</td>\n",
       "      <td>6</td>\n",
       "      <td>1.83</td>\n",
       "      <td>569.17</td>\n",
       "      <td>87.17</td>\n",
       "      <td>24.67</td>\n",
       "      <td>0.386639</td>\n",
       "    </tr>\n",
       "    <tr>\n",
       "      <th>29</th>\n",
       "      <td>barcelona</td>\n",
       "      <td>el Fort Pienc</td>\n",
       "      <td>28</td>\n",
       "      <td>2.46</td>\n",
       "      <td>505.14</td>\n",
       "      <td>87.36</td>\n",
       "      <td>47.93</td>\n",
       "      <td>0.230227</td>\n",
       "    </tr>\n",
       "    <tr>\n",
       "      <th>30</th>\n",
       "      <td>barcelona</td>\n",
       "      <td>el Guinard�</td>\n",
       "      <td>6</td>\n",
       "      <td>2.00</td>\n",
       "      <td>940.00</td>\n",
       "      <td>87.83</td>\n",
       "      <td>33.67</td>\n",
       "      <td>0.285823</td>\n",
       "    </tr>\n",
       "    <tr>\n",
       "      <th>31</th>\n",
       "      <td>barcelona</td>\n",
       "      <td>el Parc i la Llacuna del Poblenou</td>\n",
       "      <td>12</td>\n",
       "      <td>1.92</td>\n",
       "      <td>852.08</td>\n",
       "      <td>87.92</td>\n",
       "      <td>92.92</td>\n",
       "      <td>0.128551</td>\n",
       "    </tr>\n",
       "    <tr>\n",
       "      <th>32</th>\n",
       "      <td>barcelona</td>\n",
       "      <td>el Poble Sec</td>\n",
       "      <td>31</td>\n",
       "      <td>4.55</td>\n",
       "      <td>710.06</td>\n",
       "      <td>87.61</td>\n",
       "      <td>49.81</td>\n",
       "      <td>0.261835</td>\n",
       "    </tr>\n",
       "    <tr>\n",
       "      <th>33</th>\n",
       "      <td>barcelona</td>\n",
       "      <td>el Poblenou</td>\n",
       "      <td>15</td>\n",
       "      <td>4.33</td>\n",
       "      <td>723.80</td>\n",
       "      <td>86.80</td>\n",
       "      <td>61.20</td>\n",
       "      <td>0.235291</td>\n",
       "    </tr>\n",
       "    <tr>\n",
       "      <th>35</th>\n",
       "      <td>barcelona</td>\n",
       "      <td>el Raval</td>\n",
       "      <td>54</td>\n",
       "      <td>4.07</td>\n",
       "      <td>621.70</td>\n",
       "      <td>87.46</td>\n",
       "      <td>56.31</td>\n",
       "      <td>0.234728</td>\n",
       "    </tr>\n",
       "    <tr>\n",
       "      <th>36</th>\n",
       "      <td>barcelona</td>\n",
       "      <td>l'Antiga Esquerra de l'Eixample</td>\n",
       "      <td>44</td>\n",
       "      <td>2.98</td>\n",
       "      <td>714.66</td>\n",
       "      <td>88.41</td>\n",
       "      <td>53.84</td>\n",
       "      <td>0.207679</td>\n",
       "    </tr>\n",
       "    <tr>\n",
       "      <th>37</th>\n",
       "      <td>barcelona</td>\n",
       "      <td>la Barceloneta</td>\n",
       "      <td>11</td>\n",
       "      <td>7.09</td>\n",
       "      <td>924.45</td>\n",
       "      <td>89.36</td>\n",
       "      <td>30.73</td>\n",
       "      <td>0.376639</td>\n",
       "    </tr>\n",
       "    <tr>\n",
       "      <th>39</th>\n",
       "      <td>barcelona</td>\n",
       "      <td>la Dreta de l'Eixample</td>\n",
       "      <td>58</td>\n",
       "      <td>3.67</td>\n",
       "      <td>679.14</td>\n",
       "      <td>87.90</td>\n",
       "      <td>49.83</td>\n",
       "      <td>0.240181</td>\n",
       "    </tr>\n",
       "    <tr>\n",
       "      <th>40</th>\n",
       "      <td>barcelona</td>\n",
       "      <td>la Font de la Guatlla</td>\n",
       "      <td>6</td>\n",
       "      <td>2.33</td>\n",
       "      <td>942.50</td>\n",
       "      <td>87.67</td>\n",
       "      <td>91.83</td>\n",
       "      <td>0.139682</td>\n",
       "    </tr>\n",
       "    <tr>\n",
       "      <th>45</th>\n",
       "      <td>barcelona</td>\n",
       "      <td>la Nova Esquerra de l'Eixample</td>\n",
       "      <td>34</td>\n",
       "      <td>3.24</td>\n",
       "      <td>879.62</td>\n",
       "      <td>84.91</td>\n",
       "      <td>48.56</td>\n",
       "      <td>0.278049</td>\n",
       "    </tr>\n",
       "    <tr>\n",
       "      <th>47</th>\n",
       "      <td>barcelona</td>\n",
       "      <td>la Sagrada Fam�lia</td>\n",
       "      <td>31</td>\n",
       "      <td>4.45</td>\n",
       "      <td>941.77</td>\n",
       "      <td>87.42</td>\n",
       "      <td>57.65</td>\n",
       "      <td>0.239251</td>\n",
       "    </tr>\n",
       "    <tr>\n",
       "      <th>53</th>\n",
       "      <td>barcelona</td>\n",
       "      <td>la Vila de Gr�cia</td>\n",
       "      <td>26</td>\n",
       "      <td>2.31</td>\n",
       "      <td>589.27</td>\n",
       "      <td>85.77</td>\n",
       "      <td>69.69</td>\n",
       "      <td>0.187280</td>\n",
       "    </tr>\n",
       "    <tr>\n",
       "      <th>118</th>\n",
       "      <td>madrid</td>\n",
       "      <td>Cortes</td>\n",
       "      <td>24</td>\n",
       "      <td>1.88</td>\n",
       "      <td>909.96</td>\n",
       "      <td>88.12</td>\n",
       "      <td>90.42</td>\n",
       "      <td>0.128675</td>\n",
       "    </tr>\n",
       "    <tr>\n",
       "      <th>121</th>\n",
       "      <td>madrid</td>\n",
       "      <td>Delicias</td>\n",
       "      <td>7</td>\n",
       "      <td>2.00</td>\n",
       "      <td>842.43</td>\n",
       "      <td>87.29</td>\n",
       "      <td>46.29</td>\n",
       "      <td>0.228256</td>\n",
       "    </tr>\n",
       "    <tr>\n",
       "      <th>122</th>\n",
       "      <td>madrid</td>\n",
       "      <td>Embajadores</td>\n",
       "      <td>55</td>\n",
       "      <td>2.58</td>\n",
       "      <td>816.33</td>\n",
       "      <td>88.31</td>\n",
       "      <td>79.20</td>\n",
       "      <td>0.153755</td>\n",
       "    </tr>\n",
       "    <tr>\n",
       "      <th>127</th>\n",
       "      <td>madrid</td>\n",
       "      <td>Guindalera</td>\n",
       "      <td>6</td>\n",
       "      <td>1.50</td>\n",
       "      <td>629.17</td>\n",
       "      <td>87.83</td>\n",
       "      <td>30.33</td>\n",
       "      <td>0.302071</td>\n",
       "    </tr>\n",
       "    <tr>\n",
       "      <th>132</th>\n",
       "      <td>madrid</td>\n",
       "      <td>Justicia</td>\n",
       "      <td>21</td>\n",
       "      <td>2.10</td>\n",
       "      <td>788.62</td>\n",
       "      <td>89.24</td>\n",
       "      <td>82.86</td>\n",
       "      <td>0.131943</td>\n",
       "    </tr>\n",
       "    <tr>\n",
       "      <th>141</th>\n",
       "      <td>madrid</td>\n",
       "      <td>Palacio</td>\n",
       "      <td>29</td>\n",
       "      <td>3.10</td>\n",
       "      <td>795.59</td>\n",
       "      <td>88.52</td>\n",
       "      <td>56.93</td>\n",
       "      <td>0.200845</td>\n",
       "    </tr>\n",
       "    <tr>\n",
       "      <th>144</th>\n",
       "      <td>madrid</td>\n",
       "      <td>Palos de Moguer</td>\n",
       "      <td>12</td>\n",
       "      <td>2.00</td>\n",
       "      <td>850.00</td>\n",
       "      <td>87.67</td>\n",
       "      <td>94.92</td>\n",
       "      <td>0.130099</td>\n",
       "    </tr>\n",
       "    <tr>\n",
       "      <th>156</th>\n",
       "      <td>madrid</td>\n",
       "      <td>San Diego</td>\n",
       "      <td>10</td>\n",
       "      <td>1.50</td>\n",
       "      <td>794.80</td>\n",
       "      <td>85.20</td>\n",
       "      <td>71.70</td>\n",
       "      <td>0.172629</td>\n",
       "    </tr>\n",
       "    <tr>\n",
       "      <th>159</th>\n",
       "      <td>madrid</td>\n",
       "      <td>Sol</td>\n",
       "      <td>38</td>\n",
       "      <td>4.26</td>\n",
       "      <td>787.08</td>\n",
       "      <td>86.63</td>\n",
       "      <td>81.00</td>\n",
       "      <td>0.199461</td>\n",
       "    </tr>\n",
       "    <tr>\n",
       "      <th>161</th>\n",
       "      <td>madrid</td>\n",
       "      <td>Universidad</td>\n",
       "      <td>40</td>\n",
       "      <td>3.02</td>\n",
       "      <td>658.42</td>\n",
       "      <td>86.35</td>\n",
       "      <td>102.22</td>\n",
       "      <td>0.153121</td>\n",
       "    </tr>\n",
       "  </tbody>\n",
       "</table>\n",
       "</div>"
      ],
      "text/plain": [
       "          city                     neighbourhood_name  num_apartaments  \\\n",
       "3    barcelona                            Hostafrancs               12   \n",
       "9    barcelona                            Sant Antoni               37   \n",
       "14   barcelona  Sant Pere, Santa Caterina i la Ribera               34   \n",
       "15   barcelona                                  Sants                9   \n",
       "22   barcelona                         el Barri G�tic               42   \n",
       "23   barcelona                  el Bes�s i el Maresme               13   \n",
       "24   barcelona     el Camp d'en Grassot i Gr�cia Nova               10   \n",
       "25   barcelona             el Camp de l'Arpa del Clot               12   \n",
       "26   barcelona                              el Carmel               10   \n",
       "27   barcelona                                el Clot                6   \n",
       "29   barcelona                          el Fort Pienc               28   \n",
       "30   barcelona                            el Guinard�                6   \n",
       "31   barcelona      el Parc i la Llacuna del Poblenou               12   \n",
       "32   barcelona                           el Poble Sec               31   \n",
       "33   barcelona                            el Poblenou               15   \n",
       "35   barcelona                               el Raval               54   \n",
       "36   barcelona        l'Antiga Esquerra de l'Eixample               44   \n",
       "37   barcelona                         la Barceloneta               11   \n",
       "39   barcelona                 la Dreta de l'Eixample               58   \n",
       "40   barcelona                  la Font de la Guatlla                6   \n",
       "45   barcelona         la Nova Esquerra de l'Eixample               34   \n",
       "47   barcelona                     la Sagrada Fam�lia               31   \n",
       "53   barcelona                      la Vila de Gr�cia               26   \n",
       "118     madrid                                 Cortes               24   \n",
       "121     madrid                               Delicias                7   \n",
       "122     madrid                            Embajadores               55   \n",
       "127     madrid                             Guindalera                6   \n",
       "132     madrid                               Justicia               21   \n",
       "141     madrid                                Palacio               29   \n",
       "144     madrid                        Palos de Moguer               12   \n",
       "156     madrid                              San Diego               10   \n",
       "159     madrid                                    Sol               38   \n",
       "161     madrid                            Universidad               40   \n",
       "\n",
       "     minimum_nights  maximum_nights  mitjana_rating  number_of_reviews  \\\n",
       "3              2.17          525.83           85.58              36.75   \n",
       "9              1.84          733.11           87.22              63.89   \n",
       "14             3.79          555.68           86.03              61.06   \n",
       "15             2.22          650.00           86.56              51.56   \n",
       "22             2.67          822.71           87.31              75.26   \n",
       "23             4.54          869.15           86.92              49.15   \n",
       "24             1.60          688.00           87.90             100.40   \n",
       "25             4.42          580.92           85.25              67.58   \n",
       "26             2.00          853.70           83.50              30.90   \n",
       "27             1.83          569.17           87.17              24.67   \n",
       "29             2.46          505.14           87.36              47.93   \n",
       "30             2.00          940.00           87.83              33.67   \n",
       "31             1.92          852.08           87.92              92.92   \n",
       "32             4.55          710.06           87.61              49.81   \n",
       "33             4.33          723.80           86.80              61.20   \n",
       "35             4.07          621.70           87.46              56.31   \n",
       "36             2.98          714.66           88.41              53.84   \n",
       "37             7.09          924.45           89.36              30.73   \n",
       "39             3.67          679.14           87.90              49.83   \n",
       "40             2.33          942.50           87.67              91.83   \n",
       "45             3.24          879.62           84.91              48.56   \n",
       "47             4.45          941.77           87.42              57.65   \n",
       "53             2.31          589.27           85.77              69.69   \n",
       "118            1.88          909.96           88.12              90.42   \n",
       "121            2.00          842.43           87.29              46.29   \n",
       "122            2.58          816.33           88.31              79.20   \n",
       "127            1.50          629.17           87.83              30.33   \n",
       "132            2.10          788.62           89.24              82.86   \n",
       "141            3.10          795.59           88.52              56.93   \n",
       "144            2.00          850.00           87.67              94.92   \n",
       "156            1.50          794.80           85.20              71.70   \n",
       "159            4.26          787.08           86.63              81.00   \n",
       "161            3.02          658.42           86.35             102.22   \n",
       "\n",
       "     potencial_optimizacion  \n",
       "3                  0.310981  \n",
       "9                  0.174800  \n",
       "14                 0.233553  \n",
       "15                 0.223549  \n",
       "22                 0.170004  \n",
       "23                 0.273487  \n",
       "24                 0.115676  \n",
       "25                 0.239126  \n",
       "26                 0.402186  \n",
       "27                 0.386639  \n",
       "29                 0.230227  \n",
       "30                 0.285823  \n",
       "31                 0.128551  \n",
       "32                 0.261835  \n",
       "33                 0.235291  \n",
       "35                 0.234728  \n",
       "36                 0.207679  \n",
       "37                 0.376639  \n",
       "39                 0.240181  \n",
       "40                 0.139682  \n",
       "45                 0.278049  \n",
       "47                 0.239251  \n",
       "53                 0.187280  \n",
       "118                0.128675  \n",
       "121                0.228256  \n",
       "122                0.153755  \n",
       "127                0.302071  \n",
       "132                0.131943  \n",
       "141                0.200845  \n",
       "144                0.130099  \n",
       "156                0.172629  \n",
       "159                0.199461  \n",
       "161                0.153121  "
      ]
     },
     "execution_count": 11,
     "metadata": {},
     "output_type": "execute_result"
    }
   ],
   "source": [
    "recompte[\"potencial_optimizacion\"] = (\n",
    "    #(1 / recompte['mitjana_rating'] + 1) * 0.3 +\n",
    "    #( (100 - recompte['mitjana_rating'] )) * 1 \n",
    "    #(1 / (recompte['number_of_reviews'] + 1)) * 1\n",
    "    (1 / (recompte[\"maximum_nights\"] + 1)) * 0.1 +    # pocas reviews → potencial latente\n",
    "    ((recompte[\"minimum_nights\"] /10 )) * 0.2 +\n",
    "    #(1 / (recompte[\"num_apartaments\"] + 1)) * 0.1\n",
    "    ((100 - recompte['mitjana_rating']) * (1 / (recompte['number_of_reviews'] + 1))) * 0.7\n",
    ") \n",
    "\n",
    "#recompte\n",
    "altres = recompte[recompte[\"city\"].isin([\"girona\", \"valencia\", \"malaga\", \"menorca\", \"mallorca\", \"sevilla\"])]\n",
    "altres\n",
    "#bcn = recompte[recompte[\"city\"] == \"barcelona\"].sort_values(\"potencial_optimizacion\", ascending=False)\n",
    "#bcn\n",
    "pont_aeri = recompte[(recompte[\"city\"] == \"barcelona\") | (recompte[\"city\"] == \"madrid\")]\n",
    "pont_aeri"
   ]
  },
  {
   "cell_type": "markdown",
   "id": "1408cddf",
   "metadata": {},
   "source": [
    "grouped['potencial_optimitzacio'] = (\n",
    "    (10 - grouped['review_scores_rating']/10) * 0.33 +\n",
    "    (10 - grouped['number_of_reviews']/10) * 0.33 +\n",
    "    (grouped['availability_365']/365) * 0.33\n",
    ")\n"
   ]
  },
  {
   "cell_type": "code",
   "execution_count": 25,
   "id": "8ac2d764",
   "metadata": {
    "collapsed": true,
    "jupyter": {
     "outputs_hidden": true
    }
   },
   "outputs": [
    {
     "data": {
      "application/vnd.microsoft.datawrangler.viewer.v0+json": {
       "columns": [
        {
         "name": "index",
         "rawType": "int64",
         "type": "integer"
        },
        {
         "name": "city",
         "rawType": "object",
         "type": "string"
        },
        {
         "name": "neighbourhood_name",
         "rawType": "object",
         "type": "string"
        },
        {
         "name": "num_apartaments",
         "rawType": "int64",
         "type": "integer"
        },
        {
         "name": "minimum_nights",
         "rawType": "float64",
         "type": "float"
        },
        {
         "name": "maximum_nights",
         "rawType": "float64",
         "type": "float"
        },
        {
         "name": "mitjana_rating",
         "rawType": "float64",
         "type": "float"
        },
        {
         "name": "number_of_reviews",
         "rawType": "float64",
         "type": "float"
        },
        {
         "name": "potencial_optimizacion",
         "rawType": "float64",
         "type": "float"
        }
       ],
       "ref": "6efa8ee3-1695-4b25-b2e2-08acdb74a766",
       "rows": [
        [
         "247",
         "valencia",
         "EL MERCAT",
         "9",
         "10.78",
         "886.56",
         "86.11",
         "45.0",
         "0.42708223365670805"
        ],
        [
         "26",
         "barcelona",
         "el Carmel",
         "10",
         "2.0",
         "853.7",
         "83.5",
         "30.9",
         "0.4021859656342415"
        ],
        [
         "200",
         "menorca",
         "Ciutadella de Menorca",
         "14",
         "3.93",
         "669.57",
         "88.0",
         "25.5",
         "0.39573025893769337"
        ],
        [
         "27",
         "barcelona",
         "el Clot",
         "6",
         "1.83",
         "569.17",
         "87.17",
         "24.67",
         "0.3866390403591997"
        ],
        [
         "85",
         "girona",
         "Roses",
         "14",
         "2.14",
         "521.64",
         "85.29",
         "29.71",
         "0.37828928484362845"
        ],
        [
         "37",
         "barcelona",
         "la Barceloneta",
         "11",
         "7.09",
         "924.45",
         "89.36",
         "30.73",
         "0.37663859446270354"
        ],
        [
         "96",
         "girona",
         "Tossa de Mar",
         "9",
         "2.33",
         "769.89",
         "88.89",
         "25.44",
         "0.3408673903902142"
        ],
        [
         "176",
         "mallorca",
         "Alc�dia",
         "10",
         "3.7",
         "439.4",
         "89.7",
         "28.3",
         "0.32030215162759257"
        ],
        [
         "65",
         "girona",
         "Castell� d'Emp�ries",
         "7",
         "2.29",
         "669.57",
         "89.86",
         "25.14",
         "0.31748699985380546"
        ],
        [
         "75",
         "girona",
         "Lloret de Mar",
         "7",
         "1.43",
         "965.29",
         "87.86",
         "28.57",
         "0.31608935265213406"
        ],
        [
         "3",
         "barcelona",
         "Hostafrancs",
         "12",
         "2.17",
         "525.83",
         "85.58",
         "36.75",
         "0.3109805430280047"
        ],
        [
         "127",
         "madrid",
         "Guindalera",
         "6",
         "1.5",
         "629.17",
         "87.83",
         "30.33",
         "0.3020705928602014"
        ],
        [
         "30",
         "barcelona",
         "el Guinard�",
         "6",
         "2.0",
         "940.0",
         "87.83",
         "33.67",
         "0.28582302792964914"
        ],
        [
         "62",
         "girona",
         "Cadaqu�s",
         "7",
         "2.43",
         "820.43",
         "86.57",
         "39.43",
         "0.2812470913797588"
        ],
        [
         "45",
         "barcelona",
         "la Nova Esquerra de l'Eixample",
         "34",
         "3.24",
         "879.62",
         "84.91",
         "48.56",
         "0.2780491495783595"
        ],
        [
         "23",
         "barcelona",
         "el Bes�s i el Maresme",
         "13",
         "4.54",
         "869.15",
         "86.92",
         "49.15",
         "0.27348720586502284"
        ],
        [
         "266",
         "valencia",
         "RUSSAFA",
         "8",
         "2.12",
         "850.88",
         "88.12",
         "36.88",
         "0.2620527622934631"
        ],
        [
         "32",
         "barcelona",
         "el Poble Sec",
         "31",
         "4.55",
         "710.06",
         "87.61",
         "49.81",
         "0.26183538023706"
        ],
        [
         "173",
         "malaga",
         "Este",
         "7",
         "1.86",
         "977.14",
         "89.43",
         "34.86",
         "0.24363240774849637"
        ],
        [
         "39",
         "barcelona",
         "la Dreta de l'Eixample",
         "58",
         "3.67",
         "679.14",
         "87.9",
         "49.83",
         "0.24018090618426502"
        ],
        [
         "47",
         "barcelona",
         "la Sagrada Fam�lia",
         "31",
         "4.45",
         "941.77",
         "87.42",
         "57.65",
         "0.23925099794576973"
        ],
        [
         "25",
         "barcelona",
         "el Camp de l'Arpa del Clot",
         "12",
         "4.42",
         "580.92",
         "85.25",
         "67.58",
         "0.23912594233162887"
        ],
        [
         "238",
         "valencia",
         "CABANYAL-CANYAMELAR",
         "8",
         "6.12",
         "983.75",
         "90.0",
         "60.38",
         "0.2365452110471593"
        ],
        [
         "33",
         "barcelona",
         "el Poblenou",
         "15",
         "4.33",
         "723.8",
         "86.8",
         "61.2",
         "0.2352910237573022"
        ],
        [
         "35",
         "barcelona",
         "el Raval",
         "54",
         "4.07",
         "621.7",
         "87.46",
         "56.31",
         "0.23472757753908674"
        ],
        [
         "14",
         "barcelona",
         "Sant Pere, Santa Caterina i la Ribera",
         "34",
         "3.79",
         "555.68",
         "86.03",
         "61.06",
         "0.23355295256155967"
        ],
        [
         "211",
         "sevilla",
         "Feria",
         "8",
         "2.12",
         "687.25",
         "87.75",
         "44.12",
         "0.23259405490593116"
        ],
        [
         "29",
         "barcelona",
         "el Fort Pienc",
         "28",
         "2.46",
         "505.14",
         "87.36",
         "47.93",
         "0.23022733058923403"
        ],
        [
         "121",
         "madrid",
         "Delicias",
         "7",
         "2.0",
         "842.43",
         "87.29",
         "46.29",
         "0.22825559034038986"
        ],
        [
         "15",
         "barcelona",
         "Sants",
         "9",
         "2.22",
         "650.0",
         "86.56",
         "51.56",
         "0.2235490436209835"
        ],
        [
         "70",
         "girona",
         "Girona",
         "12",
         "1.5",
         "969.58",
         "87.83",
         "44.92",
         "0.21562132386016106"
        ],
        [
         "36",
         "barcelona",
         "l'Antiga Esquerra de l'Eixample",
         "44",
         "2.98",
         "714.66",
         "88.41",
         "53.84",
         "0.20767919140524765"
        ],
        [
         "189",
         "mallorca",
         "Palma de Mallorca",
         "47",
         "2.55",
         "799.79",
         "87.62",
         "54.45",
         "0.20740981807291262"
        ],
        [
         "141",
         "madrid",
         "Palacio",
         "29",
         "3.1",
         "795.59",
         "88.52",
         "56.93",
         "0.2008446788875698"
        ],
        [
         "159",
         "madrid",
         "Sol",
         "38",
         "4.26",
         "787.08",
         "86.63",
         "81.0",
         "0.19946103701246132"
        ],
        [
         "255",
         "valencia",
         "LA MALVA-ROSA",
         "8",
         "1.75",
         "724.5",
         "88.88",
         "49.0",
         "0.1908178359751896"
        ],
        [
         "53",
         "barcelona",
         "la Vila de Gr�cia",
         "26",
         "2.31",
         "589.27",
         "85.77",
         "69.69",
         "0.18728043394322866"
        ],
        [
         "205",
         "sevilla",
         "Alfalfa",
         "9",
         "1.67",
         "1000.33",
         "89.22",
         "49.78",
         "0.18210167891355936"
        ],
        [
         "9",
         "barcelona",
         "Sant Antoni",
         "37",
         "1.84",
         "733.11",
         "87.22",
         "63.89",
         "0.1748002970375726"
        ],
        [
         "156",
         "madrid",
         "San Diego",
         "10",
         "1.5",
         "794.8",
         "85.2",
         "71.7",
         "0.17262909850304187"
        ],
        [
         "22",
         "barcelona",
         "el Barri G�tic",
         "42",
         "2.67",
         "822.71",
         "87.31",
         "75.26",
         "0.17000448613539584"
        ],
        [
         "169",
         "malaga",
         "Carretera de Cadiz",
         "10",
         "4.9",
         "610.5",
         "88.3",
         "129.9",
         "0.1607303772174149"
        ],
        [
         "122",
         "madrid",
         "Embajadores",
         "55",
         "2.58",
         "816.33",
         "88.31",
         "79.2",
         "0.15375476855437048"
        ],
        [
         "161",
         "madrid",
         "Universidad",
         "40",
         "3.02",
         "658.42",
         "86.35",
         "102.22",
         "0.1531209179397176"
        ],
        [
         "170",
         "malaga",
         "Centro",
         "64",
         "1.67",
         "831.5",
         "88.47",
         "66.89",
         "0.15240360811540662"
        ],
        [
         "219",
         "sevilla",
         "San Bartolom�",
         "7",
         "2.0",
         "993.86",
         "89.0",
         "69.0",
         "0.15010051665560983"
        ],
        [
         "40",
         "barcelona",
         "la Font de la Guatlla",
         "6",
         "2.33",
         "942.5",
         "87.67",
         "91.83",
         "0.1396823968299176"
        ],
        [
         "132",
         "madrid",
         "Justicia",
         "21",
         "2.1",
         "788.62",
         "89.24",
         "82.86",
         "0.13194300379646282"
        ],
        [
         "144",
         "madrid",
         "Palos de Moguer",
         "12",
         "2.0",
         "850.0",
         "87.67",
         "94.92",
         "0.13009874317512926"
        ],
        [
         "118",
         "madrid",
         "Cortes",
         "24",
         "1.88",
         "909.96",
         "88.12",
         "90.42",
         "0.12867455225196348"
        ]
       ],
       "shape": {
        "columns": 8,
        "rows": 54
       }
      },
      "text/html": [
       "<div>\n",
       "<style scoped>\n",
       "    .dataframe tbody tr th:only-of-type {\n",
       "        vertical-align: middle;\n",
       "    }\n",
       "\n",
       "    .dataframe tbody tr th {\n",
       "        vertical-align: top;\n",
       "    }\n",
       "\n",
       "    .dataframe thead th {\n",
       "        text-align: right;\n",
       "    }\n",
       "</style>\n",
       "<table border=\"1\" class=\"dataframe\">\n",
       "  <thead>\n",
       "    <tr style=\"text-align: right;\">\n",
       "      <th></th>\n",
       "      <th>city</th>\n",
       "      <th>neighbourhood_name</th>\n",
       "      <th>num_apartaments</th>\n",
       "      <th>minimum_nights</th>\n",
       "      <th>maximum_nights</th>\n",
       "      <th>mitjana_rating</th>\n",
       "      <th>number_of_reviews</th>\n",
       "      <th>potencial_optimizacion</th>\n",
       "    </tr>\n",
       "  </thead>\n",
       "  <tbody>\n",
       "    <tr>\n",
       "      <th>247</th>\n",
       "      <td>valencia</td>\n",
       "      <td>EL MERCAT</td>\n",
       "      <td>9</td>\n",
       "      <td>10.78</td>\n",
       "      <td>886.56</td>\n",
       "      <td>86.11</td>\n",
       "      <td>45.00</td>\n",
       "      <td>0.427082</td>\n",
       "    </tr>\n",
       "    <tr>\n",
       "      <th>26</th>\n",
       "      <td>barcelona</td>\n",
       "      <td>el Carmel</td>\n",
       "      <td>10</td>\n",
       "      <td>2.00</td>\n",
       "      <td>853.70</td>\n",
       "      <td>83.50</td>\n",
       "      <td>30.90</td>\n",
       "      <td>0.402186</td>\n",
       "    </tr>\n",
       "    <tr>\n",
       "      <th>200</th>\n",
       "      <td>menorca</td>\n",
       "      <td>Ciutadella de Menorca</td>\n",
       "      <td>14</td>\n",
       "      <td>3.93</td>\n",
       "      <td>669.57</td>\n",
       "      <td>88.00</td>\n",
       "      <td>25.50</td>\n",
       "      <td>0.395730</td>\n",
       "    </tr>\n",
       "    <tr>\n",
       "      <th>27</th>\n",
       "      <td>barcelona</td>\n",
       "      <td>el Clot</td>\n",
       "      <td>6</td>\n",
       "      <td>1.83</td>\n",
       "      <td>569.17</td>\n",
       "      <td>87.17</td>\n",
       "      <td>24.67</td>\n",
       "      <td>0.386639</td>\n",
       "    </tr>\n",
       "    <tr>\n",
       "      <th>85</th>\n",
       "      <td>girona</td>\n",
       "      <td>Roses</td>\n",
       "      <td>14</td>\n",
       "      <td>2.14</td>\n",
       "      <td>521.64</td>\n",
       "      <td>85.29</td>\n",
       "      <td>29.71</td>\n",
       "      <td>0.378289</td>\n",
       "    </tr>\n",
       "    <tr>\n",
       "      <th>37</th>\n",
       "      <td>barcelona</td>\n",
       "      <td>la Barceloneta</td>\n",
       "      <td>11</td>\n",
       "      <td>7.09</td>\n",
       "      <td>924.45</td>\n",
       "      <td>89.36</td>\n",
       "      <td>30.73</td>\n",
       "      <td>0.376639</td>\n",
       "    </tr>\n",
       "    <tr>\n",
       "      <th>96</th>\n",
       "      <td>girona</td>\n",
       "      <td>Tossa de Mar</td>\n",
       "      <td>9</td>\n",
       "      <td>2.33</td>\n",
       "      <td>769.89</td>\n",
       "      <td>88.89</td>\n",
       "      <td>25.44</td>\n",
       "      <td>0.340867</td>\n",
       "    </tr>\n",
       "    <tr>\n",
       "      <th>176</th>\n",
       "      <td>mallorca</td>\n",
       "      <td>Alc�dia</td>\n",
       "      <td>10</td>\n",
       "      <td>3.70</td>\n",
       "      <td>439.40</td>\n",
       "      <td>89.70</td>\n",
       "      <td>28.30</td>\n",
       "      <td>0.320302</td>\n",
       "    </tr>\n",
       "    <tr>\n",
       "      <th>65</th>\n",
       "      <td>girona</td>\n",
       "      <td>Castell� d'Emp�ries</td>\n",
       "      <td>7</td>\n",
       "      <td>2.29</td>\n",
       "      <td>669.57</td>\n",
       "      <td>89.86</td>\n",
       "      <td>25.14</td>\n",
       "      <td>0.317487</td>\n",
       "    </tr>\n",
       "    <tr>\n",
       "      <th>75</th>\n",
       "      <td>girona</td>\n",
       "      <td>Lloret de Mar</td>\n",
       "      <td>7</td>\n",
       "      <td>1.43</td>\n",
       "      <td>965.29</td>\n",
       "      <td>87.86</td>\n",
       "      <td>28.57</td>\n",
       "      <td>0.316089</td>\n",
       "    </tr>\n",
       "    <tr>\n",
       "      <th>3</th>\n",
       "      <td>barcelona</td>\n",
       "      <td>Hostafrancs</td>\n",
       "      <td>12</td>\n",
       "      <td>2.17</td>\n",
       "      <td>525.83</td>\n",
       "      <td>85.58</td>\n",
       "      <td>36.75</td>\n",
       "      <td>0.310981</td>\n",
       "    </tr>\n",
       "    <tr>\n",
       "      <th>127</th>\n",
       "      <td>madrid</td>\n",
       "      <td>Guindalera</td>\n",
       "      <td>6</td>\n",
       "      <td>1.50</td>\n",
       "      <td>629.17</td>\n",
       "      <td>87.83</td>\n",
       "      <td>30.33</td>\n",
       "      <td>0.302071</td>\n",
       "    </tr>\n",
       "    <tr>\n",
       "      <th>30</th>\n",
       "      <td>barcelona</td>\n",
       "      <td>el Guinard�</td>\n",
       "      <td>6</td>\n",
       "      <td>2.00</td>\n",
       "      <td>940.00</td>\n",
       "      <td>87.83</td>\n",
       "      <td>33.67</td>\n",
       "      <td>0.285823</td>\n",
       "    </tr>\n",
       "    <tr>\n",
       "      <th>62</th>\n",
       "      <td>girona</td>\n",
       "      <td>Cadaqu�s</td>\n",
       "      <td>7</td>\n",
       "      <td>2.43</td>\n",
       "      <td>820.43</td>\n",
       "      <td>86.57</td>\n",
       "      <td>39.43</td>\n",
       "      <td>0.281247</td>\n",
       "    </tr>\n",
       "    <tr>\n",
       "      <th>45</th>\n",
       "      <td>barcelona</td>\n",
       "      <td>la Nova Esquerra de l'Eixample</td>\n",
       "      <td>34</td>\n",
       "      <td>3.24</td>\n",
       "      <td>879.62</td>\n",
       "      <td>84.91</td>\n",
       "      <td>48.56</td>\n",
       "      <td>0.278049</td>\n",
       "    </tr>\n",
       "    <tr>\n",
       "      <th>23</th>\n",
       "      <td>barcelona</td>\n",
       "      <td>el Bes�s i el Maresme</td>\n",
       "      <td>13</td>\n",
       "      <td>4.54</td>\n",
       "      <td>869.15</td>\n",
       "      <td>86.92</td>\n",
       "      <td>49.15</td>\n",
       "      <td>0.273487</td>\n",
       "    </tr>\n",
       "    <tr>\n",
       "      <th>266</th>\n",
       "      <td>valencia</td>\n",
       "      <td>RUSSAFA</td>\n",
       "      <td>8</td>\n",
       "      <td>2.12</td>\n",
       "      <td>850.88</td>\n",
       "      <td>88.12</td>\n",
       "      <td>36.88</td>\n",
       "      <td>0.262053</td>\n",
       "    </tr>\n",
       "    <tr>\n",
       "      <th>32</th>\n",
       "      <td>barcelona</td>\n",
       "      <td>el Poble Sec</td>\n",
       "      <td>31</td>\n",
       "      <td>4.55</td>\n",
       "      <td>710.06</td>\n",
       "      <td>87.61</td>\n",
       "      <td>49.81</td>\n",
       "      <td>0.261835</td>\n",
       "    </tr>\n",
       "    <tr>\n",
       "      <th>173</th>\n",
       "      <td>malaga</td>\n",
       "      <td>Este</td>\n",
       "      <td>7</td>\n",
       "      <td>1.86</td>\n",
       "      <td>977.14</td>\n",
       "      <td>89.43</td>\n",
       "      <td>34.86</td>\n",
       "      <td>0.243632</td>\n",
       "    </tr>\n",
       "    <tr>\n",
       "      <th>39</th>\n",
       "      <td>barcelona</td>\n",
       "      <td>la Dreta de l'Eixample</td>\n",
       "      <td>58</td>\n",
       "      <td>3.67</td>\n",
       "      <td>679.14</td>\n",
       "      <td>87.90</td>\n",
       "      <td>49.83</td>\n",
       "      <td>0.240181</td>\n",
       "    </tr>\n",
       "    <tr>\n",
       "      <th>47</th>\n",
       "      <td>barcelona</td>\n",
       "      <td>la Sagrada Fam�lia</td>\n",
       "      <td>31</td>\n",
       "      <td>4.45</td>\n",
       "      <td>941.77</td>\n",
       "      <td>87.42</td>\n",
       "      <td>57.65</td>\n",
       "      <td>0.239251</td>\n",
       "    </tr>\n",
       "    <tr>\n",
       "      <th>25</th>\n",
       "      <td>barcelona</td>\n",
       "      <td>el Camp de l'Arpa del Clot</td>\n",
       "      <td>12</td>\n",
       "      <td>4.42</td>\n",
       "      <td>580.92</td>\n",
       "      <td>85.25</td>\n",
       "      <td>67.58</td>\n",
       "      <td>0.239126</td>\n",
       "    </tr>\n",
       "    <tr>\n",
       "      <th>238</th>\n",
       "      <td>valencia</td>\n",
       "      <td>CABANYAL-CANYAMELAR</td>\n",
       "      <td>8</td>\n",
       "      <td>6.12</td>\n",
       "      <td>983.75</td>\n",
       "      <td>90.00</td>\n",
       "      <td>60.38</td>\n",
       "      <td>0.236545</td>\n",
       "    </tr>\n",
       "    <tr>\n",
       "      <th>33</th>\n",
       "      <td>barcelona</td>\n",
       "      <td>el Poblenou</td>\n",
       "      <td>15</td>\n",
       "      <td>4.33</td>\n",
       "      <td>723.80</td>\n",
       "      <td>86.80</td>\n",
       "      <td>61.20</td>\n",
       "      <td>0.235291</td>\n",
       "    </tr>\n",
       "    <tr>\n",
       "      <th>35</th>\n",
       "      <td>barcelona</td>\n",
       "      <td>el Raval</td>\n",
       "      <td>54</td>\n",
       "      <td>4.07</td>\n",
       "      <td>621.70</td>\n",
       "      <td>87.46</td>\n",
       "      <td>56.31</td>\n",
       "      <td>0.234728</td>\n",
       "    </tr>\n",
       "    <tr>\n",
       "      <th>14</th>\n",
       "      <td>barcelona</td>\n",
       "      <td>Sant Pere, Santa Caterina i la Ribera</td>\n",
       "      <td>34</td>\n",
       "      <td>3.79</td>\n",
       "      <td>555.68</td>\n",
       "      <td>86.03</td>\n",
       "      <td>61.06</td>\n",
       "      <td>0.233553</td>\n",
       "    </tr>\n",
       "    <tr>\n",
       "      <th>211</th>\n",
       "      <td>sevilla</td>\n",
       "      <td>Feria</td>\n",
       "      <td>8</td>\n",
       "      <td>2.12</td>\n",
       "      <td>687.25</td>\n",
       "      <td>87.75</td>\n",
       "      <td>44.12</td>\n",
       "      <td>0.232594</td>\n",
       "    </tr>\n",
       "    <tr>\n",
       "      <th>29</th>\n",
       "      <td>barcelona</td>\n",
       "      <td>el Fort Pienc</td>\n",
       "      <td>28</td>\n",
       "      <td>2.46</td>\n",
       "      <td>505.14</td>\n",
       "      <td>87.36</td>\n",
       "      <td>47.93</td>\n",
       "      <td>0.230227</td>\n",
       "    </tr>\n",
       "    <tr>\n",
       "      <th>121</th>\n",
       "      <td>madrid</td>\n",
       "      <td>Delicias</td>\n",
       "      <td>7</td>\n",
       "      <td>2.00</td>\n",
       "      <td>842.43</td>\n",
       "      <td>87.29</td>\n",
       "      <td>46.29</td>\n",
       "      <td>0.228256</td>\n",
       "    </tr>\n",
       "    <tr>\n",
       "      <th>15</th>\n",
       "      <td>barcelona</td>\n",
       "      <td>Sants</td>\n",
       "      <td>9</td>\n",
       "      <td>2.22</td>\n",
       "      <td>650.00</td>\n",
       "      <td>86.56</td>\n",
       "      <td>51.56</td>\n",
       "      <td>0.223549</td>\n",
       "    </tr>\n",
       "    <tr>\n",
       "      <th>70</th>\n",
       "      <td>girona</td>\n",
       "      <td>Girona</td>\n",
       "      <td>12</td>\n",
       "      <td>1.50</td>\n",
       "      <td>969.58</td>\n",
       "      <td>87.83</td>\n",
       "      <td>44.92</td>\n",
       "      <td>0.215621</td>\n",
       "    </tr>\n",
       "    <tr>\n",
       "      <th>36</th>\n",
       "      <td>barcelona</td>\n",
       "      <td>l'Antiga Esquerra de l'Eixample</td>\n",
       "      <td>44</td>\n",
       "      <td>2.98</td>\n",
       "      <td>714.66</td>\n",
       "      <td>88.41</td>\n",
       "      <td>53.84</td>\n",
       "      <td>0.207679</td>\n",
       "    </tr>\n",
       "    <tr>\n",
       "      <th>189</th>\n",
       "      <td>mallorca</td>\n",
       "      <td>Palma de Mallorca</td>\n",
       "      <td>47</td>\n",
       "      <td>2.55</td>\n",
       "      <td>799.79</td>\n",
       "      <td>87.62</td>\n",
       "      <td>54.45</td>\n",
       "      <td>0.207410</td>\n",
       "    </tr>\n",
       "    <tr>\n",
       "      <th>141</th>\n",
       "      <td>madrid</td>\n",
       "      <td>Palacio</td>\n",
       "      <td>29</td>\n",
       "      <td>3.10</td>\n",
       "      <td>795.59</td>\n",
       "      <td>88.52</td>\n",
       "      <td>56.93</td>\n",
       "      <td>0.200845</td>\n",
       "    </tr>\n",
       "    <tr>\n",
       "      <th>159</th>\n",
       "      <td>madrid</td>\n",
       "      <td>Sol</td>\n",
       "      <td>38</td>\n",
       "      <td>4.26</td>\n",
       "      <td>787.08</td>\n",
       "      <td>86.63</td>\n",
       "      <td>81.00</td>\n",
       "      <td>0.199461</td>\n",
       "    </tr>\n",
       "    <tr>\n",
       "      <th>255</th>\n",
       "      <td>valencia</td>\n",
       "      <td>LA MALVA-ROSA</td>\n",
       "      <td>8</td>\n",
       "      <td>1.75</td>\n",
       "      <td>724.50</td>\n",
       "      <td>88.88</td>\n",
       "      <td>49.00</td>\n",
       "      <td>0.190818</td>\n",
       "    </tr>\n",
       "    <tr>\n",
       "      <th>53</th>\n",
       "      <td>barcelona</td>\n",
       "      <td>la Vila de Gr�cia</td>\n",
       "      <td>26</td>\n",
       "      <td>2.31</td>\n",
       "      <td>589.27</td>\n",
       "      <td>85.77</td>\n",
       "      <td>69.69</td>\n",
       "      <td>0.187280</td>\n",
       "    </tr>\n",
       "    <tr>\n",
       "      <th>205</th>\n",
       "      <td>sevilla</td>\n",
       "      <td>Alfalfa</td>\n",
       "      <td>9</td>\n",
       "      <td>1.67</td>\n",
       "      <td>1000.33</td>\n",
       "      <td>89.22</td>\n",
       "      <td>49.78</td>\n",
       "      <td>0.182102</td>\n",
       "    </tr>\n",
       "    <tr>\n",
       "      <th>9</th>\n",
       "      <td>barcelona</td>\n",
       "      <td>Sant Antoni</td>\n",
       "      <td>37</td>\n",
       "      <td>1.84</td>\n",
       "      <td>733.11</td>\n",
       "      <td>87.22</td>\n",
       "      <td>63.89</td>\n",
       "      <td>0.174800</td>\n",
       "    </tr>\n",
       "    <tr>\n",
       "      <th>156</th>\n",
       "      <td>madrid</td>\n",
       "      <td>San Diego</td>\n",
       "      <td>10</td>\n",
       "      <td>1.50</td>\n",
       "      <td>794.80</td>\n",
       "      <td>85.20</td>\n",
       "      <td>71.70</td>\n",
       "      <td>0.172629</td>\n",
       "    </tr>\n",
       "    <tr>\n",
       "      <th>22</th>\n",
       "      <td>barcelona</td>\n",
       "      <td>el Barri G�tic</td>\n",
       "      <td>42</td>\n",
       "      <td>2.67</td>\n",
       "      <td>822.71</td>\n",
       "      <td>87.31</td>\n",
       "      <td>75.26</td>\n",
       "      <td>0.170004</td>\n",
       "    </tr>\n",
       "    <tr>\n",
       "      <th>169</th>\n",
       "      <td>malaga</td>\n",
       "      <td>Carretera de Cadiz</td>\n",
       "      <td>10</td>\n",
       "      <td>4.90</td>\n",
       "      <td>610.50</td>\n",
       "      <td>88.30</td>\n",
       "      <td>129.90</td>\n",
       "      <td>0.160730</td>\n",
       "    </tr>\n",
       "    <tr>\n",
       "      <th>122</th>\n",
       "      <td>madrid</td>\n",
       "      <td>Embajadores</td>\n",
       "      <td>55</td>\n",
       "      <td>2.58</td>\n",
       "      <td>816.33</td>\n",
       "      <td>88.31</td>\n",
       "      <td>79.20</td>\n",
       "      <td>0.153755</td>\n",
       "    </tr>\n",
       "    <tr>\n",
       "      <th>161</th>\n",
       "      <td>madrid</td>\n",
       "      <td>Universidad</td>\n",
       "      <td>40</td>\n",
       "      <td>3.02</td>\n",
       "      <td>658.42</td>\n",
       "      <td>86.35</td>\n",
       "      <td>102.22</td>\n",
       "      <td>0.153121</td>\n",
       "    </tr>\n",
       "    <tr>\n",
       "      <th>170</th>\n",
       "      <td>malaga</td>\n",
       "      <td>Centro</td>\n",
       "      <td>64</td>\n",
       "      <td>1.67</td>\n",
       "      <td>831.50</td>\n",
       "      <td>88.47</td>\n",
       "      <td>66.89</td>\n",
       "      <td>0.152404</td>\n",
       "    </tr>\n",
       "    <tr>\n",
       "      <th>219</th>\n",
       "      <td>sevilla</td>\n",
       "      <td>San Bartolom�</td>\n",
       "      <td>7</td>\n",
       "      <td>2.00</td>\n",
       "      <td>993.86</td>\n",
       "      <td>89.00</td>\n",
       "      <td>69.00</td>\n",
       "      <td>0.150101</td>\n",
       "    </tr>\n",
       "    <tr>\n",
       "      <th>40</th>\n",
       "      <td>barcelona</td>\n",
       "      <td>la Font de la Guatlla</td>\n",
       "      <td>6</td>\n",
       "      <td>2.33</td>\n",
       "      <td>942.50</td>\n",
       "      <td>87.67</td>\n",
       "      <td>91.83</td>\n",
       "      <td>0.139682</td>\n",
       "    </tr>\n",
       "    <tr>\n",
       "      <th>132</th>\n",
       "      <td>madrid</td>\n",
       "      <td>Justicia</td>\n",
       "      <td>21</td>\n",
       "      <td>2.10</td>\n",
       "      <td>788.62</td>\n",
       "      <td>89.24</td>\n",
       "      <td>82.86</td>\n",
       "      <td>0.131943</td>\n",
       "    </tr>\n",
       "    <tr>\n",
       "      <th>144</th>\n",
       "      <td>madrid</td>\n",
       "      <td>Palos de Moguer</td>\n",
       "      <td>12</td>\n",
       "      <td>2.00</td>\n",
       "      <td>850.00</td>\n",
       "      <td>87.67</td>\n",
       "      <td>94.92</td>\n",
       "      <td>0.130099</td>\n",
       "    </tr>\n",
       "    <tr>\n",
       "      <th>118</th>\n",
       "      <td>madrid</td>\n",
       "      <td>Cortes</td>\n",
       "      <td>24</td>\n",
       "      <td>1.88</td>\n",
       "      <td>909.96</td>\n",
       "      <td>88.12</td>\n",
       "      <td>90.42</td>\n",
       "      <td>0.128675</td>\n",
       "    </tr>\n",
       "    <tr>\n",
       "      <th>31</th>\n",
       "      <td>barcelona</td>\n",
       "      <td>el Parc i la Llacuna del Poblenou</td>\n",
       "      <td>12</td>\n",
       "      <td>1.92</td>\n",
       "      <td>852.08</td>\n",
       "      <td>87.92</td>\n",
       "      <td>92.92</td>\n",
       "      <td>0.128551</td>\n",
       "    </tr>\n",
       "    <tr>\n",
       "      <th>267</th>\n",
       "      <td>valencia</td>\n",
       "      <td>SANT FRANCESC</td>\n",
       "      <td>8</td>\n",
       "      <td>1.50</td>\n",
       "      <td>848.25</td>\n",
       "      <td>88.88</td>\n",
       "      <td>87.50</td>\n",
       "      <td>0.118073</td>\n",
       "    </tr>\n",
       "    <tr>\n",
       "      <th>24</th>\n",
       "      <td>barcelona</td>\n",
       "      <td>el Camp d'en Grassot i Gr�cia Nova</td>\n",
       "      <td>10</td>\n",
       "      <td>1.60</td>\n",
       "      <td>688.00</td>\n",
       "      <td>87.90</td>\n",
       "      <td>100.40</td>\n",
       "      <td>0.115676</td>\n",
       "    </tr>\n",
       "    <tr>\n",
       "      <th>210</th>\n",
       "      <td>sevilla</td>\n",
       "      <td>Encarnaci�n, Regina</td>\n",
       "      <td>11</td>\n",
       "      <td>1.73</td>\n",
       "      <td>819.09</td>\n",
       "      <td>89.36</td>\n",
       "      <td>150.27</td>\n",
       "      <td>0.083958</td>\n",
       "    </tr>\n",
       "  </tbody>\n",
       "</table>\n",
       "</div>"
      ],
      "text/plain": [
       "          city                     neighbourhood_name  num_apartaments  \\\n",
       "247   valencia                              EL MERCAT                9   \n",
       "26   barcelona                              el Carmel               10   \n",
       "200    menorca                  Ciutadella de Menorca               14   \n",
       "27   barcelona                                el Clot                6   \n",
       "85      girona                                  Roses               14   \n",
       "37   barcelona                         la Barceloneta               11   \n",
       "96      girona                           Tossa de Mar                9   \n",
       "176   mallorca                                Alc�dia               10   \n",
       "65      girona                    Castell� d'Emp�ries                7   \n",
       "75      girona                          Lloret de Mar                7   \n",
       "3    barcelona                            Hostafrancs               12   \n",
       "127     madrid                             Guindalera                6   \n",
       "30   barcelona                            el Guinard�                6   \n",
       "62      girona                               Cadaqu�s                7   \n",
       "45   barcelona         la Nova Esquerra de l'Eixample               34   \n",
       "23   barcelona                  el Bes�s i el Maresme               13   \n",
       "266   valencia                                RUSSAFA                8   \n",
       "32   barcelona                           el Poble Sec               31   \n",
       "173     malaga                                   Este                7   \n",
       "39   barcelona                 la Dreta de l'Eixample               58   \n",
       "47   barcelona                     la Sagrada Fam�lia               31   \n",
       "25   barcelona             el Camp de l'Arpa del Clot               12   \n",
       "238   valencia                    CABANYAL-CANYAMELAR                8   \n",
       "33   barcelona                            el Poblenou               15   \n",
       "35   barcelona                               el Raval               54   \n",
       "14   barcelona  Sant Pere, Santa Caterina i la Ribera               34   \n",
       "211    sevilla                                  Feria                8   \n",
       "29   barcelona                          el Fort Pienc               28   \n",
       "121     madrid                               Delicias                7   \n",
       "15   barcelona                                  Sants                9   \n",
       "70      girona                                 Girona               12   \n",
       "36   barcelona        l'Antiga Esquerra de l'Eixample               44   \n",
       "189   mallorca                      Palma de Mallorca               47   \n",
       "141     madrid                                Palacio               29   \n",
       "159     madrid                                    Sol               38   \n",
       "255   valencia                          LA MALVA-ROSA                8   \n",
       "53   barcelona                      la Vila de Gr�cia               26   \n",
       "205    sevilla                                Alfalfa                9   \n",
       "9    barcelona                            Sant Antoni               37   \n",
       "156     madrid                              San Diego               10   \n",
       "22   barcelona                         el Barri G�tic               42   \n",
       "169     malaga                     Carretera de Cadiz               10   \n",
       "122     madrid                            Embajadores               55   \n",
       "161     madrid                            Universidad               40   \n",
       "170     malaga                                 Centro               64   \n",
       "219    sevilla                          San Bartolom�                7   \n",
       "40   barcelona                  la Font de la Guatlla                6   \n",
       "132     madrid                               Justicia               21   \n",
       "144     madrid                        Palos de Moguer               12   \n",
       "118     madrid                                 Cortes               24   \n",
       "31   barcelona      el Parc i la Llacuna del Poblenou               12   \n",
       "267   valencia                          SANT FRANCESC                8   \n",
       "24   barcelona     el Camp d'en Grassot i Gr�cia Nova               10   \n",
       "210    sevilla                    Encarnaci�n, Regina               11   \n",
       "\n",
       "     minimum_nights  maximum_nights  mitjana_rating  number_of_reviews  \\\n",
       "247           10.78          886.56           86.11              45.00   \n",
       "26             2.00          853.70           83.50              30.90   \n",
       "200            3.93          669.57           88.00              25.50   \n",
       "27             1.83          569.17           87.17              24.67   \n",
       "85             2.14          521.64           85.29              29.71   \n",
       "37             7.09          924.45           89.36              30.73   \n",
       "96             2.33          769.89           88.89              25.44   \n",
       "176            3.70          439.40           89.70              28.30   \n",
       "65             2.29          669.57           89.86              25.14   \n",
       "75             1.43          965.29           87.86              28.57   \n",
       "3              2.17          525.83           85.58              36.75   \n",
       "127            1.50          629.17           87.83              30.33   \n",
       "30             2.00          940.00           87.83              33.67   \n",
       "62             2.43          820.43           86.57              39.43   \n",
       "45             3.24          879.62           84.91              48.56   \n",
       "23             4.54          869.15           86.92              49.15   \n",
       "266            2.12          850.88           88.12              36.88   \n",
       "32             4.55          710.06           87.61              49.81   \n",
       "173            1.86          977.14           89.43              34.86   \n",
       "39             3.67          679.14           87.90              49.83   \n",
       "47             4.45          941.77           87.42              57.65   \n",
       "25             4.42          580.92           85.25              67.58   \n",
       "238            6.12          983.75           90.00              60.38   \n",
       "33             4.33          723.80           86.80              61.20   \n",
       "35             4.07          621.70           87.46              56.31   \n",
       "14             3.79          555.68           86.03              61.06   \n",
       "211            2.12          687.25           87.75              44.12   \n",
       "29             2.46          505.14           87.36              47.93   \n",
       "121            2.00          842.43           87.29              46.29   \n",
       "15             2.22          650.00           86.56              51.56   \n",
       "70             1.50          969.58           87.83              44.92   \n",
       "36             2.98          714.66           88.41              53.84   \n",
       "189            2.55          799.79           87.62              54.45   \n",
       "141            3.10          795.59           88.52              56.93   \n",
       "159            4.26          787.08           86.63              81.00   \n",
       "255            1.75          724.50           88.88              49.00   \n",
       "53             2.31          589.27           85.77              69.69   \n",
       "205            1.67         1000.33           89.22              49.78   \n",
       "9              1.84          733.11           87.22              63.89   \n",
       "156            1.50          794.80           85.20              71.70   \n",
       "22             2.67          822.71           87.31              75.26   \n",
       "169            4.90          610.50           88.30             129.90   \n",
       "122            2.58          816.33           88.31              79.20   \n",
       "161            3.02          658.42           86.35             102.22   \n",
       "170            1.67          831.50           88.47              66.89   \n",
       "219            2.00          993.86           89.00              69.00   \n",
       "40             2.33          942.50           87.67              91.83   \n",
       "132            2.10          788.62           89.24              82.86   \n",
       "144            2.00          850.00           87.67              94.92   \n",
       "118            1.88          909.96           88.12              90.42   \n",
       "31             1.92          852.08           87.92              92.92   \n",
       "267            1.50          848.25           88.88              87.50   \n",
       "24             1.60          688.00           87.90             100.40   \n",
       "210            1.73          819.09           89.36             150.27   \n",
       "\n",
       "     potencial_optimizacion  \n",
       "247                0.427082  \n",
       "26                 0.402186  \n",
       "200                0.395730  \n",
       "27                 0.386639  \n",
       "85                 0.378289  \n",
       "37                 0.376639  \n",
       "96                 0.340867  \n",
       "176                0.320302  \n",
       "65                 0.317487  \n",
       "75                 0.316089  \n",
       "3                  0.310981  \n",
       "127                0.302071  \n",
       "30                 0.285823  \n",
       "62                 0.281247  \n",
       "45                 0.278049  \n",
       "23                 0.273487  \n",
       "266                0.262053  \n",
       "32                 0.261835  \n",
       "173                0.243632  \n",
       "39                 0.240181  \n",
       "47                 0.239251  \n",
       "25                 0.239126  \n",
       "238                0.236545  \n",
       "33                 0.235291  \n",
       "35                 0.234728  \n",
       "14                 0.233553  \n",
       "211                0.232594  \n",
       "29                 0.230227  \n",
       "121                0.228256  \n",
       "15                 0.223549  \n",
       "70                 0.215621  \n",
       "36                 0.207679  \n",
       "189                0.207410  \n",
       "141                0.200845  \n",
       "159                0.199461  \n",
       "255                0.190818  \n",
       "53                 0.187280  \n",
       "205                0.182102  \n",
       "9                  0.174800  \n",
       "156                0.172629  \n",
       "22                 0.170004  \n",
       "169                0.160730  \n",
       "122                0.153755  \n",
       "161                0.153121  \n",
       "170                0.152404  \n",
       "219                0.150101  \n",
       "40                 0.139682  \n",
       "132                0.131943  \n",
       "144                0.130099  \n",
       "118                0.128675  \n",
       "31                 0.128551  \n",
       "267                0.118073  \n",
       "24                 0.115676  \n",
       "210                0.083958  "
      ]
     },
     "execution_count": 25,
     "metadata": {},
     "output_type": "execute_result"
    }
   ],
   "source": [
    "recompte.sort_values(\"potencial_optimizacion\", ascending=False)"
   ]
  },
  {
   "cell_type": "code",
   "execution_count": 13,
   "id": "20ee26c9",
   "metadata": {},
   "outputs": [
    {
     "data": {
      "application/vnd.plotly.v1+json": {
       "config": {
        "plotlyServerURL": "https://plot.ly"
       },
       "data": [
        {
         "hovertemplate": "<b>%{hovertext}</b><br><br>city=girona<br>Rating medio=%{x}<br>Número de reseñas=%{y}<br>Número de apartamentos=%{marker.size}<br>Optimización=%{marker.color}<extra></extra>",
         "hovertext": [
          "Cadaqu�s",
          "Castell� d'Emp�ries",
          "Girona",
          "Lloret de Mar",
          "Roses",
          "Tossa de Mar"
         ],
         "legendgroup": "",
         "marker": {
          "color": {
           "bdata": "Vo7kzPP/0T98vlH+tFHUP9NZJsN6mcs/cU0Q1s461D/CKLVC5DXYP+jsf3XF0NU/",
           "dtype": "f8"
          },
          "coloraxis": "coloraxis",
          "size": {
           "bdata": "BwcMBw4J",
           "dtype": "i1"
          },
          "sizemode": "area",
          "sizeref": 0.04,
          "symbol": "circle"
         },
         "mode": "markers",
         "name": "",
         "orientation": "v",
         "showlegend": false,
         "type": "scatter",
         "x": {
          "bdata": "FK5H4XqkVUDXo3A9CndWQIXrUbge9VVA16NwPQr3VUDD9Shcj1JVQClcj8L1OFZA",
          "dtype": "f8"
         },
         "xaxis": "x",
         "y": {
          "bdata": "16NwPQq3Q0CkcD0K1yM5QPYoXI/CdUZAUrgeheuRPED2KFyPwrU9QHE9CtejcDlA",
          "dtype": "f8"
         },
         "yaxis": "y"
        },
        {
         "hovertemplate": "<b>%{hovertext}</b><br><br>city=malaga<br>Rating medio=%{x}<br>Número de reseñas=%{y}<br>Número de apartamentos=%{marker.size}<br>Optimización=%{marker.color}<extra></extra>",
         "hovertext": [
          "Carretera de Cadiz",
          "Centro",
          "Este"
         ],
         "legendgroup": "",
         "marker": {
          "color": {
           "bdata": "aK/PINCSxD8D9FIg9oHDP4hEw8NYL88/",
           "dtype": "f8"
          },
          "coloraxis": "coloraxis",
          "size": {
           "bdata": "CkAH",
           "dtype": "i1"
          },
          "sizemode": "area",
          "sizeref": 0.04,
          "symbol": "circle"
         },
         "mode": "markers",
         "name": "",
         "orientation": "v",
         "showlegend": false,
         "type": "scatter",
         "x": {
          "bdata": "MzMzMzMTVkCuR+F6FB5WQOxRuB6FW1ZA",
          "dtype": "f8"
         },
         "xaxis": "x2",
         "y": {
          "bdata": "zczMzMw8YEApXI/C9bhQQK5H4XoUbkFA",
          "dtype": "f8"
         },
         "yaxis": "y2"
        },
        {
         "hovertemplate": "<b>%{hovertext}</b><br><br>city=mallorca<br>Rating medio=%{x}<br>Número de reseñas=%{y}<br>Número de apartamentos=%{marker.size}<br>Optimización=%{marker.color}<extra></extra>",
         "hovertext": [
          "Alc�dia",
          "Palma de Mallorca"
         ],
         "legendgroup": "",
         "marker": {
          "color": {
           "bdata": "aA2FmNR/1D89Cb+oZ4zKPw==",
           "dtype": "f8"
          },
          "coloraxis": "coloraxis",
          "size": {
           "bdata": "Ci8=",
           "dtype": "i1"
          },
          "sizemode": "area",
          "sizeref": 0.04,
          "symbol": "circle"
         },
         "mode": "markers",
         "name": "",
         "orientation": "v",
         "showlegend": false,
         "type": "scatter",
         "x": {
          "bdata": "zczMzMxsVkBI4XoUrudVQA==",
          "dtype": "f8"
         },
         "xaxis": "x3",
         "y": {
          "bdata": "zczMzMxMPECamZmZmTlLQA==",
          "dtype": "f8"
         },
         "yaxis": "y3"
        },
        {
         "hovertemplate": "<b>%{hovertext}</b><br><br>city=menorca<br>Rating medio=%{x}<br>Número de reseñas=%{y}<br>Número de apartamentos=%{marker.size}<br>Optimización=%{marker.color}<extra></extra>",
         "hovertext": [
          "Ciutadella de Menorca"
         ],
         "legendgroup": "",
         "marker": {
          "color": {
           "bdata": "RzMLAqVT2T8=",
           "dtype": "f8"
          },
          "coloraxis": "coloraxis",
          "size": {
           "bdata": "Dg==",
           "dtype": "i1"
          },
          "sizemode": "area",
          "sizeref": 0.04,
          "symbol": "circle"
         },
         "mode": "markers",
         "name": "",
         "orientation": "v",
         "showlegend": false,
         "type": "scatter",
         "x": {
          "bdata": "AAAAAAAAVkA=",
          "dtype": "f8"
         },
         "xaxis": "x4",
         "y": {
          "bdata": "AAAAAACAOUA=",
          "dtype": "f8"
         },
         "yaxis": "y4"
        },
        {
         "hovertemplate": "<b>%{hovertext}</b><br><br>city=sevilla<br>Rating medio=%{x}<br>Número de reseñas=%{y}<br>Número de apartamentos=%{marker.size}<br>Optimización=%{marker.color}<extra></extra>",
         "hovertext": [
          "Alfalfa",
          "Encarnaci�n, Regina",
          "Feria",
          "San Bartolom�"
         ],
         "legendgroup": "",
         "marker": {
          "color": {
           "bdata": "vX69mRtPxz9+rK9ATH61PwJSiFmkxc0/mwMTZX42wz8=",
           "dtype": "f8"
          },
          "coloraxis": "coloraxis",
          "size": {
           "bdata": "CQsIBw==",
           "dtype": "i1"
          },
          "sizemode": "area",
          "sizeref": 0.04,
          "symbol": "circle"
         },
         "mode": "markers",
         "name": "",
         "orientation": "v",
         "showlegend": false,
         "type": "scatter",
         "x": {
          "bdata": "rkfhehROVkDXo3A9CldWQAAAAAAA8FVAAAAAAABAVkA=",
          "dtype": "f8"
         },
         "xaxis": "x5",
         "y": {
          "bdata": "pHA9CtfjSEBxPQrXo8hiQI/C9ShcD0ZAAAAAAABAUUA=",
          "dtype": "f8"
         },
         "yaxis": "y5"
        },
        {
         "hovertemplate": "<b>%{hovertext}</b><br><br>city=valencia<br>Rating medio=%{x}<br>Número de reseñas=%{y}<br>Número de apartamentos=%{marker.size}<br>Optimización=%{marker.color}<extra></extra>",
         "hovertext": [
          "CABANYAL-CANYAMELAR",
          "EL MERCAT",
          "LA MALVA-ROSA",
          "RUSSAFA",
          "SANT FRANCESC"
         ],
         "legendgroup": "",
         "marker": {
          "color": {
           "bdata": "MIq8DB1Hzj82hpC4UFXbPyLjgAa4bMg/5h748njF0D/+3Z66ADq+Pw==",
           "dtype": "f8"
          },
          "coloraxis": "coloraxis",
          "size": {
           "bdata": "CAkICAg=",
           "dtype": "i1"
          },
          "sizemode": "area",
          "sizeref": 0.04,
          "symbol": "circle"
         },
         "mode": "markers",
         "name": "",
         "orientation": "v",
         "showlegend": false,
         "type": "scatter",
         "x": {
          "bdata": "AAAAAACAVkDXo3A9CodVQLgehetROFZASOF6FK4HVkC4HoXrUThWQA==",
          "dtype": "f8"
         },
         "xaxis": "x6",
         "y": {
          "bdata": "cT0K16MwTkAAAAAAAIBGQAAAAAAAgEhAcT0K16NwQkAAAAAAAOBVQA==",
          "dtype": "f8"
         },
         "yaxis": "y6"
        }
       ],
       "layout": {
        "annotations": [
         {
          "font": {},
          "showarrow": false,
          "text": "city=girona",
          "x": 0.075,
          "xanchor": "center",
          "xref": "paper",
          "y": 1,
          "yanchor": "bottom",
          "yref": "paper"
         },
         {
          "font": {},
          "showarrow": false,
          "text": "city=malaga",
          "x": 0.24499999999999997,
          "xanchor": "center",
          "xref": "paper",
          "y": 1,
          "yanchor": "bottom",
          "yref": "paper"
         },
         {
          "font": {},
          "showarrow": false,
          "text": "city=mallorca",
          "x": 0.415,
          "xanchor": "center",
          "xref": "paper",
          "y": 1,
          "yanchor": "bottom",
          "yref": "paper"
         },
         {
          "font": {},
          "showarrow": false,
          "text": "city=menorca",
          "x": 0.585,
          "xanchor": "center",
          "xref": "paper",
          "y": 1,
          "yanchor": "bottom",
          "yref": "paper"
         },
         {
          "font": {},
          "showarrow": false,
          "text": "city=sevilla",
          "x": 0.7549999999999999,
          "xanchor": "center",
          "xref": "paper",
          "y": 1,
          "yanchor": "bottom",
          "yref": "paper"
         },
         {
          "font": {},
          "showarrow": false,
          "text": "city=valencia",
          "x": 0.925,
          "xanchor": "center",
          "xref": "paper",
          "y": 1,
          "yanchor": "bottom",
          "yref": "paper"
         }
        ],
        "coloraxis": {
         "colorbar": {
          "title": {
           "text": "Optimización"
          }
         },
         "colorscale": [
          [
           0,
           "rgb(247,252,245)"
          ],
          [
           0.125,
           "rgb(229,245,224)"
          ],
          [
           0.25,
           "rgb(199,233,192)"
          ],
          [
           0.375,
           "rgb(161,217,155)"
          ],
          [
           0.5,
           "rgb(116,196,118)"
          ],
          [
           0.625,
           "rgb(65,171,93)"
          ],
          [
           0.75,
           "rgb(35,139,69)"
          ],
          [
           0.875,
           "rgb(0,109,44)"
          ],
          [
           1,
           "rgb(0,68,27)"
          ]
         ]
        },
        "legend": {
         "itemsizing": "constant",
         "tracegroupgap": 0
        },
        "paper_bgcolor": "#D8F3DC",
        "template": {
         "data": {
          "bar": [
           {
            "error_x": {
             "color": "#2a3f5f"
            },
            "error_y": {
             "color": "#2a3f5f"
            },
            "marker": {
             "line": {
              "color": "#E5ECF6",
              "width": 0.5
             },
             "pattern": {
              "fillmode": "overlay",
              "size": 10,
              "solidity": 0.2
             }
            },
            "type": "bar"
           }
          ],
          "barpolar": [
           {
            "marker": {
             "line": {
              "color": "#E5ECF6",
              "width": 0.5
             },
             "pattern": {
              "fillmode": "overlay",
              "size": 10,
              "solidity": 0.2
             }
            },
            "type": "barpolar"
           }
          ],
          "carpet": [
           {
            "aaxis": {
             "endlinecolor": "#2a3f5f",
             "gridcolor": "white",
             "linecolor": "white",
             "minorgridcolor": "white",
             "startlinecolor": "#2a3f5f"
            },
            "baxis": {
             "endlinecolor": "#2a3f5f",
             "gridcolor": "white",
             "linecolor": "white",
             "minorgridcolor": "white",
             "startlinecolor": "#2a3f5f"
            },
            "type": "carpet"
           }
          ],
          "choropleth": [
           {
            "colorbar": {
             "outlinewidth": 0,
             "ticks": ""
            },
            "type": "choropleth"
           }
          ],
          "contour": [
           {
            "colorbar": {
             "outlinewidth": 0,
             "ticks": ""
            },
            "colorscale": [
             [
              0,
              "#0d0887"
             ],
             [
              0.1111111111111111,
              "#46039f"
             ],
             [
              0.2222222222222222,
              "#7201a8"
             ],
             [
              0.3333333333333333,
              "#9c179e"
             ],
             [
              0.4444444444444444,
              "#bd3786"
             ],
             [
              0.5555555555555556,
              "#d8576b"
             ],
             [
              0.6666666666666666,
              "#ed7953"
             ],
             [
              0.7777777777777778,
              "#fb9f3a"
             ],
             [
              0.8888888888888888,
              "#fdca26"
             ],
             [
              1,
              "#f0f921"
             ]
            ],
            "type": "contour"
           }
          ],
          "contourcarpet": [
           {
            "colorbar": {
             "outlinewidth": 0,
             "ticks": ""
            },
            "type": "contourcarpet"
           }
          ],
          "heatmap": [
           {
            "colorbar": {
             "outlinewidth": 0,
             "ticks": ""
            },
            "colorscale": [
             [
              0,
              "#0d0887"
             ],
             [
              0.1111111111111111,
              "#46039f"
             ],
             [
              0.2222222222222222,
              "#7201a8"
             ],
             [
              0.3333333333333333,
              "#9c179e"
             ],
             [
              0.4444444444444444,
              "#bd3786"
             ],
             [
              0.5555555555555556,
              "#d8576b"
             ],
             [
              0.6666666666666666,
              "#ed7953"
             ],
             [
              0.7777777777777778,
              "#fb9f3a"
             ],
             [
              0.8888888888888888,
              "#fdca26"
             ],
             [
              1,
              "#f0f921"
             ]
            ],
            "type": "heatmap"
           }
          ],
          "histogram": [
           {
            "marker": {
             "pattern": {
              "fillmode": "overlay",
              "size": 10,
              "solidity": 0.2
             }
            },
            "type": "histogram"
           }
          ],
          "histogram2d": [
           {
            "colorbar": {
             "outlinewidth": 0,
             "ticks": ""
            },
            "colorscale": [
             [
              0,
              "#0d0887"
             ],
             [
              0.1111111111111111,
              "#46039f"
             ],
             [
              0.2222222222222222,
              "#7201a8"
             ],
             [
              0.3333333333333333,
              "#9c179e"
             ],
             [
              0.4444444444444444,
              "#bd3786"
             ],
             [
              0.5555555555555556,
              "#d8576b"
             ],
             [
              0.6666666666666666,
              "#ed7953"
             ],
             [
              0.7777777777777778,
              "#fb9f3a"
             ],
             [
              0.8888888888888888,
              "#fdca26"
             ],
             [
              1,
              "#f0f921"
             ]
            ],
            "type": "histogram2d"
           }
          ],
          "histogram2dcontour": [
           {
            "colorbar": {
             "outlinewidth": 0,
             "ticks": ""
            },
            "colorscale": [
             [
              0,
              "#0d0887"
             ],
             [
              0.1111111111111111,
              "#46039f"
             ],
             [
              0.2222222222222222,
              "#7201a8"
             ],
             [
              0.3333333333333333,
              "#9c179e"
             ],
             [
              0.4444444444444444,
              "#bd3786"
             ],
             [
              0.5555555555555556,
              "#d8576b"
             ],
             [
              0.6666666666666666,
              "#ed7953"
             ],
             [
              0.7777777777777778,
              "#fb9f3a"
             ],
             [
              0.8888888888888888,
              "#fdca26"
             ],
             [
              1,
              "#f0f921"
             ]
            ],
            "type": "histogram2dcontour"
           }
          ],
          "mesh3d": [
           {
            "colorbar": {
             "outlinewidth": 0,
             "ticks": ""
            },
            "type": "mesh3d"
           }
          ],
          "parcoords": [
           {
            "line": {
             "colorbar": {
              "outlinewidth": 0,
              "ticks": ""
             }
            },
            "type": "parcoords"
           }
          ],
          "pie": [
           {
            "automargin": true,
            "type": "pie"
           }
          ],
          "scatter": [
           {
            "fillpattern": {
             "fillmode": "overlay",
             "size": 10,
             "solidity": 0.2
            },
            "type": "scatter"
           }
          ],
          "scatter3d": [
           {
            "line": {
             "colorbar": {
              "outlinewidth": 0,
              "ticks": ""
             }
            },
            "marker": {
             "colorbar": {
              "outlinewidth": 0,
              "ticks": ""
             }
            },
            "type": "scatter3d"
           }
          ],
          "scattercarpet": [
           {
            "marker": {
             "colorbar": {
              "outlinewidth": 0,
              "ticks": ""
             }
            },
            "type": "scattercarpet"
           }
          ],
          "scattergeo": [
           {
            "marker": {
             "colorbar": {
              "outlinewidth": 0,
              "ticks": ""
             }
            },
            "type": "scattergeo"
           }
          ],
          "scattergl": [
           {
            "marker": {
             "colorbar": {
              "outlinewidth": 0,
              "ticks": ""
             }
            },
            "type": "scattergl"
           }
          ],
          "scattermap": [
           {
            "marker": {
             "colorbar": {
              "outlinewidth": 0,
              "ticks": ""
             }
            },
            "type": "scattermap"
           }
          ],
          "scattermapbox": [
           {
            "marker": {
             "colorbar": {
              "outlinewidth": 0,
              "ticks": ""
             }
            },
            "type": "scattermapbox"
           }
          ],
          "scatterpolar": [
           {
            "marker": {
             "colorbar": {
              "outlinewidth": 0,
              "ticks": ""
             }
            },
            "type": "scatterpolar"
           }
          ],
          "scatterpolargl": [
           {
            "marker": {
             "colorbar": {
              "outlinewidth": 0,
              "ticks": ""
             }
            },
            "type": "scatterpolargl"
           }
          ],
          "scatterternary": [
           {
            "marker": {
             "colorbar": {
              "outlinewidth": 0,
              "ticks": ""
             }
            },
            "type": "scatterternary"
           }
          ],
          "surface": [
           {
            "colorbar": {
             "outlinewidth": 0,
             "ticks": ""
            },
            "colorscale": [
             [
              0,
              "#0d0887"
             ],
             [
              0.1111111111111111,
              "#46039f"
             ],
             [
              0.2222222222222222,
              "#7201a8"
             ],
             [
              0.3333333333333333,
              "#9c179e"
             ],
             [
              0.4444444444444444,
              "#bd3786"
             ],
             [
              0.5555555555555556,
              "#d8576b"
             ],
             [
              0.6666666666666666,
              "#ed7953"
             ],
             [
              0.7777777777777778,
              "#fb9f3a"
             ],
             [
              0.8888888888888888,
              "#fdca26"
             ],
             [
              1,
              "#f0f921"
             ]
            ],
            "type": "surface"
           }
          ],
          "table": [
           {
            "cells": {
             "fill": {
              "color": "#EBF0F8"
             },
             "line": {
              "color": "white"
             }
            },
            "header": {
             "fill": {
              "color": "#C8D4E3"
             },
             "line": {
              "color": "white"
             }
            },
            "type": "table"
           }
          ]
         },
         "layout": {
          "annotationdefaults": {
           "arrowcolor": "#2a3f5f",
           "arrowhead": 0,
           "arrowwidth": 1
          },
          "autotypenumbers": "strict",
          "coloraxis": {
           "colorbar": {
            "outlinewidth": 0,
            "ticks": ""
           }
          },
          "colorscale": {
           "diverging": [
            [
             0,
             "#8e0152"
            ],
            [
             0.1,
             "#c51b7d"
            ],
            [
             0.2,
             "#de77ae"
            ],
            [
             0.3,
             "#f1b6da"
            ],
            [
             0.4,
             "#fde0ef"
            ],
            [
             0.5,
             "#f7f7f7"
            ],
            [
             0.6,
             "#e6f5d0"
            ],
            [
             0.7,
             "#b8e186"
            ],
            [
             0.8,
             "#7fbc41"
            ],
            [
             0.9,
             "#4d9221"
            ],
            [
             1,
             "#276419"
            ]
           ],
           "sequential": [
            [
             0,
             "#0d0887"
            ],
            [
             0.1111111111111111,
             "#46039f"
            ],
            [
             0.2222222222222222,
             "#7201a8"
            ],
            [
             0.3333333333333333,
             "#9c179e"
            ],
            [
             0.4444444444444444,
             "#bd3786"
            ],
            [
             0.5555555555555556,
             "#d8576b"
            ],
            [
             0.6666666666666666,
             "#ed7953"
            ],
            [
             0.7777777777777778,
             "#fb9f3a"
            ],
            [
             0.8888888888888888,
             "#fdca26"
            ],
            [
             1,
             "#f0f921"
            ]
           ],
           "sequentialminus": [
            [
             0,
             "#0d0887"
            ],
            [
             0.1111111111111111,
             "#46039f"
            ],
            [
             0.2222222222222222,
             "#7201a8"
            ],
            [
             0.3333333333333333,
             "#9c179e"
            ],
            [
             0.4444444444444444,
             "#bd3786"
            ],
            [
             0.5555555555555556,
             "#d8576b"
            ],
            [
             0.6666666666666666,
             "#ed7953"
            ],
            [
             0.7777777777777778,
             "#fb9f3a"
            ],
            [
             0.8888888888888888,
             "#fdca26"
            ],
            [
             1,
             "#f0f921"
            ]
           ]
          },
          "colorway": [
           "#636efa",
           "#EF553B",
           "#00cc96",
           "#ab63fa",
           "#FFA15A",
           "#19d3f3",
           "#FF6692",
           "#B6E880",
           "#FF97FF",
           "#FECB52"
          ],
          "font": {
           "color": "#2a3f5f"
          },
          "geo": {
           "bgcolor": "white",
           "lakecolor": "white",
           "landcolor": "#E5ECF6",
           "showlakes": true,
           "showland": true,
           "subunitcolor": "white"
          },
          "hoverlabel": {
           "align": "left"
          },
          "hovermode": "closest",
          "mapbox": {
           "style": "light"
          },
          "paper_bgcolor": "white",
          "plot_bgcolor": "#E5ECF6",
          "polar": {
           "angularaxis": {
            "gridcolor": "white",
            "linecolor": "white",
            "ticks": ""
           },
           "bgcolor": "#E5ECF6",
           "radialaxis": {
            "gridcolor": "white",
            "linecolor": "white",
            "ticks": ""
           }
          },
          "scene": {
           "xaxis": {
            "backgroundcolor": "#E5ECF6",
            "gridcolor": "white",
            "gridwidth": 2,
            "linecolor": "white",
            "showbackground": true,
            "ticks": "",
            "zerolinecolor": "white"
           },
           "yaxis": {
            "backgroundcolor": "#E5ECF6",
            "gridcolor": "white",
            "gridwidth": 2,
            "linecolor": "white",
            "showbackground": true,
            "ticks": "",
            "zerolinecolor": "white"
           },
           "zaxis": {
            "backgroundcolor": "#E5ECF6",
            "gridcolor": "white",
            "gridwidth": 2,
            "linecolor": "white",
            "showbackground": true,
            "ticks": "",
            "zerolinecolor": "white"
           }
          },
          "shapedefaults": {
           "line": {
            "color": "#2a3f5f"
           }
          },
          "ternary": {
           "aaxis": {
            "gridcolor": "white",
            "linecolor": "white",
            "ticks": ""
           },
           "baxis": {
            "gridcolor": "white",
            "linecolor": "white",
            "ticks": ""
           },
           "bgcolor": "#E5ECF6",
           "caxis": {
            "gridcolor": "white",
            "linecolor": "white",
            "ticks": ""
           }
          },
          "title": {
           "x": 0.05
          },
          "xaxis": {
           "automargin": true,
           "gridcolor": "white",
           "linecolor": "white",
           "ticks": "",
           "title": {
            "standoff": 15
           },
           "zerolinecolor": "white",
           "zerolinewidth": 2
          },
          "yaxis": {
           "automargin": true,
           "gridcolor": "white",
           "linecolor": "white",
           "ticks": "",
           "title": {
            "standoff": 15
           },
           "zerolinecolor": "white",
           "zerolinewidth": 2
          }
         }
        },
        "title": {
         "text": "Potencial de Optimización por Barrio"
        },
        "xaxis": {
         "anchor": "y",
         "domain": [
          0,
          0.15
         ],
         "title": {
          "text": "Rating medio"
         }
        },
        "xaxis2": {
         "anchor": "y2",
         "domain": [
          0.16999999999999998,
          0.31999999999999995
         ],
         "matches": "x",
         "title": {
          "text": "Rating medio"
         }
        },
        "xaxis3": {
         "anchor": "y3",
         "domain": [
          0.33999999999999997,
          0.49
         ],
         "matches": "x",
         "title": {
          "text": "Rating medio"
         }
        },
        "xaxis4": {
         "anchor": "y4",
         "domain": [
          0.51,
          0.66
         ],
         "matches": "x",
         "title": {
          "text": "Rating medio"
         }
        },
        "xaxis5": {
         "anchor": "y5",
         "domain": [
          0.6799999999999999,
          0.83
         ],
         "matches": "x",
         "title": {
          "text": "Rating medio"
         }
        },
        "xaxis6": {
         "anchor": "y6",
         "domain": [
          0.85,
          1
         ],
         "matches": "x",
         "title": {
          "text": "Rating medio"
         }
        },
        "yaxis": {
         "anchor": "x",
         "domain": [
          0,
          1
         ],
         "title": {
          "text": "Número de reseñas"
         }
        },
        "yaxis2": {
         "anchor": "x2",
         "domain": [
          0,
          1
         ],
         "matches": "y",
         "showticklabels": false
        },
        "yaxis3": {
         "anchor": "x3",
         "domain": [
          0,
          1
         ],
         "matches": "y",
         "showticklabels": false
        },
        "yaxis4": {
         "anchor": "x4",
         "domain": [
          0,
          1
         ],
         "matches": "y",
         "showticklabels": false
        },
        "yaxis5": {
         "anchor": "x5",
         "domain": [
          0,
          1
         ],
         "matches": "y",
         "showticklabels": false
        },
        "yaxis6": {
         "anchor": "x6",
         "domain": [
          0,
          1
         ],
         "matches": "y",
         "showticklabels": false
        }
       }
      }
     },
     "metadata": {},
     "output_type": "display_data"
    }
   ],
   "source": [
    "fig = px.scatter(altres,\n",
    "x=\"mitjana_rating\",\n",
    "y=\"number_of_reviews\",\n",
    "size=\"num_apartaments\",\n",
    "color=\"potencial_optimizacion\",\n",
    "color_continuous_scale=\"Greens\",\n",
    "hover_name=\"neighbourhood_name\",\n",
    "facet_col=\"city\",\n",
    "title=\"Potencial de Optimización por Barrio\",\n",
    "labels={\n",
    "    \"mitjana_rating\": \"Rating medio\",\n",
    "    \"number_of_reviews\": \"Número de reseñas\",\n",
    "    \"num_apartaments\": \"Número de apartamentos\",\n",
    "    \"potencial_optimizacion\": \"Optimización\"\n",
    "},\n",
    "size_max=40\n",
    ")\n",
    "fig.update_layout(\n",
    "    # plot_bgcolor='#D8F3DC',\n",
    "    paper_bgcolor='#D8F3DC')\n",
    "fig.show()\n"
   ]
  },
  {
   "cell_type": "code",
   "execution_count": 14,
   "id": "14b45436-bb89-4232-a07d-28c8091c5957",
   "metadata": {},
   "outputs": [
    {
     "data": {
      "application/vnd.plotly.v1+json": {
       "config": {
        "plotlyServerURL": "https://plot.ly"
       },
       "data": [
        {
         "hovertemplate": "<b>%{hovertext}</b><br><br>city=barcelona<br>Rating medio=%{x}<br>Número de reseñas=%{y}<br>Número de apartamentos=%{marker.size}<br>Optimización=%{marker.color}<extra></extra>",
         "hovertext": [
          "Hostafrancs",
          "Sant Antoni",
          "Sant Pere, Santa Caterina i la Ribera",
          "Sants",
          "el Barri G�tic",
          "el Bes�s i el Maresme",
          "el Camp d'en Grassot i Gr�cia Nova",
          "el Camp de l'Arpa del Clot",
          "el Carmel",
          "el Clot",
          "el Fort Pienc",
          "el Guinard�",
          "el Parc i la Llacuna del Poblenou",
          "el Poble Sec",
          "el Poblenou",
          "el Raval",
          "l'Antiga Esquerra de l'Eixample",
          "la Barceloneta",
          "la Dreta de l'Eixample",
          "la Font de la Guatlla",
          "la Nova Esquerra de l'Eixample",
          "la Sagrada Fam�lia",
          "la Vila de Gr�cia"
         ],
         "legendgroup": "",
         "marker": {
          "color": {
           "bdata": "sth/7xrn0z9AwY0r21/GP/pskSoQ5c0/4LyzS0GdzD/L+Q/+tMLFP+wjRHvQgNE/rbbYXuycvT90QvjKrZvOP7XKUzRqvdk/CMZsrLG+2D+TWMPTFnjNP8uyWavsStI/0jR5aV50wD8Oc8Mu6cHQP4Y8CioEHs4/kvV/oo0Lzj/6l5JTO5XKP+w8aMPYGtg/ILCXeD++zj/VDhvfHOHBP52oB6mOy9E/XzHb1cafzj/rwXslzvjHPw==",
           "dtype": "f8"
          },
          "coloraxis": "coloraxis",
          "size": {
           "bdata": "DCUiCSoNCgwKBhwGDB8PNiwLOgYiHxo=",
           "dtype": "i1"
          },
          "sizemode": "area",
          "sizeref": 0.03625,
          "symbol": "circle"
         },
         "mode": "markers",
         "name": "",
         "orientation": "v",
         "showlegend": false,
         "type": "scatter",
         "x": {
          "bdata": "hetRuB5lVUCuR+F6FM5VQFK4HoXrgVVApHA9CtejVUCkcD0K19NVQHsUrkfhulVAmpmZmZn5VUAAAAAAAFBVQAAAAAAA4FRAexSuR+HKVUDXo3A9CtdVQIXrUbge9VVAexSuR+H6VUDXo3A9CudVQDMzMzMzs1VAPQrXo3DdVUAK16NwPRpWQNejcD0KV1ZAmpmZmZn5VUB7FK5H4epVQArXo3A9OlVAexSuR+HaVUDhehSuR3FVQA==",
          "dtype": "f8"
         },
         "xaxis": "x",
         "y": {
          "bdata": "AAAAAABgQkBSuB6F6/FPQEjhehSuh05ASOF6FK7HSUBxPQrXo9BSQDMzMzMzk0hAmpmZmZkZWUCF61G4HuVQQGZmZmZm5j5A7FG4HoWrOEDXo3A9CvdHQPYoXI/C1UBAexSuR+E6V0BI4XoUrudIQJqZmZmZmU5ASOF6FK4nTEDsUbgehetKQHsUrkfhuj5ACtejcD3qSECF61G4HvVWQEjhehSuR0hAMzMzMzPTTEBcj8L1KGxRQA==",
          "dtype": "f8"
         },
         "yaxis": "y"
        },
        {
         "hovertemplate": "<b>%{hovertext}</b><br><br>city=madrid<br>Rating medio=%{x}<br>Número de reseñas=%{y}<br>Número de apartamentos=%{marker.size}<br>Optimización=%{marker.color}<extra></extra>",
         "hovertext": [
          "Cortes",
          "Delicias",
          "Embajadores",
          "Guindalera",
          "Justicia",
          "Palacio",
          "Palos de Moguer",
          "San Diego",
          "Sol",
          "Universidad"
         ],
         "legendgroup": "",
         "marker": {
          "color": {
           "bdata": "wfPfYGh4wD8jEdKrejfNP97ERXs8rsM/z75a5R9V0z+v8x4jguPAP/LoskdHtck/kAyYWxOnwD+gSjTWtRjGP+y6ZXPwh8k/JDpxW3eZwz8=",
           "dtype": "f8"
          },
          "coloraxis": "coloraxis",
          "size": {
           "bdata": "GAc3BhUdDAomKA==",
           "dtype": "i1"
          },
          "sizemode": "area",
          "sizeref": 0.03625,
          "symbol": "circle"
         },
         "mode": "markers",
         "name": "",
         "orientation": "v",
         "showlegend": false,
         "type": "scatter",
         "x": {
          "bdata": "SOF6FK4HVkDD9Shcj9JVQKRwPQrXE1ZAhetRuB71VUCPwvUoXE9WQOF6FK5HIVZAexSuR+HqVUDNzMzMzExVQLgehetRqFVAZmZmZmaWVUA=",
          "dtype": "f8"
         },
         "xaxis": "x2",
         "y": {
          "bdata": "exSuR+GaVkCF61G4HiVHQM3MzMzMzFNAFK5H4XpUPkDXo3A9CrdUQNejcD0Kd0xAexSuR+G6V0DNzMzMzOxRQAAAAAAAQFRArkfhehSOWUA=",
          "dtype": "f8"
         },
         "yaxis": "y2"
        }
       ],
       "layout": {
        "annotations": [
         {
          "font": {},
          "showarrow": false,
          "text": "city=barcelona",
          "x": 0.245,
          "xanchor": "center",
          "xref": "paper",
          "y": 1,
          "yanchor": "bottom",
          "yref": "paper"
         },
         {
          "font": {},
          "showarrow": false,
          "text": "city=madrid",
          "x": 0.755,
          "xanchor": "center",
          "xref": "paper",
          "y": 1,
          "yanchor": "bottom",
          "yref": "paper"
         }
        ],
        "coloraxis": {
         "colorbar": {
          "title": {
           "text": "Optimización"
          }
         },
         "colorscale": [
          [
           0,
           "rgb(247,252,245)"
          ],
          [
           0.125,
           "rgb(229,245,224)"
          ],
          [
           0.25,
           "rgb(199,233,192)"
          ],
          [
           0.375,
           "rgb(161,217,155)"
          ],
          [
           0.5,
           "rgb(116,196,118)"
          ],
          [
           0.625,
           "rgb(65,171,93)"
          ],
          [
           0.75,
           "rgb(35,139,69)"
          ],
          [
           0.875,
           "rgb(0,109,44)"
          ],
          [
           1,
           "rgb(0,68,27)"
          ]
         ]
        },
        "legend": {
         "itemsizing": "constant",
         "tracegroupgap": 0
        },
        "paper_bgcolor": "#D8F3DC",
        "template": {
         "data": {
          "bar": [
           {
            "error_x": {
             "color": "#2a3f5f"
            },
            "error_y": {
             "color": "#2a3f5f"
            },
            "marker": {
             "line": {
              "color": "#E5ECF6",
              "width": 0.5
             },
             "pattern": {
              "fillmode": "overlay",
              "size": 10,
              "solidity": 0.2
             }
            },
            "type": "bar"
           }
          ],
          "barpolar": [
           {
            "marker": {
             "line": {
              "color": "#E5ECF6",
              "width": 0.5
             },
             "pattern": {
              "fillmode": "overlay",
              "size": 10,
              "solidity": 0.2
             }
            },
            "type": "barpolar"
           }
          ],
          "carpet": [
           {
            "aaxis": {
             "endlinecolor": "#2a3f5f",
             "gridcolor": "white",
             "linecolor": "white",
             "minorgridcolor": "white",
             "startlinecolor": "#2a3f5f"
            },
            "baxis": {
             "endlinecolor": "#2a3f5f",
             "gridcolor": "white",
             "linecolor": "white",
             "minorgridcolor": "white",
             "startlinecolor": "#2a3f5f"
            },
            "type": "carpet"
           }
          ],
          "choropleth": [
           {
            "colorbar": {
             "outlinewidth": 0,
             "ticks": ""
            },
            "type": "choropleth"
           }
          ],
          "contour": [
           {
            "colorbar": {
             "outlinewidth": 0,
             "ticks": ""
            },
            "colorscale": [
             [
              0,
              "#0d0887"
             ],
             [
              0.1111111111111111,
              "#46039f"
             ],
             [
              0.2222222222222222,
              "#7201a8"
             ],
             [
              0.3333333333333333,
              "#9c179e"
             ],
             [
              0.4444444444444444,
              "#bd3786"
             ],
             [
              0.5555555555555556,
              "#d8576b"
             ],
             [
              0.6666666666666666,
              "#ed7953"
             ],
             [
              0.7777777777777778,
              "#fb9f3a"
             ],
             [
              0.8888888888888888,
              "#fdca26"
             ],
             [
              1,
              "#f0f921"
             ]
            ],
            "type": "contour"
           }
          ],
          "contourcarpet": [
           {
            "colorbar": {
             "outlinewidth": 0,
             "ticks": ""
            },
            "type": "contourcarpet"
           }
          ],
          "heatmap": [
           {
            "colorbar": {
             "outlinewidth": 0,
             "ticks": ""
            },
            "colorscale": [
             [
              0,
              "#0d0887"
             ],
             [
              0.1111111111111111,
              "#46039f"
             ],
             [
              0.2222222222222222,
              "#7201a8"
             ],
             [
              0.3333333333333333,
              "#9c179e"
             ],
             [
              0.4444444444444444,
              "#bd3786"
             ],
             [
              0.5555555555555556,
              "#d8576b"
             ],
             [
              0.6666666666666666,
              "#ed7953"
             ],
             [
              0.7777777777777778,
              "#fb9f3a"
             ],
             [
              0.8888888888888888,
              "#fdca26"
             ],
             [
              1,
              "#f0f921"
             ]
            ],
            "type": "heatmap"
           }
          ],
          "histogram": [
           {
            "marker": {
             "pattern": {
              "fillmode": "overlay",
              "size": 10,
              "solidity": 0.2
             }
            },
            "type": "histogram"
           }
          ],
          "histogram2d": [
           {
            "colorbar": {
             "outlinewidth": 0,
             "ticks": ""
            },
            "colorscale": [
             [
              0,
              "#0d0887"
             ],
             [
              0.1111111111111111,
              "#46039f"
             ],
             [
              0.2222222222222222,
              "#7201a8"
             ],
             [
              0.3333333333333333,
              "#9c179e"
             ],
             [
              0.4444444444444444,
              "#bd3786"
             ],
             [
              0.5555555555555556,
              "#d8576b"
             ],
             [
              0.6666666666666666,
              "#ed7953"
             ],
             [
              0.7777777777777778,
              "#fb9f3a"
             ],
             [
              0.8888888888888888,
              "#fdca26"
             ],
             [
              1,
              "#f0f921"
             ]
            ],
            "type": "histogram2d"
           }
          ],
          "histogram2dcontour": [
           {
            "colorbar": {
             "outlinewidth": 0,
             "ticks": ""
            },
            "colorscale": [
             [
              0,
              "#0d0887"
             ],
             [
              0.1111111111111111,
              "#46039f"
             ],
             [
              0.2222222222222222,
              "#7201a8"
             ],
             [
              0.3333333333333333,
              "#9c179e"
             ],
             [
              0.4444444444444444,
              "#bd3786"
             ],
             [
              0.5555555555555556,
              "#d8576b"
             ],
             [
              0.6666666666666666,
              "#ed7953"
             ],
             [
              0.7777777777777778,
              "#fb9f3a"
             ],
             [
              0.8888888888888888,
              "#fdca26"
             ],
             [
              1,
              "#f0f921"
             ]
            ],
            "type": "histogram2dcontour"
           }
          ],
          "mesh3d": [
           {
            "colorbar": {
             "outlinewidth": 0,
             "ticks": ""
            },
            "type": "mesh3d"
           }
          ],
          "parcoords": [
           {
            "line": {
             "colorbar": {
              "outlinewidth": 0,
              "ticks": ""
             }
            },
            "type": "parcoords"
           }
          ],
          "pie": [
           {
            "automargin": true,
            "type": "pie"
           }
          ],
          "scatter": [
           {
            "fillpattern": {
             "fillmode": "overlay",
             "size": 10,
             "solidity": 0.2
            },
            "type": "scatter"
           }
          ],
          "scatter3d": [
           {
            "line": {
             "colorbar": {
              "outlinewidth": 0,
              "ticks": ""
             }
            },
            "marker": {
             "colorbar": {
              "outlinewidth": 0,
              "ticks": ""
             }
            },
            "type": "scatter3d"
           }
          ],
          "scattercarpet": [
           {
            "marker": {
             "colorbar": {
              "outlinewidth": 0,
              "ticks": ""
             }
            },
            "type": "scattercarpet"
           }
          ],
          "scattergeo": [
           {
            "marker": {
             "colorbar": {
              "outlinewidth": 0,
              "ticks": ""
             }
            },
            "type": "scattergeo"
           }
          ],
          "scattergl": [
           {
            "marker": {
             "colorbar": {
              "outlinewidth": 0,
              "ticks": ""
             }
            },
            "type": "scattergl"
           }
          ],
          "scattermap": [
           {
            "marker": {
             "colorbar": {
              "outlinewidth": 0,
              "ticks": ""
             }
            },
            "type": "scattermap"
           }
          ],
          "scattermapbox": [
           {
            "marker": {
             "colorbar": {
              "outlinewidth": 0,
              "ticks": ""
             }
            },
            "type": "scattermapbox"
           }
          ],
          "scatterpolar": [
           {
            "marker": {
             "colorbar": {
              "outlinewidth": 0,
              "ticks": ""
             }
            },
            "type": "scatterpolar"
           }
          ],
          "scatterpolargl": [
           {
            "marker": {
             "colorbar": {
              "outlinewidth": 0,
              "ticks": ""
             }
            },
            "type": "scatterpolargl"
           }
          ],
          "scatterternary": [
           {
            "marker": {
             "colorbar": {
              "outlinewidth": 0,
              "ticks": ""
             }
            },
            "type": "scatterternary"
           }
          ],
          "surface": [
           {
            "colorbar": {
             "outlinewidth": 0,
             "ticks": ""
            },
            "colorscale": [
             [
              0,
              "#0d0887"
             ],
             [
              0.1111111111111111,
              "#46039f"
             ],
             [
              0.2222222222222222,
              "#7201a8"
             ],
             [
              0.3333333333333333,
              "#9c179e"
             ],
             [
              0.4444444444444444,
              "#bd3786"
             ],
             [
              0.5555555555555556,
              "#d8576b"
             ],
             [
              0.6666666666666666,
              "#ed7953"
             ],
             [
              0.7777777777777778,
              "#fb9f3a"
             ],
             [
              0.8888888888888888,
              "#fdca26"
             ],
             [
              1,
              "#f0f921"
             ]
            ],
            "type": "surface"
           }
          ],
          "table": [
           {
            "cells": {
             "fill": {
              "color": "#EBF0F8"
             },
             "line": {
              "color": "white"
             }
            },
            "header": {
             "fill": {
              "color": "#C8D4E3"
             },
             "line": {
              "color": "white"
             }
            },
            "type": "table"
           }
          ]
         },
         "layout": {
          "annotationdefaults": {
           "arrowcolor": "#2a3f5f",
           "arrowhead": 0,
           "arrowwidth": 1
          },
          "autotypenumbers": "strict",
          "coloraxis": {
           "colorbar": {
            "outlinewidth": 0,
            "ticks": ""
           }
          },
          "colorscale": {
           "diverging": [
            [
             0,
             "#8e0152"
            ],
            [
             0.1,
             "#c51b7d"
            ],
            [
             0.2,
             "#de77ae"
            ],
            [
             0.3,
             "#f1b6da"
            ],
            [
             0.4,
             "#fde0ef"
            ],
            [
             0.5,
             "#f7f7f7"
            ],
            [
             0.6,
             "#e6f5d0"
            ],
            [
             0.7,
             "#b8e186"
            ],
            [
             0.8,
             "#7fbc41"
            ],
            [
             0.9,
             "#4d9221"
            ],
            [
             1,
             "#276419"
            ]
           ],
           "sequential": [
            [
             0,
             "#0d0887"
            ],
            [
             0.1111111111111111,
             "#46039f"
            ],
            [
             0.2222222222222222,
             "#7201a8"
            ],
            [
             0.3333333333333333,
             "#9c179e"
            ],
            [
             0.4444444444444444,
             "#bd3786"
            ],
            [
             0.5555555555555556,
             "#d8576b"
            ],
            [
             0.6666666666666666,
             "#ed7953"
            ],
            [
             0.7777777777777778,
             "#fb9f3a"
            ],
            [
             0.8888888888888888,
             "#fdca26"
            ],
            [
             1,
             "#f0f921"
            ]
           ],
           "sequentialminus": [
            [
             0,
             "#0d0887"
            ],
            [
             0.1111111111111111,
             "#46039f"
            ],
            [
             0.2222222222222222,
             "#7201a8"
            ],
            [
             0.3333333333333333,
             "#9c179e"
            ],
            [
             0.4444444444444444,
             "#bd3786"
            ],
            [
             0.5555555555555556,
             "#d8576b"
            ],
            [
             0.6666666666666666,
             "#ed7953"
            ],
            [
             0.7777777777777778,
             "#fb9f3a"
            ],
            [
             0.8888888888888888,
             "#fdca26"
            ],
            [
             1,
             "#f0f921"
            ]
           ]
          },
          "colorway": [
           "#636efa",
           "#EF553B",
           "#00cc96",
           "#ab63fa",
           "#FFA15A",
           "#19d3f3",
           "#FF6692",
           "#B6E880",
           "#FF97FF",
           "#FECB52"
          ],
          "font": {
           "color": "#2a3f5f"
          },
          "geo": {
           "bgcolor": "white",
           "lakecolor": "white",
           "landcolor": "#E5ECF6",
           "showlakes": true,
           "showland": true,
           "subunitcolor": "white"
          },
          "hoverlabel": {
           "align": "left"
          },
          "hovermode": "closest",
          "mapbox": {
           "style": "light"
          },
          "paper_bgcolor": "white",
          "plot_bgcolor": "#E5ECF6",
          "polar": {
           "angularaxis": {
            "gridcolor": "white",
            "linecolor": "white",
            "ticks": ""
           },
           "bgcolor": "#E5ECF6",
           "radialaxis": {
            "gridcolor": "white",
            "linecolor": "white",
            "ticks": ""
           }
          },
          "scene": {
           "xaxis": {
            "backgroundcolor": "#E5ECF6",
            "gridcolor": "white",
            "gridwidth": 2,
            "linecolor": "white",
            "showbackground": true,
            "ticks": "",
            "zerolinecolor": "white"
           },
           "yaxis": {
            "backgroundcolor": "#E5ECF6",
            "gridcolor": "white",
            "gridwidth": 2,
            "linecolor": "white",
            "showbackground": true,
            "ticks": "",
            "zerolinecolor": "white"
           },
           "zaxis": {
            "backgroundcolor": "#E5ECF6",
            "gridcolor": "white",
            "gridwidth": 2,
            "linecolor": "white",
            "showbackground": true,
            "ticks": "",
            "zerolinecolor": "white"
           }
          },
          "shapedefaults": {
           "line": {
            "color": "#2a3f5f"
           }
          },
          "ternary": {
           "aaxis": {
            "gridcolor": "white",
            "linecolor": "white",
            "ticks": ""
           },
           "baxis": {
            "gridcolor": "white",
            "linecolor": "white",
            "ticks": ""
           },
           "bgcolor": "#E5ECF6",
           "caxis": {
            "gridcolor": "white",
            "linecolor": "white",
            "ticks": ""
           }
          },
          "title": {
           "x": 0.05
          },
          "xaxis": {
           "automargin": true,
           "gridcolor": "white",
           "linecolor": "white",
           "ticks": "",
           "title": {
            "standoff": 15
           },
           "zerolinecolor": "white",
           "zerolinewidth": 2
          },
          "yaxis": {
           "automargin": true,
           "gridcolor": "white",
           "linecolor": "white",
           "ticks": "",
           "title": {
            "standoff": 15
           },
           "zerolinecolor": "white",
           "zerolinewidth": 2
          }
         }
        },
        "title": {
         "text": "Potencial de Optimización por Barrio"
        },
        "xaxis": {
         "anchor": "y",
         "domain": [
          0,
          0.49
         ],
         "title": {
          "text": "Rating medio"
         }
        },
        "xaxis2": {
         "anchor": "y2",
         "domain": [
          0.51,
          1
         ],
         "matches": "x",
         "title": {
          "text": "Rating medio"
         }
        },
        "yaxis": {
         "anchor": "x",
         "domain": [
          0,
          1
         ],
         "title": {
          "text": "Número de reseñas"
         }
        },
        "yaxis2": {
         "anchor": "x2",
         "domain": [
          0,
          1
         ],
         "matches": "y",
         "showticklabels": false
        }
       }
      }
     },
     "metadata": {},
     "output_type": "display_data"
    }
   ],
   "source": [
    "fig = px.scatter(pont_aeri,\n",
    "x=\"mitjana_rating\",\n",
    "y=\"number_of_reviews\",\n",
    "size=\"num_apartaments\",\n",
    "color=\"potencial_optimizacion\",\n",
    "color_continuous_scale=\"Greens\",\n",
    "hover_name=\"neighbourhood_name\",\n",
    "facet_col=\"city\",\n",
    "title=\"Potencial de Optimización por Barrio\",\n",
    "labels={\n",
    "    \"mitjana_rating\": \"Rating medio\",\n",
    "    \"number_of_reviews\": \"Número de reseñas\",\n",
    "    \"num_apartaments\": \"Número de apartamentos\",\n",
    "    \"potencial_optimizacion\": \"Optimización\"\n",
    "},\n",
    "size_max=40\n",
    ")\n",
    "fig.update_layout(\n",
    "    # plot_bgcolor='#D8F3DC',\n",
    "    paper_bgcolor='#D8F3DC')\n",
    "\n",
    "fig.show()"
   ]
  },
  {
   "cell_type": "code",
   "execution_count": 15,
   "id": "30c9dae3-eebe-48b9-97d2-6e676fa14fb8",
   "metadata": {},
   "outputs": [
    {
     "data": {
      "image/png": "[encoded data removed]",
      "text/plain": [
       "<Figure size 1200x600 with 1 Axes>"
      ]
     },
     "metadata": {},
     "output_type": "display_data"
    }
   ],
   "source": [
    "import matplotlib.pyplot as plt\n",
    "import seaborn as sns\n",
    "\n",
    "# Sort by index value (descending = more potential)\n",
    "top_neigh = recompte.sort_values(\"potencial_optimizacion\", ascending=False).head(10)\n",
    "\n",
    "plt.figure(figsize=(12, 6))\n",
    "sns.barplot(data=top_neigh, x=\"potencial_optimizacion\", y=\"neighbourhood_name\", hue=\"city\", dodge=False)\n",
    "plt.title(\"Neighbourhoods with Highest Optimization Potential\")\n",
    "plt.xlabel(\"Potencial de optimización\")\n",
    "plt.ylabel(\"Barrio\")\n",
    "plt.tight_layout()\n",
    "plt.show()\n"
   ]
  },
  {
   "cell_type": "code",
   "execution_count": 16,
   "id": "3acd7e3c-6c42-4b56-b832-046b4c4ddbb1",
   "metadata": {},
   "outputs": [
    {
     "data": {
      "application/vnd.plotly.v1+json": {
       "config": {
        "plotlyServerURL": "https://plot.ly"
       },
       "data": [
        {
         "hovertemplate": "city=valencia<br>Potencial de optimización=%{x}<br>Barrio=%{y}<extra></extra>",
         "legendgroup": "valencia",
         "marker": {
          "color": "#004d00",
          "pattern": {
           "shape": ""
          }
         },
         "name": "valencia",
         "orientation": "h",
         "showlegend": true,
         "textposition": "auto",
         "type": "bar",
         "x": {
          "bdata": "NoaQuFBV2z8=",
          "dtype": "f8"
         },
         "xaxis": "x",
         "y": [
          "EL MERCAT"
         ],
         "yaxis": "y"
        },
        {
         "hovertemplate": "city=barcelona<br>Potencial de optimización=%{x}<br>Barrio=%{y}<extra></extra>",
         "legendgroup": "barcelona",
         "marker": {
          "color": "#237a23",
          "pattern": {
           "shape": ""
          }
         },
         "name": "barcelona",
         "orientation": "h",
         "showlegend": true,
         "textposition": "auto",
         "type": "bar",
         "x": {
          "bdata": "tcpTNGq92T8Ixmyssb7YP+w8aMPYGtg/",
          "dtype": "f8"
         },
         "xaxis": "x",
         "y": [
          "el Carmel",
          "el Clot",
          "la Barceloneta"
         ],
         "yaxis": "y"
        },
        {
         "hovertemplate": "city=menorca<br>Potencial de optimización=%{x}<br>Barrio=%{y}<extra></extra>",
         "legendgroup": "menorca",
         "marker": {
          "color": "#4ca64c",
          "pattern": {
           "shape": ""
          }
         },
         "name": "menorca",
         "orientation": "h",
         "showlegend": true,
         "textposition": "auto",
         "type": "bar",
         "x": {
          "bdata": "RzMLAqVT2T8=",
          "dtype": "f8"
         },
         "xaxis": "x",
         "y": [
          "Ciutadella de Menorca"
         ],
         "yaxis": "y"
        },
        {
         "hovertemplate": "city=girona<br>Potencial de optimización=%{x}<br>Barrio=%{y}<extra></extra>",
         "legendgroup": "girona",
         "marker": {
          "color": "#80c080",
          "pattern": {
           "shape": ""
          }
         },
         "name": "girona",
         "orientation": "h",
         "showlegend": true,
         "textposition": "auto",
         "type": "bar",
         "x": {
          "bdata": "wii1QuQ12D/o7H91xdDVP3y+Uf60UdQ/cU0Q1s461D8=",
          "dtype": "f8"
         },
         "xaxis": "x",
         "y": [
          "Roses",
          "Tossa de Mar",
          "Castell� d'Emp�ries",
          "Lloret de Mar"
         ],
         "yaxis": "y"
        },
        {
         "hovertemplate": "city=mallorca<br>Potencial de optimización=%{x}<br>Barrio=%{y}<extra></extra>",
         "legendgroup": "mallorca",
         "marker": {
          "color": "#b3d9b3",
          "pattern": {
           "shape": ""
          }
         },
         "name": "mallorca",
         "orientation": "h",
         "showlegend": true,
         "textposition": "auto",
         "type": "bar",
         "x": {
          "bdata": "aA2FmNR/1D8=",
          "dtype": "f8"
         },
         "xaxis": "x",
         "y": [
          "Alc�dia"
         ],
         "yaxis": "y"
        }
       ],
       "layout": {
        "barmode": "relative",
        "legend": {
         "title": {
          "text": "city"
         },
         "tracegroupgap": 0
        },
        "paper_bgcolor": "#D8F3DC",
        "plot_bgcolor": "#D8F3DC",
        "template": {
         "data": {
          "bar": [
           {
            "error_x": {
             "color": "#2a3f5f"
            },
            "error_y": {
             "color": "#2a3f5f"
            },
            "marker": {
             "line": {
              "color": "#E5ECF6",
              "width": 0.5
             },
             "pattern": {
              "fillmode": "overlay",
              "size": 10,
              "solidity": 0.2
             }
            },
            "type": "bar"
           }
          ],
          "barpolar": [
           {
            "marker": {
             "line": {
              "color": "#E5ECF6",
              "width": 0.5
             },
             "pattern": {
              "fillmode": "overlay",
              "size": 10,
              "solidity": 0.2
             }
            },
            "type": "barpolar"
           }
          ],
          "carpet": [
           {
            "aaxis": {
             "endlinecolor": "#2a3f5f",
             "gridcolor": "white",
             "linecolor": "white",
             "minorgridcolor": "white",
             "startlinecolor": "#2a3f5f"
            },
            "baxis": {
             "endlinecolor": "#2a3f5f",
             "gridcolor": "white",
             "linecolor": "white",
             "minorgridcolor": "white",
             "startlinecolor": "#2a3f5f"
            },
            "type": "carpet"
           }
          ],
          "choropleth": [
           {
            "colorbar": {
             "outlinewidth": 0,
             "ticks": ""
            },
            "type": "choropleth"
           }
          ],
          "contour": [
           {
            "colorbar": {
             "outlinewidth": 0,
             "ticks": ""
            },
            "colorscale": [
             [
              0,
              "#0d0887"
             ],
             [
              0.1111111111111111,
              "#46039f"
             ],
             [
              0.2222222222222222,
              "#7201a8"
             ],
             [
              0.3333333333333333,
              "#9c179e"
             ],
             [
              0.4444444444444444,
              "#bd3786"
             ],
             [
              0.5555555555555556,
              "#d8576b"
             ],
             [
              0.6666666666666666,
              "#ed7953"
             ],
             [
              0.7777777777777778,
              "#fb9f3a"
             ],
             [
              0.8888888888888888,
              "#fdca26"
             ],
             [
              1,
              "#f0f921"
             ]
            ],
            "type": "contour"
           }
          ],
          "contourcarpet": [
           {
            "colorbar": {
             "outlinewidth": 0,
             "ticks": ""
            },
            "type": "contourcarpet"
           }
          ],
          "heatmap": [
           {
            "colorbar": {
             "outlinewidth": 0,
             "ticks": ""
            },
            "colorscale": [
             [
              0,
              "#0d0887"
             ],
             [
              0.1111111111111111,
              "#46039f"
             ],
             [
              0.2222222222222222,
              "#7201a8"
             ],
             [
              0.3333333333333333,
              "#9c179e"
             ],
             [
              0.4444444444444444,
              "#bd3786"
             ],
             [
              0.5555555555555556,
              "#d8576b"
             ],
             [
              0.6666666666666666,
              "#ed7953"
             ],
             [
              0.7777777777777778,
              "#fb9f3a"
             ],
             [
              0.8888888888888888,
              "#fdca26"
             ],
             [
              1,
              "#f0f921"
             ]
            ],
            "type": "heatmap"
           }
          ],
          "histogram": [
           {
            "marker": {
             "pattern": {
              "fillmode": "overlay",
              "size": 10,
              "solidity": 0.2
             }
            },
            "type": "histogram"
           }
          ],
          "histogram2d": [
           {
            "colorbar": {
             "outlinewidth": 0,
             "ticks": ""
            },
            "colorscale": [
             [
              0,
              "#0d0887"
             ],
             [
              0.1111111111111111,
              "#46039f"
             ],
             [
              0.2222222222222222,
              "#7201a8"
             ],
             [
              0.3333333333333333,
              "#9c179e"
             ],
             [
              0.4444444444444444,
              "#bd3786"
             ],
             [
              0.5555555555555556,
              "#d8576b"
             ],
             [
              0.6666666666666666,
              "#ed7953"
             ],
             [
              0.7777777777777778,
              "#fb9f3a"
             ],
             [
              0.8888888888888888,
              "#fdca26"
             ],
             [
              1,
              "#f0f921"
             ]
            ],
            "type": "histogram2d"
           }
          ],
          "histogram2dcontour": [
           {
            "colorbar": {
             "outlinewidth": 0,
             "ticks": ""
            },
            "colorscale": [
             [
              0,
              "#0d0887"
             ],
             [
              0.1111111111111111,
              "#46039f"
             ],
             [
              0.2222222222222222,
              "#7201a8"
             ],
             [
              0.3333333333333333,
              "#9c179e"
             ],
             [
              0.4444444444444444,
              "#bd3786"
             ],
             [
              0.5555555555555556,
              "#d8576b"
             ],
             [
              0.6666666666666666,
              "#ed7953"
             ],
             [
              0.7777777777777778,
              "#fb9f3a"
             ],
             [
              0.8888888888888888,
              "#fdca26"
             ],
             [
              1,
              "#f0f921"
             ]
            ],
            "type": "histogram2dcontour"
           }
          ],
          "mesh3d": [
           {
            "colorbar": {
             "outlinewidth": 0,
             "ticks": ""
            },
            "type": "mesh3d"
           }
          ],
          "parcoords": [
           {
            "line": {
             "colorbar": {
              "outlinewidth": 0,
              "ticks": ""
             }
            },
            "type": "parcoords"
           }
          ],
          "pie": [
           {
            "automargin": true,
            "type": "pie"
           }
          ],
          "scatter": [
           {
            "fillpattern": {
             "fillmode": "overlay",
             "size": 10,
             "solidity": 0.2
            },
            "type": "scatter"
           }
          ],
          "scatter3d": [
           {
            "line": {
             "colorbar": {
              "outlinewidth": 0,
              "ticks": ""
             }
            },
            "marker": {
             "colorbar": {
              "outlinewidth": 0,
              "ticks": ""
             }
            },
            "type": "scatter3d"
           }
          ],
          "scattercarpet": [
           {
            "marker": {
             "colorbar": {
              "outlinewidth": 0,
              "ticks": ""
             }
            },
            "type": "scattercarpet"
           }
          ],
          "scattergeo": [
           {
            "marker": {
             "colorbar": {
              "outlinewidth": 0,
              "ticks": ""
             }
            },
            "type": "scattergeo"
           }
          ],
          "scattergl": [
           {
            "marker": {
             "colorbar": {
              "outlinewidth": 0,
              "ticks": ""
             }
            },
            "type": "scattergl"
           }
          ],
          "scattermap": [
           {
            "marker": {
             "colorbar": {
              "outlinewidth": 0,
              "ticks": ""
             }
            },
            "type": "scattermap"
           }
          ],
          "scattermapbox": [
           {
            "marker": {
             "colorbar": {
              "outlinewidth": 0,
              "ticks": ""
             }
            },
            "type": "scattermapbox"
           }
          ],
          "scatterpolar": [
           {
            "marker": {
             "colorbar": {
              "outlinewidth": 0,
              "ticks": ""
             }
            },
            "type": "scatterpolar"
           }
          ],
          "scatterpolargl": [
           {
            "marker": {
             "colorbar": {
              "outlinewidth": 0,
              "ticks": ""
             }
            },
            "type": "scatterpolargl"
           }
          ],
          "scatterternary": [
           {
            "marker": {
             "colorbar": {
              "outlinewidth": 0,
              "ticks": ""
             }
            },
            "type": "scatterternary"
           }
          ],
          "surface": [
           {
            "colorbar": {
             "outlinewidth": 0,
             "ticks": ""
            },
            "colorscale": [
             [
              0,
              "#0d0887"
             ],
             [
              0.1111111111111111,
              "#46039f"
             ],
             [
              0.2222222222222222,
              "#7201a8"
             ],
             [
              0.3333333333333333,
              "#9c179e"
             ],
             [
              0.4444444444444444,
              "#bd3786"
             ],
             [
              0.5555555555555556,
              "#d8576b"
             ],
             [
              0.6666666666666666,
              "#ed7953"
             ],
             [
              0.7777777777777778,
              "#fb9f3a"
             ],
             [
              0.8888888888888888,
              "#fdca26"
             ],
             [
              1,
              "#f0f921"
             ]
            ],
            "type": "surface"
           }
          ],
          "table": [
           {
            "cells": {
             "fill": {
              "color": "#EBF0F8"
             },
             "line": {
              "color": "white"
             }
            },
            "header": {
             "fill": {
              "color": "#C8D4E3"
             },
             "line": {
              "color": "white"
             }
            },
            "type": "table"
           }
          ]
         },
         "layout": {
          "annotationdefaults": {
           "arrowcolor": "#2a3f5f",
           "arrowhead": 0,
           "arrowwidth": 1
          },
          "autotypenumbers": "strict",
          "coloraxis": {
           "colorbar": {
            "outlinewidth": 0,
            "ticks": ""
           }
          },
          "colorscale": {
           "diverging": [
            [
             0,
             "#8e0152"
            ],
            [
             0.1,
             "#c51b7d"
            ],
            [
             0.2,
             "#de77ae"
            ],
            [
             0.3,
             "#f1b6da"
            ],
            [
             0.4,
             "#fde0ef"
            ],
            [
             0.5,
             "#f7f7f7"
            ],
            [
             0.6,
             "#e6f5d0"
            ],
            [
             0.7,
             "#b8e186"
            ],
            [
             0.8,
             "#7fbc41"
            ],
            [
             0.9,
             "#4d9221"
            ],
            [
             1,
             "#276419"
            ]
           ],
           "sequential": [
            [
             0,
             "#0d0887"
            ],
            [
             0.1111111111111111,
             "#46039f"
            ],
            [
             0.2222222222222222,
             "#7201a8"
            ],
            [
             0.3333333333333333,
             "#9c179e"
            ],
            [
             0.4444444444444444,
             "#bd3786"
            ],
            [
             0.5555555555555556,
             "#d8576b"
            ],
            [
             0.6666666666666666,
             "#ed7953"
            ],
            [
             0.7777777777777778,
             "#fb9f3a"
            ],
            [
             0.8888888888888888,
             "#fdca26"
            ],
            [
             1,
             "#f0f921"
            ]
           ],
           "sequentialminus": [
            [
             0,
             "#0d0887"
            ],
            [
             0.1111111111111111,
             "#46039f"
            ],
            [
             0.2222222222222222,
             "#7201a8"
            ],
            [
             0.3333333333333333,
             "#9c179e"
            ],
            [
             0.4444444444444444,
             "#bd3786"
            ],
            [
             0.5555555555555556,
             "#d8576b"
            ],
            [
             0.6666666666666666,
             "#ed7953"
            ],
            [
             0.7777777777777778,
             "#fb9f3a"
            ],
            [
             0.8888888888888888,
             "#fdca26"
            ],
            [
             1,
             "#f0f921"
            ]
           ]
          },
          "colorway": [
           "#636efa",
           "#EF553B",
           "#00cc96",
           "#ab63fa",
           "#FFA15A",
           "#19d3f3",
           "#FF6692",
           "#B6E880",
           "#FF97FF",
           "#FECB52"
          ],
          "font": {
           "color": "#2a3f5f"
          },
          "geo": {
           "bgcolor": "white",
           "lakecolor": "white",
           "landcolor": "#E5ECF6",
           "showlakes": true,
           "showland": true,
           "subunitcolor": "white"
          },
          "hoverlabel": {
           "align": "left"
          },
          "hovermode": "closest",
          "mapbox": {
           "style": "light"
          },
          "paper_bgcolor": "white",
          "plot_bgcolor": "#E5ECF6",
          "polar": {
           "angularaxis": {
            "gridcolor": "white",
            "linecolor": "white",
            "ticks": ""
           },
           "bgcolor": "#E5ECF6",
           "radialaxis": {
            "gridcolor": "white",
            "linecolor": "white",
            "ticks": ""
           }
          },
          "scene": {
           "xaxis": {
            "backgroundcolor": "#E5ECF6",
            "gridcolor": "white",
            "gridwidth": 2,
            "linecolor": "white",
            "showbackground": true,
            "ticks": "",
            "zerolinecolor": "white"
           },
           "yaxis": {
            "backgroundcolor": "#E5ECF6",
            "gridcolor": "white",
            "gridwidth": 2,
            "linecolor": "white",
            "showbackground": true,
            "ticks": "",
            "zerolinecolor": "white"
           },
           "zaxis": {
            "backgroundcolor": "#E5ECF6",
            "gridcolor": "white",
            "gridwidth": 2,
            "linecolor": "white",
            "showbackground": true,
            "ticks": "",
            "zerolinecolor": "white"
           }
          },
          "shapedefaults": {
           "line": {
            "color": "#2a3f5f"
           }
          },
          "ternary": {
           "aaxis": {
            "gridcolor": "white",
            "linecolor": "white",
            "ticks": ""
           },
           "baxis": {
            "gridcolor": "white",
            "linecolor": "white",
            "ticks": ""
           },
           "bgcolor": "#E5ECF6",
           "caxis": {
            "gridcolor": "white",
            "linecolor": "white",
            "ticks": ""
           }
          },
          "title": {
           "x": 0.05
          },
          "xaxis": {
           "automargin": true,
           "gridcolor": "white",
           "linecolor": "white",
           "ticks": "",
           "title": {
            "standoff": 15
           },
           "zerolinecolor": "white",
           "zerolinewidth": 2
          },
          "yaxis": {
           "automargin": true,
           "gridcolor": "white",
           "linecolor": "white",
           "ticks": "",
           "title": {
            "standoff": 15
           },
           "zerolinecolor": "white",
           "zerolinewidth": 2
          }
         }
        },
        "title": {
         "text": "Barios con más potencial de optimización"
        },
        "xaxis": {
         "anchor": "y",
         "domain": [
          0,
          1
         ],
         "title": {
          "text": "Potencial de optimización"
         }
        },
        "yaxis": {
         "anchor": "x",
         "categoryarray": [
          "Lloret de Mar",
          "Castell� d'Emp�ries",
          "Alc�dia",
          "Tossa de Mar",
          "la Barceloneta",
          "Roses",
          "el Clot",
          "Ciutadella de Menorca",
          "el Carmel",
          "EL MERCAT"
         ],
         "categoryorder": "array",
         "domain": [
          0,
          1
         ],
         "title": {
          "text": "Barrio"
         }
        }
       }
      }
     },
     "metadata": {},
     "output_type": "display_data"
    }
   ],
   "source": [
    "import plotly.express as px\n",
    "\n",
    "# Sort by potencial_optimizacion descending\n",
    "top_neigh = recompte.sort_values(\"potencial_optimizacion\", ascending=False).head(10)\n",
    "\n",
    "# Extract unique cities from top_neigh in order of appearance\n",
    "unique_cities = top_neigh['city'].unique()\n",
    "\n",
    "# Define a green discrete color palette with enough shades for your cities\n",
    "# Here are some green shades, you can add/remove depending on number of cities\n",
    "green_palette = [\n",
    "    \"#004d00\",  # dark green\n",
    "    \"#237a23\",\n",
    "    \"#4ca64c\",\n",
    "    \"#80c080\",\n",
    "    \"#b3d9b3\",\n",
    "    \"#d6f5d6\",\n",
    "    \"#99cc99\",\n",
    "    \"#66b366\",\n",
    "    \"#339933\",\n",
    "    \"#1a801a\"\n",
    "]\n",
    "\n",
    "# Map cities to the green colors (slice to number of unique cities)\n",
    "color_map = {city: green_palette[i] for i, city in enumerate(unique_cities)}\n",
    "\n",
    "fig = px.bar(\n",
    "    top_neigh,\n",
    "    x=\"potencial_optimizacion\",\n",
    "    y=\"neighbourhood_name\",\n",
    "    color=\"city\",\n",
    "    category_orders={\"neighbourhood_name\": top_neigh['neighbourhood_name'].tolist()},  # preserve descending order\n",
    "    color_discrete_map=color_map,\n",
    "    orientation='h',\n",
    "    title=\"Barios con más potencial de optimización\",\n",
    "    labels={\"potencial_optimizacion\": \"Potencial de optimización\", \"neighbourhood_name\": \"Barrio\"},\n",
    ")\n",
    "\n",
    "fig.update_layout(\n",
    "    plot_bgcolor='#D8F3DC',\n",
    "    paper_bgcolor='#D8F3DC')\n",
    "\n",
    "fig.show()\n"
   ]
  },
  {
   "cell_type": "code",
   "execution_count": 17,
   "id": "19bcd51d",
   "metadata": {},
   "outputs": [
    {
     "name": "stderr",
     "output_type": "stream",
     "text": [
      "C:\\Users\\Eloi\\AppData\\Local\\Temp\\ipykernel_18676\\828586786.py:38: UserWarning:\n",
      "\n",
      "Tight layout not applied. The bottom and top margins cannot be made large enough to accommodate all Axes decorations.\n",
      "\n"
     ]
    },
    {
     "data": {
      "image/png": "[encoded data removed]",
      "text/plain": [
       "<Figure size 1400x800 with 1 Axes>"
      ]
     },
     "metadata": {},
     "output_type": "display_data"
    }
   ],
   "source": [
    "\n",
    "\n",
    "df\n",
    "\n",
    "# Recreando tu DataFrame de ejemplo\n",
    "\n",
    "# --- PASO 1: Filtrar el DataFrame original por 'minimum_nights' <= 40 ---\n",
    "df_filtered_nights = df[df[\"minimum_nights\"] <= 15].copy()\n",
    "\n",
    "# --- PASO 2: Recalcular los promedios por barrio (neighbourhood_name) con el DataFrame filtrado ---\n",
    "# Agrupar por (city, neighbourhood_name) para asegurar unicidad y correcta agrupación\n",
    "neighbourhood_avg_filtered = df_filtered_nights.groupby(['city', 'neighbourhood_name']).agg(\n",
    "    avg_review_scores_location=('review_scores_location', 'mean'),\n",
    "    avg_minimum_nights=('minimum_nights', 'mean'),\n",
    "    avg_maximum_nights=('maximum_nights', 'mean'),\n",
    "    avg_price=('price', 'mean'),\n",
    "    count=('neighbourhood_name', 'size')\n",
    ").reset_index()\n",
    "\n",
    "# --- PASO 3: Filtrar los barrios con alta puntuación de ubicación de los *nuevos* promedios ---\n",
    "high_score_neighbourhoods_filtered = neighbourhood_avg_filtered[\n",
    "    neighbourhood_avg_filtered['avg_review_scores_location'] >= 90\n",
    "].copy()\n",
    "\n",
    "# --- PASO 4: Visualizar sin los nombres de los barrios ---\n",
    "plt.figure(figsize=(14, 8))\n",
    "sns.scatterplot(x='avg_minimum_nights', y='avg_review_scores_location', hue='city', size='count', sizes=(50, 500),\n",
    "                data=high_score_neighbourhoods_filtered, legend='full')\n",
    "\n",
    "# Eliminamos el bucle 'for i, row in high_score_neighbourhoods_filtered.iterrows():'\n",
    "# que se encargaba de añadir las etiquetas de texto de los nombres de los barrios.\n",
    "\n",
    "plt.title('Puntuación de Ubicación Promedio vs. Noches Mínimas Promedio por Barrio (Min Noches <= 15 & Puntuación >= 90)')\n",
    "plt.xlabel('Noches Mínimas Promedio')\n",
    "plt.ylabel('Puntuación de Ubicación Promedio (0-100)')\n",
    "plt.grid(True, linestyle='--', alpha=0.7)\n",
    "plt.axhline(y=95, color='r', linestyle='--', label='Umbral de Puntuación Muy Alta (ej. >95)')\n",
    "plt.axvline(x=3, color='g', linestyle=':', label='Umbral de Noches Mínimas (ej. <3)')\n",
    "plt.legend(title='Ciudad', bbox_to_anchor=(1.05, 1), loc='upper left')\n",
    "plt.tight_layout()\n",
    "plt.show()"
   ]
  },
  {
   "cell_type": "code",
   "execution_count": 18,
   "id": "37e1a368",
   "metadata": {},
   "outputs": [
    {
     "data": {
      "image/png": "[encoded data removed]",
      "text/plain": [
       "<Figure size 1440x1200 with 8 Axes>"
      ]
     },
     "metadata": {},
     "output_type": "display_data"
    }
   ],
   "source": [
    "\n",
    "# Recreando tu DataFrame de ejemplo\n",
    "\n",
    "# --- PASO 1: Filtrar el DataFrame original por 'minimum_nights' <= 40 ---\n",
    "df_filtered_nights = df[df[\"minimum_nights\"] <= 15].copy()\n",
    "\n",
    "# --- PASO 2: Recalcular los promedios por barrio (neighbourhood_name) con el DataFrame filtrado ---\n",
    "# Agrupar por (city, neighbourhood_name) para asegurar unicidad y correcta agrupación\n",
    "neighbourhood_avg_filtered = df_filtered_nights.groupby(['city', 'neighbourhood_name']).agg(\n",
    "    avg_review_scores_location=('review_scores_location', 'mean'),\n",
    "    avg_minimum_nights=('minimum_nights', 'mean'),\n",
    "    avg_maximum_nights=('maximum_nights', 'mean'),\n",
    "    avg_price=('price', 'mean'),\n",
    "    count=('neighbourhood_name', 'size')\n",
    ").reset_index()\n",
    "\n",
    "# --- PASO 3: Filtrar los barrios con alta puntuación de ubicación de los *nuevos* promedios ---\n",
    "high_score_neighbourhoods_filtered = neighbourhood_avg_filtered[\n",
    "    neighbourhood_avg_filtered['avg_review_scores_location'] >= 90\n",
    "].copy()\n",
    "\n",
    "# --- PASO 4: Visualizar utilizando FacetGrid para separar por ciudad ---\n",
    "\n",
    "# Crear el FacetGrid. 'col=\"city\"' crea una columna para cada ciudad.\n",
    "# 'col_wrap' controla cuántas columnas queremos antes de pasar a la siguiente fila.\n",
    "# 'height' y 'aspect' controlan el tamaño de cada subgráfico.\n",
    "g = sns.FacetGrid(high_score_neighbourhoods_filtered, col=\"city\", col_wrap=3, height=4, aspect=1.2, sharex=True, sharey=True)\n",
    "\n",
    "# Mapear el scatterplot a cada subgráfico\n",
    "# Usamos 'size' para el tamaño de la burbuja, pero no 'hue' porque ya estamos separando por ciudad en las columnas\n",
    "g.map_dataframe(sns.scatterplot, x='avg_minimum_nights', y='avg_review_scores_location', size='count', sizes=(50, 500))\n",
    "\n",
    "# Añadir las líneas de umbral a cada subgráfico\n",
    "g.map(plt.axhline, y=95, color='r', linestyle='--', label='Umbral de Puntuación Muy Alta (ej. >95)')\n",
    "g.map(plt.axvline, x=3, color='g', linestyle=':', label='Umbral de Noches Mínimas (ej. <3)')\n",
    "\n",
    "# Configurar títulos y etiquetas para cada subgráfico\n",
    "g.set_titles(\"Ciudad: {col_name}\")\n",
    "g.set_axis_labels(\"Noches Mínimas Promedio\", \"Puntuación de Ubicación Promedio (0-100)\")\n",
    "\n",
    "# Añadir una leyenda para los tamaños de las burbujas (si es relevante, podría ser un poco redundante si 'count' es siempre 1)\n",
    "# g.add_legend(title='Número de Propiedades') # Se puede añadir si es necesario\n",
    "\n",
    "# Ajustar el título principal de todo el gráfico\n",
    "plt.suptitle('Puntuación de Ubicación vs. Noches Mínimas Promedio por Barrio (Min Noches <= 40 & Puntuación >= 90) por Ciudad', y=1.02, fontsize=16)\n",
    "\n",
    "# Ajustar el layout para evitar solapamientos\n",
    "plt.tight_layout(rect=[0, 0, 1, 0.98]) # Ajusta el rectángulo para dejar espacio para el suptitle\n",
    "\n",
    "# Mostrar el gráfico\n",
    "plt.show()"
   ]
  },
  {
   "cell_type": "code",
   "execution_count": 19,
   "id": "929b1258",
   "metadata": {},
   "outputs": [],
   "source": [
    "metrics = df.groupby(['city', 'neighbourhood_name']).agg(\n",
    "    avg_review=('review_scores_rating', 'mean'),\n",
    "    avg_location=('review_scores_location', 'mean'),\n",
    "    avg_availability=('availability_365', 'mean'),\n",
    "    total_listings=('apartment_id', 'count')\n",
    ").reset_index()\n"
   ]
  },
  {
   "cell_type": "code",
   "execution_count": 20,
   "id": "0f68ed1e",
   "metadata": {},
   "outputs": [],
   "source": [
    "# Normalització de variables (escala 0-100)\n",
    "metrics['norm_availability'] = 100 - (metrics['avg_availability']/3.65)\n",
    "metrics['optimization_score'] = (\n",
    "    metrics['avg_review']*0.4 + \n",
    "    metrics['avg_location']*0.3 + \n",
    "    metrics['norm_availability']*0.3\n",
    ")\n"
   ]
  },
  {
   "cell_type": "code",
   "execution_count": 21,
   "id": "5567ce95",
   "metadata": {},
   "outputs": [
    {
     "name": "stdout",
     "output_type": "stream",
     "text": [
      "Top 5 àrees d'oportunitat:\n",
      "         city neighbourhood_name  optimization_score\n",
      "223    madrid      Bellas Vistas           89.507347\n",
      "477  valencia   EL PLA DEL REMEI           88.902055\n",
      "217    madrid        Almendrales           88.394216\n",
      "300    madrid              Rejas           88.057534\n",
      "215    madrid            Almagro           88.053120\n"
     ]
    }
   ],
   "source": [
    "top_areas = metrics.sort_values('optimization_score', ascending=False)\n",
    "top_areas = top_areas[top_areas['total_listings'] > 5]  # Filtrar per fiabilitat\n",
    "\n",
    "print(\"Top 5 àrees d'oportunitat:\")\n",
    "print(top_areas.head(5)[['city', 'neighbourhood_name', 'optimization_score']])\n"
   ]
  },
  {
   "cell_type": "code",
   "execution_count": 22,
   "id": "e587a7f0",
   "metadata": {},
   "outputs": [
    {
     "data": {
      "application/vnd.plotly.v1+json": {
       "config": {
        "plotlyServerURL": "https://plot.ly"
       },
       "data": [
        {
         "branchvalues": "total",
         "customdata": [
          [
           "94.72727272727273",
           "96.36363636363636",
           88.72727272727273
          ],
          [
           "93.625",
           "100.0",
           104
          ],
          [
           "92.77777777777777",
           "94.44444444444444",
           85.77777777777777
          ],
          [
           "93.5",
           "96.66666666666667",
           101.5
          ],
          [
           "93.69444444444444",
           "97.77777777777777",
           106.55555555555556
          ],
          [
           "96.25",
           "97.5",
           118.5
          ],
          [
           "92.0",
           "98.33333333333333",
           103.66666666666669
          ],
          [
           "94.66666666666667",
           "95.0",
           105.00000000000001
          ],
          [
           "94.91666666666667",
           "96.66666666666667",
           116.58333333333334
          ],
          [
           "95.125",
           "92.5",
           103.99999999999999
          ],
          [
           "(?)",
           "(?)",
           103.11077767125352
          ],
          [
           "(?)",
           "(?)",
           104.49670081959268
          ]
         ],
         "domain": {
          "x": [
           0,
           1
          ],
          "y": [
           0,
           1
          ]
         },
         "hovertemplate": "labels=%{label}<br>optimization_score=%{value}<br>parent=%{parent}<br>id=%{id}<br>avg_review=%{customdata[0]}<br>avg_location=%{customdata[1]}<br>avg_availability=%{color}<extra></extra>",
         "ids": [
          "madrid/Bellas Vistas",
          "valencia/EL PLA DEL REMEI",
          "madrid/Almendrales",
          "madrid/Rejas",
          "madrid/Almagro",
          "madrid/Imperial",
          "madrid/Canillejas",
          "valencia/PATRAIX",
          "madrid/Fuente del Berro",
          "madrid/C�rmenes",
          "madrid",
          "valencia"
         ],
         "labels": [
          "Bellas Vistas",
          "EL PLA DEL REMEI",
          "Almendrales",
          "Rejas",
          "Almagro",
          "Imperial",
          "Canillejas",
          "PATRAIX",
          "Fuente del Berro",
          "C�rmenes",
          "madrid",
          "valencia"
         ],
         "marker": {
          "coloraxis": "coloraxis",
          "colors": {
           "bdata": "L7rooosuVkAAAAAAAABaQBzHcRzHcVVAAAAAAABgWUA5juM4jqNaQAAAAAAAoF1ArKqqqqrqWUABAAAAAEBaQFZVVVVVJV1A////////WUBMyjr7FsdZQAEDPPLJH1pA",
           "dtype": "f8"
          }
         },
         "name": "",
         "parents": [
          "madrid",
          "valencia",
          "madrid",
          "madrid",
          "madrid",
          "madrid",
          "madrid",
          "valencia",
          "madrid",
          "madrid",
          "",
          ""
         ],
         "type": "treemap",
         "values": {
          "bdata": "8ThtYXhgVkCcaghEuzlWQJS1TtY6GVZAO9wepK4DVkA2LnNSZgNWQAoVKlSoAFZAHgnfiuLxVUDybGJNI+9VQIo1jTyb2FVAA9FuqiHQVUC1Y4r+gQOGQMdrtUhvFGZA",
          "dtype": "f8"
         }
        }
       ],
       "layout": {
        "coloraxis": {
         "colorbar": {
          "title": {
           "text": "avg_availability"
          }
         },
         "colorscale": [
          [
           0,
           "#0d0887"
          ],
          [
           0.1111111111111111,
           "#46039f"
          ],
          [
           0.2222222222222222,
           "#7201a8"
          ],
          [
           0.3333333333333333,
           "#9c179e"
          ],
          [
           0.4444444444444444,
           "#bd3786"
          ],
          [
           0.5555555555555556,
           "#d8576b"
          ],
          [
           0.6666666666666666,
           "#ed7953"
          ],
          [
           0.7777777777777778,
           "#fb9f3a"
          ],
          [
           0.8888888888888888,
           "#fdca26"
          ],
          [
           1,
           "#f0f921"
          ]
         ]
        },
        "legend": {
         "tracegroupgap": 0
        },
        "margin": {
         "t": 60
        },
        "template": {
         "data": {
          "bar": [
           {
            "error_x": {
             "color": "#2a3f5f"
            },
            "error_y": {
             "color": "#2a3f5f"
            },
            "marker": {
             "line": {
              "color": "#E5ECF6",
              "width": 0.5
             },
             "pattern": {
              "fillmode": "overlay",
              "size": 10,
              "solidity": 0.2
             }
            },
            "type": "bar"
           }
          ],
          "barpolar": [
           {
            "marker": {
             "line": {
              "color": "#E5ECF6",
              "width": 0.5
             },
             "pattern": {
              "fillmode": "overlay",
              "size": 10,
              "solidity": 0.2
             }
            },
            "type": "barpolar"
           }
          ],
          "carpet": [
           {
            "aaxis": {
             "endlinecolor": "#2a3f5f",
             "gridcolor": "white",
             "linecolor": "white",
             "minorgridcolor": "white",
             "startlinecolor": "#2a3f5f"
            },
            "baxis": {
             "endlinecolor": "#2a3f5f",
             "gridcolor": "white",
             "linecolor": "white",
             "minorgridcolor": "white",
             "startlinecolor": "#2a3f5f"
            },
            "type": "carpet"
           }
          ],
          "choropleth": [
           {
            "colorbar": {
             "outlinewidth": 0,
             "ticks": ""
            },
            "type": "choropleth"
           }
          ],
          "contour": [
           {
            "colorbar": {
             "outlinewidth": 0,
             "ticks": ""
            },
            "colorscale": [
             [
              0,
              "#0d0887"
             ],
             [
              0.1111111111111111,
              "#46039f"
             ],
             [
              0.2222222222222222,
              "#7201a8"
             ],
             [
              0.3333333333333333,
              "#9c179e"
             ],
             [
              0.4444444444444444,
              "#bd3786"
             ],
             [
              0.5555555555555556,
              "#d8576b"
             ],
             [
              0.6666666666666666,
              "#ed7953"
             ],
             [
              0.7777777777777778,
              "#fb9f3a"
             ],
             [
              0.8888888888888888,
              "#fdca26"
             ],
             [
              1,
              "#f0f921"
             ]
            ],
            "type": "contour"
           }
          ],
          "contourcarpet": [
           {
            "colorbar": {
             "outlinewidth": 0,
             "ticks": ""
            },
            "type": "contourcarpet"
           }
          ],
          "heatmap": [
           {
            "colorbar": {
             "outlinewidth": 0,
             "ticks": ""
            },
            "colorscale": [
             [
              0,
              "#0d0887"
             ],
             [
              0.1111111111111111,
              "#46039f"
             ],
             [
              0.2222222222222222,
              "#7201a8"
             ],
             [
              0.3333333333333333,
              "#9c179e"
             ],
             [
              0.4444444444444444,
              "#bd3786"
             ],
             [
              0.5555555555555556,
              "#d8576b"
             ],
             [
              0.6666666666666666,
              "#ed7953"
             ],
             [
              0.7777777777777778,
              "#fb9f3a"
             ],
             [
              0.8888888888888888,
              "#fdca26"
             ],
             [
              1,
              "#f0f921"
             ]
            ],
            "type": "heatmap"
           }
          ],
          "histogram": [
           {
            "marker": {
             "pattern": {
              "fillmode": "overlay",
              "size": 10,
              "solidity": 0.2
             }
            },
            "type": "histogram"
           }
          ],
          "histogram2d": [
           {
            "colorbar": {
             "outlinewidth": 0,
             "ticks": ""
            },
            "colorscale": [
             [
              0,
              "#0d0887"
             ],
             [
              0.1111111111111111,
              "#46039f"
             ],
             [
              0.2222222222222222,
              "#7201a8"
             ],
             [
              0.3333333333333333,
              "#9c179e"
             ],
             [
              0.4444444444444444,
              "#bd3786"
             ],
             [
              0.5555555555555556,
              "#d8576b"
             ],
             [
              0.6666666666666666,
              "#ed7953"
             ],
             [
              0.7777777777777778,
              "#fb9f3a"
             ],
             [
              0.8888888888888888,
              "#fdca26"
             ],
             [
              1,
              "#f0f921"
             ]
            ],
            "type": "histogram2d"
           }
          ],
          "histogram2dcontour": [
           {
            "colorbar": {
             "outlinewidth": 0,
             "ticks": ""
            },
            "colorscale": [
             [
              0,
              "#0d0887"
             ],
             [
              0.1111111111111111,
              "#46039f"
             ],
             [
              0.2222222222222222,
              "#7201a8"
             ],
             [
              0.3333333333333333,
              "#9c179e"
             ],
             [
              0.4444444444444444,
              "#bd3786"
             ],
             [
              0.5555555555555556,
              "#d8576b"
             ],
             [
              0.6666666666666666,
              "#ed7953"
             ],
             [
              0.7777777777777778,
              "#fb9f3a"
             ],
             [
              0.8888888888888888,
              "#fdca26"
             ],
             [
              1,
              "#f0f921"
             ]
            ],
            "type": "histogram2dcontour"
           }
          ],
          "mesh3d": [
           {
            "colorbar": {
             "outlinewidth": 0,
             "ticks": ""
            },
            "type": "mesh3d"
           }
          ],
          "parcoords": [
           {
            "line": {
             "colorbar": {
              "outlinewidth": 0,
              "ticks": ""
             }
            },
            "type": "parcoords"
           }
          ],
          "pie": [
           {
            "automargin": true,
            "type": "pie"
           }
          ],
          "scatter": [
           {
            "fillpattern": {
             "fillmode": "overlay",
             "size": 10,
             "solidity": 0.2
            },
            "type": "scatter"
           }
          ],
          "scatter3d": [
           {
            "line": {
             "colorbar": {
              "outlinewidth": 0,
              "ticks": ""
             }
            },
            "marker": {
             "colorbar": {
              "outlinewidth": 0,
              "ticks": ""
             }
            },
            "type": "scatter3d"
           }
          ],
          "scattercarpet": [
           {
            "marker": {
             "colorbar": {
              "outlinewidth": 0,
              "ticks": ""
             }
            },
            "type": "scattercarpet"
           }
          ],
          "scattergeo": [
           {
            "marker": {
             "colorbar": {
              "outlinewidth": 0,
              "ticks": ""
             }
            },
            "type": "scattergeo"
           }
          ],
          "scattergl": [
           {
            "marker": {
             "colorbar": {
              "outlinewidth": 0,
              "ticks": ""
             }
            },
            "type": "scattergl"
           }
          ],
          "scattermap": [
           {
            "marker": {
             "colorbar": {
              "outlinewidth": 0,
              "ticks": ""
             }
            },
            "type": "scattermap"
           }
          ],
          "scattermapbox": [
           {
            "marker": {
             "colorbar": {
              "outlinewidth": 0,
              "ticks": ""
             }
            },
            "type": "scattermapbox"
           }
          ],
          "scatterpolar": [
           {
            "marker": {
             "colorbar": {
              "outlinewidth": 0,
              "ticks": ""
             }
            },
            "type": "scatterpolar"
           }
          ],
          "scatterpolargl": [
           {
            "marker": {
             "colorbar": {
              "outlinewidth": 0,
              "ticks": ""
             }
            },
            "type": "scatterpolargl"
           }
          ],
          "scatterternary": [
           {
            "marker": {
             "colorbar": {
              "outlinewidth": 0,
              "ticks": ""
             }
            },
            "type": "scatterternary"
           }
          ],
          "surface": [
           {
            "colorbar": {
             "outlinewidth": 0,
             "ticks": ""
            },
            "colorscale": [
             [
              0,
              "#0d0887"
             ],
             [
              0.1111111111111111,
              "#46039f"
             ],
             [
              0.2222222222222222,
              "#7201a8"
             ],
             [
              0.3333333333333333,
              "#9c179e"
             ],
             [
              0.4444444444444444,
              "#bd3786"
             ],
             [
              0.5555555555555556,
              "#d8576b"
             ],
             [
              0.6666666666666666,
              "#ed7953"
             ],
             [
              0.7777777777777778,
              "#fb9f3a"
             ],
             [
              0.8888888888888888,
              "#fdca26"
             ],
             [
              1,
              "#f0f921"
             ]
            ],
            "type": "surface"
           }
          ],
          "table": [
           {
            "cells": {
             "fill": {
              "color": "#EBF0F8"
             },
             "line": {
              "color": "white"
             }
            },
            "header": {
             "fill": {
              "color": "#C8D4E3"
             },
             "line": {
              "color": "white"
             }
            },
            "type": "table"
           }
          ]
         },
         "layout": {
          "annotationdefaults": {
           "arrowcolor": "#2a3f5f",
           "arrowhead": 0,
           "arrowwidth": 1
          },
          "autotypenumbers": "strict",
          "coloraxis": {
           "colorbar": {
            "outlinewidth": 0,
            "ticks": ""
           }
          },
          "colorscale": {
           "diverging": [
            [
             0,
             "#8e0152"
            ],
            [
             0.1,
             "#c51b7d"
            ],
            [
             0.2,
             "#de77ae"
            ],
            [
             0.3,
             "#f1b6da"
            ],
            [
             0.4,
             "#fde0ef"
            ],
            [
             0.5,
             "#f7f7f7"
            ],
            [
             0.6,
             "#e6f5d0"
            ],
            [
             0.7,
             "#b8e186"
            ],
            [
             0.8,
             "#7fbc41"
            ],
            [
             0.9,
             "#4d9221"
            ],
            [
             1,
             "#276419"
            ]
           ],
           "sequential": [
            [
             0,
             "#0d0887"
            ],
            [
             0.1111111111111111,
             "#46039f"
            ],
            [
             0.2222222222222222,
             "#7201a8"
            ],
            [
             0.3333333333333333,
             "#9c179e"
            ],
            [
             0.4444444444444444,
             "#bd3786"
            ],
            [
             0.5555555555555556,
             "#d8576b"
            ],
            [
             0.6666666666666666,
             "#ed7953"
            ],
            [
             0.7777777777777778,
             "#fb9f3a"
            ],
            [
             0.8888888888888888,
             "#fdca26"
            ],
            [
             1,
             "#f0f921"
            ]
           ],
           "sequentialminus": [
            [
             0,
             "#0d0887"
            ],
            [
             0.1111111111111111,
             "#46039f"
            ],
            [
             0.2222222222222222,
             "#7201a8"
            ],
            [
             0.3333333333333333,
             "#9c179e"
            ],
            [
             0.4444444444444444,
             "#bd3786"
            ],
            [
             0.5555555555555556,
             "#d8576b"
            ],
            [
             0.6666666666666666,
             "#ed7953"
            ],
            [
             0.7777777777777778,
             "#fb9f3a"
            ],
            [
             0.8888888888888888,
             "#fdca26"
            ],
            [
             1,
             "#f0f921"
            ]
           ]
          },
          "colorway": [
           "#636efa",
           "#EF553B",
           "#00cc96",
           "#ab63fa",
           "#FFA15A",
           "#19d3f3",
           "#FF6692",
           "#B6E880",
           "#FF97FF",
           "#FECB52"
          ],
          "font": {
           "color": "#2a3f5f"
          },
          "geo": {
           "bgcolor": "white",
           "lakecolor": "white",
           "landcolor": "#E5ECF6",
           "showlakes": true,
           "showland": true,
           "subunitcolor": "white"
          },
          "hoverlabel": {
           "align": "left"
          },
          "hovermode": "closest",
          "mapbox": {
           "style": "light"
          },
          "paper_bgcolor": "white",
          "plot_bgcolor": "#E5ECF6",
          "polar": {
           "angularaxis": {
            "gridcolor": "white",
            "linecolor": "white",
            "ticks": ""
           },
           "bgcolor": "#E5ECF6",
           "radialaxis": {
            "gridcolor": "white",
            "linecolor": "white",
            "ticks": ""
           }
          },
          "scene": {
           "xaxis": {
            "backgroundcolor": "#E5ECF6",
            "gridcolor": "white",
            "gridwidth": 2,
            "linecolor": "white",
            "showbackground": true,
            "ticks": "",
            "zerolinecolor": "white"
           },
           "yaxis": {
            "backgroundcolor": "#E5ECF6",
            "gridcolor": "white",
            "gridwidth": 2,
            "linecolor": "white",
            "showbackground": true,
            "ticks": "",
            "zerolinecolor": "white"
           },
           "zaxis": {
            "backgroundcolor": "#E5ECF6",
            "gridcolor": "white",
            "gridwidth": 2,
            "linecolor": "white",
            "showbackground": true,
            "ticks": "",
            "zerolinecolor": "white"
           }
          },
          "shapedefaults": {
           "line": {
            "color": "#2a3f5f"
           }
          },
          "ternary": {
           "aaxis": {
            "gridcolor": "white",
            "linecolor": "white",
            "ticks": ""
           },
           "baxis": {
            "gridcolor": "white",
            "linecolor": "white",
            "ticks": ""
           },
           "bgcolor": "#E5ECF6",
           "caxis": {
            "gridcolor": "white",
            "linecolor": "white",
            "ticks": ""
           }
          },
          "title": {
           "x": 0.05
          },
          "xaxis": {
           "automargin": true,
           "gridcolor": "white",
           "linecolor": "white",
           "ticks": "",
           "title": {
            "standoff": 15
           },
           "zerolinecolor": "white",
           "zerolinewidth": 2
          },
          "yaxis": {
           "automargin": true,
           "gridcolor": "white",
           "linecolor": "white",
           "ticks": "",
           "title": {
            "standoff": 15
           },
           "zerolinecolor": "white",
           "zerolinewidth": 2
          }
         }
        }
       }
      }
     },
     "metadata": {},
     "output_type": "display_data"
    }
   ],
   "source": [
    "\n",
    "fig = px.treemap(top_areas.head(10),\n",
    "                 path=['city', 'neighbourhood_name'],\n",
    "                 values='optimization_score',\n",
    "                 color='avg_availability',\n",
    "                 hover_data=['avg_review', 'avg_location'])\n",
    "fig.show()\n"
   ]
  },
  {
   "cell_type": "code",
   "execution_count": 23,
   "id": "60d0d5e6",
   "metadata": {},
   "outputs": [
    {
     "name": "stdout",
     "output_type": "stream",
     "text": [
      "                                 review_scores_rating  availability_365  \\\n",
      "city      neighbourhood_name                                              \n",
      "madrid    La Paz                                 80.0             304.0   \n",
      "valencia  NATZARET                               85.0             365.0   \n",
      "girona    Sant Climent Sescebes                  86.0             350.0   \n",
      "          Seriny�                                92.0             364.0   \n",
      "barcelona la Guineueta                           89.0             344.0   \n",
      "valencia  EL SALER                               93.0             279.0   \n",
      "girona    Vilamaniscle                           96.0             351.0   \n",
      "valencia  CAMI FONDO                             96.0             347.0   \n",
      "madrid    San Pascual                            95.0             333.0   \n",
      "girona    Pardines                               91.0             330.0   \n",
      "\n",
      "                                 number_of_reviews  num_allotjaments  \\\n",
      "city      neighbourhood_name                                           \n",
      "madrid    La Paz                                11                 1   \n",
      "valencia  NATZARET                              13                 1   \n",
      "girona    Sant Climent Sescebes                 13                 1   \n",
      "          Seriny�                               10                 1   \n",
      "barcelona la Guineueta                          13                 1   \n",
      "valencia  EL SALER                              11                 1   \n",
      "girona    Vilamaniscle                          10                 1   \n",
      "valencia  CAMI FONDO                            10                 1   \n",
      "madrid    San Pascual                           11                 1   \n",
      "girona    Pardines                              17                 1   \n",
      "\n",
      "                                 potencial_optimitzacio  \n",
      "city      neighbourhood_name                             \n",
      "madrid    La Paz                               3.871849  \n",
      "valencia  NATZARET                             3.696000  \n",
      "girona    Sant Climent Sescebes                3.649438  \n",
      "          Seriny�                              3.563096  \n",
      "barcelona la Guineueta                         3.545014  \n",
      "valencia  EL SALER                             3.420247  \n",
      "girona    Vilamaniscle                         3.419342  \n",
      "valencia  CAMI FONDO                           3.415726  \n",
      "madrid    San Pascual                          3.403068  \n",
      "girona    Pardines                             3.334356  \n"
     ]
    }
   ],
   "source": [
    "\n",
    "# Netegem noms de columnes\n",
    "df.columns = df.columns.str.strip()\n",
    "\n",
    "# Ens quedem amb les columnes rellevants\n",
    "cols = [\n",
    "    'city', 'neighbourhood_name', 'review_scores_rating', 'review_scores_location',\n",
    "    'availability_365', 'number_of_reviews'\n",
    "]\n",
    "df_filtered = df[cols].copy()\n",
    "\n",
    "# Filtre opcional: només allotjaments amb almenys 10 ressenyes\n",
    "df_filtered = df_filtered[df_filtered['number_of_reviews'] >= 10]\n",
    "\n",
    "# Agrupem per ciutat i barri\n",
    "grouped = df_filtered.groupby(['city', 'neighbourhood_name']).agg({\n",
    "    'review_scores_rating': 'mean',\n",
    "    'availability_365': 'mean',\n",
    "    'number_of_reviews': 'sum',\n",
    "    'neighbourhood_name': 'count'  # nombre d'allotjaments\n",
    "}).rename(columns={'neighbourhood_name': 'num_allotjaments'})\n",
    "\n",
    "# Calculem un índex de potencial d'optimització\n",
    "# Baixa puntuació i alta disponibilitat = més potencial de millora\n",
    "grouped['potencial_optimitzacio'] = (\n",
    "    (10 - grouped['review_scores_rating']/10) * 0.33 +\n",
    "    (10 - grouped['number_of_reviews']/10) * 0.33 +\n",
    "    (grouped['availability_365']/365) * 0.33\n",
    ")\n",
    "\n",
    "# Ordenem pel potencial descendent\n",
    "resultats = grouped.sort_values('potencial_optimitzacio', ascending=False)\n",
    "\n",
    "# Mostrem els 10 primers barris amb més potencial\n",
    "print(resultats.head(10))\n",
    "\n"
   ]
  },
  {
   "cell_type": "code",
   "execution_count": 24,
   "id": "94f33057",
   "metadata": {},
   "outputs": [
    {
     "name": "stdout",
     "output_type": "stream",
     "text": [
      "                                           potencial_optimitzacio  \\\n",
      "city      neighbourhood_name                                        \n",
      "madrid    Embajadores                                 8039.723377   \n",
      "barcelona la Dreta de l'Eixample                      7847.299291   \n",
      "malaga    Centro                                      7515.427108   \n",
      "madrid    Sol                                         6985.859341   \n",
      "          Universidad                                 5954.270270   \n",
      "barcelona el Barri G�tic                              5333.949315   \n",
      "          el Raval                                    5007.359551   \n",
      "          Sant Antoni                                 4459.782051   \n",
      "          la Sagrada Fam�lia                          4445.210959   \n",
      "          l'Antiga Esquerra de l'Eixample             4286.569412   \n",
      "\n",
      "                                           minimum_nights  maximum_nights  \\\n",
      "city      neighbourhood_name                                                \n",
      "madrid    Embajadores                            2.370130      763.428571   \n",
      "barcelona la Dreta de l'Eixample                 3.553191      652.957447   \n",
      "malaga    Centro                                 2.373494      754.825301   \n",
      "madrid    Sol                                    3.164835      800.549451   \n",
      "          Universidad                            3.387387      710.504505   \n",
      "barcelona el Barri G�tic                         3.273973      767.643836   \n",
      "          el Raval                               3.415730      659.359551   \n",
      "          Sant Antoni                            2.564103      738.256410   \n",
      "          la Sagrada Fam�lia                     3.630137      713.739726   \n",
      "          l'Antiga Esquerra de l'Eixample        2.952941      722.294118   \n",
      "\n",
      "                                           review_scores_rating  \\\n",
      "city      neighbourhood_name                                      \n",
      "madrid    Embajadores                                 93.162338   \n",
      "barcelona la Dreta de l'Eixample                      92.687943   \n",
      "malaga    Centro                                      93.246988   \n",
      "madrid    Sol                                         92.219780   \n",
      "          Universidad                                 92.864865   \n",
      "barcelona el Barri G�tic                              90.643836   \n",
      "          el Raval                                    90.640449   \n",
      "          Sant Antoni                                 91.756410   \n",
      "          la Sagrada Fam�lia                          92.424658   \n",
      "          l'Antiga Esquerra de l'Eixample             92.094118   \n",
      "\n",
      "                                           number_of_reviews  \n",
      "city      neighbourhood_name                                  \n",
      "madrid    Embajadores                                  11758  \n",
      "barcelona la Dreta de l'Eixample                       10732  \n",
      "malaga    Centro                                       11129  \n",
      "madrid    Sol                                           8979  \n",
      "          Universidad                                   8345  \n",
      "barcelona el Barri G�tic                                5701  \n",
      "          el Raval                                      5350  \n",
      "          Sant Antoni                                   5410  \n",
      "          la Sagrada Fam�lia                            5868  \n",
      "          l'Antiga Esquerra de l'Eixample               5422  \n"
     ]
    }
   ],
   "source": [
    "\n",
    "df.columns = df.columns.str.strip()  # Netejar noms de columna\n",
    "\n",
    "# Columnes que farem servir\n",
    "cols = [\n",
    "    'city', 'neighbourhood_name', 'review_scores_rating',\n",
    "    'number_of_reviews', 'minimum_nights', 'maximum_nights'\n",
    "]\n",
    "df_filtered = df[cols].copy()\n",
    "\n",
    "# Filtre opcional: només allotjaments amb almenys 10 ressenyes\n",
    "df_filtered = df_filtered[df_filtered['number_of_reviews'] >= 10]\n",
    "\n",
    "# Agrupar per ciutat i barri\n",
    "grouped = df_filtered.groupby(['city', 'neighbourhood_name']).agg({\n",
    "    'review_scores_rating': 'mean',\n",
    "    'number_of_reviews': 'sum',\n",
    "    'minimum_nights': 'mean',\n",
    "    'maximum_nights': 'mean',\n",
    "    'neighbourhood_name': 'count'  # nombre d'allotjaments\n",
    "}).rename(columns={'neighbourhood_name': 'num_allotjaments'})\n",
    "\n",
    "# Calcular un índex de potencial d’optimització\n",
    "# -> més potencial si hi ha moltes ressenyes però baixa puntuació\n",
    "grouped['potencial_optimitzacio'] = (\n",
    "    (10 - grouped['review_scores_rating']/10) * grouped['number_of_reviews']\n",
    ")\n",
    "\n",
    "# Ordenar pel potencial de millora\n",
    "resultats = grouped.sort_values('potencial_optimitzacio', ascending=False)\n",
    "\n",
    "# Mostrar les 10 zones amb més potencial\n",
    "print(resultats[['potencial_optimitzacio', 'minimum_nights', 'maximum_nights', \"review_scores_rating\", \"number_of_reviews\"]].head(10))\n"
   ]
  }
 ],
 "metadata": {
  "kernelspec": {
   "display_name": "Python 3",
   "language": "python",
   "name": "python3"
  },
  "language_info": {
   "codemirror_mode": {
    "name": "ipython",
    "version": 3
   },
   "file_extension": ".py",
   "mimetype": "text/x-python",
   "name": "python",
   "nbconvert_exporter": "python",
   "pygments_lexer": "ipython3",
   "version": "3.12.6"
  }
 },
 "nbformat": 4,
 "nbformat_minor": 5
}
