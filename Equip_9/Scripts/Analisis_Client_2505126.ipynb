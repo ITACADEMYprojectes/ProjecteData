{
 "cells": [
  {
   "cell_type": "markdown",
   "id": "21d2b6ca",
   "metadata": {},
   "source": [
    "\n",
    "### Objectiu del departament d'Anàlisi de Perfil Client:\n",
    "\n",
    "> Quines combinacions de característiques demogràfiques (com edat, nivell educatiu i ocupació) són més comunes entre els clients que utilitzen múltiples productes financers del banc: loan, hipoteca, dipòsit?"
   ]
  },
  {
   "cell_type": "markdown",
   "id": "41c6f94c",
   "metadata": {},
   "source": [
    "### Llibreries i càrrega de dades"
   ]
  },
  {
   "cell_type": "code",
   "execution_count": 17,
   "id": "5c6f88df",
   "metadata": {},
   "outputs": [],
   "source": [
    "\"\"\"Libreries que poden ser necessàries\"\"\"\n",
    "\n",
    "# Manejo de datos\n",
    "import pandas as pd                 # Análisis y manipulación de datos en tablas\n",
    "import numpy as np                  # Cálculos numéricos y matrices\n",
    "import os                           # Gestión de rutas de archivos\n",
    "\n",
    "# Visualización de datos\n",
    "import matplotlib.pyplot as plt     # Gráficos básicos en 2D\n",
    "import seaborn as sns               # Gráficos estadísticos mejorados\n",
    "import plotly.express as px         # Gráficos interactivos simplificados\n",
    "import plotly.graph_objects as go   # Control avanzado de gráficos en Plotly\n",
    "import plotly.io as pio             # Interfaz de entrada/salida de Plotly\n",
    "import squarify                     # Visualización de diagramas de \"treemap\"\n",
    "from plottable import Table         # Visualización de tablas\n",
    "import matplotlib.colors as mcolors # Colores y mapas de colores\n",
    "\n",
    "# Clustering y agrupamiento\n",
    "from sklearn.model_selection import train_test_split\n",
    "from sklearn.preprocessing import StandardScaler, RobustScaler, MinMaxScaler, OneHotEncoder, LabelEncoder, OrdinalEncoder\n",
    "from sklearn.cluster import KMeans\n",
    "from sklearn.datasets import make_blobs\n",
    "from kmodes.kmodes import KModes\n",
    "from kmodes.kprototypes import KPrototypes\n"
   ]
  },
  {
   "cell_type": "code",
   "execution_count": 18,
   "id": "23d41852",
   "metadata": {},
   "outputs": [],
   "source": [
    "# %pip install plottable\n",
    "# %pip install kmodes\n"
   ]
  },
  {
   "cell_type": "code",
   "execution_count": 19,
   "id": "09180b46",
   "metadata": {},
   "outputs": [],
   "source": [
    "df = pd.read_csv(\"../Data/df_250519.csv\")"
   ]
  },
  {
   "cell_type": "markdown",
   "id": "e0234695",
   "metadata": {},
   "source": [
    "Paleta de colors"
   ]
  },
  {
   "cell_type": "code",
   "execution_count": 20,
   "id": "d57c4e5a",
   "metadata": {},
   "outputs": [],
   "source": [
    "custom_palette = [\"#AABBC8\", \"#2CCED1\", \"#5F6F81\", \"#DCE3EA\", \"#2E2F36\"]  \n",
    "sns.set_palette(sns.color_palette(custom_palette))"
   ]
  },
  {
   "cell_type": "markdown",
   "id": "c4a9019c",
   "metadata": {},
   "source": [
    "### Extracte KPIs"
   ]
  },
  {
   "cell_type": "code",
   "execution_count": 21,
   "id": "51c2911f",
   "metadata": {},
   "outputs": [
    {
     "name": "stdout",
     "output_type": "stream",
     "text": [
      "El número total de clientes contactados es: 16163\n",
      "El número de suscriptores es: 7712\n",
      "La duración total de las llamadas a suscriptores es: 4161406\n",
      "El número de llamadas realizadas a teléfono fijo es:  3274\n",
      "El número de llamadas realizadas a móvil es:  28002\n",
      "El número total de llamadas realizadas es:  40513\n",
      "El número total de contactos previos de los suscriptores es: 9149\n",
      "La conversión por mes es:  month\n",
      "Apr    0.632210\n",
      "Aug    0.456830\n",
      "Dec    0.910256\n",
      "Feb    0.579892\n",
      "Jan    0.408537\n",
      "Jul    0.413684\n",
      "Jun    0.447770\n",
      "Mar    0.903704\n",
      "May    0.334953\n",
      "Nov    0.420236\n",
      "Oct    0.837500\n",
      "Sep    0.842333\n",
      "Name: deposit, dtype: float64\n"
     ]
    }
   ],
   "source": [
    "\n",
    "# Variables \n",
    "contactados   = df.nunique().id                                     # Número total de clientes contactados\n",
    "suscribieron  = df[df['deposit'] == True].nunique().id             # Número de clientes que suscribieron \n",
    "duracion_llam = df[df['deposit'] == True].duration.sum()           # Duración de llamadas a suscriptores\n",
    "llam_telf = df[df['contact'] == 'telephone']['campaign'].sum()      # Número de llamadas realizadas por teléfono\n",
    "llam_cell = df[df['contact'] == 'cellular']['campaign'].sum()       # Número de llamadas realizadas por movil\n",
    "llam = df['campaign'].sum()                                         # Número total de llamadas\n",
    "contatos_previos_sus = df[df['deposit'] == True]['previous'].sum() # Número de contactos previos a suscriptores\n",
    "suscribieron_por_mes = df[df['deposit'] == True].groupby('month').count()['deposit']  # Suscriptores en el mes\n",
    "contactos_por_mes = df.groupby('month').count()['deposit']          # clientes contactados en el mes      \n",
    "conversion_por_mes = suscribieron_por_mes / contactos_por_mes       # conversión por mes\n",
    "\n",
    "\n",
    "# Prints\n",
    "print(\"El número total de clientes contactados es:\",contactados)\n",
    "print(\"El número de suscriptores es:\",suscribieron)\n",
    "print(\"La duración total de las llamadas a suscriptores es:\",duracion_llam)\n",
    "print(\"El número de llamadas realizadas a teléfono fijo es: \", llam_telf)\n",
    "print(\"El número de llamadas realizadas a móvil es: \", llam_cell)\n",
    "print(\"El número total de llamadas realizadas es: \", llam)\n",
    "print(\"El número total de contactos previos de los suscriptores es:\", contatos_previos_sus)\n",
    "print(\"La conversión por mes es: \", conversion_por_mes)"
   ]
  },
  {
   "cell_type": "code",
   "execution_count": 22,
   "id": "ed31625b",
   "metadata": {},
   "outputs": [
    {
     "name": "stdout",
     "output_type": "stream",
     "text": [
      "KPI 1: El porcentaje de conversión a depósito es  47.713914496071276 %\n",
      "KPI 2: La duración media de las llamadas a suscriptoreses 539.6014004149378\n",
      "KPI 3.1: El porcentaje de llamadas realizadas por teléfono fijo es  8.081356601584677 %\n",
      "KPI 3.2: El porcentaje de llamadas realizadas por teléfono móvil es  69.11855453804951 %\n",
      "KPI 4: El porcentaje de contactos previos a suscriptores es  1.1863329875518671\n",
      "KPI 5: El mes amb millor conversió ha sigut Dec amb una taxa de conversió de 0.9102564102564102\n"
     ]
    }
   ],
   "source": [
    "#KPIs\n",
    "kpi1 = suscribieron/contactados          # porcentaje de conversión a depósito\n",
    "kpi2 = duracion_llam/suscribieron        # promedio de duración de llamadas a suscriptores\n",
    "kpi3_tel = llam_telf/llam                # porcentaje de llamadas a teléfono\n",
    "kpi3_cell = llam_cell/llam               # porcentaje de llamadas a móvil\n",
    "kpi3 = (llam_telf+llam_cell)/llam        # porcentaje de llamadas a teléfono o móvil\n",
    "kpi4 = contatos_previos_sus/suscribieron # promedio de contactos previos a suscriptores\n",
    "kpi5 = conversion_por_mes.idxmax()       # mes con mayor tasa de conversión\n",
    "kpi5_tasa = conversion_por_mes.max()     # tasa de conversión del mes con mayor tasa de conversión\n",
    "\n",
    "\n",
    "\n",
    "\n",
    "# Prints\n",
    "print(\"KPI 1: El porcentaje de conversión a depósito es \",kpi1*100,\"%\")\n",
    "print(\"KPI 2: La duración media de las llamadas a suscriptoreses\",kpi2)\n",
    "# print(\"KPI 3: El porcentaje de llamadas realizadas por teléfono o móvil es \",kpi3*100,\"%\")\n",
    "print(\"KPI 3.1: El porcentaje de llamadas realizadas por teléfono fijo es \",kpi3_tel*100,\"%\")\n",
    "print(\"KPI 3.2: El porcentaje de llamadas realizadas por teléfono móvil es \",kpi3_cell*100,\"%\")\n",
    "print(\"KPI 4: El porcentaje de contactos previos a suscriptores es \",kpi4)\n",
    "print(\"KPI 5: El mes amb millor conversió ha sigut\", kpi5, \"amb una taxa de conversió de\", kpi5_tasa)"
   ]
  },
  {
   "cell_type": "markdown",
   "id": "5c3d464e",
   "metadata": {},
   "source": [
    "# Anàlisi "
   ]
  },
  {
   "cell_type": "markdown",
   "id": "e2b5810e",
   "metadata": {},
   "source": [
    "Volem saber, \n",
    "de la gent que contracta els tres productes financers del banc:  prèstec (loan), hipoteca (housing), compte d'estalvi (deposit)\n",
    "\n",
    "Quins són els perfils més comuns (3 variables)?\n"
   ]
  },
  {
   "cell_type": "markdown",
   "id": "f59d33b1",
   "metadata": {},
   "source": [
    "Comencem filtrant el df per els perfils que contracten aquest tres productes"
   ]
  },
  {
   "cell_type": "code",
   "execution_count": 23,
   "id": "d54d13ff",
   "metadata": {},
   "outputs": [
    {
     "name": "stdout",
     "output_type": "stream",
     "text": [
      "El número de clientes que suscribieron, tienen préstamo y una hipoteca es: 384\n"
     ]
    },
    {
     "data": {
      "text/html": [
       "<div>\n",
       "<style scoped>\n",
       "    .dataframe tbody tr th:only-of-type {\n",
       "        vertical-align: middle;\n",
       "    }\n",
       "\n",
       "    .dataframe tbody tr th {\n",
       "        vertical-align: top;\n",
       "    }\n",
       "\n",
       "    .dataframe thead th {\n",
       "        text-align: right;\n",
       "    }\n",
       "</style>\n",
       "<table border=\"1\" class=\"dataframe\">\n",
       "  <thead>\n",
       "    <tr style=\"text-align: right;\">\n",
       "      <th></th>\n",
       "      <th>job</th>\n",
       "      <th>marital</th>\n",
       "      <th>education</th>\n",
       "      <th>número</th>\n",
       "    </tr>\n",
       "  </thead>\n",
       "  <tbody>\n",
       "    <tr>\n",
       "      <th>51</th>\n",
       "      <td>management</td>\n",
       "      <td>married</td>\n",
       "      <td>tertiary</td>\n",
       "      <td>1651</td>\n",
       "    </tr>\n",
       "    <tr>\n",
       "      <th>55</th>\n",
       "      <td>management</td>\n",
       "      <td>single</td>\n",
       "      <td>tertiary</td>\n",
       "      <td>1137</td>\n",
       "    </tr>\n",
       "    <tr>\n",
       "      <th>16</th>\n",
       "      <td>blue-collar</td>\n",
       "      <td>married</td>\n",
       "      <td>secondary</td>\n",
       "      <td>1078</td>\n",
       "    </tr>\n",
       "    <tr>\n",
       "      <th>105</th>\n",
       "      <td>technician</td>\n",
       "      <td>married</td>\n",
       "      <td>secondary</td>\n",
       "      <td>935</td>\n",
       "    </tr>\n",
       "    <tr>\n",
       "      <th>5</th>\n",
       "      <td>admin.</td>\n",
       "      <td>married</td>\n",
       "      <td>secondary</td>\n",
       "      <td>796</td>\n",
       "    </tr>\n",
       "    <tr>\n",
       "      <th>...</th>\n",
       "      <td>...</td>\n",
       "      <td>...</td>\n",
       "      <td>...</td>\n",
       "      <td>...</td>\n",
       "    </tr>\n",
       "    <tr>\n",
       "      <th>91</th>\n",
       "      <td>student</td>\n",
       "      <td>divorced</td>\n",
       "      <td>tertiary</td>\n",
       "      <td>2</td>\n",
       "    </tr>\n",
       "    <tr>\n",
       "      <th>53</th>\n",
       "      <td>management</td>\n",
       "      <td>single</td>\n",
       "      <td>primary</td>\n",
       "      <td>2</td>\n",
       "    </tr>\n",
       "    <tr>\n",
       "      <th>26</th>\n",
       "      <td>entrepreneur</td>\n",
       "      <td>divorced</td>\n",
       "      <td>unknown</td>\n",
       "      <td>2</td>\n",
       "    </tr>\n",
       "    <tr>\n",
       "      <th>23</th>\n",
       "      <td>entrepreneur</td>\n",
       "      <td>divorced</td>\n",
       "      <td>primary</td>\n",
       "      <td>2</td>\n",
       "    </tr>\n",
       "    <tr>\n",
       "      <th>115</th>\n",
       "      <td>unemployed</td>\n",
       "      <td>divorced</td>\n",
       "      <td>unknown</td>\n",
       "      <td>1</td>\n",
       "    </tr>\n",
       "  </tbody>\n",
       "</table>\n",
       "<p>132 rows × 4 columns</p>\n",
       "</div>"
      ],
      "text/plain": [
       "              job   marital  education  número\n",
       "51     management   married   tertiary    1651\n",
       "55     management    single   tertiary    1137\n",
       "16    blue-collar   married  secondary    1078\n",
       "105    technician   married  secondary     935\n",
       "5          admin.   married  secondary     796\n",
       "..            ...       ...        ...     ...\n",
       "91        student  divorced   tertiary       2\n",
       "53     management    single    primary       2\n",
       "26   entrepreneur  divorced    unknown       2\n",
       "23   entrepreneur  divorced    primary       2\n",
       "115    unemployed  divorced    unknown       1\n",
       "\n",
       "[132 rows x 4 columns]"
      ]
     },
     "execution_count": 23,
     "metadata": {},
     "output_type": "execute_result"
    }
   ],
   "source": [
    "# Número de clients que van suscriure, tenen prèstec i una hipoteca \n",
    "df_3contractats = df[(df['deposit'] == True) & (df['loan'] == True) & (df['housing'] == True)] \n",
    "\n",
    "df_3contractats_numero = df_3contractats.nunique().id \n",
    "print(\"El número de clientes que suscribieron, tienen préstamo y una hipoteca es:\", df_3contractats_numero)\n",
    "\n",
    "\n",
    "# Agrupem el dataframe per la combinació de les característiques demogràfiques \n",
    "df_3contractats = df.groupby(['job', 'marital', 'education'])\n",
    "\n",
    "\n",
    "# Creem una taula per al càlcul de conversions\n",
    "taula_pefils = []\n",
    "\n",
    "# Recorrem la taula calculant la conversió de cada grup\n",
    "for (feina, estat_civil, educacio), grup in df_3contractats:\n",
    "    numero = grup.nunique().id\n",
    "\n",
    "    # Afegim cada resultat a la taula\n",
    "    taula_pefils.append({\n",
    "        'job': feina,\n",
    "        'marital': estat_civil,\n",
    "        'education': educacio,\n",
    "        'número': numero,\n",
    "    })\n",
    "\n",
    "# Convertim la taula de conversió en un dataframe \n",
    "taula_pefils = pd.DataFrame(taula_pefils)\n",
    "\n",
    "# taula_pefils = taula_pefils.set_index(['feina', 'estat_civil', 'educació'])  # Establim l'índex de la taula\n",
    "\n",
    "# Ordenem per \n",
    "taula_pefils = taula_pefils.sort_values(by='número', ascending=False)  # Ordenem la taula per número de persones\n",
    "\n",
    "# Reordenem les columnes de la taula\n",
    "\n",
    "taula_pefils"
   ]
  },
  {
   "cell_type": "markdown",
   "id": "73090168",
   "metadata": {},
   "source": [
    "## K-modes -> variables categóricas"
   ]
  },
  {
   "cell_type": "code",
   "execution_count": 24,
   "id": "1d95d773",
   "metadata": {},
   "outputs": [],
   "source": [
    "X = taula_pefils[['job', 'marital', 'education']].copy()"
   ]
  },
  {
   "cell_type": "code",
   "execution_count": 25,
   "id": "e5520068",
   "metadata": {},
   "outputs": [
    {
     "name": "stdout",
     "output_type": "stream",
     "text": [
      "Init: initializing centroids\n",
      "Init: initializing clusters\n",
      "Starting iterations...\n",
      "Run 1, iteration: 1/100, moves: 0, cost: 204.0\n",
      "Init: initializing centroids\n",
      "Init: initializing clusters\n",
      "Starting iterations...\n",
      "Run 2, iteration: 1/100, moves: 0, cost: 221.0\n",
      "Init: initializing centroids\n",
      "Init: initializing clusters\n",
      "Starting iterations...\n",
      "Run 3, iteration: 1/100, moves: 0, cost: 229.0\n",
      "Init: initializing centroids\n",
      "Init: initializing clusters\n",
      "Starting iterations...\n",
      "Run 4, iteration: 1/100, moves: 0, cost: 201.0\n",
      "Init: initializing centroids\n",
      "Init: initializing clusters\n",
      "Starting iterations...\n",
      "Run 5, iteration: 1/100, moves: 20, cost: 199.0\n",
      "Best run was number 5\n",
      "[1 0 1 1 1 1 3 1 3 3 0 3 0 1 0 1 3 2 1 2 1 0 0 1 0 0 0 0 1 0 2 1 0 0 1 2 0\n",
      " 2 1 1 3 1 1 1 3 0 0 0 2 1 1 1 1 0 1 0 0 0 1 1 1 1 0 3 1 0 0 0 0 0 0 1 1 0\n",
      " 0 1 0 0 0 2 2 0 0 0 2 3 3 0 1 0 3 1 1 3 2 0 0 0 2 0 2 0 0 1 0 2 1 1 3 2 0\n",
      " 0 0 2 0 0 0 0 2 2 2 0 1 1 1 1 2 0 1 2 0 2]\n"
     ]
    }
   ],
   "source": [
    "# Perform k-modes clustering\n",
    "km = KModes(n_clusters=4, init='Huang', n_init=5, verbose=1)\n",
    "clusters = km.fit_predict(X)\n",
    "# Print the resulting clusters\n",
    "print(clusters)"
   ]
  },
  {
   "cell_type": "markdown",
   "id": "f12e0bd3",
   "metadata": {},
   "source": [
    "## K-prototypes -> variables numéricas y categóricas"
   ]
  },
  {
   "cell_type": "markdown",
   "id": "0112c42d",
   "metadata": {},
   "source": [
    "#### Prueba 1: 3 clusters"
   ]
  },
  {
   "cell_type": "code",
   "execution_count": 32,
   "id": "021d4cae",
   "metadata": {},
   "outputs": [
    {
     "name": "stdout",
     "output_type": "stream",
     "text": [
      "[1 1 1 1 1 1 2 2 2 2 2 2 2 2 2 2 2 2 2 2 0 0 0 0 0 0 0 0 0 0 0 0 0 0 0 0 0\n",
      " 0 0 0 0 0 0 0 0 0 0 0 0 0 0 0 0 0 0 0 0 0 0 0 0 0 0 0 0 0 0 0 0 0 0 0 0 0\n",
      " 0 0 0 0 0 0 0 0 0 0 0 0 0 0 0 0 0 0 0 0 0 0 0 0 0 0 0 0 0 0 0 0 0 0 0 0 0\n",
      " 0 0 0 0 0 0 0 0 0 0 0 0 0 0 0 0 0 0 0 0 0]\n"
     ]
    }
   ],
   "source": [
    "X_proto = taula_pefils[['número', 'job', 'marital', 'education']].copy()\n",
    "\n",
    "\n",
    "# Convertir columnas categóricas a string\n",
    "X_proto[['job', 'marital', 'education']] = X_proto[['job', 'marital', 'education']].astype(str)\n",
    "\n",
    "# Crear instancia\n",
    "kproto = KPrototypes(n_clusters=3, init='Cao', verbose=0)\n",
    "\n",
    "# Ajustar modelo y predecir\n",
    "clusters = kproto.fit_predict(X_proto, categorical=[1, 2, 3])\n",
    "\n",
    "# Mostrar resultados\n",
    "print(clusters)"
   ]
  },
  {
   "cell_type": "code",
   "execution_count": 33,
   "id": "e7a1d0e3",
   "metadata": {},
   "outputs": [
    {
     "data": {
      "text/plain": [
       "cluster\n",
       "0    112\n",
       "1      6\n",
       "2     14\n",
       "Name: count, dtype: int64"
      ]
     },
     "execution_count": 33,
     "metadata": {},
     "output_type": "execute_result"
    }
   ],
   "source": [
    "taula_pefils['cluster'] = clusters\n",
    "taula_pefils['cluster'].value_counts().sort_index()"
   ]
  },
  {
   "cell_type": "markdown",
   "id": "2f582105",
   "metadata": {},
   "source": [
    "#### Prueba 2: 5 clusters"
   ]
  },
  {
   "cell_type": "code",
   "execution_count": 28,
   "id": "6bc9a305",
   "metadata": {},
   "outputs": [
    {
     "name": "stdout",
     "output_type": "stream",
     "text": [
      "[4 4 4 4 2 2 2 2 2 2 3 3 3 3 3 3 3 3 3 3 0 0 0 0 0 0 0 0 0 0 0 0 0 0 0 0 0\n",
      " 0 0 0 0 0 0 0 0 0 1 1 1 1 1 1 1 1 1 1 1 1 1 1 1 1 1 1 1 1 1 1 1 1 1 1 1 1\n",
      " 1 1 1 1 1 1 1 1 1 1 1 1 1 1 1 1 1 1 1 1 1 1 1 1 1 1 1 1 1 1 1 1 1 1 1 1 1\n",
      " 1 1 1 1 1 1 1 1 1 1 1 1 1 1 1 1 1 1 1 1 1]\n"
     ]
    }
   ],
   "source": [
    "X_proto = taula_pefils[['número', 'job', 'marital', 'education']].copy()\n",
    "\n",
    "# Convertir columnas categóricas a string\n",
    "X_proto[['job', 'marital', 'education']] = X_proto[['job', 'marital', 'education']].astype(str)\n",
    "\n",
    "# Crear instancia\n",
    "kproto = KPrototypes(n_clusters=5, init='Cao', verbose=0)\n",
    "\n",
    "# Ajustar modelo y predecir\n",
    "clusters = kproto.fit_predict(X_proto, categorical=[1, 2, 3])\n",
    "\n",
    "# Mostrar resultados\n",
    "print(clusters)"
   ]
  },
  {
   "cell_type": "code",
   "execution_count": 29,
   "id": "c435ac85",
   "metadata": {},
   "outputs": [
    {
     "data": {
      "text/plain": [
       "cluster\n",
       "0    26\n",
       "1    86\n",
       "2     6\n",
       "3    10\n",
       "4     4\n",
       "Name: count, dtype: int64"
      ]
     },
     "execution_count": 29,
     "metadata": {},
     "output_type": "execute_result"
    }
   ],
   "source": [
    "taula_pefils['cluster'] = clusters\n",
    "taula_pefils['cluster'].value_counts().sort_index()"
   ]
  },
  {
   "cell_type": "markdown",
   "id": "c9ac648e",
   "metadata": {},
   "source": [
    "### Elbow method para encontrar k óptimo\n",
    "Calculo el costo para diferentes valores de l entre 2 - 9 (inclusive)\n",
    "\n",
    "https://es.wikipedia.org/wiki/M%C3%A9todo_del_codo_(agrupamiento)\n",
    "El método consiste en graficar la variación explicada en función del número de conglomerados y elegir el codo de la curva como el número de conglomerados a utilizar. Utilizar el \"codo\" o la \"rodilla de una curva\" como punto de corte es un método común en la optimización matemática para elegir aquel punto a partir del cual los rendimientos decrecientes ya no justifican el costo adicional.\n",
    "\n",
    "En este caso, el codo está en el 4."
   ]
  },
  {
   "cell_type": "code",
   "execution_count": 30,
   "id": "0d7faa5a",
   "metadata": {},
   "outputs": [
    {
     "data": {
      "image/png": "[encoded data removed]",
      "text/plain": [
       "<Figure size 800x500 with 1 Axes>"
      ]
     },
     "metadata": {},
     "output_type": "display_data"
    }
   ],
   "source": [
    "costs = []\n",
    "ks = list(range(2, 10))\n",
    "\n",
    "for k in ks:\n",
    "    kproto = KPrototypes(n_clusters=k, init='Cao', verbose=0)\n",
    "    clusters = kproto.fit_predict(X_proto, categorical=[1, 2, 3])\n",
    "    costs.append(kproto.cost_)\n",
    "\n",
    "# Graficar la curva del codo\n",
    "plt.figure(figsize=(8, 5))\n",
    "plt.plot(ks, costs, marker='o')\n",
    "plt.title('Método del Codo para K-Prototypes')\n",
    "plt.xlabel('Número de Clusters (k)')\n",
    "plt.ylabel('Costo')\n",
    "plt.grid(True)\n",
    "plt.show()"
   ]
  },
  {
   "cell_type": "markdown",
   "id": "06cead4e",
   "metadata": {},
   "source": [
    "### 4 clusters"
   ]
  },
  {
   "cell_type": "code",
   "execution_count": 31,
   "id": "942f04b3",
   "metadata": {},
   "outputs": [
    {
     "name": "stdout",
     "output_type": "stream",
     "text": [
      "[3 3 3 3 1 1 1 1 1 1 0 0 0 0 0 0 0 0 0 0 0 2 2 2 2 2 2 2 2 2 2 2 2 2 2 2 2\n",
      " 2 2 2 2 2 2 2 2 2 2 2 2 2 2 2 2 2 2 2 2 2 2 2 2 2 2 2 2 2 2 2 2 2 2 2 2 2\n",
      " 2 2 2 2 2 2 2 2 2 2 2 2 2 2 2 2 2 2 2 2 2 2 2 2 2 2 2 2 2 2 2 2 2 2 2 2 2\n",
      " 2 2 2 2 2 2 2 2 2 2 2 2 2 2 2 2 2 2 2 2 2]\n"
     ]
    }
   ],
   "source": [
    "X_proto = taula_pefils[['número', 'job', 'marital', 'education']].copy()\n",
    "\n",
    "# Convertir columnas categóricas a string\n",
    "X_proto[['job', 'marital', 'education']] = X_proto[['job', 'marital', 'education']].astype(str)\n",
    "\n",
    "# Crear instancia\n",
    "kproto = KPrototypes(n_clusters=4, init='Cao', verbose=0)\n",
    "\n",
    "# Ajustar modelo y predecir\n",
    "clusters = kproto.fit_predict(X_proto, categorical=[1, 2, 3])\n",
    "\n",
    "# Mostrar resultados\n",
    "print(clusters)"
   ]
  },
  {
   "cell_type": "code",
   "execution_count": null,
   "id": "77b8dee2",
   "metadata": {},
   "outputs": [
    {
     "data": {
      "text/plain": [
       "cluster\n",
       "0    111\n",
       "1      4\n",
       "2      6\n",
       "3     11\n",
       "Name: count, dtype: int64"
      ]
     },
     "execution_count": 79,
     "metadata": {},
     "output_type": "execute_result"
    }
   ],
   "source": [
    "taula_pefils['cluster'] = clusters\n",
    "taula_pefils['cluster'].value_counts().sort_index()"
   ]
  },
  {
   "cell_type": "markdown",
   "id": "55dd7473",
   "metadata": {},
   "source": [
    "### Centroides\n",
    "\n",
    "Un centroide en K-Prototypes és la \"mitjana\" del grup:\n",
    "- Per a variables numèriques: és el valor mitjà.\n",
    "- Per a variables categòriques: és la modalitat més freqüent (com el \"mode\").\n",
    "\n",
    "Això et permet saber, per exemple:\n",
    "- El clúster 0 (111) està format principalment per gestors casats amb educació secundària\n",
    ". El clúster 1 (4) està format principalment per emprenedors solters amb estudis primaris\n",
    ". El clúster 2 (6) està format principalment per tècnics casats amb estudis secundaris\n",
    ". El clúster 3 (11) està format principalment per administratius solters amb estudis secundaris\n",
    "\n"
   ]
  },
  {
   "cell_type": "code",
   "execution_count": 35,
   "id": "46bd076b",
   "metadata": {},
   "outputs": [
    {
     "data": {
      "text/html": [
       "<div>\n",
       "<style scoped>\n",
       "    .dataframe tbody tr th:only-of-type {\n",
       "        vertical-align: middle;\n",
       "    }\n",
       "\n",
       "    .dataframe tbody tr th {\n",
       "        vertical-align: top;\n",
       "    }\n",
       "\n",
       "    .dataframe thead th {\n",
       "        text-align: right;\n",
       "    }\n",
       "</style>\n",
       "<table border=\"1\" class=\"dataframe\">\n",
       "  <thead>\n",
       "    <tr style=\"text-align: right;\">\n",
       "      <th></th>\n",
       "      <th>cluster</th>\n",
       "      <th>número_mig</th>\n",
       "      <th>job</th>\n",
       "      <th>marital</th>\n",
       "      <th>education</th>\n",
       "    </tr>\n",
       "  </thead>\n",
       "  <tbody>\n",
       "    <tr>\n",
       "      <th>0</th>\n",
       "      <td>0</td>\n",
       "      <td>1200.250000</td>\n",
       "      <td>management</td>\n",
       "      <td>married</td>\n",
       "      <td>secondary</td>\n",
       "    </tr>\n",
       "    <tr>\n",
       "      <th>1</th>\n",
       "      <td>1</td>\n",
       "      <td>40.243243</td>\n",
       "      <td>entrepreneur</td>\n",
       "      <td>single</td>\n",
       "      <td>primary</td>\n",
       "    </tr>\n",
       "    <tr>\n",
       "      <th>2</th>\n",
       "      <td>2</td>\n",
       "      <td>289.090909</td>\n",
       "      <td>technician</td>\n",
       "      <td>married</td>\n",
       "      <td>secondary</td>\n",
       "    </tr>\n",
       "    <tr>\n",
       "      <th>3</th>\n",
       "      <td>3</td>\n",
       "      <td>619.166667</td>\n",
       "      <td>admin.</td>\n",
       "      <td>single</td>\n",
       "      <td>secondary</td>\n",
       "    </tr>\n",
       "  </tbody>\n",
       "</table>\n",
       "</div>"
      ],
      "text/plain": [
       "   cluster   número_mig           job  marital  education\n",
       "0        0  1200.250000    management  married  secondary\n",
       "1        1    40.243243  entrepreneur   single    primary\n",
       "2        2   289.090909    technician  married  secondary\n",
       "3        3   619.166667        admin.   single  secondary"
      ]
     },
     "execution_count": 35,
     "metadata": {},
     "output_type": "execute_result"
    }
   ],
   "source": [
    "# Obtenir tots els centroides (numèrics + categòrics en un sol array)\n",
    "centroides_tot = kproto.cluster_centroids_\n",
    "\n",
    "# Separar els valors: el primer és numèric ('número'), els altres són categòrics\n",
    "centroides_numerics = centroides_tot[:, [0]].astype(float)\n",
    "centroides_categorics = centroides_tot[:, 1:]\n",
    "\n",
    "# Crear DataFrame amb la informació dels centroides\n",
    "df_centroides = pd.DataFrame(\n",
    "    data = centroides_categorics,\n",
    "    columns = ['job', 'marital', 'education']\n",
    ")\n",
    "\n",
    "df_centroides['número_mig'] = centroides_numerics[:, 0]\n",
    "df_centroides['cluster'] = df_centroides.index\n",
    "\n",
    "# Reordenar columnes\n",
    "df_centroides = df_centroides[['cluster', 'número_mig', 'job', 'marital', 'education']]\n",
    "\n",
    "# Mostrar taula\n",
    "df_centroides"
   ]
  }
 ],
 "metadata": {
  "kernelspec": {
   "display_name": "Python 3",
   "language": "python",
   "name": "python3"
  },
  "language_info": {
   "codemirror_mode": {
    "name": "ipython",
    "version": 3
   },
   "file_extension": ".py",
   "mimetype": "text/x-python",
   "name": "python",
   "nbconvert_exporter": "python",
   "pygments_lexer": "ipython3",
   "version": "3.12.4"
  }
 },
 "nbformat": 4,
 "nbformat_minor": 5
}
