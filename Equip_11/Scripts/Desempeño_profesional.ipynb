{
 "cells": [
  {
   "cell_type": "code",
   "execution_count": 225,
   "id": "bb2a810f",
   "metadata": {},
   "outputs": [],
   "source": [
    "import numpy as np                  \n",
    "import pandas as pd                \n",
    "import matplotlib.pyplot as plt    \n",
    "import seaborn as sns\n",
    "import mysql.connector\n",
    "from mysql.connector import Error"
   ]
  },
  {
   "cell_type": "code",
   "execution_count": 226,
   "id": "3fdb687e",
   "metadata": {},
   "outputs": [],
   "source": [
    "def cargar_tablas_a_dataframes(host, database, user, password):\n",
    "    \"\"\"\n",
    "    Se conecta a una base de datos MySQL y carga todas las tablas como DataFrames de Pandas\n",
    "    con nombres dinámicos en el entorno global (ej. df_nombreTabla).\n",
    "    \"\"\"\n",
    "    try:\n",
    "        connection = mysql.connector.connect(\n",
    "            host=host,\n",
    "            database=database,\n",
    "            user=user,\n",
    "            password=password\n",
    "        )\n",
    "\n",
    "        if connection.is_connected():\n",
    "            cursor = connection.cursor()  # Creación de un cursor para ejecutar consultas SQL\n",
    "            cursor.execute(\"SHOW TABLES\")  # Se ejecuta la consulta \"SHOW TABLES\" para listar las tablas\n",
    "\n",
    "            tablas = [tabla[0] for tabla in cursor.fetchall()]  # Se obtienen los nombres de las tablas\n",
    "\n",
    "            for tabla in tablas:\n",
    "                cursor.execute(f\"SELECT * FROM {tabla}\")  # Se extraen los datos de cada tabla\n",
    "                columnas = [columna[0] for columna in cursor.description]  # Nombres de columnas\n",
    "                globals()[f'df_{tabla}'] = pd.DataFrame(cursor.fetchall(), columns=columnas)  # DataFrame dinámico\n",
    "                print(f'df_{tabla}')  # Mostrar el nombre del DataFrame creado\n",
    "\n",
    "    except Error as e:\n",
    "        print(\"Error while connecting to MySQL:\", e)  # Manejo de errores\n",
    "\n",
    "    finally:\n",
    "        if 'connection' in locals() and connection.is_connected():\n",
    "            cursor.close()  # Cierra el cursor\n",
    "            connection.close()  # Cierra la conexión\n",
    "            print(\"MySQL connection is closed\")  # Mensaje de cierre"
   ]
  },
  {
   "cell_type": "code",
   "execution_count": 227,
   "id": "e10da57e",
   "metadata": {},
   "outputs": [
    {
     "name": "stdout",
     "output_type": "stream",
     "text": [
      "df_RRHH\n",
      "df_RRHH_16062025\n",
      "MySQL connection is closed\n"
     ]
    }
   ],
   "source": [
    "cargar_tablas_a_dataframes('212.227.90.6', 'Equip_11', 'Equipo11', 'E1q2u3i4p5o11')"
   ]
  },
  {
   "cell_type": "code",
   "execution_count": 228,
   "id": "2df33b75",
   "metadata": {},
   "outputs": [],
   "source": [
    "# Muestra todas las columnas\n",
    "pd.set_option('display.max_columns', None)\n",
    "\n",
    "# Opcional: muestra todo el ancho (evita recortes por pantalla estrecha)\n",
    "pd.set_option('display.width', None)\n",
    "\n",
    "# Opcional: ajusta el ancho máximo de cada columna si es muy largo\n",
    "pd.set_option('display.max_colwidth', None)"
   ]
  },
  {
   "cell_type": "code",
   "execution_count": 229,
   "id": "68734914",
   "metadata": {},
   "outputs": [
    {
     "data": {
      "text/plain": [
       "Index(['ID', 'Reason_absence', 'Month_absence', 'Day_week', 'Seasons',\n",
       "       'Transportation_expense', 'Distance_Residence_Work', 'Service_time',\n",
       "       'Age', 'Work_load_Average_day', 'Hit_target', 'Disciplinary_failure',\n",
       "       'Education', 'Son', 'Social_drinker', 'Social_smoker', 'Pet', 'Weight',\n",
       "       'Height', 'Body_mass_index', 'Absenteeism_hours'],\n",
       "      dtype='object')"
      ]
     },
     "execution_count": 229,
     "metadata": {},
     "output_type": "execute_result"
    }
   ],
   "source": [
    "df_RRHH_16062025.columns"
   ]
  },
  {
   "cell_type": "code",
   "execution_count": 230,
   "id": "46c9f245",
   "metadata": {},
   "outputs": [
    {
     "data": {
      "text/html": [
       "<div>\n",
       "<style scoped>\n",
       "    .dataframe tbody tr th:only-of-type {\n",
       "        vertical-align: middle;\n",
       "    }\n",
       "\n",
       "    .dataframe tbody tr th {\n",
       "        vertical-align: top;\n",
       "    }\n",
       "\n",
       "    .dataframe thead th {\n",
       "        text-align: right;\n",
       "    }\n",
       "</style>\n",
       "<table border=\"1\" class=\"dataframe\">\n",
       "  <thead>\n",
       "    <tr style=\"text-align: right;\">\n",
       "      <th></th>\n",
       "      <th>ID</th>\n",
       "      <th>Reason_absence</th>\n",
       "      <th>Month_absence</th>\n",
       "      <th>Day_week</th>\n",
       "      <th>Seasons</th>\n",
       "      <th>Transportation_expense</th>\n",
       "      <th>Distance_Residence_Work</th>\n",
       "      <th>Service_time</th>\n",
       "      <th>Age</th>\n",
       "      <th>Work_load_Average_day</th>\n",
       "      <th>Hit_target</th>\n",
       "      <th>Disciplinary_failure</th>\n",
       "      <th>Education</th>\n",
       "      <th>Son</th>\n",
       "      <th>Social_drinker</th>\n",
       "      <th>Social_smoker</th>\n",
       "      <th>Pet</th>\n",
       "      <th>Weight</th>\n",
       "      <th>Height</th>\n",
       "      <th>Body_mass_index</th>\n",
       "      <th>Absenteeism_hours</th>\n",
       "    </tr>\n",
       "  </thead>\n",
       "  <tbody>\n",
       "    <tr>\n",
       "      <th>0</th>\n",
       "      <td>14</td>\n",
       "      <td>11</td>\n",
       "      <td>11</td>\n",
       "      <td>2</td>\n",
       "      <td>2</td>\n",
       "      <td>155</td>\n",
       "      <td>12</td>\n",
       "      <td>14</td>\n",
       "      <td>34</td>\n",
       "      <td>284,031</td>\n",
       "      <td>97</td>\n",
       "      <td>0</td>\n",
       "      <td>1</td>\n",
       "      <td>2</td>\n",
       "      <td>1</td>\n",
       "      <td>0</td>\n",
       "      <td>0</td>\n",
       "      <td>95</td>\n",
       "      <td>196</td>\n",
       "      <td>25</td>\n",
       "      <td>120</td>\n",
       "    </tr>\n",
       "    <tr>\n",
       "      <th>1</th>\n",
       "      <td>36</td>\n",
       "      <td>13</td>\n",
       "      <td>4</td>\n",
       "      <td>4</td>\n",
       "      <td>4</td>\n",
       "      <td>118</td>\n",
       "      <td>13</td>\n",
       "      <td>18</td>\n",
       "      <td>50</td>\n",
       "      <td>239,409</td>\n",
       "      <td>98</td>\n",
       "      <td>0</td>\n",
       "      <td>1</td>\n",
       "      <td>1</td>\n",
       "      <td>1</td>\n",
       "      <td>0</td>\n",
       "      <td>0</td>\n",
       "      <td>98</td>\n",
       "      <td>178</td>\n",
       "      <td>31</td>\n",
       "      <td>120</td>\n",
       "    </tr>\n",
       "    <tr>\n",
       "      <th>2</th>\n",
       "      <td>9</td>\n",
       "      <td>6</td>\n",
       "      <td>7</td>\n",
       "      <td>3</td>\n",
       "      <td>1</td>\n",
       "      <td>228</td>\n",
       "      <td>14</td>\n",
       "      <td>16</td>\n",
       "      <td>58</td>\n",
       "      <td>264,604</td>\n",
       "      <td>93</td>\n",
       "      <td>0</td>\n",
       "      <td>1</td>\n",
       "      <td>2</td>\n",
       "      <td>0</td>\n",
       "      <td>0</td>\n",
       "      <td>1</td>\n",
       "      <td>65</td>\n",
       "      <td>172</td>\n",
       "      <td>22</td>\n",
       "      <td>120</td>\n",
       "    </tr>\n",
       "    <tr>\n",
       "      <th>3</th>\n",
       "      <td>28</td>\n",
       "      <td>9</td>\n",
       "      <td>7</td>\n",
       "      <td>3</td>\n",
       "      <td>1</td>\n",
       "      <td>225</td>\n",
       "      <td>26</td>\n",
       "      <td>9</td>\n",
       "      <td>28</td>\n",
       "      <td>230,290</td>\n",
       "      <td>92</td>\n",
       "      <td>0</td>\n",
       "      <td>1</td>\n",
       "      <td>1</td>\n",
       "      <td>0</td>\n",
       "      <td>0</td>\n",
       "      <td>2</td>\n",
       "      <td>69</td>\n",
       "      <td>169</td>\n",
       "      <td>24</td>\n",
       "      <td>112</td>\n",
       "    </tr>\n",
       "    <tr>\n",
       "      <th>4</th>\n",
       "      <td>9</td>\n",
       "      <td>12</td>\n",
       "      <td>3</td>\n",
       "      <td>3</td>\n",
       "      <td>4</td>\n",
       "      <td>228</td>\n",
       "      <td>14</td>\n",
       "      <td>16</td>\n",
       "      <td>58</td>\n",
       "      <td>222,196</td>\n",
       "      <td>99</td>\n",
       "      <td>0</td>\n",
       "      <td>1</td>\n",
       "      <td>2</td>\n",
       "      <td>0</td>\n",
       "      <td>0</td>\n",
       "      <td>1</td>\n",
       "      <td>65</td>\n",
       "      <td>172</td>\n",
       "      <td>22</td>\n",
       "      <td>112</td>\n",
       "    </tr>\n",
       "    <tr>\n",
       "      <th>5</th>\n",
       "      <td>11</td>\n",
       "      <td>19</td>\n",
       "      <td>3</td>\n",
       "      <td>2</td>\n",
       "      <td>4</td>\n",
       "      <td>289</td>\n",
       "      <td>36</td>\n",
       "      <td>13</td>\n",
       "      <td>33</td>\n",
       "      <td>222,196</td>\n",
       "      <td>99</td>\n",
       "      <td>0</td>\n",
       "      <td>1</td>\n",
       "      <td>2</td>\n",
       "      <td>1</td>\n",
       "      <td>0</td>\n",
       "      <td>1</td>\n",
       "      <td>90</td>\n",
       "      <td>172</td>\n",
       "      <td>30</td>\n",
       "      <td>104</td>\n",
       "    </tr>\n",
       "    <tr>\n",
       "      <th>6</th>\n",
       "      <td>36</td>\n",
       "      <td>13</td>\n",
       "      <td>6</td>\n",
       "      <td>4</td>\n",
       "      <td>1</td>\n",
       "      <td>118</td>\n",
       "      <td>13</td>\n",
       "      <td>18</td>\n",
       "      <td>50</td>\n",
       "      <td>377,550</td>\n",
       "      <td>94</td>\n",
       "      <td>0</td>\n",
       "      <td>1</td>\n",
       "      <td>1</td>\n",
       "      <td>1</td>\n",
       "      <td>0</td>\n",
       "      <td>0</td>\n",
       "      <td>98</td>\n",
       "      <td>178</td>\n",
       "      <td>31</td>\n",
       "      <td>80</td>\n",
       "    </tr>\n",
       "    <tr>\n",
       "      <th>7</th>\n",
       "      <td>14</td>\n",
       "      <td>18</td>\n",
       "      <td>12</td>\n",
       "      <td>3</td>\n",
       "      <td>3</td>\n",
       "      <td>155</td>\n",
       "      <td>12</td>\n",
       "      <td>14</td>\n",
       "      <td>34</td>\n",
       "      <td>280,549</td>\n",
       "      <td>98</td>\n",
       "      <td>0</td>\n",
       "      <td>1</td>\n",
       "      <td>2</td>\n",
       "      <td>1</td>\n",
       "      <td>0</td>\n",
       "      <td>0</td>\n",
       "      <td>95</td>\n",
       "      <td>196</td>\n",
       "      <td>25</td>\n",
       "      <td>80</td>\n",
       "    </tr>\n",
       "    <tr>\n",
       "      <th>8</th>\n",
       "      <td>13</td>\n",
       "      <td>13</td>\n",
       "      <td>7</td>\n",
       "      <td>2</td>\n",
       "      <td>1</td>\n",
       "      <td>369</td>\n",
       "      <td>17</td>\n",
       "      <td>12</td>\n",
       "      <td>31</td>\n",
       "      <td>264,604</td>\n",
       "      <td>93</td>\n",
       "      <td>0</td>\n",
       "      <td>1</td>\n",
       "      <td>3</td>\n",
       "      <td>1</td>\n",
       "      <td>0</td>\n",
       "      <td>0</td>\n",
       "      <td>70</td>\n",
       "      <td>169</td>\n",
       "      <td>25</td>\n",
       "      <td>80</td>\n",
       "    </tr>\n",
       "    <tr>\n",
       "      <th>9</th>\n",
       "      <td>34</td>\n",
       "      <td>19</td>\n",
       "      <td>12</td>\n",
       "      <td>3</td>\n",
       "      <td>3</td>\n",
       "      <td>118</td>\n",
       "      <td>10</td>\n",
       "      <td>10</td>\n",
       "      <td>37</td>\n",
       "      <td>261,306</td>\n",
       "      <td>97</td>\n",
       "      <td>0</td>\n",
       "      <td>1</td>\n",
       "      <td>0</td>\n",
       "      <td>0</td>\n",
       "      <td>0</td>\n",
       "      <td>0</td>\n",
       "      <td>83</td>\n",
       "      <td>172</td>\n",
       "      <td>28</td>\n",
       "      <td>64</td>\n",
       "    </tr>\n",
       "    <tr>\n",
       "      <th>10</th>\n",
       "      <td>22</td>\n",
       "      <td>1</td>\n",
       "      <td>10</td>\n",
       "      <td>4</td>\n",
       "      <td>2</td>\n",
       "      <td>179</td>\n",
       "      <td>26</td>\n",
       "      <td>9</td>\n",
       "      <td>30</td>\n",
       "      <td>265,017</td>\n",
       "      <td>88</td>\n",
       "      <td>0</td>\n",
       "      <td>3</td>\n",
       "      <td>0</td>\n",
       "      <td>0</td>\n",
       "      <td>0</td>\n",
       "      <td>0</td>\n",
       "      <td>56</td>\n",
       "      <td>171</td>\n",
       "      <td>19</td>\n",
       "      <td>64</td>\n",
       "    </tr>\n",
       "    <tr>\n",
       "      <th>11</th>\n",
       "      <td>26</td>\n",
       "      <td>19</td>\n",
       "      <td>5</td>\n",
       "      <td>6</td>\n",
       "      <td>4</td>\n",
       "      <td>300</td>\n",
       "      <td>26</td>\n",
       "      <td>13</td>\n",
       "      <td>43</td>\n",
       "      <td>237,656</td>\n",
       "      <td>99</td>\n",
       "      <td>0</td>\n",
       "      <td>1</td>\n",
       "      <td>2</td>\n",
       "      <td>1</td>\n",
       "      <td>1</td>\n",
       "      <td>1</td>\n",
       "      <td>77</td>\n",
       "      <td>175</td>\n",
       "      <td>25</td>\n",
       "      <td>64</td>\n",
       "    </tr>\n",
       "    <tr>\n",
       "      <th>12</th>\n",
       "      <td>34</td>\n",
       "      <td>19</td>\n",
       "      <td>12</td>\n",
       "      <td>3</td>\n",
       "      <td>3</td>\n",
       "      <td>118</td>\n",
       "      <td>10</td>\n",
       "      <td>10</td>\n",
       "      <td>37</td>\n",
       "      <td>261,306</td>\n",
       "      <td>97</td>\n",
       "      <td>0</td>\n",
       "      <td>1</td>\n",
       "      <td>0</td>\n",
       "      <td>0</td>\n",
       "      <td>0</td>\n",
       "      <td>0</td>\n",
       "      <td>83</td>\n",
       "      <td>172</td>\n",
       "      <td>28</td>\n",
       "      <td>56</td>\n",
       "    </tr>\n",
       "    <tr>\n",
       "      <th>13</th>\n",
       "      <td>20</td>\n",
       "      <td>19</td>\n",
       "      <td>4</td>\n",
       "      <td>6</td>\n",
       "      <td>4</td>\n",
       "      <td>260</td>\n",
       "      <td>50</td>\n",
       "      <td>11</td>\n",
       "      <td>36</td>\n",
       "      <td>326,452</td>\n",
       "      <td>96</td>\n",
       "      <td>0</td>\n",
       "      <td>1</td>\n",
       "      <td>4</td>\n",
       "      <td>1</td>\n",
       "      <td>0</td>\n",
       "      <td>0</td>\n",
       "      <td>65</td>\n",
       "      <td>168</td>\n",
       "      <td>23</td>\n",
       "      <td>56</td>\n",
       "    </tr>\n",
       "    <tr>\n",
       "      <th>14</th>\n",
       "      <td>14</td>\n",
       "      <td>10</td>\n",
       "      <td>5</td>\n",
       "      <td>2</td>\n",
       "      <td>4</td>\n",
       "      <td>155</td>\n",
       "      <td>12</td>\n",
       "      <td>14</td>\n",
       "      <td>34</td>\n",
       "      <td>237,656</td>\n",
       "      <td>99</td>\n",
       "      <td>0</td>\n",
       "      <td>1</td>\n",
       "      <td>2</td>\n",
       "      <td>1</td>\n",
       "      <td>0</td>\n",
       "      <td>0</td>\n",
       "      <td>95</td>\n",
       "      <td>196</td>\n",
       "      <td>25</td>\n",
       "      <td>48</td>\n",
       "    </tr>\n",
       "  </tbody>\n",
       "</table>\n",
       "</div>"
      ],
      "text/plain": [
       "    ID  Reason_absence  Month_absence  Day_week  Seasons  \\\n",
       "0   14              11             11         2        2   \n",
       "1   36              13              4         4        4   \n",
       "2    9               6              7         3        1   \n",
       "3   28               9              7         3        1   \n",
       "4    9              12              3         3        4   \n",
       "5   11              19              3         2        4   \n",
       "6   36              13              6         4        1   \n",
       "7   14              18             12         3        3   \n",
       "8   13              13              7         2        1   \n",
       "9   34              19             12         3        3   \n",
       "10  22               1             10         4        2   \n",
       "11  26              19              5         6        4   \n",
       "12  34              19             12         3        3   \n",
       "13  20              19              4         6        4   \n",
       "14  14              10              5         2        4   \n",
       "\n",
       "    Transportation_expense  Distance_Residence_Work  Service_time  Age  \\\n",
       "0                      155                       12            14   34   \n",
       "1                      118                       13            18   50   \n",
       "2                      228                       14            16   58   \n",
       "3                      225                       26             9   28   \n",
       "4                      228                       14            16   58   \n",
       "5                      289                       36            13   33   \n",
       "6                      118                       13            18   50   \n",
       "7                      155                       12            14   34   \n",
       "8                      369                       17            12   31   \n",
       "9                      118                       10            10   37   \n",
       "10                     179                       26             9   30   \n",
       "11                     300                       26            13   43   \n",
       "12                     118                       10            10   37   \n",
       "13                     260                       50            11   36   \n",
       "14                     155                       12            14   34   \n",
       "\n",
       "   Work_load_Average_day  Hit_target Disciplinary_failure Education  Son  \\\n",
       "0                284,031          97                    0         1    2   \n",
       "1                239,409          98                    0         1    1   \n",
       "2                264,604          93                    0         1    2   \n",
       "3                230,290          92                    0         1    1   \n",
       "4                222,196          99                    0         1    2   \n",
       "5                222,196          99                    0         1    2   \n",
       "6                377,550          94                    0         1    1   \n",
       "7                280,549          98                    0         1    2   \n",
       "8                264,604          93                    0         1    3   \n",
       "9                261,306          97                    0         1    0   \n",
       "10               265,017          88                    0         3    0   \n",
       "11               237,656          99                    0         1    2   \n",
       "12               261,306          97                    0         1    0   \n",
       "13               326,452          96                    0         1    4   \n",
       "14               237,656          99                    0         1    2   \n",
       "\n",
       "   Social_drinker Social_smoker Pet  Weight  Height  Body_mass_index  \\\n",
       "0               1             0   0      95     196               25   \n",
       "1               1             0   0      98     178               31   \n",
       "2               0             0   1      65     172               22   \n",
       "3               0             0   2      69     169               24   \n",
       "4               0             0   1      65     172               22   \n",
       "5               1             0   1      90     172               30   \n",
       "6               1             0   0      98     178               31   \n",
       "7               1             0   0      95     196               25   \n",
       "8               1             0   0      70     169               25   \n",
       "9               0             0   0      83     172               28   \n",
       "10              0             0   0      56     171               19   \n",
       "11              1             1   1      77     175               25   \n",
       "12              0             0   0      83     172               28   \n",
       "13              1             0   0      65     168               23   \n",
       "14              1             0   0      95     196               25   \n",
       "\n",
       "    Absenteeism_hours  \n",
       "0                 120  \n",
       "1                 120  \n",
       "2                 120  \n",
       "3                 112  \n",
       "4                 112  \n",
       "5                 104  \n",
       "6                  80  \n",
       "7                  80  \n",
       "8                  80  \n",
       "9                  64  \n",
       "10                 64  \n",
       "11                 64  \n",
       "12                 56  \n",
       "13                 56  \n",
       "14                 48  "
      ]
     },
     "execution_count": 230,
     "metadata": {},
     "output_type": "execute_result"
    }
   ],
   "source": [
    "df_RRHH.head(15)"
   ]
  },
  {
   "cell_type": "code",
   "execution_count": 231,
   "id": "3cb4a797",
   "metadata": {},
   "outputs": [
    {
     "name": "stdout",
     "output_type": "stream",
     "text": [
      "<class 'pandas.core.frame.DataFrame'>\n",
      "RangeIndex: 840 entries, 0 to 839\n",
      "Data columns (total 21 columns):\n",
      " #   Column                   Non-Null Count  Dtype \n",
      "---  ------                   --------------  ----- \n",
      " 0   ID                       840 non-null    int64 \n",
      " 1   Reason_absence           840 non-null    int64 \n",
      " 2   Month_absence            840 non-null    int64 \n",
      " 3   Day_week                 840 non-null    int64 \n",
      " 4   Seasons                  840 non-null    int64 \n",
      " 5   Transportation_expense   840 non-null    int64 \n",
      " 6   Distance_Residence_Work  840 non-null    int64 \n",
      " 7   Service_time             840 non-null    int64 \n",
      " 8   Age                      840 non-null    int64 \n",
      " 9   Work_load_Average_day    840 non-null    object\n",
      " 10  Hit_target               840 non-null    int64 \n",
      " 11  Disciplinary_failure     840 non-null    object\n",
      " 12  Education                840 non-null    object\n",
      " 13  Son                      840 non-null    int64 \n",
      " 14  Social_drinker           840 non-null    object\n",
      " 15  Social_smoker            840 non-null    object\n",
      " 16  Pet                      840 non-null    int64 \n",
      " 17  Weight                   840 non-null    int64 \n",
      " 18  Height                   840 non-null    int64 \n",
      " 19  Body_mass_index          840 non-null    int64 \n",
      " 20  Absenteeism_hours        840 non-null    int64 \n",
      "dtypes: int64(16), object(5)\n",
      "memory usage: 137.9+ KB\n"
     ]
    }
   ],
   "source": [
    "df_RRHH_16062025.info()"
   ]
  },
  {
   "cell_type": "code",
   "execution_count": 232,
   "id": "de962230",
   "metadata": {},
   "outputs": [
    {
     "data": {
      "text/html": [
       "<div>\n",
       "<style scoped>\n",
       "    .dataframe tbody tr th:only-of-type {\n",
       "        vertical-align: middle;\n",
       "    }\n",
       "\n",
       "    .dataframe tbody tr th {\n",
       "        vertical-align: top;\n",
       "    }\n",
       "\n",
       "    .dataframe thead th {\n",
       "        text-align: right;\n",
       "    }\n",
       "</style>\n",
       "<table border=\"1\" class=\"dataframe\">\n",
       "  <thead>\n",
       "    <tr style=\"text-align: right;\">\n",
       "      <th></th>\n",
       "      <th>ID</th>\n",
       "      <th>Hit_target</th>\n",
       "      <th>Disciplinary_failure</th>\n",
       "      <th>Service_time</th>\n",
       "      <th>Work_load_Average_day</th>\n",
       "      <th>Age</th>\n",
       "      <th>Son</th>\n",
       "      <th>Education</th>\n",
       "      <th>Social_drinker</th>\n",
       "      <th>Social_smoker</th>\n",
       "      <th>Distance_Residence_Work</th>\n",
       "    </tr>\n",
       "  </thead>\n",
       "  <tbody>\n",
       "    <tr>\n",
       "      <th>0</th>\n",
       "      <td>1</td>\n",
       "      <td>98</td>\n",
       "      <td>1</td>\n",
       "      <td>14</td>\n",
       "      <td>244.387</td>\n",
       "      <td>37</td>\n",
       "      <td>1</td>\n",
       "      <td>3</td>\n",
       "      <td>0</td>\n",
       "      <td>0</td>\n",
       "      <td>11</td>\n",
       "    </tr>\n",
       "    <tr>\n",
       "      <th>1</th>\n",
       "      <td>2</td>\n",
       "      <td>96</td>\n",
       "      <td>1</td>\n",
       "      <td>12</td>\n",
       "      <td>326.452</td>\n",
       "      <td>48</td>\n",
       "      <td>1</td>\n",
       "      <td>1</td>\n",
       "      <td>0</td>\n",
       "      <td>1</td>\n",
       "      <td>29</td>\n",
       "    </tr>\n",
       "    <tr>\n",
       "      <th>2</th>\n",
       "      <td>3</td>\n",
       "      <td>95</td>\n",
       "      <td>1</td>\n",
       "      <td>18</td>\n",
       "      <td>253.957</td>\n",
       "      <td>38</td>\n",
       "      <td>0</td>\n",
       "      <td>1</td>\n",
       "      <td>1</td>\n",
       "      <td>0</td>\n",
       "      <td>51</td>\n",
       "    </tr>\n",
       "    <tr>\n",
       "      <th>3</th>\n",
       "      <td>4</td>\n",
       "      <td>95</td>\n",
       "      <td>0</td>\n",
       "      <td>13</td>\n",
       "      <td>271.219</td>\n",
       "      <td>40</td>\n",
       "      <td>1</td>\n",
       "      <td>1</td>\n",
       "      <td>1</td>\n",
       "      <td>0</td>\n",
       "      <td>14</td>\n",
       "    </tr>\n",
       "    <tr>\n",
       "      <th>4</th>\n",
       "      <td>5</td>\n",
       "      <td>81</td>\n",
       "      <td>1</td>\n",
       "      <td>13</td>\n",
       "      <td>294.217</td>\n",
       "      <td>43</td>\n",
       "      <td>1</td>\n",
       "      <td>1</td>\n",
       "      <td>1</td>\n",
       "      <td>0</td>\n",
       "      <td>20</td>\n",
       "    </tr>\n",
       "    <tr>\n",
       "      <th>5</th>\n",
       "      <td>6</td>\n",
       "      <td>97</td>\n",
       "      <td>0</td>\n",
       "      <td>13</td>\n",
       "      <td>239.554</td>\n",
       "      <td>33</td>\n",
       "      <td>2</td>\n",
       "      <td>1</td>\n",
       "      <td>0</td>\n",
       "      <td>0</td>\n",
       "      <td>29</td>\n",
       "    </tr>\n",
       "    <tr>\n",
       "      <th>6</th>\n",
       "      <td>7</td>\n",
       "      <td>92</td>\n",
       "      <td>1</td>\n",
       "      <td>14</td>\n",
       "      <td>378.884</td>\n",
       "      <td>39</td>\n",
       "      <td>2</td>\n",
       "      <td>1</td>\n",
       "      <td>1</td>\n",
       "      <td>1</td>\n",
       "      <td>5</td>\n",
       "    </tr>\n",
       "    <tr>\n",
       "      <th>7</th>\n",
       "      <td>8</td>\n",
       "      <td>95</td>\n",
       "      <td>0</td>\n",
       "      <td>14</td>\n",
       "      <td>271.219</td>\n",
       "      <td>39</td>\n",
       "      <td>2</td>\n",
       "      <td>1</td>\n",
       "      <td>1</td>\n",
       "      <td>0</td>\n",
       "      <td>35</td>\n",
       "    </tr>\n",
       "    <tr>\n",
       "      <th>8</th>\n",
       "      <td>9</td>\n",
       "      <td>91</td>\n",
       "      <td>0</td>\n",
       "      <td>16</td>\n",
       "      <td>284.853</td>\n",
       "      <td>58</td>\n",
       "      <td>2</td>\n",
       "      <td>1</td>\n",
       "      <td>0</td>\n",
       "      <td>0</td>\n",
       "      <td>14</td>\n",
       "    </tr>\n",
       "    <tr>\n",
       "      <th>9</th>\n",
       "      <td>10</td>\n",
       "      <td>99</td>\n",
       "      <td>0</td>\n",
       "      <td>3</td>\n",
       "      <td>237.656</td>\n",
       "      <td>28</td>\n",
       "      <td>1</td>\n",
       "      <td>1</td>\n",
       "      <td>1</td>\n",
       "      <td>0</td>\n",
       "      <td>52</td>\n",
       "    </tr>\n",
       "  </tbody>\n",
       "</table>\n",
       "</div>"
      ],
      "text/plain": [
       "   ID  Hit_target Disciplinary_failure  Service_time Work_load_Average_day  \\\n",
       "0   1          98                    1            14               244.387   \n",
       "1   2          96                    1            12               326.452   \n",
       "2   3          95                    1            18               253.957   \n",
       "3   4          95                    0            13               271.219   \n",
       "4   5          81                    1            13               294.217   \n",
       "5   6          97                    0            13               239.554   \n",
       "6   7          92                    1            14               378.884   \n",
       "7   8          95                    0            14               271.219   \n",
       "8   9          91                    0            16               284.853   \n",
       "9  10          99                    0             3               237.656   \n",
       "\n",
       "   Age  Son Education Social_drinker Social_smoker  Distance_Residence_Work  \n",
       "0   37    1         3              0             0                       11  \n",
       "1   48    1         1              0             1                       29  \n",
       "2   38    0         1              1             0                       51  \n",
       "3   40    1         1              1             0                       14  \n",
       "4   43    1         1              1             0                       20  \n",
       "5   33    2         1              0             0                       29  \n",
       "6   39    2         1              1             1                        5  \n",
       "7   39    2         1              1             0                       35  \n",
       "8   58    2         1              0             0                       14  \n",
       "9   28    1         1              1             0                       52  "
      ]
     },
     "execution_count": 232,
     "metadata": {},
     "output_type": "execute_result"
    }
   ],
   "source": [
    "desempeño_profesional = df_RRHH_16062025[['ID', 'Hit_target', 'Disciplinary_failure', 'Service_time','Work_load_Average_day', 'Age', 'Son', 'Education','Social_drinker', 'Social_smoker', 'Distance_Residence_Work']].drop_duplicates(subset='ID').reset_index(drop=True)\n",
    "desempeño_profesional.head(10)"
   ]
  },
  {
   "cell_type": "code",
   "execution_count": 233,
   "id": "aeccbcec",
   "metadata": {},
   "outputs": [
    {
     "data": {
      "text/html": [
       "<div>\n",
       "<style scoped>\n",
       "    .dataframe tbody tr th:only-of-type {\n",
       "        vertical-align: middle;\n",
       "    }\n",
       "\n",
       "    .dataframe tbody tr th {\n",
       "        vertical-align: top;\n",
       "    }\n",
       "\n",
       "    .dataframe thead th {\n",
       "        text-align: right;\n",
       "    }\n",
       "</style>\n",
       "<table border=\"1\" class=\"dataframe\">\n",
       "  <thead>\n",
       "    <tr style=\"text-align: right;\">\n",
       "      <th></th>\n",
       "      <th>ID</th>\n",
       "      <th>Hit_target</th>\n",
       "      <th>Disciplinary_failure</th>\n",
       "      <th>Service_time</th>\n",
       "      <th>Work_load_Average_day</th>\n",
       "      <th>Age</th>\n",
       "      <th>Son</th>\n",
       "      <th>Education</th>\n",
       "      <th>Social_drinker</th>\n",
       "      <th>Social_smoker</th>\n",
       "      <th>Distance_Residence_Work</th>\n",
       "    </tr>\n",
       "  </thead>\n",
       "  <tbody>\n",
       "    <tr>\n",
       "      <th>0</th>\n",
       "      <td>1</td>\n",
       "      <td>98</td>\n",
       "      <td>1</td>\n",
       "      <td>14</td>\n",
       "      <td>244.387</td>\n",
       "      <td>37</td>\n",
       "      <td>1</td>\n",
       "      <td>3</td>\n",
       "      <td>0</td>\n",
       "      <td>0</td>\n",
       "      <td>11</td>\n",
       "    </tr>\n",
       "    <tr>\n",
       "      <th>1</th>\n",
       "      <td>2</td>\n",
       "      <td>96</td>\n",
       "      <td>1</td>\n",
       "      <td>12</td>\n",
       "      <td>326.452</td>\n",
       "      <td>48</td>\n",
       "      <td>1</td>\n",
       "      <td>1</td>\n",
       "      <td>0</td>\n",
       "      <td>1</td>\n",
       "      <td>29</td>\n",
       "    </tr>\n",
       "    <tr>\n",
       "      <th>2</th>\n",
       "      <td>3</td>\n",
       "      <td>95</td>\n",
       "      <td>1</td>\n",
       "      <td>18</td>\n",
       "      <td>253.957</td>\n",
       "      <td>38</td>\n",
       "      <td>0</td>\n",
       "      <td>1</td>\n",
       "      <td>1</td>\n",
       "      <td>0</td>\n",
       "      <td>51</td>\n",
       "    </tr>\n",
       "    <tr>\n",
       "      <th>3</th>\n",
       "      <td>4</td>\n",
       "      <td>95</td>\n",
       "      <td>0</td>\n",
       "      <td>13</td>\n",
       "      <td>271.219</td>\n",
       "      <td>40</td>\n",
       "      <td>1</td>\n",
       "      <td>1</td>\n",
       "      <td>1</td>\n",
       "      <td>0</td>\n",
       "      <td>14</td>\n",
       "    </tr>\n",
       "    <tr>\n",
       "      <th>4</th>\n",
       "      <td>5</td>\n",
       "      <td>81</td>\n",
       "      <td>1</td>\n",
       "      <td>13</td>\n",
       "      <td>294.217</td>\n",
       "      <td>43</td>\n",
       "      <td>1</td>\n",
       "      <td>1</td>\n",
       "      <td>1</td>\n",
       "      <td>0</td>\n",
       "      <td>20</td>\n",
       "    </tr>\n",
       "    <tr>\n",
       "      <th>...</th>\n",
       "      <td>...</td>\n",
       "      <td>...</td>\n",
       "      <td>...</td>\n",
       "      <td>...</td>\n",
       "      <td>...</td>\n",
       "      <td>...</td>\n",
       "      <td>...</td>\n",
       "      <td>...</td>\n",
       "      <td>...</td>\n",
       "      <td>...</td>\n",
       "      <td>...</td>\n",
       "    </tr>\n",
       "    <tr>\n",
       "      <th>131</th>\n",
       "      <td>132</td>\n",
       "      <td>94</td>\n",
       "      <td>0</td>\n",
       "      <td>14</td>\n",
       "      <td>377.550</td>\n",
       "      <td>37</td>\n",
       "      <td>1</td>\n",
       "      <td>3</td>\n",
       "      <td>0</td>\n",
       "      <td>0</td>\n",
       "      <td>11</td>\n",
       "    </tr>\n",
       "    <tr>\n",
       "      <th>132</th>\n",
       "      <td>133</td>\n",
       "      <td>96</td>\n",
       "      <td>0</td>\n",
       "      <td>14</td>\n",
       "      <td>313.532</td>\n",
       "      <td>34</td>\n",
       "      <td>2</td>\n",
       "      <td>1</td>\n",
       "      <td>1</td>\n",
       "      <td>0</td>\n",
       "      <td>12</td>\n",
       "    </tr>\n",
       "    <tr>\n",
       "      <th>133</th>\n",
       "      <td>134</td>\n",
       "      <td>88</td>\n",
       "      <td>1</td>\n",
       "      <td>18</td>\n",
       "      <td>265.017</td>\n",
       "      <td>50</td>\n",
       "      <td>1</td>\n",
       "      <td>1</td>\n",
       "      <td>1</td>\n",
       "      <td>0</td>\n",
       "      <td>13</td>\n",
       "    </tr>\n",
       "    <tr>\n",
       "      <th>134</th>\n",
       "      <td>135</td>\n",
       "      <td>97</td>\n",
       "      <td>0</td>\n",
       "      <td>9</td>\n",
       "      <td>264.249</td>\n",
       "      <td>28</td>\n",
       "      <td>1</td>\n",
       "      <td>1</td>\n",
       "      <td>0</td>\n",
       "      <td>0</td>\n",
       "      <td>26</td>\n",
       "    </tr>\n",
       "    <tr>\n",
       "      <th>135</th>\n",
       "      <td>136</td>\n",
       "      <td>93</td>\n",
       "      <td>0</td>\n",
       "      <td>16</td>\n",
       "      <td>249.797</td>\n",
       "      <td>41</td>\n",
       "      <td>0</td>\n",
       "      <td>1</td>\n",
       "      <td>1</td>\n",
       "      <td>0</td>\n",
       "      <td>25</td>\n",
       "    </tr>\n",
       "  </tbody>\n",
       "</table>\n",
       "<p>136 rows × 11 columns</p>\n",
       "</div>"
      ],
      "text/plain": [
       "      ID  Hit_target Disciplinary_failure  Service_time Work_load_Average_day  \\\n",
       "0      1          98                    1            14               244.387   \n",
       "1      2          96                    1            12               326.452   \n",
       "2      3          95                    1            18               253.957   \n",
       "3      4          95                    0            13               271.219   \n",
       "4      5          81                    1            13               294.217   \n",
       "..   ...         ...                  ...           ...                   ...   \n",
       "131  132          94                    0            14               377.550   \n",
       "132  133          96                    0            14               313.532   \n",
       "133  134          88                    1            18               265.017   \n",
       "134  135          97                    0             9               264.249   \n",
       "135  136          93                    0            16               249.797   \n",
       "\n",
       "     Age  Son Education Social_drinker Social_smoker  Distance_Residence_Work  \n",
       "0     37    1         3              0             0                       11  \n",
       "1     48    1         1              0             1                       29  \n",
       "2     38    0         1              1             0                       51  \n",
       "3     40    1         1              1             0                       14  \n",
       "4     43    1         1              1             0                       20  \n",
       "..   ...  ...       ...            ...           ...                      ...  \n",
       "131   37    1         3              0             0                       11  \n",
       "132   34    2         1              1             0                       12  \n",
       "133   50    1         1              1             0                       13  \n",
       "134   28    1         1              0             0                       26  \n",
       "135   41    0         1              1             0                       25  \n",
       "\n",
       "[136 rows x 11 columns]"
      ]
     },
     "execution_count": 233,
     "metadata": {},
     "output_type": "execute_result"
    }
   ],
   "source": [
    "desempeño_profesional\n"
   ]
  },
  {
   "cell_type": "markdown",
   "id": "dbe8645b",
   "metadata": {},
   "source": [
    "total de empleados 136 - KPI - presentación"
   ]
  },
  {
   "cell_type": "markdown",
   "id": "90678163",
   "metadata": {},
   "source": [
    "* Cambio de tipo de datos"
   ]
  },
  {
   "cell_type": "code",
   "execution_count": 234,
   "id": "104a42d8",
   "metadata": {},
   "outputs": [
    {
     "name": "stdout",
     "output_type": "stream",
     "text": [
      "<class 'pandas.core.frame.DataFrame'>\n",
      "RangeIndex: 136 entries, 0 to 135\n",
      "Data columns (total 11 columns):\n",
      " #   Column                   Non-Null Count  Dtype\n",
      "---  ------                   --------------  -----\n",
      " 0   ID                       136 non-null    int64\n",
      " 1   Hit_target               136 non-null    int64\n",
      " 2   Disciplinary_failure     136 non-null    int64\n",
      " 3   Service_time             136 non-null    int64\n",
      " 4   Work_load_Average_day    136 non-null    int64\n",
      " 5   Age                      136 non-null    int64\n",
      " 6   Son                      136 non-null    int64\n",
      " 7   Education                136 non-null    int64\n",
      " 8   Social_drinker           136 non-null    int64\n",
      " 9   Social_smoker            136 non-null    int64\n",
      " 10  Distance_Residence_Work  136 non-null    int64\n",
      "dtypes: int64(11)\n",
      "memory usage: 11.8 KB\n"
     ]
    }
   ],
   "source": [
    "# Asegura que los valores de 'Education' sean enteros\n",
    "desempeño_profesional['Education'] = pd.to_numeric(desempeño_profesional['Education'], errors='coerce')\n",
    "desempeño_profesional['Education'] = desempeño_profesional['Education'].astype(int)\n",
    "\n",
    "# Asegura que los valores de '' sean enteros\n",
    "desempeño_profesional['Work_load_Average_day'] = pd.to_numeric(desempeño_profesional['Work_load_Average_day'], errors='coerce')\n",
    "desempeño_profesional['Work_load_Average_day'] = desempeño_profesional['Work_load_Average_day'].astype(int)\n",
    "\n",
    "desempeño_profesional['Social_drinker'] = pd.to_numeric(desempeño_profesional['Social_drinker'], errors='coerce')\n",
    "desempeño_profesional['Social_drinker'] = desempeño_profesional['Social_drinker'].astype(int)\n",
    "\n",
    "desempeño_profesional['Social_smoker'] = pd.to_numeric(desempeño_profesional['Social_smoker'], errors='coerce')\n",
    "desempeño_profesional['Social_smoker'] = desempeño_profesional['Social_smoker'].astype(int)\n",
    "\n",
    "desempeño_profesional['Disciplinary_failure'] = pd.to_numeric(desempeño_profesional['Disciplinary_failure'], errors='coerce')\n",
    "desempeño_profesional['Disciplinary_failure'] = desempeño_profesional['Disciplinary_failure'].astype(int)\n",
    "\n",
    "desempeño_profesional.info()"
   ]
  },
  {
   "cell_type": "code",
   "execution_count": 235,
   "id": "94cb2256",
   "metadata": {},
   "outputs": [
    {
     "data": {
      "text/html": [
       "<div>\n",
       "<style scoped>\n",
       "    .dataframe tbody tr th:only-of-type {\n",
       "        vertical-align: middle;\n",
       "    }\n",
       "\n",
       "    .dataframe tbody tr th {\n",
       "        vertical-align: top;\n",
       "    }\n",
       "\n",
       "    .dataframe thead th {\n",
       "        text-align: right;\n",
       "    }\n",
       "</style>\n",
       "<table border=\"1\" class=\"dataframe\">\n",
       "  <thead>\n",
       "    <tr style=\"text-align: right;\">\n",
       "      <th></th>\n",
       "      <th>ID</th>\n",
       "      <th>Hit_target</th>\n",
       "      <th>Disciplinary_failure</th>\n",
       "      <th>Service_time</th>\n",
       "      <th>Work_load_Average_day</th>\n",
       "      <th>Age</th>\n",
       "      <th>Son</th>\n",
       "      <th>Education</th>\n",
       "      <th>Social_drinker</th>\n",
       "      <th>Social_smoker</th>\n",
       "      <th>Distance_Residence_Work</th>\n",
       "    </tr>\n",
       "  </thead>\n",
       "  <tbody>\n",
       "    <tr>\n",
       "      <th>count</th>\n",
       "      <td>136.000000</td>\n",
       "      <td>136.000000</td>\n",
       "      <td>136.000000</td>\n",
       "      <td>136.000000</td>\n",
       "      <td>136.000000</td>\n",
       "      <td>136.000000</td>\n",
       "      <td>136.000000</td>\n",
       "      <td>136.000000</td>\n",
       "      <td>136.000000</td>\n",
       "      <td>136.000000</td>\n",
       "      <td>136.000000</td>\n",
       "    </tr>\n",
       "    <tr>\n",
       "      <th>mean</th>\n",
       "      <td>68.500000</td>\n",
       "      <td>94.352941</td>\n",
       "      <td>0.161765</td>\n",
       "      <td>12.095588</td>\n",
       "      <td>277.720588</td>\n",
       "      <td>36.279412</td>\n",
       "      <td>1.095588</td>\n",
       "      <td>1.257353</td>\n",
       "      <td>0.588235</td>\n",
       "      <td>0.066176</td>\n",
       "      <td>29.742647</td>\n",
       "    </tr>\n",
       "    <tr>\n",
       "      <th>std</th>\n",
       "      <td>39.403892</td>\n",
       "      <td>4.167830</td>\n",
       "      <td>0.369596</td>\n",
       "      <td>4.406861</td>\n",
       "      <td>35.156305</td>\n",
       "      <td>6.992791</td>\n",
       "      <td>1.046183</td>\n",
       "      <td>0.632412</td>\n",
       "      <td>0.493972</td>\n",
       "      <td>0.249509</td>\n",
       "      <td>14.229337</td>\n",
       "    </tr>\n",
       "    <tr>\n",
       "      <th>min</th>\n",
       "      <td>1.000000</td>\n",
       "      <td>81.000000</td>\n",
       "      <td>0.000000</td>\n",
       "      <td>1.000000</td>\n",
       "      <td>222.000000</td>\n",
       "      <td>27.000000</td>\n",
       "      <td>0.000000</td>\n",
       "      <td>1.000000</td>\n",
       "      <td>0.000000</td>\n",
       "      <td>0.000000</td>\n",
       "      <td>5.000000</td>\n",
       "    </tr>\n",
       "    <tr>\n",
       "      <th>25%</th>\n",
       "      <td>34.750000</td>\n",
       "      <td>92.000000</td>\n",
       "      <td>0.000000</td>\n",
       "      <td>9.000000</td>\n",
       "      <td>251.000000</td>\n",
       "      <td>30.750000</td>\n",
       "      <td>0.000000</td>\n",
       "      <td>1.000000</td>\n",
       "      <td>0.000000</td>\n",
       "      <td>0.000000</td>\n",
       "      <td>17.000000</td>\n",
       "    </tr>\n",
       "    <tr>\n",
       "      <th>50%</th>\n",
       "      <td>68.500000</td>\n",
       "      <td>95.000000</td>\n",
       "      <td>0.000000</td>\n",
       "      <td>12.000000</td>\n",
       "      <td>266.500000</td>\n",
       "      <td>36.000000</td>\n",
       "      <td>1.000000</td>\n",
       "      <td>1.000000</td>\n",
       "      <td>1.000000</td>\n",
       "      <td>0.000000</td>\n",
       "      <td>26.000000</td>\n",
       "    </tr>\n",
       "    <tr>\n",
       "      <th>75%</th>\n",
       "      <td>102.250000</td>\n",
       "      <td>97.000000</td>\n",
       "      <td>0.000000</td>\n",
       "      <td>14.000000</td>\n",
       "      <td>294.000000</td>\n",
       "      <td>40.000000</td>\n",
       "      <td>2.000000</td>\n",
       "      <td>1.000000</td>\n",
       "      <td>1.000000</td>\n",
       "      <td>0.000000</td>\n",
       "      <td>42.000000</td>\n",
       "    </tr>\n",
       "    <tr>\n",
       "      <th>max</th>\n",
       "      <td>136.000000</td>\n",
       "      <td>100.000000</td>\n",
       "      <td>1.000000</td>\n",
       "      <td>29.000000</td>\n",
       "      <td>378.000000</td>\n",
       "      <td>58.000000</td>\n",
       "      <td>4.000000</td>\n",
       "      <td>3.000000</td>\n",
       "      <td>1.000000</td>\n",
       "      <td>1.000000</td>\n",
       "      <td>52.000000</td>\n",
       "    </tr>\n",
       "  </tbody>\n",
       "</table>\n",
       "</div>"
      ],
      "text/plain": [
       "               ID  Hit_target  Disciplinary_failure  Service_time  \\\n",
       "count  136.000000  136.000000            136.000000    136.000000   \n",
       "mean    68.500000   94.352941              0.161765     12.095588   \n",
       "std     39.403892    4.167830              0.369596      4.406861   \n",
       "min      1.000000   81.000000              0.000000      1.000000   \n",
       "25%     34.750000   92.000000              0.000000      9.000000   \n",
       "50%     68.500000   95.000000              0.000000     12.000000   \n",
       "75%    102.250000   97.000000              0.000000     14.000000   \n",
       "max    136.000000  100.000000              1.000000     29.000000   \n",
       "\n",
       "       Work_load_Average_day         Age         Son   Education  \\\n",
       "count             136.000000  136.000000  136.000000  136.000000   \n",
       "mean              277.720588   36.279412    1.095588    1.257353   \n",
       "std                35.156305    6.992791    1.046183    0.632412   \n",
       "min               222.000000   27.000000    0.000000    1.000000   \n",
       "25%               251.000000   30.750000    0.000000    1.000000   \n",
       "50%               266.500000   36.000000    1.000000    1.000000   \n",
       "75%               294.000000   40.000000    2.000000    1.000000   \n",
       "max               378.000000   58.000000    4.000000    3.000000   \n",
       "\n",
       "       Social_drinker  Social_smoker  Distance_Residence_Work  \n",
       "count      136.000000     136.000000               136.000000  \n",
       "mean         0.588235       0.066176                29.742647  \n",
       "std          0.493972       0.249509                14.229337  \n",
       "min          0.000000       0.000000                 5.000000  \n",
       "25%          0.000000       0.000000                17.000000  \n",
       "50%          1.000000       0.000000                26.000000  \n",
       "75%          1.000000       0.000000                42.000000  \n",
       "max          1.000000       1.000000                52.000000  "
      ]
     },
     "execution_count": 235,
     "metadata": {},
     "output_type": "execute_result"
    }
   ],
   "source": [
    "desempeño_profesional.describe()"
   ]
  },
  {
   "cell_type": "markdown",
   "id": "6673eac3",
   "metadata": {},
   "source": [
    "El empleado con mayor tiempo de servicio (29 años) tiene 49 años, entonces el tiempo de servicio está en años."
   ]
  },
  {
   "cell_type": "code",
   "execution_count": 236,
   "id": "4fa1e777",
   "metadata": {},
   "outputs": [
    {
     "name": "stdout",
     "output_type": "stream",
     "text": [
      "31    49\n",
      "Name: Age, dtype: int64\n"
     ]
    }
   ],
   "source": [
    "# Muestra la columna 'Age' donde 'Service_time' es 29\n",
    "edad = desempeño_profesional.loc[desempeño_profesional['Service_time'] == 29, 'Age']\n",
    "print(edad)"
   ]
  },
  {
   "cell_type": "markdown",
   "id": "d67f65e0",
   "metadata": {},
   "source": [
    "## Regresión Lineal"
   ]
  },
  {
   "cell_type": "code",
   "execution_count": 238,
   "id": "904bbea2",
   "metadata": {},
   "outputs": [
    {
     "data": {
      "text/html": [
       "<table class=\"simpletable\">\n",
       "<caption>OLS Regression Results</caption>\n",
       "<tr>\n",
       "  <th>Dep. Variable:</th>       <td>Hit_target</td>    <th>  R-squared:         </th> <td>   0.111</td>\n",
       "</tr>\n",
       "<tr>\n",
       "  <th>Model:</th>                   <td>OLS</td>       <th>  Adj. R-squared:    </th> <td>   0.063</td>\n",
       "</tr>\n",
       "<tr>\n",
       "  <th>Method:</th>             <td>Least Squares</td>  <th>  F-statistic:       </th> <td>   2.292</td>\n",
       "</tr>\n",
       "<tr>\n",
       "  <th>Date:</th>             <td>Mon, 23 Jun 2025</td> <th>  Prob (F-statistic):</th>  <td>0.0312</td> \n",
       "</tr>\n",
       "<tr>\n",
       "  <th>Time:</th>                 <td>17:11:20</td>     <th>  Log-Likelihood:    </th> <td> -378.57</td>\n",
       "</tr>\n",
       "<tr>\n",
       "  <th>No. Observations:</th>      <td>   136</td>      <th>  AIC:               </th> <td>   773.1</td>\n",
       "</tr>\n",
       "<tr>\n",
       "  <th>Df Residuals:</th>          <td>   128</td>      <th>  BIC:               </th> <td>   796.4</td>\n",
       "</tr>\n",
       "<tr>\n",
       "  <th>Df Model:</th>              <td>     7</td>      <th>                     </th>     <td> </td>   \n",
       "</tr>\n",
       "<tr>\n",
       "  <th>Covariance Type:</th>      <td>nonrobust</td>    <th>                     </th>     <td> </td>   \n",
       "</tr>\n",
       "</table>\n",
       "<table class=\"simpletable\">\n",
       "<tr>\n",
       "             <td></td>                <th>coef</th>     <th>std err</th>      <th>t</th>      <th>P>|t|</th>  <th>[0.025</th>    <th>0.975]</th>  \n",
       "</tr>\n",
       "<tr>\n",
       "  <th>const</th>                   <td>   95.6343</td> <td>    2.684</td> <td>   35.630</td> <td> 0.000</td> <td>   90.323</td> <td>  100.945</td>\n",
       "</tr>\n",
       "<tr>\n",
       "  <th>Age</th>                     <td>    0.0108</td> <td>    0.053</td> <td>    0.204</td> <td> 0.839</td> <td>   -0.094</td> <td>    0.116</td>\n",
       "</tr>\n",
       "<tr>\n",
       "  <th>Son</th>                     <td>    0.3867</td> <td>    0.357</td> <td>    1.083</td> <td> 0.281</td> <td>   -0.320</td> <td>    1.093</td>\n",
       "</tr>\n",
       "<tr>\n",
       "  <th>Social_drinker</th>          <td>   -1.4395</td> <td>    0.820</td> <td>   -1.756</td> <td> 0.081</td> <td>   -3.061</td> <td>    0.182</td>\n",
       "</tr>\n",
       "<tr>\n",
       "  <th>Social_smoker</th>           <td>    0.8457</td> <td>    1.450</td> <td>    0.583</td> <td> 0.561</td> <td>   -2.023</td> <td>    3.715</td>\n",
       "</tr>\n",
       "<tr>\n",
       "  <th>Education</th>               <td>   -0.1445</td> <td>    0.636</td> <td>   -0.227</td> <td> 0.821</td> <td>   -1.404</td> <td>    1.115</td>\n",
       "</tr>\n",
       "<tr>\n",
       "  <th>Distance_Residence_Work</th> <td>   -0.0206</td> <td>    0.027</td> <td>   -0.766</td> <td> 0.445</td> <td>   -0.074</td> <td>    0.033</td>\n",
       "</tr>\n",
       "<tr>\n",
       "  <th>Disciplinary_failure</th>    <td>   -3.1618</td> <td>    0.971</td> <td>   -3.255</td> <td> 0.001</td> <td>   -5.084</td> <td>   -1.240</td>\n",
       "</tr>\n",
       "</table>\n",
       "<table class=\"simpletable\">\n",
       "<tr>\n",
       "  <th>Omnibus:</th>       <td>28.846</td> <th>  Durbin-Watson:     </th> <td>   1.778</td>\n",
       "</tr>\n",
       "<tr>\n",
       "  <th>Prob(Omnibus):</th> <td> 0.000</td> <th>  Jarque-Bera (JB):  </th> <td>  41.973</td>\n",
       "</tr>\n",
       "<tr>\n",
       "  <th>Skew:</th>          <td>-1.099</td> <th>  Prob(JB):          </th> <td>7.68e-10</td>\n",
       "</tr>\n",
       "<tr>\n",
       "  <th>Kurtosis:</th>      <td> 4.606</td> <th>  Cond. No.          </th> <td>    377.</td>\n",
       "</tr>\n",
       "</table><br/><br/>Notes:<br/>[1] Standard Errors assume that the covariance matrix of the errors is correctly specified."
      ],
      "text/latex": [
       "\\begin{center}\n",
       "\\begin{tabular}{lclc}\n",
       "\\toprule\n",
       "\\textbf{Dep. Variable:}            &   Hit\\_target    & \\textbf{  R-squared:         } &     0.111   \\\\\n",
       "\\textbf{Model:}                    &       OLS        & \\textbf{  Adj. R-squared:    } &     0.063   \\\\\n",
       "\\textbf{Method:}                   &  Least Squares   & \\textbf{  F-statistic:       } &     2.292   \\\\\n",
       "\\textbf{Date:}                     & Mon, 23 Jun 2025 & \\textbf{  Prob (F-statistic):} &   0.0312    \\\\\n",
       "\\textbf{Time:}                     &     17:11:20     & \\textbf{  Log-Likelihood:    } &   -378.57   \\\\\n",
       "\\textbf{No. Observations:}         &         136      & \\textbf{  AIC:               } &     773.1   \\\\\n",
       "\\textbf{Df Residuals:}             &         128      & \\textbf{  BIC:               } &     796.4   \\\\\n",
       "\\textbf{Df Model:}                 &           7      & \\textbf{                     } &             \\\\\n",
       "\\textbf{Covariance Type:}          &    nonrobust     & \\textbf{                     } &             \\\\\n",
       "\\bottomrule\n",
       "\\end{tabular}\n",
       "\\begin{tabular}{lcccccc}\n",
       "                                   & \\textbf{coef} & \\textbf{std err} & \\textbf{t} & \\textbf{P$> |$t$|$} & \\textbf{[0.025} & \\textbf{0.975]}  \\\\\n",
       "\\midrule\n",
       "\\textbf{const}                     &      95.6343  &        2.684     &    35.630  &         0.000        &       90.323    &      100.945     \\\\\n",
       "\\textbf{Age}                       &       0.0108  &        0.053     &     0.204  &         0.839        &       -0.094    &        0.116     \\\\\n",
       "\\textbf{Son}                       &       0.3867  &        0.357     &     1.083  &         0.281        &       -0.320    &        1.093     \\\\\n",
       "\\textbf{Social\\_drinker}           &      -1.4395  &        0.820     &    -1.756  &         0.081        &       -3.061    &        0.182     \\\\\n",
       "\\textbf{Social\\_smoker}            &       0.8457  &        1.450     &     0.583  &         0.561        &       -2.023    &        3.715     \\\\\n",
       "\\textbf{Education}                 &      -0.1445  &        0.636     &    -0.227  &         0.821        &       -1.404    &        1.115     \\\\\n",
       "\\textbf{Distance\\_Residence\\_Work} &      -0.0206  &        0.027     &    -0.766  &         0.445        &       -0.074    &        0.033     \\\\\n",
       "\\textbf{Disciplinary\\_failure}     &      -3.1618  &        0.971     &    -3.255  &         0.001        &       -5.084    &       -1.240     \\\\\n",
       "\\bottomrule\n",
       "\\end{tabular}\n",
       "\\begin{tabular}{lclc}\n",
       "\\textbf{Omnibus:}       & 28.846 & \\textbf{  Durbin-Watson:     } &    1.778  \\\\\n",
       "\\textbf{Prob(Omnibus):} &  0.000 & \\textbf{  Jarque-Bera (JB):  } &   41.973  \\\\\n",
       "\\textbf{Skew:}          & -1.099 & \\textbf{  Prob(JB):          } & 7.68e-10  \\\\\n",
       "\\textbf{Kurtosis:}      &  4.606 & \\textbf{  Cond. No.          } &     377.  \\\\\n",
       "\\bottomrule\n",
       "\\end{tabular}\n",
       "%\\caption{OLS Regression Results}\n",
       "\\end{center}\n",
       "\n",
       "Notes: \\newline\n",
       " [1] Standard Errors assume that the covariance matrix of the errors is correctly specified."
      ],
      "text/plain": [
       "<class 'statsmodels.iolib.summary.Summary'>\n",
       "\"\"\"\n",
       "                            OLS Regression Results                            \n",
       "==============================================================================\n",
       "Dep. Variable:             Hit_target   R-squared:                       0.111\n",
       "Model:                            OLS   Adj. R-squared:                  0.063\n",
       "Method:                 Least Squares   F-statistic:                     2.292\n",
       "Date:                Mon, 23 Jun 2025   Prob (F-statistic):             0.0312\n",
       "Time:                        17:11:20   Log-Likelihood:                -378.57\n",
       "No. Observations:                 136   AIC:                             773.1\n",
       "Df Residuals:                     128   BIC:                             796.4\n",
       "Df Model:                           7                                         \n",
       "Covariance Type:            nonrobust                                         \n",
       "===========================================================================================\n",
       "                              coef    std err          t      P>|t|      [0.025      0.975]\n",
       "-------------------------------------------------------------------------------------------\n",
       "const                      95.6343      2.684     35.630      0.000      90.323     100.945\n",
       "Age                         0.0108      0.053      0.204      0.839      -0.094       0.116\n",
       "Son                         0.3867      0.357      1.083      0.281      -0.320       1.093\n",
       "Social_drinker             -1.4395      0.820     -1.756      0.081      -3.061       0.182\n",
       "Social_smoker               0.8457      1.450      0.583      0.561      -2.023       3.715\n",
       "Education                  -0.1445      0.636     -0.227      0.821      -1.404       1.115\n",
       "Distance_Residence_Work    -0.0206      0.027     -0.766      0.445      -0.074       0.033\n",
       "Disciplinary_failure       -3.1618      0.971     -3.255      0.001      -5.084      -1.240\n",
       "==============================================================================\n",
       "Omnibus:                       28.846   Durbin-Watson:                   1.778\n",
       "Prob(Omnibus):                  0.000   Jarque-Bera (JB):               41.973\n",
       "Skew:                          -1.099   Prob(JB):                     7.68e-10\n",
       "Kurtosis:                       4.606   Cond. No.                         377.\n",
       "==============================================================================\n",
       "\n",
       "Notes:\n",
       "[1] Standard Errors assume that the covariance matrix of the errors is correctly specified.\n",
       "\"\"\""
      ]
     },
     "metadata": {},
     "output_type": "display_data"
    },
    {
     "data": {
      "text/html": [
       "<div>\n",
       "<style scoped>\n",
       "    .dataframe tbody tr th:only-of-type {\n",
       "        vertical-align: middle;\n",
       "    }\n",
       "\n",
       "    .dataframe tbody tr th {\n",
       "        vertical-align: top;\n",
       "    }\n",
       "\n",
       "    .dataframe thead th {\n",
       "        text-align: right;\n",
       "    }\n",
       "</style>\n",
       "<table border=\"1\" class=\"dataframe\">\n",
       "  <thead>\n",
       "    <tr style=\"text-align: right;\">\n",
       "      <th></th>\n",
       "      <th>Variable</th>\n",
       "      <th>VIF</th>\n",
       "    </tr>\n",
       "  </thead>\n",
       "  <tbody>\n",
       "    <tr>\n",
       "      <th>0</th>\n",
       "      <td>Age</td>\n",
       "      <td>9.355209</td>\n",
       "    </tr>\n",
       "    <tr>\n",
       "      <th>1</th>\n",
       "      <td>Son</td>\n",
       "      <td>2.298527</td>\n",
       "    </tr>\n",
       "    <tr>\n",
       "      <th>2</th>\n",
       "      <td>Social_drinker</td>\n",
       "      <td>3.270431</td>\n",
       "    </tr>\n",
       "    <tr>\n",
       "      <th>3</th>\n",
       "      <td>Social_smoker</td>\n",
       "      <td>1.160688</td>\n",
       "    </tr>\n",
       "    <tr>\n",
       "      <th>4</th>\n",
       "      <td>Education</td>\n",
       "      <td>4.304549</td>\n",
       "    </tr>\n",
       "    <tr>\n",
       "      <th>5</th>\n",
       "      <td>Distance_Residence_Work</td>\n",
       "      <td>4.960356</td>\n",
       "    </tr>\n",
       "    <tr>\n",
       "      <th>6</th>\n",
       "      <td>Disciplinary_failure</td>\n",
       "      <td>1.270388</td>\n",
       "    </tr>\n",
       "  </tbody>\n",
       "</table>\n",
       "</div>"
      ],
      "text/plain": [
       "                  Variable       VIF\n",
       "0                      Age  9.355209\n",
       "1                      Son  2.298527\n",
       "2           Social_drinker  3.270431\n",
       "3            Social_smoker  1.160688\n",
       "4                Education  4.304549\n",
       "5  Distance_Residence_Work  4.960356\n",
       "6     Disciplinary_failure  1.270388"
      ]
     },
     "metadata": {},
     "output_type": "display_data"
    }
   ],
   "source": [
    "# Modelado y evaluación\n",
    "from sklearn.model_selection import train_test_split, cross_val_score\n",
    "from sklearn.linear_model import LinearRegression\n",
    "from sklearn.metrics import r2_score, mean_squared_error\n",
    "\n",
    "# Análisis estadístico detallado\n",
    "import statsmodels.api as sm\n",
    "from statsmodels.stats.outliers_influence import variance_inflation_factor\n",
    "\n",
    "# 4. SELECCIÓN DE VARIABLES (X) Y TARGET (y)\n",
    "\n",
    "X = desempeño_profesional[['Age', 'Son', 'Social_drinker', 'Social_smoker', 'Education','Distance_Residence_Work', 'Disciplinary_failure']]\n",
    "y = desempeño_profesional['Hit_target']\n",
    "\n",
    "# 7. Eliminar valores faltantes\n",
    "X = X.dropna()\n",
    "y = y.loc[X.index]\n",
    "\n",
    "# 5. DIVIDIR EN TRAIN / TEST\n",
    "\n",
    "lr = LinearRegression()\n",
    "lr.fit(X_train, y_train)\n",
    "\n",
    "# 9. ANÁLISIS ESTADÍSTICO CON STATSMODELS\n",
    "#    (coeficientes, p‑values, R² ajustado, etc.)\n",
    "# ---------------------------------------------\n",
    "X_sm = sm.add_constant(X)  # agrega intercepto\n",
    "model = sm.OLS(y, X_sm).fit()\n",
    "display(model.summary())\n",
    "\n",
    "# 10. MULTICOLINEALIDAD (VIF)\n",
    "# ---------------------------------------------\n",
    "vif_df = pd.DataFrame({\n",
    "    'Variable': X.columns,\n",
    "    'VIF': [variance_inflation_factor(X.values, i)\n",
    "            for i in range(X.shape[1])]\n",
    "})\n",
    "display(vif_df)\n"
   ]
  },
  {
   "cell_type": "markdown",
   "id": "f42f6c78",
   "metadata": {},
   "source": [
    "## Distribucion de Hit_target por Disciplinary_failure (variable numerica y variable binaria) \n",
    " \n",
    "✅ Grupo Disciplinary_failure = 0:\n",
    "Tiene una forma más asimétrica a la izquierda (ligera), pero aproximadamente campaniforme.\n",
    "\n",
    "La curva de densidad muestra un pico claro, lo cual es típico de una distribución normal con poco sesgo.\n",
    "\n",
    "Visualmente, podría cumplir con normalidad aproximada.\n",
    "\n",
    "❌ Grupo Disciplinary_failure = 1:\n",
    "La distribución es plana y dispersa, con pocos datos (la curva es casi uniforme).\n",
    "\n",
    "Esto indica que los valores están más repartidos y no siguen una forma normal.\n",
    "\n",
    "🧠 Conclusión (hasta aquí):\n",
    "🔹 No puedes asumir normalidad para ambos grupos.\n",
    "\n",
    "➡️ Por lo tanto, lo correcto estadísticamente es usar una prueba no paramétrica, es decir:\n",
    "\n",
    "✅ Usa: Mann-Whitney U test\n",
    "Este test compara las distribuciones de Hit_target entre los grupos con y sin fallos disciplinarios, sin asumir normalidad."
   ]
  },
  {
   "cell_type": "code",
   "execution_count": 239,
   "id": "a37be906",
   "metadata": {},
   "outputs": [
    {
     "data": {
      "image/png": "[encoded data removed]",
      "text/plain": [
       "<Figure size 640x480 with 1 Axes>"
      ]
     },
     "metadata": {},
     "output_type": "display_data"
    }
   ],
   "source": [
    "import scipy.stats as stats\n",
    "\n",
    "# Histograma\n",
    "sns.histplot(data=desempeño_profesional, x=\"Hit_target\", hue=\"Disciplinary_failure\", kde=True)\n",
    "plt.title(\"Distribución de Hit_target por Disciplinary_failure\")\n",
    "plt.show()\n"
   ]
  },
  {
   "cell_type": "markdown",
   "id": "8623ccac",
   "metadata": {},
   "source": [
    "Test de normalidad formal\n",
    "✅ Shapiro-Wilk test (recomendado si tienes <5000 observaciones):\n",
    "\n",
    "Si p > 0.05 → no se rechaza la normalidad → puedes usar t-test.\n",
    "\n",
    "Si p ≤ 0.05 → los datos no son normales → mejor usar Mann-Whitney U."
   ]
  },
  {
   "cell_type": "code",
   "execution_count": 240,
   "id": "e914bf9e",
   "metadata": {},
   "outputs": [
    {
     "name": "stdout",
     "output_type": "stream",
     "text": [
      "Grupo 0 - Shapiro-Wilk p-value: 0.0000\n",
      "Grupo 1 - Shapiro-Wilk p-value: 0.0160\n"
     ]
    }
   ],
   "source": [
    "from scipy.stats import shapiro\n",
    "\n",
    "for group in [0, 1]:\n",
    "    data = desempeño_profesional[desempeño_profesional['Disciplinary_failure'] == group]['Hit_target']\n",
    "    stat, p = shapiro(data)\n",
    "    print(f\"Grupo {group} - Shapiro-Wilk p-value: {p:.4f}\")\n"
   ]
  },
  {
   "cell_type": "markdown",
   "id": "a0023538",
   "metadata": {},
   "source": [
    "## Mann-Whitney U test\n",
    "Este test compara las distribuciones de Hit_target entre los grupos con y sin fallos disciplinarios, sin asumir normalidad.\n",
    "\n",
    "Como p-value = 0.0369 < 0.05, se rechaza la hipótesis nula de que ambos grupos (Disciplinary_failure = 0 y 1) tienen distribuciones iguales de Hit_target.\n",
    "Hay una diferencia estadísticamente significativa en el desempeño (Hit_target) entre los empleados con y sin fallos disciplinarios.\n",
    "Y dado que el gráfico mostraba que quienes no tienen fallos disciplinarios tienden a tener mayores valores de Hit_target, podemos concluir: \n",
    "## Los empleados que no tienen fallos disciplinarios tienden a tener un mejor desempeño (mayor Hit_target)."
   ]
  },
  {
   "cell_type": "code",
   "execution_count": 241,
   "id": "41401082",
   "metadata": {},
   "outputs": [
    {
     "name": "stdout",
     "output_type": "stream",
     "text": [
      "Prueba mannwhitneyu: U = 1605.50, p-value = 0.0369\n"
     ]
    },
    {
     "data": {
      "image/png": "[encoded data removed]",
      "text/plain": [
       "<Figure size 640x480 with 1 Axes>"
      ]
     },
     "metadata": {},
     "output_type": "display_data"
    }
   ],
   "source": [
    "from scipy.stats import mannwhitneyu\n",
    "\n",
    "grupo_0 = desempeño_profesional[desempeño_profesional['Disciplinary_failure'] == 0]['Hit_target']\n",
    "grupo_1 = desempeño_profesional[desempeño_profesional['Disciplinary_failure'] == 1]['Hit_target']\n",
    "\n",
    "stat, p = mannwhitneyu(grupo_0, grupo_1, alternative='two-sided')\n",
    "print(f\"Prueba mannwhitneyu: U = {stat:.2f}, p-value = {p:.4f}\")\n",
    "\n",
    "# Visualización de la distribución de Hit_target por Disciplinary_failure\n",
    "sns.boxplot(x='Disciplinary_failure', y='Hit_target', data=desempeño_profesional)\n",
    "plt.title(\"Distribución de Hit_target por Disciplinary_failure\")\n",
    "plt.xlabel(\"Disciplinary_failure\")\n",
    "plt.ylabel(\"Hit_target\")\n",
    "plt.show()\n"
   ]
  },
  {
   "cell_type": "markdown",
   "id": "a3a0dd6d",
   "metadata": {},
   "source": [
    "## Distribucion de Hit_target por Age ( 2 variables numericas)"
   ]
  },
  {
   "cell_type": "code",
   "execution_count": 242,
   "id": "de47065f",
   "metadata": {},
   "outputs": [
    {
     "data": {
      "text/plain": [
       "<Figure size 1000x500 with 0 Axes>"
      ]
     },
     "metadata": {},
     "output_type": "display_data"
    },
    {
     "data": {
      "image/png": "[encoded data removed]",
      "text/plain": [
       "<Figure size 1200x400 with 2 Axes>"
      ]
     },
     "metadata": {},
     "output_type": "display_data"
    }
   ],
   "source": [
    "# Visualización de la distribución de 'Hit_target' y 'Age'\n",
    "plt.figure(figsize=(10, 5)) \n",
    "\n",
    "fig, axes = plt.subplots(1, 2, figsize=(12, 4))\n",
    "\n",
    "# Histograma Hit_target\n",
    "sns.histplot(desempeño_profesional['Hit_target'], kde=True, ax=axes[0], color='skyblue')\n",
    "axes[0].set_title('Distribución de Hit_target')\n",
    "\n",
    "# Histograma Age\n",
    "sns.histplot(desempeño_profesional['Age'], kde=True, ax=axes[1], color='lightgreen')\n",
    "axes[1].set_title('Distribución de Age')\n",
    "\n",
    "plt.tight_layout()\n",
    "plt.show()\n"
   ]
  },
  {
   "cell_type": "markdown",
   "id": "bf90373c",
   "metadata": {},
   "source": [
    "Ninguna de las dos variables sigue una distribución normal.\n",
    "Si ambos p > 0.05 → usa Pearson:\n",
    "Si alguno p ≤ 0.05 → usa Spearman:"
   ]
  },
  {
   "cell_type": "code",
   "execution_count": 243,
   "id": "02f77896",
   "metadata": {},
   "outputs": [
    {
     "name": "stdout",
     "output_type": "stream",
     "text": [
      "Hit_target - Shapiro p-value: 0.0000\n",
      "Age - Shapiro p-value: 0.0000\n"
     ]
    }
   ],
   "source": [
    "# Prueba de normalidad de Shapiro-Wilk para las columnas 'Hit_target' y 'Age'\n",
    "\n",
    "# Shapiro para Hit_target\n",
    "stat1, p1 = shapiro(desempeño_profesional['Hit_target'])\n",
    "print(f\"Hit_target - Shapiro p-value: {p1:.4f}\")\n",
    "\n",
    "# Shapiro para Age\n",
    "stat2, p2 = shapiro(desempeño_profesional['Age'])\n",
    "print(f\"Age - Shapiro p-value: {p2:.4f}\")\n"
   ]
  },
  {
   "cell_type": "markdown",
   "id": "a194d2d3",
   "metadata": {},
   "source": [
    "## Spearman’s Rank Correlation Coefficient\n",
    "Este test no asume normalidad y detecta relaciones monótonas (creciente o decreciente, no necesariamente lineal).\n",
    "\n",
    "## No hay evidencia estadísticamente significativa de una relación entre la edad del empleado y su nivel de cumplimiento de objetivos"
   ]
  },
  {
   "cell_type": "code",
   "execution_count": 244,
   "id": "26bf54f4",
   "metadata": {},
   "outputs": [
    {
     "name": "stdout",
     "output_type": "stream",
     "text": [
      "Spearman rho = 0.035, p-value = 0.6838\n"
     ]
    },
    {
     "data": {
      "image/png": "[encoded data removed]",
      "text/plain": [
       "<Figure size 800x600 with 1 Axes>"
      ]
     },
     "metadata": {},
     "output_type": "display_data"
    }
   ],
   "source": [
    "from scipy.stats import spearmanr\n",
    "r, p = spearmanr(desempeño_profesional['Hit_target'], desempeño_profesional['Age'])\n",
    "print(f\"Spearman rho = {r:.3f}, p-value = {p:.4f}\")\n",
    "\n",
    "# Visualización de la relación entre 'Hit_target' y 'Age'\n",
    "plt.figure(figsize=(8, 6))      \n",
    "sns.scatterplot(x='Age', y='Hit_target', data=desempeño_profesional, color='purple')\n",
    "plt.title('Relación entre Edad y Desempeño (Hit_target)')   \n",
    "plt.xlabel('Edad')\n",
    "plt.ylabel('Desempeño (Hit_target)')\n",
    "plt.axhline(y=0, color='red', linestyle='--')  # Línea horizontal en y=0\n",
    "plt.axvline(x=0, color='red', linestyle='--')  # Línea vertical en x=0\n",
    "plt.grid(True)\n",
    "plt.show()  # Muestra el gráfico\n"
   ]
  },
  {
   "cell_type": "markdown",
   "id": "4ab4ea57",
   "metadata": {},
   "source": [
    "## Distribucion de Hit_target por social drinker (variable numerica y variable binaria) "
   ]
  },
  {
   "cell_type": "code",
   "execution_count": 245,
   "id": "eadff706",
   "metadata": {},
   "outputs": [
    {
     "data": {
      "image/png": "[encoded data removed]",
      "text/plain": [
       "<Figure size 640x480 with 1 Axes>"
      ]
     },
     "metadata": {},
     "output_type": "display_data"
    }
   ],
   "source": [
    "# Histograma\n",
    "sns.histplot(data=desempeño_profesional, x=\"Hit_target\", hue=\"Social_drinker\", kde=True)\n",
    "plt.title(\"Distribución de Hit_target por Social_drinker\")\n",
    "plt.show()"
   ]
  },
  {
   "cell_type": "code",
   "execution_count": 246,
   "id": "ff722648",
   "metadata": {},
   "outputs": [
    {
     "name": "stdout",
     "output_type": "stream",
     "text": [
      "Grupo 0 - Shapiro-Wilk p-value: 0.0044\n",
      "Grupo 1 - Shapiro-Wilk p-value: 0.0000\n"
     ]
    }
   ],
   "source": [
    "for group in [0, 1]:\n",
    "    data = desempeño_profesional[desempeño_profesional['Social_drinker'] == group]['Hit_target']\n",
    "    stat, p = shapiro(data)\n",
    "    print(f\"Grupo {group} - Shapiro-Wilk p-value: {p:.4f}\")\n"
   ]
  },
  {
   "cell_type": "markdown",
   "id": "94d82f15",
   "metadata": {},
   "source": [
    "## No hay evidencia estadísticamente significativa de una relación entre social_drinker del empleado y su nivel de cumplimiento de objetivos"
   ]
  },
  {
   "cell_type": "code",
   "execution_count": 247,
   "id": "d288404b",
   "metadata": {},
   "outputs": [
    {
     "name": "stdout",
     "output_type": "stream",
     "text": [
      "Prueba mannwhitneyu: U = 2518.00, p-value = 0.2169\n"
     ]
    },
    {
     "data": {
      "image/png": "[encoded data removed]",
      "text/plain": [
       "<Figure size 640x480 with 1 Axes>"
      ]
     },
     "metadata": {},
     "output_type": "display_data"
    }
   ],
   "source": [
    "grupo_0 = desempeño_profesional[desempeño_profesional['Social_drinker'] == 0]['Hit_target']\n",
    "grupo_1 = desempeño_profesional[desempeño_profesional['Social_drinker'] == 1]['Hit_target']\n",
    "\n",
    "stat, p = mannwhitneyu(grupo_0, grupo_1, alternative='two-sided')\n",
    "print(f\"Prueba mannwhitneyu: U = {stat:.2f}, p-value = {p:.4f}\")\n",
    "\n",
    "# Visualización de la distribución de Hit_target por Social_drinker\n",
    "sns.boxplot(x='Social_drinker', y='Hit_target', data=desempeño_profesional)\n",
    "plt.title(\"Distribución de Hit_target por Social_drinker\")\n",
    "plt.xlabel(\"Social_drinker\")\n",
    "plt.ylabel(\"Hit_target\")\n",
    "plt.show()\n"
   ]
  },
  {
   "cell_type": "markdown",
   "id": "0afee8be",
   "metadata": {},
   "source": [
    "## Distribucion de Hit_target por Son (2 variables numericas) "
   ]
  },
  {
   "cell_type": "markdown",
   "id": "733a573e",
   "metadata": {},
   "source": [
    "Este gráfico (boxplot) muestra cómo varía el desempeño según número de hijos y si hay diferencias claras entre los grupos."
   ]
  },
  {
   "cell_type": "code",
   "execution_count": 248,
   "id": "b7a29f06",
   "metadata": {},
   "outputs": [
    {
     "data": {
      "image/png": "[encoded data removed]",
      "text/plain": [
       "<Figure size 640x480 with 1 Axes>"
      ]
     },
     "metadata": {},
     "output_type": "display_data"
    },
    {
     "data": {
      "text/plain": [
       "<Figure size 1000x500 with 0 Axes>"
      ]
     },
     "metadata": {},
     "output_type": "display_data"
    },
    {
     "data": {
      "image/png": "[encoded data removed]",
      "text/plain": [
       "<Figure size 1200x400 with 2 Axes>"
      ]
     },
     "metadata": {},
     "output_type": "display_data"
    }
   ],
   "source": [
    "# Visualización de la distribución de 'Hit_target' y 'Social_drinker'\n",
    "\n",
    "sns.boxplot(data=desempeño_profesional, x='Son', y='Hit_target')\n",
    "plt.title('Distribución de Hit_target según número de hijos')\n",
    "plt.show()\n",
    "\n",
    "# Visualización de la distribución de 'Hit_target' y 'Son'\n",
    "plt.figure(figsize=(10, 5))\n",
    "fig, axes = plt.subplots(1, 2, figsize=(12, 4))\n",
    "# Histograma Hit_target\n",
    "sns.histplot(desempeño_profesional['Hit_target'], kde=True, ax=axes[0], color='skyblue')\n",
    "axes[0].set_title('Distribución de Hit_target')\n",
    "# Histograma Son\n",
    "sns.histplot(desempeño_profesional['Son'], kde=True, ax=axes[1], color='lightgreen')\n",
    "axes[1].set_title('Distribución de Son')    \n",
    "plt.tight_layout()\n",
    "plt.show()\n"
   ]
  },
  {
   "cell_type": "markdown",
   "id": "eba7da76",
   "metadata": {},
   "source": [
    "| Número de hijos (`Son`) | p-value | ¿Distribución normal? |\n",
    "| ----------------------- | ------- | --------------------- |\n",
    "| 0                       | 0.0001  | ❌ No                  |\n",
    "| 1                       | 0.0000  | ❌ No                  |\n",
    "| 2                       | 0.0131  | ❌ No                  |\n",
    "| 3                       | 0.1170  | ✅ Sí                  |\n",
    "| 4                       | 0.0070  | ❌ No                  |\n",
    "\n",
    "Si hubiese normalidad podría usar anova"
   ]
  },
  {
   "cell_type": "code",
   "execution_count": 249,
   "id": "14b46b78",
   "metadata": {},
   "outputs": [
    {
     "name": "stdout",
     "output_type": "stream",
     "text": [
      "Son = 0 → Shapiro p-value = 0.0001\n",
      "Son = 1 → Shapiro p-value = 0.0000\n",
      "Son = 2 → Shapiro p-value = 0.0131\n",
      "Son = 3 → Shapiro p-value = 0.1170\n",
      "Son = 4 → Shapiro p-value = 0.0070\n"
     ]
    }
   ],
   "source": [
    "for hijos in sorted(desempeño_profesional['Son'].unique()):\n",
    "    grupo = desempeño_profesional[desempeño_profesional['Son'] == hijos]['Hit_target']\n",
    "    stat, p = shapiro(grupo)\n",
    "    print(f'Son = {hijos} → Shapiro p-value = {p:.4f}')\n"
   ]
  },
  {
   "cell_type": "markdown",
   "id": "8ea35784",
   "metadata": {},
   "source": [
    "Kruskal-Wallis\n",
    "Este test no paramétrico compara si hay diferencias en la distribución de Hit_target entre los distintos grupos de Son, sin asumir normalidad.\n",
    "\n",
    "## no hay evidencia estadísticamente significativa de que Hit_target (desempeño) varíe según el número de hijos (Son)."
   ]
  },
  {
   "cell_type": "code",
   "execution_count": 250,
   "id": "26b5fca9",
   "metadata": {},
   "outputs": [
    {
     "name": "stdout",
     "output_type": "stream",
     "text": [
      "Kruskal-Wallis H = 2.6497, p-value = 0.6180\n"
     ]
    }
   ],
   "source": [
    "from scipy.stats import kruskal\n",
    "\n",
    "grupo_0 = desempeño_profesional[desempeño_profesional['Son'] == 0]['Hit_target']\n",
    "grupo_1 = desempeño_profesional[desempeño_profesional['Son'] == 1]['Hit_target']\n",
    "grupo_2 = desempeño_profesional[desempeño_profesional['Son'] == 2]['Hit_target']\n",
    "grupo_3 = desempeño_profesional[desempeño_profesional['Son'] == 3]['Hit_target']\n",
    "grupo_4 = desempeño_profesional[desempeño_profesional['Son'] == 4]['Hit_target']\n",
    "\n",
    "stat, p = kruskal(grupo_0, grupo_1, grupo_2, grupo_3, grupo_4)\n",
    "print(f'Kruskal-Wallis H = {stat:.4f}, p-value = {p:.4f}')\n"
   ]
  },
  {
   "cell_type": "markdown",
   "id": "f1745021",
   "metadata": {},
   "source": [
    "## Distribucion de Hit_target por Education (2 variables numericas) "
   ]
  },
  {
   "cell_type": "code",
   "execution_count": 251,
   "id": "1dda24f8",
   "metadata": {},
   "outputs": [
    {
     "name": "stdout",
     "output_type": "stream",
     "text": [
      "Valores únicos en Education: [3 1 2]\n"
     ]
    }
   ],
   "source": [
    "# Muestra los valores únicos en la columna 'Education'\n",
    "valores_unicos_education = desempeño_profesional['Education'].unique()\n",
    "print(\"Valores únicos en Education:\", valores_unicos_education)"
   ]
  },
  {
   "cell_type": "code",
   "execution_count": 252,
   "id": "945c0566",
   "metadata": {},
   "outputs": [
    {
     "data": {
      "image/png": "[encoded data removed]",
      "text/plain": [
       "<Figure size 800x500 with 1 Axes>"
      ]
     },
     "metadata": {},
     "output_type": "display_data"
    }
   ],
   "source": [
    "plt.figure(figsize=(8, 5))\n",
    "sns.boxplot(x='Education', y='Hit_target', data=desempeño_profesional)\n",
    "plt.title('Distribución de Hit_target según nivel educativo')\n",
    "plt.show()\n"
   ]
  },
  {
   "cell_type": "code",
   "execution_count": 253,
   "id": "d30f6313",
   "metadata": {},
   "outputs": [
    {
     "name": "stdout",
     "output_type": "stream",
     "text": [
      "Education = 1 → Shapiro p-value = 0.0000\n",
      "Education = 2 → Shapiro p-value = 0.8207\n",
      "Education = 3 → Shapiro p-value = 0.4188\n"
     ]
    }
   ],
   "source": [
    "for nivel in sorted(desempeño_profesional['Education'].unique()):\n",
    "    grupo = desempeño_profesional[desempeño_profesional['Education'] == nivel]['Hit_target']\n",
    "    stat, p = shapiro(grupo)\n",
    "    print(f'Education = {nivel} → Shapiro p-value = {p:.4f}')\n"
   ]
  },
  {
   "cell_type": "code",
   "execution_count": 254,
   "id": "20ce4936",
   "metadata": {},
   "outputs": [
    {
     "name": "stdout",
     "output_type": "stream",
     "text": [
      "Kruskal-Wallis H = 0.3365, p-value = 0.8451\n"
     ]
    }
   ],
   "source": [
    "grupo_1 = desempeño_profesional[desempeño_profesional['Education'] == 1]['Hit_target']\n",
    "grupo_2 = desempeño_profesional[desempeño_profesional['Education'] == 2]['Hit_target']\n",
    "grupo_3 = desempeño_profesional[desempeño_profesional['Education'] == 3]['Hit_target']\n",
    "\n",
    "stat, p = kruskal(grupo_1, grupo_2, grupo_3)\n",
    "print(f'Kruskal-Wallis H = {stat:.4f}, p-value = {p:.4f}')\n"
   ]
  },
  {
   "cell_type": "markdown",
   "id": "3baa7283",
   "metadata": {},
   "source": [
    "## Como el p-value = 0.8451 > 0.05, no hay evidencia estadísticamente significativa de que el nivel educativo (Education) esté asociado con diferencias en el desempeño (Hit_target)."
   ]
  },
  {
   "cell_type": "markdown",
   "id": "0796687d",
   "metadata": {},
   "source": [
    "## Distribucion de Hit_target por Distance_Residence_Work (2 variables numericas) "
   ]
  },
  {
   "cell_type": "code",
   "execution_count": 255,
   "id": "50a17067",
   "metadata": {},
   "outputs": [
    {
     "data": {
      "image/png": "[encoded data removed]",
      "text/plain": [
       "<Figure size 800x500 with 1 Axes>"
      ]
     },
     "metadata": {},
     "output_type": "display_data"
    }
   ],
   "source": [
    "plt.figure(figsize=(8, 5))\n",
    "sns.scatterplot(x='Distance_Residence_Work', y='Hit_target', data=desempeño_profesional)\n",
    "sns.regplot(x='Distance_Residence_Work', y='Hit_target', data=desempeño_profesional, scatter=False, color='red')\n",
    "plt.title('Relación entre distancia domicilio-trabajo y desempeño (Hit_target)')\n",
    "plt.show()\n"
   ]
  },
  {
   "cell_type": "markdown",
   "id": "d0fa774c",
   "metadata": {},
   "source": [
    "no hay normalidad"
   ]
  },
  {
   "cell_type": "code",
   "execution_count": 256,
   "id": "c750ec0f",
   "metadata": {},
   "outputs": [
    {
     "name": "stdout",
     "output_type": "stream",
     "text": [
      "Hit_target → Shapiro p-value = 0.0000\n",
      "Distance_Residence_Work → Shapiro p-value = 0.0000\n"
     ]
    }
   ],
   "source": [
    "shapiro_hit = shapiro(desempeño_profesional['Hit_target'])\n",
    "shapiro_dist = shapiro(desempeño_profesional['Distance_Residence_Work'])\n",
    "\n",
    "print(f'Hit_target → Shapiro p-value = {shapiro_hit.pvalue:.4f}')\n",
    "print(f'Distance_Residence_Work → Shapiro p-value = {shapiro_dist.pvalue:.4f}')\n"
   ]
  },
  {
   "cell_type": "markdown",
   "id": "face663c",
   "metadata": {},
   "source": [
    "Correlación de Spearman\n",
    "Este test no requiere normalidad y mide la relación monótona entre dos variables ordinales o continuas."
   ]
  },
  {
   "cell_type": "code",
   "execution_count": 257,
   "id": "18019b38",
   "metadata": {},
   "outputs": [
    {
     "name": "stdout",
     "output_type": "stream",
     "text": [
      "Spearman rho = -0.1199, p-value = 0.1644\n"
     ]
    }
   ],
   "source": [
    "\n",
    "rho, pval = spearmanr(desempeño_profesional['Hit_target'], desempeño_profesional['Distance_Residence_Work'])\n",
    "print(f\"Spearman rho = {rho:.4f}, p-value = {pval:.4f}\")\n"
   ]
  },
  {
   "cell_type": "markdown",
   "id": "eb875a83",
   "metadata": {},
   "source": [
    " Interpretación\n",
    "No hay evidencia estadísticamente significativa de que exista una relación entre:\n",
    "\n",
    "🔹 Distance_Residence_Work (distancia del hogar al trabajo)\n",
    "🔹 y Hit_target (desempeño laboral)\n",
    "\n",
    "en tu conjunto de datos.\n",
    "\n",
    "📌 Conclusión práctica:\n",
    "La distancia entre la residencia y el trabajo no parece afectar el desempeño medido por Hit_target.\n",
    "\n",
    "Puedes considerar excluir esta variable si estás buscando predecir o explicar el desempeño."
   ]
  },
  {
   "cell_type": "markdown",
   "id": "d5b27508",
   "metadata": {},
   "source": [
    "## Distribucion de Hit_target por Social_smoker (variable numerica y binaria) "
   ]
  },
  {
   "cell_type": "code",
   "execution_count": 258,
   "id": "dcc45cf0",
   "metadata": {},
   "outputs": [
    {
     "data": {
      "image/png": "[encoded data removed]",
      "text/plain": [
       "<Figure size 640x480 with 1 Axes>"
      ]
     },
     "metadata": {},
     "output_type": "display_data"
    }
   ],
   "source": [
    "# Histograma\n",
    "sns.histplot(data=desempeño_profesional, x=\"Hit_target\", hue=\"Social_smoker\", kde=True)\n",
    "plt.title(\"Distribución de Hit_target por Social_smoker\")\n",
    "plt.show()"
   ]
  },
  {
   "cell_type": "code",
   "execution_count": 259,
   "id": "75efd162",
   "metadata": {},
   "outputs": [
    {
     "name": "stdout",
     "output_type": "stream",
     "text": [
      "Grupo 0 - Shapiro-Wilk p-value: 0.0000\n",
      "Grupo 1 - Shapiro-Wilk p-value: 0.4087\n"
     ]
    }
   ],
   "source": [
    "for group in [0, 1]:\n",
    "    data = desempeño_profesional[desempeño_profesional['Social_smoker'] == group]['Hit_target']\n",
    "    stat, p = shapiro(data)\n",
    "    print(f\"Grupo {group} - Shapiro-Wilk p-value: {p:.4f}\")\n"
   ]
  },
  {
   "cell_type": "markdown",
   "id": "503796fe",
   "metadata": {},
   "source": [
    "no hay normalidad "
   ]
  },
  {
   "cell_type": "code",
   "execution_count": 260,
   "id": "c6355b62",
   "metadata": {},
   "outputs": [
    {
     "name": "stdout",
     "output_type": "stream",
     "text": [
      "Prueba mannwhitneyu: U = 591.00, p-value = 0.8671\n"
     ]
    },
    {
     "data": {
      "image/png": "[encoded data removed]",
      "text/plain": [
       "<Figure size 640x480 with 1 Axes>"
      ]
     },
     "metadata": {},
     "output_type": "display_data"
    }
   ],
   "source": [
    "grupo_0 = desempeño_profesional[desempeño_profesional['Social_smoker'] == 0]['Hit_target']\n",
    "grupo_1 = desempeño_profesional[desempeño_profesional['Social_smoker'] == 1]['Hit_target']\n",
    "\n",
    "stat, p = mannwhitneyu(grupo_0, grupo_1, alternative='two-sided')\n",
    "print(f\"Prueba mannwhitneyu: U = {stat:.2f}, p-value = {p:.4f}\")\n",
    "\n",
    "# Visualización de la distribución de Hit_target por Social_smoker\n",
    "sns.boxplot(x='Social_smoker', y='Hit_target', data=desempeño_profesional)\n",
    "plt.title(\"Distribución de Hit_target por Social_smoker\")\n",
    "plt.xlabel(\"Social_smoker\")\n",
    "plt.ylabel(\"Hit_target\")\n",
    "plt.show()\n"
   ]
  },
  {
   "cell_type": "markdown",
   "id": "794046b3",
   "metadata": {},
   "source": [
    "no hay evidencia de que exista correlación significativa con Social_smoker"
   ]
  },
  {
   "cell_type": "markdown",
   "id": "0b879e4b",
   "metadata": {},
   "source": [
    "## Distribucion de Hit_target por Service_time (2 variables numericas) "
   ]
  },
  {
   "cell_type": "code",
   "execution_count": 261,
   "id": "e984a5d5",
   "metadata": {},
   "outputs": [
    {
     "data": {
      "image/png": "[encoded data removed]",
      "text/plain": [
       "<Figure size 800x500 with 1 Axes>"
      ]
     },
     "metadata": {},
     "output_type": "display_data"
    }
   ],
   "source": [
    "plt.figure(figsize=(8, 5))\n",
    "sns.scatterplot(x='Service_time', y='Hit_target', data=desempeño_profesional)\n",
    "sns.regplot(x='Service_time', y='Hit_target', data=desempeño_profesional, scatter=False, color='red')\n",
    "plt.title('Relación entre tiempo de servicio y desempeño (Hit_target)')\n",
    "plt.show()"
   ]
  },
  {
   "cell_type": "code",
   "execution_count": 262,
   "id": "fd19ce06",
   "metadata": {},
   "outputs": [
    {
     "name": "stdout",
     "output_type": "stream",
     "text": [
      "Hit_target → Shapiro p-value = 0.0000\n",
      "Service_time → Shapiro p-value = 0.0001\n"
     ]
    }
   ],
   "source": [
    "shapiro_hit = shapiro(desempeño_profesional['Hit_target'])\n",
    "shapiro_dist = shapiro(desempeño_profesional['Service_time'])\n",
    "\n",
    "print(f'Hit_target → Shapiro p-value = {shapiro_hit.pvalue:.4f}')\n",
    "print(f'Service_time → Shapiro p-value = {shapiro_dist.pvalue:.4f}')\n"
   ]
  },
  {
   "cell_type": "markdown",
   "id": "60a64ed8",
   "metadata": {},
   "source": [
    "no normalidad"
   ]
  },
  {
   "cell_type": "code",
   "execution_count": 263,
   "id": "0abda29c",
   "metadata": {},
   "outputs": [
    {
     "name": "stdout",
     "output_type": "stream",
     "text": [
      "Spearman rho = 0.0558, p-value = 0.5186\n"
     ]
    }
   ],
   "source": [
    "rho, pval = spearmanr(desempeño_profesional['Hit_target'], desempeño_profesional['Service_time'])\n",
    "print(f\"Spearman rho = {rho:.4f}, p-value = {pval:.4f}\")"
   ]
  },
  {
   "cell_type": "markdown",
   "id": "cc1648f9",
   "metadata": {},
   "source": [
    "dejar hasta aqui"
   ]
  }
 ],
 "metadata": {
  "kernelspec": {
   "display_name": "Python 3",
   "language": "python",
   "name": "python3"
  },
  "language_info": {
   "codemirror_mode": {
    "name": "ipython",
    "version": 3
   },
   "file_extension": ".py",
   "mimetype": "text/x-python",
   "name": "python",
   "nbconvert_exporter": "python",
   "pygments_lexer": "ipython3",
   "version": "3.13.4"
  }
 },
 "nbformat": 4,
 "nbformat_minor": 5
}
