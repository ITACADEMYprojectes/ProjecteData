{
 "cells": [
  {
   "cell_type": "markdown",
   "metadata": {},
   "source": [
    "## Carga de base de datos\n",
    "Anuncios de inmuebles de alquiler turístico en las principales plataformas."
   ]
  },
  {
   "cell_type": "markdown",
   "metadata": {},
   "source": [
    "#### Importación de bibliotecas"
   ]
  },
  {
   "cell_type": "code",
   "execution_count": 7,
   "metadata": {},
   "outputs": [],
   "source": [
    "import mysql.connector\n",
    "import pandas as pd\n",
    "import matplotlib.pyplot as plt\n",
    "import numpy as np\n",
    "import seaborn as sns"
   ]
  },
  {
   "cell_type": "code",
   "execution_count": 8,
   "metadata": {},
   "outputs": [],
   "source": [
    "# Definir la paleta institucional (colocarla en una celda anterior si es necesario)\n",
    "paleta = [\n",
    "    \"#1B3C59\", \"#3A5A40\", \"#8BAAAD\", \"#D9D9D9\", \n",
    "    \"#E8F1F2\", \"#A67C52\", \"#F4A261\", \"#264653\", \n",
    "    \"#A8DADC\", \"#457B9D\", \"#E63946\", \"#F4E285\", \n",
    "    \"#2A9D8F\", \"#6D597A\", \"#B5838D\"\n",
    "]\n"
   ]
  },
  {
   "cell_type": "markdown",
   "metadata": {},
   "source": [
    "#### Conexión a MySQL"
   ]
  },
  {
   "cell_type": "code",
   "execution_count": 9,
   "metadata": {},
   "outputs": [
    {
     "name": "stdout",
     "output_type": "stream",
     "text": [
      "Se conectó a la base de datos \"Equip_E\" en MySQL\n",
      "Tablas encontradas: ['Tourist_Accommodation', 'Tourist_Accommodation10032025', 'Tourist_Accommodation17032025', 'Tourist_Accommodation25032025'].\n"
     ]
    },
    {
     "name": "stderr",
     "output_type": "stream",
     "text": [
      "C:\\Users\\Evelyn\\AppData\\Local\\Temp\\ipykernel_9860\\1596814766.py:25: UserWarning: pandas only supports SQLAlchemy connectable (engine/connection) or database string URI or sqlite3 DBAPI2 connection. Other DBAPI2 objects are not tested. Please consider using SQLAlchemy.\n",
      "  db[table] = pd.read_sql(query, con = cnx)\n"
     ]
    },
    {
     "name": "stdout",
     "output_type": "stream",
     "text": [
      "Conexión a MySQL cerrada.\n",
      "Se creó el dataframe \"Tourist_Accommodation\"\n",
      "Se creó el dataframe \"Tourist_Accommodation10032025\"\n",
      "Se creó el dataframe \"Tourist_Accommodation17032025\"\n",
      "Se creó el dataframe \"Tourist_Accommodation25032025\"\n"
     ]
    }
   ],
   "source": [
    "def get_database(host, user, password, database):\n",
    "    try:\n",
    "        cnx = mysql.connector.connect(\n",
    "            host = host,\n",
    "            user = user,\n",
    "            password = password,\n",
    "            database = database\n",
    "        )\n",
    "\n",
    "        if cnx.is_connected():\n",
    "            print(f'Se conectó a la base de datos \"{database}\" en MySQL')\n",
    "\n",
    "        cursor = cnx.cursor()\n",
    "        cursor.execute('SHOW TABLES;')\n",
    "        \n",
    "        tables = cursor.fetchall()\n",
    "        table_names = [table[0] for table in tables]\n",
    "\n",
    "        print(f'Tablas encontradas: {table_names}.')\n",
    "\n",
    "        db = {}\n",
    "\n",
    "        for table in table_names:\n",
    "            query = f'SELECT * FROM {table};'\n",
    "            db[table] = pd.read_sql(query, con = cnx) \n",
    "        return db\n",
    "\n",
    "    except mysql.connector.Error as error:\n",
    "        print(f'Error: {error}')\n",
    "        return None\n",
    "\n",
    "    finally:\n",
    "        if cnx.is_connected():\n",
    "            cnx.close()\n",
    "            print('Conexión a MySQL cerrada.')\n",
    "\n",
    "\n",
    "def rename_dfs():\n",
    "    for table, df in db.items():\n",
    "        globals()[table] = df\n",
    "        print(f'Se creó el dataframe \"{table}\"')\n",
    "\n",
    "if __name__ == '__main__':\n",
    "    host = '212.227.90.6'\n",
    "    user = 'EquipoE'\n",
    "    password = 'E1q2u3i4p5oE'\n",
    "    database = 'Equip_E'\n",
    "\n",
    "    db = get_database(host, user, password, database)\n",
    "    rename_dfs()\n"
   ]
  },
  {
   "cell_type": "markdown",
   "metadata": {},
   "source": [
    "## Exploración inicial"
   ]
  },
  {
   "cell_type": "code",
   "execution_count": 10,
   "metadata": {},
   "outputs": [
    {
     "data": {
      "text/html": [
       "<div>\n",
       "<style scoped>\n",
       "    .dataframe tbody tr th:only-of-type {\n",
       "        vertical-align: middle;\n",
       "    }\n",
       "\n",
       "    .dataframe tbody tr th {\n",
       "        vertical-align: top;\n",
       "    }\n",
       "\n",
       "    .dataframe thead th {\n",
       "        text-align: right;\n",
       "    }\n",
       "</style>\n",
       "<table border=\"1\" class=\"dataframe\">\n",
       "  <thead>\n",
       "    <tr style=\"text-align: right;\">\n",
       "      <th></th>\n",
       "      <th>apartment_id</th>\n",
       "      <th>name</th>\n",
       "      <th>description</th>\n",
       "      <th>host_id</th>\n",
       "      <th>neighbourhood_name</th>\n",
       "      <th>neighbourhood_district</th>\n",
       "      <th>room_type</th>\n",
       "      <th>accommodates</th>\n",
       "      <th>bathrooms</th>\n",
       "      <th>bedrooms</th>\n",
       "      <th>beds</th>\n",
       "      <th>amenities_list</th>\n",
       "      <th>price</th>\n",
       "      <th>minimum_nights</th>\n",
       "      <th>maximum_nights</th>\n",
       "      <th>has_availability</th>\n",
       "      <th>availability_30</th>\n",
       "      <th>availability_60</th>\n",
       "      <th>availability_90</th>\n",
       "      <th>availability_365</th>\n",
       "      <th>number_of_reviews</th>\n",
       "      <th>first_review_date</th>\n",
       "      <th>last_review_date</th>\n",
       "      <th>review_scores_rating</th>\n",
       "      <th>review_scores_accuracy</th>\n",
       "      <th>review_scores_cleanliness</th>\n",
       "      <th>review_scores_checkin</th>\n",
       "      <th>review_scores_communication</th>\n",
       "      <th>review_scores_location</th>\n",
       "      <th>review_scores_value</th>\n",
       "      <th>is_instant_bookable</th>\n",
       "      <th>reviews_per_month</th>\n",
       "      <th>country</th>\n",
       "      <th>city</th>\n",
       "      <th>insert_date</th>\n",
       "    </tr>\n",
       "  </thead>\n",
       "  <tbody>\n",
       "    <tr>\n",
       "      <th>0</th>\n",
       "      <td>11964</td>\n",
       "      <td>A ROOM WITH A VIEW</td>\n",
       "      <td>Private bedroom in our attic apartment. Right ...</td>\n",
       "      <td>45553</td>\n",
       "      <td>Centro</td>\n",
       "      <td>None</td>\n",
       "      <td>Private room</td>\n",
       "      <td>2</td>\n",
       "      <td>2</td>\n",
       "      <td>1</td>\n",
       "      <td>1.0</td>\n",
       "      <td>TV,Internet,Wifi,Air conditioning,Elevator,Buz...</td>\n",
       "      <td>400.0</td>\n",
       "      <td>3</td>\n",
       "      <td>365</td>\n",
       "      <td>VERDADERO</td>\n",
       "      <td>7</td>\n",
       "      <td>20</td>\n",
       "      <td>40</td>\n",
       "      <td>130</td>\n",
       "      <td>78</td>\n",
       "      <td>02/01/2010</td>\n",
       "      <td>05/09/2017</td>\n",
       "      <td>970.0</td>\n",
       "      <td>100.0</td>\n",
       "      <td>100.0</td>\n",
       "      <td>100.0</td>\n",
       "      <td>100.0</td>\n",
       "      <td>100.0</td>\n",
       "      <td>100.0</td>\n",
       "      <td>FALSO</td>\n",
       "      <td>75.0</td>\n",
       "      <td>spain</td>\n",
       "      <td>malaga</td>\n",
       "      <td>31/07/2018</td>\n",
       "    </tr>\n",
       "    <tr>\n",
       "      <th>1</th>\n",
       "      <td>21853</td>\n",
       "      <td>Bright and airy room</td>\n",
       "      <td>We have a quiet and sunny room with a good vie...</td>\n",
       "      <td>83531</td>\n",
       "      <td>C�rmenes</td>\n",
       "      <td>Latina</td>\n",
       "      <td>Private room</td>\n",
       "      <td>1</td>\n",
       "      <td>1</td>\n",
       "      <td>1</td>\n",
       "      <td>1.0</td>\n",
       "      <td>TV,Internet,Wifi,Air conditioning,Kitchen,Free...</td>\n",
       "      <td>170.0</td>\n",
       "      <td>4</td>\n",
       "      <td>40</td>\n",
       "      <td>VERDADERO</td>\n",
       "      <td>0</td>\n",
       "      <td>0</td>\n",
       "      <td>0</td>\n",
       "      <td>162</td>\n",
       "      <td>33</td>\n",
       "      <td>10/10/2014</td>\n",
       "      <td>15/07/2018</td>\n",
       "      <td>920.0</td>\n",
       "      <td>90.0</td>\n",
       "      <td>90.0</td>\n",
       "      <td>100.0</td>\n",
       "      <td>100.0</td>\n",
       "      <td>80.0</td>\n",
       "      <td>90.0</td>\n",
       "      <td>FALSO</td>\n",
       "      <td>52.0</td>\n",
       "      <td>spain</td>\n",
       "      <td>madrid</td>\n",
       "      <td>10/01/2020</td>\n",
       "    </tr>\n",
       "    <tr>\n",
       "      <th>2</th>\n",
       "      <td>32347</td>\n",
       "      <td>Explore Cultural Sights from a Family-Friendly...</td>\n",
       "      <td>Open French doors and step onto a plant-filled...</td>\n",
       "      <td>139939</td>\n",
       "      <td>San Vicente</td>\n",
       "      <td>Casco Antiguo</td>\n",
       "      <td>Entire home/apt</td>\n",
       "      <td>4</td>\n",
       "      <td>1</td>\n",
       "      <td>2</td>\n",
       "      <td>2.0</td>\n",
       "      <td>TV,Internet,Wifi,Air conditioning,Wheelchair a...</td>\n",
       "      <td>990.0</td>\n",
       "      <td>2</td>\n",
       "      <td>120</td>\n",
       "      <td>VERDADERO</td>\n",
       "      <td>26</td>\n",
       "      <td>31</td>\n",
       "      <td>31</td>\n",
       "      <td>270</td>\n",
       "      <td>148</td>\n",
       "      <td>05/01/2011</td>\n",
       "      <td>22/07/2019</td>\n",
       "      <td>980.0</td>\n",
       "      <td>100.0</td>\n",
       "      <td>100.0</td>\n",
       "      <td>100.0</td>\n",
       "      <td>100.0</td>\n",
       "      <td>100.0</td>\n",
       "      <td>100.0</td>\n",
       "      <td>VERDADERO</td>\n",
       "      <td>142.0</td>\n",
       "      <td>spain</td>\n",
       "      <td>sevilla</td>\n",
       "      <td>29/07/2019</td>\n",
       "    </tr>\n",
       "    <tr>\n",
       "      <th>3</th>\n",
       "      <td>35379</td>\n",
       "      <td>Double 02 CasanovaRooms Barcelona</td>\n",
       "      <td>Room at a my apartment. Kitchen and 2 bathroom...</td>\n",
       "      <td>152232</td>\n",
       "      <td>l'Antiga Esquerra de l'Eixample</td>\n",
       "      <td>Eixample</td>\n",
       "      <td>Private room</td>\n",
       "      <td>2</td>\n",
       "      <td>2</td>\n",
       "      <td>1</td>\n",
       "      <td>1.0</td>\n",
       "      <td>TV,Internet,Wifi,Kitchen,Breakfast,Elevator,Bu...</td>\n",
       "      <td>400.0</td>\n",
       "      <td>2</td>\n",
       "      <td>730</td>\n",
       "      <td>VERDADERO</td>\n",
       "      <td>9</td>\n",
       "      <td>23</td>\n",
       "      <td>49</td>\n",
       "      <td>300</td>\n",
       "      <td>292</td>\n",
       "      <td>13/03/2012</td>\n",
       "      <td>04/01/2020</td>\n",
       "      <td>940.0</td>\n",
       "      <td>100.0</td>\n",
       "      <td>90.0</td>\n",
       "      <td>100.0</td>\n",
       "      <td>100.0</td>\n",
       "      <td>100.0</td>\n",
       "      <td>90.0</td>\n",
       "      <td>VERDADERO</td>\n",
       "      <td>306.0</td>\n",
       "      <td>spain</td>\n",
       "      <td>barcelona</td>\n",
       "      <td>10/01/2020</td>\n",
       "    </tr>\n",
       "    <tr>\n",
       "      <th>4</th>\n",
       "      <td>35801</td>\n",
       "      <td>Can Torras Farmhouse Studio Suite</td>\n",
       "      <td>Lay in bed &amp; watch sunlight change the mood of...</td>\n",
       "      <td>153805</td>\n",
       "      <td>Quart</td>\n",
       "      <td>None</td>\n",
       "      <td>Private room</td>\n",
       "      <td>5</td>\n",
       "      <td>1</td>\n",
       "      <td>2</td>\n",
       "      <td>5.0</td>\n",
       "      <td>Wifi,Pool,Free parking on premises,Breakfast,P...</td>\n",
       "      <td>900.0</td>\n",
       "      <td>1</td>\n",
       "      <td>180</td>\n",
       "      <td>VERDADERO</td>\n",
       "      <td>0</td>\n",
       "      <td>19</td>\n",
       "      <td>49</td>\n",
       "      <td>312</td>\n",
       "      <td>36</td>\n",
       "      <td>08/07/2011</td>\n",
       "      <td>08/08/2018</td>\n",
       "      <td>970.0</td>\n",
       "      <td>100.0</td>\n",
       "      <td>100.0</td>\n",
       "      <td>100.0</td>\n",
       "      <td>100.0</td>\n",
       "      <td>100.0</td>\n",
       "      <td>100.0</td>\n",
       "      <td>FALSO</td>\n",
       "      <td>39.0</td>\n",
       "      <td>spain</td>\n",
       "      <td>girona</td>\n",
       "      <td>19/02/2019</td>\n",
       "    </tr>\n",
       "  </tbody>\n",
       "</table>\n",
       "</div>"
      ],
      "text/plain": [
       "   apartment_id                                               name  \\\n",
       "0         11964                                 A ROOM WITH A VIEW   \n",
       "1         21853                               Bright and airy room   \n",
       "2         32347  Explore Cultural Sights from a Family-Friendly...   \n",
       "3         35379                  Double 02 CasanovaRooms Barcelona   \n",
       "4         35801                  Can Torras Farmhouse Studio Suite   \n",
       "\n",
       "                                         description  host_id  \\\n",
       "0  Private bedroom in our attic apartment. Right ...    45553   \n",
       "1  We have a quiet and sunny room with a good vie...    83531   \n",
       "2  Open French doors and step onto a plant-filled...   139939   \n",
       "3  Room at a my apartment. Kitchen and 2 bathroom...   152232   \n",
       "4  Lay in bed & watch sunlight change the mood of...   153805   \n",
       "\n",
       "                neighbourhood_name neighbourhood_district        room_type  \\\n",
       "0                           Centro                   None     Private room   \n",
       "1                         C�rmenes                 Latina     Private room   \n",
       "2                      San Vicente          Casco Antiguo  Entire home/apt   \n",
       "3  l'Antiga Esquerra de l'Eixample               Eixample     Private room   \n",
       "4                            Quart                   None     Private room   \n",
       "\n",
       "   accommodates bathrooms bedrooms  beds  \\\n",
       "0             2         2        1   1.0   \n",
       "1             1         1        1   1.0   \n",
       "2             4         1        2   2.0   \n",
       "3             2         2        1   1.0   \n",
       "4             5         1        2   5.0   \n",
       "\n",
       "                                      amenities_list  price  minimum_nights  \\\n",
       "0  TV,Internet,Wifi,Air conditioning,Elevator,Buz...  400.0               3   \n",
       "1  TV,Internet,Wifi,Air conditioning,Kitchen,Free...  170.0               4   \n",
       "2  TV,Internet,Wifi,Air conditioning,Wheelchair a...  990.0               2   \n",
       "3  TV,Internet,Wifi,Kitchen,Breakfast,Elevator,Bu...  400.0               2   \n",
       "4  Wifi,Pool,Free parking on premises,Breakfast,P...  900.0               1   \n",
       "\n",
       "   maximum_nights has_availability  availability_30  availability_60  \\\n",
       "0             365        VERDADERO                7               20   \n",
       "1              40        VERDADERO                0                0   \n",
       "2             120        VERDADERO               26               31   \n",
       "3             730        VERDADERO                9               23   \n",
       "4             180        VERDADERO                0               19   \n",
       "\n",
       "   availability_90  availability_365  number_of_reviews first_review_date  \\\n",
       "0               40               130                 78        02/01/2010   \n",
       "1                0               162                 33        10/10/2014   \n",
       "2               31               270                148        05/01/2011   \n",
       "3               49               300                292        13/03/2012   \n",
       "4               49               312                 36        08/07/2011   \n",
       "\n",
       "  last_review_date  review_scores_rating  review_scores_accuracy  \\\n",
       "0       05/09/2017                 970.0                   100.0   \n",
       "1       15/07/2018                 920.0                    90.0   \n",
       "2       22/07/2019                 980.0                   100.0   \n",
       "3       04/01/2020                 940.0                   100.0   \n",
       "4       08/08/2018                 970.0                   100.0   \n",
       "\n",
       "   review_scores_cleanliness  review_scores_checkin  \\\n",
       "0                      100.0                  100.0   \n",
       "1                       90.0                  100.0   \n",
       "2                      100.0                  100.0   \n",
       "3                       90.0                  100.0   \n",
       "4                      100.0                  100.0   \n",
       "\n",
       "   review_scores_communication  review_scores_location  review_scores_value  \\\n",
       "0                        100.0                   100.0                100.0   \n",
       "1                        100.0                    80.0                 90.0   \n",
       "2                        100.0                   100.0                100.0   \n",
       "3                        100.0                   100.0                 90.0   \n",
       "4                        100.0                   100.0                100.0   \n",
       "\n",
       "  is_instant_bookable  reviews_per_month country       city insert_date  \n",
       "0               FALSO               75.0   spain     malaga  31/07/2018  \n",
       "1               FALSO               52.0   spain     madrid  10/01/2020  \n",
       "2           VERDADERO              142.0   spain    sevilla  29/07/2019  \n",
       "3           VERDADERO              306.0   spain  barcelona  10/01/2020  \n",
       "4               FALSO               39.0   spain     girona  19/02/2019  "
      ]
     },
     "execution_count": 10,
     "metadata": {},
     "output_type": "execute_result"
    }
   ],
   "source": [
    "# se carga como df la TABLA MÁS RECIENTE\n",
    "df = Tourist_Accommodation25032025\n",
    "pd.set_option('display.max_columns', None) # ver todas las columnas\n",
    "df.head()"
   ]
  },
  {
   "cell_type": "markdown",
   "metadata": {},
   "source": [
    "### Tamaño"
   ]
  },
  {
   "cell_type": "code",
   "execution_count": 11,
   "metadata": {},
   "outputs": [
    {
     "data": {
      "text/plain": [
       "(21000, 35)"
      ]
     },
     "execution_count": 11,
     "metadata": {},
     "output_type": "execute_result"
    }
   ],
   "source": [
    "df.shape"
   ]
  },
  {
   "cell_type": "markdown",
   "metadata": {},
   "source": [
    "### Tipos de datos"
   ]
  },
  {
   "cell_type": "code",
   "execution_count": 12,
   "metadata": {},
   "outputs": [
    {
     "name": "stdout",
     "output_type": "stream",
     "text": [
      "<class 'pandas.core.frame.DataFrame'>\n",
      "RangeIndex: 21000 entries, 0 to 20999\n",
      "Data columns (total 35 columns):\n",
      " #   Column                       Non-Null Count  Dtype  \n",
      "---  ------                       --------------  -----  \n",
      " 0   apartment_id                 21000 non-null  int64  \n",
      " 1   name                         20995 non-null  object \n",
      " 2   description                  20708 non-null  object \n",
      " 3   host_id                      21000 non-null  int64  \n",
      " 4   neighbourhood_name           21000 non-null  object \n",
      " 5   neighbourhood_district       12778 non-null  object \n",
      " 6   room_type                    21000 non-null  object \n",
      " 7   accommodates                 21000 non-null  int64  \n",
      " 8   bathrooms                    20829 non-null  object \n",
      " 9   bedrooms                     20857 non-null  object \n",
      " 10  beds                         20914 non-null  float64\n",
      " 11  amenities_list               20962 non-null  object \n",
      " 12  price                        20479 non-null  float64\n",
      " 13  minimum_nights               21000 non-null  int64  \n",
      " 14  maximum_nights               21000 non-null  int64  \n",
      " 15  has_availability             19849 non-null  object \n",
      " 16  availability_30              21000 non-null  int64  \n",
      " 17  availability_60              21000 non-null  int64  \n",
      " 18  availability_90              21000 non-null  int64  \n",
      " 19  availability_365             21000 non-null  int64  \n",
      " 20  number_of_reviews            21000 non-null  int64  \n",
      " 21  first_review_date            15553 non-null  object \n",
      " 22  last_review_date             15550 non-null  object \n",
      " 23  review_scores_rating         15329 non-null  float64\n",
      " 24  review_scores_accuracy       15308 non-null  float64\n",
      " 25  review_scores_cleanliness    15322 non-null  float64\n",
      " 26  review_scores_checkin        15293 non-null  float64\n",
      " 27  review_scores_communication  15315 non-null  float64\n",
      " 28  review_scores_location       15295 non-null  float64\n",
      " 29  review_scores_value          15292 non-null  float64\n",
      " 30  is_instant_bookable          21000 non-null  object \n",
      " 31  reviews_per_month            15553 non-null  float64\n",
      " 32  country                      21000 non-null  object \n",
      " 33  city                         21000 non-null  object \n",
      " 34  insert_date                  21000 non-null  object \n",
      "dtypes: float64(10), int64(10), object(15)\n",
      "memory usage: 5.6+ MB\n"
     ]
    }
   ],
   "source": [
    "df.info()"
   ]
  },
  {
   "cell_type": "markdown",
   "metadata": {},
   "source": [
    "#### Corrección de tipos de datos"
   ]
  },
  {
   "cell_type": "code",
   "execution_count": 13,
   "metadata": {},
   "outputs": [
    {
     "name": "stderr",
     "output_type": "stream",
     "text": [
      "C:\\Users\\Evelyn\\AppData\\Local\\Temp\\ipykernel_9860\\3580156214.py:6: FutureWarning: Downcasting object dtype arrays on .fillna, .ffill, .bfill is deprecated and will change in a future version. Call result.infer_objects(copy=False) instead. To opt-in to the future behavior, set `pd.set_option('future.no_silent_downcasting', True)`\n",
      "  df['has_availability'] = df['has_availability'].replace({'VERDADERO': True}).fillna(False)\n",
      "C:\\Users\\Evelyn\\AppData\\Local\\Temp\\ipykernel_9860\\3580156214.py:9: FutureWarning: Downcasting behavior in `replace` is deprecated and will be removed in a future version. To retain the old behavior, explicitly call `result.infer_objects(copy=False)`. To opt-in to the future behavior, set `pd.set_option('future.no_silent_downcasting', True)`\n",
      "  df['is_instant_bookable'] = df['is_instant_bookable'].replace({'VERDADERO': True, 'FALSO': False})\n",
      "C:\\Users\\Evelyn\\AppData\\Local\\Temp\\ipykernel_9860\\3580156214.py:15: UserWarning: Parsing dates in %d/%m/%Y format when dayfirst=False (the default) was specified. Pass `dayfirst=True` or specify a format to silence this warning.\n",
      "  df[\"insert_date\"] = pd.to_datetime(df[\"insert_date\"], errors=\"coerce\")\n"
     ]
    },
    {
     "name": "stdout",
     "output_type": "stream",
     "text": [
      "<class 'pandas.core.frame.DataFrame'>\n",
      "RangeIndex: 21000 entries, 0 to 20999\n",
      "Data columns (total 35 columns):\n",
      " #   Column                       Non-Null Count  Dtype         \n",
      "---  ------                       --------------  -----         \n",
      " 0   apartment_id                 21000 non-null  int64         \n",
      " 1   name                         20995 non-null  object        \n",
      " 2   description                  20708 non-null  object        \n",
      " 3   host_id                      21000 non-null  int64         \n",
      " 4   neighbourhood_name           21000 non-null  object        \n",
      " 5   neighbourhood_district       12778 non-null  object        \n",
      " 6   room_type                    21000 non-null  object        \n",
      " 7   accommodates                 21000 non-null  int64         \n",
      " 8   bathrooms                    20829 non-null  float64       \n",
      " 9   bedrooms                     20857 non-null  float64       \n",
      " 10  beds                         20914 non-null  float64       \n",
      " 11  amenities_list               20962 non-null  object        \n",
      " 12  price                        20479 non-null  float64       \n",
      " 13  minimum_nights               21000 non-null  int64         \n",
      " 14  maximum_nights               21000 non-null  int64         \n",
      " 15  has_availability             21000 non-null  bool          \n",
      " 16  availability_30              21000 non-null  int64         \n",
      " 17  availability_60              21000 non-null  int64         \n",
      " 18  availability_90              21000 non-null  int64         \n",
      " 19  availability_365             21000 non-null  int64         \n",
      " 20  number_of_reviews            21000 non-null  int64         \n",
      " 21  first_review_date            6471 non-null   datetime64[ns]\n",
      " 22  last_review_date             6445 non-null   datetime64[ns]\n",
      " 23  review_scores_rating         15329 non-null  float64       \n",
      " 24  review_scores_accuracy       15308 non-null  float64       \n",
      " 25  review_scores_cleanliness    15322 non-null  float64       \n",
      " 26  review_scores_checkin        15293 non-null  float64       \n",
      " 27  review_scores_communication  15315 non-null  float64       \n",
      " 28  review_scores_location       15295 non-null  float64       \n",
      " 29  review_scores_value          15292 non-null  float64       \n",
      " 30  is_instant_bookable          21000 non-null  bool          \n",
      " 31  reviews_per_month            15553 non-null  float64       \n",
      " 32  country                      21000 non-null  object        \n",
      " 33  city                         21000 non-null  object        \n",
      " 34  insert_date                  21000 non-null  datetime64[ns]\n",
      "dtypes: bool(2), datetime64[ns](3), float64(12), int64(10), object(8)\n",
      "memory usage: 5.3+ MB\n"
     ]
    }
   ],
   "source": [
    "# conversión a numérico\n",
    "df['bathrooms'] = pd.to_numeric(df['bathrooms'], errors='coerce')\n",
    "df[\"bedrooms\"] = pd.to_numeric(df[\"bedrooms\"], errors='coerce')\n",
    "\n",
    "# conversión a booleano\n",
    "df['has_availability'] = df['has_availability'].replace({'VERDADERO': True}).fillna(False)\n",
    "df['has_availability'] = df['has_availability'].astype(bool)\n",
    "\n",
    "df['is_instant_bookable'] = df['is_instant_bookable'].replace({'VERDADERO': True, 'FALSO': False})\n",
    "df['is_instant_bookable'] = df['is_instant_bookable'].astype(bool)\n",
    "\n",
    "# conversión a fechas\n",
    "df[\"first_review_date\"] = pd.to_datetime(df[\"first_review_date\"], errors=\"coerce\")\n",
    "df[\"last_review_date\"] = pd.to_datetime(df[\"last_review_date\"], errors=\"coerce\")\n",
    "df[\"insert_date\"] = pd.to_datetime(df[\"insert_date\"], errors=\"coerce\")\n",
    "\n",
    "df.info()"
   ]
  },
  {
   "cell_type": "markdown",
   "metadata": {},
   "source": [
    "### Duplicados"
   ]
  },
  {
   "cell_type": "code",
   "execution_count": 14,
   "metadata": {},
   "outputs": [
    {
     "data": {
      "text/plain": [
       "np.int64(8000)"
      ]
     },
     "execution_count": 14,
     "metadata": {},
     "output_type": "execute_result"
    }
   ],
   "source": [
    "df.duplicated().sum()"
   ]
  },
  {
   "cell_type": "code",
   "execution_count": 15,
   "metadata": {},
   "outputs": [
    {
     "name": "stdout",
     "output_type": "stream",
     "text": [
      "Total de registros del dataset: 21000\n",
      "Total de duplicados exactos: 8000\n",
      "El número de apartment_id duplicados es: 8350\n"
     ]
    }
   ],
   "source": [
    "registros_totales = len(df)\n",
    "\n",
    "duplicados = df['apartment_id'].duplicated().sum()\n",
    "\n",
    "print(f'Total de registros del dataset: {registros_totales}')\n",
    "print(f'Total de duplicados exactos: {df.duplicated().sum()}')\n",
    "print(f\"El número de apartment_id duplicados es: {duplicados}\")"
   ]
  },
  {
   "cell_type": "markdown",
   "metadata": {},
   "source": [
    "### Análisis estadísticos y outliers"
   ]
  },
  {
   "cell_type": "code",
   "execution_count": 16,
   "metadata": {},
   "outputs": [
    {
     "name": "stdout",
     "output_type": "stream",
     "text": [
      "\n",
      " Distribución Variables Numéricas:\n",
      "\n",
      "                               Media  Desviación estándar  Mínimo  Q1 (25%)  Mediana  Q3 (75%)   Máximo\n",
      "accommodates                    4.27                 2.58     1.0       2.0      4.0      6.00     29.0\n",
      "bathrooms                       1.60                 1.00     0.0       1.0      1.0      2.00     13.0\n",
      "bedrooms                        1.94                 1.36     0.0       1.0      2.0      3.00     50.0\n",
      "beds                            2.92                 2.26     0.0       1.0      2.0      4.00     30.0\n",
      "price                        1020.13               984.93    60.0     450.0    750.0   1240.00  28571.0\n",
      "minimum_nights                  4.92                18.36     1.0       1.0      2.0      4.00   1125.0\n",
      "maximum_nights                758.36               498.77     1.0      60.0   1125.0   1125.00   1125.0\n",
      "availability_30                12.95                11.81     0.0       0.0     11.0     26.00     30.0\n",
      "availability_60                28.71                22.94     0.0       2.0     29.0     52.00     60.0\n",
      "availability_90                46.14                33.70     0.0      10.0     49.0     79.25     90.0\n",
      "availability_365              187.87               130.60     0.0      66.0    183.0    318.00    365.0\n",
      "number_of_reviews              25.81                51.67     0.0       0.0      5.0     27.00    588.0\n",
      "review_scores_rating          919.07                93.01   200.0     890.0    940.0    980.00   1000.0\n",
      "review_scores_accuracy         94.51                 9.42    20.0      90.0    100.0    100.00    100.0\n",
      "review_scores_cleanliness      93.09                10.24    20.0      90.0    100.0    100.00    100.0\n",
      "review_scores_checkin          96.27                 8.13    20.0      90.0    100.0    100.00    100.0\n",
      "review_scores_communication    96.22                 8.25    20.0      90.0    100.0    100.00    100.0\n",
      "review_scores_location         95.52                 7.65    20.0      90.0    100.0    100.00    100.0\n",
      "review_scores_value            91.38                 9.98    20.0      90.0     90.0    100.00    100.0\n",
      "reviews_per_month             124.13               153.01     1.0      18.0     59.0    178.00   1291.0\n"
     ]
    },
    {
     "data": {
      "image/png": "[encoded data removed]",
      "text/plain": [
       "<Figure size 1200x600 with 1 Axes>"
      ]
     },
     "metadata": {},
     "output_type": "display_data"
    }
   ],
   "source": [
    "# Filtrar solo variables numéricas\n",
    "df_numericas = df.select_dtypes(include=[np.number]).drop(columns=['apartment_id', 'host_id'],errors = 'ignore')\n",
    "\n",
    "# Calcular estadísticas básicas\n",
    "estadisticas = df_numericas.describe().T[['mean', 'std', 'min', '25%', '50%', '75%', 'max']]\n",
    "estadisticas.columns = ['Media', 'Desviación estándar', 'Mínimo', 'Q1 (25%)', 'Mediana', 'Q3 (75%)', 'Máximo']\n",
    "\n",
    "# Redondear a dos decimales\n",
    "estadisticas = estadisticas.round(2)\n",
    "\n",
    "# Mostrar estadísticas\n",
    "print(\"\\n Distribución Variables Numéricas:\\n\")\n",
    "print(estadisticas.to_string())\n",
    "\n",
    "# Crear boxplots de todas las variables numéricas\n",
    "plt.figure(figsize=(12, 6))\n",
    "df_numericas.boxplot(rot=90, patch_artist=True, boxprops=dict(facecolor=\"lightblue\"))\n",
    "plt.title(\"Boxplots de Variables Numéricas\")\n",
    "plt.xlabel(\"Variables\")\n",
    "plt.ylabel(\"Valores\")\n",
    "plt.grid(True)\n",
    "plt.show()"
   ]
  },
  {
   "cell_type": "code",
   "execution_count": 17,
   "metadata": {},
   "outputs": [
    {
     "data": {
      "image/png": "[encoded data removed]",
      "text/plain": [
       "<Figure size 1200x600 with 1 Axes>"
      ]
     },
     "metadata": {},
     "output_type": "display_data"
    }
   ],
   "source": [
    "# nuevo gráfico sin precio vara visualizar mejor las demás variables\n",
    "\n",
    "df_no_price = df_numericas.drop('price', axis=1)\n",
    "plt.figure(figsize=(12, 6))\n",
    "df_no_price.boxplot(rot=90, patch_artist=True, boxprops=dict(facecolor=\"violet\"))\n",
    "plt.title(\"Distribución de variables numéricas (excepto precio)\")\n",
    "plt.xlabel(\"Variables\")\n",
    "plt.ylabel(\"Valores\")\n",
    "plt.grid(True)\n",
    "plt.show()"
   ]
  },
  {
   "cell_type": "markdown",
   "metadata": {},
   "source": [
    "## Limpieza de datos (Data Cleaning)"
   ]
  },
  {
   "cell_type": "markdown",
   "metadata": {},
   "source": [
    "### Tratamiento de duplicados"
   ]
  },
  {
   "cell_type": "code",
   "execution_count": 18,
   "metadata": {},
   "outputs": [
    {
     "name": "stdout",
     "output_type": "stream",
     "text": [
      "Total de registros del dataset: 21000\n",
      "Total de duplicados exactos: 8000\n",
      "El número de apartment_id duplicados es: 8350\n"
     ]
    }
   ],
   "source": [
    "registros_totales = len(df)\n",
    "\n",
    "duplicados = df['apartment_id'].duplicated().sum()\n",
    "\n",
    "print(f'Total de registros del dataset: {registros_totales}')\n",
    "print(f'Total de duplicados exactos: {df.duplicated().sum()}')\n",
    "print(f\"El número de apartment_id duplicados es: {duplicados}\")"
   ]
  },
  {
   "cell_type": "code",
   "execution_count": 19,
   "metadata": {},
   "outputs": [
    {
     "data": {
      "text/html": [
       "<div>\n",
       "<style scoped>\n",
       "    .dataframe tbody tr th:only-of-type {\n",
       "        vertical-align: middle;\n",
       "    }\n",
       "\n",
       "    .dataframe tbody tr th {\n",
       "        vertical-align: top;\n",
       "    }\n",
       "\n",
       "    .dataframe thead th {\n",
       "        text-align: right;\n",
       "    }\n",
       "</style>\n",
       "<table border=\"1\" class=\"dataframe\">\n",
       "  <thead>\n",
       "    <tr style=\"text-align: right;\">\n",
       "      <th></th>\n",
       "      <th>apartment_id</th>\n",
       "      <th>name</th>\n",
       "      <th>description</th>\n",
       "      <th>host_id</th>\n",
       "      <th>neighbourhood_name</th>\n",
       "      <th>neighbourhood_district</th>\n",
       "      <th>room_type</th>\n",
       "      <th>accommodates</th>\n",
       "      <th>bathrooms</th>\n",
       "      <th>bedrooms</th>\n",
       "      <th>beds</th>\n",
       "      <th>amenities_list</th>\n",
       "      <th>price</th>\n",
       "      <th>minimum_nights</th>\n",
       "      <th>maximum_nights</th>\n",
       "      <th>has_availability</th>\n",
       "      <th>availability_30</th>\n",
       "      <th>availability_60</th>\n",
       "      <th>availability_90</th>\n",
       "      <th>availability_365</th>\n",
       "      <th>number_of_reviews</th>\n",
       "      <th>first_review_date</th>\n",
       "      <th>last_review_date</th>\n",
       "      <th>review_scores_rating</th>\n",
       "      <th>review_scores_accuracy</th>\n",
       "      <th>review_scores_cleanliness</th>\n",
       "      <th>review_scores_checkin</th>\n",
       "      <th>review_scores_communication</th>\n",
       "      <th>review_scores_location</th>\n",
       "      <th>review_scores_value</th>\n",
       "      <th>is_instant_bookable</th>\n",
       "      <th>reviews_per_month</th>\n",
       "      <th>country</th>\n",
       "      <th>city</th>\n",
       "      <th>insert_date</th>\n",
       "    </tr>\n",
       "  </thead>\n",
       "  <tbody>\n",
       "    <tr>\n",
       "      <th>0</th>\n",
       "      <td>11964</td>\n",
       "      <td>A ROOM WITH A VIEW</td>\n",
       "      <td>Private bedroom in our attic apartment. Right ...</td>\n",
       "      <td>45553</td>\n",
       "      <td>Centro</td>\n",
       "      <td>None</td>\n",
       "      <td>Private room</td>\n",
       "      <td>2</td>\n",
       "      <td>2.0</td>\n",
       "      <td>1.0</td>\n",
       "      <td>1.0</td>\n",
       "      <td>TV,Internet,Wifi,Air conditioning,Elevator,Buz...</td>\n",
       "      <td>400.0</td>\n",
       "      <td>3</td>\n",
       "      <td>365</td>\n",
       "      <td>True</td>\n",
       "      <td>7</td>\n",
       "      <td>20</td>\n",
       "      <td>40</td>\n",
       "      <td>130</td>\n",
       "      <td>78</td>\n",
       "      <td>2010-02-01</td>\n",
       "      <td>2017-05-09</td>\n",
       "      <td>970.0</td>\n",
       "      <td>100.0</td>\n",
       "      <td>100.0</td>\n",
       "      <td>100.0</td>\n",
       "      <td>100.0</td>\n",
       "      <td>100.0</td>\n",
       "      <td>100.0</td>\n",
       "      <td>False</td>\n",
       "      <td>75.0</td>\n",
       "      <td>spain</td>\n",
       "      <td>malaga</td>\n",
       "      <td>2018-07-31</td>\n",
       "    </tr>\n",
       "    <tr>\n",
       "      <th>1</th>\n",
       "      <td>21853</td>\n",
       "      <td>Bright and airy room</td>\n",
       "      <td>We have a quiet and sunny room with a good vie...</td>\n",
       "      <td>83531</td>\n",
       "      <td>C�rmenes</td>\n",
       "      <td>Latina</td>\n",
       "      <td>Private room</td>\n",
       "      <td>1</td>\n",
       "      <td>1.0</td>\n",
       "      <td>1.0</td>\n",
       "      <td>1.0</td>\n",
       "      <td>TV,Internet,Wifi,Air conditioning,Kitchen,Free...</td>\n",
       "      <td>170.0</td>\n",
       "      <td>4</td>\n",
       "      <td>40</td>\n",
       "      <td>True</td>\n",
       "      <td>0</td>\n",
       "      <td>0</td>\n",
       "      <td>0</td>\n",
       "      <td>162</td>\n",
       "      <td>33</td>\n",
       "      <td>2014-10-10</td>\n",
       "      <td>NaT</td>\n",
       "      <td>920.0</td>\n",
       "      <td>90.0</td>\n",
       "      <td>90.0</td>\n",
       "      <td>100.0</td>\n",
       "      <td>100.0</td>\n",
       "      <td>80.0</td>\n",
       "      <td>90.0</td>\n",
       "      <td>False</td>\n",
       "      <td>52.0</td>\n",
       "      <td>spain</td>\n",
       "      <td>madrid</td>\n",
       "      <td>2020-01-10</td>\n",
       "    </tr>\n",
       "    <tr>\n",
       "      <th>2</th>\n",
       "      <td>32347</td>\n",
       "      <td>Explore Cultural Sights from a Family-Friendly...</td>\n",
       "      <td>Open French doors and step onto a plant-filled...</td>\n",
       "      <td>139939</td>\n",
       "      <td>San Vicente</td>\n",
       "      <td>Casco Antiguo</td>\n",
       "      <td>Entire home/apt</td>\n",
       "      <td>4</td>\n",
       "      <td>1.0</td>\n",
       "      <td>2.0</td>\n",
       "      <td>2.0</td>\n",
       "      <td>TV,Internet,Wifi,Air conditioning,Wheelchair a...</td>\n",
       "      <td>990.0</td>\n",
       "      <td>2</td>\n",
       "      <td>120</td>\n",
       "      <td>True</td>\n",
       "      <td>26</td>\n",
       "      <td>31</td>\n",
       "      <td>31</td>\n",
       "      <td>270</td>\n",
       "      <td>148</td>\n",
       "      <td>2011-05-01</td>\n",
       "      <td>NaT</td>\n",
       "      <td>980.0</td>\n",
       "      <td>100.0</td>\n",
       "      <td>100.0</td>\n",
       "      <td>100.0</td>\n",
       "      <td>100.0</td>\n",
       "      <td>100.0</td>\n",
       "      <td>100.0</td>\n",
       "      <td>True</td>\n",
       "      <td>142.0</td>\n",
       "      <td>spain</td>\n",
       "      <td>sevilla</td>\n",
       "      <td>2019-07-29</td>\n",
       "    </tr>\n",
       "    <tr>\n",
       "      <th>3</th>\n",
       "      <td>35379</td>\n",
       "      <td>Double 02 CasanovaRooms Barcelona</td>\n",
       "      <td>Room at a my apartment. Kitchen and 2 bathroom...</td>\n",
       "      <td>152232</td>\n",
       "      <td>l'Antiga Esquerra de l'Eixample</td>\n",
       "      <td>Eixample</td>\n",
       "      <td>Private room</td>\n",
       "      <td>2</td>\n",
       "      <td>2.0</td>\n",
       "      <td>1.0</td>\n",
       "      <td>1.0</td>\n",
       "      <td>TV,Internet,Wifi,Kitchen,Breakfast,Elevator,Bu...</td>\n",
       "      <td>400.0</td>\n",
       "      <td>2</td>\n",
       "      <td>730</td>\n",
       "      <td>True</td>\n",
       "      <td>9</td>\n",
       "      <td>23</td>\n",
       "      <td>49</td>\n",
       "      <td>300</td>\n",
       "      <td>292</td>\n",
       "      <td>NaT</td>\n",
       "      <td>2020-04-01</td>\n",
       "      <td>940.0</td>\n",
       "      <td>100.0</td>\n",
       "      <td>90.0</td>\n",
       "      <td>100.0</td>\n",
       "      <td>100.0</td>\n",
       "      <td>100.0</td>\n",
       "      <td>90.0</td>\n",
       "      <td>True</td>\n",
       "      <td>306.0</td>\n",
       "      <td>spain</td>\n",
       "      <td>barcelona</td>\n",
       "      <td>2020-01-10</td>\n",
       "    </tr>\n",
       "    <tr>\n",
       "      <th>9</th>\n",
       "      <td>73683</td>\n",
       "      <td>Sagrada Familia area for 12 people</td>\n",
       "      <td>An ideal location for a big group, two apartme...</td>\n",
       "      <td>135703</td>\n",
       "      <td>el Camp d'en Grassot i Gr�cia Nova</td>\n",
       "      <td>Gr�cia</td>\n",
       "      <td>Entire home/apt</td>\n",
       "      <td>12</td>\n",
       "      <td>2.0</td>\n",
       "      <td>4.0</td>\n",
       "      <td>14.0</td>\n",
       "      <td>TV,Cable TV,Internet,Wifi,Air conditioning,Kit...</td>\n",
       "      <td>3000.0</td>\n",
       "      <td>2</td>\n",
       "      <td>60</td>\n",
       "      <td>True</td>\n",
       "      <td>8</td>\n",
       "      <td>12</td>\n",
       "      <td>23</td>\n",
       "      <td>296</td>\n",
       "      <td>120</td>\n",
       "      <td>2011-04-06</td>\n",
       "      <td>NaT</td>\n",
       "      <td>920.0</td>\n",
       "      <td>90.0</td>\n",
       "      <td>90.0</td>\n",
       "      <td>100.0</td>\n",
       "      <td>100.0</td>\n",
       "      <td>90.0</td>\n",
       "      <td>90.0</td>\n",
       "      <td>True</td>\n",
       "      <td>14.0</td>\n",
       "      <td>spain</td>\n",
       "      <td>barcelona</td>\n",
       "      <td>2018-06-09</td>\n",
       "    </tr>\n",
       "    <tr>\n",
       "      <th>11</th>\n",
       "      <td>79755</td>\n",
       "      <td>3Br-2bath-AC Full 5 stars reviews!</td>\n",
       "      <td>90 m2 apartment, 2 baths, 3 bedrooms. Fully eq...</td>\n",
       "      <td>429939</td>\n",
       "      <td>l'Antiga Esquerra de l'Eixample</td>\n",
       "      <td>Eixample</td>\n",
       "      <td>Entire home/apt</td>\n",
       "      <td>5</td>\n",
       "      <td>2.0</td>\n",
       "      <td>3.0</td>\n",
       "      <td>4.0</td>\n",
       "      <td>TV,Internet,Wireless Internet,Air conditioning...</td>\n",
       "      <td>1100.0</td>\n",
       "      <td>3</td>\n",
       "      <td>365</td>\n",
       "      <td>True</td>\n",
       "      <td>9</td>\n",
       "      <td>10</td>\n",
       "      <td>10</td>\n",
       "      <td>10</td>\n",
       "      <td>189</td>\n",
       "      <td>NaT</td>\n",
       "      <td>2016-01-10</td>\n",
       "      <td>980.0</td>\n",
       "      <td>100.0</td>\n",
       "      <td>100.0</td>\n",
       "      <td>100.0</td>\n",
       "      <td>100.0</td>\n",
       "      <td>100.0</td>\n",
       "      <td>100.0</td>\n",
       "      <td>True</td>\n",
       "      <td>234.0</td>\n",
       "      <td>spain</td>\n",
       "      <td>barcelona</td>\n",
       "      <td>2017-12-09</td>\n",
       "    </tr>\n",
       "    <tr>\n",
       "      <th>13</th>\n",
       "      <td>89776</td>\n",
       "      <td>Modernist flat Downtown Casa Estap� | Barcelona</td>\n",
       "      <td>Unique and rare ! Stay in the Casa Estap�, jew...</td>\n",
       "      <td>488151</td>\n",
       "      <td>el Fort Pienc</td>\n",
       "      <td>Eixample</td>\n",
       "      <td>Entire home/apt</td>\n",
       "      <td>4</td>\n",
       "      <td>1.0</td>\n",
       "      <td>1.0</td>\n",
       "      <td>2.0</td>\n",
       "      <td>TV,Internet,Wifi,Air conditioning,Kitchen,Elev...</td>\n",
       "      <td>650.0</td>\n",
       "      <td>3</td>\n",
       "      <td>365</td>\n",
       "      <td>True</td>\n",
       "      <td>7</td>\n",
       "      <td>18</td>\n",
       "      <td>41</td>\n",
       "      <td>224</td>\n",
       "      <td>322</td>\n",
       "      <td>2011-10-11</td>\n",
       "      <td>2019-01-12</td>\n",
       "      <td>960.0</td>\n",
       "      <td>100.0</td>\n",
       "      <td>100.0</td>\n",
       "      <td>100.0</td>\n",
       "      <td>100.0</td>\n",
       "      <td>100.0</td>\n",
       "      <td>100.0</td>\n",
       "      <td>True</td>\n",
       "      <td>327.0</td>\n",
       "      <td>spain</td>\n",
       "      <td>barcelona</td>\n",
       "      <td>2019-12-10</td>\n",
       "    </tr>\n",
       "    <tr>\n",
       "      <th>14</th>\n",
       "      <td>89954</td>\n",
       "      <td>Amazing apt in the historic center</td>\n",
       "      <td>Beautiful, new, central and cosy apartment per...</td>\n",
       "      <td>487095</td>\n",
       "      <td>Palacio</td>\n",
       "      <td>Centro</td>\n",
       "      <td>Entire home/apt</td>\n",
       "      <td>6</td>\n",
       "      <td>1.0</td>\n",
       "      <td>2.0</td>\n",
       "      <td>3.0</td>\n",
       "      <td>TV,Cable TV,Wifi,Air conditioning,Kitchen,Elev...</td>\n",
       "      <td>1030.0</td>\n",
       "      <td>2</td>\n",
       "      <td>20</td>\n",
       "      <td>True</td>\n",
       "      <td>27</td>\n",
       "      <td>48</td>\n",
       "      <td>49</td>\n",
       "      <td>61</td>\n",
       "      <td>181</td>\n",
       "      <td>2011-01-07</td>\n",
       "      <td>2018-01-11</td>\n",
       "      <td>970.0</td>\n",
       "      <td>100.0</td>\n",
       "      <td>100.0</td>\n",
       "      <td>100.0</td>\n",
       "      <td>100.0</td>\n",
       "      <td>100.0</td>\n",
       "      <td>100.0</td>\n",
       "      <td>False</td>\n",
       "      <td>202.0</td>\n",
       "      <td>spain</td>\n",
       "      <td>madrid</td>\n",
       "      <td>2018-11-07</td>\n",
       "    </tr>\n",
       "    <tr>\n",
       "      <th>17</th>\n",
       "      <td>103386</td>\n",
       "      <td>Central 2 Bedrooms, 3/5 pers. Wi-Fi</td>\n",
       "      <td>This is Edificio Palomar Apartments, I will tr...</td>\n",
       "      <td>508042</td>\n",
       "      <td>EL PILAR</td>\n",
       "      <td>CIUTAT VELLA</td>\n",
       "      <td>Entire home/apt</td>\n",
       "      <td>5</td>\n",
       "      <td>1.0</td>\n",
       "      <td>2.0</td>\n",
       "      <td>3.0</td>\n",
       "      <td>TV,Wifi,Air conditioning,Kitchen,Paid parking ...</td>\n",
       "      <td>840.0</td>\n",
       "      <td>1</td>\n",
       "      <td>14</td>\n",
       "      <td>True</td>\n",
       "      <td>17</td>\n",
       "      <td>38</td>\n",
       "      <td>64</td>\n",
       "      <td>229</td>\n",
       "      <td>13</td>\n",
       "      <td>2011-01-11</td>\n",
       "      <td>NaT</td>\n",
       "      <td>930.0</td>\n",
       "      <td>100.0</td>\n",
       "      <td>100.0</td>\n",
       "      <td>100.0</td>\n",
       "      <td>90.0</td>\n",
       "      <td>90.0</td>\n",
       "      <td>100.0</td>\n",
       "      <td>False</td>\n",
       "      <td>13.0</td>\n",
       "      <td>spain</td>\n",
       "      <td>valencia</td>\n",
       "      <td>2019-10-31</td>\n",
       "    </tr>\n",
       "    <tr>\n",
       "      <th>18</th>\n",
       "      <td>107437</td>\n",
       "      <td>A beautiful  villa in Barcelona</td>\n",
       "      <td>A conserved, period villa situated in the mids...</td>\n",
       "      <td>556626</td>\n",
       "      <td>Vallvidrera, el Tibidabo i les Planes</td>\n",
       "      <td>Sarri�-Sant Gervasi</td>\n",
       "      <td>Entire home/apt</td>\n",
       "      <td>8</td>\n",
       "      <td>2.0</td>\n",
       "      <td>5.0</td>\n",
       "      <td>6.0</td>\n",
       "      <td>TV,Wifi,Kitchen,Free parking on premises,Smoki...</td>\n",
       "      <td>2200.0</td>\n",
       "      <td>3</td>\n",
       "      <td>120</td>\n",
       "      <td>True</td>\n",
       "      <td>12</td>\n",
       "      <td>41</td>\n",
       "      <td>59</td>\n",
       "      <td>250</td>\n",
       "      <td>34</td>\n",
       "      <td>2011-08-07</td>\n",
       "      <td>NaT</td>\n",
       "      <td>930.0</td>\n",
       "      <td>100.0</td>\n",
       "      <td>100.0</td>\n",
       "      <td>100.0</td>\n",
       "      <td>100.0</td>\n",
       "      <td>100.0</td>\n",
       "      <td>90.0</td>\n",
       "      <td>True</td>\n",
       "      <td>38.0</td>\n",
       "      <td>spain</td>\n",
       "      <td>barcelona</td>\n",
       "      <td>2018-10-10</td>\n",
       "    </tr>\n",
       "  </tbody>\n",
       "</table>\n",
       "</div>"
      ],
      "text/plain": [
       "    apartment_id                                               name  \\\n",
       "0          11964                                 A ROOM WITH A VIEW   \n",
       "1          21853                               Bright and airy room   \n",
       "2          32347  Explore Cultural Sights from a Family-Friendly...   \n",
       "3          35379                  Double 02 CasanovaRooms Barcelona   \n",
       "9          73683                 Sagrada Familia area for 12 people   \n",
       "11         79755                 3Br-2bath-AC Full 5 stars reviews!   \n",
       "13         89776    Modernist flat Downtown Casa Estap� | Barcelona   \n",
       "14         89954                 Amazing apt in the historic center   \n",
       "17        103386                Central 2 Bedrooms, 3/5 pers. Wi-Fi   \n",
       "18        107437                    A beautiful  villa in Barcelona   \n",
       "\n",
       "                                          description  host_id  \\\n",
       "0   Private bedroom in our attic apartment. Right ...    45553   \n",
       "1   We have a quiet and sunny room with a good vie...    83531   \n",
       "2   Open French doors and step onto a plant-filled...   139939   \n",
       "3   Room at a my apartment. Kitchen and 2 bathroom...   152232   \n",
       "9   An ideal location for a big group, two apartme...   135703   \n",
       "11  90 m2 apartment, 2 baths, 3 bedrooms. Fully eq...   429939   \n",
       "13  Unique and rare ! Stay in the Casa Estap�, jew...   488151   \n",
       "14  Beautiful, new, central and cosy apartment per...   487095   \n",
       "17  This is Edificio Palomar Apartments, I will tr...   508042   \n",
       "18  A conserved, period villa situated in the mids...   556626   \n",
       "\n",
       "                       neighbourhood_name neighbourhood_district  \\\n",
       "0                                  Centro                   None   \n",
       "1                                C�rmenes                 Latina   \n",
       "2                             San Vicente          Casco Antiguo   \n",
       "3         l'Antiga Esquerra de l'Eixample               Eixample   \n",
       "9      el Camp d'en Grassot i Gr�cia Nova                 Gr�cia   \n",
       "11        l'Antiga Esquerra de l'Eixample               Eixample   \n",
       "13                          el Fort Pienc               Eixample   \n",
       "14                                Palacio                 Centro   \n",
       "17                               EL PILAR           CIUTAT VELLA   \n",
       "18  Vallvidrera, el Tibidabo i les Planes    Sarri�-Sant Gervasi   \n",
       "\n",
       "          room_type  accommodates  bathrooms  bedrooms  beds  \\\n",
       "0      Private room             2        2.0       1.0   1.0   \n",
       "1      Private room             1        1.0       1.0   1.0   \n",
       "2   Entire home/apt             4        1.0       2.0   2.0   \n",
       "3      Private room             2        2.0       1.0   1.0   \n",
       "9   Entire home/apt            12        2.0       4.0  14.0   \n",
       "11  Entire home/apt             5        2.0       3.0   4.0   \n",
       "13  Entire home/apt             4        1.0       1.0   2.0   \n",
       "14  Entire home/apt             6        1.0       2.0   3.0   \n",
       "17  Entire home/apt             5        1.0       2.0   3.0   \n",
       "18  Entire home/apt             8        2.0       5.0   6.0   \n",
       "\n",
       "                                       amenities_list   price  minimum_nights  \\\n",
       "0   TV,Internet,Wifi,Air conditioning,Elevator,Buz...   400.0               3   \n",
       "1   TV,Internet,Wifi,Air conditioning,Kitchen,Free...   170.0               4   \n",
       "2   TV,Internet,Wifi,Air conditioning,Wheelchair a...   990.0               2   \n",
       "3   TV,Internet,Wifi,Kitchen,Breakfast,Elevator,Bu...   400.0               2   \n",
       "9   TV,Cable TV,Internet,Wifi,Air conditioning,Kit...  3000.0               2   \n",
       "11  TV,Internet,Wireless Internet,Air conditioning...  1100.0               3   \n",
       "13  TV,Internet,Wifi,Air conditioning,Kitchen,Elev...   650.0               3   \n",
       "14  TV,Cable TV,Wifi,Air conditioning,Kitchen,Elev...  1030.0               2   \n",
       "17  TV,Wifi,Air conditioning,Kitchen,Paid parking ...   840.0               1   \n",
       "18  TV,Wifi,Kitchen,Free parking on premises,Smoki...  2200.0               3   \n",
       "\n",
       "    maximum_nights  has_availability  availability_30  availability_60  \\\n",
       "0              365              True                7               20   \n",
       "1               40              True                0                0   \n",
       "2              120              True               26               31   \n",
       "3              730              True                9               23   \n",
       "9               60              True                8               12   \n",
       "11             365              True                9               10   \n",
       "13             365              True                7               18   \n",
       "14              20              True               27               48   \n",
       "17              14              True               17               38   \n",
       "18             120              True               12               41   \n",
       "\n",
       "    availability_90  availability_365  number_of_reviews first_review_date  \\\n",
       "0                40               130                 78        2010-02-01   \n",
       "1                 0               162                 33        2014-10-10   \n",
       "2                31               270                148        2011-05-01   \n",
       "3                49               300                292               NaT   \n",
       "9                23               296                120        2011-04-06   \n",
       "11               10                10                189               NaT   \n",
       "13               41               224                322        2011-10-11   \n",
       "14               49                61                181        2011-01-07   \n",
       "17               64               229                 13        2011-01-11   \n",
       "18               59               250                 34        2011-08-07   \n",
       "\n",
       "   last_review_date  review_scores_rating  review_scores_accuracy  \\\n",
       "0        2017-05-09                 970.0                   100.0   \n",
       "1               NaT                 920.0                    90.0   \n",
       "2               NaT                 980.0                   100.0   \n",
       "3        2020-04-01                 940.0                   100.0   \n",
       "9               NaT                 920.0                    90.0   \n",
       "11       2016-01-10                 980.0                   100.0   \n",
       "13       2019-01-12                 960.0                   100.0   \n",
       "14       2018-01-11                 970.0                   100.0   \n",
       "17              NaT                 930.0                   100.0   \n",
       "18              NaT                 930.0                   100.0   \n",
       "\n",
       "    review_scores_cleanliness  review_scores_checkin  \\\n",
       "0                       100.0                  100.0   \n",
       "1                        90.0                  100.0   \n",
       "2                       100.0                  100.0   \n",
       "3                        90.0                  100.0   \n",
       "9                        90.0                  100.0   \n",
       "11                      100.0                  100.0   \n",
       "13                      100.0                  100.0   \n",
       "14                      100.0                  100.0   \n",
       "17                      100.0                  100.0   \n",
       "18                      100.0                  100.0   \n",
       "\n",
       "    review_scores_communication  review_scores_location  review_scores_value  \\\n",
       "0                         100.0                   100.0                100.0   \n",
       "1                         100.0                    80.0                 90.0   \n",
       "2                         100.0                   100.0                100.0   \n",
       "3                         100.0                   100.0                 90.0   \n",
       "9                         100.0                    90.0                 90.0   \n",
       "11                        100.0                   100.0                100.0   \n",
       "13                        100.0                   100.0                100.0   \n",
       "14                        100.0                   100.0                100.0   \n",
       "17                         90.0                    90.0                100.0   \n",
       "18                        100.0                   100.0                 90.0   \n",
       "\n",
       "    is_instant_bookable  reviews_per_month country       city insert_date  \n",
       "0                 False               75.0   spain     malaga  2018-07-31  \n",
       "1                 False               52.0   spain     madrid  2020-01-10  \n",
       "2                  True              142.0   spain    sevilla  2019-07-29  \n",
       "3                  True              306.0   spain  barcelona  2020-01-10  \n",
       "9                  True               14.0   spain  barcelona  2018-06-09  \n",
       "11                 True              234.0   spain  barcelona  2017-12-09  \n",
       "13                 True              327.0   spain  barcelona  2019-12-10  \n",
       "14                False              202.0   spain     madrid  2018-11-07  \n",
       "17                False               13.0   spain   valencia  2019-10-31  \n",
       "18                 True               38.0   spain  barcelona  2018-10-10  "
      ]
     },
     "execution_count": 19,
     "metadata": {},
     "output_type": "execute_result"
    }
   ],
   "source": [
    "# Filtar las filas con apartment_id duplicados\n",
    "duplicados_filas = df[df['apartment_id'].duplicated(keep=False)]\n",
    "\n",
    "# Mostrar las filas duplicadas\n",
    "duplicados_filas.head(10)"
   ]
  },
  {
   "cell_type": "markdown",
   "metadata": {},
   "source": [
    "Se decidió borrar solo los duplicados exactos y mantener los parciales (que son duplicados de la columna apartment_id) para que cada perfil decida cómo los tratará en su análisis."
   ]
  },
  {
   "cell_type": "code",
   "execution_count": 20,
   "metadata": {},
   "outputs": [],
   "source": [
    "df = df.drop_duplicates()"
   ]
  },
  {
   "cell_type": "markdown",
   "metadata": {},
   "source": [
    "### Valores nulos"
   ]
  },
  {
   "cell_type": "code",
   "execution_count": 21,
   "metadata": {},
   "outputs": [
    {
     "data": {
      "text/plain": [
       "apartment_id                      0\n",
       "name                              4\n",
       "description                     173\n",
       "host_id                           0\n",
       "neighbourhood_name                0\n",
       "neighbourhood_district         5084\n",
       "room_type                         0\n",
       "accommodates                      0\n",
       "bathrooms                       111\n",
       "bedrooms                         85\n",
       "beds                             60\n",
       "amenities_list                   23\n",
       "price                           327\n",
       "minimum_nights                    0\n",
       "maximum_nights                    0\n",
       "has_availability                  0\n",
       "availability_30                   0\n",
       "availability_60                   0\n",
       "availability_90                   0\n",
       "availability_365                  0\n",
       "number_of_reviews                 0\n",
       "first_review_date              9000\n",
       "last_review_date               9000\n",
       "review_scores_rating           3536\n",
       "review_scores_accuracy         3549\n",
       "review_scores_cleanliness      3540\n",
       "review_scores_checkin          3557\n",
       "review_scores_communication    3544\n",
       "review_scores_location         3557\n",
       "review_scores_value            3558\n",
       "is_instant_bookable               0\n",
       "reviews_per_month              3401\n",
       "country                           0\n",
       "city                              0\n",
       "insert_date                       0\n",
       "dtype: int64"
      ]
     },
     "execution_count": 21,
     "metadata": {},
     "output_type": "execute_result"
    }
   ],
   "source": [
    "df.isnull().sum()"
   ]
  },
  {
   "cell_type": "markdown",
   "metadata": {},
   "source": [
    "#### Eliminación de columnas irrelevantes"
   ]
  },
  {
   "cell_type": "code",
   "execution_count": 22,
   "metadata": {},
   "outputs": [],
   "source": [
    "df = df.drop(columns=['description', 'country'])"
   ]
  },
  {
   "cell_type": "markdown",
   "metadata": {},
   "source": [
    "#### Función de imputación de nulos"
   ]
  },
  {
   "cell_type": "code",
   "execution_count": 23,
   "metadata": {},
   "outputs": [],
   "source": [
    "def imputación_desde_duplicados(df, id_col, date_col):\n",
    "    \"\"\"\n",
    "    Conserva el duplicado más antiguo y completa sus valores faltantes \n",
    "    con los del más reciente SIN eliminar registros.\n",
    "    Devuelve el df con valores actualizados y un resumen de los cambios.\n",
    "    \"\"\"\n",
    "\n",
    "    df = df.copy()  # no modifica el df original\n",
    "    resumen = []\n",
    "\n",
    "    # filtra solo duplicadas por id_col\n",
    "    grupos_duplicados = df[df.duplicated(subset=[id_col], keep=False)]\n",
    "\n",
    "    for value, group in grupos_duplicados.groupby(id_col):\n",
    "        if len(group) > 1:\n",
    "            # ordena (más antiguo primero)\n",
    "            group = group.sort_values(by=date_col, ascending=True)\n",
    "            earliest_index = group.index[0]\n",
    "            latest_index = group.index[1]\n",
    "\n",
    "            # completa valores faltantes en el registro antiguo\n",
    "            actualizacion = {}\n",
    "            for col in df.columns:\n",
    "                if pd.isna(df.at[earliest_index, col]) and not pd.isna(df.at[latest_index, col]):\n",
    "                    df.at[earliest_index, col] = df.at[latest_index, col]\n",
    "                    actualizacion[col] = df.at[latest_index, col]\n",
    "\n",
    "            # si hubo cambios, se guarda en el resumen\n",
    "            if actualizacion:\n",
    "                resumen.append({\n",
    "                    \"ID\": value,\n",
    "                    \"índice del registro antiguo\": earliest_index,\n",
    "                    \"índice del registro reciente\": latest_index,\n",
    "                    \"columnas actualizadas\": actualizacion\n",
    "                })\n",
    "\n",
    "    # convierte el resumen en df\n",
    "    resumen_df = pd.DataFrame(resumen)\n",
    "\n",
    "    return df, resumen_df\n",
    "\n",
    "df, resumen_cambios = imputación_desde_duplicados(df, id_col='apartment_id', date_col='insert_date')"
   ]
  },
  {
   "cell_type": "markdown",
   "metadata": {},
   "source": [
    "#### Reviews_per_month"
   ]
  },
  {
   "cell_type": "code",
   "execution_count": 24,
   "metadata": {},
   "outputs": [
    {
     "data": {
      "text/html": [
       "<div>\n",
       "<style scoped>\n",
       "    .dataframe tbody tr th:only-of-type {\n",
       "        vertical-align: middle;\n",
       "    }\n",
       "\n",
       "    .dataframe tbody tr th {\n",
       "        vertical-align: top;\n",
       "    }\n",
       "\n",
       "    .dataframe thead th {\n",
       "        text-align: right;\n",
       "    }\n",
       "</style>\n",
       "<table border=\"1\" class=\"dataframe\">\n",
       "  <thead>\n",
       "    <tr style=\"text-align: right;\">\n",
       "      <th></th>\n",
       "      <th>reviews_per_month</th>\n",
       "      <th>number_of_reviews</th>\n",
       "    </tr>\n",
       "  </thead>\n",
       "  <tbody>\n",
       "    <tr>\n",
       "      <th>20955</th>\n",
       "      <td>NaN</td>\n",
       "      <td>0</td>\n",
       "    </tr>\n",
       "    <tr>\n",
       "      <th>20960</th>\n",
       "      <td>NaN</td>\n",
       "      <td>0</td>\n",
       "    </tr>\n",
       "    <tr>\n",
       "      <th>20969</th>\n",
       "      <td>NaN</td>\n",
       "      <td>0</td>\n",
       "    </tr>\n",
       "    <tr>\n",
       "      <th>20974</th>\n",
       "      <td>NaN</td>\n",
       "      <td>0</td>\n",
       "    </tr>\n",
       "    <tr>\n",
       "      <th>20976</th>\n",
       "      <td>NaN</td>\n",
       "      <td>0</td>\n",
       "    </tr>\n",
       "    <tr>\n",
       "      <th>20987</th>\n",
       "      <td>NaN</td>\n",
       "      <td>0</td>\n",
       "    </tr>\n",
       "    <tr>\n",
       "      <th>20988</th>\n",
       "      <td>NaN</td>\n",
       "      <td>0</td>\n",
       "    </tr>\n",
       "    <tr>\n",
       "      <th>20989</th>\n",
       "      <td>NaN</td>\n",
       "      <td>0</td>\n",
       "    </tr>\n",
       "    <tr>\n",
       "      <th>20990</th>\n",
       "      <td>NaN</td>\n",
       "      <td>0</td>\n",
       "    </tr>\n",
       "    <tr>\n",
       "      <th>20993</th>\n",
       "      <td>NaN</td>\n",
       "      <td>0</td>\n",
       "    </tr>\n",
       "  </tbody>\n",
       "</table>\n",
       "</div>"
      ],
      "text/plain": [
       "       reviews_per_month  number_of_reviews\n",
       "20955                NaN                  0\n",
       "20960                NaN                  0\n",
       "20969                NaN                  0\n",
       "20974                NaN                  0\n",
       "20976                NaN                  0\n",
       "20987                NaN                  0\n",
       "20988                NaN                  0\n",
       "20989                NaN                  0\n",
       "20990                NaN                  0\n",
       "20993                NaN                  0"
      ]
     },
     "execution_count": 24,
     "metadata": {},
     "output_type": "execute_result"
    }
   ],
   "source": [
    "df_nulos = df[df['reviews_per_month'].isna()]\n",
    "df_nulos[['reviews_per_month','number_of_reviews']].tail(10)"
   ]
  },
  {
   "cell_type": "markdown",
   "metadata": {},
   "source": [
    "Se observa que la mayoría de los valores nulos en reviews_per_month están justificados, ya que corresponden a alojamientos que no han recibido ninguna reseña."
   ]
  },
  {
   "cell_type": "markdown",
   "metadata": {},
   "source": [
    "#### Reviews"
   ]
  },
  {
   "cell_type": "code",
   "execution_count": 25,
   "metadata": {},
   "outputs": [
    {
     "name": "stdout",
     "output_type": "stream",
     "text": [
      "True\n"
     ]
    }
   ],
   "source": [
    "# Averiguar si hay algún valor nulo con reseña\n",
    "print((df_nulos['number_of_reviews'] > 0).any())"
   ]
  },
  {
   "cell_type": "code",
   "execution_count": 26,
   "metadata": {},
   "outputs": [
    {
     "data": {
      "text/html": [
       "<div>\n",
       "<style scoped>\n",
       "    .dataframe tbody tr th:only-of-type {\n",
       "        vertical-align: middle;\n",
       "    }\n",
       "\n",
       "    .dataframe tbody tr th {\n",
       "        vertical-align: top;\n",
       "    }\n",
       "\n",
       "    .dataframe thead th {\n",
       "        text-align: right;\n",
       "    }\n",
       "</style>\n",
       "<table border=\"1\" class=\"dataframe\">\n",
       "  <thead>\n",
       "    <tr style=\"text-align: right;\">\n",
       "      <th></th>\n",
       "      <th>name</th>\n",
       "      <th>number_of_reviews</th>\n",
       "      <th>reviews_per_month</th>\n",
       "    </tr>\n",
       "  </thead>\n",
       "  <tbody>\n",
       "    <tr>\n",
       "      <th>4985</th>\n",
       "      <td>Club Villamar - Gomez</td>\n",
       "      <td>1</td>\n",
       "      <td>NaN</td>\n",
       "    </tr>\n",
       "    <tr>\n",
       "      <th>5213</th>\n",
       "      <td>Single room luminous Sagrada Familia WIFI new ...</td>\n",
       "      <td>1</td>\n",
       "      <td>NaN</td>\n",
       "    </tr>\n",
       "    <tr>\n",
       "      <th>6393</th>\n",
       "      <td>Habitacion para disfrutar un descanso conforta...</td>\n",
       "      <td>1</td>\n",
       "      <td>NaN</td>\n",
       "    </tr>\n",
       "    <tr>\n",
       "      <th>20615</th>\n",
       "      <td>Habitacion para disfrutar un descanso conforta...</td>\n",
       "      <td>1</td>\n",
       "      <td>NaN</td>\n",
       "    </tr>\n",
       "  </tbody>\n",
       "</table>\n",
       "</div>"
      ],
      "text/plain": [
       "                                                    name  number_of_reviews  \\\n",
       "4985                               Club Villamar - Gomez                  1   \n",
       "5213   Single room luminous Sagrada Familia WIFI new ...                  1   \n",
       "6393   Habitacion para disfrutar un descanso conforta...                  1   \n",
       "20615  Habitacion para disfrutar un descanso conforta...                  1   \n",
       "\n",
       "       reviews_per_month  \n",
       "4985                 NaN  \n",
       "5213                 NaN  \n",
       "6393                 NaN  \n",
       "20615                NaN  "
      ]
     },
     "execution_count": 26,
     "metadata": {},
     "output_type": "execute_result"
    }
   ],
   "source": [
    "# Crear tabla de aquellos nulos con reseñas\n",
    "df_nulos_filtrados = df_nulos[df_nulos['number_of_reviews'] > 0]\n",
    "df_nulos_filtrados[['name', 'number_of_reviews', 'reviews_per_month']]"
   ]
  },
  {
   "cell_type": "markdown",
   "metadata": {},
   "source": [
    "Existen 3 alojamientos que tienen 1 review, pero presentan valores nulos en reviews_per_month."
   ]
  },
  {
   "cell_type": "code",
   "execution_count": 27,
   "metadata": {},
   "outputs": [
    {
     "name": "stdout",
     "output_type": "stream",
     "text": [
      "Filas con nulos en TODAS las columnas: 3449\n",
      "Filas con nulos en ALGUNAS columnas, pero no en todas: 7661\n"
     ]
    }
   ],
   "source": [
    "# Analisis del resto de columnas de reviews\n",
    "\n",
    "# Seleccionar solo las columnas de interés\n",
    "cols_reviews = [\n",
    "    'first_review_date', 'last_review_date', 'review_scores_rating',\n",
    "    'review_scores_accuracy', 'review_scores_cleanliness', 'review_scores_checkin',\n",
    "    'review_scores_communication', 'review_scores_location', 'review_scores_value'\n",
    "]\n",
    "\n",
    "# Filtrar filas donde TODAS las columnas están nulas\n",
    "df_todas_nulas = df[df[cols_reviews].isnull().all(axis=1)]\n",
    "\n",
    "# Filtrar filas donde ALGUNA columna está nula, pero no todas\n",
    "df_parcialmente_nulas = df[df[cols_reviews].isnull().any(axis=1) & ~df[cols_reviews].isnull().all(axis=1)]\n",
    "\n",
    "# Mostrar el número de filas en cada caso\n",
    "print(f\"Filas con nulos en TODAS las columnas: {len(df_todas_nulas)}\")\n",
    "print(f\"Filas con nulos en ALGUNAS columnas, pero no en todas: {len(df_parcialmente_nulas)}\")"
   ]
  },
  {
   "cell_type": "code",
   "execution_count": 28,
   "metadata": {},
   "outputs": [
    {
     "name": "stdout",
     "output_type": "stream",
     "text": [
      "¿Todas las filas con valores nulos en 'cols_reviews' tienen 'number_of_reviews' igual a 0?: False\n"
     ]
    }
   ],
   "source": [
    "# Verificar si todas las filas en df_todas_nulas tienen number_of_reviews == 0\n",
    "todas_nulas_son_cero = (df_todas_nulas['number_of_reviews'] == 0).all()\n",
    "\n",
    "print(f\"¿Todas las filas con valores nulos en 'cols_reviews' tienen 'number_of_reviews' igual a 0?: {todas_nulas_son_cero}\")"
   ]
  },
  {
   "cell_type": "markdown",
   "metadata": {},
   "source": [
    "#### Neighbourhood_district"
   ]
  },
  {
   "cell_type": "code",
   "execution_count": 29,
   "metadata": {},
   "outputs": [],
   "source": [
    "# Imputación de valores nulos en 'neighbourhood_district' utilizando la moda de 'neighbourhood_name' filtrando por 'city'.\n",
    "\n",
    "df['neighbourhood_district'] = df.groupby(['city', 'neighbourhood_name'])['neighbourhood_district'].transform(\n",
    "    lambda x: x.fillna(x.mode()[0] if not x.mode().empty else \"Desconocido\")\n",
    ")"
   ]
  },
  {
   "cell_type": "markdown",
   "metadata": {},
   "source": [
    "#### Características numéricas del alojamiento\n",
    "Se sustituyen los nulos por 1, bajo el entendido de que en todos los alojamientos por defecto hay 1 cama, 1 baño y aloja a al menos a 1 persona."
   ]
  },
  {
   "cell_type": "code",
   "execution_count": 30,
   "metadata": {},
   "outputs": [],
   "source": [
    "df[['beds', 'bathrooms', 'bedrooms']] = df[['accommodates', 'bathrooms', 'bedrooms']].fillna(1)"
   ]
  },
  {
   "cell_type": "markdown",
   "metadata": {},
   "source": [
    "#### Precio"
   ]
  },
  {
   "cell_type": "code",
   "execution_count": 31,
   "metadata": {},
   "outputs": [],
   "source": [
    "# Reemplazar los nulos en 'price' con la mediana del 'price' según 'room_type'\n",
    "df['price'] = df.groupby('room_type')['price'].transform(lambda x: x.fillna(x.median()))"
   ]
  },
  {
   "cell_type": "markdown",
   "metadata": {},
   "source": [
    "#### Columnas de texto"
   ]
  },
  {
   "cell_type": "code",
   "execution_count": 32,
   "metadata": {},
   "outputs": [
    {
     "name": "stderr",
     "output_type": "stream",
     "text": [
      "C:\\Users\\Evelyn\\AppData\\Local\\Temp\\ipykernel_9860\\1815731930.py:1: FutureWarning: A value is trying to be set on a copy of a DataFrame or Series through chained assignment using an inplace method.\n",
      "The behavior will change in pandas 3.0. This inplace method will never work because the intermediate object on which we are setting values always behaves as a copy.\n",
      "\n",
      "For example, when doing 'df[col].method(value, inplace=True)', try using 'df.method({col: value}, inplace=True)' or df[col] = df[col].method(value) instead, to perform the operation inplace on the original object.\n",
      "\n",
      "\n",
      "  df[\"name\"].fillna(\"Desconocido\", inplace=True)\n"
     ]
    }
   ],
   "source": [
    "df[\"name\"].fillna(\"Desconocido\", inplace=True)\n",
    "df['amenities_list'] = df['amenities_list'].fillna(\"Sin información\")"
   ]
  },
  {
   "cell_type": "markdown",
   "metadata": {},
   "source": [
    "#### Verificación"
   ]
  },
  {
   "cell_type": "code",
   "execution_count": 33,
   "metadata": {},
   "outputs": [
    {
     "data": {
      "text/plain": [
       "apartment_id                      0\n",
       "name                              0\n",
       "host_id                           0\n",
       "neighbourhood_name                0\n",
       "neighbourhood_district            0\n",
       "room_type                         0\n",
       "accommodates                      0\n",
       "bathrooms                         0\n",
       "bedrooms                          0\n",
       "beds                              0\n",
       "amenities_list                    0\n",
       "price                             0\n",
       "minimum_nights                    0\n",
       "maximum_nights                    0\n",
       "has_availability                  0\n",
       "availability_30                   0\n",
       "availability_60                   0\n",
       "availability_90                   0\n",
       "availability_365                  0\n",
       "number_of_reviews                 0\n",
       "first_review_date              8986\n",
       "last_review_date               8957\n",
       "review_scores_rating           3512\n",
       "review_scores_accuracy         3525\n",
       "review_scores_cleanliness      3516\n",
       "review_scores_checkin          3533\n",
       "review_scores_communication    3520\n",
       "review_scores_location         3533\n",
       "review_scores_value            3534\n",
       "is_instant_bookable               0\n",
       "reviews_per_month              3376\n",
       "city                              0\n",
       "insert_date                       0\n",
       "dtype: int64"
      ]
     },
     "execution_count": 33,
     "metadata": {},
     "output_type": "execute_result"
    }
   ],
   "source": [
    "df.isnull().sum()"
   ]
  },
  {
   "cell_type": "markdown",
   "metadata": {},
   "source": [
    "El df resultante tiene únicamente nulos en las variables relativas a las reseñas, lo cual es esperable, ya que no todos los avisos tendrán reseñas."
   ]
  },
  {
   "cell_type": "markdown",
   "metadata": {},
   "source": [
    "# Análisis de la variable precio"
   ]
  },
  {
   "cell_type": "markdown",
   "metadata": {},
   "source": [
    "### Histograma con KDE: Para ver la distribución general de los precios.\n",
    "### Boxplot: Para visualizar la dispersión y los posibles outliers."
   ]
  },
  {
   "cell_type": "code",
   "execution_count": 34,
   "metadata": {},
   "outputs": [
    {
     "data": {
      "image/png": "[encoded data removed]",
      "text/plain": [
       "<Figure size 1200x600 with 1 Axes>"
      ]
     },
     "metadata": {},
     "output_type": "display_data"
    },
    {
     "data": {
      "image/png": "[encoded data removed]",
      "text/plain": [
       "<Figure size 1200x600 with 1 Axes>"
      ]
     },
     "metadata": {},
     "output_type": "display_data"
    }
   ],
   "source": [
    "# Histograma con KDE para ver la distribución de precios\n",
    "plt.figure(figsize=(12, 6))\n",
    "sns.histplot(df[\"price\"], bins=50, kde=True)\n",
    "plt.title(\"Distribución de Precios\")\n",
    "plt.xlabel(\"Precio\")\n",
    "plt.ylabel(\"Frecuencia\")\n",
    "plt.show()\n",
    "\n",
    "# Boxplot para ver outliers y dispersión\n",
    "plt.figure(figsize=(12, 6))\n",
    "sns.boxplot(x=df[\"price\"])\n",
    "plt.title(\"Boxplot de Precios\")\n",
    "plt.xlabel(\"Precio\")\n",
    "plt.show()"
   ]
  },
  {
   "cell_type": "code",
   "execution_count": 35,
   "metadata": {},
   "outputs": [
    {
     "data": {
      "text/plain": [
       "count    13000.000000\n",
       "mean      1009.666000\n",
       "std        930.179685\n",
       "min         60.000000\n",
       "25%        450.000000\n",
       "50%        750.000000\n",
       "75%       1200.000000\n",
       "max      28571.000000\n",
       "Name: price, dtype: float64"
      ]
     },
     "execution_count": 35,
     "metadata": {},
     "output_type": "execute_result"
    }
   ],
   "source": [
    "df[\"price\"].describe()\n"
   ]
  },
  {
   "cell_type": "markdown",
   "metadata": {},
   "source": [
    "Intervalos fijos"
   ]
  },
  {
   "cell_type": "code",
   "execution_count": 36,
   "metadata": {},
   "outputs": [
    {
     "data": {
      "text/plain": [
       "(31.488, 2911.1]      12389\n",
       "(2911.1, 5762.2]        606\n",
       "(5762.2, 8613.3]          2\n",
       "(8613.3, 11464.4]         0\n",
       "(11464.4, 14315.5]        0\n",
       "(14315.5, 17166.6]        0\n",
       "(17166.6, 20017.7]        0\n",
       "(20017.7, 22868.8]        0\n",
       "(22868.8, 25719.9]        1\n",
       "(25719.9, 28571.0]        2\n",
       "Name: count, dtype: int64"
      ]
     },
     "execution_count": 36,
     "metadata": {},
     "output_type": "execute_result"
    }
   ],
   "source": [
    "df[\"price\"].value_counts(bins=10).sort_index()\n"
   ]
  },
  {
   "cell_type": "markdown",
   "metadata": {},
   "source": [
    "Análisis de la distribución\n",
    "Concentración en precios bajos:\n",
    "\n",
    "El 75% de los precios está por debajo de 1200.\n",
    "La media está en 1017, pero la mediana es 750, lo que confirma una asimetría positiva (cola a la derecha).\n",
    "Hay valores extremos muy altos (máximo de 28,571).\n",
    "El 95% de los datos (9,505 de 10,000) están en el primer intervalo (31.5 - 2911.1), lo que significa que la mayoría de los valores están en el rango bajo."
   ]
  },
  {
   "cell_type": "markdown",
   "metadata": {},
   "source": [
    "## Cómo armar categorías correctamente (enfoque experto)\n",
    "\n",
    "Cuando definimos categorías para una variable numérica como el precio, debemos considerar los cuatro criterios clave (exclusividad, exhaustividad, relevancia y equilibrio) y aplicar un enfoque estructurado.\n",
    "\n",
    "1️⃣ Analizar la distribución de los datos\n",
    "Antes de categorizar, debemos entender cómo están distribuidos los precios. Como mencionaste antes, los datos están concentrados en precios bajos y tienen una cola larga hacia precios altos, lo que indica que la distribución es sesgada a la derecha.\n",
    "\n",
    "2️⃣ Elegir un método de categorización\n",
    "Hay varios métodos para definir categorías:\n",
    "\n",
    "✅ Cuartiles: Divide en partes iguales según la cantidad de datos.\n",
    "\n",
    "✅ Intervalos fijos: Usa cortes predefinidos (ej. \"0-1000\", \"1001-5000\").\n",
    "\n",
    "✅ Logaritmo / percentiles ajustados: Separa mejor los valores extremos.\n",
    "\n",
    "Dado que los precios altos son muy raros, los cuartiles ayudaron bastante, pero no son suficientes. Para mejorar aún más, usaremos percentiles ajustados, asegurando que haya suficientes datos en cada grupo.\n",
    "\n",
    "3️⃣ Definir cortes basados en percentiles\n",
    "En lugar de usar cuartiles simples, vamos a revisar los percentiles más altos para mejorar la distribución. Usaremos:\n",
    "📌 P20 (20% de los datos más baratos)\n",
    "📌 P40, P60, P80 (segmentación equilibrada)\n",
    "📌 P99 (para capturar valores muy altos sin que haya categorías con casi cero datos)"
   ]
  },
  {
   "cell_type": "code",
   "execution_count": 37,
   "metadata": {},
   "outputs": [
    {
     "name": "stdout",
     "output_type": "stream",
     "text": [
      "price_category\n",
      "Económico    2876\n",
      "Medio        2622\n",
      "Alto         2571\n",
      "Premium      2470\n",
      "Accesible    2330\n",
      "Exclusivo     130\n",
      "Name: count, dtype: int64\n"
     ]
    }
   ],
   "source": [
    "import numpy as np\n",
    "\n",
    "# Calculamos los percentiles clave\n",
    "percentiles = np.percentile(df[\"price\"], [20, 40, 60, 80, 99])\n",
    "bins = [df[\"price\"].min()] + list(percentiles) + [df[\"price\"].max()]\n",
    "\n",
    "# Definimos etiquetas\n",
    "labels = [\"Económico\", \"Accesible\", \"Medio\", \"Alto\", \"Premium\", \"Exclusivo\"]\n",
    "\n",
    "# Aplicamos la categorización\n",
    "df[\"price_category\"] = pd.cut(df[\"price\"], bins=bins, labels=labels, right=True)\n",
    "\n",
    "# Revisamos la nueva distribución\n",
    "print(df[\"price_category\"].value_counts())\n"
   ]
  },
  {
   "cell_type": "markdown",
   "metadata": {},
   "source": [
    "Explicación criterio utilizado\n",
    "\n",
    "1️⃣ ¿Por qué usamos percentiles y no valores fijos?\n",
    "→ Porque los datos no están distribuidos uniformemente, y así logramos que cada categoría tenga una cantidad razonable de datos.\n",
    "\n",
    "2️⃣ ¿Por qué incluimos el percentil 99 en lugar de solo el 100?\n",
    "→ Para evitar que la última categoría tenga casi ningún dato, ya que el máximo suele ser un outlier extremo.\n",
    "\n",
    "3️⃣ ¿Qué mejora logramos con este método?\n",
    "\n",
    "✅ Equilibrio: Cada categoría tendrá un número más parejo de datos.\n",
    "\n",
    "✅ Relevancia: Evitamos categorías inútiles con muy pocos registros.\n",
    "\n",
    "✅ Exclusividad y exhaustividad: Cada dato cae en una sola categoría sin quedar fuera."
   ]
  },
  {
   "cell_type": "markdown",
   "metadata": {},
   "source": [
    "Agregar la categoría al df original"
   ]
  },
  {
   "cell_type": "code",
   "execution_count": 38,
   "metadata": {},
   "outputs": [],
   "source": [
    "df[\"price_category\"] = pd.cut(df[\"price\"], bins=bins, labels=labels, right=True)\n"
   ]
  },
  {
   "cell_type": "code",
   "execution_count": 39,
   "metadata": {},
   "outputs": [
    {
     "name": "stderr",
     "output_type": "stream",
     "text": [
      "C:\\Users\\Evelyn\\AppData\\Local\\Temp\\ipykernel_9860\\3865989673.py:1: FutureWarning: The default of observed=False is deprecated and will be changed to True in a future version of pandas. Pass observed=False to retain current behavior or observed=True to adopt the future default and silence this warning.\n",
      "  df.groupby(\"price_category\")[\"price\"].describe()\n"
     ]
    },
    {
     "data": {
      "text/html": [
       "<div>\n",
       "<style scoped>\n",
       "    .dataframe tbody tr th:only-of-type {\n",
       "        vertical-align: middle;\n",
       "    }\n",
       "\n",
       "    .dataframe tbody tr th {\n",
       "        vertical-align: top;\n",
       "    }\n",
       "\n",
       "    .dataframe thead th {\n",
       "        text-align: right;\n",
       "    }\n",
       "</style>\n",
       "<table border=\"1\" class=\"dataframe\">\n",
       "  <thead>\n",
       "    <tr style=\"text-align: right;\">\n",
       "      <th></th>\n",
       "      <th>count</th>\n",
       "      <th>mean</th>\n",
       "      <th>std</th>\n",
       "      <th>min</th>\n",
       "      <th>25%</th>\n",
       "      <th>50%</th>\n",
       "      <th>75%</th>\n",
       "      <th>max</th>\n",
       "    </tr>\n",
       "    <tr>\n",
       "      <th>price_category</th>\n",
       "      <th></th>\n",
       "      <th></th>\n",
       "      <th></th>\n",
       "      <th></th>\n",
       "      <th></th>\n",
       "      <th></th>\n",
       "      <th></th>\n",
       "      <th></th>\n",
       "    </tr>\n",
       "  </thead>\n",
       "  <tbody>\n",
       "    <tr>\n",
       "      <th>Económico</th>\n",
       "      <td>2876.0</td>\n",
       "      <td>285.855355</td>\n",
       "      <td>81.146557</td>\n",
       "      <td>80.0</td>\n",
       "      <td>230.0</td>\n",
       "      <td>300.0</td>\n",
       "      <td>350.0</td>\n",
       "      <td>400.0</td>\n",
       "    </tr>\n",
       "    <tr>\n",
       "      <th>Accesible</th>\n",
       "      <td>2330.0</td>\n",
       "      <td>522.884120</td>\n",
       "      <td>60.484727</td>\n",
       "      <td>410.0</td>\n",
       "      <td>480.0</td>\n",
       "      <td>510.0</td>\n",
       "      <td>590.0</td>\n",
       "      <td>620.0</td>\n",
       "    </tr>\n",
       "    <tr>\n",
       "      <th>Medio</th>\n",
       "      <td>2622.0</td>\n",
       "      <td>766.678108</td>\n",
       "      <td>84.732598</td>\n",
       "      <td>630.0</td>\n",
       "      <td>700.0</td>\n",
       "      <td>750.0</td>\n",
       "      <td>840.0</td>\n",
       "      <td>920.0</td>\n",
       "    </tr>\n",
       "    <tr>\n",
       "      <th>Alto</th>\n",
       "      <td>2571.0</td>\n",
       "      <td>1110.046674</td>\n",
       "      <td>143.037361</td>\n",
       "      <td>930.0</td>\n",
       "      <td>990.0</td>\n",
       "      <td>1090.0</td>\n",
       "      <td>1200.0</td>\n",
       "      <td>1410.0</td>\n",
       "    </tr>\n",
       "    <tr>\n",
       "      <th>Premium</th>\n",
       "      <td>2470.0</td>\n",
       "      <td>2234.759919</td>\n",
       "      <td>727.813146</td>\n",
       "      <td>1420.0</td>\n",
       "      <td>1650.0</td>\n",
       "      <td>2000.0</td>\n",
       "      <td>2600.0</td>\n",
       "      <td>4420.0</td>\n",
       "    </tr>\n",
       "    <tr>\n",
       "      <th>Exclusivo</th>\n",
       "      <td>130.0</td>\n",
       "      <td>5393.392308</td>\n",
       "      <td>3288.070107</td>\n",
       "      <td>4450.0</td>\n",
       "      <td>4750.0</td>\n",
       "      <td>5000.0</td>\n",
       "      <td>5000.0</td>\n",
       "      <td>28571.0</td>\n",
       "    </tr>\n",
       "  </tbody>\n",
       "</table>\n",
       "</div>"
      ],
      "text/plain": [
       "                 count         mean          std     min     25%     50%  \\\n",
       "price_category                                                             \n",
       "Económico       2876.0   285.855355    81.146557    80.0   230.0   300.0   \n",
       "Accesible       2330.0   522.884120    60.484727   410.0   480.0   510.0   \n",
       "Medio           2622.0   766.678108    84.732598   630.0   700.0   750.0   \n",
       "Alto            2571.0  1110.046674   143.037361   930.0   990.0  1090.0   \n",
       "Premium         2470.0  2234.759919   727.813146  1420.0  1650.0  2000.0   \n",
       "Exclusivo        130.0  5393.392308  3288.070107  4450.0  4750.0  5000.0   \n",
       "\n",
       "                   75%      max  \n",
       "price_category                   \n",
       "Económico        350.0    400.0  \n",
       "Accesible        590.0    620.0  \n",
       "Medio            840.0    920.0  \n",
       "Alto            1200.0   1410.0  \n",
       "Premium         2600.0   4420.0  \n",
       "Exclusivo       5000.0  28571.0  "
      ]
     },
     "execution_count": 39,
     "metadata": {},
     "output_type": "execute_result"
    }
   ],
   "source": [
    "df.groupby(\"price_category\")[\"price\"].describe()\n"
   ]
  },
  {
   "cell_type": "markdown",
   "metadata": {},
   "source": [
    "## Transformación de Datos (Data Transformation)"
   ]
  },
  {
   "cell_type": "markdown",
   "metadata": {},
   "source": [
    "## Reducción de Datos (Data Reduction)"
   ]
  },
  {
   "cell_type": "markdown",
   "metadata": {},
   "source": [
    "## Exportación del dataset limpio"
   ]
  },
  {
   "cell_type": "code",
   "execution_count": 40,
   "metadata": {},
   "outputs": [
    {
     "name": "stdout",
     "output_type": "stream",
     "text": [
      "Total de registros del dataset: 21000\n",
      "Total de duplicados exactos: 0\n",
      "El número de apartment_id duplicados es: 8350\n"
     ]
    }
   ],
   "source": [
    "print(f'Total de registros del dataset: {registros_totales}')\n",
    "print(f'Total de duplicados exactos: {df.duplicated().sum()}')\n",
    "print(f\"El número de apartment_id duplicados es: {duplicados}\")"
   ]
  },
  {
   "cell_type": "code",
   "execution_count": null,
   "metadata": {},
   "outputs": [],
   "source": [
    "df.to_csv(\"../Data/tourist_accommodation_clean.csv\", index=False)"
   ]
  }
 ],
 "metadata": {
  "kernelspec": {
   "display_name": "Python 3",
   "language": "python",
   "name": "python3"
  },
  "language_info": {
   "codemirror_mode": {
    "name": "ipython",
    "version": 3
   },
   "file_extension": ".py",
   "mimetype": "text/x-python",
   "name": "python",
   "nbconvert_exporter": "python",
   "pygments_lexer": "ipython3",
   "version": "3.13.1"
  }
 },
 "nbformat": 4,
 "nbformat_minor": 2
}
