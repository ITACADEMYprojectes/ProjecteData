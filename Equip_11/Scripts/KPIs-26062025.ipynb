{
 "cells": [
  {
   "cell_type": "code",
   "execution_count": null,
   "id": "9faac5fa",
   "metadata": {},
   "outputs": [],
   "source": [
    "import numpy as np                  \n",
    "import pandas as pd                \n",
    "import matplotlib.pyplot as plt    \n",
    "import seaborn as sns"
   ]
  },
  {
   "cell_type": "code",
   "execution_count": null,
   "id": "6f82ab1f",
   "metadata": {},
   "outputs": [],
   "source": [
    "import os\n",
    "print(os.getcwd())"
   ]
  },
  {
   "cell_type": "code",
   "execution_count": null,
   "id": "ed88e792",
   "metadata": {},
   "outputs": [],
   "source": [
    "BASE_DIR = os.getcwd()\n",
    "\n",
    "csv_path = os.path.join(BASE_DIR, '..', 'Data', 'RRHH - 26062025.csv') # -- cambiar solo la fecha del fichero \n",
    "\n",
    "df_RRHH = pd.read_csv(csv_path)\n",
    "\n",
    "df_RRHH"
   ]
  },
  {
   "cell_type": "markdown",
   "id": "95a439a8",
   "metadata": {},
   "source": [
    "# Tasa mensual de absentismo per capita (en horas)\n",
    "\n",
    "Tasa = (Suma de horas de absentismo del mes) / (Número de empleados activos en el mes)"
   ]
  },
  {
   "cell_type": "code",
   "execution_count": null,
   "id": "0ce0947a",
   "metadata": {},
   "outputs": [],
   "source": [
    "# Diccionario de nombres de meses\n",
    "meses = {\n",
    "    1: 'enero', 2: 'febrero', 3: 'marzo', 4: 'abril',\n",
    "    5: 'mayo', 6: 'junio', 7: 'julio', 8: 'agosto',\n",
    "    9: 'septiembre', 10: 'octubre', 11: 'noviembre', 12: 'diciembre'\n",
    "}\n",
    "\n",
    "df_RRHH = df_RRHH[df_RRHH['Month_absence'].between(1, 12)]\n",
    "\n",
    "# Agrupar por número de mes\n",
    "absentismo_kpi = df_RRHH.groupby('Month_absence').agg({\n",
    "    'Absenteeism_hours': 'sum',\n",
    "    'ID': pd.Series.nunique\n",
    "}).rename(columns={'ID': 'Empleados_activos'})\n",
    "\n",
    "# Añadir columna con nombre del mes\n",
    "absentismo_kpi['Mes_nombre'] = absentismo_kpi.index.map(meses)\n",
    "\n",
    "# Calcular tasa\n",
    "absentismo_kpi['Tasa_per_capita'] = absentismo_kpi['Absenteeism_hours'] / absentismo_kpi['Empleados_activos']\n",
    "\n",
    "# Reordenar por mes (opcional)\n",
    "absentismo_kpi = absentismo_kpi.sort_index()\n",
    "\n",
    "absentismo_kpi"
   ]
  },
  {
   "cell_type": "markdown",
   "id": "760e3df0",
   "metadata": {},
   "source": [
    "\n",
    "# Orden cronológico\n",
    "absentismo_kpi = absentismo_kpi.sort_index()\n",
    "\n",
    "# Datos para el gráfico\n",
    "x = absentismo_kpi['Mes_nombre']\n",
    "y = absentismo_kpi['Tasa_per_capita']\n",
    "\n",
    "# Crear gráfico\n",
    "plt.figure(figsize=(10, 6))\n",
    "bars = plt.bar(x, y, color='skyblue')\n",
    "\n",
    "# Etiquetas de valores encima de cada barra\n",
    "for bar in bars:\n",
    "    height = bar.get_height()\n",
    "    plt.text(\n",
    "        bar.get_x() + bar.get_width() / 2,\n",
    "        height + 0.1,\n",
    "        f\"{round(height, 1)}\",  # redondear a 1 decimal\n",
    "        ha='center',\n",
    "        va='bottom',\n",
    "        fontsize=9\n",
    "    )\n",
    "\n",
    "# Estética\n",
    "\n",
    "plt.xlabel('Mes')\n",
    "plt.ylabel('Horas de absentismo por empleado')\n",
    "plt.xticks(rotation=45)\n",
    "plt.grid(axis='y', linestyle='--', alpha=0.7)\n",
    "plt.tight_layout()\n",
    "plt.show()"
   ]
  },
  {
   "cell_type": "markdown",
   "id": "619c7965",
   "metadata": {},
   "source": [
    "# Mes pico de carga por ausencia\n",
    "\n",
    "Mes pico de carga por ausencias=arg mes max (∑(Horas de absentismo))"
   ]
  },
  {
   "cell_type": "code",
   "execution_count": null,
   "id": "6b619935",
   "metadata": {},
   "outputs": [],
   "source": [
    "# Diccionario de nombres de meses\n",
    "nombres_meses = ['Enero','Febrero','Marzo','Abril','Mayo','Junio','Julio','Agosto','Septiembre','Octubre','Noviembre','Diciembre']"
   ]
  },
  {
   "cell_type": "code",
   "execution_count": null,
   "id": "f6419111",
   "metadata": {},
   "outputs": [],
   "source": [
    "mes_pico = absentismo_kpi['Absenteeism_hours'].idxmax()\n",
    "peak_hours = absentismo_kpi['Absenteeism_hours'].max()\n",
    "mes_pico_nombre = nombres_meses[int(mes_pico)-1] if 1 <= int(mes_pico) <= 12 else str(mes_pico)\n",
    "print(f\"Mes pico de carga por ausencias: {mes_pico_nombre} con {peak_hours} horas\")"
   ]
  },
  {
   "cell_type": "markdown",
   "id": "3d141743",
   "metadata": {},
   "source": [
    "# Motivo modal de absentismo laboral\n",
    "\n",
    "Motivo modal de absentismo=arg razon max(Frecuencia de cada motivo de ausencia)"
   ]
  },
  {
   "cell_type": "code",
   "execution_count": null,
   "id": "762d0787",
   "metadata": {},
   "outputs": [],
   "source": [
    "motivo_ausencia = {\n",
    "    0: 'Sin ausencia',\n",
    "    1: 'I Enfermedades infecciosas y parasitarias',\n",
    "    2: 'II Neoplasias',\n",
    "    3: 'III Enfermedades de la sangre y del sistema inmunológico',\n",
    "    4: 'IV Enfermedades endocrinas, nutricionales y metabólicas',\n",
    "    5: 'V Trastornos mentales y del comportamiento',\n",
    "    6: 'VI Enfermedades del sistema nervioso',\n",
    "    7: 'VII Enfermedades del ojo y anexos',\n",
    "    8: 'VIII Enfermedades del oído y apófisis mastoides',\n",
    "    9: 'IX Enfermedades del sistema circulatorio',\n",
    "    10: 'X Enfermedades del sistema respiratorio',\n",
    "    11: 'XI Enfermedades del sistema digestivo',\n",
    "    12: 'XII Enfermedades de la piel y del tejido subcutáneo',\n",
    "    13: 'XIII Enfermedades del sistema osteomuscular y del tejido conjuntivo',\n",
    "    14: 'XIV Enfermedades del sistema genitourinario',\n",
    "    15: 'XV Embarazo, parto y puerperio',\n",
    "    16: 'XVI Ciertas afecciones originadas en el período perinatal',\n",
    "    17: 'XVII Malformaciones congénitas, deformidades y anomalías cromosómicas',\n",
    "    18: 'XVIII Síntomas, signos y hallazgos clínicos o de laboratorio anormales, no clasificados en otra parte',\n",
    "    19: 'XIX Lesiones, envenenamientos y otras consecuencias de causas externas',\n",
    "    20: 'XX Causas externas de morbilidad y mortalidad',\n",
    "    21: 'XXI Factores que influyen en el estado de salud y contacto con los servicios de salud',\n",
    "    22: 'Seguimiento de paciente (sin CID)',\n",
    "    23: 'Consulta médica (sin CID)',\n",
    "    24: 'Donación de sangre (sin CID)',\n",
    "    25: 'Examen de laboratorio (sin CID)',\n",
    "    26: 'Ausencia injustificada (sin CID)',\n",
    "    27: 'Fisioterapia (sin CID)',\n",
    "    28: 'Consulta odontológica (sin CID)'\n",
    "}\n"
   ]
  },
  {
   "cell_type": "code",
   "execution_count": null,
   "id": "d90a6049",
   "metadata": {},
   "outputs": [],
   "source": [
    "# Mapear descripciones\n",
    "df_RRHH['Motivo_descripcion'] = df_RRHH['Reason_absence'].astype(int).map(motivo_ausencia)\n",
    "\n",
    "# Filtrar ausencias válidas\n",
    "valid_absences = df_RRHH[df_RRHH['Reason_absence'] != 0]\n",
    "\n",
    "# Obtener motivo modal y su frecuencia\n",
    "modal = valid_absences['Motivo_descripcion'].value_counts().idxmax()\n",
    "modal_count = valid_absences['Motivo_descripcion'].value_counts().max()\n",
    "total_absences = valid_absences.shape[0]\n",
    "\n",
    "# Calcular porcentaje\n",
    "modal_pct = modal_count / total_absences * 100\n",
    "\n",
    "# Mostrar resultado\n",
    "print(f\"Motivo modal de absentismo: {modal} ({modal_pct:.1f}%)\")"
   ]
  },
  {
   "cell_type": "markdown",
   "id": "212cd3c9",
   "metadata": {},
   "source": [
    "# Índice de eficiencia relativa por carga laboral\n",
    "\n",
    "Indice de eficiencia= ∑(Work load Average/day) / ∑(Hit target)\n",
    "​"
   ]
  },
  {
   "cell_type": "code",
   "execution_count": null,
   "id": "3610327b",
   "metadata": {},
   "outputs": [],
   "source": [
    "# Convertir columnas si es necesario\n",
    "df_RRHH['Work_load_Average_day'] = (\n",
    "    df_RRHH['Work_load_Average_day']\n",
    "    .astype(str)\n",
    "    .str.replace(',', '.', regex=False)\n",
    "    .astype(float)\n",
    ")"
   ]
  },
  {
   "cell_type": "code",
   "execution_count": null,
   "id": "0421d9b3",
   "metadata": {},
   "outputs": [],
   "source": [
    "numerador = df_RRHH['Hit_target'].sum()\n",
    "denominador = df_RRHH['Work_load_Average_day'].sum()\n",
    "\n",
    "indice_eficiencia = numerador / denominador\n",
    "\n",
    "print(f\"Índice de eficiencia: {indice_eficiencia:.2%}\")"
   ]
  }
 ],
 "metadata": {
  "kernelspec": {
   "display_name": "Python 3",
   "language": "python",
   "name": "python3"
  },
  "language_info": {
   "name": "python",
   "version": "3.13.4"
  }
 },
 "nbformat": 4,
 "nbformat_minor": 5
}
