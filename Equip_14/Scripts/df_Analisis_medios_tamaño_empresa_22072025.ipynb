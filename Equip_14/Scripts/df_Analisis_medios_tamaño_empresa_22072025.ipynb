{
 "cells": [
  {
   "cell_type": "code",
   "execution_count": 1,
   "id": "d57f5232",
   "metadata": {},
   "outputs": [],
   "source": [
    "import pandas as pd\n",
    "import numpy as np\n",
    "import matplotlib.pyplot as plt\n",
    "import seaborn as sns"
   ]
  },
  {
   "cell_type": "code",
   "execution_count": 2,
   "id": "7c8bd30e",
   "metadata": {},
   "outputs": [],
   "source": [
    "# Configurar pandas para mostrar todas las columnas\n",
    "pd.set_option('display.max_columns', None)\n",
    "pd.set_option('display.width', None)\n"
   ]
  },
  {
   "cell_type": "code",
   "execution_count": 3,
   "id": "7bfb9e57",
   "metadata": {},
   "outputs": [],
   "source": [
    "# Cargar los datos\n",
    "df = pd.read_csv(r\"C:\\it_academy\\ProjecteData - Materiales\\Sprint04\\dfs_medios\\df_medios_tamaño_empresa_23.csv\")\n"
   ]
  },
  {
   "cell_type": "code",
   "execution_count": 4,
   "id": "c893bcd7",
   "metadata": {},
   "outputs": [
    {
     "name": "stdout",
     "output_type": "stream",
     "text": [
      "=== INFORMACIÓN BÁSICA DEL DATASET ===\n",
      "Dimensiones: (5, 11)\n",
      "Columnas: ['anio', 'tamaño', 'total_%', 'Numero_empresas', 'dan_formacion_%', 'Cursos de formación  diseñados y gestionados por su empresa ', 'Cursos de formación diseñados y gestionados por otra organización ', 'Formación planificada en el puesto de trabajo, utilizando los medios habituales de trabajo', 'Aprendizaje planificado a partir de rotación de puestos de trabajo, intercambios, etc.', 'Participación en conferencias, seminarios, grupos de trabajo, talleres o ferias de muestras', 'no_dan_formacion_%']\n",
      "\n",
      "=== PRIMERAS FILAS ===\n",
      "   anio                     tamaño  total_%  Numero_empresas  dan_formacion_%  \\\n",
      "0  2023      De 5 a 9 trabajadores    100.0           176041             64.7   \n",
      "1  2023    De 10 a 49 trabajadores    100.0           144840             79.0   \n",
      "2  2023   De 50 a 249 trabajadores    100.0            21700             94.1   \n",
      "3  2023  De 250 a 499 trabajadores    100.0             2491             98.3   \n",
      "4  2023    Más de 499 trabajadores    100.0             1972             99.3   \n",
      "\n",
      "   Cursos de formación  diseñados y gestionados por su empresa   \\\n",
      "0                                               17.8              \n",
      "1                                               26.3              \n",
      "2                                               54.7              \n",
      "3                                               75.8              \n",
      "4                                               85.2              \n",
      "\n",
      "   Cursos de formación diseñados y gestionados por otra organización   \\\n",
      "0                                               43.0                    \n",
      "1                                               59.2                    \n",
      "2                                               80.2                    \n",
      "3                                               83.2                    \n",
      "4                                               84.4                    \n",
      "\n",
      "   Formación planificada en el puesto de trabajo, utilizando los medios habituales de trabajo  \\\n",
      "0                                               35.3                                            \n",
      "1                                               47.2                                            \n",
      "2                                               65.0                                            \n",
      "3                                               75.6                                            \n",
      "4                                               81.7                                            \n",
      "\n",
      "   Aprendizaje planificado a partir de rotación de puestos de trabajo, intercambios, etc.  \\\n",
      "0                                               17.0                                        \n",
      "1                                               19.8                                        \n",
      "2                                               34.4                                        \n",
      "3                                               41.3                                        \n",
      "4                                               50.5                                        \n",
      "\n",
      "   Participación en conferencias, seminarios, grupos de trabajo, talleres o ferias de muestras  \\\n",
      "0                                               20.2                                             \n",
      "1                                               25.8                                             \n",
      "2                                               48.0                                             \n",
      "3                                               59.9                                             \n",
      "4                                               65.5                                             \n",
      "\n",
      "   no_dan_formacion_%  \n",
      "0                35.3  \n",
      "1                21.0  \n",
      "2                 5.9  \n",
      "3                 1.7  \n",
      "4                 0.7  \n",
      "\n",
      "=== INFORMACIÓN DE TIPOS DE DATOS ===\n",
      "<class 'pandas.core.frame.DataFrame'>\n",
      "RangeIndex: 5 entries, 0 to 4\n",
      "Data columns (total 11 columns):\n",
      " #   Column                                                                                       Non-Null Count  Dtype  \n",
      "---  ------                                                                                       --------------  -----  \n",
      " 0   anio                                                                                         5 non-null      int64  \n",
      " 1   tamaño                                                                                       5 non-null      object \n",
      " 2   total_%                                                                                      5 non-null      float64\n",
      " 3   Numero_empresas                                                                              5 non-null      int64  \n",
      " 4   dan_formacion_%                                                                              5 non-null      float64\n",
      " 5   Cursos de formación  diseñados y gestionados por su empresa                                  5 non-null      float64\n",
      " 6   Cursos de formación diseñados y gestionados por otra organización                            5 non-null      float64\n",
      " 7   Formación planificada en el puesto de trabajo, utilizando los medios habituales de trabajo   5 non-null      float64\n",
      " 8   Aprendizaje planificado a partir de rotación de puestos de trabajo, intercambios, etc.       5 non-null      float64\n",
      " 9   Participación en conferencias, seminarios, grupos de trabajo, talleres o ferias de muestras  5 non-null      float64\n",
      " 10  no_dan_formacion_%                                                                           5 non-null      float64\n",
      "dtypes: float64(8), int64(2), object(1)\n",
      "memory usage: 572.0+ bytes\n",
      "None\n",
      "\n",
      "=== ESTADÍSTICAS DESCRIPTIVAS ===\n",
      "         anio  total_%  Numero_empresas  dan_formacion_%  \\\n",
      "count     5.0      5.0         5.000000         5.000000   \n",
      "mean   2023.0    100.0     69408.800000        87.080000   \n",
      "std       0.0      0.0     84205.307966        14.921863   \n",
      "min    2023.0    100.0      1972.000000        64.700000   \n",
      "25%    2023.0    100.0      2491.000000        79.000000   \n",
      "50%    2023.0    100.0     21700.000000        94.100000   \n",
      "75%    2023.0    100.0    144840.000000        98.300000   \n",
      "max    2023.0    100.0    176041.000000        99.300000   \n",
      "\n",
      "       Cursos de formación  diseñados y gestionados por su empresa   \\\n",
      "count                                           5.000000              \n",
      "mean                                           51.960000              \n",
      "std                                            29.606131              \n",
      "min                                            17.800000              \n",
      "25%                                            26.300000              \n",
      "50%                                            54.700000              \n",
      "75%                                            75.800000              \n",
      "max                                            85.200000              \n",
      "\n",
      "       Cursos de formación diseñados y gestionados por otra organización   \\\n",
      "count                                           5.000000                    \n",
      "mean                                           70.000000                    \n",
      "std                                            18.243355                    \n",
      "min                                            43.000000                    \n",
      "25%                                            59.200000                    \n",
      "50%                                            80.200000                    \n",
      "75%                                            83.200000                    \n",
      "max                                            84.400000                    \n",
      "\n",
      "       Formación planificada en el puesto de trabajo, utilizando los medios habituales de trabajo  \\\n",
      "count                                            5.00000                                            \n",
      "mean                                            60.96000                                            \n",
      "std                                             19.42017                                            \n",
      "min                                             35.30000                                            \n",
      "25%                                             47.20000                                            \n",
      "50%                                             65.00000                                            \n",
      "75%                                             75.60000                                            \n",
      "max                                             81.70000                                            \n",
      "\n",
      "       Aprendizaje planificado a partir de rotación de puestos de trabajo, intercambios, etc.  \\\n",
      "count                                           5.000000                                        \n",
      "mean                                           32.600000                                        \n",
      "std                                            14.199824                                        \n",
      "min                                            17.000000                                        \n",
      "25%                                            19.800000                                        \n",
      "50%                                            34.400000                                        \n",
      "75%                                            41.300000                                        \n",
      "max                                            50.500000                                        \n",
      "\n",
      "       Participación en conferencias, seminarios, grupos de trabajo, talleres o ferias de muestras  \\\n",
      "count                                            5.00000                                             \n",
      "mean                                            43.88000                                             \n",
      "std                                             20.17838                                             \n",
      "min                                             20.20000                                             \n",
      "25%                                             25.80000                                             \n",
      "50%                                             48.00000                                             \n",
      "75%                                             59.90000                                             \n",
      "max                                             65.50000                                             \n",
      "\n",
      "       no_dan_formacion_%  \n",
      "count            5.000000  \n",
      "mean            12.920000  \n",
      "std             14.921863  \n",
      "min              0.700000  \n",
      "25%              1.700000  \n",
      "50%              5.900000  \n",
      "75%             21.000000  \n",
      "max             35.300000  \n",
      "\n"
     ]
    }
   ],
   "source": [
    "print(\"=== INFORMACIÓN BÁSICA DEL DATASET ===\")\n",
    "print(f\"Dimensiones: {df.shape}\")\n",
    "print(f\"Columnas: {df.columns.tolist()}\")\n",
    "print()\n",
    "\n",
    "print(\"=== PRIMERAS FILAS ===\")\n",
    "print(df.head())\n",
    "print()\n",
    "\n",
    "print(\"=== INFORMACIÓN DE TIPOS DE DATOS ===\")\n",
    "print(df.info())\n",
    "print()\n",
    "\n",
    "print(\"=== ESTADÍSTICAS DESCRIPTIVAS ===\")\n",
    "print(df.describe())\n",
    "print()\n"
   ]
  },
  {
   "cell_type": "code",
   "execution_count": 5,
   "id": "616b5cb6",
   "metadata": {},
   "outputs": [
    {
     "name": "stdout",
     "output_type": "stream",
     "text": [
      "=== VALORES ÚNICOS POR COLUMNA ===\n",
      "anio: 1 valores únicos\n",
      "  Valores: [2023]\n",
      "tamaño: 5 valores únicos\n",
      "  Valores: ['De 5 a 9 trabajadores' 'De 10 a 49 trabajadores'\n",
      " 'De 50 a 249 trabajadores' 'De 250 a 499 trabajadores'\n",
      " 'Más de 499 trabajadores']\n",
      "total_%: 1 valores únicos\n",
      "  Valores: [100.]\n",
      "Numero_empresas: 5 valores únicos\n",
      "  Valores: [176041 144840  21700   2491   1972]\n",
      "dan_formacion_%: 5 valores únicos\n",
      "  Valores: [64.7 79.  94.1 98.3 99.3]\n",
      "Cursos de formación  diseñados y gestionados por su empresa : 5 valores únicos\n",
      "  Valores: [17.8 26.3 54.7 75.8 85.2]\n",
      "Cursos de formación diseñados y gestionados por otra organización : 5 valores únicos\n",
      "  Valores: [43.  59.2 80.2 83.2 84.4]\n",
      "Formación planificada en el puesto de trabajo, utilizando los medios habituales de trabajo: 5 valores únicos\n",
      "  Valores: [35.3 47.2 65.  75.6 81.7]\n",
      "Aprendizaje planificado a partir de rotación de puestos de trabajo, intercambios, etc.: 5 valores únicos\n",
      "  Valores: [17.  19.8 34.4 41.3 50.5]\n",
      "Participación en conferencias, seminarios, grupos de trabajo, talleres o ferias de muestras: 5 valores únicos\n",
      "  Valores: [20.2 25.8 48.  59.9 65.5]\n",
      "no_dan_formacion_%: 5 valores únicos\n",
      "  Valores: [35.3 21.   5.9  1.7  0.7]\n",
      "\n"
     ]
    }
   ],
   "source": [
    "print(\"=== VALORES ÚNICOS POR COLUMNA ===\")\n",
    "for col in df.columns:\n",
    "    print(f\"{col}: {df[col].nunique()} valores únicos\")\n",
    "    if df[col].nunique() < 10:\n",
    "        print(f\"  Valores: {df[col].unique()}\")\n",
    "print()"
   ]
  },
  {
   "cell_type": "code",
   "execution_count": 6,
   "id": "958ed943",
   "metadata": {},
   "outputs": [
    {
     "name": "stdout",
     "output_type": "stream",
     "text": [
      "=== VERIFICAR VALORES NULOS ===\n",
      "anio                                                                                           0\n",
      "tamaño                                                                                         0\n",
      "total_%                                                                                        0\n",
      "Numero_empresas                                                                                0\n",
      "dan_formacion_%                                                                                0\n",
      "Cursos de formación  diseñados y gestionados por su empresa                                    0\n",
      "Cursos de formación diseñados y gestionados por otra organización                              0\n",
      "Formación planificada en el puesto de trabajo, utilizando los medios habituales de trabajo     0\n",
      "Aprendizaje planificado a partir de rotación de puestos de trabajo, intercambios, etc.         0\n",
      "Participación en conferencias, seminarios, grupos de trabajo, talleres o ferias de muestras    0\n",
      "no_dan_formacion_%                                                                             0\n",
      "dtype: int64\n",
      "\n"
     ]
    }
   ],
   "source": [
    "print(\"=== VERIFICAR VALORES NULOS ===\")\n",
    "print(df.isnull().sum())\n",
    "print()"
   ]
  },
  {
   "cell_type": "code",
   "execution_count": 7,
   "id": "dde98b47",
   "metadata": {},
   "outputs": [
    {
     "name": "stdout",
     "output_type": "stream",
     "text": [
      "=== TAMAÑOS DE EMPRESA DISPONIBLES ===\n",
      "['De 5 a 9 trabajadores' 'De 10 a 49 trabajadores'\n",
      " 'De 50 a 249 trabajadores' 'De 250 a 499 trabajadores'\n",
      " 'Más de 499 trabajadores']\n",
      "\n"
     ]
    }
   ],
   "source": [
    "print(\"=== TAMAÑOS DE EMPRESA DISPONIBLES ===\")\n",
    "print(df['tamaño'].unique())\n",
    "print()\n"
   ]
  },
  {
   "cell_type": "code",
   "execution_count": null,
   "id": "f71d14c5",
   "metadata": {},
   "outputs": [
    {
     "name": "stdout",
     "output_type": "stream",
     "text": [
      "=== DATASET CON COLUMNAS RENOMBRADAS ===\n",
      "   anio                     tamaño  total_%  Numero_empresas  dan_formacion_%  \\\n",
      "0  2023      De 5 a 9 trabajadores    100.0           176041             64.7   \n",
      "1  2023    De 10 a 49 trabajadores    100.0           144840             79.0   \n",
      "2  2023   De 50 a 249 trabajadores    100.0            21700             94.1   \n",
      "3  2023  De 250 a 499 trabajadores    100.0             2491             98.3   \n",
      "4  2023    Más de 499 trabajadores    100.0             1972             99.3   \n",
      "\n",
      "   Formación_interna  Formación_externa  Formación_puesto  \\\n",
      "0               17.8               43.0              35.3   \n",
      "1               26.3               59.2              47.2   \n",
      "2               54.7               80.2              65.0   \n",
      "3               75.8               83.2              75.6   \n",
      "4               85.2               84.4              81.7   \n",
      "\n",
      "   Rotación_intercambios  Conferencias_seminarios  no_dan_formacion_%  \n",
      "0                   17.0                     20.2                35.3  \n",
      "1                   19.8                     25.8                21.0  \n",
      "2                   34.4                     48.0                 5.9  \n",
      "3                   41.3                     59.9                 1.7  \n",
      "4                   50.5                     65.5                 0.7  \n",
      "\n"
     ]
    }
   ],
   "source": [
    "# Renombrar columnas para hacerlas más legibles\n",
    "df_clean = df.copy()\n",
    "\n",
    "# Diccionario para renombrar columnas\n",
    "column_mapping = {\n",
    "    'Cursos de formación  diseñados y gestionados por su empresa ': 'Formación_interna',\n",
    "    'Cursos de formación diseñados y gestionados por otra organización ': 'Formación_externa',\n",
    "    'Formación planificada en el puesto de trabajo, utilizando los medios habituales de trabajo': 'Formación_puesto',\n",
    "    'Aprendizaje planificado a partir de rotación de puestos de trabajo, intercambios, etc.': 'Rotación_intercambios',\n",
    "    'Participación en conferencias, seminarios, grupos de trabajo, talleres o ferias de muestras': 'Conferencias_seminarios'\n",
    "}\n",
    "\n",
    "df_clean = df_clean.rename(columns=column_mapping)\n",
    "\n",
    "print(\"=== DATASET CON COLUMNAS RENOMBRADAS ===\")\n",
    "print(df_clean.head())\n",
    "print()\n"
   ]
  },
  {
   "cell_type": "code",
   "execution_count": 22,
   "id": "c7409867",
   "metadata": {},
   "outputs": [
    {
     "name": "stdout",
     "output_type": "stream",
     "text": [
      "\n",
      "=== CÁLCULO DE EMPRESAS QUE DAN FORMACIÓN ===\n"
     ]
    },
    {
     "data": {
      "application/vnd.microsoft.datawrangler.viewer.v0+json": {
       "columns": [
        {
         "name": "index",
         "rawType": "int64",
         "type": "integer"
        },
        {
         "name": "tamaño",
         "rawType": "object",
         "type": "string"
        },
        {
         "name": "empresas_dan_formacion",
         "rawType": "int64",
         "type": "integer"
        },
        {
         "name": "dan_formacion_%",
         "rawType": "float64",
         "type": "float"
        }
       ],
       "ref": "ed3e53c0-8237-4886-a44e-8e39302da6e1",
       "rows": [
        [
         "0",
         "De 5 a 9 trabajadores",
         "113899",
         "64.7"
        ],
        [
         "1",
         "De 10 a 49 trabajadores",
         "114424",
         "79.0"
        ],
        [
         "2",
         "De 50 a 249 trabajadores",
         "20420",
         "94.1"
        ],
        [
         "3",
         "De 250 a 499 trabajadores",
         "2449",
         "98.3"
        ],
        [
         "4",
         "Más de 499 trabajadores",
         "1958",
         "99.3"
        ]
       ],
       "shape": {
        "columns": 3,
        "rows": 5
       }
      },
      "text/html": [
       "<div>\n",
       "<style scoped>\n",
       "    .dataframe tbody tr th:only-of-type {\n",
       "        vertical-align: middle;\n",
       "    }\n",
       "\n",
       "    .dataframe tbody tr th {\n",
       "        vertical-align: top;\n",
       "    }\n",
       "\n",
       "    .dataframe thead th {\n",
       "        text-align: right;\n",
       "    }\n",
       "</style>\n",
       "<table border=\"1\" class=\"dataframe\">\n",
       "  <thead>\n",
       "    <tr style=\"text-align: right;\">\n",
       "      <th></th>\n",
       "      <th>tamaño</th>\n",
       "      <th>empresas_dan_formacion</th>\n",
       "      <th>dan_formacion_%</th>\n",
       "    </tr>\n",
       "  </thead>\n",
       "  <tbody>\n",
       "    <tr>\n",
       "      <th>0</th>\n",
       "      <td>De 5 a 9 trabajadores</td>\n",
       "      <td>113899</td>\n",
       "      <td>64.7</td>\n",
       "    </tr>\n",
       "    <tr>\n",
       "      <th>1</th>\n",
       "      <td>De 10 a 49 trabajadores</td>\n",
       "      <td>114424</td>\n",
       "      <td>79.0</td>\n",
       "    </tr>\n",
       "    <tr>\n",
       "      <th>2</th>\n",
       "      <td>De 50 a 249 trabajadores</td>\n",
       "      <td>20420</td>\n",
       "      <td>94.1</td>\n",
       "    </tr>\n",
       "    <tr>\n",
       "      <th>3</th>\n",
       "      <td>De 250 a 499 trabajadores</td>\n",
       "      <td>2449</td>\n",
       "      <td>98.3</td>\n",
       "    </tr>\n",
       "    <tr>\n",
       "      <th>4</th>\n",
       "      <td>Más de 499 trabajadores</td>\n",
       "      <td>1958</td>\n",
       "      <td>99.3</td>\n",
       "    </tr>\n",
       "  </tbody>\n",
       "</table>\n",
       "</div>"
      ],
      "text/plain": [
       "                      tamaño  empresas_dan_formacion  dan_formacion_%\n",
       "0      De 5 a 9 trabajadores                  113899             64.7\n",
       "1    De 10 a 49 trabajadores                  114424             79.0\n",
       "2   De 50 a 249 trabajadores                   20420             94.1\n",
       "3  De 250 a 499 trabajadores                    2449             98.3\n",
       "4    Más de 499 trabajadores                    1958             99.3"
      ]
     },
     "execution_count": 22,
     "metadata": {},
     "output_type": "execute_result"
    }
   ],
   "source": [
    "# Calcular número de empresas que dan formación\n",
    "print(\"\\n=== CÁLCULO DE EMPRESAS QUE DAN FORMACIÓN ===\")\n",
    "\n",
    "# Crear columna con número de empresas que dan formación por actividad económica\n",
    "df_clean['empresas_dan_formacion'] = (df_clean['Numero_empresas'] * df_clean['dan_formacion_%'] / 100).round().astype(int)\n",
    "\n",
    "df_clean[['tamaño','empresas_dan_formacion','dan_formacion_%']]\n"
   ]
  },
  {
   "cell_type": "code",
   "execution_count": 27,
   "id": "87244b19",
   "metadata": {},
   "outputs": [
    {
     "name": "stdout",
     "output_type": "stream",
     "text": [
      "\n",
      "=== ANÁLISIS EMPRESAS DE 50 - 499 TRABAJADORES ===\n",
      "Empresas de 50 - 499 trabajadores:\n",
      "   anio                     tamaño  total_%  Numero_empresas  dan_formacion_%  \\\n",
      "2  2023   De 50 a 249 trabajadores    100.0            21700             94.1   \n",
      "3  2023  De 250 a 499 trabajadores    100.0             2491             98.3   \n",
      "\n",
      "   Formación_interna  Formación_externa  Formación_puesto  \\\n",
      "2               54.7               80.2              65.0   \n",
      "3               75.8               83.2              75.6   \n",
      "\n",
      "   Rotación_intercambios  Conferencias_seminarios  no_dan_formacion_%  \\\n",
      "2                   34.4                     48.0                 5.9   \n",
      "3                   41.3                     59.9                 1.7   \n",
      "\n",
      "   empresas_dan_formacion  \n",
      "2                   20420  \n",
      "3                    2449  \n"
     ]
    }
   ],
   "source": [
    "# ANÁLISIS EMPRESAS DE 50 - 499 TRABAJADORES\n",
    "print(\"\\n=== ANÁLISIS EMPRESAS DE 50 - 499 TRABAJADORES ===\")\n",
    "\n",
    "# Filtrar empresas de 50 - 499 trabajadores)\n",
    "empresas_MG = df_clean[df_clean['tamaño'].str.contains('50|250')]\n",
    "print(\"Empresas de 50 - 499 trabajadores:\")\n",
    "print(empresas_MG)\n"
   ]
  },
  {
   "cell_type": "code",
   "execution_count": 12,
   "id": "96837741",
   "metadata": {},
   "outputs": [],
   "source": [
    "# Crear dataset combinado para empresas de 50 - 499 trabajadores\n",
    "empresas_MG = df_clean[df_clean['tamaño'].str.contains('50|250')].copy()"
   ]
  },
  {
   "cell_type": "code",
   "execution_count": 25,
   "id": "fb3fdbc7",
   "metadata": {},
   "outputs": [],
   "source": [
    "# Tipos de formación \n",
    "tipos_formacion = ['Formación_interna','Formación_externa','Formación_puesto', \n",
    "                   'Rotación_intercambios', 'Conferencias_seminarios']\n"
   ]
  },
  {
   "cell_type": "code",
   "execution_count": 28,
   "id": "97c93743",
   "metadata": {},
   "outputs": [
    {
     "name": "stdout",
     "output_type": "stream",
     "text": [
      "\n",
      "=== CÁLCULO DE PROMEDIOS PONDERADOS ===\n",
      "\n",
      "Formación_interna:\n",
      "  Total empresas que usan este tipo: 13,026\n",
      "  Porcentaje ponderado: 57.0%\n",
      "\n",
      "Formación_externa:\n",
      "  Total empresas que usan este tipo: 18,415\n",
      "  Porcentaje ponderado: 80.5%\n",
      "\n",
      "Formación_puesto:\n",
      "  Total empresas que usan este tipo: 15,124\n",
      "  Porcentaje ponderado: 66.1%\n",
      "\n",
      "Rotación_intercambios:\n",
      "  Total empresas que usan este tipo: 8,035\n",
      "  Porcentaje ponderado: 35.1%\n",
      "\n",
      "Conferencias_seminarios:\n",
      "  Total empresas que usan este tipo: 11,269\n",
      "  Porcentaje ponderado: 49.3%\n"
     ]
    },
    {
     "name": "stderr",
     "output_type": "stream",
     "text": [
      "C:\\Users\\eniom\\AppData\\Local\\Temp\\ipykernel_27400\\2768245254.py:9: SettingWithCopyWarning: \n",
      "A value is trying to be set on a copy of a slice from a DataFrame.\n",
      "Try using .loc[row_indexer,col_indexer] = value instead\n",
      "\n",
      "See the caveats in the documentation: https://pandas.pydata.org/pandas-docs/stable/user_guide/indexing.html#returning-a-view-versus-a-copy\n",
      "  empresas_MG[f'empresas_{col}'] = (empresas_MG[col] * empresas_MG['empresas_dan_formacion'] / 100).round().astype(int)\n",
      "C:\\Users\\eniom\\AppData\\Local\\Temp\\ipykernel_27400\\2768245254.py:9: SettingWithCopyWarning: \n",
      "A value is trying to be set on a copy of a slice from a DataFrame.\n",
      "Try using .loc[row_indexer,col_indexer] = value instead\n",
      "\n",
      "See the caveats in the documentation: https://pandas.pydata.org/pandas-docs/stable/user_guide/indexing.html#returning-a-view-versus-a-copy\n",
      "  empresas_MG[f'empresas_{col}'] = (empresas_MG[col] * empresas_MG['empresas_dan_formacion'] / 100).round().astype(int)\n",
      "C:\\Users\\eniom\\AppData\\Local\\Temp\\ipykernel_27400\\2768245254.py:9: SettingWithCopyWarning: \n",
      "A value is trying to be set on a copy of a slice from a DataFrame.\n",
      "Try using .loc[row_indexer,col_indexer] = value instead\n",
      "\n",
      "See the caveats in the documentation: https://pandas.pydata.org/pandas-docs/stable/user_guide/indexing.html#returning-a-view-versus-a-copy\n",
      "  empresas_MG[f'empresas_{col}'] = (empresas_MG[col] * empresas_MG['empresas_dan_formacion'] / 100).round().astype(int)\n",
      "C:\\Users\\eniom\\AppData\\Local\\Temp\\ipykernel_27400\\2768245254.py:9: SettingWithCopyWarning: \n",
      "A value is trying to be set on a copy of a slice from a DataFrame.\n",
      "Try using .loc[row_indexer,col_indexer] = value instead\n",
      "\n",
      "See the caveats in the documentation: https://pandas.pydata.org/pandas-docs/stable/user_guide/indexing.html#returning-a-view-versus-a-copy\n",
      "  empresas_MG[f'empresas_{col}'] = (empresas_MG[col] * empresas_MG['empresas_dan_formacion'] / 100).round().astype(int)\n",
      "C:\\Users\\eniom\\AppData\\Local\\Temp\\ipykernel_27400\\2768245254.py:9: SettingWithCopyWarning: \n",
      "A value is trying to be set on a copy of a slice from a DataFrame.\n",
      "Try using .loc[row_indexer,col_indexer] = value instead\n",
      "\n",
      "See the caveats in the documentation: https://pandas.pydata.org/pandas-docs/stable/user_guide/indexing.html#returning-a-view-versus-a-copy\n",
      "  empresas_MG[f'empresas_{col}'] = (empresas_MG[col] * empresas_MG['empresas_dan_formacion'] / 100).round().astype(int)\n"
     ]
    }
   ],
   "source": [
    "# Calcular número de empresas para cada tipo de formación y promedios ponderados\n",
    "print(f\"\\n=== CÁLCULO DE PROMEDIOS PONDERADOS ===\")\n",
    "total_empresas = empresas_MG['empresas_dan_formacion'].sum()\n",
    "resultados_formacion = {}\n",
    "\n",
    "for col in tipos_formacion:\n",
    "    # Para cada tipo de formación:\n",
    "    # Calcular número de empresas que usan este tipo = (% del tipo * empresas que dan formación) / 100\n",
    "    empresas_MG[f'empresas_{col}'] = (empresas_MG[col] * empresas_MG['empresas_dan_formacion'] / 100).round().astype(int)\n",
    "    \n",
    "    # Sumar total de empresas que usan este tipo\n",
    "    total_empresas_tipo = empresas_MG[f'empresas_{col}'].sum()\n",
    "    \n",
    "    # Calcular porcentaje ponderado = (total empresas tipo / total empresas que dan formación) * 100\n",
    "    porcentaje_ponderado = (total_empresas_tipo / total_empresas) * 100\n",
    "    \n",
    "    resultados_formacion[col] = porcentaje_ponderado\n",
    "    \n",
    "    print(f\"\\n{col}:\")\n",
    "    print(f\"  Total empresas que usan este tipo: {total_empresas_tipo:,}\")\n",
    "    print(f\"  Porcentaje ponderado: {porcentaje_ponderado:.1f}%\")"
   ]
  },
  {
   "cell_type": "code",
   "execution_count": 31,
   "id": "b7175063",
   "metadata": {},
   "outputs": [
    {
     "name": "stdout",
     "output_type": "stream",
     "text": [
      "\n",
      "Total empresas de 50 - 499 trabajadores que dan formación : 22,869\n",
      "\n",
      "RANKING DE TIPOS DE FORMACIÓN EN EMPRESAS DE 50 a 499 TRABAJADORES:\n",
      "--------------------------------------------------------------------------------\n",
      "1. Formación_externa        : 80.5%\n",
      "2. Formación_puesto         : 66.1%\n",
      "3. Formación_interna        : 57.0%\n",
      "4. Conferencias_seminarios  : 49.3%\n",
      "5. Rotación_intercambios    : 35.1%\n"
     ]
    }
   ],
   "source": [
    "# Ordenar resultados de mayor a menor\n",
    "resultados_ordenados = dict(sorted(resultados_formacion.items(), key=lambda x: x[1], reverse=True))\n",
    "\n",
    "print(f\"\\nTotal empresas de 50 - 499 trabajadores que dan formación : {total_empresas:,}\")\n",
    "print(\"\\nRANKING DE TIPOS DE FORMACIÓN EN EMPRESAS DE 50 a 499 TRABAJADORES:\")\n",
    "print(\"-\" * 80)\n",
    "for i, (tipo, porcentaje) in enumerate(resultados_ordenados.items(), 1):\n",
    "    print(f\"{i}. {tipo:<25}: {porcentaje:.1f}%\")"
   ]
  },
  {
   "cell_type": "code",
   "execution_count": 32,
   "id": "111fe922",
   "metadata": {},
   "outputs": [
    {
     "name": "stdout",
     "output_type": "stream",
     "text": [
      "\n",
      "=== ANÁLISIS POR TAMAÑO DE 50 A 499 TRABAJADORES ===\n",
      "                      tamaño  Numero_empresas  empresas_dan_formacion  \\\n",
      "2   De 50 a 249 trabajadores            21700                   20420   \n",
      "3  De 250 a 499 trabajadores             2491                    2449   \n",
      "\n",
      "   Formación_interna  Formación_externa  Formación_puesto  \\\n",
      "2               54.7               80.2              65.0   \n",
      "3               75.8               83.2              75.6   \n",
      "\n",
      "   Rotación_intercambios  Conferencias_seminarios  \n",
      "2                   34.4                     48.0  \n",
      "3                   41.3                     59.9  \n"
     ]
    }
   ],
   "source": [
    "# Detallado para empresas de 50 A 499 trabajadores\n",
    "print(\"\\n=== ANÁLISIS POR TAMAÑO DE 50 A 499 TRABAJADORES ===\")\n",
    "df_detalle = empresas_MG[['tamaño', 'Numero_empresas', 'empresas_dan_formacion'] + tipos_formacion].copy()\n",
    "\n",
    "print(df_detalle)"
   ]
  },
  {
   "cell_type": "code",
   "execution_count": 33,
   "id": "85e77a9d",
   "metadata": {},
   "outputs": [
    {
     "data": {
      "text/plain": [
       "([0, 1, 2, 3, 4],\n",
       " [Text(0, 0, 'Formación_externa'),\n",
       "  Text(1, 0, 'Formación_puesto'),\n",
       "  Text(2, 0, 'Formación_interna'),\n",
       "  Text(3, 0, 'Conferencias_seminarios'),\n",
       "  Text(4, 0, 'Rotación_intercambios')])"
      ]
     },
     "execution_count": 33,
     "metadata": {},
     "output_type": "execute_result"
    },
    {
     "data": {
      "image/png": "[encoded data removed]",
      "text/plain": [
       "<Figure size 1200x800 with 1 Axes>"
      ]
     },
     "metadata": {},
     "output_type": "display_data"
    }
   ],
   "source": [
    "# Crear visualización\n",
    "\n",
    "df_graph = pd.DataFrame(list(resultados_ordenados.items()), \n",
    "                      columns=['Tipo_Formacion', 'Porcentaje'])\n",
    "\n",
    "plt.figure(figsize=(12, 8))\n",
    "plt.subplot(2, 1, 1)\n",
    "ax = sns.barplot(data=df_graph, x='Tipo_Formacion', y='Porcentaje', \n",
    "                 palette='viridis', hue='Tipo_Formacion', legend=False)\n",
    "\n",
    "plt.title('Tipos de Formación más frecuentes en empresas de 50 a 499 trabajadores\\n(% ponderado)', \n",
    "          fontsize=14, fontweight='bold')\n",
    "plt.ylabel('Porcentaje de empresas (%)')\n",
    "plt.xticks(rotation=0, ha='center')"
   ]
  },
  {
   "cell_type": "code",
   "execution_count": 18,
   "id": "090bfb2e",
   "metadata": {},
   "outputs": [
    {
     "name": "stdout",
     "output_type": "stream",
     "text": [
      "            Tipo_Formacion  Porcentaje\n",
      "0        Formación_externa   80.523853\n",
      "1         Formación_puesto   66.133193\n",
      "2        Formación_interna   56.959202\n",
      "3  Conferencias_seminarios   49.276313\n",
      "4    Rotación_intercambios   35.134899\n"
     ]
    }
   ],
   "source": [
    "print(df_graph)"
   ]
  },
  {
   "cell_type": "code",
   "execution_count": 34,
   "id": "f9c3f230",
   "metadata": {},
   "outputs": [
    {
     "data": {
      "image/png": "[encoded data removed]",
      "text/plain": [
       "<Figure size 1000x800 with 2 Axes>"
      ]
     },
     "metadata": {},
     "output_type": "display_data"
    }
   ],
   "source": [
    "# Comparación todos los tamaños - heatmap\n",
    "plt.figure(figsize = (10,8))\n",
    "heatmap_data = df_clean[tipos_formacion + ['tamaño']].set_index('tamaño')\n",
    "sns.heatmap(heatmap_data.T, annot=True, fmt='.1f', cmap='YlOrRd')\n",
    "plt.title(\"Matriz de correlación Tamaño y Tipo de Formación\")\n",
    "plt.show()\n"
   ]
  }
 ],
 "metadata": {
  "kernelspec": {
   "display_name": "Python 3",
   "language": "python",
   "name": "python3"
  },
  "language_info": {
   "codemirror_mode": {
    "name": "ipython",
    "version": 3
   },
   "file_extension": ".py",
   "mimetype": "text/x-python",
   "name": "python",
   "nbconvert_exporter": "python",
   "pygments_lexer": "ipython3",
   "version": "3.13.0"
  }
 },
 "nbformat": 4,
 "nbformat_minor": 5
}
