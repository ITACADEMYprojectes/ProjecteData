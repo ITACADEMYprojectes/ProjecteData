{
 "cells": [
  {
   "cell_type": "code",
   "execution_count": 21,
   "id": "3bd654bd",
   "metadata": {},
   "outputs": [],
   "source": [
    "import pandas as pd\n",
    "import numpy as np\n",
    "import matplotlib.pyplot as plt\n",
    "import seaborn as sns"
   ]
  },
  {
   "cell_type": "code",
   "execution_count": 22,
   "id": "441aea43",
   "metadata": {},
   "outputs": [
    {
     "name": "stdout",
     "output_type": "stream",
     "text": [
      "=== EXPLORACIÓN INICIAL DE LOS DATOS ===\n",
      "Dimensiones del dataset: (9, 11)\n",
      "\n",
      "Primeras filas:\n",
      "   anio                 actividad_economica  total_%  Numero_empresas  \\\n",
      "0  2023                           Industria    100.0            53139   \n",
      "1  2023                        Construcción    100.0            44603   \n",
      "2  2023  Comercio y reparación de vehículos    100.0            81250   \n",
      "3  2023         Transporte y almacenamiento    100.0            19688   \n",
      "4  2023                          Hostelería    100.0            62597   \n",
      "\n",
      "   dan_formacion_%  \\\n",
      "0             78.4   \n",
      "1             79.3   \n",
      "2             70.7   \n",
      "3             79.5   \n",
      "4             58.4   \n",
      "\n",
      "   Cursos de formación  diseñados y gestionados por su empresa   \\\n",
      "0                                               27.7              \n",
      "1                                               20.3              \n",
      "2                                               24.3              \n",
      "3                                               23.8              \n",
      "4                                               13.7              \n",
      "\n",
      "   Cursos de formación diseñados y gestionados por otra organización   \\\n",
      "0                                               56.7                    \n",
      "1                                               62.3                    \n",
      "2                                               51.4                    \n",
      "3                                               62.4                    \n",
      "4                                               37.2                    \n",
      "\n",
      "   Formación planificada en el puesto de trabajo, utilizando los medios habituales de trabajo  \\\n",
      "0                                               48.3                                            \n",
      "1                                               50.2                                            \n",
      "2                                               41.4                                            \n",
      "3                                               42.2                                            \n",
      "4                                               34.0                                            \n",
      "\n",
      "   Aprendizaje planificado a partir de rotación de puestos de trabajo, intercambios, etc.  \\\n",
      "0                                               26.0                                        \n",
      "1                                               18.2                                        \n",
      "2                                               20.4                                        \n",
      "3                                               16.0                                        \n",
      "4                                               14.5                                        \n",
      "\n",
      "   Participación en conferencias, seminarios, grupos de trabajo, talleres o ferias de muestras  \\\n",
      "0                                               24.0                                             \n",
      "1                                               17.4                                             \n",
      "2                                               28.3                                             \n",
      "3                                               13.8                                             \n",
      "4                                               10.2                                             \n",
      "\n",
      "   no_dan_formacion_%  \n",
      "0                21.6  \n",
      "1                20.7  \n",
      "2                29.3  \n",
      "3                20.5  \n",
      "4                41.6  \n",
      "\n",
      "Columnas disponibles:\n",
      "['anio', 'actividad_economica', 'total_%', 'Numero_empresas', 'dan_formacion_%', 'Cursos de formación  diseñados y gestionados por su empresa ', 'Cursos de formación diseñados y gestionados por otra organización ', 'Formación planificada en el puesto de trabajo, utilizando los medios habituales de trabajo', 'Aprendizaje planificado a partir de rotación de puestos de trabajo, intercambios, etc.', 'Participación en conferencias, seminarios, grupos de trabajo, talleres o ferias de muestras', 'no_dan_formacion_%']\n"
     ]
    }
   ],
   "source": [
    "# Cargar los datos\n",
    "df = pd.read_csv(r\"C:\\it_academy\\ProjecteData - Materiales\\Sprint04\\dfs_medios\\df_medios_sector_empresa_23.csv\")\n",
    "\n",
    "print(\"=== EXPLORACIÓN INICIAL DE LOS DATOS ===\")\n",
    "print(\"Dimensiones del dataset:\", df.shape)\n",
    "print(\"\\nPrimeras filas:\")\n",
    "print(df.head())\n",
    "print(\"\\nColumnas disponibles:\")\n",
    "print(df.columns.tolist())"
   ]
  },
  {
   "cell_type": "code",
   "execution_count": 23,
   "id": "2af1de55",
   "metadata": {},
   "outputs": [
    {
     "name": "stdout",
     "output_type": "stream",
     "text": [
      "\n",
      "=== IDENTIFICACIÓN DE SECTORES ===\n",
      "Sectores disponibles:\n",
      "1. Industria\n",
      "2. Construcción\n",
      "3. Comercio y reparación de vehículos\n",
      "4. Transporte y almacenamiento\n",
      "5. Hostelería\n",
      "6. Información, comunicaciones, actividades financieras, de seguros e inmobiliarias\n",
      "7. Actividades profesionales, científicas y técnicas\n",
      "8. Actividades administrativas y servicios auxiliares\n",
      "9. Actividades artísticas, recreativas y de entretenimiento y otros servicios\n"
     ]
    }
   ],
   "source": [
    "# Identificar los sectores de servicios\n",
    "print(\"\\n=== IDENTIFICACIÓN DE SECTORES ===\")\n",
    "print(\"Sectores disponibles:\")\n",
    "for i, sector in enumerate(df['actividad_economica'].unique(), 1):\n",
    "    print(f\"{i}. {sector}\")"
   ]
  },
  {
   "cell_type": "code",
   "execution_count": 24,
   "id": "f7379b4f",
   "metadata": {},
   "outputs": [
    {
     "name": "stdout",
     "output_type": "stream",
     "text": [
      "\n",
      "Sectores de SERVICIOS (7):\n",
      "1. Comercio y reparación de vehículos\n",
      "2. Transporte y almacenamiento\n",
      "3. Hostelería\n",
      "4. Información, comunicaciones, actividades financieras, de seguros e inmobiliarias\n",
      "5. Actividades profesionales, científicas y técnicas\n",
      "6. Actividades administrativas y servicios auxiliares\n",
      "7. Actividades artísticas, recreativas y de entretenimiento y otros servicios\n"
     ]
    }
   ],
   "source": [
    "# Definir sectores que pertenecen a servicios (todos excepto Industria y Construcción)\n",
    "sectores_servicios = df[~df['actividad_economica'].isin(['Industria', 'Construcción'])]['actividad_economica'].tolist()\n",
    "print(f\"\\nSectores de SERVICIOS ({len(sectores_servicios)}):\")\n",
    "for i, sector in enumerate(sectores_servicios, 1):\n",
    "    print(f\"{i}. {sector}\")"
   ]
  },
  {
   "cell_type": "code",
   "execution_count": 25,
   "id": "a40b4f90",
   "metadata": {},
   "outputs": [
    {
     "name": "stdout",
     "output_type": "stream",
     "text": [
      "\n",
      "=== DATOS DEL SECTOR SERVICIOS ===\n",
      "Número de subsectores de servicios: 7\n",
      "Total de empresas en servicios: 249,302\n"
     ]
    }
   ],
   "source": [
    "# Filtrar datos del sector servicios\n",
    "df_servicios = df[df['actividad_economica'].isin(sectores_servicios)].copy()\n",
    "print(f\"\\n=== DATOS DEL SECTOR SERVICIOS ===\")\n",
    "print(f\"Número de subsectores de servicios: {len(df_servicios)}\")\n",
    "print(f\"Total de empresas en servicios: {df_servicios['Numero_empresas'].sum():,}\")"
   ]
  },
  {
   "cell_type": "code",
   "execution_count": 26,
   "id": "dd721425",
   "metadata": {},
   "outputs": [
    {
     "name": "stdout",
     "output_type": "stream",
     "text": [
      "\n",
      "=== TIPOS DE FORMACIÓN ===\n",
      "1. Cursos de formación  diseñados y gestionados por su empresa\n",
      "2. Cursos de formación diseñados y gestionados por otra organización\n",
      "3. Formación planificada en el puesto de trabajo, utilizando los medios habituales de trabajo\n",
      "4. Aprendizaje planificado a partir de rotación de puestos de trabajo, intercambios, etc.\n",
      "5. Participación en conferencias, seminarios, grupos de trabajo, talleres o ferias de muestras\n"
     ]
    }
   ],
   "source": [
    "# Identificar las columnas de tipos de formación\n",
    "columnas_formacion = [\n",
    "    'Cursos de formación  diseñados y gestionados por su empresa ',\n",
    "    'Cursos de formación diseñados y gestionados por otra organización ',\n",
    "    'Formación planificada en el puesto de trabajo, utilizando los medios habituales de trabajo',\n",
    "    'Aprendizaje planificado a partir de rotación de puestos de trabajo, intercambios, etc.',\n",
    "    'Participación en conferencias, seminarios, grupos de trabajo, talleres o ferias de muestras'\n",
    "    ]\n",
    "\n",
    "print(\"\\n=== TIPOS DE FORMACIÓN ===\")\n",
    "for i, col in enumerate(columnas_formacion, 1):\n",
    "    print(f\"{i}. {col.strip()}\")"
   ]
  },
  {
   "cell_type": "code",
   "execution_count": 27,
   "id": "a7e40158",
   "metadata": {},
   "outputs": [],
   "source": [
    "# Renombrar columnas usando map()\n",
    "nombres_cortos_map = {\n",
    "    'Cursos de formación  diseñados y gestionados por su empresa ': 'Formación_interna',\n",
    "    'Cursos de formación diseñados y gestionados por otra organización ': 'Formación_externa',\n",
    "    'Formación planificada en el puesto de trabajo, utilizando los medios habituales de trabajo': 'Formación_puesto',\n",
    "    'Aprendizaje planificado a partir de rotación de puestos de trabajo, intercambios, etc.': 'Rotación_intercambios', \n",
    "    'Participación en conferencias, seminarios, grupos de trabajo, talleres o ferias de muestras': 'Conferencias_seminarios'\n",
    "}"
   ]
  },
  {
   "cell_type": "code",
   "execution_count": 28,
   "id": "ef32fddf",
   "metadata": {},
   "outputs": [
    {
     "data": {
      "application/vnd.microsoft.datawrangler.viewer.v0+json": {
       "columns": [
        {
         "name": "index",
         "rawType": "int64",
         "type": "integer"
        },
        {
         "name": "anio",
         "rawType": "int64",
         "type": "integer"
        },
        {
         "name": "actividad_economica",
         "rawType": "object",
         "type": "string"
        },
        {
         "name": "total_%",
         "rawType": "float64",
         "type": "float"
        },
        {
         "name": "Numero_empresas",
         "rawType": "int64",
         "type": "integer"
        },
        {
         "name": "dan_formacion_%",
         "rawType": "float64",
         "type": "float"
        },
        {
         "name": "Formación_interna",
         "rawType": "float64",
         "type": "float"
        },
        {
         "name": "Formación_externa",
         "rawType": "float64",
         "type": "float"
        },
        {
         "name": "Formación_puesto",
         "rawType": "float64",
         "type": "float"
        },
        {
         "name": "Rotación_intercambios",
         "rawType": "float64",
         "type": "float"
        },
        {
         "name": "Conferencias_seminarios",
         "rawType": "float64",
         "type": "float"
        },
        {
         "name": "no_dan_formacion_%",
         "rawType": "float64",
         "type": "float"
        }
       ],
       "ref": "0dc91690-5b03-44fe-9e07-bcc7a9ec3dee",
       "rows": [
        [
         "2",
         "2023",
         "Comercio y reparación de vehículos",
         "100.0",
         "81250",
         "70.7",
         "24.3",
         "51.4",
         "41.4",
         "20.4",
         "28.3",
         "29.3"
        ],
        [
         "3",
         "2023",
         "Transporte y almacenamiento",
         "100.0",
         "19688",
         "79.5",
         "23.8",
         "62.4",
         "42.2",
         "16.0",
         "13.8",
         "20.5"
        ],
        [
         "4",
         "2023",
         "Hostelería",
         "100.0",
         "62597",
         "58.4",
         "13.7",
         "37.2",
         "34.0",
         "14.5",
         "10.2",
         "41.6"
        ],
        [
         "5",
         "2023",
         "Información, comunicaciones, actividades financieras, de seguros e inmobiliarias",
         "100.0",
         "18200",
         "81.3",
         "39.0",
         "56.2",
         "45.9",
         "24.0",
         "44.1",
         "18.7"
        ],
        [
         "6",
         "2023",
         "Actividades profesionales, científicas y técnicas",
         "100.0",
         "26843",
         "82.8",
         "37.2",
         "60.7",
         "46.4",
         "20.4",
         "50.7",
         "17.2"
        ]
       ],
       "shape": {
        "columns": 11,
        "rows": 5
       }
      },
      "text/html": [
       "<div>\n",
       "<style scoped>\n",
       "    .dataframe tbody tr th:only-of-type {\n",
       "        vertical-align: middle;\n",
       "    }\n",
       "\n",
       "    .dataframe tbody tr th {\n",
       "        vertical-align: top;\n",
       "    }\n",
       "\n",
       "    .dataframe thead th {\n",
       "        text-align: right;\n",
       "    }\n",
       "</style>\n",
       "<table border=\"1\" class=\"dataframe\">\n",
       "  <thead>\n",
       "    <tr style=\"text-align: right;\">\n",
       "      <th></th>\n",
       "      <th>anio</th>\n",
       "      <th>actividad_economica</th>\n",
       "      <th>total_%</th>\n",
       "      <th>Numero_empresas</th>\n",
       "      <th>dan_formacion_%</th>\n",
       "      <th>Formación_interna</th>\n",
       "      <th>Formación_externa</th>\n",
       "      <th>Formación_puesto</th>\n",
       "      <th>Rotación_intercambios</th>\n",
       "      <th>Conferencias_seminarios</th>\n",
       "      <th>no_dan_formacion_%</th>\n",
       "    </tr>\n",
       "  </thead>\n",
       "  <tbody>\n",
       "    <tr>\n",
       "      <th>2</th>\n",
       "      <td>2023</td>\n",
       "      <td>Comercio y reparación de vehículos</td>\n",
       "      <td>100.0</td>\n",
       "      <td>81250</td>\n",
       "      <td>70.7</td>\n",
       "      <td>24.3</td>\n",
       "      <td>51.4</td>\n",
       "      <td>41.4</td>\n",
       "      <td>20.4</td>\n",
       "      <td>28.3</td>\n",
       "      <td>29.3</td>\n",
       "    </tr>\n",
       "    <tr>\n",
       "      <th>3</th>\n",
       "      <td>2023</td>\n",
       "      <td>Transporte y almacenamiento</td>\n",
       "      <td>100.0</td>\n",
       "      <td>19688</td>\n",
       "      <td>79.5</td>\n",
       "      <td>23.8</td>\n",
       "      <td>62.4</td>\n",
       "      <td>42.2</td>\n",
       "      <td>16.0</td>\n",
       "      <td>13.8</td>\n",
       "      <td>20.5</td>\n",
       "    </tr>\n",
       "    <tr>\n",
       "      <th>4</th>\n",
       "      <td>2023</td>\n",
       "      <td>Hostelería</td>\n",
       "      <td>100.0</td>\n",
       "      <td>62597</td>\n",
       "      <td>58.4</td>\n",
       "      <td>13.7</td>\n",
       "      <td>37.2</td>\n",
       "      <td>34.0</td>\n",
       "      <td>14.5</td>\n",
       "      <td>10.2</td>\n",
       "      <td>41.6</td>\n",
       "    </tr>\n",
       "    <tr>\n",
       "      <th>5</th>\n",
       "      <td>2023</td>\n",
       "      <td>Información, comunicaciones, actividades finan...</td>\n",
       "      <td>100.0</td>\n",
       "      <td>18200</td>\n",
       "      <td>81.3</td>\n",
       "      <td>39.0</td>\n",
       "      <td>56.2</td>\n",
       "      <td>45.9</td>\n",
       "      <td>24.0</td>\n",
       "      <td>44.1</td>\n",
       "      <td>18.7</td>\n",
       "    </tr>\n",
       "    <tr>\n",
       "      <th>6</th>\n",
       "      <td>2023</td>\n",
       "      <td>Actividades profesionales, científicas y técnicas</td>\n",
       "      <td>100.0</td>\n",
       "      <td>26843</td>\n",
       "      <td>82.8</td>\n",
       "      <td>37.2</td>\n",
       "      <td>60.7</td>\n",
       "      <td>46.4</td>\n",
       "      <td>20.4</td>\n",
       "      <td>50.7</td>\n",
       "      <td>17.2</td>\n",
       "    </tr>\n",
       "  </tbody>\n",
       "</table>\n",
       "</div>"
      ],
      "text/plain": [
       "   anio                                actividad_economica  total_%  \\\n",
       "2  2023                 Comercio y reparación de vehículos    100.0   \n",
       "3  2023                        Transporte y almacenamiento    100.0   \n",
       "4  2023                                         Hostelería    100.0   \n",
       "5  2023  Información, comunicaciones, actividades finan...    100.0   \n",
       "6  2023  Actividades profesionales, científicas y técnicas    100.0   \n",
       "\n",
       "   Numero_empresas  dan_formacion_%  Formación_interna  Formación_externa  \\\n",
       "2            81250             70.7               24.3               51.4   \n",
       "3            19688             79.5               23.8               62.4   \n",
       "4            62597             58.4               13.7               37.2   \n",
       "5            18200             81.3               39.0               56.2   \n",
       "6            26843             82.8               37.2               60.7   \n",
       "\n",
       "   Formación_puesto  Rotación_intercambios  Conferencias_seminarios  \\\n",
       "2              41.4                   20.4                     28.3   \n",
       "3              42.2                   16.0                     13.8   \n",
       "4              34.0                   14.5                     10.2   \n",
       "5              45.9                   24.0                     44.1   \n",
       "6              46.4                   20.4                     50.7   \n",
       "\n",
       "   no_dan_formacion_%  \n",
       "2                29.3  \n",
       "3                20.5  \n",
       "4                41.6  \n",
       "5                18.7  \n",
       "6                17.2  "
      ]
     },
     "execution_count": 28,
     "metadata": {},
     "output_type": "execute_result"
    }
   ],
   "source": [
    "# Renombrar las columnas usando map\n",
    "df_servicios = df_servicios.rename(columns=nombres_cortos_map)\n",
    "columnas_formacion = list(nombres_cortos_map.values())\n",
    "df_servicios.head()"
   ]
  },
  {
   "cell_type": "code",
   "execution_count": 30,
   "id": "27cdc62f",
   "metadata": {},
   "outputs": [
    {
     "name": "stdout",
     "output_type": "stream",
     "text": [
      "\n",
      "=== CÁLCULO DE EMPRESAS DE SERVICIOS QUE DAN FORMACIÓN ===\n"
     ]
    }
   ],
   "source": [
    "# Número de empresas que dan formación y promedios ponderados\n",
    "print(\"\\n=== CÁLCULO DE EMPRESAS DE SERVICIOS QUE DAN FORMACIÓN ===\")\n",
    "\n",
    "# Crear columna con número de empresas que dan formación por actividad económica\n",
    "df_servicios['empresas_dan_formacion'] = (df_servicios['Numero_empresas'] * df_servicios['dan_formacion_%'] / 100).round().astype(int)"
   ]
  },
  {
   "cell_type": "code",
   "execution_count": 31,
   "id": "68f04b4c",
   "metadata": {},
   "outputs": [
    {
     "data": {
      "application/vnd.microsoft.datawrangler.viewer.v0+json": {
       "columns": [
        {
         "name": "index",
         "rawType": "int64",
         "type": "integer"
        },
        {
         "name": "actividad_economica",
         "rawType": "object",
         "type": "string"
        },
        {
         "name": "empresas_dan_formacion",
         "rawType": "int64",
         "type": "integer"
        },
        {
         "name": "dan_formacion_%",
         "rawType": "float64",
         "type": "float"
        }
       ],
       "ref": "220a1ef0-5b7e-4dac-912b-645396d68e50",
       "rows": [
        [
         "2",
         "Comercio y reparación de vehículos",
         "57444",
         "70.7"
        ],
        [
         "3",
         "Transporte y almacenamiento",
         "15652",
         "79.5"
        ],
        [
         "4",
         "Hostelería",
         "36557",
         "58.4"
        ],
        [
         "5",
         "Información, comunicaciones, actividades financieras, de seguros e inmobiliarias",
         "14797",
         "81.3"
        ],
        [
         "6",
         "Actividades profesionales, científicas y técnicas",
         "22226",
         "82.8"
        ],
        [
         "7",
         "Actividades administrativas y servicios auxiliares",
         "13989",
         "72.7"
        ],
        [
         "8",
         "Actividades artísticas, recreativas y de entretenimiento y otros servicios",
         "15424",
         "71.8"
        ]
       ],
       "shape": {
        "columns": 3,
        "rows": 7
       }
      },
      "text/html": [
       "<div>\n",
       "<style scoped>\n",
       "    .dataframe tbody tr th:only-of-type {\n",
       "        vertical-align: middle;\n",
       "    }\n",
       "\n",
       "    .dataframe tbody tr th {\n",
       "        vertical-align: top;\n",
       "    }\n",
       "\n",
       "    .dataframe thead th {\n",
       "        text-align: right;\n",
       "    }\n",
       "</style>\n",
       "<table border=\"1\" class=\"dataframe\">\n",
       "  <thead>\n",
       "    <tr style=\"text-align: right;\">\n",
       "      <th></th>\n",
       "      <th>actividad_economica</th>\n",
       "      <th>empresas_dan_formacion</th>\n",
       "      <th>dan_formacion_%</th>\n",
       "    </tr>\n",
       "  </thead>\n",
       "  <tbody>\n",
       "    <tr>\n",
       "      <th>2</th>\n",
       "      <td>Comercio y reparación de vehículos</td>\n",
       "      <td>57444</td>\n",
       "      <td>70.7</td>\n",
       "    </tr>\n",
       "    <tr>\n",
       "      <th>3</th>\n",
       "      <td>Transporte y almacenamiento</td>\n",
       "      <td>15652</td>\n",
       "      <td>79.5</td>\n",
       "    </tr>\n",
       "    <tr>\n",
       "      <th>4</th>\n",
       "      <td>Hostelería</td>\n",
       "      <td>36557</td>\n",
       "      <td>58.4</td>\n",
       "    </tr>\n",
       "    <tr>\n",
       "      <th>5</th>\n",
       "      <td>Información, comunicaciones, actividades finan...</td>\n",
       "      <td>14797</td>\n",
       "      <td>81.3</td>\n",
       "    </tr>\n",
       "    <tr>\n",
       "      <th>6</th>\n",
       "      <td>Actividades profesionales, científicas y técnicas</td>\n",
       "      <td>22226</td>\n",
       "      <td>82.8</td>\n",
       "    </tr>\n",
       "    <tr>\n",
       "      <th>7</th>\n",
       "      <td>Actividades administrativas y servicios auxili...</td>\n",
       "      <td>13989</td>\n",
       "      <td>72.7</td>\n",
       "    </tr>\n",
       "    <tr>\n",
       "      <th>8</th>\n",
       "      <td>Actividades artísticas, recreativas y de entre...</td>\n",
       "      <td>15424</td>\n",
       "      <td>71.8</td>\n",
       "    </tr>\n",
       "  </tbody>\n",
       "</table>\n",
       "</div>"
      ],
      "text/plain": [
       "                                 actividad_economica  empresas_dan_formacion  \\\n",
       "2                 Comercio y reparación de vehículos                   57444   \n",
       "3                        Transporte y almacenamiento                   15652   \n",
       "4                                         Hostelería                   36557   \n",
       "5  Información, comunicaciones, actividades finan...                   14797   \n",
       "6  Actividades profesionales, científicas y técnicas                   22226   \n",
       "7  Actividades administrativas y servicios auxili...                   13989   \n",
       "8  Actividades artísticas, recreativas y de entre...                   15424   \n",
       "\n",
       "   dan_formacion_%  \n",
       "2             70.7  \n",
       "3             79.5  \n",
       "4             58.4  \n",
       "5             81.3  \n",
       "6             82.8  \n",
       "7             72.7  \n",
       "8             71.8  "
      ]
     },
     "execution_count": 31,
     "metadata": {},
     "output_type": "execute_result"
    }
   ],
   "source": [
    "df_servicios[['actividad_economica', 'empresas_dan_formacion', 'dan_formacion_%']]"
   ]
  },
  {
   "cell_type": "code",
   "execution_count": 10,
   "id": "74902ec5",
   "metadata": {},
   "outputs": [
    {
     "data": {
      "application/vnd.microsoft.datawrangler.viewer.v0+json": {
       "columns": [
        {
         "name": "index",
         "rawType": "int64",
         "type": "integer"
        },
        {
         "name": "actividad_economica",
         "rawType": "object",
         "type": "string"
        },
        {
         "name": "empresas_dan_formacion",
         "rawType": "int64",
         "type": "integer"
        },
        {
         "name": "dan_formacion_%",
         "rawType": "float64",
         "type": "float"
        }
       ],
       "ref": "5136749b-6013-4dd3-9e91-c00c29417280",
       "rows": [
        [
         "2",
         "Comercio y reparación de vehículos",
         "57444",
         "70.7"
        ],
        [
         "3",
         "Transporte y almacenamiento",
         "15652",
         "79.5"
        ],
        [
         "4",
         "Hostelería",
         "36557",
         "58.4"
        ],
        [
         "5",
         "Información, comunicaciones, actividades financieras, de seguros e inmobiliarias",
         "14797",
         "81.3"
        ],
        [
         "6",
         "Actividades profesionales, científicas y técnicas",
         "22226",
         "82.8"
        ],
        [
         "7",
         "Actividades administrativas y servicios auxiliares",
         "13989",
         "72.7"
        ],
        [
         "8",
         "Actividades artísticas, recreativas y de entretenimiento y otros servicios",
         "15424",
         "71.8"
        ]
       ],
       "shape": {
        "columns": 3,
        "rows": 7
       }
      },
      "text/html": [
       "<div>\n",
       "<style scoped>\n",
       "    .dataframe tbody tr th:only-of-type {\n",
       "        vertical-align: middle;\n",
       "    }\n",
       "\n",
       "    .dataframe tbody tr th {\n",
       "        vertical-align: top;\n",
       "    }\n",
       "\n",
       "    .dataframe thead th {\n",
       "        text-align: right;\n",
       "    }\n",
       "</style>\n",
       "<table border=\"1\" class=\"dataframe\">\n",
       "  <thead>\n",
       "    <tr style=\"text-align: right;\">\n",
       "      <th></th>\n",
       "      <th>actividad_economica</th>\n",
       "      <th>empresas_dan_formacion</th>\n",
       "      <th>dan_formacion_%</th>\n",
       "    </tr>\n",
       "  </thead>\n",
       "  <tbody>\n",
       "    <tr>\n",
       "      <th>2</th>\n",
       "      <td>Comercio y reparación de vehículos</td>\n",
       "      <td>57444</td>\n",
       "      <td>70.7</td>\n",
       "    </tr>\n",
       "    <tr>\n",
       "      <th>3</th>\n",
       "      <td>Transporte y almacenamiento</td>\n",
       "      <td>15652</td>\n",
       "      <td>79.5</td>\n",
       "    </tr>\n",
       "    <tr>\n",
       "      <th>4</th>\n",
       "      <td>Hostelería</td>\n",
       "      <td>36557</td>\n",
       "      <td>58.4</td>\n",
       "    </tr>\n",
       "    <tr>\n",
       "      <th>5</th>\n",
       "      <td>Información, comunicaciones, actividades finan...</td>\n",
       "      <td>14797</td>\n",
       "      <td>81.3</td>\n",
       "    </tr>\n",
       "    <tr>\n",
       "      <th>6</th>\n",
       "      <td>Actividades profesionales, científicas y técnicas</td>\n",
       "      <td>22226</td>\n",
       "      <td>82.8</td>\n",
       "    </tr>\n",
       "    <tr>\n",
       "      <th>7</th>\n",
       "      <td>Actividades administrativas y servicios auxili...</td>\n",
       "      <td>13989</td>\n",
       "      <td>72.7</td>\n",
       "    </tr>\n",
       "    <tr>\n",
       "      <th>8</th>\n",
       "      <td>Actividades artísticas, recreativas y de entre...</td>\n",
       "      <td>15424</td>\n",
       "      <td>71.8</td>\n",
       "    </tr>\n",
       "  </tbody>\n",
       "</table>\n",
       "</div>"
      ],
      "text/plain": [
       "                                 actividad_economica  empresas_dan_formacion  \\\n",
       "2                 Comercio y reparación de vehículos                   57444   \n",
       "3                        Transporte y almacenamiento                   15652   \n",
       "4                                         Hostelería                   36557   \n",
       "5  Información, comunicaciones, actividades finan...                   14797   \n",
       "6  Actividades profesionales, científicas y técnicas                   22226   \n",
       "7  Actividades administrativas y servicios auxili...                   13989   \n",
       "8  Actividades artísticas, recreativas y de entre...                   15424   \n",
       "\n",
       "   dan_formacion_%  \n",
       "2             70.7  \n",
       "3             79.5  \n",
       "4             58.4  \n",
       "5             81.3  \n",
       "6             82.8  \n",
       "7             72.7  \n",
       "8             71.8  "
      ]
     },
     "execution_count": 10,
     "metadata": {},
     "output_type": "execute_result"
    }
   ],
   "source": [
    "df_servicios[['actividad_economica', 'empresas_dan_formacion', 'dan_formacion_%']]"
   ]
  },
  {
   "cell_type": "code",
   "execution_count": null,
   "id": "d93f5d5c",
   "metadata": {},
   "outputs": [
    {
     "name": "stdout",
     "output_type": "stream",
     "text": [
      "\n",
      "=== CÁLCULO DE PROMEDIOS PONDERADOS ===\n",
      "\n",
      "Formación_interna:\n",
      "  Total empresas que usan este tipo: 44,629\n",
      "  Porcentaje ponderado: 25.3%\n",
      "\n",
      "Formación_externa:\n",
      "  Total empresas que usan este tipo: 89,709\n",
      "  Porcentaje ponderado: 50.9%\n",
      "\n",
      "Formación_puesto:\n",
      "  Total empresas que usan este tipo: 71,450\n",
      "  Porcentaje ponderado: 40.6%\n",
      "\n",
      "Rotación_intercambios:\n",
      "  Total empresas que usan este tipo: 33,084\n",
      "  Porcentaje ponderado: 18.8%\n",
      "\n",
      "Conferencias_seminarios:\n",
      "  Total empresas que usan este tipo: 48,604\n",
      "  Porcentaje ponderado: 27.6%\n"
     ]
    }
   ],
   "source": [
    "# Número de empresas para cada tipo de formación y promedios ponderados\n",
    "print(f\"\\n=== CÁLCULO DE PROMEDIOS PONDERADOS ===\")\n",
    "total_empresas_formacion = df_servicios['empresas_dan_formacion'].sum()\n",
    "resultados_formacion = {}\n",
    "\n",
    "for col in columnas_formacion:\n",
    "    # Para cada tipo de formación:\n",
    "    # Calcular número de empresas que usan este tipo = (% del tipo * empresas que dan formación) / 100\n",
    "    df_servicios[f'empresas_{col}'] = (df_servicios[col] * df_servicios['empresas_dan_formacion'] / 100).round().astype(int)\n",
    "    \n",
    "    # Sumar total de empresas que usan este tipo\n",
    "    total_empresas_tipo = df_servicios[f'empresas_{col}'].sum()\n",
    "    \n",
    "    # Calcular porcentaje ponderado = (total empresas tipo / total empresas que dan formación) * 100\n",
    "    porcentaje_ponderado = (total_empresas_tipo / total_empresas_formacion) * 100\n",
    "    \n",
    "    resultados_formacion[col] = porcentaje_ponderado\n",
    "    \n",
    "    print(f\"\\n{col}:\")\n",
    "    print(f\"  Total empresas que usan este tipo: {total_empresas_tipo:,}\")\n",
    "    print(f\"  Porcentaje ponderado: {porcentaje_ponderado:.1f}%\")\n"
   ]
  },
  {
   "cell_type": "code",
   "execution_count": 12,
   "id": "27780e64",
   "metadata": {},
   "outputs": [
    {
     "data": {
      "application/vnd.microsoft.datawrangler.viewer.v0+json": {
       "columns": [
        {
         "name": "index",
         "rawType": "int64",
         "type": "integer"
        },
        {
         "name": "anio",
         "rawType": "int64",
         "type": "integer"
        },
        {
         "name": "actividad_economica",
         "rawType": "object",
         "type": "string"
        },
        {
         "name": "total_%",
         "rawType": "float64",
         "type": "float"
        },
        {
         "name": "Numero_empresas",
         "rawType": "int64",
         "type": "integer"
        },
        {
         "name": "dan_formacion_%",
         "rawType": "float64",
         "type": "float"
        },
        {
         "name": "Formación_interna",
         "rawType": "float64",
         "type": "float"
        },
        {
         "name": "Formación_externa",
         "rawType": "float64",
         "type": "float"
        },
        {
         "name": "Formación_puesto",
         "rawType": "float64",
         "type": "float"
        },
        {
         "name": "Rotación_intercambios",
         "rawType": "float64",
         "type": "float"
        },
        {
         "name": "Conferencias_seminarios",
         "rawType": "float64",
         "type": "float"
        },
        {
         "name": "no_dan_formacion_%",
         "rawType": "float64",
         "type": "float"
        },
        {
         "name": "empresas_dan_formacion",
         "rawType": "int64",
         "type": "integer"
        },
        {
         "name": "empresas_Formación_interna",
         "rawType": "int64",
         "type": "integer"
        },
        {
         "name": "empresas_Formación_externa",
         "rawType": "int64",
         "type": "integer"
        },
        {
         "name": "empresas_Formación_puesto",
         "rawType": "int64",
         "type": "integer"
        },
        {
         "name": "empresas_Rotación_intercambios",
         "rawType": "int64",
         "type": "integer"
        },
        {
         "name": "empresas_Conferencias_seminarios",
         "rawType": "int64",
         "type": "integer"
        }
       ],
       "ref": "c58e8cea-67c4-4b48-834d-605064f284ce",
       "rows": [
        [
         "2",
         "2023",
         "Comercio y reparación de vehículos",
         "100.0",
         "81250",
         "70.7",
         "24.3",
         "51.4",
         "41.4",
         "20.4",
         "28.3",
         "29.3",
         "57444",
         "13959",
         "29526",
         "23782",
         "11719",
         "16257"
        ],
        [
         "3",
         "2023",
         "Transporte y almacenamiento",
         "100.0",
         "19688",
         "79.5",
         "23.8",
         "62.4",
         "42.2",
         "16.0",
         "13.8",
         "20.5",
         "15652",
         "3725",
         "9767",
         "6605",
         "2504",
         "2160"
        ],
        [
         "4",
         "2023",
         "Hostelería",
         "100.0",
         "62597",
         "58.4",
         "13.7",
         "37.2",
         "34.0",
         "14.5",
         "10.2",
         "41.6",
         "36557",
         "5008",
         "13599",
         "12429",
         "5301",
         "3729"
        ],
        [
         "5",
         "2023",
         "Información, comunicaciones, actividades financieras, de seguros e inmobiliarias",
         "100.0",
         "18200",
         "81.3",
         "39.0",
         "56.2",
         "45.9",
         "24.0",
         "44.1",
         "18.7",
         "14797",
         "5771",
         "8316",
         "6792",
         "3551",
         "6525"
        ],
        [
         "6",
         "2023",
         "Actividades profesionales, científicas y técnicas",
         "100.0",
         "26843",
         "82.8",
         "37.2",
         "60.7",
         "46.4",
         "20.4",
         "50.7",
         "17.2",
         "22226",
         "8268",
         "13491",
         "10313",
         "4534",
         "11269"
        ],
        [
         "7",
         "2023",
         "Actividades administrativas y servicios auxiliares",
         "100.0",
         "19242",
         "72.7",
         "26.8",
         "55.7",
         "41.4",
         "18.3",
         "25.0",
         "27.3",
         "13989",
         "3749",
         "7792",
         "5791",
         "2560",
         "3497"
        ],
        [
         "8",
         "2023",
         "Actividades artísticas, recreativas y de entretenimiento y otros servicios",
         "100.0",
         "21482",
         "71.8",
         "26.9",
         "46.8",
         "37.2",
         "18.9",
         "33.5",
         "28.2",
         "15424",
         "4149",
         "7218",
         "5738",
         "2915",
         "5167"
        ]
       ],
       "shape": {
        "columns": 17,
        "rows": 7
       }
      },
      "text/html": [
       "<div>\n",
       "<style scoped>\n",
       "    .dataframe tbody tr th:only-of-type {\n",
       "        vertical-align: middle;\n",
       "    }\n",
       "\n",
       "    .dataframe tbody tr th {\n",
       "        vertical-align: top;\n",
       "    }\n",
       "\n",
       "    .dataframe thead th {\n",
       "        text-align: right;\n",
       "    }\n",
       "</style>\n",
       "<table border=\"1\" class=\"dataframe\">\n",
       "  <thead>\n",
       "    <tr style=\"text-align: right;\">\n",
       "      <th></th>\n",
       "      <th>anio</th>\n",
       "      <th>actividad_economica</th>\n",
       "      <th>total_%</th>\n",
       "      <th>Numero_empresas</th>\n",
       "      <th>dan_formacion_%</th>\n",
       "      <th>Formación_interna</th>\n",
       "      <th>Formación_externa</th>\n",
       "      <th>Formación_puesto</th>\n",
       "      <th>Rotación_intercambios</th>\n",
       "      <th>Conferencias_seminarios</th>\n",
       "      <th>no_dan_formacion_%</th>\n",
       "      <th>empresas_dan_formacion</th>\n",
       "      <th>empresas_Formación_interna</th>\n",
       "      <th>empresas_Formación_externa</th>\n",
       "      <th>empresas_Formación_puesto</th>\n",
       "      <th>empresas_Rotación_intercambios</th>\n",
       "      <th>empresas_Conferencias_seminarios</th>\n",
       "    </tr>\n",
       "  </thead>\n",
       "  <tbody>\n",
       "    <tr>\n",
       "      <th>2</th>\n",
       "      <td>2023</td>\n",
       "      <td>Comercio y reparación de vehículos</td>\n",
       "      <td>100.0</td>\n",
       "      <td>81250</td>\n",
       "      <td>70.7</td>\n",
       "      <td>24.3</td>\n",
       "      <td>51.4</td>\n",
       "      <td>41.4</td>\n",
       "      <td>20.4</td>\n",
       "      <td>28.3</td>\n",
       "      <td>29.3</td>\n",
       "      <td>57444</td>\n",
       "      <td>13959</td>\n",
       "      <td>29526</td>\n",
       "      <td>23782</td>\n",
       "      <td>11719</td>\n",
       "      <td>16257</td>\n",
       "    </tr>\n",
       "    <tr>\n",
       "      <th>3</th>\n",
       "      <td>2023</td>\n",
       "      <td>Transporte y almacenamiento</td>\n",
       "      <td>100.0</td>\n",
       "      <td>19688</td>\n",
       "      <td>79.5</td>\n",
       "      <td>23.8</td>\n",
       "      <td>62.4</td>\n",
       "      <td>42.2</td>\n",
       "      <td>16.0</td>\n",
       "      <td>13.8</td>\n",
       "      <td>20.5</td>\n",
       "      <td>15652</td>\n",
       "      <td>3725</td>\n",
       "      <td>9767</td>\n",
       "      <td>6605</td>\n",
       "      <td>2504</td>\n",
       "      <td>2160</td>\n",
       "    </tr>\n",
       "    <tr>\n",
       "      <th>4</th>\n",
       "      <td>2023</td>\n",
       "      <td>Hostelería</td>\n",
       "      <td>100.0</td>\n",
       "      <td>62597</td>\n",
       "      <td>58.4</td>\n",
       "      <td>13.7</td>\n",
       "      <td>37.2</td>\n",
       "      <td>34.0</td>\n",
       "      <td>14.5</td>\n",
       "      <td>10.2</td>\n",
       "      <td>41.6</td>\n",
       "      <td>36557</td>\n",
       "      <td>5008</td>\n",
       "      <td>13599</td>\n",
       "      <td>12429</td>\n",
       "      <td>5301</td>\n",
       "      <td>3729</td>\n",
       "    </tr>\n",
       "    <tr>\n",
       "      <th>5</th>\n",
       "      <td>2023</td>\n",
       "      <td>Información, comunicaciones, actividades finan...</td>\n",
       "      <td>100.0</td>\n",
       "      <td>18200</td>\n",
       "      <td>81.3</td>\n",
       "      <td>39.0</td>\n",
       "      <td>56.2</td>\n",
       "      <td>45.9</td>\n",
       "      <td>24.0</td>\n",
       "      <td>44.1</td>\n",
       "      <td>18.7</td>\n",
       "      <td>14797</td>\n",
       "      <td>5771</td>\n",
       "      <td>8316</td>\n",
       "      <td>6792</td>\n",
       "      <td>3551</td>\n",
       "      <td>6525</td>\n",
       "    </tr>\n",
       "    <tr>\n",
       "      <th>6</th>\n",
       "      <td>2023</td>\n",
       "      <td>Actividades profesionales, científicas y técnicas</td>\n",
       "      <td>100.0</td>\n",
       "      <td>26843</td>\n",
       "      <td>82.8</td>\n",
       "      <td>37.2</td>\n",
       "      <td>60.7</td>\n",
       "      <td>46.4</td>\n",
       "      <td>20.4</td>\n",
       "      <td>50.7</td>\n",
       "      <td>17.2</td>\n",
       "      <td>22226</td>\n",
       "      <td>8268</td>\n",
       "      <td>13491</td>\n",
       "      <td>10313</td>\n",
       "      <td>4534</td>\n",
       "      <td>11269</td>\n",
       "    </tr>\n",
       "    <tr>\n",
       "      <th>7</th>\n",
       "      <td>2023</td>\n",
       "      <td>Actividades administrativas y servicios auxili...</td>\n",
       "      <td>100.0</td>\n",
       "      <td>19242</td>\n",
       "      <td>72.7</td>\n",
       "      <td>26.8</td>\n",
       "      <td>55.7</td>\n",
       "      <td>41.4</td>\n",
       "      <td>18.3</td>\n",
       "      <td>25.0</td>\n",
       "      <td>27.3</td>\n",
       "      <td>13989</td>\n",
       "      <td>3749</td>\n",
       "      <td>7792</td>\n",
       "      <td>5791</td>\n",
       "      <td>2560</td>\n",
       "      <td>3497</td>\n",
       "    </tr>\n",
       "    <tr>\n",
       "      <th>8</th>\n",
       "      <td>2023</td>\n",
       "      <td>Actividades artísticas, recreativas y de entre...</td>\n",
       "      <td>100.0</td>\n",
       "      <td>21482</td>\n",
       "      <td>71.8</td>\n",
       "      <td>26.9</td>\n",
       "      <td>46.8</td>\n",
       "      <td>37.2</td>\n",
       "      <td>18.9</td>\n",
       "      <td>33.5</td>\n",
       "      <td>28.2</td>\n",
       "      <td>15424</td>\n",
       "      <td>4149</td>\n",
       "      <td>7218</td>\n",
       "      <td>5738</td>\n",
       "      <td>2915</td>\n",
       "      <td>5167</td>\n",
       "    </tr>\n",
       "  </tbody>\n",
       "</table>\n",
       "</div>"
      ],
      "text/plain": [
       "   anio                                actividad_economica  total_%  \\\n",
       "2  2023                 Comercio y reparación de vehículos    100.0   \n",
       "3  2023                        Transporte y almacenamiento    100.0   \n",
       "4  2023                                         Hostelería    100.0   \n",
       "5  2023  Información, comunicaciones, actividades finan...    100.0   \n",
       "6  2023  Actividades profesionales, científicas y técnicas    100.0   \n",
       "7  2023  Actividades administrativas y servicios auxili...    100.0   \n",
       "8  2023  Actividades artísticas, recreativas y de entre...    100.0   \n",
       "\n",
       "   Numero_empresas  dan_formacion_%  Formación_interna  Formación_externa  \\\n",
       "2            81250             70.7               24.3               51.4   \n",
       "3            19688             79.5               23.8               62.4   \n",
       "4            62597             58.4               13.7               37.2   \n",
       "5            18200             81.3               39.0               56.2   \n",
       "6            26843             82.8               37.2               60.7   \n",
       "7            19242             72.7               26.8               55.7   \n",
       "8            21482             71.8               26.9               46.8   \n",
       "\n",
       "   Formación_puesto  Rotación_intercambios  Conferencias_seminarios  \\\n",
       "2              41.4                   20.4                     28.3   \n",
       "3              42.2                   16.0                     13.8   \n",
       "4              34.0                   14.5                     10.2   \n",
       "5              45.9                   24.0                     44.1   \n",
       "6              46.4                   20.4                     50.7   \n",
       "7              41.4                   18.3                     25.0   \n",
       "8              37.2                   18.9                     33.5   \n",
       "\n",
       "   no_dan_formacion_%  empresas_dan_formacion  empresas_Formación_interna  \\\n",
       "2                29.3                   57444                       13959   \n",
       "3                20.5                   15652                        3725   \n",
       "4                41.6                   36557                        5008   \n",
       "5                18.7                   14797                        5771   \n",
       "6                17.2                   22226                        8268   \n",
       "7                27.3                   13989                        3749   \n",
       "8                28.2                   15424                        4149   \n",
       "\n",
       "   empresas_Formación_externa  empresas_Formación_puesto  \\\n",
       "2                       29526                      23782   \n",
       "3                        9767                       6605   \n",
       "4                       13599                      12429   \n",
       "5                        8316                       6792   \n",
       "6                       13491                      10313   \n",
       "7                        7792                       5791   \n",
       "8                        7218                       5738   \n",
       "\n",
       "   empresas_Rotación_intercambios  empresas_Conferencias_seminarios  \n",
       "2                           11719                             16257  \n",
       "3                            2504                              2160  \n",
       "4                            5301                              3729  \n",
       "5                            3551                              6525  \n",
       "6                            4534                             11269  \n",
       "7                            2560                              3497  \n",
       "8                            2915                              5167  "
      ]
     },
     "execution_count": 12,
     "metadata": {},
     "output_type": "execute_result"
    }
   ],
   "source": [
    "df_servicios"
   ]
  },
  {
   "cell_type": "code",
   "execution_count": 13,
   "id": "189da3b2",
   "metadata": {},
   "outputs": [
    {
     "name": "stdout",
     "output_type": "stream",
     "text": [
      "\n",
      "Total empresas que dan formación en servicios: 176,089\n",
      "\n",
      "RANKING DE TIPOS DE FORMACIÓN EN SERVICIOS (% ponderado):\n",
      "--------------------------------------------------------------------------------\n",
      "1. Formación_externa        : 50.9%\n",
      "2. Formación_puesto         : 40.6%\n",
      "3. Conferencias_seminarios  : 27.6%\n",
      "4. Formación_interna        : 25.3%\n",
      "5. Rotación_intercambios    : 18.8%\n"
     ]
    }
   ],
   "source": [
    "# Ordenar resultados de mayor a menor\n",
    "resultados_ordenados = dict(sorted(resultados_formacion.items(), key=lambda x: x[1], reverse=True))\n",
    "\n",
    "print(f\"\\nTotal empresas que dan formación en servicios: {total_empresas_formacion:,}\")\n",
    "print(\"\\nRANKING DE TIPOS DE FORMACIÓN EN SERVICIOS (% ponderado):\")\n",
    "print(\"-\" * 80)\n",
    "for i, (tipo, porcentaje) in enumerate(resultados_ordenados.items(), 1):\n",
    "    print(f\"{i}. {tipo:<25}: {porcentaje:.1f}%\")"
   ]
  },
  {
   "cell_type": "code",
   "execution_count": 33,
   "id": "8adb2b98",
   "metadata": {},
   "outputs": [
    {
     "name": "stdout",
     "output_type": "stream",
     "text": [
      "\n",
      "=== VALORES POR SUBSECTOR DE SERVICIOS ===\n",
      "Detalle por subsector:\n",
      "                                                             actividad_economica  Numero_empresas  empresas_dan_formacion  Formación_interna  Formación_externa  Formación_puesto  Rotación_intercambios  Conferencias_seminarios\n",
      "                                              Comercio y reparación de vehículos            81250                   57444               24.3               51.4              41.4                   20.4                     28.3\n",
      "                                                     Transporte y almacenamiento            19688                   15652               23.8               62.4              42.2                   16.0                     13.8\n",
      "                                                                      Hostelería            62597                   36557               13.7               37.2              34.0                   14.5                     10.2\n",
      "Información, comunicaciones, actividades financieras, de seguros e inmobiliarias            18200                   14797               39.0               56.2              45.9                   24.0                     44.1\n",
      "                               Actividades profesionales, científicas y técnicas            26843                   22226               37.2               60.7              46.4                   20.4                     50.7\n",
      "                              Actividades administrativas y servicios auxiliares            19242                   13989               26.8               55.7              41.4                   18.3                     25.0\n",
      "      Actividades artísticas, recreativas y de entretenimiento y otros servicios            21482                   15424               26.9               46.8              37.2                   18.9                     33.5\n"
     ]
    }
   ],
   "source": [
    "# Valores por subsector\n",
    "print(\"\\n=== VALORES POR SUBSECTOR DE SERVICIOS ===\")\n",
    "df_detalle = df_servicios[['actividad_economica', 'Numero_empresas', 'empresas_dan_formacion'] + columnas_formacion].copy()\n",
    "\n",
    "print(\"Detalle por subsector:\")\n",
    "print(df_detalle.to_string(index=False))"
   ]
  },
  {
   "cell_type": "code",
   "execution_count": null,
   "id": "fd340664",
   "metadata": {},
   "outputs": [
    {
     "data": {
      "text/plain": [
       "([0, 1, 2, 3, 4],\n",
       " [Text(0, 0, 'Formación_externa'),\n",
       "  Text(1, 0, 'Formación_puesto'),\n",
       "  Text(2, 0, 'Conferencias_seminarios'),\n",
       "  Text(3, 0, 'Formación_interna'),\n",
       "  Text(4, 0, 'Rotación_intercambios')])"
      ]
     },
     "execution_count": 17,
     "metadata": {},
     "output_type": "execute_result"
    },
    {
     "data": {
      "image/png": "[encoded data removed]",
      "text/plain": [
       "<Figure size 1200x800 with 1 Axes>"
      ]
     },
     "metadata": {},
     "output_type": "display_data"
    }
   ],
   "source": [
    "# Grafico de barras\n",
    "df_visual = pd.DataFrame(list(resultados_ordenados.items()), \n",
    "                      columns=['Tipo_Formacion', 'Porcentaje'])\n",
    "\n",
    "plt.figure(figsize=(12, 8))\n",
    "plt.subplot(2, 1, 1)\n",
    "ax = sns.barplot(data=df_visual, x='Tipo_Formacion', y='Porcentaje', \n",
    "                 palette='viridis', hue='Tipo_Formacion', legend=False)\n",
    "\n",
    "plt.title('Tipos de Formación más Utilizados en el Sector Servicios\\n(% ponderado por número de empresas)', \n",
    "          fontsize=14, fontweight='bold')\n",
    "plt.ylabel('Porcentaje de empresas (%)')\n",
    "plt.xticks(rotation=0, ha='center')"
   ]
  }
 ],
 "metadata": {
  "kernelspec": {
   "display_name": "Python 3",
   "language": "python",
   "name": "python3"
  },
  "language_info": {
   "codemirror_mode": {
    "name": "ipython",
    "version": 3
   },
   "file_extension": ".py",
   "mimetype": "text/x-python",
   "name": "python",
   "nbconvert_exporter": "python",
   "pygments_lexer": "ipython3",
   "version": "3.13.0"
  }
 },
 "nbformat": 4,
 "nbformat_minor": 5
}
