{
 "cells": [
  {
   "cell_type": "code",
   "execution_count": 50,
   "id": "151db7a5",
   "metadata": {},
   "outputs": [],
   "source": [
    "import pandas as pd\n",
    "import matplotlib.pyplot as plt\n",
    "import seaborn as sns"
   ]
  },
  {
   "cell_type": "markdown",
   "id": "6bc15aa3",
   "metadata": {},
   "source": [
    "# Estancia media por comunidades autónomas y provincias."
   ]
  },
  {
   "cell_type": "code",
   "execution_count": 51,
   "id": "fcb94fb0",
   "metadata": {},
   "outputs": [],
   "source": [
    "df_Media_CA_Pro = pd.read_csv(r\"../Data/2065.csv\", sep='\\t') #Estancia media por comunidades autónomas y provincias."
   ]
  },
  {
   "cell_type": "code",
   "execution_count": 52,
   "id": "66217dbe",
   "metadata": {},
   "outputs": [],
   "source": [
    "df_Media_CA_Pro.drop(columns=['Totales Territoriales'], inplace=True)"
   ]
  },
  {
   "cell_type": "code",
   "execution_count": 53,
   "id": "f1a52af5",
   "metadata": {},
   "outputs": [],
   "source": [
    "df_Media_CA_Pro['Periodo'] = pd.to_datetime(df_Media_CA_Pro['Periodo'].str.replace('M', '-'), format='%Y-%m').dt.to_period('M')"
   ]
  },
  {
   "cell_type": "code",
   "execution_count": 54,
   "id": "93b4fbc0",
   "metadata": {},
   "outputs": [
    {
     "data": {
      "application/vnd.microsoft.datawrangler.viewer.v0+json": {
       "columns": [
        {
         "name": "index",
         "rawType": "int64",
         "type": "integer"
        },
        {
         "name": "Comunidades y Ciudades Autónomas",
         "rawType": "object",
         "type": "unknown"
        },
        {
         "name": "Provincias",
         "rawType": "object",
         "type": "unknown"
        },
        {
         "name": "Periodo",
         "rawType": "period[M]",
         "type": "unknown"
        },
        {
         "name": "Total",
         "rawType": "object",
         "type": "unknown"
        }
       ],
       "conversionMethod": "pd.DataFrame",
       "ref": "a1e0b495-6831-4932-8f36-0a7ba1e2144e",
       "rows": [
        [
         "0",
         null,
         null,
         "2025-03",
         "2,91"
        ],
        [
         "1",
         null,
         null,
         "2025-02",
         "2,82"
        ],
        [
         "2",
         null,
         null,
         "2025-01",
         "2,93"
        ],
        [
         "3",
         null,
         null,
         "2024-12",
         "2,75"
        ],
        [
         "4",
         null,
         null,
         "2024-11",
         "2,8"
        ],
        [
         "5",
         null,
         null,
         "2024-10",
         "3,15"
        ],
        [
         "6",
         null,
         null,
         "2024-09",
         "3,3"
        ],
        [
         "7",
         null,
         null,
         "2024-08",
         "3,53"
        ],
        [
         "8",
         null,
         null,
         "2024-07",
         "3,47"
        ],
        [
         "9",
         null,
         null,
         "2024-06",
         "3,21"
        ],
        [
         "10",
         null,
         null,
         "2024-05",
         "3,04"
        ],
        [
         "11",
         null,
         null,
         "2024-04",
         "2,89"
        ],
        [
         "12",
         null,
         null,
         "2024-03",
         "2,91"
        ],
        [
         "13",
         null,
         null,
         "2024-02",
         "2,85"
        ],
        [
         "14",
         null,
         null,
         "2024-01",
         "2,91"
        ],
        [
         "15",
         null,
         null,
         "2023-12",
         "2,72"
        ],
        [
         "16",
         null,
         null,
         "2023-11",
         "2,8"
        ],
        [
         "17",
         null,
         null,
         "2023-10",
         "3,12"
        ],
        [
         "18",
         null,
         null,
         "2023-09",
         "3,27"
        ],
        [
         "19",
         null,
         null,
         "2023-08",
         "3,52"
        ],
        [
         "20",
         null,
         null,
         "2023-07",
         "3,4"
        ],
        [
         "21",
         null,
         null,
         "2023-06",
         "3,14"
        ],
        [
         "22",
         null,
         null,
         "2023-05",
         "3,04"
        ],
        [
         "23",
         null,
         null,
         "2023-04",
         "2,85"
        ],
        [
         "24",
         null,
         null,
         "2023-03",
         "2,8"
        ],
        [
         "25",
         null,
         null,
         "2023-02",
         "2,82"
        ],
        [
         "26",
         null,
         null,
         "2023-01",
         "2,88"
        ],
        [
         "27",
         null,
         null,
         "2022-12",
         "2,75"
        ],
        [
         "28",
         null,
         null,
         "2022-11",
         "2,81"
        ],
        [
         "29",
         null,
         null,
         "2022-10",
         "3,07"
        ],
        [
         "30",
         null,
         null,
         "2022-09",
         "3,26"
        ],
        [
         "31",
         null,
         null,
         "2022-08",
         "3,58"
        ],
        [
         "32",
         null,
         null,
         "2022-07",
         "3,43"
        ],
        [
         "33",
         null,
         null,
         "2022-06",
         "3,19"
        ],
        [
         "34",
         null,
         null,
         "2022-05",
         "3"
        ],
        [
         "35",
         null,
         null,
         "2022-04",
         "2,9"
        ],
        [
         "36",
         null,
         null,
         "2022-03",
         "2,91"
        ],
        [
         "37",
         null,
         null,
         "2022-02",
         "2,65"
        ],
        [
         "38",
         null,
         null,
         "2022-01",
         "2,81"
        ],
        [
         "39",
         null,
         null,
         "2021-12",
         "2,71"
        ],
        [
         "40",
         null,
         null,
         "2021-11",
         "2,77"
        ],
        [
         "41",
         null,
         null,
         "2021-10",
         "2,94"
        ],
        [
         "42",
         null,
         null,
         "2021-09",
         "3,11"
        ],
        [
         "43",
         null,
         null,
         "2021-08",
         "3,31"
        ],
        [
         "44",
         null,
         null,
         "2021-07",
         "3,08"
        ],
        [
         "45",
         null,
         null,
         "2021-06",
         "2,51"
        ],
        [
         "46",
         null,
         null,
         "2021-05",
         "2,16"
        ],
        [
         "47",
         null,
         null,
         "2021-04",
         "2,12"
        ],
        [
         "48",
         null,
         null,
         "2021-03",
         "2,03"
        ],
        [
         "49",
         null,
         null,
         "2021-02",
         "2,07"
        ]
       ],
       "shape": {
        "columns": 4,
        "rows": 19845
       }
      },
      "text/html": [
       "<div>\n",
       "<style scoped>\n",
       "    .dataframe tbody tr th:only-of-type {\n",
       "        vertical-align: middle;\n",
       "    }\n",
       "\n",
       "    .dataframe tbody tr th {\n",
       "        vertical-align: top;\n",
       "    }\n",
       "\n",
       "    .dataframe thead th {\n",
       "        text-align: right;\n",
       "    }\n",
       "</style>\n",
       "<table border=\"1\" class=\"dataframe\">\n",
       "  <thead>\n",
       "    <tr style=\"text-align: right;\">\n",
       "      <th></th>\n",
       "      <th>Comunidades y Ciudades Autónomas</th>\n",
       "      <th>Provincias</th>\n",
       "      <th>Periodo</th>\n",
       "      <th>Total</th>\n",
       "    </tr>\n",
       "  </thead>\n",
       "  <tbody>\n",
       "    <tr>\n",
       "      <th>0</th>\n",
       "      <td>NaN</td>\n",
       "      <td>NaN</td>\n",
       "      <td>2025-03</td>\n",
       "      <td>2,91</td>\n",
       "    </tr>\n",
       "    <tr>\n",
       "      <th>1</th>\n",
       "      <td>NaN</td>\n",
       "      <td>NaN</td>\n",
       "      <td>2025-02</td>\n",
       "      <td>2,82</td>\n",
       "    </tr>\n",
       "    <tr>\n",
       "      <th>2</th>\n",
       "      <td>NaN</td>\n",
       "      <td>NaN</td>\n",
       "      <td>2025-01</td>\n",
       "      <td>2,93</td>\n",
       "    </tr>\n",
       "    <tr>\n",
       "      <th>3</th>\n",
       "      <td>NaN</td>\n",
       "      <td>NaN</td>\n",
       "      <td>2024-12</td>\n",
       "      <td>2,75</td>\n",
       "    </tr>\n",
       "    <tr>\n",
       "      <th>4</th>\n",
       "      <td>NaN</td>\n",
       "      <td>NaN</td>\n",
       "      <td>2024-11</td>\n",
       "      <td>2,8</td>\n",
       "    </tr>\n",
       "    <tr>\n",
       "      <th>...</th>\n",
       "      <td>...</td>\n",
       "      <td>...</td>\n",
       "      <td>...</td>\n",
       "      <td>...</td>\n",
       "    </tr>\n",
       "    <tr>\n",
       "      <th>19840</th>\n",
       "      <td>19 Melilla</td>\n",
       "      <td>NaN</td>\n",
       "      <td>1999-05</td>\n",
       "      <td>3,3</td>\n",
       "    </tr>\n",
       "    <tr>\n",
       "      <th>19841</th>\n",
       "      <td>19 Melilla</td>\n",
       "      <td>NaN</td>\n",
       "      <td>1999-04</td>\n",
       "      <td>4,4</td>\n",
       "    </tr>\n",
       "    <tr>\n",
       "      <th>19842</th>\n",
       "      <td>19 Melilla</td>\n",
       "      <td>NaN</td>\n",
       "      <td>1999-03</td>\n",
       "      <td>3,7</td>\n",
       "    </tr>\n",
       "    <tr>\n",
       "      <th>19843</th>\n",
       "      <td>19 Melilla</td>\n",
       "      <td>NaN</td>\n",
       "      <td>1999-02</td>\n",
       "      <td>3</td>\n",
       "    </tr>\n",
       "    <tr>\n",
       "      <th>19844</th>\n",
       "      <td>19 Melilla</td>\n",
       "      <td>NaN</td>\n",
       "      <td>1999-01</td>\n",
       "      <td>4,5</td>\n",
       "    </tr>\n",
       "  </tbody>\n",
       "</table>\n",
       "<p>19845 rows × 4 columns</p>\n",
       "</div>"
      ],
      "text/plain": [
       "      Comunidades y Ciudades Autónomas Provincias  Periodo Total\n",
       "0                                  NaN        NaN  2025-03  2,91\n",
       "1                                  NaN        NaN  2025-02  2,82\n",
       "2                                  NaN        NaN  2025-01  2,93\n",
       "3                                  NaN        NaN  2024-12  2,75\n",
       "4                                  NaN        NaN  2024-11   2,8\n",
       "...                                ...        ...      ...   ...\n",
       "19840                       19 Melilla        NaN  1999-05   3,3\n",
       "19841                       19 Melilla        NaN  1999-04   4,4\n",
       "19842                       19 Melilla        NaN  1999-03   3,7\n",
       "19843                       19 Melilla        NaN  1999-02     3\n",
       "19844                       19 Melilla        NaN  1999-01   4,5\n",
       "\n",
       "[19845 rows x 4 columns]"
      ]
     },
     "execution_count": 54,
     "metadata": {},
     "output_type": "execute_result"
    }
   ],
   "source": [
    "df_Media_CA_Pro"
   ]
  },
  {
   "cell_type": "code",
   "execution_count": 55,
   "id": "c4dd6c0a",
   "metadata": {},
   "outputs": [
    {
     "data": {
      "text/plain": [
       "array([nan, '04 Almería', '11 Cádiz', '14 Córdoba', '18 Granada',\n",
       "       '21 Huelva', '23 Jaén', '29 Málaga', '41 Sevilla', '22 Huesca',\n",
       "       '44 Teruel', '50 Zaragoza', '35 Palmas, Las',\n",
       "       '38 Santa Cruz de Tenerife', '05 Ávila', '09 Burgos', '24 León',\n",
       "       '34 Palencia', '37 Salamanca', '40 Segovia', '42 Soria',\n",
       "       '47 Valladolid', '49 Zamora', '02 Albacete', '13 Ciudad Real',\n",
       "       '16 Cuenca', '19 Guadalajara', '45 Toledo', '08 Barcelona',\n",
       "       '17 Girona', '25 Lleida', '43 Tarragona', '03 Alicante/Alacant',\n",
       "       '12 Castellón/Castelló', '46 Valencia/València', '06 Badajoz',\n",
       "       '10 Cáceres', '15 Coruña, A', '27 Lugo', '32 Ourense',\n",
       "       '36 Pontevedra', '01 Araba/Álava', '48 Bizkaia', '20 Gipuzkoa'],\n",
       "      dtype=object)"
      ]
     },
     "execution_count": 55,
     "metadata": {},
     "output_type": "execute_result"
    }
   ],
   "source": [
    "df_Media_CA_Pro['Provincias'].unique()"
   ]
  },
  {
   "cell_type": "code",
   "execution_count": 56,
   "id": "12c09508",
   "metadata": {},
   "outputs": [
    {
     "name": "stdout",
     "output_type": "stream",
     "text": [
      "<class 'pandas.core.frame.DataFrame'>\n",
      "RangeIndex: 19845 entries, 0 to 19844\n",
      "Data columns (total 4 columns):\n",
      " #   Column                            Non-Null Count  Dtype    \n",
      "---  ------                            --------------  -----    \n",
      " 0   Comunidades y Ciudades Autónomas  19530 non-null  object   \n",
      " 1   Provincias                        13545 non-null  object   \n",
      " 2   Periodo                           19845 non-null  period[M]\n",
      " 3   Total                             19844 non-null  object   \n",
      "dtypes: object(3), period[M](1)\n",
      "memory usage: 620.3+ KB\n"
     ]
    }
   ],
   "source": [
    "df_Media_CA_Pro.info()"
   ]
  },
  {
   "cell_type": "code",
   "execution_count": 57,
   "id": "f8df32f3",
   "metadata": {},
   "outputs": [],
   "source": [
    "df_Media_CA_Pro['Total'] = df_Media_CA_Pro['Total'].str.replace(',', '.')\n",
    "df_Media_CA_Pro['Total'] = pd.to_numeric(df_Media_CA_Pro['Total'], errors='coerce')\n",
    "\n"
   ]
  },
  {
   "cell_type": "code",
   "execution_count": 58,
   "id": "21c3e518",
   "metadata": {},
   "outputs": [
    {
     "data": {
      "application/vnd.microsoft.datawrangler.viewer.v0+json": {
       "columns": [
        {
         "name": "index",
         "rawType": "int64",
         "type": "integer"
        },
        {
         "name": "Comunidades y Ciudades Autónomas",
         "rawType": "object",
         "type": "unknown"
        },
        {
         "name": "Provincias",
         "rawType": "object",
         "type": "unknown"
        },
        {
         "name": "Periodo",
         "rawType": "period[M]",
         "type": "unknown"
        },
        {
         "name": "Total",
         "rawType": "float64",
         "type": "float"
        }
       ],
       "conversionMethod": "pd.DataFrame",
       "ref": "6a1718de-a371-4b4a-ac3f-82348e57be05",
       "rows": [
        [
         "0",
         null,
         null,
         "2025-03",
         "2.91"
        ],
        [
         "1",
         null,
         null,
         "2025-02",
         "2.82"
        ],
        [
         "2",
         null,
         null,
         "2025-01",
         "2.93"
        ],
        [
         "3",
         null,
         null,
         "2024-12",
         "2.75"
        ],
        [
         "4",
         null,
         null,
         "2024-11",
         "2.8"
        ],
        [
         "5",
         null,
         null,
         "2024-10",
         "3.15"
        ],
        [
         "6",
         null,
         null,
         "2024-09",
         "3.3"
        ],
        [
         "7",
         null,
         null,
         "2024-08",
         "3.53"
        ],
        [
         "8",
         null,
         null,
         "2024-07",
         "3.47"
        ],
        [
         "9",
         null,
         null,
         "2024-06",
         "3.21"
        ],
        [
         "10",
         null,
         null,
         "2024-05",
         "3.04"
        ],
        [
         "11",
         null,
         null,
         "2024-04",
         "2.89"
        ],
        [
         "12",
         null,
         null,
         "2024-03",
         "2.91"
        ],
        [
         "13",
         null,
         null,
         "2024-02",
         "2.85"
        ],
        [
         "14",
         null,
         null,
         "2024-01",
         "2.91"
        ],
        [
         "15",
         null,
         null,
         "2023-12",
         "2.72"
        ],
        [
         "16",
         null,
         null,
         "2023-11",
         "2.8"
        ],
        [
         "17",
         null,
         null,
         "2023-10",
         "3.12"
        ],
        [
         "18",
         null,
         null,
         "2023-09",
         "3.27"
        ],
        [
         "19",
         null,
         null,
         "2023-08",
         "3.52"
        ],
        [
         "20",
         null,
         null,
         "2023-07",
         "3.4"
        ],
        [
         "21",
         null,
         null,
         "2023-06",
         "3.14"
        ],
        [
         "22",
         null,
         null,
         "2023-05",
         "3.04"
        ],
        [
         "23",
         null,
         null,
         "2023-04",
         "2.85"
        ],
        [
         "24",
         null,
         null,
         "2023-03",
         "2.8"
        ],
        [
         "25",
         null,
         null,
         "2023-02",
         "2.82"
        ],
        [
         "26",
         null,
         null,
         "2023-01",
         "2.88"
        ],
        [
         "27",
         null,
         null,
         "2022-12",
         "2.75"
        ],
        [
         "28",
         null,
         null,
         "2022-11",
         "2.81"
        ],
        [
         "29",
         null,
         null,
         "2022-10",
         "3.07"
        ],
        [
         "30",
         null,
         null,
         "2022-09",
         "3.26"
        ],
        [
         "31",
         null,
         null,
         "2022-08",
         "3.58"
        ],
        [
         "32",
         null,
         null,
         "2022-07",
         "3.43"
        ],
        [
         "33",
         null,
         null,
         "2022-06",
         "3.19"
        ],
        [
         "34",
         null,
         null,
         "2022-05",
         "3.0"
        ],
        [
         "35",
         null,
         null,
         "2022-04",
         "2.9"
        ],
        [
         "36",
         null,
         null,
         "2022-03",
         "2.91"
        ],
        [
         "37",
         null,
         null,
         "2022-02",
         "2.65"
        ],
        [
         "38",
         null,
         null,
         "2022-01",
         "2.81"
        ],
        [
         "39",
         null,
         null,
         "2021-12",
         "2.71"
        ],
        [
         "40",
         null,
         null,
         "2021-11",
         "2.77"
        ],
        [
         "41",
         null,
         null,
         "2021-10",
         "2.94"
        ],
        [
         "42",
         null,
         null,
         "2021-09",
         "3.11"
        ],
        [
         "43",
         null,
         null,
         "2021-08",
         "3.31"
        ],
        [
         "44",
         null,
         null,
         "2021-07",
         "3.08"
        ],
        [
         "45",
         null,
         null,
         "2021-06",
         "2.51"
        ],
        [
         "46",
         null,
         null,
         "2021-05",
         "2.16"
        ],
        [
         "47",
         null,
         null,
         "2021-04",
         "2.12"
        ],
        [
         "48",
         null,
         null,
         "2021-03",
         "2.03"
        ],
        [
         "49",
         null,
         null,
         "2021-02",
         "2.07"
        ]
       ],
       "shape": {
        "columns": 4,
        "rows": 19845
       }
      },
      "text/html": [
       "<div>\n",
       "<style scoped>\n",
       "    .dataframe tbody tr th:only-of-type {\n",
       "        vertical-align: middle;\n",
       "    }\n",
       "\n",
       "    .dataframe tbody tr th {\n",
       "        vertical-align: top;\n",
       "    }\n",
       "\n",
       "    .dataframe thead th {\n",
       "        text-align: right;\n",
       "    }\n",
       "</style>\n",
       "<table border=\"1\" class=\"dataframe\">\n",
       "  <thead>\n",
       "    <tr style=\"text-align: right;\">\n",
       "      <th></th>\n",
       "      <th>Comunidades y Ciudades Autónomas</th>\n",
       "      <th>Provincias</th>\n",
       "      <th>Periodo</th>\n",
       "      <th>Total</th>\n",
       "    </tr>\n",
       "  </thead>\n",
       "  <tbody>\n",
       "    <tr>\n",
       "      <th>0</th>\n",
       "      <td>NaN</td>\n",
       "      <td>NaN</td>\n",
       "      <td>2025-03</td>\n",
       "      <td>2.91</td>\n",
       "    </tr>\n",
       "    <tr>\n",
       "      <th>1</th>\n",
       "      <td>NaN</td>\n",
       "      <td>NaN</td>\n",
       "      <td>2025-02</td>\n",
       "      <td>2.82</td>\n",
       "    </tr>\n",
       "    <tr>\n",
       "      <th>2</th>\n",
       "      <td>NaN</td>\n",
       "      <td>NaN</td>\n",
       "      <td>2025-01</td>\n",
       "      <td>2.93</td>\n",
       "    </tr>\n",
       "    <tr>\n",
       "      <th>3</th>\n",
       "      <td>NaN</td>\n",
       "      <td>NaN</td>\n",
       "      <td>2024-12</td>\n",
       "      <td>2.75</td>\n",
       "    </tr>\n",
       "    <tr>\n",
       "      <th>4</th>\n",
       "      <td>NaN</td>\n",
       "      <td>NaN</td>\n",
       "      <td>2024-11</td>\n",
       "      <td>2.80</td>\n",
       "    </tr>\n",
       "    <tr>\n",
       "      <th>...</th>\n",
       "      <td>...</td>\n",
       "      <td>...</td>\n",
       "      <td>...</td>\n",
       "      <td>...</td>\n",
       "    </tr>\n",
       "    <tr>\n",
       "      <th>19840</th>\n",
       "      <td>19 Melilla</td>\n",
       "      <td>NaN</td>\n",
       "      <td>1999-05</td>\n",
       "      <td>3.30</td>\n",
       "    </tr>\n",
       "    <tr>\n",
       "      <th>19841</th>\n",
       "      <td>19 Melilla</td>\n",
       "      <td>NaN</td>\n",
       "      <td>1999-04</td>\n",
       "      <td>4.40</td>\n",
       "    </tr>\n",
       "    <tr>\n",
       "      <th>19842</th>\n",
       "      <td>19 Melilla</td>\n",
       "      <td>NaN</td>\n",
       "      <td>1999-03</td>\n",
       "      <td>3.70</td>\n",
       "    </tr>\n",
       "    <tr>\n",
       "      <th>19843</th>\n",
       "      <td>19 Melilla</td>\n",
       "      <td>NaN</td>\n",
       "      <td>1999-02</td>\n",
       "      <td>3.00</td>\n",
       "    </tr>\n",
       "    <tr>\n",
       "      <th>19844</th>\n",
       "      <td>19 Melilla</td>\n",
       "      <td>NaN</td>\n",
       "      <td>1999-01</td>\n",
       "      <td>4.50</td>\n",
       "    </tr>\n",
       "  </tbody>\n",
       "</table>\n",
       "<p>19845 rows × 4 columns</p>\n",
       "</div>"
      ],
      "text/plain": [
       "      Comunidades y Ciudades Autónomas Provincias  Periodo  Total\n",
       "0                                  NaN        NaN  2025-03   2.91\n",
       "1                                  NaN        NaN  2025-02   2.82\n",
       "2                                  NaN        NaN  2025-01   2.93\n",
       "3                                  NaN        NaN  2024-12   2.75\n",
       "4                                  NaN        NaN  2024-11   2.80\n",
       "...                                ...        ...      ...    ...\n",
       "19840                       19 Melilla        NaN  1999-05   3.30\n",
       "19841                       19 Melilla        NaN  1999-04   4.40\n",
       "19842                       19 Melilla        NaN  1999-03   3.70\n",
       "19843                       19 Melilla        NaN  1999-02   3.00\n",
       "19844                       19 Melilla        NaN  1999-01   4.50\n",
       "\n",
       "[19845 rows x 4 columns]"
      ]
     },
     "execution_count": 58,
     "metadata": {},
     "output_type": "execute_result"
    }
   ],
   "source": [
    "df_Media_CA_Pro"
   ]
  },
  {
   "cell_type": "code",
   "execution_count": 59,
   "id": "046ba9ad",
   "metadata": {},
   "outputs": [
    {
     "data": {
      "application/vnd.microsoft.datawrangler.viewer.v0+json": {
       "columns": [
        {
         "name": "index",
         "rawType": "int64",
         "type": "integer"
        },
        {
         "name": "Comunidades y Ciudades Autónomas",
         "rawType": "object",
         "type": "string"
        },
        {
         "name": "Provincias",
         "rawType": "object",
         "type": "unknown"
        },
        {
         "name": "Periodo",
         "rawType": "period[M]",
         "type": "unknown"
        },
        {
         "name": "Total",
         "rawType": "float64",
         "type": "float"
        }
       ],
       "conversionMethod": "pd.DataFrame",
       "ref": "808deee0-9604-4f10-8711-5157f1007159",
       "rows": [
        [
         "6672",
         "07 Castilla y León",
         "05 Ávila",
         "2020-06",
         null
        ],
        [
         "6673",
         "07 Castilla y León",
         "05 Ávila",
         "2020-05",
         null
        ],
        [
         "7302",
         "07 Castilla y León",
         "24 León",
         "2020-06",
         null
        ],
        [
         "7303",
         "07 Castilla y León",
         "24 León",
         "2020-05",
         null
        ],
        [
         "7617",
         "07 Castilla y León",
         "34 Palencia",
         "2020-06",
         null
        ],
        [
         "7618",
         "07 Castilla y León",
         "34 Palencia",
         "2020-05",
         null
        ],
        [
         "8247",
         "07 Castilla y León",
         "40 Segovia",
         "2020-06",
         null
        ],
        [
         "8248",
         "07 Castilla y León",
         "40 Segovia",
         "2020-05",
         null
        ],
        [
         "9192",
         "07 Castilla y León",
         "49 Zamora",
         "2020-06",
         null
        ],
        [
         "9193",
         "07 Castilla y León",
         "49 Zamora",
         "2020-05",
         null
        ],
        [
         "19272",
         "18 Ceuta",
         null,
         "2020-06",
         null
        ],
        [
         "19273",
         "18 Ceuta",
         null,
         "2020-05",
         null
        ],
        [
         "19587",
         "19 Melilla",
         null,
         "2020-06",
         null
        ],
        [
         "19588",
         "19 Melilla",
         null,
         "2020-05",
         null
        ]
       ],
       "shape": {
        "columns": 4,
        "rows": 14
       }
      },
      "text/html": [
       "<div>\n",
       "<style scoped>\n",
       "    .dataframe tbody tr th:only-of-type {\n",
       "        vertical-align: middle;\n",
       "    }\n",
       "\n",
       "    .dataframe tbody tr th {\n",
       "        vertical-align: top;\n",
       "    }\n",
       "\n",
       "    .dataframe thead th {\n",
       "        text-align: right;\n",
       "    }\n",
       "</style>\n",
       "<table border=\"1\" class=\"dataframe\">\n",
       "  <thead>\n",
       "    <tr style=\"text-align: right;\">\n",
       "      <th></th>\n",
       "      <th>Comunidades y Ciudades Autónomas</th>\n",
       "      <th>Provincias</th>\n",
       "      <th>Periodo</th>\n",
       "      <th>Total</th>\n",
       "    </tr>\n",
       "  </thead>\n",
       "  <tbody>\n",
       "    <tr>\n",
       "      <th>6672</th>\n",
       "      <td>07 Castilla y León</td>\n",
       "      <td>05 Ávila</td>\n",
       "      <td>2020-06</td>\n",
       "      <td>NaN</td>\n",
       "    </tr>\n",
       "    <tr>\n",
       "      <th>6673</th>\n",
       "      <td>07 Castilla y León</td>\n",
       "      <td>05 Ávila</td>\n",
       "      <td>2020-05</td>\n",
       "      <td>NaN</td>\n",
       "    </tr>\n",
       "    <tr>\n",
       "      <th>7302</th>\n",
       "      <td>07 Castilla y León</td>\n",
       "      <td>24 León</td>\n",
       "      <td>2020-06</td>\n",
       "      <td>NaN</td>\n",
       "    </tr>\n",
       "    <tr>\n",
       "      <th>7303</th>\n",
       "      <td>07 Castilla y León</td>\n",
       "      <td>24 León</td>\n",
       "      <td>2020-05</td>\n",
       "      <td>NaN</td>\n",
       "    </tr>\n",
       "    <tr>\n",
       "      <th>7617</th>\n",
       "      <td>07 Castilla y León</td>\n",
       "      <td>34 Palencia</td>\n",
       "      <td>2020-06</td>\n",
       "      <td>NaN</td>\n",
       "    </tr>\n",
       "    <tr>\n",
       "      <th>7618</th>\n",
       "      <td>07 Castilla y León</td>\n",
       "      <td>34 Palencia</td>\n",
       "      <td>2020-05</td>\n",
       "      <td>NaN</td>\n",
       "    </tr>\n",
       "    <tr>\n",
       "      <th>8247</th>\n",
       "      <td>07 Castilla y León</td>\n",
       "      <td>40 Segovia</td>\n",
       "      <td>2020-06</td>\n",
       "      <td>NaN</td>\n",
       "    </tr>\n",
       "    <tr>\n",
       "      <th>8248</th>\n",
       "      <td>07 Castilla y León</td>\n",
       "      <td>40 Segovia</td>\n",
       "      <td>2020-05</td>\n",
       "      <td>NaN</td>\n",
       "    </tr>\n",
       "    <tr>\n",
       "      <th>9192</th>\n",
       "      <td>07 Castilla y León</td>\n",
       "      <td>49 Zamora</td>\n",
       "      <td>2020-06</td>\n",
       "      <td>NaN</td>\n",
       "    </tr>\n",
       "    <tr>\n",
       "      <th>9193</th>\n",
       "      <td>07 Castilla y León</td>\n",
       "      <td>49 Zamora</td>\n",
       "      <td>2020-05</td>\n",
       "      <td>NaN</td>\n",
       "    </tr>\n",
       "    <tr>\n",
       "      <th>19272</th>\n",
       "      <td>18 Ceuta</td>\n",
       "      <td>NaN</td>\n",
       "      <td>2020-06</td>\n",
       "      <td>NaN</td>\n",
       "    </tr>\n",
       "    <tr>\n",
       "      <th>19273</th>\n",
       "      <td>18 Ceuta</td>\n",
       "      <td>NaN</td>\n",
       "      <td>2020-05</td>\n",
       "      <td>NaN</td>\n",
       "    </tr>\n",
       "    <tr>\n",
       "      <th>19587</th>\n",
       "      <td>19 Melilla</td>\n",
       "      <td>NaN</td>\n",
       "      <td>2020-06</td>\n",
       "      <td>NaN</td>\n",
       "    </tr>\n",
       "    <tr>\n",
       "      <th>19588</th>\n",
       "      <td>19 Melilla</td>\n",
       "      <td>NaN</td>\n",
       "      <td>2020-05</td>\n",
       "      <td>NaN</td>\n",
       "    </tr>\n",
       "  </tbody>\n",
       "</table>\n",
       "</div>"
      ],
      "text/plain": [
       "      Comunidades y Ciudades Autónomas   Provincias  Periodo  Total\n",
       "6672                07 Castilla y León     05 Ávila  2020-06    NaN\n",
       "6673                07 Castilla y León     05 Ávila  2020-05    NaN\n",
       "7302                07 Castilla y León      24 León  2020-06    NaN\n",
       "7303                07 Castilla y León      24 León  2020-05    NaN\n",
       "7617                07 Castilla y León  34 Palencia  2020-06    NaN\n",
       "7618                07 Castilla y León  34 Palencia  2020-05    NaN\n",
       "8247                07 Castilla y León   40 Segovia  2020-06    NaN\n",
       "8248                07 Castilla y León   40 Segovia  2020-05    NaN\n",
       "9192                07 Castilla y León    49 Zamora  2020-06    NaN\n",
       "9193                07 Castilla y León    49 Zamora  2020-05    NaN\n",
       "19272                         18 Ceuta          NaN  2020-06    NaN\n",
       "19273                         18 Ceuta          NaN  2020-05    NaN\n",
       "19587                       19 Melilla          NaN  2020-06    NaN\n",
       "19588                       19 Melilla          NaN  2020-05    NaN"
      ]
     },
     "execution_count": 59,
     "metadata": {},
     "output_type": "execute_result"
    }
   ],
   "source": [
    "df_Media_CA_Pro[df_Media_CA_Pro['Total'].isna()]"
   ]
  },
  {
   "cell_type": "markdown",
   "id": "0b878da0",
   "metadata": {},
   "source": [
    "# Viajeros y pernoctaciones según país de residencia del viajero"
   ]
  },
  {
   "cell_type": "code",
   "execution_count": 60,
   "id": "7baf93bb",
   "metadata": {},
   "outputs": [],
   "source": [
    "df_Pais_Residencia = pd.read_csv(r\"../Data\\2038.csv\", sep='\\t') #Viajeros y pernoctaciones según país de residencia del viajero"
   ]
  },
  {
   "cell_type": "code",
   "execution_count": 61,
   "id": "d0f4dd56",
   "metadata": {},
   "outputs": [
    {
     "data": {
      "text/plain": [
       "array(['Total', 'Residentes en España', 'Residentes en el Extranjero',\n",
       "       'Alemania', 'Austria', 'Bélgica', 'Dinamarca', 'Finlandia',\n",
       "       'Francia', 'Grecia', 'Irlanda', 'Italia', 'Luxemburgo',\n",
       "       'Países Bajos', 'Polonia', 'Portugal', 'República Checa', 'Suecia',\n",
       "       'Resto de la U.E.', 'Noruega', 'Reino Unido', 'Rusia', 'Suiza',\n",
       "       'Otros Países Europeos', 'África', 'UE28 sin España',\n",
       "       'UE27_2020 sin España', 'Resto del Mundo', 'América (sin EEUU)',\n",
       "       'Estados Unidos de América', 'Japón', 'Asia (sin Japón)'],\n",
       "      dtype=object)"
      ]
     },
     "execution_count": 61,
     "metadata": {},
     "output_type": "execute_result"
    }
   ],
   "source": [
    "df_Pais_Residencia['Países'].unique()"
   ]
  },
  {
   "cell_type": "code",
   "execution_count": 62,
   "id": "88235302",
   "metadata": {},
   "outputs": [
    {
     "name": "stdout",
     "output_type": "stream",
     "text": [
      "<class 'pandas.core.frame.DataFrame'>\n",
      "RangeIndex: 20160 entries, 0 to 20159\n",
      "Data columns (total 4 columns):\n",
      " #   Column                     Non-Null Count  Dtype \n",
      "---  ------                     --------------  ----- \n",
      " 0   Países                     20160 non-null  object\n",
      " 1   Viajeros y pernoctaciones  20160 non-null  object\n",
      " 2   Periodo                    20160 non-null  object\n",
      " 3   Total                      19022 non-null  object\n",
      "dtypes: object(4)\n",
      "memory usage: 630.1+ KB\n"
     ]
    }
   ],
   "source": [
    "df_Pais_Residencia.info()"
   ]
  },
  {
   "cell_type": "code",
   "execution_count": 63,
   "id": "c6d209e8",
   "metadata": {},
   "outputs": [],
   "source": [
    "df_Pais_Residencia['Periodo'] = pd.to_datetime(df_Pais_Residencia['Periodo'].str.replace('M', '-'), format='%Y-%m').dt.to_period('M')"
   ]
  },
  {
   "cell_type": "code",
   "execution_count": 64,
   "id": "bb996bd6",
   "metadata": {},
   "outputs": [],
   "source": [
    "df_Pais_Residencia['Total'] = df_Pais_Residencia['Total'].str.replace('.', '')  # Elimina los separadores de miles\n",
    "df_Pais_Residencia['Total'] = df_Pais_Residencia['Total'].str.replace(',', '.')  # Convierte los decimales\n",
    "df_Pais_Residencia['Total'] = pd.to_numeric(df_Pais_Residencia['Total'], errors='coerce')  # Convierte a float\n"
   ]
  },
  {
   "cell_type": "code",
   "execution_count": 65,
   "id": "75bade3d",
   "metadata": {},
   "outputs": [
    {
     "data": {
      "application/vnd.microsoft.datawrangler.viewer.v0+json": {
       "columns": [
        {
         "name": "index",
         "rawType": "int64",
         "type": "integer"
        },
        {
         "name": "Países",
         "rawType": "object",
         "type": "string"
        },
        {
         "name": "Viajeros y pernoctaciones",
         "rawType": "object",
         "type": "string"
        },
        {
         "name": "Periodo",
         "rawType": "period[M]",
         "type": "unknown"
        },
        {
         "name": "Total",
         "rawType": "float64",
         "type": "float"
        }
       ],
       "conversionMethod": "pd.DataFrame",
       "ref": "67d3dea9-afbf-4c54-957a-329299f57c41",
       "rows": [
        [
         "0",
         "Total",
         "Viajero",
         "2025-03",
         "7680722.0"
        ],
        [
         "1",
         "Total",
         "Viajero",
         "2025-02",
         "6539960.0"
        ],
        [
         "2",
         "Total",
         "Viajero",
         "2025-01",
         "5776075.0"
        ],
        [
         "3",
         "Total",
         "Viajero",
         "2024-12",
         "6553489.0"
        ],
        [
         "4",
         "Total",
         "Viajero",
         "2024-11",
         "7171221.0"
        ],
        [
         "5",
         "Total",
         "Viajero",
         "2024-10",
         "10774309.0"
        ],
        [
         "6",
         "Total",
         "Viajero",
         "2024-09",
         "11821379.0"
        ],
        [
         "7",
         "Total",
         "Viajero",
         "2024-08",
         "13586095.0"
        ],
        [
         "8",
         "Total",
         "Viajero",
         "2024-07",
         "12703213.0"
        ],
        [
         "9",
         "Total",
         "Viajero",
         "2024-06",
         "11905082.0"
        ],
        [
         "10",
         "Total",
         "Viajero",
         "2024-05",
         "11776729.0"
        ],
        [
         "11",
         "Total",
         "Viajero",
         "2024-04",
         "9394506.0"
        ],
        [
         "12",
         "Total",
         "Viajero",
         "2024-03",
         "8433226.0"
        ],
        [
         "13",
         "Total",
         "Viajero",
         "2024-02",
         "6512168.0"
        ],
        [
         "14",
         "Total",
         "Viajero",
         "2024-01",
         "5660859.0"
        ],
        [
         "15",
         "Total",
         "Viajero",
         "2023-12",
         "6586138.0"
        ],
        [
         "16",
         "Total",
         "Viajero",
         "2023-11",
         "6798815.0"
        ],
        [
         "17",
         "Total",
         "Viajero",
         "2023-10",
         "10390441.0"
        ],
        [
         "18",
         "Total",
         "Viajero",
         "2023-09",
         "11627872.0"
        ],
        [
         "19",
         "Total",
         "Viajero",
         "2023-08",
         "13266497.0"
        ],
        [
         "20",
         "Total",
         "Viajero",
         "2023-07",
         "12680483.0"
        ],
        [
         "21",
         "Total",
         "Viajero",
         "2023-06",
         "11535550.0"
        ],
        [
         "22",
         "Total",
         "Viajero",
         "2023-05",
         "10580202.0"
        ],
        [
         "23",
         "Total",
         "Viajero",
         "2023-04",
         "9829384.0"
        ],
        [
         "24",
         "Total",
         "Viajero",
         "2023-03",
         "7361364.0"
        ],
        [
         "25",
         "Total",
         "Viajero",
         "2023-02",
         "5967064.0"
        ],
        [
         "26",
         "Total",
         "Viajero",
         "2023-01",
         "5367962.0"
        ],
        [
         "27",
         "Total",
         "Viajero",
         "2022-12",
         "6054556.0"
        ],
        [
         "28",
         "Total",
         "Viajero",
         "2022-11",
         "6284698.0"
        ],
        [
         "29",
         "Total",
         "Viajero",
         "2022-10",
         "9743259.0"
        ],
        [
         "30",
         "Total",
         "Viajero",
         "2022-09",
         "11050305.0"
        ],
        [
         "31",
         "Total",
         "Viajero",
         "2022-08",
         "12889916.0"
        ],
        [
         "32",
         "Total",
         "Viajero",
         "2022-07",
         "12292936.0"
        ],
        [
         "33",
         "Total",
         "Viajero",
         "2022-06",
         "10990468.0"
        ],
        [
         "34",
         "Total",
         "Viajero",
         "2022-05",
         "9920671.0"
        ],
        [
         "35",
         "Total",
         "Viajero",
         "2022-04",
         "8689822.0"
        ],
        [
         "36",
         "Total",
         "Viajero",
         "2022-03",
         "6061398.0"
        ],
        [
         "37",
         "Total",
         "Viajero",
         "2022-02",
         "5133961.0"
        ],
        [
         "38",
         "Total",
         "Viajero",
         "2022-01",
         "3770578.0"
        ],
        [
         "39",
         "Total",
         "Viajero",
         "2021-12",
         "4881952.0"
        ],
        [
         "40",
         "Total",
         "Viajero",
         "2021-11",
         "5391958.0"
        ],
        [
         "41",
         "Total",
         "Viajero",
         "2021-10",
         "8131666.0"
        ],
        [
         "42",
         "Total",
         "Viajero",
         "2021-09",
         "8256057.0"
        ],
        [
         "43",
         "Total",
         "Viajero",
         "2021-08",
         "10408035.0"
        ],
        [
         "44",
         "Total",
         "Viajero",
         "2021-07",
         "8544001.0"
        ],
        [
         "45",
         "Total",
         "Viajero",
         "2021-06",
         "5676067.0"
        ],
        [
         "46",
         "Total",
         "Viajero",
         "2021-05",
         "3404118.0"
        ],
        [
         "47",
         "Total",
         "Viajero",
         "2021-04",
         "1955719.0"
        ],
        [
         "48",
         "Total",
         "Viajero",
         "2021-03",
         "1770722.0"
        ],
        [
         "49",
         "Total",
         "Viajero",
         "2021-02",
         "1179236.0"
        ]
       ],
       "shape": {
        "columns": 4,
        "rows": 20160
       }
      },
      "text/html": [
       "<div>\n",
       "<style scoped>\n",
       "    .dataframe tbody tr th:only-of-type {\n",
       "        vertical-align: middle;\n",
       "    }\n",
       "\n",
       "    .dataframe tbody tr th {\n",
       "        vertical-align: top;\n",
       "    }\n",
       "\n",
       "    .dataframe thead th {\n",
       "        text-align: right;\n",
       "    }\n",
       "</style>\n",
       "<table border=\"1\" class=\"dataframe\">\n",
       "  <thead>\n",
       "    <tr style=\"text-align: right;\">\n",
       "      <th></th>\n",
       "      <th>Países</th>\n",
       "      <th>Viajeros y pernoctaciones</th>\n",
       "      <th>Periodo</th>\n",
       "      <th>Total</th>\n",
       "    </tr>\n",
       "  </thead>\n",
       "  <tbody>\n",
       "    <tr>\n",
       "      <th>0</th>\n",
       "      <td>Total</td>\n",
       "      <td>Viajero</td>\n",
       "      <td>2025-03</td>\n",
       "      <td>7680722.0</td>\n",
       "    </tr>\n",
       "    <tr>\n",
       "      <th>1</th>\n",
       "      <td>Total</td>\n",
       "      <td>Viajero</td>\n",
       "      <td>2025-02</td>\n",
       "      <td>6539960.0</td>\n",
       "    </tr>\n",
       "    <tr>\n",
       "      <th>2</th>\n",
       "      <td>Total</td>\n",
       "      <td>Viajero</td>\n",
       "      <td>2025-01</td>\n",
       "      <td>5776075.0</td>\n",
       "    </tr>\n",
       "    <tr>\n",
       "      <th>3</th>\n",
       "      <td>Total</td>\n",
       "      <td>Viajero</td>\n",
       "      <td>2024-12</td>\n",
       "      <td>6553489.0</td>\n",
       "    </tr>\n",
       "    <tr>\n",
       "      <th>4</th>\n",
       "      <td>Total</td>\n",
       "      <td>Viajero</td>\n",
       "      <td>2024-11</td>\n",
       "      <td>7171221.0</td>\n",
       "    </tr>\n",
       "    <tr>\n",
       "      <th>...</th>\n",
       "      <td>...</td>\n",
       "      <td>...</td>\n",
       "      <td>...</td>\n",
       "      <td>...</td>\n",
       "    </tr>\n",
       "    <tr>\n",
       "      <th>20155</th>\n",
       "      <td>Asia (sin Japón)</td>\n",
       "      <td>Pernoctaciones</td>\n",
       "      <td>1999-05</td>\n",
       "      <td>25427.0</td>\n",
       "    </tr>\n",
       "    <tr>\n",
       "      <th>20156</th>\n",
       "      <td>Asia (sin Japón)</td>\n",
       "      <td>Pernoctaciones</td>\n",
       "      <td>1999-04</td>\n",
       "      <td>26878.0</td>\n",
       "    </tr>\n",
       "    <tr>\n",
       "      <th>20157</th>\n",
       "      <td>Asia (sin Japón)</td>\n",
       "      <td>Pernoctaciones</td>\n",
       "      <td>1999-03</td>\n",
       "      <td>24271.0</td>\n",
       "    </tr>\n",
       "    <tr>\n",
       "      <th>20158</th>\n",
       "      <td>Asia (sin Japón)</td>\n",
       "      <td>Pernoctaciones</td>\n",
       "      <td>1999-02</td>\n",
       "      <td>18530.0</td>\n",
       "    </tr>\n",
       "    <tr>\n",
       "      <th>20159</th>\n",
       "      <td>Asia (sin Japón)</td>\n",
       "      <td>Pernoctaciones</td>\n",
       "      <td>1999-01</td>\n",
       "      <td>13377.0</td>\n",
       "    </tr>\n",
       "  </tbody>\n",
       "</table>\n",
       "<p>20160 rows × 4 columns</p>\n",
       "</div>"
      ],
      "text/plain": [
       "                 Países Viajeros y pernoctaciones  Periodo      Total\n",
       "0                 Total                   Viajero  2025-03  7680722.0\n",
       "1                 Total                   Viajero  2025-02  6539960.0\n",
       "2                 Total                   Viajero  2025-01  5776075.0\n",
       "3                 Total                   Viajero  2024-12  6553489.0\n",
       "4                 Total                   Viajero  2024-11  7171221.0\n",
       "...                 ...                       ...      ...        ...\n",
       "20155  Asia (sin Japón)            Pernoctaciones  1999-05    25427.0\n",
       "20156  Asia (sin Japón)            Pernoctaciones  1999-04    26878.0\n",
       "20157  Asia (sin Japón)            Pernoctaciones  1999-03    24271.0\n",
       "20158  Asia (sin Japón)            Pernoctaciones  1999-02    18530.0\n",
       "20159  Asia (sin Japón)            Pernoctaciones  1999-01    13377.0\n",
       "\n",
       "[20160 rows x 4 columns]"
      ]
     },
     "execution_count": 65,
     "metadata": {},
     "output_type": "execute_result"
    }
   ],
   "source": [
    "df_Pais_Residencia"
   ]
  },
  {
   "cell_type": "code",
   "execution_count": 66,
   "id": "f03a83e0",
   "metadata": {},
   "outputs": [
    {
     "data": {
      "application/vnd.microsoft.datawrangler.viewer.v0+json": {
       "columns": [
        {
         "name": "index",
         "rawType": "int64",
         "type": "integer"
        },
        {
         "name": "Países",
         "rawType": "object",
         "type": "string"
        },
        {
         "name": "Viajeros y pernoctaciones",
         "rawType": "object",
         "type": "string"
        },
        {
         "name": "Periodo",
         "rawType": "period[M]",
         "type": "unknown"
        },
        {
         "name": "Total",
         "rawType": "float64",
         "type": "float"
        }
       ],
       "conversionMethod": "pd.DataFrame",
       "ref": "d5b2dd3d-a5ba-4aac-b2d0-a7db977f821c",
       "rows": [
        [
         "1947",
         "Alemania",
         "Viajero",
         "2020-06",
         null
        ],
        [
         "1948",
         "Alemania",
         "Viajero",
         "2020-05",
         null
        ],
        [
         "2262",
         "Alemania",
         "Pernoctaciones",
         "2020-06",
         null
        ],
        [
         "2263",
         "Alemania",
         "Pernoctaciones",
         "2020-05",
         null
        ],
        [
         "2577",
         "Austria",
         "Viajero",
         "2020-06",
         null
        ],
        [
         "2578",
         "Austria",
         "Viajero",
         "2020-05",
         null
        ],
        [
         "2892",
         "Austria",
         "Pernoctaciones",
         "2020-06",
         null
        ],
        [
         "2893",
         "Austria",
         "Pernoctaciones",
         "2020-05",
         null
        ],
        [
         "3207",
         "Bélgica",
         "Viajero",
         "2020-06",
         null
        ],
        [
         "3208",
         "Bélgica",
         "Viajero",
         "2020-05",
         null
        ],
        [
         "3522",
         "Bélgica",
         "Pernoctaciones",
         "2020-06",
         null
        ],
        [
         "3523",
         "Bélgica",
         "Pernoctaciones",
         "2020-05",
         null
        ],
        [
         "3837",
         "Dinamarca",
         "Viajero",
         "2020-06",
         null
        ],
        [
         "3838",
         "Dinamarca",
         "Viajero",
         "2020-05",
         null
        ],
        [
         "4152",
         "Dinamarca",
         "Pernoctaciones",
         "2020-06",
         null
        ],
        [
         "4153",
         "Dinamarca",
         "Pernoctaciones",
         "2020-05",
         null
        ],
        [
         "4467",
         "Finlandia",
         "Viajero",
         "2020-06",
         null
        ],
        [
         "4468",
         "Finlandia",
         "Viajero",
         "2020-05",
         null
        ],
        [
         "4782",
         "Finlandia",
         "Pernoctaciones",
         "2020-06",
         null
        ],
        [
         "4783",
         "Finlandia",
         "Pernoctaciones",
         "2020-05",
         null
        ],
        [
         "5097",
         "Francia",
         "Viajero",
         "2020-06",
         null
        ],
        [
         "5098",
         "Francia",
         "Viajero",
         "2020-05",
         null
        ],
        [
         "5412",
         "Francia",
         "Pernoctaciones",
         "2020-06",
         null
        ],
        [
         "5413",
         "Francia",
         "Pernoctaciones",
         "2020-05",
         null
        ],
        [
         "5727",
         "Grecia",
         "Viajero",
         "2020-06",
         null
        ],
        [
         "5728",
         "Grecia",
         "Viajero",
         "2020-05",
         null
        ],
        [
         "6042",
         "Grecia",
         "Pernoctaciones",
         "2020-06",
         null
        ],
        [
         "6043",
         "Grecia",
         "Pernoctaciones",
         "2020-05",
         null
        ],
        [
         "6357",
         "Irlanda",
         "Viajero",
         "2020-06",
         null
        ],
        [
         "6358",
         "Irlanda",
         "Viajero",
         "2020-05",
         null
        ],
        [
         "6672",
         "Irlanda",
         "Pernoctaciones",
         "2020-06",
         null
        ],
        [
         "6673",
         "Irlanda",
         "Pernoctaciones",
         "2020-05",
         null
        ],
        [
         "6987",
         "Italia",
         "Viajero",
         "2020-06",
         null
        ],
        [
         "6988",
         "Italia",
         "Viajero",
         "2020-05",
         null
        ],
        [
         "7302",
         "Italia",
         "Pernoctaciones",
         "2020-06",
         null
        ],
        [
         "7303",
         "Italia",
         "Pernoctaciones",
         "2020-05",
         null
        ],
        [
         "7617",
         "Luxemburgo",
         "Viajero",
         "2020-06",
         null
        ],
        [
         "7618",
         "Luxemburgo",
         "Viajero",
         "2020-05",
         null
        ],
        [
         "7932",
         "Luxemburgo",
         "Pernoctaciones",
         "2020-06",
         null
        ],
        [
         "7933",
         "Luxemburgo",
         "Pernoctaciones",
         "2020-05",
         null
        ],
        [
         "8247",
         "Países Bajos",
         "Viajero",
         "2020-06",
         null
        ],
        [
         "8248",
         "Países Bajos",
         "Viajero",
         "2020-05",
         null
        ],
        [
         "8562",
         "Países Bajos",
         "Pernoctaciones",
         "2020-06",
         null
        ],
        [
         "8563",
         "Países Bajos",
         "Pernoctaciones",
         "2020-05",
         null
        ],
        [
         "8877",
         "Polonia",
         "Viajero",
         "2020-06",
         null
        ],
        [
         "8878",
         "Polonia",
         "Viajero",
         "2020-05",
         null
        ],
        [
         "9192",
         "Polonia",
         "Pernoctaciones",
         "2020-06",
         null
        ],
        [
         "9193",
         "Polonia",
         "Pernoctaciones",
         "2020-05",
         null
        ],
        [
         "9507",
         "Portugal",
         "Viajero",
         "2020-06",
         null
        ],
        [
         "9508",
         "Portugal",
         "Viajero",
         "2020-05",
         null
        ]
       ],
       "shape": {
        "columns": 4,
        "rows": 1298
       }
      },
      "text/html": [
       "<div>\n",
       "<style scoped>\n",
       "    .dataframe tbody tr th:only-of-type {\n",
       "        vertical-align: middle;\n",
       "    }\n",
       "\n",
       "    .dataframe tbody tr th {\n",
       "        vertical-align: top;\n",
       "    }\n",
       "\n",
       "    .dataframe thead th {\n",
       "        text-align: right;\n",
       "    }\n",
       "</style>\n",
       "<table border=\"1\" class=\"dataframe\">\n",
       "  <thead>\n",
       "    <tr style=\"text-align: right;\">\n",
       "      <th></th>\n",
       "      <th>Países</th>\n",
       "      <th>Viajeros y pernoctaciones</th>\n",
       "      <th>Periodo</th>\n",
       "      <th>Total</th>\n",
       "    </tr>\n",
       "  </thead>\n",
       "  <tbody>\n",
       "    <tr>\n",
       "      <th>1947</th>\n",
       "      <td>Alemania</td>\n",
       "      <td>Viajero</td>\n",
       "      <td>2020-06</td>\n",
       "      <td>NaN</td>\n",
       "    </tr>\n",
       "    <tr>\n",
       "      <th>1948</th>\n",
       "      <td>Alemania</td>\n",
       "      <td>Viajero</td>\n",
       "      <td>2020-05</td>\n",
       "      <td>NaN</td>\n",
       "    </tr>\n",
       "    <tr>\n",
       "      <th>2262</th>\n",
       "      <td>Alemania</td>\n",
       "      <td>Pernoctaciones</td>\n",
       "      <td>2020-06</td>\n",
       "      <td>NaN</td>\n",
       "    </tr>\n",
       "    <tr>\n",
       "      <th>2263</th>\n",
       "      <td>Alemania</td>\n",
       "      <td>Pernoctaciones</td>\n",
       "      <td>2020-05</td>\n",
       "      <td>NaN</td>\n",
       "    </tr>\n",
       "    <tr>\n",
       "      <th>2577</th>\n",
       "      <td>Austria</td>\n",
       "      <td>Viajero</td>\n",
       "      <td>2020-06</td>\n",
       "      <td>NaN</td>\n",
       "    </tr>\n",
       "    <tr>\n",
       "      <th>...</th>\n",
       "      <td>...</td>\n",
       "      <td>...</td>\n",
       "      <td>...</td>\n",
       "      <td>...</td>\n",
       "    </tr>\n",
       "    <tr>\n",
       "      <th>20083</th>\n",
       "      <td>Asia (sin Japón)</td>\n",
       "      <td>Pernoctaciones</td>\n",
       "      <td>2005-05</td>\n",
       "      <td>NaN</td>\n",
       "    </tr>\n",
       "    <tr>\n",
       "      <th>20084</th>\n",
       "      <td>Asia (sin Japón)</td>\n",
       "      <td>Pernoctaciones</td>\n",
       "      <td>2005-04</td>\n",
       "      <td>NaN</td>\n",
       "    </tr>\n",
       "    <tr>\n",
       "      <th>20085</th>\n",
       "      <td>Asia (sin Japón)</td>\n",
       "      <td>Pernoctaciones</td>\n",
       "      <td>2005-03</td>\n",
       "      <td>NaN</td>\n",
       "    </tr>\n",
       "    <tr>\n",
       "      <th>20086</th>\n",
       "      <td>Asia (sin Japón)</td>\n",
       "      <td>Pernoctaciones</td>\n",
       "      <td>2005-02</td>\n",
       "      <td>NaN</td>\n",
       "    </tr>\n",
       "    <tr>\n",
       "      <th>20087</th>\n",
       "      <td>Asia (sin Japón)</td>\n",
       "      <td>Pernoctaciones</td>\n",
       "      <td>2005-01</td>\n",
       "      <td>NaN</td>\n",
       "    </tr>\n",
       "  </tbody>\n",
       "</table>\n",
       "<p>1298 rows × 4 columns</p>\n",
       "</div>"
      ],
      "text/plain": [
       "                 Países Viajeros y pernoctaciones  Periodo  Total\n",
       "1947           Alemania                   Viajero  2020-06    NaN\n",
       "1948           Alemania                   Viajero  2020-05    NaN\n",
       "2262           Alemania            Pernoctaciones  2020-06    NaN\n",
       "2263           Alemania            Pernoctaciones  2020-05    NaN\n",
       "2577            Austria                   Viajero  2020-06    NaN\n",
       "...                 ...                       ...      ...    ...\n",
       "20083  Asia (sin Japón)            Pernoctaciones  2005-05    NaN\n",
       "20084  Asia (sin Japón)            Pernoctaciones  2005-04    NaN\n",
       "20085  Asia (sin Japón)            Pernoctaciones  2005-03    NaN\n",
       "20086  Asia (sin Japón)            Pernoctaciones  2005-02    NaN\n",
       "20087  Asia (sin Japón)            Pernoctaciones  2005-01    NaN\n",
       "\n",
       "[1298 rows x 4 columns]"
      ]
     },
     "execution_count": 66,
     "metadata": {},
     "output_type": "execute_result"
    }
   ],
   "source": [
    "df_Pais_Residencia[df_Pais_Residencia['Total'].isna()]"
   ]
  },
  {
   "cell_type": "code",
   "execution_count": null,
   "id": "9b464a2a",
   "metadata": {},
   "outputs": [
    {
     "data": {
      "application/vnd.microsoft.datawrangler.viewer.v0+json": {
       "columns": [
        {
         "name": "index",
         "rawType": "int64",
         "type": "integer"
        },
        {
         "name": "Países",
         "rawType": "object",
         "type": "string"
        },
        {
         "name": "Viajeros y pernoctaciones",
         "rawType": "object",
         "type": "string"
        },
        {
         "name": "Periodo",
         "rawType": "period[M]",
         "type": "unknown"
        },
        {
         "name": "Total",
         "rawType": "float64",
         "type": "float"
        }
       ],
       "conversionMethod": "pd.DataFrame",
       "ref": "dafcc0f8-a035-4195-8726-671dfe74b792",
       "rows": [
        [
         "11",
         "Total",
         "Viajero",
         "2024-04",
         "9394506.0"
        ],
        [
         "12",
         "Total",
         "Viajero",
         "2024-03",
         "8433226.0"
        ],
        [
         "13",
         "Total",
         "Viajero",
         "2024-02",
         "6512168.0"
        ],
        [
         "14",
         "Total",
         "Viajero",
         "2024-01",
         "5660859.0"
        ],
        [
         "15",
         "Total",
         "Viajero",
         "2023-12",
         "6586138.0"
        ],
        [
         "16",
         "Total",
         "Viajero",
         "2023-11",
         "6798815.0"
        ],
        [
         "17",
         "Total",
         "Viajero",
         "2023-10",
         "10390441.0"
        ],
        [
         "18",
         "Total",
         "Viajero",
         "2023-09",
         "11627872.0"
        ],
        [
         "19",
         "Total",
         "Viajero",
         "2023-08",
         "13266497.0"
        ],
        [
         "20",
         "Total",
         "Viajero",
         "2023-07",
         "12680483.0"
        ],
        [
         "21",
         "Total",
         "Viajero",
         "2023-06",
         "11535550.0"
        ],
        [
         "22",
         "Total",
         "Viajero",
         "2023-05",
         "10580202.0"
        ],
        [
         "23",
         "Total",
         "Viajero",
         "2023-04",
         "9829384.0"
        ],
        [
         "24",
         "Total",
         "Viajero",
         "2023-03",
         "7361364.0"
        ],
        [
         "25",
         "Total",
         "Viajero",
         "2023-02",
         "5967064.0"
        ],
        [
         "26",
         "Total",
         "Viajero",
         "2023-01",
         "5367962.0"
        ],
        [
         "27",
         "Total",
         "Viajero",
         "2022-12",
         "6054556.0"
        ],
        [
         "28",
         "Total",
         "Viajero",
         "2022-11",
         "6284698.0"
        ],
        [
         "29",
         "Total",
         "Viajero",
         "2022-10",
         "9743259.0"
        ],
        [
         "30",
         "Total",
         "Viajero",
         "2022-09",
         "11050305.0"
        ],
        [
         "31",
         "Total",
         "Viajero",
         "2022-08",
         "12889916.0"
        ],
        [
         "32",
         "Total",
         "Viajero",
         "2022-07",
         "12292936.0"
        ],
        [
         "33",
         "Total",
         "Viajero",
         "2022-06",
         "10990468.0"
        ],
        [
         "34",
         "Total",
         "Viajero",
         "2022-05",
         "9920671.0"
        ],
        [
         "35",
         "Total",
         "Viajero",
         "2022-04",
         "8689822.0"
        ],
        [
         "326",
         "Total",
         "Pernoctaciones",
         "2024-04",
         "27142842.0"
        ],
        [
         "327",
         "Total",
         "Pernoctaciones",
         "2024-03",
         "24520234.0"
        ],
        [
         "328",
         "Total",
         "Pernoctaciones",
         "2024-02",
         "18581766.0"
        ],
        [
         "329",
         "Total",
         "Pernoctaciones",
         "2024-01",
         "16491597.0"
        ],
        [
         "330",
         "Total",
         "Pernoctaciones",
         "2023-12",
         "17913857.0"
        ],
        [
         "331",
         "Total",
         "Pernoctaciones",
         "2023-11",
         "19023828.0"
        ],
        [
         "332",
         "Total",
         "Pernoctaciones",
         "2023-10",
         "32415687.0"
        ],
        [
         "333",
         "Total",
         "Pernoctaciones",
         "2023-09",
         "37980229.0"
        ],
        [
         "334",
         "Total",
         "Pernoctaciones",
         "2023-08",
         "46695607.0"
        ],
        [
         "335",
         "Total",
         "Pernoctaciones",
         "2023-07",
         "43109417.0"
        ],
        [
         "336",
         "Total",
         "Pernoctaciones",
         "2023-06",
         "36255025.0"
        ],
        [
         "337",
         "Total",
         "Pernoctaciones",
         "2023-05",
         "32187667.0"
        ],
        [
         "338",
         "Total",
         "Pernoctaciones",
         "2023-04",
         "28046754.0"
        ],
        [
         "339",
         "Total",
         "Pernoctaciones",
         "2023-03",
         "20597741.0"
        ],
        [
         "340",
         "Total",
         "Pernoctaciones",
         "2023-02",
         "16816547.0"
        ],
        [
         "341",
         "Total",
         "Pernoctaciones",
         "2023-01",
         "15472477.0"
        ],
        [
         "342",
         "Total",
         "Pernoctaciones",
         "2022-12",
         "16627833.0"
        ],
        [
         "343",
         "Total",
         "Pernoctaciones",
         "2022-11",
         "17661676.0"
        ],
        [
         "344",
         "Total",
         "Pernoctaciones",
         "2022-10",
         "29865924.0"
        ],
        [
         "345",
         "Total",
         "Pernoctaciones",
         "2022-09",
         "35999861.0"
        ],
        [
         "346",
         "Total",
         "Pernoctaciones",
         "2022-08",
         "46140100.0"
        ],
        [
         "347",
         "Total",
         "Pernoctaciones",
         "2022-07",
         "42121775.0"
        ],
        [
         "348",
         "Total",
         "Pernoctaciones",
         "2022-06",
         "35111326.0"
        ],
        [
         "349",
         "Total",
         "Pernoctaciones",
         "2022-05",
         "29785395.0"
        ],
        [
         "350",
         "Total",
         "Pernoctaciones",
         "2022-04",
         "25197638.0"
        ]
       ],
       "shape": {
        "columns": 4,
        "rows": 1600
       }
      },
      "text/html": [
       "<div>\n",
       "<style scoped>\n",
       "    .dataframe tbody tr th:only-of-type {\n",
       "        vertical-align: middle;\n",
       "    }\n",
       "\n",
       "    .dataframe tbody tr th {\n",
       "        vertical-align: top;\n",
       "    }\n",
       "\n",
       "    .dataframe thead th {\n",
       "        text-align: right;\n",
       "    }\n",
       "</style>\n",
       "<table border=\"1\" class=\"dataframe\">\n",
       "  <thead>\n",
       "    <tr style=\"text-align: right;\">\n",
       "      <th></th>\n",
       "      <th>Países</th>\n",
       "      <th>Viajeros y pernoctaciones</th>\n",
       "      <th>Periodo</th>\n",
       "      <th>Total</th>\n",
       "    </tr>\n",
       "  </thead>\n",
       "  <tbody>\n",
       "    <tr>\n",
       "      <th>11</th>\n",
       "      <td>Total</td>\n",
       "      <td>Viajero</td>\n",
       "      <td>2024-04</td>\n",
       "      <td>9394506.0</td>\n",
       "    </tr>\n",
       "    <tr>\n",
       "      <th>12</th>\n",
       "      <td>Total</td>\n",
       "      <td>Viajero</td>\n",
       "      <td>2024-03</td>\n",
       "      <td>8433226.0</td>\n",
       "    </tr>\n",
       "    <tr>\n",
       "      <th>13</th>\n",
       "      <td>Total</td>\n",
       "      <td>Viajero</td>\n",
       "      <td>2024-02</td>\n",
       "      <td>6512168.0</td>\n",
       "    </tr>\n",
       "    <tr>\n",
       "      <th>14</th>\n",
       "      <td>Total</td>\n",
       "      <td>Viajero</td>\n",
       "      <td>2024-01</td>\n",
       "      <td>5660859.0</td>\n",
       "    </tr>\n",
       "    <tr>\n",
       "      <th>15</th>\n",
       "      <td>Total</td>\n",
       "      <td>Viajero</td>\n",
       "      <td>2023-12</td>\n",
       "      <td>6586138.0</td>\n",
       "    </tr>\n",
       "    <tr>\n",
       "      <th>...</th>\n",
       "      <td>...</td>\n",
       "      <td>...</td>\n",
       "      <td>...</td>\n",
       "      <td>...</td>\n",
       "    </tr>\n",
       "    <tr>\n",
       "      <th>19876</th>\n",
       "      <td>Asia (sin Japón)</td>\n",
       "      <td>Pernoctaciones</td>\n",
       "      <td>2022-08</td>\n",
       "      <td>NaN</td>\n",
       "    </tr>\n",
       "    <tr>\n",
       "      <th>19877</th>\n",
       "      <td>Asia (sin Japón)</td>\n",
       "      <td>Pernoctaciones</td>\n",
       "      <td>2022-07</td>\n",
       "      <td>NaN</td>\n",
       "    </tr>\n",
       "    <tr>\n",
       "      <th>19878</th>\n",
       "      <td>Asia (sin Japón)</td>\n",
       "      <td>Pernoctaciones</td>\n",
       "      <td>2022-06</td>\n",
       "      <td>NaN</td>\n",
       "    </tr>\n",
       "    <tr>\n",
       "      <th>19879</th>\n",
       "      <td>Asia (sin Japón)</td>\n",
       "      <td>Pernoctaciones</td>\n",
       "      <td>2022-05</td>\n",
       "      <td>NaN</td>\n",
       "    </tr>\n",
       "    <tr>\n",
       "      <th>19880</th>\n",
       "      <td>Asia (sin Japón)</td>\n",
       "      <td>Pernoctaciones</td>\n",
       "      <td>2022-04</td>\n",
       "      <td>NaN</td>\n",
       "    </tr>\n",
       "  </tbody>\n",
       "</table>\n",
       "<p>1600 rows × 4 columns</p>\n",
       "</div>"
      ],
      "text/plain": [
       "                 Países Viajeros y pernoctaciones  Periodo      Total\n",
       "11                Total                   Viajero  2024-04  9394506.0\n",
       "12                Total                   Viajero  2024-03  8433226.0\n",
       "13                Total                   Viajero  2024-02  6512168.0\n",
       "14                Total                   Viajero  2024-01  5660859.0\n",
       "15                Total                   Viajero  2023-12  6586138.0\n",
       "...                 ...                       ...      ...        ...\n",
       "19876  Asia (sin Japón)            Pernoctaciones  2022-08        NaN\n",
       "19877  Asia (sin Japón)            Pernoctaciones  2022-07        NaN\n",
       "19878  Asia (sin Japón)            Pernoctaciones  2022-06        NaN\n",
       "19879  Asia (sin Japón)            Pernoctaciones  2022-05        NaN\n",
       "19880  Asia (sin Japón)            Pernoctaciones  2022-04        NaN\n",
       "\n",
       "[1600 rows x 4 columns]"
      ]
     },
     "execution_count": 67,
     "metadata": {},
     "output_type": "execute_result"
    }
   ],
   "source": [
    "inicio = pd.Period('2022-04', freq='M')\n",
    "fin = pd.Period('2024-04', freq='M')\n",
    "\n",
    "df_filtrado = df_Pais_Residencia[(df_Pais_Residencia['Periodo'] >= inicio) & (df_Pais_Residencia['Periodo'] <= fin)]\n",
    "\n",
    "df_filtrado"
   ]
  },
  {
   "cell_type": "code",
   "execution_count": 98,
   "id": "14144bf6",
   "metadata": {},
   "outputs": [
    {
     "name": "stderr",
     "output_type": "stream",
     "text": [
      "C:\\Users\\alope\\AppData\\Local\\Temp\\ipykernel_1876\\2793067844.py:9: SettingWithCopyWarning: \n",
      "A value is trying to be set on a copy of a slice from a DataFrame.\n",
      "Try using .loc[row_indexer,col_indexer] = value instead\n",
      "\n",
      "See the caveats in the documentation: https://pandas.pydata.org/pandas-docs/stable/user_guide/indexing.html#returning-a-view-versus-a-copy\n",
      "  df_filtrado['Periodo'] = pd.to_datetime(df_filtrado['Periodo'])\n"
     ]
    },
    {
     "data": {
      "image/png": "[encoded data removed]",
      "text/plain": [
       "<Figure size 1200x600 with 1 Axes>"
      ]
     },
     "metadata": {},
     "output_type": "display_data"
    },
    {
     "data": {
      "image/png": "[encoded data removed]",
      "text/plain": [
       "<Figure size 1200x600 with 1 Axes>"
      ]
     },
     "metadata": {},
     "output_type": "display_data"
    },
    {
     "name": "stdout",
     "output_type": "stream",
     "text": [
      "Top 5 países por número de viajeros:\n",
      "Países\n",
      "Total                          229909162.0\n",
      "Residentes en el Extranjero    115881481.0\n",
      "Residentes en España           114027681.0\n",
      "UE28 sin España                 83033359.0\n",
      "UE27_2020 sin España            61304192.0\n",
      "Name: Total, dtype: float64\n",
      "Top 5 países por ratio pernoctaciones/viajeros:\n",
      "Países\n",
      "Alemania       5.60\n",
      "Reino Unido    5.38\n",
      "Noruega        5.29\n",
      "Dinamarca      4.97\n",
      "Luxemburgo     4.94\n",
      "Name: Ratio, dtype: float64\n"
     ]
    }
   ],
   "source": [
    "import pandas as pd\n",
    "import seaborn as sns\n",
    "import matplotlib.pyplot as plt\n",
    "\n",
    "# Configurar el estilo de las gráficas\n",
    "#plt.style.use('seaborn')\n",
    "\n",
    "# Convertir Periodo a datetime\n",
    "df_filtrado['Periodo'] = pd.to_datetime(df_filtrado['Periodo'])\n",
    "\n",
    "# Pivotear los datos para separar viajeros y pernoctaciones\n",
    "df_pivot = df_filtrado.pivot_table(\n",
    "    index=['Países', 'Periodo'],\n",
    "    columns='Viajeros y pernoctaciones',\n",
    "    values='Total'\n",
    ").reset_index()\n",
    "\n",
    "# Calcular el total por país\n",
    "totales_por_pais = df_filtrado[df_filtrado['Viajeros y pernoctaciones'] == 'Viajero'].groupby('Países')['Total'].sum().sort_values(ascending=False)\n",
    "\n",
    "# Crear gráfico de barras para los top 10 países por número de viajeros\n",
    "plt.figure(figsize=(12, 6))\n",
    "totales_por_pais.head(10).plot(kind='bar')\n",
    "plt.title('Top 10 Países por Número de Viajeros')\n",
    "plt.xlabel('Países')\n",
    "plt.ylabel('Número de Viajeros')\n",
    "plt.xticks(rotation=45, ha='right')\n",
    "plt.tight_layout()\n",
    "plt.show()\n",
    "\n",
    "# Calcular la ratio pernoctaciones/viajeros\n",
    "df_ratio = df_pivot.copy()\n",
    "df_ratio['Ratio'] = df_pivot['Pernoctaciones'] / df_pivot['Viajero']\n",
    "\n",
    "# Calcular promedio de ratio por país\n",
    "ratio_promedio = df_ratio.groupby('Países')['Ratio'].mean().sort_values(ascending=False)\n",
    "\n",
    "# Crear gráfico de barras para los top 10 países por ratio de pernoctaciones/viajeros\n",
    "plt.figure(figsize=(12, 6))\n",
    "ratio_promedio.head(10).plot(kind='bar')\n",
    "plt.title('Top 10 Países por Ratio Pernoctaciones/Viajeros')\n",
    "plt.xlabel('Países')\n",
    "plt.ylabel('Ratio Pernoctaciones/Viajeros')\n",
    "plt.xticks(rotation=45, ha='right')\n",
    "plt.tight_layout()\n",
    "plt.show()\n",
    "\n",
    "# Mostrar los top 5 países por número de viajeros y su ratio\n",
    "print(\"\\\n",
    "Top 5 países por número de viajeros:\")\n",
    "top_5_viajeros = totales_por_pais.head().round(2)\n",
    "print(top_5_viajeros)\n",
    "\n",
    "print(\"\\\n",
    "Top 5 países por ratio pernoctaciones/viajeros:\")\n",
    "top_5_ratio = ratio_promedio.head().round(2)\n",
    "print(top_5_ratio)"
   ]
  },
  {
   "cell_type": "code",
   "execution_count": 68,
   "id": "280d6c4c",
   "metadata": {},
   "outputs": [
    {
     "data": {
      "text/plain": [
       "([0,\n",
       "  1,\n",
       "  2,\n",
       "  3,\n",
       "  4,\n",
       "  5,\n",
       "  6,\n",
       "  7,\n",
       "  8,\n",
       "  9,\n",
       "  10,\n",
       "  11,\n",
       "  12,\n",
       "  13,\n",
       "  14,\n",
       "  15,\n",
       "  16,\n",
       "  17,\n",
       "  18,\n",
       "  19,\n",
       "  20,\n",
       "  21,\n",
       "  22,\n",
       "  23,\n",
       "  24,\n",
       "  25,\n",
       "  26,\n",
       "  27,\n",
       "  28,\n",
       "  29,\n",
       "  30,\n",
       "  31],\n",
       " [Text(0, 0, 'Total'),\n",
       "  Text(1, 0, 'Residentes en España'),\n",
       "  Text(2, 0, 'Residentes en el Extranjero'),\n",
       "  Text(3, 0, 'Alemania'),\n",
       "  Text(4, 0, 'Austria'),\n",
       "  Text(5, 0, 'Bélgica'),\n",
       "  Text(6, 0, 'Dinamarca'),\n",
       "  Text(7, 0, 'Finlandia'),\n",
       "  Text(8, 0, 'Francia'),\n",
       "  Text(9, 0, 'Grecia'),\n",
       "  Text(10, 0, 'Irlanda'),\n",
       "  Text(11, 0, 'Italia'),\n",
       "  Text(12, 0, 'Luxemburgo'),\n",
       "  Text(13, 0, 'Países Bajos'),\n",
       "  Text(14, 0, 'Polonia'),\n",
       "  Text(15, 0, 'Portugal'),\n",
       "  Text(16, 0, 'República Checa'),\n",
       "  Text(17, 0, 'Suecia'),\n",
       "  Text(18, 0, 'Resto de la U.E.'),\n",
       "  Text(19, 0, 'Noruega'),\n",
       "  Text(20, 0, 'Reino Unido'),\n",
       "  Text(21, 0, 'Rusia'),\n",
       "  Text(22, 0, 'Suiza'),\n",
       "  Text(23, 0, 'Otros Países Europeos'),\n",
       "  Text(24, 0, 'África'),\n",
       "  Text(25, 0, 'UE28 sin España'),\n",
       "  Text(26, 0, 'UE27_2020 sin España'),\n",
       "  Text(27, 0, 'Resto del Mundo'),\n",
       "  Text(28, 0, 'América (sin EEUU)'),\n",
       "  Text(29, 0, 'Estados Unidos de América'),\n",
       "  Text(30, 0, 'Japón'),\n",
       "  Text(31, 0, 'Asia (sin Japón)')])"
      ]
     },
     "execution_count": 68,
     "metadata": {},
     "output_type": "execute_result"
    },
    {
     "data": {
      "image/png": "[encoded data removed]",
      "text/plain": [
       "<Figure size 2000x1000 with 1 Axes>"
      ]
     },
     "metadata": {},
     "output_type": "display_data"
    }
   ],
   "source": [
    "plt.figure(figsize=(20, 10))\n",
    "sns.barplot(data=df_filtrado, x='Países', y='Total', errorbar=None, hue='Viajeros y pernoctaciones')\n",
    "plt.xticks(rotation=90)"
   ]
  },
  {
   "cell_type": "code",
   "execution_count": 69,
   "id": "698171c4",
   "metadata": {},
   "outputs": [
    {
     "data": {
      "text/plain": [
       "\"['Total', 'Residentes en España', 'Residentes en el Extranjero',\\n 'Alemania', 'Austria', 'Bélgica', 'Dinamarca', 'Finlandia',\\n 'Francia', 'Grecia', 'Irlanda', 'Italia', 'Luxemburgo',\\n 'Países Bajos', 'Polonia', 'Portugal', 'República Checa', 'Suecia',\\n 'Resto de la U.E.', 'Noruega', 'Reino Unido', 'Rusia', 'Suiza',\\n 'Otros Países Europeos', 'África', 'UE28 sin España',\\n 'UE27_2020 sin España', 'Resto del Mundo', 'América (sin EEUU)',\\n 'Estados Unidos de América', 'Japón', 'Asia (sin Japón)']\""
      ]
     },
     "execution_count": 69,
     "metadata": {},
     "output_type": "execute_result"
    }
   ],
   "source": [
    "\"\"\"['Total', 'Residentes en España', 'Residentes en el Extranjero',\n",
    " 'Alemania', 'Austria', 'Bélgica', 'Dinamarca', 'Finlandia',\n",
    " 'Francia', 'Grecia', 'Irlanda', 'Italia', 'Luxemburgo',\n",
    " 'Países Bajos', 'Polonia', 'Portugal', 'República Checa', 'Suecia',\n",
    " 'Resto de la U.E.', 'Noruega', 'Reino Unido', 'Rusia', 'Suiza',\n",
    " 'Otros Países Europeos', 'África', 'UE28 sin España',\n",
    " 'UE27_2020 sin España', 'Resto del Mundo', 'América (sin EEUU)',\n",
    " 'Estados Unidos de América', 'Japón', 'Asia (sin Japón)']\"\"\""
   ]
  },
  {
   "cell_type": "code",
   "execution_count": 87,
   "id": "ad3fb0a8",
   "metadata": {},
   "outputs": [
    {
     "ename": "AttributeError",
     "evalue": "'DatetimeProperties' object has no attribute 'to_timestamp'",
     "output_type": "error",
     "traceback": [
      "\u001b[1;31m---------------------------------------------------------------------------\u001b[0m",
      "\u001b[1;31mAttributeError\u001b[0m                            Traceback (most recent call last)",
      "Cell \u001b[1;32mIn[87], line 2\u001b[0m\n\u001b[0;32m      1\u001b[0m \u001b[38;5;66;03m# Asegurarnos de que 'Periodo' sea tipo datetime para graficar\u001b[39;00m\n\u001b[1;32m----> 2\u001b[0m df_filtrado[\u001b[38;5;124m'\u001b[39m\u001b[38;5;124mPeriodo\u001b[39m\u001b[38;5;124m'\u001b[39m] \u001b[38;5;241m=\u001b[39m \u001b[43mdf_filtrado\u001b[49m\u001b[43m[\u001b[49m\u001b[38;5;124;43m'\u001b[39;49m\u001b[38;5;124;43mPeriodo\u001b[39;49m\u001b[38;5;124;43m'\u001b[39;49m\u001b[43m]\u001b[49m\u001b[38;5;241;43m.\u001b[39;49m\u001b[43mdt\u001b[49m\u001b[38;5;241;43m.\u001b[39;49m\u001b[43mto_timestamp\u001b[49m()\n",
      "\u001b[1;31mAttributeError\u001b[0m: 'DatetimeProperties' object has no attribute 'to_timestamp'"
     ]
    }
   ],
   "source": [
    "# Asegurarnos de que 'Periodo' sea tipo datetime para graficar\n",
    "df_filtrado['Periodo'] = df_filtrado['Periodo'].dt.to_timestamp()"
   ]
  },
  {
   "cell_type": "code",
   "execution_count": null,
   "id": "60e0395c",
   "metadata": {},
   "outputs": [
    {
     "data": {
      "image/png": "[encoded data removed]",
      "text/plain": [
       "<Figure size 1200x600 with 1 Axes>"
      ]
     },
     "metadata": {},
     "output_type": "display_data"
    }
   ],
   "source": [
    "import seaborn as sns\n",
    "import matplotlib.pyplot as plt\n",
    "\n",
    "# Seleccionar países de interés, por ejemplo: Francia, Alemania, Italia\n",
    "origen_seleccionado = ['Residentes en España', 'Residentes en el Extranjero']\n",
    "\n",
    "df_filtrado_origen = df_filtrado[df_filtrado['Viajeros y pernoctaciones'] == 'Viajero']\n",
    "df_filtrado_origen = df_filtrado[df_filtrado['Países'].isin(origen_seleccionado)]\n",
    "\n",
    "# Graficar\n",
    "plt.figure(figsize=(12, 6))\n",
    "sns.lineplot(data=df_filtrado_origen, x='Periodo', y='Total', hue='Países', marker='o', errorbar=None)\n",
    "plt.title('Evolución de viajeros por país')\n",
    "plt.ylabel('Total de viajeros')\n",
    "plt.xlabel('Periodo')\n",
    "plt.xticks(rotation=45)\n",
    "plt.xticks()\n",
    "plt.tight_layout()\n",
    "plt.show()"
   ]
  },
  {
   "cell_type": "code",
   "execution_count": 93,
   "id": "a7b81895",
   "metadata": {},
   "outputs": [
    {
     "data": {
      "image/png": "[encoded data removed]",
      "text/plain": [
       "<Figure size 1200x600 with 1 Axes>"
      ]
     },
     "metadata": {},
     "output_type": "display_data"
    }
   ],
   "source": [
    "# Seleccionar países de interés, por ejemplo: Francia, Alemania, Italia\n",
    "origen_seleccionado = ['Alemania', 'Austria', 'Bélgica', 'Dinamarca', 'Finlandia', 'Francia', 'Grecia', 'Irlanda', 'Italia', 'Luxemburgo', 'Países Bajos', 'Polonia',\n",
    "'Portugal', 'República Checa', 'Suecia', 'Resto de la U.E.', 'Noruega', 'Reino Unido', 'Rusia', 'Suiza', 'África', 'Resto del Mundo',\n",
    "'América (sin EEUU)', 'Estados Unidos de América', 'Japón', 'Asia (sin Japón)']\n",
    "\n",
    "df_filtrado_origen = df_filtrado[df_filtrado['Viajeros y pernoctaciones'] == 'Viajero']\n",
    "df_filtrado_origen = df_filtrado[df_filtrado['Países'].isin(origen_seleccionado)]\n",
    "\n",
    "# Graficar\n",
    "plt.figure(figsize=(12, 6))\n",
    "sns.lineplot(data=df_filtrado_origen, x='Periodo', y='Total', hue='Países', marker='o')\n",
    "plt.legend(loc='upper right', bbox_to_anchor=(1.1, 1))\n",
    "plt.title('Evolución de viajeros por país')\n",
    "plt.ylabel('Total de viajeros')\n",
    "plt.xlabel('Periodo')\n",
    "plt.xticks(rotation=45)\n",
    "plt.tight_layout()\n",
    "plt.show()"
   ]
  },
  {
   "cell_type": "code",
   "execution_count": null,
   "id": "0e019ea8",
   "metadata": {},
   "outputs": [],
   "source": [
    "import pandas as pd\n",
    "import seaborn as sns\n",
    "import matplotlib.pyplot as plt\n",
    "\n",
    "# Configurar el estilo de las gráficas\n",
    "plt.style.use('seaborn')\n",
    "\n",
    "# Leer los datos\n",
    "df = pd.read_csv('df_filtrado.csv')\n",
    "\n",
    "# Convertir Periodo a datetime\n",
    "df['Periodo'] = pd.to_datetime(df['Periodo'])\n",
    "\n",
    "# Pivotear los datos para separar viajeros y pernoctaciones\n",
    "df_pivot = df.pivot_table(\n",
    "    index=['Países', 'Periodo'],\n",
    "    columns='Viajeros y pernoctaciones',\n",
    "    values='Total'\n",
    ").reset_index()\n",
    "\n",
    "# Calcular el total por país\n",
    "totales_por_pais = df[df['Viajeros y pernoctaciones'] == 'Viajero'].groupby('Países')['Total'].sum().sort_values(ascending=False)\n",
    "\n",
    "# Crear gráfico de barras para los top 10 países por número de viajeros\n",
    "plt.figure(figsize=(12, 6))\n",
    "totales_por_pais.head(10).plot(kind='bar')\n",
    "plt.title('Top 10 Países por Número de Viajeros')\n",
    "plt.xlabel('Países')\n",
    "plt.ylabel('Número de Viajeros')\n",
    "plt.xticks(rotation=45, ha='right')\n",
    "plt.tight_layout()\n",
    "plt.show()\n",
    "\n",
    "# Calcular la ratio pernoctaciones/viajeros\n",
    "df_ratio = df_pivot.copy()\n",
    "df_ratio['Ratio'] = df_pivot['Pernoctaciones'] / df_pivot['Viajero']\n",
    "\n",
    "# Calcular promedio de ratio por país\n",
    "ratio_promedio = df_ratio.groupby('Países')['Ratio'].mean().sort_values(ascending=False)\n",
    "\n",
    "# Crear gráfico de barras para los top 10 países por ratio de pernoctaciones/viajeros\n",
    "plt.figure(figsize=(12, 6))\n",
    "ratio_promedio.head(10).plot(kind='bar')\n",
    "plt.title('Top 10 Países por Ratio Pernoctaciones/Viajeros')\n",
    "plt.xlabel('Países')\n",
    "plt.ylabel('Ratio Pernoctaciones/Viajeros')\n",
    "plt.xticks(rotation=45, ha='right')\n",
    "plt.tight_layout()\n",
    "plt.show()\n",
    "\n",
    "# Mostrar los top 5 países por número de viajeros y su ratio\n",
    "print(\"\\\n",
    "Top 5 países por número de viajeros:\")\n",
    "top_5_viajeros = totales_por_pais.head().round(2)\n",
    "print(top_5_viajeros)\n",
    "\n",
    "print(\"\\\n",
    "Top 5 países por ratio pernoctaciones/viajeros:\")\n",
    "top_5_ratio = ratio_promedio.head().round(2)\n",
    "print(top_5_ratio)"
   ]
  },
  {
   "cell_type": "code",
   "execution_count": null,
   "metadata": {},
   "outputs": [],
   "source": []
  },
  {
   "cell_type": "markdown",
   "id": "d8820497",
   "metadata": {},
   "source": [
    "# Viajeros y pernoctaciones por comunidades autónomas y provincias"
   ]
  },
  {
   "cell_type": "code",
   "execution_count": 72,
   "id": "39247eb3",
   "metadata": {},
   "outputs": [],
   "source": [
    "df_CA_Pro = pd.read_csv(r\"../Data\\2074.csv\", sep='\\t', dtype={2: str}) #Viajeros y pernoctaciones por comunidades autónomas y provincias"
   ]
  },
  {
   "cell_type": "code",
   "execution_count": 73,
   "id": "8d8f4959",
   "metadata": {},
   "outputs": [
    {
     "data": {
      "application/vnd.microsoft.datawrangler.viewer.v0+json": {
       "columns": [
        {
         "name": "index",
         "rawType": "int64",
         "type": "integer"
        },
        {
         "name": "Totales Territoriales",
         "rawType": "object",
         "type": "string"
        },
        {
         "name": "Comunidades y Ciudades Autónomas",
         "rawType": "object",
         "type": "unknown"
        },
        {
         "name": "Provincias",
         "rawType": "object",
         "type": "unknown"
        },
        {
         "name": "Viajeros y pernoctaciones",
         "rawType": "object",
         "type": "string"
        },
        {
         "name": "Residencia",
         "rawType": "object",
         "type": "unknown"
        },
        {
         "name": "Periodo",
         "rawType": "object",
         "type": "string"
        },
        {
         "name": "Total",
         "rawType": "object",
         "type": "unknown"
        }
       ],
       "conversionMethod": "pd.DataFrame",
       "ref": "6bbdeb70-5f04-4751-89b4-35636e99b20e",
       "rows": [
        [
         "0",
         "Total Nacional",
         null,
         null,
         "Viajero",
         null,
         "2025M03",
         "7.680.722"
        ],
        [
         "1",
         "Total Nacional",
         null,
         null,
         "Viajero",
         null,
         "2025M02",
         "6.539.960"
        ],
        [
         "2",
         "Total Nacional",
         null,
         null,
         "Viajero",
         null,
         "2025M01",
         "5.776.075"
        ],
        [
         "3",
         "Total Nacional",
         null,
         null,
         "Viajero",
         null,
         "2024M12",
         "6.553.489"
        ],
        [
         "4",
         "Total Nacional",
         null,
         null,
         "Viajero",
         null,
         "2024M11",
         "7.171.221"
        ],
        [
         "5",
         "Total Nacional",
         null,
         null,
         "Viajero",
         null,
         "2024M10",
         "10.774.309"
        ],
        [
         "6",
         "Total Nacional",
         null,
         null,
         "Viajero",
         null,
         "2024M09",
         "11.821.379"
        ],
        [
         "7",
         "Total Nacional",
         null,
         null,
         "Viajero",
         null,
         "2024M08",
         "13.586.095"
        ],
        [
         "8",
         "Total Nacional",
         null,
         null,
         "Viajero",
         null,
         "2024M07",
         "12.703.213"
        ],
        [
         "9",
         "Total Nacional",
         null,
         null,
         "Viajero",
         null,
         "2024M06",
         "11.905.082"
        ],
        [
         "10",
         "Total Nacional",
         null,
         null,
         "Viajero",
         null,
         "2024M05",
         "11.776.729"
        ],
        [
         "11",
         "Total Nacional",
         null,
         null,
         "Viajero",
         null,
         "2024M04",
         "9.394.506"
        ],
        [
         "12",
         "Total Nacional",
         null,
         null,
         "Viajero",
         null,
         "2024M03",
         "8.433.226"
        ],
        [
         "13",
         "Total Nacional",
         null,
         null,
         "Viajero",
         null,
         "2024M02",
         "6.512.168"
        ],
        [
         "14",
         "Total Nacional",
         null,
         null,
         "Viajero",
         null,
         "2024M01",
         "5.660.859"
        ],
        [
         "15",
         "Total Nacional",
         null,
         null,
         "Viajero",
         null,
         "2023M12",
         "6.586.138"
        ],
        [
         "16",
         "Total Nacional",
         null,
         null,
         "Viajero",
         null,
         "2023M11",
         "6.798.815"
        ],
        [
         "17",
         "Total Nacional",
         null,
         null,
         "Viajero",
         null,
         "2023M10",
         "10.390.441"
        ],
        [
         "18",
         "Total Nacional",
         null,
         null,
         "Viajero",
         null,
         "2023M09",
         "11.627.872"
        ],
        [
         "19",
         "Total Nacional",
         null,
         null,
         "Viajero",
         null,
         "2023M08",
         "13.266.497"
        ],
        [
         "20",
         "Total Nacional",
         null,
         null,
         "Viajero",
         null,
         "2023M07",
         "12.680.483"
        ],
        [
         "21",
         "Total Nacional",
         null,
         null,
         "Viajero",
         null,
         "2023M06",
         "11.535.550"
        ],
        [
         "22",
         "Total Nacional",
         null,
         null,
         "Viajero",
         null,
         "2023M05",
         "10.580.202"
        ],
        [
         "23",
         "Total Nacional",
         null,
         null,
         "Viajero",
         null,
         "2023M04",
         "9.829.384"
        ],
        [
         "24",
         "Total Nacional",
         null,
         null,
         "Viajero",
         null,
         "2023M03",
         "7.361.364"
        ],
        [
         "25",
         "Total Nacional",
         null,
         null,
         "Viajero",
         null,
         "2023M02",
         "5.967.064"
        ],
        [
         "26",
         "Total Nacional",
         null,
         null,
         "Viajero",
         null,
         "2023M01",
         "5.367.962"
        ],
        [
         "27",
         "Total Nacional",
         null,
         null,
         "Viajero",
         null,
         "2022M12",
         "6.054.556"
        ],
        [
         "28",
         "Total Nacional",
         null,
         null,
         "Viajero",
         null,
         "2022M11",
         "6.284.698"
        ],
        [
         "29",
         "Total Nacional",
         null,
         null,
         "Viajero",
         null,
         "2022M10",
         "9.743.259"
        ],
        [
         "30",
         "Total Nacional",
         null,
         null,
         "Viajero",
         null,
         "2022M09",
         "11.050.305"
        ],
        [
         "31",
         "Total Nacional",
         null,
         null,
         "Viajero",
         null,
         "2022M08",
         "12.889.916"
        ],
        [
         "32",
         "Total Nacional",
         null,
         null,
         "Viajero",
         null,
         "2022M07",
         "12.292.936"
        ],
        [
         "33",
         "Total Nacional",
         null,
         null,
         "Viajero",
         null,
         "2022M06",
         "10.990.468"
        ],
        [
         "34",
         "Total Nacional",
         null,
         null,
         "Viajero",
         null,
         "2022M05",
         "9.920.671"
        ],
        [
         "35",
         "Total Nacional",
         null,
         null,
         "Viajero",
         null,
         "2022M04",
         "8.689.822"
        ],
        [
         "36",
         "Total Nacional",
         null,
         null,
         "Viajero",
         null,
         "2022M03",
         "6.061.398"
        ],
        [
         "37",
         "Total Nacional",
         null,
         null,
         "Viajero",
         null,
         "2022M02",
         "5.133.961"
        ],
        [
         "38",
         "Total Nacional",
         null,
         null,
         "Viajero",
         null,
         "2022M01",
         "3.770.578"
        ],
        [
         "39",
         "Total Nacional",
         null,
         null,
         "Viajero",
         null,
         "2021M12",
         "4.881.952"
        ],
        [
         "40",
         "Total Nacional",
         null,
         null,
         "Viajero",
         null,
         "2021M11",
         "5.391.958"
        ],
        [
         "41",
         "Total Nacional",
         null,
         null,
         "Viajero",
         null,
         "2021M10",
         "8.131.666"
        ],
        [
         "42",
         "Total Nacional",
         null,
         null,
         "Viajero",
         null,
         "2021M09",
         "8.256.057"
        ],
        [
         "43",
         "Total Nacional",
         null,
         null,
         "Viajero",
         null,
         "2021M08",
         "10.408.035"
        ],
        [
         "44",
         "Total Nacional",
         null,
         null,
         "Viajero",
         null,
         "2021M07",
         "8.544.001"
        ],
        [
         "45",
         "Total Nacional",
         null,
         null,
         "Viajero",
         null,
         "2021M06",
         "5.676.067"
        ],
        [
         "46",
         "Total Nacional",
         null,
         null,
         "Viajero",
         null,
         "2021M05",
         "3.404.118"
        ],
        [
         "47",
         "Total Nacional",
         null,
         null,
         "Viajero",
         null,
         "2021M04",
         "1.955.719"
        ],
        [
         "48",
         "Total Nacional",
         null,
         null,
         "Viajero",
         null,
         "2021M03",
         "1.770.722"
        ],
        [
         "49",
         "Total Nacional",
         null,
         null,
         "Viajero",
         null,
         "2021M02",
         "1.179.236"
        ]
       ],
       "shape": {
        "columns": 7,
        "rows": 132300
       }
      },
      "text/html": [
       "<div>\n",
       "<style scoped>\n",
       "    .dataframe tbody tr th:only-of-type {\n",
       "        vertical-align: middle;\n",
       "    }\n",
       "\n",
       "    .dataframe tbody tr th {\n",
       "        vertical-align: top;\n",
       "    }\n",
       "\n",
       "    .dataframe thead th {\n",
       "        text-align: right;\n",
       "    }\n",
       "</style>\n",
       "<table border=\"1\" class=\"dataframe\">\n",
       "  <thead>\n",
       "    <tr style=\"text-align: right;\">\n",
       "      <th></th>\n",
       "      <th>Totales Territoriales</th>\n",
       "      <th>Comunidades y Ciudades Autónomas</th>\n",
       "      <th>Provincias</th>\n",
       "      <th>Viajeros y pernoctaciones</th>\n",
       "      <th>Residencia</th>\n",
       "      <th>Periodo</th>\n",
       "      <th>Total</th>\n",
       "    </tr>\n",
       "  </thead>\n",
       "  <tbody>\n",
       "    <tr>\n",
       "      <th>0</th>\n",
       "      <td>Total Nacional</td>\n",
       "      <td>NaN</td>\n",
       "      <td>NaN</td>\n",
       "      <td>Viajero</td>\n",
       "      <td>NaN</td>\n",
       "      <td>2025M03</td>\n",
       "      <td>7.680.722</td>\n",
       "    </tr>\n",
       "    <tr>\n",
       "      <th>1</th>\n",
       "      <td>Total Nacional</td>\n",
       "      <td>NaN</td>\n",
       "      <td>NaN</td>\n",
       "      <td>Viajero</td>\n",
       "      <td>NaN</td>\n",
       "      <td>2025M02</td>\n",
       "      <td>6.539.960</td>\n",
       "    </tr>\n",
       "    <tr>\n",
       "      <th>2</th>\n",
       "      <td>Total Nacional</td>\n",
       "      <td>NaN</td>\n",
       "      <td>NaN</td>\n",
       "      <td>Viajero</td>\n",
       "      <td>NaN</td>\n",
       "      <td>2025M01</td>\n",
       "      <td>5.776.075</td>\n",
       "    </tr>\n",
       "    <tr>\n",
       "      <th>3</th>\n",
       "      <td>Total Nacional</td>\n",
       "      <td>NaN</td>\n",
       "      <td>NaN</td>\n",
       "      <td>Viajero</td>\n",
       "      <td>NaN</td>\n",
       "      <td>2024M12</td>\n",
       "      <td>6.553.489</td>\n",
       "    </tr>\n",
       "    <tr>\n",
       "      <th>4</th>\n",
       "      <td>Total Nacional</td>\n",
       "      <td>NaN</td>\n",
       "      <td>NaN</td>\n",
       "      <td>Viajero</td>\n",
       "      <td>NaN</td>\n",
       "      <td>2024M11</td>\n",
       "      <td>7.171.221</td>\n",
       "    </tr>\n",
       "    <tr>\n",
       "      <th>...</th>\n",
       "      <td>...</td>\n",
       "      <td>...</td>\n",
       "      <td>...</td>\n",
       "      <td>...</td>\n",
       "      <td>...</td>\n",
       "      <td>...</td>\n",
       "      <td>...</td>\n",
       "    </tr>\n",
       "    <tr>\n",
       "      <th>132295</th>\n",
       "      <td>Total Nacional</td>\n",
       "      <td>19 Melilla</td>\n",
       "      <td>NaN</td>\n",
       "      <td>Pernoctaciones</td>\n",
       "      <td>Residentes en el Extranjero</td>\n",
       "      <td>1999M05</td>\n",
       "      <td>1.305</td>\n",
       "    </tr>\n",
       "    <tr>\n",
       "      <th>132296</th>\n",
       "      <td>Total Nacional</td>\n",
       "      <td>19 Melilla</td>\n",
       "      <td>NaN</td>\n",
       "      <td>Pernoctaciones</td>\n",
       "      <td>Residentes en el Extranjero</td>\n",
       "      <td>1999M04</td>\n",
       "      <td>1.668</td>\n",
       "    </tr>\n",
       "    <tr>\n",
       "      <th>132297</th>\n",
       "      <td>Total Nacional</td>\n",
       "      <td>19 Melilla</td>\n",
       "      <td>NaN</td>\n",
       "      <td>Pernoctaciones</td>\n",
       "      <td>Residentes en el Extranjero</td>\n",
       "      <td>1999M03</td>\n",
       "      <td>1.673</td>\n",
       "    </tr>\n",
       "    <tr>\n",
       "      <th>132298</th>\n",
       "      <td>Total Nacional</td>\n",
       "      <td>19 Melilla</td>\n",
       "      <td>NaN</td>\n",
       "      <td>Pernoctaciones</td>\n",
       "      <td>Residentes en el Extranjero</td>\n",
       "      <td>1999M02</td>\n",
       "      <td>1.487</td>\n",
       "    </tr>\n",
       "    <tr>\n",
       "      <th>132299</th>\n",
       "      <td>Total Nacional</td>\n",
       "      <td>19 Melilla</td>\n",
       "      <td>NaN</td>\n",
       "      <td>Pernoctaciones</td>\n",
       "      <td>Residentes en el Extranjero</td>\n",
       "      <td>1999M01</td>\n",
       "      <td>1.148</td>\n",
       "    </tr>\n",
       "  </tbody>\n",
       "</table>\n",
       "<p>132300 rows × 7 columns</p>\n",
       "</div>"
      ],
      "text/plain": [
       "       Totales Territoriales Comunidades y Ciudades Autónomas Provincias  \\\n",
       "0             Total Nacional                              NaN        NaN   \n",
       "1             Total Nacional                              NaN        NaN   \n",
       "2             Total Nacional                              NaN        NaN   \n",
       "3             Total Nacional                              NaN        NaN   \n",
       "4             Total Nacional                              NaN        NaN   \n",
       "...                      ...                              ...        ...   \n",
       "132295        Total Nacional                       19 Melilla        NaN   \n",
       "132296        Total Nacional                       19 Melilla        NaN   \n",
       "132297        Total Nacional                       19 Melilla        NaN   \n",
       "132298        Total Nacional                       19 Melilla        NaN   \n",
       "132299        Total Nacional                       19 Melilla        NaN   \n",
       "\n",
       "       Viajeros y pernoctaciones                   Residencia  Periodo  \\\n",
       "0                        Viajero                          NaN  2025M03   \n",
       "1                        Viajero                          NaN  2025M02   \n",
       "2                        Viajero                          NaN  2025M01   \n",
       "3                        Viajero                          NaN  2024M12   \n",
       "4                        Viajero                          NaN  2024M11   \n",
       "...                          ...                          ...      ...   \n",
       "132295            Pernoctaciones  Residentes en el Extranjero  1999M05   \n",
       "132296            Pernoctaciones  Residentes en el Extranjero  1999M04   \n",
       "132297            Pernoctaciones  Residentes en el Extranjero  1999M03   \n",
       "132298            Pernoctaciones  Residentes en el Extranjero  1999M02   \n",
       "132299            Pernoctaciones  Residentes en el Extranjero  1999M01   \n",
       "\n",
       "            Total  \n",
       "0       7.680.722  \n",
       "1       6.539.960  \n",
       "2       5.776.075  \n",
       "3       6.553.489  \n",
       "4       7.171.221  \n",
       "...           ...  \n",
       "132295      1.305  \n",
       "132296      1.668  \n",
       "132297      1.673  \n",
       "132298      1.487  \n",
       "132299      1.148  \n",
       "\n",
       "[132300 rows x 7 columns]"
      ]
     },
     "execution_count": 73,
     "metadata": {},
     "output_type": "execute_result"
    }
   ],
   "source": [
    "df_CA_Pro.drop(columns=['Residencia: Nivel 1'], inplace=True)\n",
    "\n",
    "df_CA_Pro.rename(columns={'Residencia: Nivel 2': 'Residencia'}, inplace=True)\n",
    "\n",
    "\n",
    "df_CA_Pro"
   ]
  },
  {
   "cell_type": "code",
   "execution_count": 74,
   "id": "b8da0ead",
   "metadata": {},
   "outputs": [
    {
     "name": "stdout",
     "output_type": "stream",
     "text": [
      "<class 'pandas.core.frame.DataFrame'>\n",
      "RangeIndex: 132300 entries, 0 to 132299\n",
      "Data columns (total 7 columns):\n",
      " #   Column                            Non-Null Count   Dtype \n",
      "---  ------                            --------------   ----- \n",
      " 0   Totales Territoriales             132300 non-null  object\n",
      " 1   Comunidades y Ciudades Autónomas  130410 non-null  object\n",
      " 2   Provincias                        94500 non-null   object\n",
      " 3   Viajeros y pernoctaciones         132300 non-null  object\n",
      " 4   Residencia                        88200 non-null   object\n",
      " 5   Periodo                           132300 non-null  object\n",
      " 6   Total                             132290 non-null  object\n",
      "dtypes: object(7)\n",
      "memory usage: 7.1+ MB\n"
     ]
    }
   ],
   "source": [
    "df_CA_Pro.info()"
   ]
  },
  {
   "cell_type": "code",
   "execution_count": 75,
   "id": "171f8c72",
   "metadata": {},
   "outputs": [],
   "source": [
    "df_CA_Pro['Periodo'] = pd.to_datetime(df_CA_Pro['Periodo'].str.replace('M', '-'), format='%Y-%m').dt.to_period('M')"
   ]
  },
  {
   "cell_type": "code",
   "execution_count": 76,
   "id": "5beef7a0",
   "metadata": {},
   "outputs": [],
   "source": [
    "df_CA_Pro['Total'] = df_CA_Pro['Total'].str.replace('.', '')  # Elimina los separadores de miles\n",
    "df_CA_Pro['Total'] = df_CA_Pro['Total'].str.replace(',', '.')  # Convierte los decimales\n",
    "df_CA_Pro['Total'] = pd.to_numeric(df_CA_Pro['Total'], errors='coerce')  # Convierte a float"
   ]
  },
  {
   "cell_type": "code",
   "execution_count": 77,
   "id": "695cab0b",
   "metadata": {},
   "outputs": [
    {
     "data": {
      "application/vnd.microsoft.datawrangler.viewer.v0+json": {
       "columns": [
        {
         "name": "index",
         "rawType": "int64",
         "type": "integer"
        },
        {
         "name": "Totales Territoriales",
         "rawType": "object",
         "type": "string"
        },
        {
         "name": "Comunidades y Ciudades Autónomas",
         "rawType": "object",
         "type": "string"
        },
        {
         "name": "Provincias",
         "rawType": "object",
         "type": "unknown"
        },
        {
         "name": "Viajeros y pernoctaciones",
         "rawType": "object",
         "type": "string"
        },
        {
         "name": "Residencia",
         "rawType": "object",
         "type": "unknown"
        },
        {
         "name": "Periodo",
         "rawType": "period[M]",
         "type": "unknown"
        },
        {
         "name": "Total",
         "rawType": "float64",
         "type": "float"
        }
       ],
       "conversionMethod": "pd.DataFrame",
       "ref": "8756be00-8fda-4ad6-a524-9e0ead8390bd",
       "rows": [
        [
         "8217",
         "Total Nacional",
         "01 Andalucía",
         "14 Córdoba",
         "Viajero",
         "Residentes en el Extranjero",
         "2022-12",
         null
        ],
        [
         "45417",
         "Total Nacional",
         "07 Castilla y León",
         "05 Ávila",
         "Viajero",
         null,
         "2020-06",
         null
        ],
        [
         "45418",
         "Total Nacional",
         "07 Castilla y León",
         "05 Ávila",
         "Viajero",
         null,
         "2020-05",
         null
        ],
        [
         "45732",
         "Total Nacional",
         "07 Castilla y León",
         "05 Ávila",
         "Viajero",
         "Residentes en España",
         "2020-06",
         null
        ],
        [
         "45733",
         "Total Nacional",
         "07 Castilla y León",
         "05 Ávila",
         "Viajero",
         "Residentes en España",
         "2020-05",
         null
        ],
        [
         "46047",
         "Total Nacional",
         "07 Castilla y León",
         "05 Ávila",
         "Viajero",
         "Residentes en el Extranjero",
         "2020-06",
         null
        ],
        [
         "46048",
         "Total Nacional",
         "07 Castilla y León",
         "05 Ávila",
         "Viajero",
         "Residentes en el Extranjero",
         "2020-05",
         null
        ],
        [
         "46362",
         "Total Nacional",
         "07 Castilla y León",
         "05 Ávila",
         "Pernoctaciones",
         null,
         "2020-06",
         null
        ],
        [
         "46363",
         "Total Nacional",
         "07 Castilla y León",
         "05 Ávila",
         "Pernoctaciones",
         null,
         "2020-05",
         null
        ],
        [
         "46677",
         "Total Nacional",
         "07 Castilla y León",
         "05 Ávila",
         "Pernoctaciones",
         "Residentes en España",
         "2020-06",
         null
        ],
        [
         "46678",
         "Total Nacional",
         "07 Castilla y León",
         "05 Ávila",
         "Pernoctaciones",
         "Residentes en España",
         "2020-05",
         null
        ],
        [
         "46992",
         "Total Nacional",
         "07 Castilla y León",
         "05 Ávila",
         "Pernoctaciones",
         "Residentes en el Extranjero",
         "2020-06",
         null
        ],
        [
         "46993",
         "Total Nacional",
         "07 Castilla y León",
         "05 Ávila",
         "Pernoctaciones",
         "Residentes en el Extranjero",
         "2020-05",
         null
        ],
        [
         "49197",
         "Total Nacional",
         "07 Castilla y León",
         "24 León",
         "Viajero",
         null,
         "2020-06",
         null
        ],
        [
         "49198",
         "Total Nacional",
         "07 Castilla y León",
         "24 León",
         "Viajero",
         null,
         "2020-05",
         null
        ],
        [
         "49512",
         "Total Nacional",
         "07 Castilla y León",
         "24 León",
         "Viajero",
         "Residentes en España",
         "2020-06",
         null
        ],
        [
         "49513",
         "Total Nacional",
         "07 Castilla y León",
         "24 León",
         "Viajero",
         "Residentes en España",
         "2020-05",
         null
        ],
        [
         "49827",
         "Total Nacional",
         "07 Castilla y León",
         "24 León",
         "Viajero",
         "Residentes en el Extranjero",
         "2020-06",
         null
        ],
        [
         "49828",
         "Total Nacional",
         "07 Castilla y León",
         "24 León",
         "Viajero",
         "Residentes en el Extranjero",
         "2020-05",
         null
        ],
        [
         "50142",
         "Total Nacional",
         "07 Castilla y León",
         "24 León",
         "Pernoctaciones",
         null,
         "2020-06",
         null
        ],
        [
         "50143",
         "Total Nacional",
         "07 Castilla y León",
         "24 León",
         "Pernoctaciones",
         null,
         "2020-05",
         null
        ],
        [
         "50457",
         "Total Nacional",
         "07 Castilla y León",
         "24 León",
         "Pernoctaciones",
         "Residentes en España",
         "2020-06",
         null
        ],
        [
         "50458",
         "Total Nacional",
         "07 Castilla y León",
         "24 León",
         "Pernoctaciones",
         "Residentes en España",
         "2020-05",
         null
        ],
        [
         "50772",
         "Total Nacional",
         "07 Castilla y León",
         "24 León",
         "Pernoctaciones",
         "Residentes en el Extranjero",
         "2020-06",
         null
        ],
        [
         "50773",
         "Total Nacional",
         "07 Castilla y León",
         "24 León",
         "Pernoctaciones",
         "Residentes en el Extranjero",
         "2020-05",
         null
        ],
        [
         "51087",
         "Total Nacional",
         "07 Castilla y León",
         "34 Palencia",
         "Viajero",
         null,
         "2020-06",
         null
        ],
        [
         "51088",
         "Total Nacional",
         "07 Castilla y León",
         "34 Palencia",
         "Viajero",
         null,
         "2020-05",
         null
        ],
        [
         "51402",
         "Total Nacional",
         "07 Castilla y León",
         "34 Palencia",
         "Viajero",
         "Residentes en España",
         "2020-06",
         null
        ],
        [
         "51403",
         "Total Nacional",
         "07 Castilla y León",
         "34 Palencia",
         "Viajero",
         "Residentes en España",
         "2020-05",
         null
        ],
        [
         "51717",
         "Total Nacional",
         "07 Castilla y León",
         "34 Palencia",
         "Viajero",
         "Residentes en el Extranjero",
         "2020-06",
         null
        ],
        [
         "51718",
         "Total Nacional",
         "07 Castilla y León",
         "34 Palencia",
         "Viajero",
         "Residentes en el Extranjero",
         "2020-05",
         null
        ],
        [
         "52032",
         "Total Nacional",
         "07 Castilla y León",
         "34 Palencia",
         "Pernoctaciones",
         null,
         "2020-06",
         null
        ],
        [
         "52033",
         "Total Nacional",
         "07 Castilla y León",
         "34 Palencia",
         "Pernoctaciones",
         null,
         "2020-05",
         null
        ],
        [
         "52347",
         "Total Nacional",
         "07 Castilla y León",
         "34 Palencia",
         "Pernoctaciones",
         "Residentes en España",
         "2020-06",
         null
        ],
        [
         "52348",
         "Total Nacional",
         "07 Castilla y León",
         "34 Palencia",
         "Pernoctaciones",
         "Residentes en España",
         "2020-05",
         null
        ],
        [
         "52662",
         "Total Nacional",
         "07 Castilla y León",
         "34 Palencia",
         "Pernoctaciones",
         "Residentes en el Extranjero",
         "2020-06",
         null
        ],
        [
         "52663",
         "Total Nacional",
         "07 Castilla y León",
         "34 Palencia",
         "Pernoctaciones",
         "Residentes en el Extranjero",
         "2020-05",
         null
        ],
        [
         "54867",
         "Total Nacional",
         "07 Castilla y León",
         "40 Segovia",
         "Viajero",
         null,
         "2020-06",
         null
        ],
        [
         "54868",
         "Total Nacional",
         "07 Castilla y León",
         "40 Segovia",
         "Viajero",
         null,
         "2020-05",
         null
        ],
        [
         "55182",
         "Total Nacional",
         "07 Castilla y León",
         "40 Segovia",
         "Viajero",
         "Residentes en España",
         "2020-06",
         null
        ],
        [
         "55183",
         "Total Nacional",
         "07 Castilla y León",
         "40 Segovia",
         "Viajero",
         "Residentes en España",
         "2020-05",
         null
        ],
        [
         "55497",
         "Total Nacional",
         "07 Castilla y León",
         "40 Segovia",
         "Viajero",
         "Residentes en el Extranjero",
         "2020-06",
         null
        ],
        [
         "55498",
         "Total Nacional",
         "07 Castilla y León",
         "40 Segovia",
         "Viajero",
         "Residentes en el Extranjero",
         "2020-05",
         null
        ],
        [
         "55812",
         "Total Nacional",
         "07 Castilla y León",
         "40 Segovia",
         "Pernoctaciones",
         null,
         "2020-06",
         null
        ],
        [
         "55813",
         "Total Nacional",
         "07 Castilla y León",
         "40 Segovia",
         "Pernoctaciones",
         null,
         "2020-05",
         null
        ],
        [
         "56127",
         "Total Nacional",
         "07 Castilla y León",
         "40 Segovia",
         "Pernoctaciones",
         "Residentes en España",
         "2020-06",
         null
        ],
        [
         "56128",
         "Total Nacional",
         "07 Castilla y León",
         "40 Segovia",
         "Pernoctaciones",
         "Residentes en España",
         "2020-05",
         null
        ],
        [
         "56442",
         "Total Nacional",
         "07 Castilla y León",
         "40 Segovia",
         "Pernoctaciones",
         "Residentes en el Extranjero",
         "2020-06",
         null
        ],
        [
         "56443",
         "Total Nacional",
         "07 Castilla y León",
         "40 Segovia",
         "Pernoctaciones",
         "Residentes en el Extranjero",
         "2020-05",
         null
        ],
        [
         "60537",
         "Total Nacional",
         "07 Castilla y León",
         "49 Zamora",
         "Viajero",
         null,
         "2020-06",
         null
        ]
       ],
       "shape": {
        "columns": 7,
        "rows": 85
       }
      },
      "text/html": [
       "<div>\n",
       "<style scoped>\n",
       "    .dataframe tbody tr th:only-of-type {\n",
       "        vertical-align: middle;\n",
       "    }\n",
       "\n",
       "    .dataframe tbody tr th {\n",
       "        vertical-align: top;\n",
       "    }\n",
       "\n",
       "    .dataframe thead th {\n",
       "        text-align: right;\n",
       "    }\n",
       "</style>\n",
       "<table border=\"1\" class=\"dataframe\">\n",
       "  <thead>\n",
       "    <tr style=\"text-align: right;\">\n",
       "      <th></th>\n",
       "      <th>Totales Territoriales</th>\n",
       "      <th>Comunidades y Ciudades Autónomas</th>\n",
       "      <th>Provincias</th>\n",
       "      <th>Viajeros y pernoctaciones</th>\n",
       "      <th>Residencia</th>\n",
       "      <th>Periodo</th>\n",
       "      <th>Total</th>\n",
       "    </tr>\n",
       "  </thead>\n",
       "  <tbody>\n",
       "    <tr>\n",
       "      <th>8217</th>\n",
       "      <td>Total Nacional</td>\n",
       "      <td>01 Andalucía</td>\n",
       "      <td>14 Córdoba</td>\n",
       "      <td>Viajero</td>\n",
       "      <td>Residentes en el Extranjero</td>\n",
       "      <td>2022-12</td>\n",
       "      <td>NaN</td>\n",
       "    </tr>\n",
       "    <tr>\n",
       "      <th>45417</th>\n",
       "      <td>Total Nacional</td>\n",
       "      <td>07 Castilla y León</td>\n",
       "      <td>05 Ávila</td>\n",
       "      <td>Viajero</td>\n",
       "      <td>NaN</td>\n",
       "      <td>2020-06</td>\n",
       "      <td>NaN</td>\n",
       "    </tr>\n",
       "    <tr>\n",
       "      <th>45418</th>\n",
       "      <td>Total Nacional</td>\n",
       "      <td>07 Castilla y León</td>\n",
       "      <td>05 Ávila</td>\n",
       "      <td>Viajero</td>\n",
       "      <td>NaN</td>\n",
       "      <td>2020-05</td>\n",
       "      <td>NaN</td>\n",
       "    </tr>\n",
       "    <tr>\n",
       "      <th>45732</th>\n",
       "      <td>Total Nacional</td>\n",
       "      <td>07 Castilla y León</td>\n",
       "      <td>05 Ávila</td>\n",
       "      <td>Viajero</td>\n",
       "      <td>Residentes en España</td>\n",
       "      <td>2020-06</td>\n",
       "      <td>NaN</td>\n",
       "    </tr>\n",
       "    <tr>\n",
       "      <th>45733</th>\n",
       "      <td>Total Nacional</td>\n",
       "      <td>07 Castilla y León</td>\n",
       "      <td>05 Ávila</td>\n",
       "      <td>Viajero</td>\n",
       "      <td>Residentes en España</td>\n",
       "      <td>2020-05</td>\n",
       "      <td>NaN</td>\n",
       "    </tr>\n",
       "    <tr>\n",
       "      <th>...</th>\n",
       "      <td>...</td>\n",
       "      <td>...</td>\n",
       "      <td>...</td>\n",
       "      <td>...</td>\n",
       "      <td>...</td>\n",
       "      <td>...</td>\n",
       "      <td>...</td>\n",
       "    </tr>\n",
       "    <tr>\n",
       "      <th>131413</th>\n",
       "      <td>Total Nacional</td>\n",
       "      <td>19 Melilla</td>\n",
       "      <td>NaN</td>\n",
       "      <td>Pernoctaciones</td>\n",
       "      <td>NaN</td>\n",
       "      <td>2020-05</td>\n",
       "      <td>NaN</td>\n",
       "    </tr>\n",
       "    <tr>\n",
       "      <th>131727</th>\n",
       "      <td>Total Nacional</td>\n",
       "      <td>19 Melilla</td>\n",
       "      <td>NaN</td>\n",
       "      <td>Pernoctaciones</td>\n",
       "      <td>Residentes en España</td>\n",
       "      <td>2020-06</td>\n",
       "      <td>NaN</td>\n",
       "    </tr>\n",
       "    <tr>\n",
       "      <th>131728</th>\n",
       "      <td>Total Nacional</td>\n",
       "      <td>19 Melilla</td>\n",
       "      <td>NaN</td>\n",
       "      <td>Pernoctaciones</td>\n",
       "      <td>Residentes en España</td>\n",
       "      <td>2020-05</td>\n",
       "      <td>NaN</td>\n",
       "    </tr>\n",
       "    <tr>\n",
       "      <th>132042</th>\n",
       "      <td>Total Nacional</td>\n",
       "      <td>19 Melilla</td>\n",
       "      <td>NaN</td>\n",
       "      <td>Pernoctaciones</td>\n",
       "      <td>Residentes en el Extranjero</td>\n",
       "      <td>2020-06</td>\n",
       "      <td>NaN</td>\n",
       "    </tr>\n",
       "    <tr>\n",
       "      <th>132043</th>\n",
       "      <td>Total Nacional</td>\n",
       "      <td>19 Melilla</td>\n",
       "      <td>NaN</td>\n",
       "      <td>Pernoctaciones</td>\n",
       "      <td>Residentes en el Extranjero</td>\n",
       "      <td>2020-05</td>\n",
       "      <td>NaN</td>\n",
       "    </tr>\n",
       "  </tbody>\n",
       "</table>\n",
       "<p>85 rows × 7 columns</p>\n",
       "</div>"
      ],
      "text/plain": [
       "       Totales Territoriales Comunidades y Ciudades Autónomas  Provincias  \\\n",
       "8217          Total Nacional                     01 Andalucía  14 Córdoba   \n",
       "45417         Total Nacional               07 Castilla y León    05 Ávila   \n",
       "45418         Total Nacional               07 Castilla y León    05 Ávila   \n",
       "45732         Total Nacional               07 Castilla y León    05 Ávila   \n",
       "45733         Total Nacional               07 Castilla y León    05 Ávila   \n",
       "...                      ...                              ...         ...   \n",
       "131413        Total Nacional                       19 Melilla         NaN   \n",
       "131727        Total Nacional                       19 Melilla         NaN   \n",
       "131728        Total Nacional                       19 Melilla         NaN   \n",
       "132042        Total Nacional                       19 Melilla         NaN   \n",
       "132043        Total Nacional                       19 Melilla         NaN   \n",
       "\n",
       "       Viajeros y pernoctaciones                   Residencia  Periodo  Total  \n",
       "8217                     Viajero  Residentes en el Extranjero  2022-12    NaN  \n",
       "45417                    Viajero                          NaN  2020-06    NaN  \n",
       "45418                    Viajero                          NaN  2020-05    NaN  \n",
       "45732                    Viajero         Residentes en España  2020-06    NaN  \n",
       "45733                    Viajero         Residentes en España  2020-05    NaN  \n",
       "...                          ...                          ...      ...    ...  \n",
       "131413            Pernoctaciones                          NaN  2020-05    NaN  \n",
       "131727            Pernoctaciones         Residentes en España  2020-06    NaN  \n",
       "131728            Pernoctaciones         Residentes en España  2020-05    NaN  \n",
       "132042            Pernoctaciones  Residentes en el Extranjero  2020-06    NaN  \n",
       "132043            Pernoctaciones  Residentes en el Extranjero  2020-05    NaN  \n",
       "\n",
       "[85 rows x 7 columns]"
      ]
     },
     "execution_count": 77,
     "metadata": {},
     "output_type": "execute_result"
    }
   ],
   "source": [
    "df_CA_Pro[df_CA_Pro['Total'].isna()]"
   ]
  }
 ],
 "metadata": {
  "kernelspec": {
   "display_name": "Python 3",
   "language": "python",
   "name": "python3"
  },
  "language_info": {
   "codemirror_mode": {
    "name": "ipython",
    "version": 3
   },
   "file_extension": ".py",
   "mimetype": "text/x-python",
   "name": "python",
   "nbconvert_exporter": "python",
   "pygments_lexer": "ipython3",
   "version": "3.12.5"
  }
 },
 "nbformat": 4,
 "nbformat_minor": 5
}
