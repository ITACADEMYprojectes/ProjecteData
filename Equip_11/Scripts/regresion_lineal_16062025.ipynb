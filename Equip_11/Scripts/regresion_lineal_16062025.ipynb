{
 "cells": [
  {
   "cell_type": "code",
   "execution_count": 1,
   "id": "695000de",
   "metadata": {},
   "outputs": [],
   "source": [
    "import numpy as np                  \n",
    "import pandas as pd                \n",
    "import matplotlib.pyplot as plt    \n",
    "import seaborn as sns\n",
    "import mysql.connector\n",
    "from mysql.connector import Error\n",
    "import statsmodels.api as sm"
   ]
  },
  {
   "cell_type": "code",
   "execution_count": 2,
   "id": "7bcefcf2",
   "metadata": {},
   "outputs": [],
   "source": [
    "def cargar_tablas_a_dataframes(host, database, user, password):\n",
    "    \"\"\"\n",
    "    Se conecta a una base de datos MySQL y carga todas las tablas como DataFrames de Pandas\n",
    "    con nombres dinámicos en el entorno global (ej. df_nombreTabla).\n",
    "    \"\"\"\n",
    "    try:\n",
    "        connection = mysql.connector.connect(\n",
    "            host=host,\n",
    "            database=database,\n",
    "            user=user,\n",
    "            password=password\n",
    "        )\n",
    "\n",
    "        if connection.is_connected():\n",
    "            cursor = connection.cursor()  # Creación de un cursor para ejecutar consultas SQL\n",
    "            cursor.execute(\"SHOW TABLES\")  # Se ejecuta la consulta \"SHOW TABLES\" para listar las tablas\n",
    "\n",
    "            tablas = [tabla[0] for tabla in cursor.fetchall()]  # Se obtienen los nombres de las tablas\n",
    "\n",
    "            for tabla in tablas:\n",
    "                cursor.execute(f\"SELECT * FROM {tabla}\")  # Se extraen los datos de cada tabla\n",
    "                columnas = [columna[0] for columna in cursor.description]  # Nombres de columnas\n",
    "                globals()[f'df_{tabla}'] = pd.DataFrame(cursor.fetchall(), columns=columnas)  # DataFrame dinámico\n",
    "                print(f'df_{tabla}')  # Mostrar el nombre del DataFrame creado\n",
    "\n",
    "    except Error as e:\n",
    "        print(\"Error while connecting to MySQL:\", e)  # Manejo de errores\n",
    "\n",
    "    finally:\n",
    "        if 'connection' in locals() and connection.is_connected():\n",
    "            cursor.close()  # Cierra el cursor\n",
    "            connection.close()  # Cierra la conexión\n",
    "            print(\"MySQL connection is closed\")  # Mensaje de cierre"
   ]
  },
  {
   "cell_type": "code",
   "execution_count": 3,
   "id": "fc4777e6",
   "metadata": {},
   "outputs": [
    {
     "name": "stdout",
     "output_type": "stream",
     "text": [
      "df_RRHH\n",
      "df_RRHH_16062025\n",
      "MySQL connection is closed\n"
     ]
    }
   ],
   "source": [
    "cargar_tablas_a_dataframes('212.227.90.6', 'Equip_11', 'Equipo11', 'E1q2u3i4p5o11')"
   ]
  },
  {
   "cell_type": "code",
   "execution_count": 13,
   "id": "661b405d",
   "metadata": {},
   "outputs": [],
   "source": [
    "# Muestra todas las columnas\n",
    "pd.set_option('display.max_columns', None)\n",
    "\n",
    "# Opcional: muestra todo el ancho (evita recortes por pantalla estrecha)\n",
    "pd.set_option('display.width', None)\n",
    "\n",
    "# Opcional: ajusta el ancho máximo de cada columna si es muy largo\n",
    "pd.set_option('display.max_colwidth', None)"
   ]
  },
  {
   "cell_type": "markdown",
   "id": "9af83333",
   "metadata": {},
   "source": [
    "### REGRESION LINEAL DEL MODELO"
   ]
  },
  {
   "cell_type": "code",
   "execution_count": 17,
   "id": "dbff8dac",
   "metadata": {},
   "outputs": [
    {
     "name": "stdout",
     "output_type": "stream",
     "text": [
      "                            OLS Regression Results                            \n",
      "==============================================================================\n",
      "Dep. Variable:      Absenteeism_hours   R-squared:                       0.272\n",
      "Model:                            OLS   Adj. R-squared:                  0.209\n",
      "Method:                 Least Squares   F-statistic:                     4.307\n",
      "Date:                Tue, 17 Jun 2025   Prob (F-statistic):           3.69e-21\n",
      "Time:                        12:53:56   Log-Likelihood:                -2848.7\n",
      "No. Observations:                 740   AIC:                             5817.\n",
      "Df Residuals:                     680   BIC:                             6094.\n",
      "Df Model:                          59                                         \n",
      "Covariance Type:            nonrobust                                         \n",
      "===========================================================================================\n",
      "                              coef    std err          t      P>|t|      [0.025      0.975]\n",
      "-------------------------------------------------------------------------------------------\n",
      "const                     -52.9440     79.405     -0.667      0.505    -208.853     102.965\n",
      "Transportation_expense      0.0127      0.009      1.355      0.176      -0.006       0.031\n",
      "Distance_Residence_Work    -0.0393      0.051     -0.775      0.439      -0.139       0.060\n",
      "Service_time                0.1510      0.198      0.763      0.446      -0.238       0.540\n",
      "Age                         0.1816      0.115      1.579      0.115      -0.044       0.408\n",
      "Work_load_Average_day      -0.0138      0.015     -0.948      0.344      -0.042       0.015\n",
      "Hit_target                  0.0975      0.207      0.472      0.637      -0.308       0.503\n",
      "Disciplinary_failure       -8.2403      2.790     -2.953      0.003     -13.719      -2.761\n",
      "Education                  -1.7222      0.847     -2.032      0.043      -3.386      -0.058\n",
      "Son                         0.9582      0.499      1.919      0.055      -0.022       1.939\n",
      "Social_drinker             -0.3863      1.500     -0.258      0.797      -3.332       2.559\n",
      "Social_smoker              -1.6085      2.048     -0.786      0.432      -5.629       2.412\n",
      "Pet                        -0.4122      0.510     -0.809      0.419      -1.413       0.589\n",
      "Weight                     -0.0608      0.482     -0.126      0.900      -1.006       0.885\n",
      "Height                      0.3010      0.437      0.688      0.492      -0.558       1.160\n",
      "Body_mass_index            -0.0849      1.380     -0.062      0.951      -2.794       2.624\n",
      "Reason_absence_1            1.3944      3.668      0.380      0.704      -5.808       8.597\n",
      "Reason_absence_2           15.7036     12.092      1.299      0.194      -8.038      39.446\n",
      "Reason_absence_3            0.8395     11.956      0.070      0.944     -22.636      24.315\n",
      "Reason_absence_4           -4.0100      8.744     -0.459      0.647     -21.179      13.159\n",
      "Reason_absence_5           -2.1985      7.052     -0.312      0.755     -16.044      11.647\n",
      "Reason_absence_6           11.5258      4.614      2.498      0.013       2.466      20.585\n",
      "Reason_absence_7            2.5578      3.683      0.694      0.488      -4.674       9.790\n",
      "Reason_absence_8           -0.9461      5.205     -0.182      0.856     -11.165       9.273\n",
      "Reason_absence_9           33.2781      6.289      5.291      0.000      20.930      45.626\n",
      "Reason_absence_10           2.5212      3.164      0.797      0.426      -3.691       8.734\n",
      "Reason_absence_11           4.0763      3.102      1.314      0.189      -2.015      10.168\n",
      "Reason_absence_12          16.0372      4.598      3.488      0.001       7.009      25.066\n",
      "Reason_absence_13           8.2920      2.592      3.200      0.001       3.204      13.380\n",
      "Reason_absence_14           0.1586      3.377      0.047      0.963      -6.472       6.789\n",
      "Reason_absence_15          -4.4228      8.582     -0.515      0.606     -21.274      12.428\n",
      "Reason_absence_16          -5.7189      7.287     -0.785      0.433     -20.027       8.589\n",
      "Reason_absence_17          -0.1850     12.004     -0.015      0.988     -23.753      23.383\n",
      "Reason_absence_18           2.3205      3.253      0.713      0.476      -4.067       8.708\n",
      "Reason_absence_19           9.9617      2.744      3.630      0.000       4.574      15.350\n",
      "Reason_absence_21          -0.7734      5.260     -0.147      0.883     -11.100       9.553\n",
      "Reason_absence_22           0.4350      2.837      0.153      0.878      -5.136       6.006\n",
      "Reason_absence_23          -4.4561      2.239     -1.990      0.047      -8.853      -0.059\n",
      "Reason_absence_24          -0.4235      7.121     -0.059      0.953     -14.406      13.559\n",
      "Reason_absence_25          -4.1084      2.968     -1.384      0.167      -9.936       1.719\n",
      "Reason_absence_26          -1.4525      2.969     -0.489      0.625      -7.281       4.376\n",
      "Reason_absence_27          -1.9542      2.697     -0.725      0.469      -7.249       3.341\n",
      "Reason_absence_28          -5.2878      2.340     -2.260      0.024      -9.883      -0.693\n",
      "Month_absence_1             8.5061     11.617      0.732      0.464     -14.303      31.315\n",
      "Month_absence_2             8.8843     11.532      0.770      0.441     -13.758      31.527\n",
      "Month_absence_3             1.2664      3.128      0.405      0.686      -4.875       7.408\n",
      "Month_absence_4             1.8388      3.220      0.571      0.568      -4.483       8.161\n",
      "Month_absence_5            -0.7156      3.191     -0.224      0.823      -6.982       5.551\n",
      "Month_absence_6             4.1624     11.682      0.356      0.722     -18.774      27.099\n",
      "Month_absence_7             5.7486     11.719      0.491      0.624     -17.260      28.758\n",
      "Month_absence_8             2.2604     11.800      0.192      0.848     -20.909      25.430\n",
      "Month_absence_9             6.7136     11.411      0.588      0.556     -15.691      29.118\n",
      "Month_absence_10            6.4334     11.282      0.570      0.569     -15.719      28.586\n",
      "Month_absence_11            6.9512     11.236      0.619      0.536     -15.111      29.013\n",
      "Month_absence_12           12.8744     11.566      1.113      0.266      -9.834      35.583\n",
      "Day_week_3                 -0.6357      1.407     -0.452      0.652      -3.398       2.127\n",
      "Day_week_4                 -1.4534      1.380     -1.053      0.293      -4.163       1.256\n",
      "Day_week_5                 -3.4116      1.473     -2.316      0.021      -6.304      -0.520\n",
      "Day_week_6                 -2.4685      1.456     -1.695      0.091      -5.328       0.391\n",
      "Seasons_2                  -2.9887     17.255     -0.173      0.863     -36.868      30.891\n",
      "Seasons_3                  -7.0548     17.917     -0.394      0.694     -42.234      28.125\n",
      "Seasons_4                   2.3896      8.740      0.273      0.785     -14.771      19.550\n",
      "==============================================================================\n",
      "Omnibus:                      748.730   Durbin-Watson:                   0.410\n",
      "Prob(Omnibus):                  0.000   Jarque-Bera (JB):            34624.078\n",
      "Skew:                           4.699   Prob(JB):                         0.00\n",
      "Kurtosis:                      35.166   Cond. No.                     1.01e+16\n",
      "==============================================================================\n",
      "\n",
      "Notes:\n",
      "[1] Standard Errors assume that the covariance matrix of the errors is correctly specified.\n",
      "[2] The smallest eigenvalue is 1.26e-24. This might indicate that there are\n",
      "strong multicollinearity problems or that the design matrix is singular.\n"
     ]
    }
   ],
   "source": [
    "# 1. Cargar y limpiar datos\n",
    "df = df_RRHH.copy()\n",
    "df = df.dropna()\n",
    "\n",
    "# 2. Convertir variables categóricas a dummies\n",
    "df = pd.get_dummies(df, columns=['Reason_absence', 'Month_absence', 'Day_week', 'Seasons'], drop_first=True)\n",
    "\n",
    "# 3. Separar variables\n",
    "X = df.drop(columns=['ID', 'Absenteeism_hours'])\n",
    "y = df['Absenteeism_hours']\n",
    "\n",
    "# 4. Convertir booleanos a enteros\n",
    "bool_cols = X.select_dtypes(include='bool').columns\n",
    "X[bool_cols] = X[bool_cols].astype(int)\n",
    "\n",
    "# 5. Reemplazar comas por puntos en columnas tipo texto (european decimal format)\n",
    "X = X.apply(lambda col: col.str.replace(',', '.').str.strip() if col.dtype == 'object' else col)\n",
    "\n",
    "# 6. Convertir todo a numérico\n",
    "X = X.apply(pd.to_numeric, errors='raise')\n",
    "y = pd.to_numeric(y, errors='raise')\n",
    "\n",
    "# 7. Eliminar valores faltantes\n",
    "X = X.dropna()\n",
    "y = y.loc[X.index]\n",
    "\n",
    "# 8. Ajustar modelo\n",
    "X = sm.add_constant(X)\n",
    "modelo = sm.OLS(y, X).fit()\n",
    "\n",
    "# 9. Resultados\n",
    "print(modelo.summary())"
   ]
  },
  {
   "cell_type": "markdown",
   "id": "e628ae8f",
   "metadata": {},
   "source": [
    "### VARIABLES MAS SIGNIFICATIVAS"
   ]
  },
  {
   "cell_type": "code",
   "execution_count": 20,
   "id": "33084fb4",
   "metadata": {},
   "outputs": [
    {
     "name": "stdout",
     "output_type": "stream",
     "text": [
      "Variables significativamente asociadas al absentismo:\n",
      "\n",
      "                          Coef.         P>|t|\n",
      "Reason_absence_9      33.278091  1.638355e-07\n",
      "Reason_absence_12     16.037245  5.185131e-04\n",
      "Reason_absence_6      11.525765  1.272543e-02\n",
      "Reason_absence_19      9.961707  3.045968e-04\n",
      "Reason_absence_13      8.291991  1.439789e-03\n",
      "Disciplinary_failure  -8.240291  3.255561e-03\n",
      "Reason_absence_28     -5.287792  2.416287e-02\n",
      "Reason_absence_23     -4.456095  4.700086e-02\n",
      "Day_week_5            -3.411638  2.084583e-02\n",
      "Education             -1.722168  4.253604e-02\n"
     ]
    }
   ],
   "source": [
    "# Obtener resumen del modelo como DataFrame\n",
    "summary_df = modelo.summary2().tables[1]\n",
    "\n",
    "# Filtrar variables con p-valor < 0.05\n",
    "significant_vars = summary_df[summary_df['P>|t|'] < 0.05]\n",
    "\n",
    "# Ordenar por importancia del coeficiente (absoluto)\n",
    "significant_vars = significant_vars.reindex(significant_vars['Coef.'].abs().sort_values(ascending=False).index)\n",
    "\n",
    "# Mostrar solo columnas relevantes\n",
    "print(\"Variables significativamente asociadas al absentismo:\\n\")\n",
    "print(significant_vars[['Coef.', 'P>|t|']])"
   ]
  },
  {
   "cell_type": "markdown",
   "id": "0a1a376e",
   "metadata": {},
   "source": [
    "### GRAFICO VARIABLES MAS SIGNIFICATIVAS"
   ]
  },
  {
   "cell_type": "code",
   "execution_count": 21,
   "id": "c0fdc9f7",
   "metadata": {},
   "outputs": [
    {
     "name": "stderr",
     "output_type": "stream",
     "text": [
      "C:\\Users\\santy\\AppData\\Local\\Temp\\ipykernel_43928\\1054142792.py:8: FutureWarning: \n",
      "\n",
      "Passing `palette` without assigning `hue` is deprecated and will be removed in v0.14.0. Assign the `y` variable to `hue` and set `legend=False` for the same effect.\n",
      "\n",
      "  sns.barplot(\n"
     ]
    },
    {
     "data": {
      "image/png": "[encoded data removed]",
      "text/plain": [
       "<Figure size 1000x600 with 1 Axes>"
      ]
     },
     "metadata": {},
     "output_type": "display_data"
    }
   ],
   "source": [
    "# Extraer variables significativas como antes\n",
    "summary_df = modelo.summary2().tables[1]\n",
    "significant_vars = summary_df[summary_df['P>|t|'] < 0.05]\n",
    "significant_vars = significant_vars.reindex(significant_vars['Coef.'].abs().sort_values(ascending=False).index)\n",
    "\n",
    "# Crear gráfico\n",
    "plt.figure(figsize=(10, 6))\n",
    "sns.barplot(\n",
    "    y=significant_vars.index,\n",
    "    x=significant_vars['Coef.'],\n",
    "    palette='coolwarm',\n",
    "    orient='h'\n",
    ")\n",
    "\n",
    "plt.axvline(0, color='gray', linestyle='--')\n",
    "plt.title('Variables significativas asociadas al absentismo laboral')\n",
    "plt.xlabel('Impacto estimado en horas de absentismo')\n",
    "plt.ylabel('Variable')\n",
    "plt.tight_layout()\n",
    "plt.show()"
   ]
  }
 ],
 "metadata": {
  "kernelspec": {
   "display_name": "Python 3",
   "language": "python",
   "name": "python3"
  },
  "language_info": {
   "codemirror_mode": {
    "name": "ipython",
    "version": 3
   },
   "file_extension": ".py",
   "mimetype": "text/x-python",
   "name": "python",
   "nbconvert_exporter": "python",
   "pygments_lexer": "ipython3",
   "version": "3.13.2"
  }
 },
 "nbformat": 4,
 "nbformat_minor": 5
}
