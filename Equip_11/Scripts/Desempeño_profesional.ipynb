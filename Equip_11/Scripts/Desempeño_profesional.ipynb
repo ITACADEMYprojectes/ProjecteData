{
 "cells": [
  {
   "cell_type": "code",
   "execution_count": null,
   "id": "bb2a810f",
   "metadata": {},
   "outputs": [],
   "source": [
    "import numpy as np                  \n",
    "import pandas as pd                \n",
    "import matplotlib.pyplot as plt    \n",
    "import seaborn as sns\n",
    "import mysql.connector\n",
    "from mysql.connector import Error"
   ]
  },
  {
   "cell_type": "code",
   "execution_count": null,
   "id": "3fdb687e",
   "metadata": {},
   "outputs": [],
   "source": [
    "def cargar_tablas_a_dataframes(host, database, user, password):\n",
    "    \"\"\"\n",
    "    Se conecta a una base de datos MySQL y carga todas las tablas como DataFrames de Pandas\n",
    "    con nombres dinámicos en el entorno global (ej. df_nombreTabla).\n",
    "    \"\"\"\n",
    "    try:\n",
    "        connection = mysql.connector.connect(\n",
    "            host=host,\n",
    "            database=database,\n",
    "            user=user,\n",
    "            password=password\n",
    "        )\n",
    "\n",
    "        if connection.is_connected():\n",
    "            cursor = connection.cursor()  # Creación de un cursor para ejecutar consultas SQL\n",
    "            cursor.execute(\"SHOW TABLES\")  # Se ejecuta la consulta \"SHOW TABLES\" para listar las tablas\n",
    "\n",
    "            tablas = [tabla[0] for tabla in cursor.fetchall()]  # Se obtienen los nombres de las tablas\n",
    "\n",
    "            for tabla in tablas:\n",
    "                cursor.execute(f\"SELECT * FROM {tabla}\")  # Se extraen los datos de cada tabla\n",
    "                columnas = [columna[0] for columna in cursor.description]  # Nombres de columnas\n",
    "                globals()[f'df_{tabla}'] = pd.DataFrame(cursor.fetchall(), columns=columnas)  # DataFrame dinámico\n",
    "                print(f'df_{tabla}')  # Mostrar el nombre del DataFrame creado\n",
    "\n",
    "    except Error as e:\n",
    "        print(\"Error while connecting to MySQL:\", e)  # Manejo de errores\n",
    "\n",
    "    finally:\n",
    "        if 'connection' in locals() and connection.is_connected():\n",
    "            cursor.close()  # Cierra el cursor\n",
    "            connection.close()  # Cierra la conexión\n",
    "            print(\"MySQL connection is closed\")  # Mensaje de cierre"
   ]
  },
  {
   "cell_type": "code",
   "execution_count": null,
   "id": "e10da57e",
   "metadata": {},
   "outputs": [],
   "source": [
    "cargar_tablas_a_dataframes('212.227.90.6', 'Equip_11', 'Equipo11', 'E1q2u3i4p5o11')"
   ]
  },
  {
   "cell_type": "code",
   "execution_count": null,
   "id": "68734914",
   "metadata": {},
   "outputs": [],
   "source": [
    "df_RRHH_16062025.columns"
   ]
  },
  {
   "cell_type": "code",
   "execution_count": null,
   "id": "46c9f245",
   "metadata": {},
   "outputs": [],
   "source": [
    "df_RRHH.head(15)"
   ]
  },
  {
   "cell_type": "code",
   "execution_count": null,
   "id": "3cb4a797",
   "metadata": {},
   "outputs": [],
   "source": [
    "df_RRHH_16062025.info()"
   ]
  }
 ],
 "metadata": {
  "kernelspec": {
   "display_name": "Python 3",
   "language": "python",
   "name": "python3"
  },
  "language_info": {
   "name": "python",
   "version": "3.13.4"
  }
 },
 "nbformat": 4,
 "nbformat_minor": 5
}
