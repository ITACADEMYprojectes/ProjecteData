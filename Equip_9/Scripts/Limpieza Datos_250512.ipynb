{
 "cells": [
  {
   "cell_type": "markdown",
   "id": "1df06a72",
   "metadata": {},
   "source": [
    "# Limpieza de datos\n"
   ]
  },
  {
   "cell_type": "code",
   "execution_count": null,
   "id": "3a0ce3af",
   "metadata": {},
   "outputs": [],
   "source": [
    "import pandas as pd\n",
    "import numpy as np\n",
    "\n",
    "df = pd.read_csv(\"df_original.csv\")\n",
    "# Verificar duplicados exactos\n",
    "duplicados = df[df.duplicated()]\n",
    "print(duplicados)"
   ]
  },
  {
   "cell_type": "code",
   "execution_count": null,
   "id": "c1cadf5e",
   "metadata": {},
   "outputs": [],
   "source": [
    "\n",
    "# Mostrar filas con valores nulos\n",
    "print(\"Filas con valores nulos:\")\n",
    "print(df[df.isnull().any(axis=1)])\n",
    "\n",
    "df_cleaned = df.dropna()# Eliminar duplicados"
   ]
  },
  {
   "cell_type": "code",
   "execution_count": null,
   "id": "f3c3b8bd",
   "metadata": {},
   "outputs": [],
   "source": [
    "# Revisar qué columnas contienen exclusivamente \"yes\" y \"no\"\n",
    "for col in df_cleaned.columns:\n",
    "    unique_vals = df_cleaned[col].dropna().unique()\n",
    "    if set(unique_vals).issubset({'yes', 'no'}):\n",
    "        print(f\"La columna '{col}' contiene solo 'yes' y 'no'\")\n",
    "# cambiar age a int\n",
    "df_cleaned['age'] = df_cleaned['age'].astype(int)\n",
    "        \n",
    "\n",
    "# Cambiar tipo de dato a bol\n",
    "bool_columns = ['default', 'housing', 'loan', 'deposit']\n",
    "df_cleaned[bool_columns] = df_cleaned[bool_columns].applymap(lambda x: True if x == 'yes' else False)"
   ]
  },
  {
   "cell_type": "code",
   "execution_count": null,
   "id": "a2195abb",
   "metadata": {},
   "outputs": [],
   "source": [
    "print(df_cleaned.dtypes)\n",
    "\n",
    "# Verificar los valores únicos en columnas booleanas\n",
    "bool_columns = ['default', 'housing', 'loan', 'deposit']  \n",
    "for col in bool_columns:\n",
    "    print(f\"\\nValores únicos en '{col}': {df_cleaned[col].unique()}\")"
   ]
  },
  {
   "cell_type": "code",
   "execution_count": null,
   "id": "24d4613f",
   "metadata": {},
   "outputs": [],
   "source": [
    "# Asegurar que el mes tenga la primera letra en mayúscula, las demás en minúscula\n",
    "df_cleaned['month'] = df_cleaned['month'].str.strip().str.capitalize()\n",
    "\n",
    "# Crear una nueva columna 'date' a partir de 'day' y 'month'\n",
    "df_cleaned['date'] = pd.to_datetime(\n",
    "    df_cleaned['day'].astype(str) + '-' + df_cleaned['month'] + '-2024',\n",
    "    dayfirst=True)"
   ]
  },
  {
   "cell_type": "code",
   "execution_count": null,
   "id": "15cdce54",
   "metadata": {},
   "outputs": [],
   "source": [
    "df_cleaned"
   ]
  },
  {
   "cell_type": "code",
   "execution_count": 31,
   "id": "a6139011",
   "metadata": {},
   "outputs": [],
   "source": [
    "# Guardar el resultado \n",
    "df_cleaned.to_csv(\"df.csv\", index=False)\n",
    "\n"
   ]
  }
 ],
 "metadata": {
  "kernelspec": {
   "display_name": "Python 3",
   "language": "python",
   "name": "python3"
  },
  "language_info": {
   "codemirror_mode": {
    "name": "ipython",
    "version": 3
   },
   "file_extension": ".py",
   "mimetype": "text/x-python",
   "name": "python",
   "nbconvert_exporter": "python",
   "pygments_lexer": "ipython3",
   "version": "3.11.9"
  }
 },
 "nbformat": 4,
 "nbformat_minor": 5
}
