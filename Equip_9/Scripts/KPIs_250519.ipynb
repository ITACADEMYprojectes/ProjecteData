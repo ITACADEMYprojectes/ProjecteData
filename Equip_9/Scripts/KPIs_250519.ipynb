{
 "cells": [
  {
   "cell_type": "markdown",
   "id": "444622ba",
   "metadata": {},
   "source": [
    "# **KPI's de negoci**"
   ]
  },
  {
   "cell_type": "markdown",
   "id": "d0f40c61",
   "metadata": {},
   "source": [
    "### Libreries"
   ]
  },
  {
   "cell_type": "code",
   "execution_count": 1,
   "id": "0b3895e0",
   "metadata": {},
   "outputs": [],
   "source": [
    "\"\"\"Libreries que poden ser necessàries\"\"\"\n",
    "\n",
    "# Manejo de datos\n",
    "import pandas as pd                 # Análisis y manipulación de datos en tablas\n",
    "import numpy as np                  # Cálculos numéricos y matrices\n",
    "import os                           # Gestión de rutas de archivos\n",
    "\n",
    "# Visualización de datos\n",
    "import matplotlib.pyplot as plt     # Gráficos básicos en 2D\n",
    "import seaborn as sns               # Gráficos estadísticos mejorados\n",
    "import plotly.express as px         # Gráficos interactivos simplificados\n",
    "import plotly.graph_objects as go   # Control avanzado de gráficos en Plotly\n",
    "import plotly.io as pio             # Interfaz de entrada/salida de Plotly\n",
    "# import squarify                   # Visualización de diagramas de \"treemap\" "
   ]
  },
  {
   "cell_type": "markdown",
   "id": "3e4c072e",
   "metadata": {},
   "source": [
    "### Càrrega de dades"
   ]
  },
  {
   "cell_type": "code",
   "execution_count": 2,
   "id": "52369438",
   "metadata": {},
   "outputs": [],
   "source": [
    "df = pd.read_csv(\"../Data/df_250519.csv\")"
   ]
  },
  {
   "cell_type": "markdown",
   "id": "9feeadca",
   "metadata": {},
   "source": [
    "### Variables"
   ]
  },
  {
   "cell_type": "code",
   "execution_count": 3,
   "id": "b388de5d",
   "metadata": {},
   "outputs": [
    {
     "name": "stdout",
     "output_type": "stream",
     "text": [
      "El número total de clientes contactados es: 16163\n",
      "El número de suscriptores es: 7712\n",
      "La duración total de las llamadas a suscriptores es: 4161406\n",
      "El número de llamadas realizadas a teléfono fijo es:  3274\n",
      "El número de llamadas realizadas a móvil es:  28002\n",
      "El número total de llamadas realizadas es:  40513\n",
      "El número total de contactos previos de los suscriptores es: 9149\n",
      "La conversión por mes es:  month\n",
      "Apr    0.632210\n",
      "Aug    0.456830\n",
      "Dec    0.910256\n",
      "Feb    0.579892\n",
      "Jan    0.408537\n",
      "Jul    0.413684\n",
      "Jun    0.447770\n",
      "Mar    0.903704\n",
      "May    0.334953\n",
      "Nov    0.420236\n",
      "Oct    0.837500\n",
      "Sep    0.842333\n",
      "Name: deposit, dtype: float64\n"
     ]
    }
   ],
   "source": [
    "\n",
    "# Variables \n",
    "contactados   = df.nunique().id                                     # Número total de clientes contactados\n",
    "suscribieron  = df[df['deposit'] == True].nunique().id             # Número de clientes que suscribieron \n",
    "duracion_llam = df[df['deposit'] == True].duration.sum()           # Duración de llamadas a suscriptores\n",
    "llam_telf = df[df['contact'] == 'telephone']['campaign'].sum()      # Número de llamadas realizadas por teléfono\n",
    "llam_cell = df[df['contact'] == 'cellular']['campaign'].sum()       # Número de llamadas realizadas por movil\n",
    "llam = df['campaign'].sum()                                         # Número total de llamadas\n",
    "contatos_previos_sus = df[df['deposit'] == True]['previous'].sum() # Número de contactos previos a suscriptores\n",
    "suscribieron_por_mes = df[df['deposit'] == True].groupby('month').count()['deposit']  # Suscriptores en el mes\n",
    "contactos_por_mes = df.groupby('month').count()['deposit']          # clientes contactados en el mes      \n",
    "conversion_por_mes = suscribieron_por_mes / contactos_por_mes       # conversión por mes\n",
    "\n",
    "\n",
    "# Prints\n",
    "print(\"El número total de clientes contactados es:\",contactados)\n",
    "print(\"El número de suscriptores es:\",suscribieron)\n",
    "print(\"La duración total de las llamadas a suscriptores es:\",duracion_llam)\n",
    "print(\"El número de llamadas realizadas a teléfono fijo es: \", llam_telf)\n",
    "print(\"El número de llamadas realizadas a móvil es: \", llam_cell)\n",
    "print(\"El número total de llamadas realizadas es: \", llam)\n",
    "print(\"El número total de contactos previos de los suscriptores es:\", contatos_previos_sus)\n",
    "print(\"La conversión por mes es: \", conversion_por_mes)\n"
   ]
  },
  {
   "cell_type": "markdown",
   "id": "fe166662",
   "metadata": {},
   "source": [
    "## KPIs"
   ]
  },
  {
   "cell_type": "code",
   "execution_count": 6,
   "id": "ba09bad8",
   "metadata": {},
   "outputs": [
    {
     "name": "stdout",
     "output_type": "stream",
     "text": [
      "KPI 1: El porcentaje de conversión a depósito es  47.713914496071276 %\n",
      "KPI 2: La duración media de las llamadas a suscriptoreses 539.6014004149378\n",
      "KPI 3.1: El porcentaje de llamadas realizadas por teléfono fijo es  8.081356601584677 %\n",
      "KPI 3.2: El porcentaje de llamadas realizadas por teléfono móvil es  69.11855453804951 %\n",
      "KPI 4: El porcentaje de contactos previos a suscriptores es  1.1863329875518671\n",
      "KPI 5: El mes amb millor conversió ha sigut Dec amb una taxa de conversió de 0.9102564102564102\n"
     ]
    }
   ],
   "source": [
    "#KPIs\n",
    "kpi1 = suscribieron/contactados          # porcentaje de conversión a depósito\n",
    "kpi2 = duracion_llam/suscribieron        # promedio de duración de llamadas a suscriptores\n",
    "kpi3_tel = llam_telf/llam                # porcentaje de llamadas a teléfono\n",
    "kpi3_cell = llam_cell/llam               # porcentaje de llamadas a móvil\n",
    "kpi3 = (llam_telf+llam_cell)/llam        # porcentaje de llamadas a teléfono o móvil\n",
    "kpi4 = contatos_previos_sus/suscribieron # promedio de contactos previos a suscriptores\n",
    "kpi5 = conversion_por_mes.idxmax()       # mes con mayor tasa de conversión\n",
    "kpi5_tasa = conversion_por_mes.max()     # tasa de conversión del mes con mayor tasa de conversión\n",
    "\n",
    "\n",
    "\n",
    "\n",
    "# Prints\n",
    "print(\"KPI 1: El porcentaje de conversión a depósito es \",kpi1*100,\"%\")\n",
    "print(\"KPI 2: La duración media de las llamadas a suscriptoreses\",kpi2)\n",
    "# print(\"KPI 3: El porcentaje de llamadas realizadas por teléfono o móvil es \",kpi3*100,\"%\")\n",
    "print(\"KPI 3.1: El porcentaje de llamadas realizadas por teléfono fijo es \",kpi3_tel*100,\"%\")\n",
    "print(\"KPI 3.2: El porcentaje de llamadas realizadas por teléfono móvil es \",kpi3_cell*100,\"%\")\n",
    "print(\"KPI 4: El porcentaje de contactos previos a suscriptores es \",kpi4)\n",
    "print(\"KPI 5: El mes amb millor conversió ha sigut\", kpi5, \"amb una taxa de conversió de\", kpi5_tasa)"
   ]
  }
 ],
 "metadata": {
  "kernelspec": {
   "display_name": "Python 3",
   "language": "python",
   "name": "python3"
  },
  "language_info": {
   "codemirror_mode": {
    "name": "ipython",
    "version": 3
   },
   "file_extension": ".py",
   "mimetype": "text/x-python",
   "name": "python",
   "nbconvert_exporter": "python",
   "pygments_lexer": "ipython3",
   "version": "3.12.4"
  }
 },
 "nbformat": 4,
 "nbformat_minor": 5
}
